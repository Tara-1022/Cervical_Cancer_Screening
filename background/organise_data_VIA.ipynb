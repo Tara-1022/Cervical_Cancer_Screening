{
 "cells": [
  {
   "cell_type": "code",
   "execution_count": 1,
   "metadata": {},
   "outputs": [],
   "source": [
    "import pandas as pd\n",
    "import shutil"
   ]
  },
  {
   "cell_type": "markdown",
   "metadata": {},
   "source": [
    "# Read "
   ]
  },
  {
   "cell_type": "code",
   "execution_count": 2,
   "metadata": {},
   "outputs": [
    {
     "data": {
      "text/html": [
       "<div>\n",
       "<style scoped>\n",
       "    .dataframe tbody tr th:only-of-type {\n",
       "        vertical-align: middle;\n",
       "    }\n",
       "\n",
       "    .dataframe tbody tr th {\n",
       "        vertical-align: top;\n",
       "    }\n",
       "\n",
       "    .dataframe thead th {\n",
       "        text-align: right;\n",
       "    }\n",
       "</style>\n",
       "<table border=\"1\" class=\"dataframe\">\n",
       "  <thead>\n",
       "    <tr style=\"text-align: right;\">\n",
       "      <th></th>\n",
       "      <th>CaseNumber</th>\n",
       "      <th>CaseID</th>\n",
       "      <th>Histology findings</th>\n",
       "    </tr>\n",
       "  </thead>\n",
       "  <tbody>\n",
       "    <tr>\n",
       "      <th>74</th>\n",
       "      <td>75</td>\n",
       "      <td>ADU</td>\n",
       "      <td>Normal</td>\n",
       "    </tr>\n",
       "    <tr>\n",
       "      <th>85</th>\n",
       "      <td>86</td>\n",
       "      <td>ACY</td>\n",
       "      <td>Normal</td>\n",
       "    </tr>\n",
       "  </tbody>\n",
       "</table>\n",
       "</div>"
      ],
      "text/plain": [
       "    CaseNumber CaseID Histology findings\n",
       "74          75    ADU             Normal\n",
       "85          86    ACY             Normal"
      ]
     },
     "execution_count": 2,
     "metadata": {},
     "output_type": "execute_result"
    }
   ],
   "source": [
    "via_meta = pd.read_excel(r\"path_to\\VIA Cases Meta data.xlsx\" )\n",
    "\n",
    "via_meta = via_meta[~via_meta[\"Histology findings\"].isin((\"Not done\", ))]\n",
    "via_meta = via_meta[[\"CaseNumber\", \"CaseID\", \"Histology findings\"]]\n",
    "via_meta.head(2)"
   ]
  },
  {
   "cell_type": "code",
   "execution_count": 4,
   "metadata": {},
   "outputs": [
    {
     "data": {
      "text/html": [
       "<div>\n",
       "<style scoped>\n",
       "    .dataframe tbody tr th:only-of-type {\n",
       "        vertical-align: middle;\n",
       "    }\n",
       "\n",
       "    .dataframe tbody tr th {\n",
       "        vertical-align: top;\n",
       "    }\n",
       "\n",
       "    .dataframe thead th {\n",
       "        text-align: right;\n",
       "    }\n",
       "</style>\n",
       "<table border=\"1\" class=\"dataframe\">\n",
       "  <thead>\n",
       "    <tr style=\"text-align: right;\">\n",
       "      <th></th>\n",
       "      <th>CaseNumber</th>\n",
       "      <th>File</th>\n",
       "      <th>Type</th>\n",
       "    </tr>\n",
       "  </thead>\n",
       "  <tbody>\n",
       "    <tr>\n",
       "      <th>0</th>\n",
       "      <td>1</td>\n",
       "      <td>AFC0.jpg</td>\n",
       "      <td>Before application of acetic acid</td>\n",
       "    </tr>\n",
       "    <tr>\n",
       "      <th>1</th>\n",
       "      <td>1</td>\n",
       "      <td>AFC1.jpg</td>\n",
       "      <td>After application of acetic acid</td>\n",
       "    </tr>\n",
       "  </tbody>\n",
       "</table>\n",
       "</div>"
      ],
      "text/plain": [
       "   CaseNumber      File                               Type\n",
       "0           1  AFC0.jpg  Before application of acetic acid\n",
       "1           1  AFC1.jpg   After application of acetic acid"
      ]
     },
     "execution_count": 4,
     "metadata": {},
     "output_type": "execute_result"
    }
   ],
   "source": [
    "via_image_dat = pd.read_excel(r\"path_to\\Cases - Images.xlsx\")\n",
    "via_image_dat= via_image_dat[[\"CaseNumber\", \"File\", \"Type\"]]\n",
    "via_image_dat.head(2)"
   ]
  },
  {
   "cell_type": "code",
   "execution_count": 5,
   "metadata": {},
   "outputs": [],
   "source": [
    "def find_matches(row, df2):\n",
    "    matches = df2[df2['File'].str.startswith(row['CaseID'])]\n",
    "    return matches"
   ]
  },
  {
   "cell_type": "code",
   "execution_count": 6,
   "metadata": {},
   "outputs": [],
   "source": [
    "results = []\n",
    "\n",
    "for _, row in via_meta.iterrows():\n",
    "    matches = find_matches(row, via_image_dat)\n",
    "    for _, match in matches.iterrows():\n",
    "        print(\"FALSE:\" + str(row['CaseNumber'] ) if row['CaseNumber'] != match['CaseNumber'] else \"\", end = \"\")\n",
    "        results.append({\n",
    "            'File': match['File'],\n",
    "            'CaseID': row['CaseID'],\n",
    "            'CaseNumber': row['CaseNumber'],\n",
    "            'Type': match['Type'],\n",
    "            'Class': row['Histology findings']\n",
    "        })\n",
    "\n",
    "final_via_set = pd.DataFrame(results)"
   ]
  },
  {
   "cell_type": "code",
   "execution_count": 7,
   "metadata": {},
   "outputs": [
    {
     "data": {
      "text/html": [
       "<div>\n",
       "<style scoped>\n",
       "    .dataframe tbody tr th:only-of-type {\n",
       "        vertical-align: middle;\n",
       "    }\n",
       "\n",
       "    .dataframe tbody tr th {\n",
       "        vertical-align: top;\n",
       "    }\n",
       "\n",
       "    .dataframe thead th {\n",
       "        text-align: right;\n",
       "    }\n",
       "</style>\n",
       "<table border=\"1\" class=\"dataframe\">\n",
       "  <thead>\n",
       "    <tr style=\"text-align: right;\">\n",
       "      <th></th>\n",
       "      <th>File</th>\n",
       "      <th>CaseID</th>\n",
       "      <th>CaseNumber</th>\n",
       "      <th>Type</th>\n",
       "      <th>Class</th>\n",
       "    </tr>\n",
       "  </thead>\n",
       "  <tbody>\n",
       "    <tr>\n",
       "      <th>0</th>\n",
       "      <td>ADU0.jpg</td>\n",
       "      <td>ADU</td>\n",
       "      <td>75</td>\n",
       "      <td>Before application of acetic acid</td>\n",
       "      <td>Normal</td>\n",
       "    </tr>\n",
       "    <tr>\n",
       "      <th>1</th>\n",
       "      <td>ADU1.jpg</td>\n",
       "      <td>ADU</td>\n",
       "      <td>75</td>\n",
       "      <td>After application of acetic acid</td>\n",
       "      <td>Normal</td>\n",
       "    </tr>\n",
       "    <tr>\n",
       "      <th>2</th>\n",
       "      <td>ACY0.jpg</td>\n",
       "      <td>ACY</td>\n",
       "      <td>86</td>\n",
       "      <td>Before application of acetic acid</td>\n",
       "      <td>Normal</td>\n",
       "    </tr>\n",
       "    <tr>\n",
       "      <th>3</th>\n",
       "      <td>ACY1.jpg</td>\n",
       "      <td>ACY</td>\n",
       "      <td>86</td>\n",
       "      <td>After application of acetic acid</td>\n",
       "      <td>Normal</td>\n",
       "    </tr>\n",
       "    <tr>\n",
       "      <th>4</th>\n",
       "      <td>ADK0.jpg</td>\n",
       "      <td>ADK</td>\n",
       "      <td>88</td>\n",
       "      <td>Before application of acetic acid</td>\n",
       "      <td>LSIL-HPV changes</td>\n",
       "    </tr>\n",
       "  </tbody>\n",
       "</table>\n",
       "</div>"
      ],
      "text/plain": [
       "       File CaseID  CaseNumber                               Type  \\\n",
       "0  ADU0.jpg    ADU          75  Before application of acetic acid   \n",
       "1  ADU1.jpg    ADU          75   After application of acetic acid   \n",
       "2  ACY0.jpg    ACY          86  Before application of acetic acid   \n",
       "3  ACY1.jpg    ACY          86   After application of acetic acid   \n",
       "4  ADK0.jpg    ADK          88  Before application of acetic acid   \n",
       "\n",
       "              Class  \n",
       "0            Normal  \n",
       "1            Normal  \n",
       "2            Normal  \n",
       "3            Normal  \n",
       "4  LSIL-HPV changes  "
      ]
     },
     "execution_count": 7,
     "metadata": {},
     "output_type": "execute_result"
    }
   ],
   "source": [
    "final_via_set.head()"
   ]
  },
  {
   "cell_type": "code",
   "execution_count": 8,
   "metadata": {},
   "outputs": [
    {
     "data": {
      "text/plain": [
       "Class\n",
       "LSIL-CIN1                                                   53\n",
       "HSIL-CIN3                                                   43\n",
       "Normal                                                      35\n",
       "Squamous cell carcinoma                                     32\n",
       "LSIL-HPV changes                                            18\n",
       "HSIL-CIN2                                                   18\n",
       "Adenocarcinoma                                               4\n",
       "Microinvasive carcinoma                                      4\n",
       "Posterior lip: LSIL-HPV changes; Anterior lip: Normal        3\n",
       "Posterior lip: LSIL-CIN1; Anterior lip: LSIL-HPV changes     3\n",
       "Anterior lip (10 o’clock): LSIL-CIN1                         3\n",
       "Anterior lip: HSIL-CIN2; Posterior lip: LSIL-CIN1            3\n",
       "Posterior lip: HSIL-CIN3; Anterior lip: normal               2\n",
       "Posterior lip: LSIL-HPV changes                              2\n",
       "Invasive squamous cell carcinoma                             2\n",
       "Adenocarcinoma in situ                                       2\n",
       "Microinvasive squamous cell carcinoma                        2\n",
       "Name: count, dtype: int64"
      ]
     },
     "execution_count": 8,
     "metadata": {},
     "output_type": "execute_result"
    }
   ],
   "source": [
    "final_via_set['Class'].value_counts()\n"
   ]
  },
  {
   "cell_type": "markdown",
   "metadata": {},
   "source": [
    "# Move data"
   ]
  },
  {
   "cell_type": "code",
   "execution_count": 9,
   "metadata": {},
   "outputs": [],
   "source": [
    "def copy_images(from_to):\n",
    "    c = 0\n",
    "    for fr, to in from_to:\n",
    "        shutil.copy(fr, to)\n",
    "        c +=1\n",
    "        print(c, \"done\")"
   ]
  },
  {
   "cell_type": "code",
   "execution_count": 10,
   "metadata": {},
   "outputs": [],
   "source": [
    "BASE_PATH_FROM = r\"path_to\\VIA\"\n",
    "BASE_PATH_TO = r\"path_to_folders\""
   ]
  },
  {
   "cell_type": "markdown",
   "metadata": {},
   "source": [
    "## Manage special cases first"
   ]
  },
  {
   "cell_type": "code",
   "execution_count": 11,
   "metadata": {},
   "outputs": [
    {
     "data": {
      "text/plain": [
       "['Microinvasive carcinoma',\n",
       " 'Microinvasive squamous cell carcinoma',\n",
       " 'Squamous cell carcinoma',\n",
       " 'Invasive squamous cell carcinoma',\n",
       " 'Adenocarcinoma in situ',\n",
       " 'Adenocarcinoma']"
      ]
     },
     "execution_count": 11,
     "metadata": {},
     "output_type": "execute_result"
    }
   ],
   "source": [
    "CANCER_CLASSES  = [i for i in via_meta[\"Histology findings\"].unique() if any(w in i.lower() for w in [\"carcinoma\", \"cancer\"])]\n",
    "CANCER_CLASSES"
   ]
  },
  {
   "cell_type": "code",
   "execution_count": null,
   "metadata": {},
   "outputs": [],
   "source": [
    "# generate image list for Cancer folder\n",
    "cancer_path_to = BASE_PATH_TO + \"\\\\Cancer\\\\\"\n",
    "cancer_from_to = []\n",
    "for class_ in CANCER_CLASSES:\n",
    "    rows = final_via_set[final_via_set['Class'] == class_]\n",
    "    paths = [\n",
    "        ( BASE_PATH_FROM + \"\\\\Case {:03}\\\\{}\".format(\n",
    "            row[\"CaseNumber\"],\n",
    "            row[\"File\"]\n",
    "            ),\n",
    "          cancer_path_to + row['File'])\n",
    "            for _, row in rows.iterrows()]\n",
    "    cancer_from_to.extend(paths)\n",
    "cancer_from_to[:2]"
   ]
  },
  {
   "cell_type": "code",
   "execution_count": 13,
   "metadata": {},
   "outputs": [
    {
     "name": "stdout",
     "output_type": "stream",
     "text": [
      "1 done\n",
      "2 done\n",
      "3 done\n",
      "4 done\n",
      "5 done\n",
      "6 done\n",
      "7 done\n",
      "8 done\n",
      "9 done\n",
      "10 done\n",
      "11 done\n",
      "12 done\n",
      "13 done\n",
      "14 done\n",
      "15 done\n",
      "16 done\n",
      "17 done\n",
      "18 done\n",
      "19 done\n",
      "20 done\n",
      "21 done\n",
      "22 done\n",
      "23 done\n",
      "24 done\n",
      "25 done\n",
      "26 done\n",
      "27 done\n",
      "28 done\n",
      "29 done\n",
      "30 done\n",
      "31 done\n",
      "32 done\n",
      "33 done\n",
      "34 done\n",
      "35 done\n",
      "36 done\n",
      "37 done\n",
      "38 done\n",
      "39 done\n",
      "40 done\n",
      "41 done\n",
      "42 done\n",
      "43 done\n",
      "44 done\n",
      "45 done\n",
      "46 done\n"
     ]
    }
   ],
   "source": [
    "copy_images(cancer_from_to)"
   ]
  },
  {
   "cell_type": "markdown",
   "metadata": {},
   "source": [
    "## Move rest of images"
   ]
  },
  {
   "cell_type": "code",
   "execution_count": 14,
   "metadata": {},
   "outputs": [
    {
     "data": {
      "text/plain": [
       "{'HSIL-CIN2', 'HSIL-CIN3', 'LSIL-CIN1', 'LSIL-HPV changes', 'Normal'}"
      ]
     },
     "execution_count": 14,
     "metadata": {},
     "output_type": "execute_result"
    }
   ],
   "source": [
    "EXCLUDE = CANCER_CLASSES + [\n",
    "    \"Posterior lip: LSIL-CIN1; Anterior lip: LSIL-HPV changes\",\n",
    "     \"Posterior lip: HSIL-CIN3; Anterior lip: normal\",\n",
    "      \"Posterior lip: LSIL-HPV changes; Anterior lip: Normal\",\n",
    "        \"Anterior lip (10 o’clock): LSIL-CIN1\",\n",
    "        \"Posterior lip: LSIL-HPV changes\",\n",
    "        \"Anterior lip: HSIL-CIN2; Posterior lip: LSIL-CIN1\"]\n",
    "CLASSES = set(final_via_set['Class'].unique()).difference(set(EXCLUDE))\n",
    "CLASSES"
   ]
  },
  {
   "cell_type": "code",
   "execution_count": null,
   "metadata": {},
   "outputs": [],
   "source": [
    "all_from_to = list()\n",
    "for class_ in CLASSES:\n",
    "    rows = final_via_set[final_via_set['Class'] == class_]\n",
    "    paths = [\n",
    "        ( BASE_PATH_FROM + \"\\\\Case {:03}\\\\{}\".format(\n",
    "            row[\"CaseNumber\"],\n",
    "            row[\"File\"]\n",
    "            ),\n",
    "          BASE_PATH_TO + \"\\\\{}\\\\\".format(class_) + row['File'])\n",
    "            for _, row in rows.iterrows()]\n",
    "    all_from_to.extend(paths)\n",
    "all_from_to[:2]\n",
    "    "
   ]
  },
  {
   "cell_type": "code",
   "execution_count": 16,
   "metadata": {},
   "outputs": [
    {
     "name": "stdout",
     "output_type": "stream",
     "text": [
      "1 done\n",
      "2 done\n",
      "3 done\n",
      "4 done\n",
      "5 done\n",
      "6 done\n",
      "7 done\n",
      "8 done\n",
      "9 done\n",
      "10 done\n",
      "11 done\n",
      "12 done\n",
      "13 done\n",
      "14 done\n",
      "15 done\n",
      "16 done\n",
      "17 done\n",
      "18 done\n",
      "19 done\n",
      "20 done\n",
      "21 done\n",
      "22 done\n",
      "23 done\n",
      "24 done\n",
      "25 done\n",
      "26 done\n",
      "27 done\n",
      "28 done\n",
      "29 done\n",
      "30 done\n",
      "31 done\n",
      "32 done\n",
      "33 done\n",
      "34 done\n",
      "35 done\n",
      "36 done\n",
      "37 done\n",
      "38 done\n",
      "39 done\n",
      "40 done\n",
      "41 done\n",
      "42 done\n",
      "43 done\n",
      "44 done\n",
      "45 done\n",
      "46 done\n",
      "47 done\n",
      "48 done\n",
      "49 done\n",
      "50 done\n",
      "51 done\n",
      "52 done\n",
      "53 done\n",
      "54 done\n",
      "55 done\n",
      "56 done\n",
      "57 done\n",
      "58 done\n",
      "59 done\n",
      "60 done\n",
      "61 done\n",
      "62 done\n",
      "63 done\n",
      "64 done\n",
      "65 done\n",
      "66 done\n",
      "67 done\n",
      "68 done\n",
      "69 done\n",
      "70 done\n",
      "71 done\n",
      "72 done\n",
      "73 done\n",
      "74 done\n",
      "75 done\n",
      "76 done\n",
      "77 done\n",
      "78 done\n",
      "79 done\n",
      "80 done\n",
      "81 done\n",
      "82 done\n",
      "83 done\n",
      "84 done\n",
      "85 done\n",
      "86 done\n",
      "87 done\n",
      "88 done\n",
      "89 done\n",
      "90 done\n",
      "91 done\n",
      "92 done\n",
      "93 done\n",
      "94 done\n",
      "95 done\n",
      "96 done\n",
      "97 done\n",
      "98 done\n",
      "99 done\n",
      "100 done\n",
      "101 done\n",
      "102 done\n",
      "103 done\n",
      "104 done\n",
      "105 done\n",
      "106 done\n",
      "107 done\n",
      "108 done\n",
      "109 done\n",
      "110 done\n",
      "111 done\n",
      "112 done\n",
      "113 done\n",
      "114 done\n",
      "115 done\n",
      "116 done\n",
      "117 done\n",
      "118 done\n",
      "119 done\n",
      "120 done\n",
      "121 done\n",
      "122 done\n",
      "123 done\n",
      "124 done\n",
      "125 done\n",
      "126 done\n",
      "127 done\n",
      "128 done\n",
      "129 done\n",
      "130 done\n",
      "131 done\n",
      "132 done\n",
      "133 done\n",
      "134 done\n",
      "135 done\n",
      "136 done\n",
      "137 done\n",
      "138 done\n",
      "139 done\n",
      "140 done\n",
      "141 done\n",
      "142 done\n",
      "143 done\n",
      "144 done\n",
      "145 done\n",
      "146 done\n",
      "147 done\n",
      "148 done\n",
      "149 done\n",
      "150 done\n",
      "151 done\n",
      "152 done\n",
      "153 done\n",
      "154 done\n",
      "155 done\n",
      "156 done\n",
      "157 done\n",
      "158 done\n",
      "159 done\n",
      "160 done\n",
      "161 done\n",
      "162 done\n",
      "163 done\n",
      "164 done\n",
      "165 done\n",
      "166 done\n",
      "167 done\n"
     ]
    }
   ],
   "source": [
    "copy_images(all_from_to)"
   ]
  },
  {
   "cell_type": "markdown",
   "metadata": {},
   "source": [
    "## Final Special case"
   ]
  },
  {
   "cell_type": "code",
   "execution_count": null,
   "metadata": {},
   "outputs": [],
   "source": [
    "SPECIAL = {\n",
    "    \"Posterior lip: LSIL-CIN1; Anterior lip: LSIL-HPV changes\" : \"LSIL-CIN1\",\n",
    "    \"Posterior lip: HSIL-CIN3; Anterior lip: normal\" : \"HSIL-CIN3\",\n",
    "    \"Posterior lip: LSIL-HPV changes; Anterior lip: Normal\" : \"LSIL-HPV changes\",\n",
    "    \"Anterior lip (10 o’clock): LSIL-CIN1\" : \"LSIL-CIN1\",\n",
    "    \"Posterior lip: LSIL-HPV changes\" : \"LSIL-HPV changes\",\n",
    "    \"Anterior lip: HSIL-CIN2; Posterior lip: LSIL-CIN1\" : \"HSIL-CIN2\"\n",
    "}\n",
    "special_from_to = list()\n",
    "for label in SPECIAL.keys():\n",
    "    rows = final_via_set[final_via_set['Class'] == label]\n",
    "    paths = [\n",
    "        ( BASE_PATH_FROM + \"\\\\Case {:03}\\\\{}\".format(\n",
    "            row[\"CaseNumber\"],\n",
    "            row[\"File\"]\n",
    "            ),\n",
    "          BASE_PATH_TO + \"\\\\{}\\\\\".format(SPECIAL[label]) + row['File'])\n",
    "            for _, row in rows.iterrows()]\n",
    "    special_from_to.extend(paths)\n",
    "special_from_to[:]"
   ]
  },
  {
   "cell_type": "code",
   "execution_count": 18,
   "metadata": {},
   "outputs": [
    {
     "name": "stdout",
     "output_type": "stream",
     "text": [
      "1 done\n",
      "2 done\n",
      "3 done\n",
      "4 done\n",
      "5 done\n",
      "6 done\n",
      "7 done\n",
      "8 done\n",
      "9 done\n",
      "10 done\n",
      "11 done\n",
      "12 done\n",
      "13 done\n",
      "14 done\n",
      "15 done\n",
      "16 done\n"
     ]
    }
   ],
   "source": [
    "copy_images(special_from_to)"
   ]
  }
 ],
 "metadata": {
  "kernelspec": {
   "display_name": "Python 3",
   "language": "python",
   "name": "python3"
  },
  "language_info": {
   "codemirror_mode": {
    "name": "ipython",
    "version": 3
   },
   "file_extension": ".py",
   "mimetype": "text/x-python",
   "name": "python",
   "nbconvert_exporter": "python",
   "pygments_lexer": "ipython3",
   "version": "3.12.6"
  }
 },
 "nbformat": 4,
 "nbformat_minor": 2
}
