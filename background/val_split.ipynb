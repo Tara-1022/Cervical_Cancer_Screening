{
 "cells": [
  {
   "cell_type": "code",
   "execution_count": 1,
   "metadata": {},
   "outputs": [],
   "source": [
    "SPLIT_RATIO = 0.2"
   ]
  },
  {
   "cell_type": "code",
   "execution_count": 2,
   "metadata": {},
   "outputs": [],
   "source": [
    "import os\n",
    "import shutil\n",
    "import random"
   ]
  },
  {
   "cell_type": "code",
   "execution_count": 3,
   "metadata": {},
   "outputs": [],
   "source": [
    "def val_split(from_folder, to_folder):\n",
    "    filenames = [i for i in os.listdir(from_folder) if i.endswith(('.png', '.jpg', '.jpeg'))]\n",
    "    print(len(filenames), \"files found\")\n",
    "    move_count = int(SPLIT_RATIO * len(filenames))\n",
    "    for _ in range(move_count):\n",
    "        file = random.choice(filenames)\n",
    "        filenames.remove(file)\n",
    "        img_path = os.path.join(from_folder, file)\n",
    "        shutil.move(img_path, os.path.join(to_folder, file))\n",
    "       \n",
    "    print(\"moved\", move_count, \"images from \", from_folder)"
   ]
  },
  {
   "cell_type": "code",
   "execution_count": 5,
   "metadata": {},
   "outputs": [],
   "source": [
    "FROM = r\"C:\\Users\\taral\\OneDrive\\Documents\\Major project\\Data\\DEEPTEST\\train\"\n",
    "TO = r\"C:\\Users\\taral\\OneDrive\\Documents\\Major project\\Data\\DEEPTEST\\val\""
   ]
  },
  {
   "cell_type": "code",
   "execution_count": 6,
   "metadata": {},
   "outputs": [
    {
     "name": "stdout",
     "output_type": "stream",
     "text": [
      "713 files found\n",
      "moved 142 images from  C:\\Users\\taral\\OneDrive\\Documents\\Major project\\Data\\DEEPTEST\\train\\Abnormal\n",
      "599 files found\n",
      "moved 119 images from  C:\\Users\\taral\\OneDrive\\Documents\\Major project\\Data\\DEEPTEST\\train\\Normal\n"
     ]
    }
   ],
   "source": [
    "for folder in list(os.walk(FROM))[0][1]:\n",
    "    val_split(\n",
    "        os.path.join(FROM, folder),\n",
    "        os.path.join(TO, folder)\n",
    "    )"
   ]
  },
  {
   "cell_type": "code",
   "execution_count": null,
   "metadata": {},
   "outputs": [],
   "source": []
  }
 ],
 "metadata": {
  "kernelspec": {
   "display_name": "Python 3",
   "language": "python",
   "name": "python3"
  },
  "language_info": {
   "codemirror_mode": {
    "name": "ipython",
    "version": 3
   },
   "file_extension": ".py",
   "mimetype": "text/x-python",
   "name": "python",
   "nbconvert_exporter": "python",
   "pygments_lexer": "ipython3",
   "version": "3.10.0"
  }
 },
 "nbformat": 4,
 "nbformat_minor": 2
}
