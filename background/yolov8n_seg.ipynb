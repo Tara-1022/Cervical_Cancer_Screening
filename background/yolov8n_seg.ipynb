{
 "cells": [
  {
   "cell_type": "code",
   "execution_count": 4,
   "metadata": {},
   "outputs": [
    {
     "name": "stdout",
     "output_type": "stream",
     "text": [
      "Requirement already satisfied: ultralytics==8.2.103 in c:\\users\\taral\\appdata\\local\\programs\\python\\python310\\lib\\site-packages (8.2.103)\n",
      "Requirement already satisfied: py-cpuinfo in c:\\users\\taral\\appdata\\local\\programs\\python\\python310\\lib\\site-packages (from ultralytics==8.2.103) (9.0.0)\n",
      "Requirement already satisfied: ultralytics-thop>=2.0.0 in c:\\users\\taral\\appdata\\local\\programs\\python\\python310\\lib\\site-packages (from ultralytics==8.2.103) (2.0.13)\n",
      "Requirement already satisfied: opencv-python>=4.6.0 in c:\\users\\taral\\appdata\\local\\programs\\python\\python310\\lib\\site-packages (from ultralytics==8.2.103) (4.10.0.84)\n",
      "Requirement already satisfied: pyyaml>=5.3.1 in c:\\users\\taral\\appdata\\local\\programs\\python\\python310\\lib\\site-packages (from ultralytics==8.2.103) (6.0.2)\n",
      "Requirement already satisfied: torch>=1.8.0 in c:\\users\\taral\\appdata\\local\\programs\\python\\python310\\lib\\site-packages (from ultralytics==8.2.103) (2.5.1)\n",
      "Requirement already satisfied: psutil in c:\\users\\taral\\appdata\\roaming\\python\\python310\\site-packages (from ultralytics==8.2.103) (6.1.0)\n",
      "Requirement already satisfied: tqdm>=4.64.0 in c:\\users\\taral\\appdata\\local\\programs\\python\\python310\\lib\\site-packages (from ultralytics==8.2.103) (4.67.1)\n",
      "Requirement already satisfied: seaborn>=0.11.0 in c:\\users\\taral\\appdata\\local\\programs\\python\\python310\\lib\\site-packages (from ultralytics==8.2.103) (0.13.2)\n",
      "Requirement already satisfied: pillow>=7.1.2 in c:\\users\\taral\\appdata\\local\\programs\\python\\python310\\lib\\site-packages (from ultralytics==8.2.103) (11.0.0)\n",
      "Requirement already satisfied: scipy>=1.4.1 in c:\\users\\taral\\appdata\\local\\programs\\python\\python310\\lib\\site-packages (from ultralytics==8.2.103) (1.13.1)\n",
      "Requirement already satisfied: pandas>=1.1.4 in c:\\users\\taral\\appdata\\local\\programs\\python\\python310\\lib\\site-packages (from ultralytics==8.2.103) (2.2.3)\n",
      "Requirement already satisfied: matplotlib>=3.3.0 in c:\\users\\taral\\appdata\\local\\programs\\python\\python310\\lib\\site-packages (from ultralytics==8.2.103) (3.9.3)\n",
      "Requirement already satisfied: numpy<2.0.0,>=1.23.0 in c:\\users\\taral\\appdata\\local\\programs\\python\\python310\\lib\\site-packages (from ultralytics==8.2.103) (1.23.2)\n",
      "Requirement already satisfied: requests>=2.23.0 in c:\\users\\taral\\appdata\\local\\programs\\python\\python310\\lib\\site-packages (from ultralytics==8.2.103) (2.32.3)\n",
      "Requirement already satisfied: torchvision>=0.9.0 in c:\\users\\taral\\appdata\\local\\programs\\python\\python310\\lib\\site-packages (from ultralytics==8.2.103) (0.20.1)\n",
      "Requirement already satisfied: python-dateutil>=2.7 in c:\\users\\taral\\appdata\\roaming\\python\\python310\\site-packages (from matplotlib>=3.3.0->ultralytics==8.2.103) (2.9.0.post0)\n",
      "Requirement already satisfied: contourpy>=1.0.1 in c:\\users\\taral\\appdata\\local\\programs\\python\\python310\\lib\\site-packages (from matplotlib>=3.3.0->ultralytics==8.2.103) (1.3.1)\n",
      "Requirement already satisfied: fonttools>=4.22.0 in c:\\users\\taral\\appdata\\local\\programs\\python\\python310\\lib\\site-packages (from matplotlib>=3.3.0->ultralytics==8.2.103) (4.55.2)\n",
      "Requirement already satisfied: kiwisolver>=1.3.1 in c:\\users\\taral\\appdata\\local\\programs\\python\\python310\\lib\\site-packages (from matplotlib>=3.3.0->ultralytics==8.2.103) (1.4.7)\n",
      "Requirement already satisfied: cycler>=0.10 in c:\\users\\taral\\appdata\\local\\programs\\python\\python310\\lib\\site-packages (from matplotlib>=3.3.0->ultralytics==8.2.103) (0.12.1)\n",
      "Requirement already satisfied: packaging>=20.0 in c:\\users\\taral\\appdata\\roaming\\python\\python310\\site-packages (from matplotlib>=3.3.0->ultralytics==8.2.103) (24.2)\n",
      "Requirement already satisfied: pyparsing>=2.3.1 in c:\\users\\taral\\appdata\\local\\programs\\python\\python310\\lib\\site-packages (from matplotlib>=3.3.0->ultralytics==8.2.103) (3.2.0)\n",
      "Requirement already satisfied: tzdata>=2022.7 in c:\\users\\taral\\appdata\\local\\programs\\python\\python310\\lib\\site-packages (from pandas>=1.1.4->ultralytics==8.2.103) (2024.2)\n",
      "Requirement already satisfied: pytz>=2020.1 in c:\\users\\taral\\appdata\\local\\programs\\python\\python310\\lib\\site-packages (from pandas>=1.1.4->ultralytics==8.2.103) (2024.2)\n",
      "Requirement already satisfied: six>=1.5 in c:\\users\\taral\\appdata\\roaming\\python\\python310\\site-packages (from python-dateutil>=2.7->matplotlib>=3.3.0->ultralytics==8.2.103) (1.17.0)\n",
      "Requirement already satisfied: idna<4,>=2.5 in c:\\users\\taral\\appdata\\local\\programs\\python\\python310\\lib\\site-packages (from requests>=2.23.0->ultralytics==8.2.103) (3.10)\n",
      "Requirement already satisfied: charset-normalizer<4,>=2 in c:\\users\\taral\\appdata\\local\\programs\\python\\python310\\lib\\site-packages (from requests>=2.23.0->ultralytics==8.2.103) (3.4.0)\n",
      "Requirement already satisfied: certifi>=2017.4.17 in c:\\users\\taral\\appdata\\local\\programs\\python\\python310\\lib\\site-packages (from requests>=2.23.0->ultralytics==8.2.103) (2024.8.30)\n",
      "Requirement already satisfied: urllib3<3,>=1.21.1 in c:\\users\\taral\\appdata\\local\\programs\\python\\python310\\lib\\site-packages (from requests>=2.23.0->ultralytics==8.2.103) (2.2.3)\n",
      "Requirement already satisfied: fsspec in c:\\users\\taral\\appdata\\local\\programs\\python\\python310\\lib\\site-packages (from torch>=1.8.0->ultralytics==8.2.103) (2024.10.0)\n",
      "Requirement already satisfied: filelock in c:\\users\\taral\\appdata\\local\\programs\\python\\python310\\lib\\site-packages (from torch>=1.8.0->ultralytics==8.2.103) (3.16.1)\n",
      "Requirement already satisfied: sympy==1.13.1 in c:\\users\\taral\\appdata\\local\\programs\\python\\python310\\lib\\site-packages (from torch>=1.8.0->ultralytics==8.2.103) (1.13.1)\n",
      "Requirement already satisfied: jinja2 in c:\\users\\taral\\appdata\\local\\programs\\python\\python310\\lib\\site-packages (from torch>=1.8.0->ultralytics==8.2.103) (3.1.4)\n",
      "Requirement already satisfied: networkx in c:\\users\\taral\\appdata\\local\\programs\\python\\python310\\lib\\site-packages (from torch>=1.8.0->ultralytics==8.2.103) (3.4.2)\n",
      "Requirement already satisfied: typing-extensions>=4.8.0 in c:\\users\\taral\\appdata\\roaming\\python\\python310\\site-packages (from torch>=1.8.0->ultralytics==8.2.103) (4.12.2)\n",
      "Requirement already satisfied: mpmath<1.4,>=1.1.0 in c:\\users\\taral\\appdata\\local\\programs\\python\\python310\\lib\\site-packages (from sympy==1.13.1->torch>=1.8.0->ultralytics==8.2.103) (1.3.0)\n",
      "Requirement already satisfied: colorama in c:\\users\\taral\\appdata\\roaming\\python\\python310\\site-packages (from tqdm>=4.64.0->ultralytics==8.2.103) (0.4.6)\n",
      "Requirement already satisfied: MarkupSafe>=2.0 in c:\\users\\taral\\appdata\\local\\programs\\python\\python310\\lib\\site-packages (from jinja2->torch>=1.8.0->ultralytics==8.2.103) (3.0.2)\n"
     ]
    },
    {
     "name": "stderr",
     "output_type": "stream",
     "text": [
      "WARNING: You are using pip version 21.2.3; however, version 24.3.1 is available.\n",
      "You should consider upgrading via the 'C:\\Users\\taral\\AppData\\Local\\Programs\\Python\\Python310\\python.exe -m pip install --upgrade pip' command.\n"
     ]
    }
   ],
   "source": [
    "!pip install ultralytics==8.2.103 "
   ]
  },
  {
   "cell_type": "code",
   "execution_count": 5,
   "metadata": {},
   "outputs": [],
   "source": [
    "YAML_PATH = r\"C:\\Users\\taral\\OneDrive\\Documents\\Major project\\Code\\Segmentation\\270_seg_yolov8\\data.yaml\"\n",
    "# r\"C:\\Users\\taral\\OneDrive\\Documents\\Major project\\Code\\Segmentation\\sr_remove_dataset_seg\\data.yaml\"\n",
    "IMAGE_SIZE = 320\n",
    "BATCH_SIZE = 16"
   ]
  },
  {
   "cell_type": "code",
   "execution_count": 6,
   "metadata": {},
   "outputs": [
    {
     "name": "stdout",
     "output_type": "stream",
     "text": [
      "Ultralytics YOLOv8.2.103  Python-3.10.0 torch-2.5.1+cpu CPU (Intel Core(TM) i5-8250U 1.60GHz)\n",
      "Setup complete  (8 CPUs, 7.9 GB RAM, 136.3/145.9 GB disk)\n"
     ]
    }
   ],
   "source": [
    "import ultralytics\n",
    "ultralytics.checks()"
   ]
  },
  {
   "cell_type": "code",
   "execution_count": 7,
   "metadata": {},
   "outputs": [],
   "source": [
    "from ultralytics import YOLO"
   ]
  },
  {
   "cell_type": "markdown",
   "metadata": {},
   "source": [
    "# Train"
   ]
  },
  {
   "cell_type": "code",
   "execution_count": 8,
   "metadata": {},
   "outputs": [
    {
     "name": "stdout",
     "output_type": "stream",
     "text": [
      "Downloading https://github.com/ultralytics/assets/releases/download/v8.2.0/yolov8n-seg.pt to 'yolov8n-seg.pt'...\n"
     ]
    },
    {
     "name": "stderr",
     "output_type": "stream",
     "text": [
      "100%|██████████| 6.74M/6.74M [00:17<00:00, 398kB/s]\n"
     ]
    },
    {
     "name": "stdout",
     "output_type": "stream",
     "text": [
      "New https://pypi.org/project/ultralytics/8.3.50 available  Update with 'pip install -U ultralytics'\n",
      "Ultralytics YOLOv8.2.103  Python-3.10.0 torch-2.5.1+cpu CPU (Intel Core(TM) i5-8250U 1.60GHz)\n",
      "\u001b[34m\u001b[1mengine\\trainer: \u001b[0mtask=segment, mode=train, model=yolov8n-seg.pt, data=C:\\Users\\taral\\OneDrive\\Documents\\Major project\\Code\\Segmentation\\270_seg_yolov8\\data.yaml, epochs=100, time=None, patience=100, batch=16, imgsz=320, save=True, save_period=-1, cache=False, device=None, workers=4, project=None, name=train6, exist_ok=False, pretrained=True, optimizer=auto, verbose=True, seed=0, deterministic=True, single_cls=False, rect=False, cos_lr=False, close_mosaic=10, resume=False, amp=True, fraction=1.0, profile=False, freeze=None, multi_scale=False, overlap_mask=True, mask_ratio=4, dropout=0.0, val=True, split=val, save_json=False, save_hybrid=False, conf=None, iou=0.7, max_det=300, half=False, dnn=False, plots=True, source=None, vid_stride=1, stream_buffer=False, visualize=False, augment=False, agnostic_nms=False, classes=None, retina_masks=False, embed=None, show=False, save_frames=False, save_txt=False, save_conf=False, save_crop=False, show_labels=True, show_conf=True, show_boxes=True, line_width=None, format=torchscript, keras=False, optimize=False, int8=False, dynamic=False, simplify=True, opset=None, workspace=4, nms=False, lr0=0.01, lrf=0.01, momentum=0.937, weight_decay=0.0005, warmup_epochs=3.0, warmup_momentum=0.8, warmup_bias_lr=0.1, box=7.5, cls=0.5, dfl=1.5, pose=12.0, kobj=1.0, label_smoothing=0.0, nbs=64, hsv_h=0.015, hsv_s=0.7, hsv_v=0.4, degrees=0.0, translate=0.1, scale=0.5, shear=0.0, perspective=0.0, flipud=0.0, fliplr=0.5, bgr=0.0, mosaic=1.0, mixup=0.0, copy_paste=0.0, auto_augment=randaugment, erasing=0.4, crop_fraction=1.0, cfg=None, tracker=botsort.yaml, save_dir=runs\\segment\\train6\n",
      "Overriding model.yaml nc=80 with nc=1\n",
      "\n",
      "                   from  n    params  module                                       arguments                     \n",
      "  0                  -1  1       464  ultralytics.nn.modules.conv.Conv             [3, 16, 3, 2]                 \n",
      "  1                  -1  1      4672  ultralytics.nn.modules.conv.Conv             [16, 32, 3, 2]                \n",
      "  2                  -1  1      7360  ultralytics.nn.modules.block.C2f             [32, 32, 1, True]             \n",
      "  3                  -1  1     18560  ultralytics.nn.modules.conv.Conv             [32, 64, 3, 2]                \n",
      "  4                  -1  2     49664  ultralytics.nn.modules.block.C2f             [64, 64, 2, True]             \n",
      "  5                  -1  1     73984  ultralytics.nn.modules.conv.Conv             [64, 128, 3, 2]               \n",
      "  6                  -1  2    197632  ultralytics.nn.modules.block.C2f             [128, 128, 2, True]           \n",
      "  7                  -1  1    295424  ultralytics.nn.modules.conv.Conv             [128, 256, 3, 2]              \n",
      "  8                  -1  1    460288  ultralytics.nn.modules.block.C2f             [256, 256, 1, True]           \n",
      "  9                  -1  1    164608  ultralytics.nn.modules.block.SPPF            [256, 256, 5]                 \n",
      " 10                  -1  1         0  torch.nn.modules.upsampling.Upsample         [None, 2, 'nearest']          \n",
      " 11             [-1, 6]  1         0  ultralytics.nn.modules.conv.Concat           [1]                           \n",
      " 12                  -1  1    148224  ultralytics.nn.modules.block.C2f             [384, 128, 1]                 \n",
      " 13                  -1  1         0  torch.nn.modules.upsampling.Upsample         [None, 2, 'nearest']          \n",
      " 14             [-1, 4]  1         0  ultralytics.nn.modules.conv.Concat           [1]                           \n",
      " 15                  -1  1     37248  ultralytics.nn.modules.block.C2f             [192, 64, 1]                  \n",
      " 16                  -1  1     36992  ultralytics.nn.modules.conv.Conv             [64, 64, 3, 2]                \n",
      " 17            [-1, 12]  1         0  ultralytics.nn.modules.conv.Concat           [1]                           \n",
      " 18                  -1  1    123648  ultralytics.nn.modules.block.C2f             [192, 128, 1]                 \n",
      " 19                  -1  1    147712  ultralytics.nn.modules.conv.Conv             [128, 128, 3, 2]              \n",
      " 20             [-1, 9]  1         0  ultralytics.nn.modules.conv.Concat           [1]                           \n",
      " 21                  -1  1    493056  ultralytics.nn.modules.block.C2f             [384, 256, 1]                 \n",
      " 22        [15, 18, 21]  1   1004275  ultralytics.nn.modules.head.Segment          [1, 32, 64, [64, 128, 256]]   \n",
      "YOLOv8n-seg summary: 261 layers, 3,263,811 parameters, 3,263,795 gradients, 12.1 GFLOPs\n",
      "\n",
      "Transferred 381/417 items from pretrained weights\n",
      "\u001b[34m\u001b[1mTensorBoard: \u001b[0mStart with 'tensorboard --logdir runs\\segment\\train6', view at http://localhost:6006/\n",
      "Freezing layer 'model.22.dfl.conv.weight'\n"
     ]
    },
    {
     "name": "stderr",
     "output_type": "stream",
     "text": [
      "\u001b[34m\u001b[1mtrain: \u001b[0mScanning C:\\Users\\taral\\OneDrive\\Documents\\Major project\\Code\\Segmentation\\270_seg_yolov8\\train\\labels.cache... 190 images, 0 backgrounds, 0 corrupt: 100%|██████████| 190/190 [00:00<?, ?it/s]\n",
      "\u001b[34m\u001b[1mval: \u001b[0mScanning C:\\Users\\taral\\OneDrive\\Documents\\Major project\\Code\\Segmentation\\270_seg_yolov8\\valid\\labels.cache... 54 images, 0 backgrounds, 0 corrupt: 100%|██████████| 54/54 [00:00<?, ?it/s]\n"
     ]
    },
    {
     "name": "stdout",
     "output_type": "stream",
     "text": [
      "Plotting labels to runs\\segment\\train6\\labels.jpg... \n",
      "\u001b[34m\u001b[1moptimizer:\u001b[0m 'optimizer=auto' found, ignoring 'lr0=0.01' and 'momentum=0.937' and determining best 'optimizer', 'lr0' and 'momentum' automatically... \n",
      "\u001b[34m\u001b[1moptimizer:\u001b[0m AdamW(lr=0.002, momentum=0.9) with parameter groups 66 weight(decay=0.0), 77 weight(decay=0.0005), 76 bias(decay=0.0)\n",
      "\u001b[34m\u001b[1mTensorBoard: \u001b[0mmodel graph visualization added \n",
      "Image sizes 320 train, 320 val\n",
      "Using 0 dataloader workers\n",
      "Logging results to \u001b[1mruns\\segment\\train6\u001b[0m\n",
      "Starting training for 100 epochs...\n",
      "\n",
      "      Epoch    GPU_mem   box_loss   seg_loss   cls_loss   dfl_loss  Instances       Size\n"
     ]
    },
    {
     "name": "stderr",
     "output_type": "stream",
     "text": [
      "      1/100         0G     0.9698      3.293      2.307      1.258         42        320: 100%|██████████| 12/12 [06:39<00:00, 33.33s/it]\n",
      "                 Class     Images  Instances      Box(P          R      mAP50  mAP50-95)     Mask(P          R      mAP50  mAP50-95): 100%|██████████| 2/2 [00:40<00:00, 20.11s/it]"
     ]
    },
    {
     "name": "stdout",
     "output_type": "stream",
     "text": [
      "                   all         54         59    0.00711      0.949       0.82      0.622    0.00711      0.949      0.807      0.481\n"
     ]
    },
    {
     "name": "stderr",
     "output_type": "stream",
     "text": [
      "\n"
     ]
    },
    {
     "name": "stdout",
     "output_type": "stream",
     "text": [
      "\n",
      "      Epoch    GPU_mem   box_loss   seg_loss   cls_loss   dfl_loss  Instances       Size\n"
     ]
    },
    {
     "name": "stderr",
     "output_type": "stream",
     "text": [
      "      2/100         0G     0.8755      1.651      1.361      1.177         47        320: 100%|██████████| 12/12 [01:34<00:00,  7.90s/it]\n",
      "                 Class     Images  Instances      Box(P          R      mAP50  mAP50-95)     Mask(P          R      mAP50  mAP50-95): 100%|██████████| 2/2 [00:14<00:00,  7.05s/it]"
     ]
    },
    {
     "name": "stdout",
     "output_type": "stream",
     "text": [
      "                   all         54         59       0.98       0.83      0.836      0.672       0.96      0.813      0.816      0.515\n"
     ]
    },
    {
     "name": "stderr",
     "output_type": "stream",
     "text": [
      "\n"
     ]
    },
    {
     "name": "stdout",
     "output_type": "stream",
     "text": [
      "\n",
      "      Epoch    GPU_mem   box_loss   seg_loss   cls_loss   dfl_loss  Instances       Size\n"
     ]
    },
    {
     "name": "stderr",
     "output_type": "stream",
     "text": [
      "      3/100         0G     0.8746      1.471      1.032      1.205         44        320: 100%|██████████| 12/12 [01:12<00:00,  6.03s/it]\n",
      "                 Class     Images  Instances      Box(P          R      mAP50  mAP50-95)     Mask(P          R      mAP50  mAP50-95): 100%|██████████| 2/2 [00:11<00:00,  5.91s/it]"
     ]
    },
    {
     "name": "stdout",
     "output_type": "stream",
     "text": [
      "                   all         54         59      0.837      0.847      0.856      0.594       0.77       0.78      0.788      0.466\n"
     ]
    },
    {
     "name": "stderr",
     "output_type": "stream",
     "text": [
      "\n"
     ]
    },
    {
     "name": "stdout",
     "output_type": "stream",
     "text": [
      "\n",
      "      Epoch    GPU_mem   box_loss   seg_loss   cls_loss   dfl_loss  Instances       Size\n"
     ]
    },
    {
     "name": "stderr",
     "output_type": "stream",
     "text": [
      "      4/100         0G     0.8836      1.418     0.9905       1.19         43        320: 100%|██████████| 12/12 [01:12<00:00,  6.05s/it]\n",
      "                 Class     Images  Instances      Box(P          R      mAP50  mAP50-95)     Mask(P          R      mAP50  mAP50-95): 100%|██████████| 2/2 [00:07<00:00,  3.73s/it]"
     ]
    },
    {
     "name": "stdout",
     "output_type": "stream",
     "text": [
      "                   all         54         59       0.74      0.866      0.844      0.589       0.74      0.866      0.844      0.548\n"
     ]
    },
    {
     "name": "stderr",
     "output_type": "stream",
     "text": [
      "\n"
     ]
    },
    {
     "name": "stdout",
     "output_type": "stream",
     "text": [
      "\n",
      "      Epoch    GPU_mem   box_loss   seg_loss   cls_loss   dfl_loss  Instances       Size\n"
     ]
    },
    {
     "name": "stderr",
     "output_type": "stream",
     "text": [
      "      5/100         0G     0.8739       1.51     0.9549       1.18         46        320: 100%|██████████| 12/12 [01:12<00:00,  6.01s/it]\n",
      "                 Class     Images  Instances      Box(P          R      mAP50  mAP50-95)     Mask(P          R      mAP50  mAP50-95): 100%|██████████| 2/2 [00:11<00:00,  5.65s/it]"
     ]
    },
    {
     "name": "stdout",
     "output_type": "stream",
     "text": [
      "                   all         54         59      0.473      0.847      0.829      0.545      0.483      0.864      0.824      0.517\n"
     ]
    },
    {
     "name": "stderr",
     "output_type": "stream",
     "text": [
      "\n"
     ]
    },
    {
     "name": "stdout",
     "output_type": "stream",
     "text": [
      "\n",
      "      Epoch    GPU_mem   box_loss   seg_loss   cls_loss   dfl_loss  Instances       Size\n"
     ]
    },
    {
     "name": "stderr",
     "output_type": "stream",
     "text": [
      "      6/100         0G     0.9512      1.509     0.9337       1.22         45        320: 100%|██████████| 12/12 [01:11<00:00,  5.98s/it]\n",
      "                 Class     Images  Instances      Box(P          R      mAP50  mAP50-95)     Mask(P          R      mAP50  mAP50-95): 100%|██████████| 2/2 [00:12<00:00,  6.14s/it]"
     ]
    },
    {
     "name": "stdout",
     "output_type": "stream",
     "text": [
      "                   all         54         59      0.805       0.78       0.86      0.519      0.805       0.78      0.853      0.482\n"
     ]
    },
    {
     "name": "stderr",
     "output_type": "stream",
     "text": [
      "\n"
     ]
    },
    {
     "name": "stdout",
     "output_type": "stream",
     "text": [
      "\n",
      "      Epoch    GPU_mem   box_loss   seg_loss   cls_loss   dfl_loss  Instances       Size\n"
     ]
    },
    {
     "name": "stderr",
     "output_type": "stream",
     "text": [
      "      7/100         0G     0.8715      1.383     0.8765      1.158         44        320: 100%|██████████| 12/12 [01:13<00:00,  6.10s/it]\n",
      "                 Class     Images  Instances      Box(P          R      mAP50  mAP50-95)     Mask(P          R      mAP50  mAP50-95): 100%|██████████| 2/2 [00:13<00:00,  6.67s/it]"
     ]
    },
    {
     "name": "stdout",
     "output_type": "stream",
     "text": [
      "                   all         54         59      0.747      0.701      0.786      0.536      0.747      0.701      0.794      0.487\n"
     ]
    },
    {
     "name": "stderr",
     "output_type": "stream",
     "text": [
      "\n"
     ]
    },
    {
     "name": "stdout",
     "output_type": "stream",
     "text": [
      "\n",
      "      Epoch    GPU_mem   box_loss   seg_loss   cls_loss   dfl_loss  Instances       Size\n"
     ]
    },
    {
     "name": "stderr",
     "output_type": "stream",
     "text": [
      "      8/100         0G     0.8619        1.5     0.8501       1.18         48        320: 100%|██████████| 12/12 [01:14<00:00,  6.20s/it]\n",
      "                 Class     Images  Instances      Box(P          R      mAP50  mAP50-95)     Mask(P          R      mAP50  mAP50-95): 100%|██████████| 2/2 [00:12<00:00,  6.08s/it]"
     ]
    },
    {
     "name": "stdout",
     "output_type": "stream",
     "text": [
      "                   all         54         59      0.784       0.86      0.828      0.579      0.676      0.742      0.668      0.252\n"
     ]
    },
    {
     "name": "stderr",
     "output_type": "stream",
     "text": [
      "\n"
     ]
    },
    {
     "name": "stdout",
     "output_type": "stream",
     "text": [
      "\n",
      "      Epoch    GPU_mem   box_loss   seg_loss   cls_loss   dfl_loss  Instances       Size\n"
     ]
    },
    {
     "name": "stderr",
     "output_type": "stream",
     "text": [
      "      9/100         0G       0.84       1.45     0.8515      1.159         47        320: 100%|██████████| 12/12 [01:10<00:00,  5.86s/it]\n",
      "                 Class     Images  Instances      Box(P          R      mAP50  mAP50-95)     Mask(P          R      mAP50  mAP50-95): 100%|██████████| 2/2 [00:12<00:00,  6.13s/it]"
     ]
    },
    {
     "name": "stdout",
     "output_type": "stream",
     "text": [
      "                   all         54         59       0.81      0.898      0.904      0.599      0.884      0.775      0.882      0.574\n"
     ]
    },
    {
     "name": "stderr",
     "output_type": "stream",
     "text": [
      "\n"
     ]
    },
    {
     "name": "stdout",
     "output_type": "stream",
     "text": [
      "\n",
      "      Epoch    GPU_mem   box_loss   seg_loss   cls_loss   dfl_loss  Instances       Size\n"
     ]
    },
    {
     "name": "stderr",
     "output_type": "stream",
     "text": [
      "     10/100         0G     0.8711      1.439     0.8346      1.163         47        320: 100%|██████████| 12/12 [01:07<00:00,  5.61s/it]\n",
      "                 Class     Images  Instances      Box(P          R      mAP50  mAP50-95)     Mask(P          R      mAP50  mAP50-95): 100%|██████████| 2/2 [00:11<00:00,  5.80s/it]"
     ]
    },
    {
     "name": "stdout",
     "output_type": "stream",
     "text": [
      "                   all         54         59      0.977      0.864      0.878      0.693      0.955      0.847      0.868      0.648\n"
     ]
    },
    {
     "name": "stderr",
     "output_type": "stream",
     "text": [
      "\n"
     ]
    },
    {
     "name": "stdout",
     "output_type": "stream",
     "text": [
      "\n",
      "      Epoch    GPU_mem   box_loss   seg_loss   cls_loss   dfl_loss  Instances       Size\n"
     ]
    },
    {
     "name": "stderr",
     "output_type": "stream",
     "text": [
      "     11/100         0G     0.8618      1.313     0.7946      1.162         50        320: 100%|██████████| 12/12 [01:21<00:00,  6.77s/it]\n",
      "                 Class     Images  Instances      Box(P          R      mAP50  mAP50-95)     Mask(P          R      mAP50  mAP50-95): 100%|██████████| 2/2 [00:11<00:00,  5.68s/it]"
     ]
    },
    {
     "name": "stdout",
     "output_type": "stream",
     "text": [
      "                   all         54         59      0.931      0.831      0.874      0.573      0.905      0.797       0.85      0.512\n"
     ]
    },
    {
     "name": "stderr",
     "output_type": "stream",
     "text": [
      "\n"
     ]
    },
    {
     "name": "stdout",
     "output_type": "stream",
     "text": [
      "\n",
      "      Epoch    GPU_mem   box_loss   seg_loss   cls_loss   dfl_loss  Instances       Size\n"
     ]
    },
    {
     "name": "stderr",
     "output_type": "stream",
     "text": [
      "     12/100         0G     0.7809      1.271     0.7515      1.106         47        320: 100%|██████████| 12/12 [01:11<00:00,  5.95s/it]\n",
      "                 Class     Images  Instances      Box(P          R      mAP50  mAP50-95)     Mask(P          R      mAP50  mAP50-95): 100%|██████████| 2/2 [00:11<00:00,  5.89s/it]"
     ]
    },
    {
     "name": "stdout",
     "output_type": "stream",
     "text": [
      "                   all         54         59      0.917      0.752      0.833        0.6      0.919       0.78      0.835      0.579\n"
     ]
    },
    {
     "name": "stderr",
     "output_type": "stream",
     "text": [
      "\n"
     ]
    },
    {
     "name": "stdout",
     "output_type": "stream",
     "text": [
      "\n",
      "      Epoch    GPU_mem   box_loss   seg_loss   cls_loss   dfl_loss  Instances       Size\n"
     ]
    },
    {
     "name": "stderr",
     "output_type": "stream",
     "text": [
      "     13/100         0G     0.8562      1.391     0.7875       1.14         41        320: 100%|██████████| 12/12 [01:09<00:00,  5.76s/it]\n",
      "                 Class     Images  Instances      Box(P          R      mAP50  mAP50-95)     Mask(P          R      mAP50  mAP50-95): 100%|██████████| 2/2 [00:11<00:00,  5.74s/it]"
     ]
    },
    {
     "name": "stdout",
     "output_type": "stream",
     "text": [
      "                   all         54         59      0.731      0.831      0.781      0.627      0.731      0.831      0.775       0.58\n"
     ]
    },
    {
     "name": "stderr",
     "output_type": "stream",
     "text": [
      "\n"
     ]
    },
    {
     "name": "stdout",
     "output_type": "stream",
     "text": [
      "\n",
      "      Epoch    GPU_mem   box_loss   seg_loss   cls_loss   dfl_loss  Instances       Size\n"
     ]
    },
    {
     "name": "stderr",
     "output_type": "stream",
     "text": [
      "     14/100         0G     0.8284      1.302      0.775      1.138         45        320: 100%|██████████| 12/12 [6:19:24<00:00, 1897.02s/it]   \n",
      "                 Class     Images  Instances      Box(P          R      mAP50  mAP50-95)     Mask(P          R      mAP50  mAP50-95): 100%|██████████| 2/2 [00:12<00:00,  6.14s/it]"
     ]
    },
    {
     "name": "stdout",
     "output_type": "stream",
     "text": [
      "                   all         54         59       0.85      0.864      0.885      0.634      0.898       0.78      0.878      0.549\n"
     ]
    },
    {
     "name": "stderr",
     "output_type": "stream",
     "text": [
      "\n"
     ]
    },
    {
     "name": "stdout",
     "output_type": "stream",
     "text": [
      "\n",
      "      Epoch    GPU_mem   box_loss   seg_loss   cls_loss   dfl_loss  Instances       Size\n"
     ]
    },
    {
     "name": "stderr",
     "output_type": "stream",
     "text": [
      "     15/100         0G     0.7878      1.441     0.7662      1.117         46        320: 100%|██████████| 12/12 [01:19<00:00,  6.65s/it]\n",
      "                 Class     Images  Instances      Box(P          R      mAP50  mAP50-95)     Mask(P          R      mAP50  mAP50-95): 100%|██████████| 2/2 [00:15<00:00,  7.62s/it]"
     ]
    },
    {
     "name": "stdout",
     "output_type": "stream",
     "text": [
      "                   all         54         59      0.962      0.862      0.915      0.688      0.962      0.862      0.899      0.595\n"
     ]
    },
    {
     "name": "stderr",
     "output_type": "stream",
     "text": [
      "\n"
     ]
    },
    {
     "name": "stdout",
     "output_type": "stream",
     "text": [
      "\n",
      "      Epoch    GPU_mem   box_loss   seg_loss   cls_loss   dfl_loss  Instances       Size\n"
     ]
    },
    {
     "name": "stderr",
     "output_type": "stream",
     "text": [
      "     16/100         0G     0.7926       1.27     0.7437      1.125         46        320: 100%|██████████| 12/12 [01:26<00:00,  7.22s/it]\n",
      "                 Class     Images  Instances      Box(P          R      mAP50  mAP50-95)     Mask(P          R      mAP50  mAP50-95): 100%|██████████| 2/2 [00:11<00:00,  5.81s/it]"
     ]
    },
    {
     "name": "stdout",
     "output_type": "stream",
     "text": [
      "                   all         54         59      0.864      0.881      0.881      0.646      0.855      0.864       0.87      0.629\n"
     ]
    },
    {
     "name": "stderr",
     "output_type": "stream",
     "text": [
      "\n"
     ]
    },
    {
     "name": "stdout",
     "output_type": "stream",
     "text": [
      "\n",
      "      Epoch    GPU_mem   box_loss   seg_loss   cls_loss   dfl_loss  Instances       Size\n"
     ]
    },
    {
     "name": "stderr",
     "output_type": "stream",
     "text": [
      "     17/100         0G     0.7604       1.33       0.69      1.104         48        320: 100%|██████████| 12/12 [01:22<00:00,  6.83s/it]\n",
      "                 Class     Images  Instances      Box(P          R      mAP50  mAP50-95)     Mask(P          R      mAP50  mAP50-95): 100%|██████████| 2/2 [00:14<00:00,  7.31s/it]"
     ]
    },
    {
     "name": "stdout",
     "output_type": "stream",
     "text": [
      "                   all         54         59      0.832      0.864      0.846      0.664      0.834      0.864      0.854      0.621\n"
     ]
    },
    {
     "name": "stderr",
     "output_type": "stream",
     "text": [
      "\n"
     ]
    },
    {
     "name": "stdout",
     "output_type": "stream",
     "text": [
      "\n",
      "      Epoch    GPU_mem   box_loss   seg_loss   cls_loss   dfl_loss  Instances       Size\n"
     ]
    },
    {
     "name": "stderr",
     "output_type": "stream",
     "text": [
      "     18/100         0G     0.7853      1.327     0.7026       1.12         39        320: 100%|██████████| 12/12 [01:04<00:00,  5.41s/it]\n",
      "                 Class     Images  Instances      Box(P          R      mAP50  mAP50-95)     Mask(P          R      mAP50  mAP50-95): 100%|██████████| 2/2 [00:13<00:00,  6.75s/it]"
     ]
    },
    {
     "name": "stdout",
     "output_type": "stream",
     "text": [
      "                   all         54         59      0.946      0.892      0.919      0.725      0.946      0.892      0.919      0.669\n"
     ]
    },
    {
     "name": "stderr",
     "output_type": "stream",
     "text": [
      "\n"
     ]
    },
    {
     "name": "stdout",
     "output_type": "stream",
     "text": [
      "\n",
      "      Epoch    GPU_mem   box_loss   seg_loss   cls_loss   dfl_loss  Instances       Size\n"
     ]
    },
    {
     "name": "stderr",
     "output_type": "stream",
     "text": [
      "     19/100         0G     0.7509      1.268     0.7018      1.095         46        320: 100%|██████████| 12/12 [01:11<00:00,  5.97s/it]\n",
      "                 Class     Images  Instances      Box(P          R      mAP50  mAP50-95)     Mask(P          R      mAP50  mAP50-95): 100%|██████████| 2/2 [00:11<00:00,  5.79s/it]"
     ]
    },
    {
     "name": "stdout",
     "output_type": "stream",
     "text": [
      "                   all         54         59      0.974      0.847      0.914      0.669       0.98      0.845      0.896      0.608\n"
     ]
    },
    {
     "name": "stderr",
     "output_type": "stream",
     "text": [
      "\n"
     ]
    },
    {
     "name": "stdout",
     "output_type": "stream",
     "text": [
      "\n",
      "      Epoch    GPU_mem   box_loss   seg_loss   cls_loss   dfl_loss  Instances       Size\n"
     ]
    },
    {
     "name": "stderr",
     "output_type": "stream",
     "text": [
      "     20/100         0G     0.7602      1.172      0.652      1.101         42        320: 100%|██████████| 12/12 [01:07<00:00,  5.60s/it]\n",
      "                 Class     Images  Instances      Box(P          R      mAP50  mAP50-95)     Mask(P          R      mAP50  mAP50-95): 100%|██████████| 2/2 [00:12<00:00,  6.48s/it]"
     ]
    },
    {
     "name": "stdout",
     "output_type": "stream",
     "text": [
      "                   all         54         59      0.971      0.864      0.914      0.731      0.971      0.864      0.913      0.703\n"
     ]
    },
    {
     "name": "stderr",
     "output_type": "stream",
     "text": [
      "\n"
     ]
    },
    {
     "name": "stdout",
     "output_type": "stream",
     "text": [
      "\n",
      "      Epoch    GPU_mem   box_loss   seg_loss   cls_loss   dfl_loss  Instances       Size\n"
     ]
    },
    {
     "name": "stderr",
     "output_type": "stream",
     "text": [
      "     21/100         0G     0.7574      1.248     0.6921      1.109         49        320: 100%|██████████| 12/12 [01:08<00:00,  5.68s/it]\n",
      "                 Class     Images  Instances      Box(P          R      mAP50  mAP50-95)     Mask(P          R      mAP50  mAP50-95): 100%|██████████| 2/2 [00:13<00:00,  6.64s/it]"
     ]
    },
    {
     "name": "stdout",
     "output_type": "stream",
     "text": [
      "                   all         54         59      0.934      0.881      0.887      0.675       0.92      0.864      0.871       0.63\n"
     ]
    },
    {
     "name": "stderr",
     "output_type": "stream",
     "text": [
      "\n"
     ]
    },
    {
     "name": "stdout",
     "output_type": "stream",
     "text": [
      "\n",
      "      Epoch    GPU_mem   box_loss   seg_loss   cls_loss   dfl_loss  Instances       Size\n"
     ]
    },
    {
     "name": "stderr",
     "output_type": "stream",
     "text": [
      "     22/100         0G     0.7692      1.385     0.6877      1.103         49        320: 100%|██████████| 12/12 [01:09<00:00,  5.77s/it]\n",
      "                 Class     Images  Instances      Box(P          R      mAP50  mAP50-95)     Mask(P          R      mAP50  mAP50-95): 100%|██████████| 2/2 [00:13<00:00,  6.53s/it]"
     ]
    },
    {
     "name": "stdout",
     "output_type": "stream",
     "text": [
      "                   all         54         59      0.963      0.831      0.881      0.683      0.967      0.831      0.863      0.619\n"
     ]
    },
    {
     "name": "stderr",
     "output_type": "stream",
     "text": [
      "\n"
     ]
    },
    {
     "name": "stdout",
     "output_type": "stream",
     "text": [
      "\n",
      "      Epoch    GPU_mem   box_loss   seg_loss   cls_loss   dfl_loss  Instances       Size\n"
     ]
    },
    {
     "name": "stderr",
     "output_type": "stream",
     "text": [
      "     23/100         0G     0.7949      1.367     0.7011      1.098         43        320: 100%|██████████| 12/12 [01:21<00:00,  6.79s/it]\n",
      "                 Class     Images  Instances      Box(P          R      mAP50  mAP50-95)     Mask(P          R      mAP50  mAP50-95): 100%|██████████| 2/2 [00:12<00:00,  6.47s/it]"
     ]
    },
    {
     "name": "stdout",
     "output_type": "stream",
     "text": [
      "                   all         54         59      0.956      0.881      0.906      0.659      0.942      0.831       0.86      0.607\n"
     ]
    },
    {
     "name": "stderr",
     "output_type": "stream",
     "text": [
      "\n"
     ]
    },
    {
     "name": "stdout",
     "output_type": "stream",
     "text": [
      "\n",
      "      Epoch    GPU_mem   box_loss   seg_loss   cls_loss   dfl_loss  Instances       Size\n"
     ]
    },
    {
     "name": "stderr",
     "output_type": "stream",
     "text": [
      "     24/100         0G     0.7256      1.244      0.659      1.063         31        320: 100%|██████████| 12/12 [01:02<00:00,  5.24s/it]\n",
      "                 Class     Images  Instances      Box(P          R      mAP50  mAP50-95)     Mask(P          R      mAP50  mAP50-95): 100%|██████████| 2/2 [00:10<00:00,  5.38s/it]"
     ]
    },
    {
     "name": "stdout",
     "output_type": "stream",
     "text": [
      "                   all         54         59       0.98       0.78      0.894      0.659      0.959      0.763       0.87      0.551\n"
     ]
    },
    {
     "name": "stderr",
     "output_type": "stream",
     "text": [
      "\n"
     ]
    },
    {
     "name": "stdout",
     "output_type": "stream",
     "text": [
      "\n",
      "      Epoch    GPU_mem   box_loss   seg_loss   cls_loss   dfl_loss  Instances       Size\n"
     ]
    },
    {
     "name": "stderr",
     "output_type": "stream",
     "text": [
      "     25/100         0G     0.6859      1.264     0.6315      1.073         52        320: 100%|██████████| 12/12 [01:07<00:00,  5.59s/it]\n",
      "                 Class     Images  Instances      Box(P          R      mAP50  mAP50-95)     Mask(P          R      mAP50  mAP50-95): 100%|██████████| 2/2 [00:11<00:00,  5.72s/it]"
     ]
    },
    {
     "name": "stdout",
     "output_type": "stream",
     "text": [
      "                   all         54         59      0.957      0.847      0.889       0.64      0.942      0.814      0.857      0.623\n"
     ]
    },
    {
     "name": "stderr",
     "output_type": "stream",
     "text": [
      "\n"
     ]
    },
    {
     "name": "stdout",
     "output_type": "stream",
     "text": [
      "\n",
      "      Epoch    GPU_mem   box_loss   seg_loss   cls_loss   dfl_loss  Instances       Size\n"
     ]
    },
    {
     "name": "stderr",
     "output_type": "stream",
     "text": [
      "     26/100         0G     0.7676      1.315     0.6455      1.129         51        320: 100%|██████████| 12/12 [01:04<00:00,  5.41s/it]\n",
      "                 Class     Images  Instances      Box(P          R      mAP50  mAP50-95)     Mask(P          R      mAP50  mAP50-95): 100%|██████████| 2/2 [00:10<00:00,  5.37s/it]"
     ]
    },
    {
     "name": "stdout",
     "output_type": "stream",
     "text": [
      "                   all         54         59      0.928      0.898      0.897       0.71      0.913      0.895      0.897       0.69\n"
     ]
    },
    {
     "name": "stderr",
     "output_type": "stream",
     "text": [
      "\n"
     ]
    },
    {
     "name": "stdout",
     "output_type": "stream",
     "text": [
      "\n",
      "      Epoch    GPU_mem   box_loss   seg_loss   cls_loss   dfl_loss  Instances       Size\n"
     ]
    },
    {
     "name": "stderr",
     "output_type": "stream",
     "text": [
      "     27/100         0G     0.6968      1.193     0.6098      1.069         51        320: 100%|██████████| 12/12 [01:05<00:00,  5.49s/it]\n",
      "                 Class     Images  Instances      Box(P          R      mAP50  mAP50-95)     Mask(P          R      mAP50  mAP50-95): 100%|██████████| 2/2 [00:10<00:00,  5.41s/it]"
     ]
    },
    {
     "name": "stdout",
     "output_type": "stream",
     "text": [
      "                   all         54         59      0.977      0.881      0.889      0.719      0.977      0.881      0.889      0.689\n"
     ]
    },
    {
     "name": "stderr",
     "output_type": "stream",
     "text": [
      "\n"
     ]
    },
    {
     "name": "stdout",
     "output_type": "stream",
     "text": [
      "\n",
      "      Epoch    GPU_mem   box_loss   seg_loss   cls_loss   dfl_loss  Instances       Size\n"
     ]
    },
    {
     "name": "stderr",
     "output_type": "stream",
     "text": [
      "     28/100         0G      0.672      1.137     0.5985      1.073         46        320: 100%|██████████| 12/12 [01:06<00:00,  5.58s/it]\n",
      "                 Class     Images  Instances      Box(P          R      mAP50  mAP50-95)     Mask(P          R      mAP50  mAP50-95): 100%|██████████| 2/2 [00:11<00:00,  5.54s/it]"
     ]
    },
    {
     "name": "stdout",
     "output_type": "stream",
     "text": [
      "                   all         54         59      0.945      0.881      0.885      0.715      0.945      0.881      0.891      0.665\n"
     ]
    },
    {
     "name": "stderr",
     "output_type": "stream",
     "text": [
      "\n"
     ]
    },
    {
     "name": "stdout",
     "output_type": "stream",
     "text": [
      "\n",
      "      Epoch    GPU_mem   box_loss   seg_loss   cls_loss   dfl_loss  Instances       Size\n"
     ]
    },
    {
     "name": "stderr",
     "output_type": "stream",
     "text": [
      "     29/100         0G      0.694      1.104     0.5882      1.059         51        320: 100%|██████████| 12/12 [01:05<00:00,  5.44s/it]\n",
      "                 Class     Images  Instances      Box(P          R      mAP50  mAP50-95)     Mask(P          R      mAP50  mAP50-95): 100%|██████████| 2/2 [00:11<00:00,  5.51s/it]"
     ]
    },
    {
     "name": "stdout",
     "output_type": "stream",
     "text": [
      "                   all         54         59      0.892      0.843      0.881      0.714      0.892      0.843      0.875      0.639\n"
     ]
    },
    {
     "name": "stderr",
     "output_type": "stream",
     "text": [
      "\n"
     ]
    },
    {
     "name": "stdout",
     "output_type": "stream",
     "text": [
      "\n",
      "      Epoch    GPU_mem   box_loss   seg_loss   cls_loss   dfl_loss  Instances       Size\n"
     ]
    },
    {
     "name": "stderr",
     "output_type": "stream",
     "text": [
      "     30/100         0G     0.7023      1.173     0.6211      1.064         39        320: 100%|██████████| 12/12 [01:09<00:00,  5.80s/it]\n",
      "                 Class     Images  Instances      Box(P          R      mAP50  mAP50-95)     Mask(P          R      mAP50  mAP50-95): 100%|██████████| 2/2 [00:11<00:00,  5.52s/it]"
     ]
    },
    {
     "name": "stdout",
     "output_type": "stream",
     "text": [
      "                   all         54         59      0.862      0.881      0.891      0.721      0.846      0.864      0.874      0.616\n"
     ]
    },
    {
     "name": "stderr",
     "output_type": "stream",
     "text": [
      "\n"
     ]
    },
    {
     "name": "stdout",
     "output_type": "stream",
     "text": [
      "\n",
      "      Epoch    GPU_mem   box_loss   seg_loss   cls_loss   dfl_loss  Instances       Size\n"
     ]
    },
    {
     "name": "stderr",
     "output_type": "stream",
     "text": [
      "     31/100         0G     0.6501      1.068     0.5801      1.052         46        320: 100%|██████████| 12/12 [01:07<00:00,  5.59s/it]\n",
      "                 Class     Images  Instances      Box(P          R      mAP50  mAP50-95)     Mask(P          R      mAP50  mAP50-95): 100%|██████████| 2/2 [00:13<00:00,  6.61s/it]"
     ]
    },
    {
     "name": "stdout",
     "output_type": "stream",
     "text": [
      "                   all         54         59      0.928       0.87       0.91      0.697       0.91      0.854      0.892       0.65\n"
     ]
    },
    {
     "name": "stderr",
     "output_type": "stream",
     "text": [
      "\n"
     ]
    },
    {
     "name": "stdout",
     "output_type": "stream",
     "text": [
      "\n",
      "      Epoch    GPU_mem   box_loss   seg_loss   cls_loss   dfl_loss  Instances       Size\n"
     ]
    },
    {
     "name": "stderr",
     "output_type": "stream",
     "text": [
      "     32/100         0G     0.6504      1.103     0.5766      1.056         44        320: 100%|██████████| 12/12 [01:13<00:00,  6.13s/it]\n",
      "                 Class     Images  Instances      Box(P          R      mAP50  mAP50-95)     Mask(P          R      mAP50  mAP50-95): 100%|██████████| 2/2 [00:10<00:00,  5.33s/it]"
     ]
    },
    {
     "name": "stdout",
     "output_type": "stream",
     "text": [
      "                   all         54         59      0.957      0.864       0.89      0.727      0.951      0.864      0.884      0.673\n"
     ]
    },
    {
     "name": "stderr",
     "output_type": "stream",
     "text": [
      "\n"
     ]
    },
    {
     "name": "stdout",
     "output_type": "stream",
     "text": [
      "\n",
      "      Epoch    GPU_mem   box_loss   seg_loss   cls_loss   dfl_loss  Instances       Size\n"
     ]
    },
    {
     "name": "stderr",
     "output_type": "stream",
     "text": [
      "     33/100         0G     0.6211      1.028     0.5333      1.028         37        320: 100%|██████████| 12/12 [01:19<00:00,  6.66s/it]\n",
      "                 Class     Images  Instances      Box(P          R      mAP50  mAP50-95)     Mask(P          R      mAP50  mAP50-95): 100%|██████████| 2/2 [00:12<00:00,  6.48s/it]"
     ]
    },
    {
     "name": "stdout",
     "output_type": "stream",
     "text": [
      "                   all         54         59      0.961      0.881      0.888      0.731      0.942      0.864      0.879       0.67\n"
     ]
    },
    {
     "name": "stderr",
     "output_type": "stream",
     "text": [
      "\n"
     ]
    },
    {
     "name": "stdout",
     "output_type": "stream",
     "text": [
      "\n",
      "      Epoch    GPU_mem   box_loss   seg_loss   cls_loss   dfl_loss  Instances       Size\n"
     ]
    },
    {
     "name": "stderr",
     "output_type": "stream",
     "text": [
      "     34/100         0G     0.6447      1.186     0.5705      1.043         48        320: 100%|██████████| 12/12 [01:15<00:00,  6.32s/it]\n",
      "                 Class     Images  Instances      Box(P          R      mAP50  mAP50-95)     Mask(P          R      mAP50  mAP50-95): 100%|██████████| 2/2 [00:11<00:00,  5.67s/it]"
     ]
    },
    {
     "name": "stdout",
     "output_type": "stream",
     "text": [
      "                   all         54         59      0.948      0.881      0.893      0.727      0.929      0.864       0.88      0.659\n"
     ]
    },
    {
     "name": "stderr",
     "output_type": "stream",
     "text": [
      "\n"
     ]
    },
    {
     "name": "stdout",
     "output_type": "stream",
     "text": [
      "\n",
      "      Epoch    GPU_mem   box_loss   seg_loss   cls_loss   dfl_loss  Instances       Size\n"
     ]
    },
    {
     "name": "stderr",
     "output_type": "stream",
     "text": [
      "     35/100         0G     0.6608      1.221     0.5575      1.052         48        320: 100%|██████████| 12/12 [01:05<00:00,  5.45s/it]\n",
      "                 Class     Images  Instances      Box(P          R      mAP50  mAP50-95)     Mask(P          R      mAP50  mAP50-95): 100%|██████████| 2/2 [00:12<00:00,  6.21s/it]"
     ]
    },
    {
     "name": "stdout",
     "output_type": "stream",
     "text": [
      "                   all         54         59      0.968      0.898      0.893      0.694      0.948      0.881      0.881      0.654\n"
     ]
    },
    {
     "name": "stderr",
     "output_type": "stream",
     "text": [
      "\n"
     ]
    },
    {
     "name": "stdout",
     "output_type": "stream",
     "text": [
      "\n",
      "      Epoch    GPU_mem   box_loss   seg_loss   cls_loss   dfl_loss  Instances       Size\n"
     ]
    },
    {
     "name": "stderr",
     "output_type": "stream",
     "text": [
      "     36/100         0G     0.6647      1.119     0.5602      1.049         49        320: 100%|██████████| 12/12 [01:07<00:00,  5.65s/it]\n",
      "                 Class     Images  Instances      Box(P          R      mAP50  mAP50-95)     Mask(P          R      mAP50  mAP50-95): 100%|██████████| 2/2 [00:10<00:00,  5.20s/it]"
     ]
    },
    {
     "name": "stdout",
     "output_type": "stream",
     "text": [
      "                   all         54         59      0.926      0.881      0.883      0.699      0.908      0.864      0.868      0.654\n"
     ]
    },
    {
     "name": "stderr",
     "output_type": "stream",
     "text": [
      "\n"
     ]
    },
    {
     "name": "stdout",
     "output_type": "stream",
     "text": [
      "\n",
      "      Epoch    GPU_mem   box_loss   seg_loss   cls_loss   dfl_loss  Instances       Size\n"
     ]
    },
    {
     "name": "stderr",
     "output_type": "stream",
     "text": [
      "     37/100         0G     0.6691      1.135     0.5672      1.056         45        320: 100%|██████████| 12/12 [00:57<00:00,  4.82s/it]\n",
      "                 Class     Images  Instances      Box(P          R      mAP50  mAP50-95)     Mask(P          R      mAP50  mAP50-95): 100%|██████████| 2/2 [00:11<00:00,  5.55s/it]"
     ]
    },
    {
     "name": "stdout",
     "output_type": "stream",
     "text": [
      "                   all         54         59      0.928      0.874       0.89      0.737      0.943      0.847      0.874      0.697\n"
     ]
    },
    {
     "name": "stderr",
     "output_type": "stream",
     "text": [
      "\n"
     ]
    },
    {
     "name": "stdout",
     "output_type": "stream",
     "text": [
      "\n",
      "      Epoch    GPU_mem   box_loss   seg_loss   cls_loss   dfl_loss  Instances       Size\n"
     ]
    },
    {
     "name": "stderr",
     "output_type": "stream",
     "text": [
      "     38/100         0G     0.6424      1.123     0.5462      1.022         42        320: 100%|██████████| 12/12 [01:00<00:00,  5.04s/it]\n",
      "                 Class     Images  Instances      Box(P          R      mAP50  mAP50-95)     Mask(P          R      mAP50  mAP50-95): 100%|██████████| 2/2 [00:13<00:00,  6.72s/it]"
     ]
    },
    {
     "name": "stdout",
     "output_type": "stream",
     "text": [
      "                   all         54         59      0.963      0.879      0.923      0.754      0.962      0.856      0.906      0.731\n"
     ]
    },
    {
     "name": "stderr",
     "output_type": "stream",
     "text": [
      "\n"
     ]
    },
    {
     "name": "stdout",
     "output_type": "stream",
     "text": [
      "\n",
      "      Epoch    GPU_mem   box_loss   seg_loss   cls_loss   dfl_loss  Instances       Size\n"
     ]
    },
    {
     "name": "stderr",
     "output_type": "stream",
     "text": [
      "     39/100         0G     0.5947     0.9613     0.4971      1.017         41        320: 100%|██████████| 12/12 [01:03<00:00,  5.32s/it]\n",
      "                 Class     Images  Instances      Box(P          R      mAP50  mAP50-95)     Mask(P          R      mAP50  mAP50-95): 100%|██████████| 2/2 [00:12<00:00,  6.06s/it]"
     ]
    },
    {
     "name": "stdout",
     "output_type": "stream",
     "text": [
      "                   all         54         59      0.913      0.864       0.91       0.72      0.913      0.864      0.911      0.683\n"
     ]
    },
    {
     "name": "stderr",
     "output_type": "stream",
     "text": [
      "\n"
     ]
    },
    {
     "name": "stdout",
     "output_type": "stream",
     "text": [
      "\n",
      "      Epoch    GPU_mem   box_loss   seg_loss   cls_loss   dfl_loss  Instances       Size\n"
     ]
    },
    {
     "name": "stderr",
     "output_type": "stream",
     "text": [
      "     40/100         0G     0.6392      1.034     0.5344      1.023         44        320: 100%|██████████| 12/12 [01:09<00:00,  5.79s/it]\n",
      "                 Class     Images  Instances      Box(P          R      mAP50  mAP50-95)     Mask(P          R      mAP50  mAP50-95): 100%|██████████| 2/2 [00:12<00:00,  6.26s/it]"
     ]
    },
    {
     "name": "stdout",
     "output_type": "stream",
     "text": [
      "                   all         54         59      0.867      0.915       0.92      0.725      0.851      0.898       0.91      0.677\n"
     ]
    },
    {
     "name": "stderr",
     "output_type": "stream",
     "text": [
      "\n"
     ]
    },
    {
     "name": "stdout",
     "output_type": "stream",
     "text": [
      "\n",
      "      Epoch    GPU_mem   box_loss   seg_loss   cls_loss   dfl_loss  Instances       Size\n"
     ]
    },
    {
     "name": "stderr",
     "output_type": "stream",
     "text": [
      "     41/100         0G     0.6489      1.082     0.5543      1.042         39        320: 100%|██████████| 12/12 [01:11<00:00,  5.94s/it]\n",
      "                 Class     Images  Instances      Box(P          R      mAP50  mAP50-95)     Mask(P          R      mAP50  mAP50-95): 100%|██████████| 2/2 [00:15<00:00,  7.76s/it]"
     ]
    },
    {
     "name": "stdout",
     "output_type": "stream",
     "text": [
      "                   all         54         59      0.911      0.898      0.911      0.746      0.911      0.898       0.91      0.705\n"
     ]
    },
    {
     "name": "stderr",
     "output_type": "stream",
     "text": [
      "\n"
     ]
    },
    {
     "name": "stdout",
     "output_type": "stream",
     "text": [
      "\n",
      "      Epoch    GPU_mem   box_loss   seg_loss   cls_loss   dfl_loss  Instances       Size\n"
     ]
    },
    {
     "name": "stderr",
     "output_type": "stream",
     "text": [
      "     42/100         0G     0.6063     0.9981     0.5245      1.018         46        320: 100%|██████████| 12/12 [01:21<00:00,  6.83s/it]\n",
      "                 Class     Images  Instances      Box(P          R      mAP50  mAP50-95)     Mask(P          R      mAP50  mAP50-95): 100%|██████████| 2/2 [00:13<00:00,  6.97s/it]"
     ]
    },
    {
     "name": "stdout",
     "output_type": "stream",
     "text": [
      "                   all         54         59      0.912      0.898      0.899      0.756      0.912      0.898      0.899      0.692\n"
     ]
    },
    {
     "name": "stderr",
     "output_type": "stream",
     "text": [
      "\n"
     ]
    },
    {
     "name": "stdout",
     "output_type": "stream",
     "text": [
      "\n",
      "      Epoch    GPU_mem   box_loss   seg_loss   cls_loss   dfl_loss  Instances       Size\n"
     ]
    },
    {
     "name": "stderr",
     "output_type": "stream",
     "text": [
      "     43/100         0G     0.6101      1.052      0.523      1.026         49        320: 100%|██████████| 12/12 [01:13<00:00,  6.09s/it]\n",
      "                 Class     Images  Instances      Box(P          R      mAP50  mAP50-95)     Mask(P          R      mAP50  mAP50-95): 100%|██████████| 2/2 [00:11<00:00,  5.98s/it]"
     ]
    },
    {
     "name": "stdout",
     "output_type": "stream",
     "text": [
      "                   all         54         59       0.93      0.896      0.893      0.753       0.93      0.896      0.893      0.706\n"
     ]
    },
    {
     "name": "stderr",
     "output_type": "stream",
     "text": [
      "\n"
     ]
    },
    {
     "name": "stdout",
     "output_type": "stream",
     "text": [
      "\n",
      "      Epoch    GPU_mem   box_loss   seg_loss   cls_loss   dfl_loss  Instances       Size\n"
     ]
    },
    {
     "name": "stderr",
     "output_type": "stream",
     "text": [
      "     44/100         0G     0.6179     0.9969     0.5096       1.04         52        320: 100%|██████████| 12/12 [01:03<00:00,  5.29s/it]\n",
      "                 Class     Images  Instances      Box(P          R      mAP50  mAP50-95)     Mask(P          R      mAP50  mAP50-95): 100%|██████████| 2/2 [00:12<00:00,  6.33s/it]"
     ]
    },
    {
     "name": "stdout",
     "output_type": "stream",
     "text": [
      "                   all         54         59      0.942      0.881        0.9      0.728      0.945      0.847      0.886      0.688\n"
     ]
    },
    {
     "name": "stderr",
     "output_type": "stream",
     "text": [
      "\n"
     ]
    },
    {
     "name": "stdout",
     "output_type": "stream",
     "text": [
      "\n",
      "      Epoch    GPU_mem   box_loss   seg_loss   cls_loss   dfl_loss  Instances       Size\n"
     ]
    },
    {
     "name": "stderr",
     "output_type": "stream",
     "text": [
      "     45/100         0G     0.5524     0.9448     0.4884     0.9913         51        320: 100%|██████████| 12/12 [01:11<00:00,  5.97s/it]\n",
      "                 Class     Images  Instances      Box(P          R      mAP50  mAP50-95)     Mask(P          R      mAP50  mAP50-95): 100%|██████████| 2/2 [00:11<00:00,  5.95s/it]"
     ]
    },
    {
     "name": "stdout",
     "output_type": "stream",
     "text": [
      "                   all         54         59      0.959      0.881      0.887      0.699      0.959      0.864      0.868      0.676\n"
     ]
    },
    {
     "name": "stderr",
     "output_type": "stream",
     "text": [
      "\n"
     ]
    },
    {
     "name": "stdout",
     "output_type": "stream",
     "text": [
      "\n",
      "      Epoch    GPU_mem   box_loss   seg_loss   cls_loss   dfl_loss  Instances       Size\n"
     ]
    },
    {
     "name": "stderr",
     "output_type": "stream",
     "text": [
      "     46/100         0G     0.5936      1.114      0.488      1.015         44        320: 100%|██████████| 12/12 [01:03<00:00,  5.33s/it]\n",
      "                 Class     Images  Instances      Box(P          R      mAP50  mAP50-95)     Mask(P          R      mAP50  mAP50-95): 100%|██████████| 2/2 [00:11<00:00,  5.96s/it]"
     ]
    },
    {
     "name": "stdout",
     "output_type": "stream",
     "text": [
      "                   all         54         59      0.966      0.864      0.898      0.721      0.966      0.864      0.877      0.663\n"
     ]
    },
    {
     "name": "stderr",
     "output_type": "stream",
     "text": [
      "\n"
     ]
    },
    {
     "name": "stdout",
     "output_type": "stream",
     "text": [
      "\n",
      "      Epoch    GPU_mem   box_loss   seg_loss   cls_loss   dfl_loss  Instances       Size\n"
     ]
    },
    {
     "name": "stderr",
     "output_type": "stream",
     "text": [
      "     47/100         0G     0.5821     0.9446     0.4837      1.016         41        320: 100%|██████████| 12/12 [01:06<00:00,  5.52s/it]\n",
      "                 Class     Images  Instances      Box(P          R      mAP50  mAP50-95)     Mask(P          R      mAP50  mAP50-95): 100%|██████████| 2/2 [00:12<00:00,  6.01s/it]"
     ]
    },
    {
     "name": "stdout",
     "output_type": "stream",
     "text": [
      "                   all         54         59       0.97      0.881      0.904      0.735       0.97      0.881      0.903      0.709\n"
     ]
    },
    {
     "name": "stderr",
     "output_type": "stream",
     "text": [
      "\n"
     ]
    },
    {
     "name": "stdout",
     "output_type": "stream",
     "text": [
      "\n",
      "      Epoch    GPU_mem   box_loss   seg_loss   cls_loss   dfl_loss  Instances       Size\n"
     ]
    },
    {
     "name": "stderr",
     "output_type": "stream",
     "text": [
      "     48/100         0G     0.5843     0.9545     0.4854      1.007         44        320: 100%|██████████| 12/12 [01:05<00:00,  5.42s/it]\n",
      "                 Class     Images  Instances      Box(P          R      mAP50  mAP50-95)     Mask(P          R      mAP50  mAP50-95): 100%|██████████| 2/2 [00:11<00:00,  5.88s/it]"
     ]
    },
    {
     "name": "stdout",
     "output_type": "stream",
     "text": [
      "                   all         54         59      0.997      0.898      0.919      0.765      0.978      0.881      0.906      0.723\n"
     ]
    },
    {
     "name": "stderr",
     "output_type": "stream",
     "text": [
      "\n"
     ]
    },
    {
     "name": "stdout",
     "output_type": "stream",
     "text": [
      "\n",
      "      Epoch    GPU_mem   box_loss   seg_loss   cls_loss   dfl_loss  Instances       Size\n"
     ]
    },
    {
     "name": "stderr",
     "output_type": "stream",
     "text": [
      "     49/100         0G     0.5668     0.9376     0.4847      1.001         42        320: 100%|██████████| 12/12 [01:08<00:00,  5.71s/it]\n",
      "                 Class     Images  Instances      Box(P          R      mAP50  mAP50-95)     Mask(P          R      mAP50  mAP50-95): 100%|██████████| 2/2 [00:11<00:00,  5.93s/it]"
     ]
    },
    {
     "name": "stdout",
     "output_type": "stream",
     "text": [
      "                   all         54         59      0.993      0.898       0.94      0.755      0.981      0.881      0.939       0.74\n"
     ]
    },
    {
     "name": "stderr",
     "output_type": "stream",
     "text": [
      "\n"
     ]
    },
    {
     "name": "stdout",
     "output_type": "stream",
     "text": [
      "\n",
      "      Epoch    GPU_mem   box_loss   seg_loss   cls_loss   dfl_loss  Instances       Size\n"
     ]
    },
    {
     "name": "stderr",
     "output_type": "stream",
     "text": [
      "     50/100         0G     0.5543      0.909     0.4803     0.9877         50        320: 100%|██████████| 12/12 [01:02<00:00,  5.19s/it]\n",
      "                 Class     Images  Instances      Box(P          R      mAP50  mAP50-95)     Mask(P          R      mAP50  mAP50-95): 100%|██████████| 2/2 [00:11<00:00,  5.72s/it]"
     ]
    },
    {
     "name": "stdout",
     "output_type": "stream",
     "text": [
      "                   all         54         59       0.92      0.898       0.93      0.781      0.987      0.847      0.928      0.755\n"
     ]
    },
    {
     "name": "stderr",
     "output_type": "stream",
     "text": [
      "\n"
     ]
    },
    {
     "name": "stdout",
     "output_type": "stream",
     "text": [
      "\n",
      "      Epoch    GPU_mem   box_loss   seg_loss   cls_loss   dfl_loss  Instances       Size\n"
     ]
    },
    {
     "name": "stderr",
     "output_type": "stream",
     "text": [
      "     51/100         0G     0.5749      0.959     0.4825      1.001         45        320: 100%|██████████| 12/12 [01:19<00:00,  6.58s/it]\n",
      "                 Class     Images  Instances      Box(P          R      mAP50  mAP50-95)     Mask(P          R      mAP50  mAP50-95): 100%|██████████| 2/2 [00:17<00:00,  8.63s/it]"
     ]
    },
    {
     "name": "stdout",
     "output_type": "stream",
     "text": [
      "                   all         54         59      0.942      0.881      0.923      0.759      0.928      0.877      0.919      0.727\n"
     ]
    },
    {
     "name": "stderr",
     "output_type": "stream",
     "text": [
      "\n"
     ]
    },
    {
     "name": "stdout",
     "output_type": "stream",
     "text": [
      "\n",
      "      Epoch    GPU_mem   box_loss   seg_loss   cls_loss   dfl_loss  Instances       Size\n"
     ]
    },
    {
     "name": "stderr",
     "output_type": "stream",
     "text": [
      "     52/100         0G     0.5567     0.8581     0.4601      1.003         52        320: 100%|██████████| 12/12 [01:27<00:00,  7.28s/it]\n",
      "                 Class     Images  Instances      Box(P          R      mAP50  mAP50-95)     Mask(P          R      mAP50  mAP50-95): 100%|██████████| 2/2 [00:11<00:00,  5.72s/it]"
     ]
    },
    {
     "name": "stdout",
     "output_type": "stream",
     "text": [
      "                   all         54         59       0.98      0.864      0.925      0.769       0.98      0.864      0.908      0.735\n"
     ]
    },
    {
     "name": "stderr",
     "output_type": "stream",
     "text": [
      "\n"
     ]
    },
    {
     "name": "stdout",
     "output_type": "stream",
     "text": [
      "\n",
      "      Epoch    GPU_mem   box_loss   seg_loss   cls_loss   dfl_loss  Instances       Size\n"
     ]
    },
    {
     "name": "stderr",
     "output_type": "stream",
     "text": [
      "     53/100         0G     0.5751     0.9347     0.4863          1         52        320: 100%|██████████| 12/12 [01:07<00:00,  5.64s/it]\n",
      "                 Class     Images  Instances      Box(P          R      mAP50  mAP50-95)     Mask(P          R      mAP50  mAP50-95): 100%|██████████| 2/2 [00:12<00:00,  6.37s/it]"
     ]
    },
    {
     "name": "stdout",
     "output_type": "stream",
     "text": [
      "                   all         54         59      0.926      0.881      0.918      0.785      0.929      0.892      0.917      0.742\n"
     ]
    },
    {
     "name": "stderr",
     "output_type": "stream",
     "text": [
      "\n"
     ]
    },
    {
     "name": "stdout",
     "output_type": "stream",
     "text": [
      "\n",
      "      Epoch    GPU_mem   box_loss   seg_loss   cls_loss   dfl_loss  Instances       Size\n"
     ]
    },
    {
     "name": "stderr",
     "output_type": "stream",
     "text": [
      "     54/100         0G     0.5769     0.9371     0.4686     0.9937         46        320: 100%|██████████| 12/12 [01:08<00:00,  5.67s/it]\n",
      "                 Class     Images  Instances      Box(P          R      mAP50  mAP50-95)     Mask(P          R      mAP50  mAP50-95): 100%|██████████| 2/2 [00:11<00:00,  5.88s/it]"
     ]
    },
    {
     "name": "stdout",
     "output_type": "stream",
     "text": [
      "                   all         54         59      0.963      0.873      0.913      0.786      0.931      0.912      0.917      0.741\n"
     ]
    },
    {
     "name": "stderr",
     "output_type": "stream",
     "text": [
      "\n"
     ]
    },
    {
     "name": "stdout",
     "output_type": "stream",
     "text": [
      "\n",
      "      Epoch    GPU_mem   box_loss   seg_loss   cls_loss   dfl_loss  Instances       Size\n"
     ]
    },
    {
     "name": "stderr",
     "output_type": "stream",
     "text": [
      "     55/100         0G     0.5649     0.9254     0.4547      1.013         50        320: 100%|██████████| 12/12 [01:17<00:00,  6.47s/it]\n",
      "                 Class     Images  Instances      Box(P          R      mAP50  mAP50-95)     Mask(P          R      mAP50  mAP50-95): 100%|██████████| 2/2 [00:10<00:00,  5.38s/it]"
     ]
    },
    {
     "name": "stdout",
     "output_type": "stream",
     "text": [
      "                   all         54         59      0.963      0.893      0.917      0.774      0.945      0.876      0.899      0.747\n"
     ]
    },
    {
     "name": "stderr",
     "output_type": "stream",
     "text": [
      "\n"
     ]
    },
    {
     "name": "stdout",
     "output_type": "stream",
     "text": [
      "\n",
      "      Epoch    GPU_mem   box_loss   seg_loss   cls_loss   dfl_loss  Instances       Size\n"
     ]
    },
    {
     "name": "stderr",
     "output_type": "stream",
     "text": [
      "     56/100         0G     0.5574     0.9005     0.4527     0.9889         43        320: 100%|██████████| 12/12 [01:17<00:00,  6.45s/it]\n",
      "                 Class     Images  Instances      Box(P          R      mAP50  mAP50-95)     Mask(P          R      mAP50  mAP50-95): 100%|██████████| 2/2 [00:11<00:00,  5.81s/it]"
     ]
    },
    {
     "name": "stdout",
     "output_type": "stream",
     "text": [
      "                   all         54         59      0.998      0.898      0.904      0.759      0.979      0.881      0.901      0.709\n"
     ]
    },
    {
     "name": "stderr",
     "output_type": "stream",
     "text": [
      "\n"
     ]
    },
    {
     "name": "stdout",
     "output_type": "stream",
     "text": [
      "\n",
      "      Epoch    GPU_mem   box_loss   seg_loss   cls_loss   dfl_loss  Instances       Size\n"
     ]
    },
    {
     "name": "stderr",
     "output_type": "stream",
     "text": [
      "     57/100         0G     0.5404      0.875     0.4577     0.9913         45        320: 100%|██████████| 12/12 [01:45<00:00,  8.79s/it]\n",
      "                 Class     Images  Instances      Box(P          R      mAP50  mAP50-95)     Mask(P          R      mAP50  mAP50-95): 100%|██████████| 2/2 [00:11<00:00,  5.92s/it]"
     ]
    },
    {
     "name": "stdout",
     "output_type": "stream",
     "text": [
      "                   all         54         59      0.999      0.898      0.898      0.756       0.98      0.881      0.888      0.694\n"
     ]
    },
    {
     "name": "stderr",
     "output_type": "stream",
     "text": [
      "\n"
     ]
    },
    {
     "name": "stdout",
     "output_type": "stream",
     "text": [
      "\n",
      "      Epoch    GPU_mem   box_loss   seg_loss   cls_loss   dfl_loss  Instances       Size\n"
     ]
    },
    {
     "name": "stderr",
     "output_type": "stream",
     "text": [
      "     58/100         0G     0.5374     0.9458     0.4523     0.9871         42        320: 100%|██████████| 12/12 [01:19<00:00,  6.60s/it]\n",
      "                 Class     Images  Instances      Box(P          R      mAP50  mAP50-95)     Mask(P          R      mAP50  mAP50-95): 100%|██████████| 2/2 [00:11<00:00,  5.92s/it]"
     ]
    },
    {
     "name": "stdout",
     "output_type": "stream",
     "text": [
      "                   all         54         59      0.978      0.898      0.899      0.743      0.978      0.898      0.903      0.707\n"
     ]
    },
    {
     "name": "stderr",
     "output_type": "stream",
     "text": [
      "\n"
     ]
    },
    {
     "name": "stdout",
     "output_type": "stream",
     "text": [
      "\n",
      "      Epoch    GPU_mem   box_loss   seg_loss   cls_loss   dfl_loss  Instances       Size\n"
     ]
    },
    {
     "name": "stderr",
     "output_type": "stream",
     "text": [
      "     59/100         0G      0.534     0.8753     0.4798     0.9832         46        320: 100%|██████████| 12/12 [01:17<00:00,  6.44s/it]\n",
      "                 Class     Images  Instances      Box(P          R      mAP50  mAP50-95)     Mask(P          R      mAP50  mAP50-95): 100%|██████████| 2/2 [00:11<00:00,  5.80s/it]"
     ]
    },
    {
     "name": "stdout",
     "output_type": "stream",
     "text": [
      "                   all         54         59      0.949      0.898      0.913      0.746       0.96      0.915      0.914      0.717\n"
     ]
    },
    {
     "name": "stderr",
     "output_type": "stream",
     "text": [
      "\n"
     ]
    },
    {
     "name": "stdout",
     "output_type": "stream",
     "text": [
      "\n",
      "      Epoch    GPU_mem   box_loss   seg_loss   cls_loss   dfl_loss  Instances       Size\n"
     ]
    },
    {
     "name": "stderr",
     "output_type": "stream",
     "text": [
      "     60/100         0G     0.5182     0.9222     0.4533     0.9882         42        320: 100%|██████████| 12/12 [01:11<00:00,  5.98s/it]\n",
      "                 Class     Images  Instances      Box(P          R      mAP50  mAP50-95)     Mask(P          R      mAP50  mAP50-95): 100%|██████████| 2/2 [00:11<00:00,  5.99s/it]"
     ]
    },
    {
     "name": "stdout",
     "output_type": "stream",
     "text": [
      "                   all         54         59      0.946      0.898      0.913      0.789      0.946      0.898      0.913      0.715\n"
     ]
    },
    {
     "name": "stderr",
     "output_type": "stream",
     "text": [
      "\n"
     ]
    },
    {
     "name": "stdout",
     "output_type": "stream",
     "text": [
      "\n",
      "      Epoch    GPU_mem   box_loss   seg_loss   cls_loss   dfl_loss  Instances       Size\n"
     ]
    },
    {
     "name": "stderr",
     "output_type": "stream",
     "text": [
      "     61/100         0G      0.528     0.9216     0.4675     0.9696         39        320: 100%|██████████| 12/12 [01:11<00:00,  5.95s/it]\n",
      "                 Class     Images  Instances      Box(P          R      mAP50  mAP50-95)     Mask(P          R      mAP50  mAP50-95): 100%|██████████| 2/2 [00:09<00:00,  5.00s/it]"
     ]
    },
    {
     "name": "stdout",
     "output_type": "stream",
     "text": [
      "                   all         54         59          1      0.859      0.895      0.768          1      0.859      0.912      0.709\n"
     ]
    },
    {
     "name": "stderr",
     "output_type": "stream",
     "text": [
      "\n"
     ]
    },
    {
     "name": "stdout",
     "output_type": "stream",
     "text": [
      "\n",
      "      Epoch    GPU_mem   box_loss   seg_loss   cls_loss   dfl_loss  Instances       Size\n"
     ]
    },
    {
     "name": "stderr",
     "output_type": "stream",
     "text": [
      "     62/100         0G     0.5017      0.895     0.4373     0.9697         36        320: 100%|██████████| 12/12 [01:07<00:00,  5.64s/it]\n",
      "                 Class     Images  Instances      Box(P          R      mAP50  mAP50-95)     Mask(P          R      mAP50  mAP50-95): 100%|██████████| 2/2 [00:12<00:00,  6.11s/it]"
     ]
    },
    {
     "name": "stdout",
     "output_type": "stream",
     "text": [
      "                   all         54         59       0.98      0.898      0.895      0.759       0.98      0.898      0.914       0.71\n"
     ]
    },
    {
     "name": "stderr",
     "output_type": "stream",
     "text": [
      "\n"
     ]
    },
    {
     "name": "stdout",
     "output_type": "stream",
     "text": [
      "\n",
      "      Epoch    GPU_mem   box_loss   seg_loss   cls_loss   dfl_loss  Instances       Size\n"
     ]
    },
    {
     "name": "stderr",
     "output_type": "stream",
     "text": [
      "     63/100         0G     0.5311     0.8888       0.43     0.9847         41        320: 100%|██████████| 12/12 [01:08<00:00,  5.74s/it]\n",
      "                 Class     Images  Instances      Box(P          R      mAP50  mAP50-95)     Mask(P          R      mAP50  mAP50-95): 100%|██████████| 2/2 [00:10<00:00,  5.41s/it]"
     ]
    },
    {
     "name": "stdout",
     "output_type": "stream",
     "text": [
      "                   all         54         59      0.975      0.898      0.897      0.729      0.975      0.898      0.916      0.698\n"
     ]
    },
    {
     "name": "stderr",
     "output_type": "stream",
     "text": [
      "\n"
     ]
    },
    {
     "name": "stdout",
     "output_type": "stream",
     "text": [
      "\n",
      "      Epoch    GPU_mem   box_loss   seg_loss   cls_loss   dfl_loss  Instances       Size\n"
     ]
    },
    {
     "name": "stderr",
     "output_type": "stream",
     "text": [
      "     64/100         0G     0.5225     0.9472     0.4407     0.9823         40        320: 100%|██████████| 12/12 [01:05<00:00,  5.43s/it]\n",
      "                 Class     Images  Instances      Box(P          R      mAP50  mAP50-95)     Mask(P          R      mAP50  mAP50-95): 100%|██████████| 2/2 [00:09<00:00,  4.95s/it]"
     ]
    },
    {
     "name": "stdout",
     "output_type": "stream",
     "text": [
      "                   all         54         59      0.963      0.889      0.911      0.743      0.922      0.898      0.927      0.702\n"
     ]
    },
    {
     "name": "stderr",
     "output_type": "stream",
     "text": [
      "\n"
     ]
    },
    {
     "name": "stdout",
     "output_type": "stream",
     "text": [
      "\n",
      "      Epoch    GPU_mem   box_loss   seg_loss   cls_loss   dfl_loss  Instances       Size\n"
     ]
    },
    {
     "name": "stderr",
     "output_type": "stream",
     "text": [
      "     65/100         0G     0.4862     0.8138     0.4339     0.9657         41        320: 100%|██████████| 12/12 [01:06<00:00,  5.57s/it]\n",
      "                 Class     Images  Instances      Box(P          R      mAP50  mAP50-95)     Mask(P          R      mAP50  mAP50-95): 100%|██████████| 2/2 [00:10<00:00,  5.02s/it]"
     ]
    },
    {
     "name": "stdout",
     "output_type": "stream",
     "text": [
      "                   all         54         59      0.946      0.915       0.92      0.762      0.963      0.932      0.938      0.704\n"
     ]
    },
    {
     "name": "stderr",
     "output_type": "stream",
     "text": [
      "\n"
     ]
    },
    {
     "name": "stdout",
     "output_type": "stream",
     "text": [
      "\n",
      "      Epoch    GPU_mem   box_loss   seg_loss   cls_loss   dfl_loss  Instances       Size\n"
     ]
    },
    {
     "name": "stderr",
     "output_type": "stream",
     "text": [
      "     66/100         0G     0.4768     0.7961     0.4159     0.9553         43        320: 100%|██████████| 12/12 [01:06<00:00,  5.56s/it]\n",
      "                 Class     Images  Instances      Box(P          R      mAP50  mAP50-95)     Mask(P          R      mAP50  mAP50-95): 100%|██████████| 2/2 [00:10<00:00,  5.30s/it]"
     ]
    },
    {
     "name": "stdout",
     "output_type": "stream",
     "text": [
      "                   all         54         59      0.965       0.93      0.942      0.758      0.947      0.913      0.934      0.705\n"
     ]
    },
    {
     "name": "stderr",
     "output_type": "stream",
     "text": [
      "\n"
     ]
    },
    {
     "name": "stdout",
     "output_type": "stream",
     "text": [
      "\n",
      "      Epoch    GPU_mem   box_loss   seg_loss   cls_loss   dfl_loss  Instances       Size\n"
     ]
    },
    {
     "name": "stderr",
     "output_type": "stream",
     "text": [
      "     67/100         0G     0.4783      0.855     0.4035      0.955         42        320: 100%|██████████| 12/12 [01:08<00:00,  5.68s/it]\n",
      "                 Class     Images  Instances      Box(P          R      mAP50  mAP50-95)     Mask(P          R      mAP50  mAP50-95): 100%|██████████| 2/2 [00:11<00:00,  5.90s/it]"
     ]
    },
    {
     "name": "stdout",
     "output_type": "stream",
     "text": [
      "                   all         54         59      0.956      0.898      0.943      0.766      0.976      0.864      0.931      0.711\n"
     ]
    },
    {
     "name": "stderr",
     "output_type": "stream",
     "text": [
      "\n"
     ]
    },
    {
     "name": "stdout",
     "output_type": "stream",
     "text": [
      "\n",
      "      Epoch    GPU_mem   box_loss   seg_loss   cls_loss   dfl_loss  Instances       Size\n"
     ]
    },
    {
     "name": "stderr",
     "output_type": "stream",
     "text": [
      "     68/100         0G     0.4988     0.8537     0.4134     0.9717         41        320: 100%|██████████| 12/12 [01:07<00:00,  5.61s/it]\n",
      "                 Class     Images  Instances      Box(P          R      mAP50  mAP50-95)     Mask(P          R      mAP50  mAP50-95): 100%|██████████| 2/2 [00:10<00:00,  5.46s/it]"
     ]
    },
    {
     "name": "stdout",
     "output_type": "stream",
     "text": [
      "                   all         54         59      0.932       0.93      0.942      0.774      0.932       0.93      0.942      0.726\n"
     ]
    },
    {
     "name": "stderr",
     "output_type": "stream",
     "text": [
      "\n"
     ]
    },
    {
     "name": "stdout",
     "output_type": "stream",
     "text": [
      "\n",
      "      Epoch    GPU_mem   box_loss   seg_loss   cls_loss   dfl_loss  Instances       Size\n"
     ]
    },
    {
     "name": "stderr",
     "output_type": "stream",
     "text": [
      "     69/100         0G     0.4632     0.8004     0.4089     0.9618         40        320: 100%|██████████| 12/12 [01:05<00:00,  5.47s/it]\n",
      "                 Class     Images  Instances      Box(P          R      mAP50  mAP50-95)     Mask(P          R      mAP50  mAP50-95): 100%|██████████| 2/2 [00:11<00:00,  5.95s/it]"
     ]
    },
    {
     "name": "stdout",
     "output_type": "stream",
     "text": [
      "                   all         54         59      0.959      0.864      0.907       0.76      0.945      0.866       0.93      0.717\n"
     ]
    },
    {
     "name": "stderr",
     "output_type": "stream",
     "text": [
      "\n"
     ]
    },
    {
     "name": "stdout",
     "output_type": "stream",
     "text": [
      "\n",
      "      Epoch    GPU_mem   box_loss   seg_loss   cls_loss   dfl_loss  Instances       Size\n"
     ]
    },
    {
     "name": "stderr",
     "output_type": "stream",
     "text": [
      "     70/100         0G     0.4863     0.8137     0.3991     0.9775         45        320: 100%|██████████| 12/12 [01:06<00:00,  5.56s/it]\n",
      "                 Class     Images  Instances      Box(P          R      mAP50  mAP50-95)     Mask(P          R      mAP50  mAP50-95): 100%|██████████| 2/2 [00:10<00:00,  5.16s/it]"
     ]
    },
    {
     "name": "stdout",
     "output_type": "stream",
     "text": [
      "                   all         54         59      0.925      0.881      0.899      0.746      0.947      0.831        0.9      0.717\n"
     ]
    },
    {
     "name": "stderr",
     "output_type": "stream",
     "text": [
      "\n"
     ]
    },
    {
     "name": "stdout",
     "output_type": "stream",
     "text": [
      "\n",
      "      Epoch    GPU_mem   box_loss   seg_loss   cls_loss   dfl_loss  Instances       Size\n"
     ]
    },
    {
     "name": "stderr",
     "output_type": "stream",
     "text": [
      "     71/100         0G     0.4695     0.8262     0.3858      0.955         50        320: 100%|██████████| 12/12 [01:05<00:00,  5.45s/it]\n",
      "                 Class     Images  Instances      Box(P          R      mAP50  mAP50-95)     Mask(P          R      mAP50  mAP50-95): 100%|██████████| 2/2 [00:10<00:00,  5.39s/it]"
     ]
    },
    {
     "name": "stdout",
     "output_type": "stream",
     "text": [
      "                   all         54         59      0.928      0.879      0.896      0.767      0.982      0.847      0.896      0.715\n"
     ]
    },
    {
     "name": "stderr",
     "output_type": "stream",
     "text": [
      "\n"
     ]
    },
    {
     "name": "stdout",
     "output_type": "stream",
     "text": [
      "\n",
      "      Epoch    GPU_mem   box_loss   seg_loss   cls_loss   dfl_loss  Instances       Size\n"
     ]
    },
    {
     "name": "stderr",
     "output_type": "stream",
     "text": [
      "     72/100         0G     0.4795     0.8204     0.4044     0.9626         43        320: 100%|██████████| 12/12 [01:04<00:00,  5.38s/it]\n",
      "                 Class     Images  Instances      Box(P          R      mAP50  mAP50-95)     Mask(P          R      mAP50  mAP50-95): 100%|██████████| 2/2 [00:11<00:00,  5.52s/it]"
     ]
    },
    {
     "name": "stdout",
     "output_type": "stream",
     "text": [
      "                   all         54         59      0.949      0.881      0.898      0.774      0.985      0.831      0.907      0.713\n"
     ]
    },
    {
     "name": "stderr",
     "output_type": "stream",
     "text": [
      "\n"
     ]
    },
    {
     "name": "stdout",
     "output_type": "stream",
     "text": [
      "\n",
      "      Epoch    GPU_mem   box_loss   seg_loss   cls_loss   dfl_loss  Instances       Size\n"
     ]
    },
    {
     "name": "stderr",
     "output_type": "stream",
     "text": [
      "     73/100         0G     0.4607     0.7864     0.3848     0.9544         49        320: 100%|██████████| 12/12 [01:07<00:00,  5.66s/it]\n",
      "                 Class     Images  Instances      Box(P          R      mAP50  mAP50-95)     Mask(P          R      mAP50  mAP50-95): 100%|██████████| 2/2 [00:10<00:00,  5.04s/it]"
     ]
    },
    {
     "name": "stdout",
     "output_type": "stream",
     "text": [
      "                   all         54         59      0.981      0.867      0.915      0.789      0.981      0.867      0.915      0.724\n"
     ]
    },
    {
     "name": "stderr",
     "output_type": "stream",
     "text": [
      "\n"
     ]
    },
    {
     "name": "stdout",
     "output_type": "stream",
     "text": [
      "\n",
      "      Epoch    GPU_mem   box_loss   seg_loss   cls_loss   dfl_loss  Instances       Size\n"
     ]
    },
    {
     "name": "stderr",
     "output_type": "stream",
     "text": [
      "     74/100         0G     0.4695     0.7882     0.3951     0.9688         49        320: 100%|██████████| 12/12 [01:04<00:00,  5.38s/it]\n",
      "                 Class     Images  Instances      Box(P          R      mAP50  mAP50-95)     Mask(P          R      mAP50  mAP50-95): 100%|██████████| 2/2 [00:09<00:00,  4.91s/it]"
     ]
    },
    {
     "name": "stdout",
     "output_type": "stream",
     "text": [
      "                   all         54         59      0.931      0.913      0.916      0.774      0.964      0.915      0.917       0.74\n"
     ]
    },
    {
     "name": "stderr",
     "output_type": "stream",
     "text": [
      "\n"
     ]
    },
    {
     "name": "stdout",
     "output_type": "stream",
     "text": [
      "\n",
      "      Epoch    GPU_mem   box_loss   seg_loss   cls_loss   dfl_loss  Instances       Size\n"
     ]
    },
    {
     "name": "stderr",
     "output_type": "stream",
     "text": [
      "     75/100         0G     0.4596     0.7285     0.3838     0.9536         46        320: 100%|██████████| 12/12 [01:05<00:00,  5.48s/it]\n",
      "                 Class     Images  Instances      Box(P          R      mAP50  mAP50-95)     Mask(P          R      mAP50  mAP50-95): 100%|██████████| 2/2 [00:11<00:00,  5.56s/it]"
     ]
    },
    {
     "name": "stdout",
     "output_type": "stream",
     "text": [
      "                   all         54         59      0.956      0.898      0.917      0.778      0.971      0.915      0.919      0.736\n"
     ]
    },
    {
     "name": "stderr",
     "output_type": "stream",
     "text": [
      "\n"
     ]
    },
    {
     "name": "stdout",
     "output_type": "stream",
     "text": [
      "\n",
      "      Epoch    GPU_mem   box_loss   seg_loss   cls_loss   dfl_loss  Instances       Size\n"
     ]
    },
    {
     "name": "stderr",
     "output_type": "stream",
     "text": [
      "     76/100         0G     0.4821     0.7865     0.3951     0.9595         47        320: 100%|██████████| 12/12 [01:05<00:00,  5.46s/it]\n",
      "                 Class     Images  Instances      Box(P          R      mAP50  mAP50-95)     Mask(P          R      mAP50  mAP50-95): 100%|██████████| 2/2 [00:11<00:00,  5.65s/it]"
     ]
    },
    {
     "name": "stdout",
     "output_type": "stream",
     "text": [
      "                   all         54         59      0.943      0.898      0.917      0.787      0.943      0.898      0.917      0.739\n"
     ]
    },
    {
     "name": "stderr",
     "output_type": "stream",
     "text": [
      "\n"
     ]
    },
    {
     "name": "stdout",
     "output_type": "stream",
     "text": [
      "\n",
      "      Epoch    GPU_mem   box_loss   seg_loss   cls_loss   dfl_loss  Instances       Size\n"
     ]
    },
    {
     "name": "stderr",
     "output_type": "stream",
     "text": [
      "     77/100         0G     0.4491     0.6617     0.3737     0.9587         45        320: 100%|██████████| 12/12 [01:06<00:00,  5.53s/it]\n",
      "                 Class     Images  Instances      Box(P          R      mAP50  mAP50-95)     Mask(P          R      mAP50  mAP50-95): 100%|██████████| 2/2 [00:11<00:00,  5.86s/it]"
     ]
    },
    {
     "name": "stdout",
     "output_type": "stream",
     "text": [
      "                   all         54         59       0.96      0.915       0.92      0.805       0.96      0.915       0.92      0.729\n"
     ]
    },
    {
     "name": "stderr",
     "output_type": "stream",
     "text": [
      "\n"
     ]
    },
    {
     "name": "stdout",
     "output_type": "stream",
     "text": [
      "\n",
      "      Epoch    GPU_mem   box_loss   seg_loss   cls_loss   dfl_loss  Instances       Size\n"
     ]
    },
    {
     "name": "stderr",
     "output_type": "stream",
     "text": [
      "     78/100         0G     0.4613     0.7391     0.3758     0.9648         50        320: 100%|██████████| 12/12 [01:06<00:00,  5.53s/it]\n",
      "                 Class     Images  Instances      Box(P          R      mAP50  mAP50-95)     Mask(P          R      mAP50  mAP50-95): 100%|██████████| 2/2 [00:11<00:00,  5.68s/it]"
     ]
    },
    {
     "name": "stdout",
     "output_type": "stream",
     "text": [
      "                   all         54         59          1      0.913      0.923      0.812      0.981      0.897      0.904      0.723\n"
     ]
    },
    {
     "name": "stderr",
     "output_type": "stream",
     "text": [
      "\n"
     ]
    },
    {
     "name": "stdout",
     "output_type": "stream",
     "text": [
      "\n",
      "      Epoch    GPU_mem   box_loss   seg_loss   cls_loss   dfl_loss  Instances       Size\n"
     ]
    },
    {
     "name": "stderr",
     "output_type": "stream",
     "text": [
      "     79/100         0G     0.4603      0.757       0.38     0.9481         48        320: 100%|██████████| 12/12 [01:05<00:00,  5.48s/it]\n",
      "                 Class     Images  Instances      Box(P          R      mAP50  mAP50-95)     Mask(P          R      mAP50  mAP50-95): 100%|██████████| 2/2 [00:11<00:00,  5.85s/it]"
     ]
    },
    {
     "name": "stdout",
     "output_type": "stream",
     "text": [
      "                   all         54         59          1      0.913      0.922      0.817          1      0.913      0.922      0.741\n"
     ]
    },
    {
     "name": "stderr",
     "output_type": "stream",
     "text": [
      "\n"
     ]
    },
    {
     "name": "stdout",
     "output_type": "stream",
     "text": [
      "\n",
      "      Epoch    GPU_mem   box_loss   seg_loss   cls_loss   dfl_loss  Instances       Size\n"
     ]
    },
    {
     "name": "stderr",
     "output_type": "stream",
     "text": [
      "     80/100         0G     0.4767     0.7414     0.3959     0.9822         50        320: 100%|██████████| 12/12 [01:06<00:00,  5.54s/it]\n",
      "                 Class     Images  Instances      Box(P          R      mAP50  mAP50-95)     Mask(P          R      mAP50  mAP50-95): 100%|██████████| 2/2 [00:10<00:00,  5.46s/it]"
     ]
    },
    {
     "name": "stdout",
     "output_type": "stream",
     "text": [
      "                   all         54         59      0.978      0.915       0.92      0.822      0.978      0.915       0.92       0.75\n"
     ]
    },
    {
     "name": "stderr",
     "output_type": "stream",
     "text": [
      "\n"
     ]
    },
    {
     "name": "stdout",
     "output_type": "stream",
     "text": [
      "\n",
      "      Epoch    GPU_mem   box_loss   seg_loss   cls_loss   dfl_loss  Instances       Size\n"
     ]
    },
    {
     "name": "stderr",
     "output_type": "stream",
     "text": [
      "     81/100         0G     0.4475       0.76     0.3669     0.9559         45        320: 100%|██████████| 12/12 [01:05<00:00,  5.44s/it]\n",
      "                 Class     Images  Instances      Box(P          R      mAP50  mAP50-95)     Mask(P          R      mAP50  mAP50-95): 100%|██████████| 2/2 [00:10<00:00,  5.23s/it]"
     ]
    },
    {
     "name": "stdout",
     "output_type": "stream",
     "text": [
      "                   all         54         59      0.964      0.915      0.919      0.808      0.964      0.915      0.919      0.754\n"
     ]
    },
    {
     "name": "stderr",
     "output_type": "stream",
     "text": [
      "\n"
     ]
    },
    {
     "name": "stdout",
     "output_type": "stream",
     "text": [
      "\n",
      "      Epoch    GPU_mem   box_loss   seg_loss   cls_loss   dfl_loss  Instances       Size\n"
     ]
    },
    {
     "name": "stderr",
     "output_type": "stream",
     "text": [
      "     82/100         0G     0.4835     0.8189     0.4002     0.9574         51        320: 100%|██████████| 12/12 [01:11<00:00,  5.97s/it]\n",
      "                 Class     Images  Instances      Box(P          R      mAP50  mAP50-95)     Mask(P          R      mAP50  mAP50-95): 100%|██████████| 2/2 [00:10<00:00,  5.46s/it]"
     ]
    },
    {
     "name": "stdout",
     "output_type": "stream",
     "text": [
      "                   all         54         59      0.988      0.898      0.916      0.775      0.979      0.881      0.898      0.728\n"
     ]
    },
    {
     "name": "stderr",
     "output_type": "stream",
     "text": [
      "\n"
     ]
    },
    {
     "name": "stdout",
     "output_type": "stream",
     "text": [
      "\n",
      "      Epoch    GPU_mem   box_loss   seg_loss   cls_loss   dfl_loss  Instances       Size\n"
     ]
    },
    {
     "name": "stderr",
     "output_type": "stream",
     "text": [
      "     83/100         0G     0.4944     0.7984     0.3928     0.9739         43        320: 100%|██████████| 12/12 [01:05<00:00,  5.45s/it]\n",
      "                 Class     Images  Instances      Box(P          R      mAP50  mAP50-95)     Mask(P          R      mAP50  mAP50-95): 100%|██████████| 2/2 [00:11<00:00,  5.77s/it]"
     ]
    },
    {
     "name": "stdout",
     "output_type": "stream",
     "text": [
      "                   all         54         59          1      0.875        0.9      0.785      0.989      0.847      0.888      0.731\n"
     ]
    },
    {
     "name": "stderr",
     "output_type": "stream",
     "text": [
      "\n"
     ]
    },
    {
     "name": "stdout",
     "output_type": "stream",
     "text": [
      "\n",
      "      Epoch    GPU_mem   box_loss   seg_loss   cls_loss   dfl_loss  Instances       Size\n"
     ]
    },
    {
     "name": "stderr",
     "output_type": "stream",
     "text": [
      "     84/100         0G     0.4468     0.7446     0.3786     0.9525         43        320: 100%|██████████| 12/12 [01:09<00:00,  5.76s/it]\n",
      "                 Class     Images  Instances      Box(P          R      mAP50  mAP50-95)     Mask(P          R      mAP50  mAP50-95): 100%|██████████| 2/2 [00:09<00:00,  4.98s/it]"
     ]
    },
    {
     "name": "stdout",
     "output_type": "stream",
     "text": [
      "                   all         54         59      0.981       0.86      0.897      0.779          1      0.844      0.891      0.722\n"
     ]
    },
    {
     "name": "stderr",
     "output_type": "stream",
     "text": [
      "\n"
     ]
    },
    {
     "name": "stdout",
     "output_type": "stream",
     "text": [
      "\n",
      "      Epoch    GPU_mem   box_loss   seg_loss   cls_loss   dfl_loss  Instances       Size\n"
     ]
    },
    {
     "name": "stderr",
     "output_type": "stream",
     "text": [
      "     85/100         0G      0.454     0.6697     0.3683     0.9507         45        320: 100%|██████████| 12/12 [01:04<00:00,  5.35s/it]\n",
      "                 Class     Images  Instances      Box(P          R      mAP50  mAP50-95)     Mask(P          R      mAP50  mAP50-95): 100%|██████████| 2/2 [00:10<00:00,  5.25s/it]"
     ]
    },
    {
     "name": "stdout",
     "output_type": "stream",
     "text": [
      "                   all         54         59       0.93      0.897      0.898      0.774      0.973      0.831      0.887      0.734\n"
     ]
    },
    {
     "name": "stderr",
     "output_type": "stream",
     "text": [
      "\n"
     ]
    },
    {
     "name": "stdout",
     "output_type": "stream",
     "text": [
      "\n",
      "      Epoch    GPU_mem   box_loss   seg_loss   cls_loss   dfl_loss  Instances       Size\n"
     ]
    },
    {
     "name": "stderr",
     "output_type": "stream",
     "text": [
      "     86/100         0G     0.4317      0.734     0.3527     0.9399         49        320: 100%|██████████| 12/12 [01:06<00:00,  5.51s/it]\n",
      "                 Class     Images  Instances      Box(P          R      mAP50  mAP50-95)     Mask(P          R      mAP50  mAP50-95): 100%|██████████| 2/2 [00:11<00:00,  5.65s/it]"
     ]
    },
    {
     "name": "stdout",
     "output_type": "stream",
     "text": [
      "                   all         54         59      0.946      0.898      0.906      0.786      0.928      0.881      0.893      0.732\n"
     ]
    },
    {
     "name": "stderr",
     "output_type": "stream",
     "text": [
      "\n"
     ]
    },
    {
     "name": "stdout",
     "output_type": "stream",
     "text": [
      "\n",
      "      Epoch    GPU_mem   box_loss   seg_loss   cls_loss   dfl_loss  Instances       Size\n"
     ]
    },
    {
     "name": "stderr",
     "output_type": "stream",
     "text": [
      "     87/100         0G      0.441     0.7499     0.3802     0.9481         49        320: 100%|██████████| 12/12 [01:07<00:00,  5.61s/it]\n",
      "                 Class     Images  Instances      Box(P          R      mAP50  mAP50-95)     Mask(P          R      mAP50  mAP50-95): 100%|██████████| 2/2 [00:11<00:00,  5.75s/it]"
     ]
    },
    {
     "name": "stdout",
     "output_type": "stream",
     "text": [
      "                   all         54         59      0.945      0.898       0.92      0.799      0.956      0.898       0.92      0.747\n"
     ]
    },
    {
     "name": "stderr",
     "output_type": "stream",
     "text": [
      "\n"
     ]
    },
    {
     "name": "stdout",
     "output_type": "stream",
     "text": [
      "\n",
      "      Epoch    GPU_mem   box_loss   seg_loss   cls_loss   dfl_loss  Instances       Size\n"
     ]
    },
    {
     "name": "stderr",
     "output_type": "stream",
     "text": [
      "     88/100         0G     0.4197     0.6818     0.3418     0.9504         49        320: 100%|██████████| 12/12 [01:05<00:00,  5.47s/it]\n",
      "                 Class     Images  Instances      Box(P          R      mAP50  mAP50-95)     Mask(P          R      mAP50  mAP50-95): 100%|██████████| 2/2 [00:11<00:00,  5.71s/it]"
     ]
    },
    {
     "name": "stdout",
     "output_type": "stream",
     "text": [
      "                   all         54         59      0.972      0.881      0.929       0.79      0.972      0.881      0.929      0.754\n"
     ]
    },
    {
     "name": "stderr",
     "output_type": "stream",
     "text": [
      "\n"
     ]
    },
    {
     "name": "stdout",
     "output_type": "stream",
     "text": [
      "\n",
      "      Epoch    GPU_mem   box_loss   seg_loss   cls_loss   dfl_loss  Instances       Size\n"
     ]
    },
    {
     "name": "stderr",
     "output_type": "stream",
     "text": [
      "     89/100         0G     0.4258     0.6562     0.3579     0.9444         40        320: 100%|██████████| 12/12 [01:06<00:00,  5.56s/it]\n",
      "                 Class     Images  Instances      Box(P          R      mAP50  mAP50-95)     Mask(P          R      mAP50  mAP50-95): 100%|██████████| 2/2 [00:10<00:00,  5.33s/it]"
     ]
    },
    {
     "name": "stdout",
     "output_type": "stream",
     "text": [
      "                   all         54         59      0.979      0.881      0.924      0.792       0.96      0.864      0.908      0.739\n"
     ]
    },
    {
     "name": "stderr",
     "output_type": "stream",
     "text": [
      "\n"
     ]
    },
    {
     "name": "stdout",
     "output_type": "stream",
     "text": [
      "\n",
      "      Epoch    GPU_mem   box_loss   seg_loss   cls_loss   dfl_loss  Instances       Size\n"
     ]
    },
    {
     "name": "stderr",
     "output_type": "stream",
     "text": [
      "     90/100         0G     0.4718     0.7901     0.3745     0.9584         46        320: 100%|██████████| 12/12 [01:07<00:00,  5.65s/it]\n",
      "                 Class     Images  Instances      Box(P          R      mAP50  mAP50-95)     Mask(P          R      mAP50  mAP50-95): 100%|██████████| 2/2 [00:10<00:00,  5.28s/it]"
     ]
    },
    {
     "name": "stdout",
     "output_type": "stream",
     "text": [
      "                   all         54         59      0.929      0.898      0.913      0.767      0.911      0.881      0.897       0.73\n"
     ]
    },
    {
     "name": "stderr",
     "output_type": "stream",
     "text": [
      "\n"
     ]
    },
    {
     "name": "stdout",
     "output_type": "stream",
     "text": [
      "Closing dataloader mosaic\n",
      "\n",
      "      Epoch    GPU_mem   box_loss   seg_loss   cls_loss   dfl_loss  Instances       Size\n"
     ]
    },
    {
     "name": "stderr",
     "output_type": "stream",
     "text": [
      "     91/100         0G     0.3349     0.6473     0.7355     0.9101         13        320: 100%|██████████| 12/12 [01:06<00:00,  5.50s/it]\n",
      "                 Class     Images  Instances      Box(P          R      mAP50  mAP50-95)     Mask(P          R      mAP50  mAP50-95): 100%|██████████| 2/2 [00:10<00:00,  5.13s/it]"
     ]
    },
    {
     "name": "stdout",
     "output_type": "stream",
     "text": [
      "                   all         54         59      0.945      0.898      0.914      0.766      0.927      0.881      0.898      0.719\n"
     ]
    },
    {
     "name": "stderr",
     "output_type": "stream",
     "text": [
      "\n"
     ]
    },
    {
     "name": "stdout",
     "output_type": "stream",
     "text": [
      "\n",
      "      Epoch    GPU_mem   box_loss   seg_loss   cls_loss   dfl_loss  Instances       Size\n"
     ]
    },
    {
     "name": "stderr",
     "output_type": "stream",
     "text": [
      "     92/100         0G     0.2976      0.496     0.5069      0.877         17        320: 100%|██████████| 12/12 [01:00<00:00,  5.08s/it]\n",
      "                 Class     Images  Instances      Box(P          R      mAP50  mAP50-95)     Mask(P          R      mAP50  mAP50-95): 100%|██████████| 2/2 [00:12<00:00,  6.16s/it]"
     ]
    },
    {
     "name": "stdout",
     "output_type": "stream",
     "text": [
      "                   all         54         59      0.945      0.898       0.91      0.773      0.927      0.881      0.891      0.704\n"
     ]
    },
    {
     "name": "stderr",
     "output_type": "stream",
     "text": [
      "\n"
     ]
    },
    {
     "name": "stdout",
     "output_type": "stream",
     "text": [
      "\n",
      "      Epoch    GPU_mem   box_loss   seg_loss   cls_loss   dfl_loss  Instances       Size\n"
     ]
    },
    {
     "name": "stderr",
     "output_type": "stream",
     "text": [
      "     93/100         0G     0.2907     0.4807     0.3908     0.8674         14        320: 100%|██████████| 12/12 [01:01<00:00,  5.13s/it]\n",
      "                 Class     Images  Instances      Box(P          R      mAP50  mAP50-95)     Mask(P          R      mAP50  mAP50-95): 100%|██████████| 2/2 [00:10<00:00,  5.17s/it]"
     ]
    },
    {
     "name": "stdout",
     "output_type": "stream",
     "text": [
      "                   all         54         59      0.946      0.897      0.904      0.772      0.928       0.88      0.886        0.7\n"
     ]
    },
    {
     "name": "stderr",
     "output_type": "stream",
     "text": [
      "\n"
     ]
    },
    {
     "name": "stdout",
     "output_type": "stream",
     "text": [
      "\n",
      "      Epoch    GPU_mem   box_loss   seg_loss   cls_loss   dfl_loss  Instances       Size\n"
     ]
    },
    {
     "name": "stderr",
     "output_type": "stream",
     "text": [
      "     94/100         0G       0.27      0.487     0.3798     0.8661         13        320: 100%|██████████| 12/12 [01:07<00:00,  5.66s/it]\n",
      "                 Class     Images  Instances      Box(P          R      mAP50  mAP50-95)     Mask(P          R      mAP50  mAP50-95): 100%|██████████| 2/2 [00:11<00:00,  5.64s/it]"
     ]
    },
    {
     "name": "stdout",
     "output_type": "stream",
     "text": [
      "                   all         54         59      0.946      0.898      0.904      0.772      0.929      0.881      0.887      0.711\n"
     ]
    },
    {
     "name": "stderr",
     "output_type": "stream",
     "text": [
      "\n"
     ]
    },
    {
     "name": "stdout",
     "output_type": "stream",
     "text": [
      "\n",
      "      Epoch    GPU_mem   box_loss   seg_loss   cls_loss   dfl_loss  Instances       Size\n"
     ]
    },
    {
     "name": "stderr",
     "output_type": "stream",
     "text": [
      "     95/100         0G     0.2837     0.4956     0.3613     0.8819         14        320: 100%|██████████| 12/12 [01:07<00:00,  5.60s/it]\n",
      "                 Class     Images  Instances      Box(P          R      mAP50  mAP50-95)     Mask(P          R      mAP50  mAP50-95): 100%|██████████| 2/2 [00:10<00:00,  5.34s/it]"
     ]
    },
    {
     "name": "stdout",
     "output_type": "stream",
     "text": [
      "                   all         54         59      0.946      0.897      0.901      0.779      0.928       0.88      0.887      0.722\n"
     ]
    },
    {
     "name": "stderr",
     "output_type": "stream",
     "text": [
      "\n"
     ]
    },
    {
     "name": "stdout",
     "output_type": "stream",
     "text": [
      "\n",
      "      Epoch    GPU_mem   box_loss   seg_loss   cls_loss   dfl_loss  Instances       Size\n"
     ]
    },
    {
     "name": "stderr",
     "output_type": "stream",
     "text": [
      "     96/100         0G     0.2693     0.5049     0.3236     0.8734         14        320: 100%|██████████| 12/12 [01:01<00:00,  5.13s/it]\n",
      "                 Class     Images  Instances      Box(P          R      mAP50  mAP50-95)     Mask(P          R      mAP50  mAP50-95): 100%|██████████| 2/2 [00:11<00:00,  5.86s/it]"
     ]
    },
    {
     "name": "stdout",
     "output_type": "stream",
     "text": [
      "                   all         54         59      0.946      0.898      0.903      0.769      0.929      0.881      0.887      0.728\n"
     ]
    },
    {
     "name": "stderr",
     "output_type": "stream",
     "text": [
      "\n"
     ]
    },
    {
     "name": "stdout",
     "output_type": "stream",
     "text": [
      "\n",
      "      Epoch    GPU_mem   box_loss   seg_loss   cls_loss   dfl_loss  Instances       Size\n"
     ]
    },
    {
     "name": "stderr",
     "output_type": "stream",
     "text": [
      "     97/100         0G     0.3014     0.5015     0.4026     0.8838         14        320: 100%|██████████| 12/12 [01:04<00:00,  5.40s/it]\n",
      "                 Class     Images  Instances      Box(P          R      mAP50  mAP50-95)     Mask(P          R      mAP50  mAP50-95): 100%|██████████| 2/2 [00:10<00:00,  5.19s/it]"
     ]
    },
    {
     "name": "stdout",
     "output_type": "stream",
     "text": [
      "                   all         54         59      0.946      0.898      0.909      0.779      0.944      0.864      0.891      0.728\n"
     ]
    },
    {
     "name": "stderr",
     "output_type": "stream",
     "text": [
      "\n"
     ]
    },
    {
     "name": "stdout",
     "output_type": "stream",
     "text": [
      "\n",
      "      Epoch    GPU_mem   box_loss   seg_loss   cls_loss   dfl_loss  Instances       Size\n"
     ]
    },
    {
     "name": "stderr",
     "output_type": "stream",
     "text": [
      "     98/100         0G     0.2698     0.4934     0.3326     0.8852         14        320: 100%|██████████| 12/12 [01:08<00:00,  5.68s/it]\n",
      "                 Class     Images  Instances      Box(P          R      mAP50  mAP50-95)     Mask(P          R      mAP50  mAP50-95): 100%|██████████| 2/2 [00:10<00:00,  5.24s/it]"
     ]
    },
    {
     "name": "stdout",
     "output_type": "stream",
     "text": [
      "                   all         54         59      0.946      0.898      0.913      0.775      0.944      0.864      0.893      0.728\n"
     ]
    },
    {
     "name": "stderr",
     "output_type": "stream",
     "text": [
      "\n"
     ]
    },
    {
     "name": "stdout",
     "output_type": "stream",
     "text": [
      "\n",
      "      Epoch    GPU_mem   box_loss   seg_loss   cls_loss   dfl_loss  Instances       Size\n"
     ]
    },
    {
     "name": "stderr",
     "output_type": "stream",
     "text": [
      "     99/100         0G      0.249      0.467     0.3261     0.8551         14        320: 100%|██████████| 12/12 [01:05<00:00,  5.42s/it]\n",
      "                 Class     Images  Instances      Box(P          R      mAP50  mAP50-95)     Mask(P          R      mAP50  mAP50-95): 100%|██████████| 2/2 [00:11<00:00,  5.83s/it]"
     ]
    },
    {
     "name": "stdout",
     "output_type": "stream",
     "text": [
      "                   all         54         59      0.961      0.881      0.913      0.781      0.943      0.864      0.894      0.727\n"
     ]
    },
    {
     "name": "stderr",
     "output_type": "stream",
     "text": [
      "\n"
     ]
    },
    {
     "name": "stdout",
     "output_type": "stream",
     "text": [
      "\n",
      "      Epoch    GPU_mem   box_loss   seg_loss   cls_loss   dfl_loss  Instances       Size\n"
     ]
    },
    {
     "name": "stderr",
     "output_type": "stream",
     "text": [
      "    100/100         0G     0.2383       0.43     0.2695     0.8537         13        320: 100%|██████████| 12/12 [01:02<00:00,  5.25s/it]\n",
      "                 Class     Images  Instances      Box(P          R      mAP50  mAP50-95)     Mask(P          R      mAP50  mAP50-95): 100%|██████████| 2/2 [00:11<00:00,  5.57s/it]"
     ]
    },
    {
     "name": "stdout",
     "output_type": "stream",
     "text": [
      "                   all         54         59      0.964      0.898      0.914      0.779      0.945      0.881      0.895      0.725\n"
     ]
    },
    {
     "name": "stderr",
     "output_type": "stream",
     "text": [
      "\n"
     ]
    },
    {
     "name": "stdout",
     "output_type": "stream",
     "text": [
      "\n",
      "100 epochs completed in 8.734 hours.\n",
      "Optimizer stripped from runs\\segment\\train6\\weights\\last.pt, 6.7MB\n",
      "Optimizer stripped from runs\\segment\\train6\\weights\\best.pt, 6.7MB\n",
      "\n",
      "Validating runs\\segment\\train6\\weights\\best.pt...\n",
      "Ultralytics YOLOv8.2.103  Python-3.10.0 torch-2.5.1+cpu CPU (Intel Core(TM) i5-8250U 1.60GHz)\n",
      "YOLOv8n-seg summary (fused): 195 layers, 3,258,259 parameters, 0 gradients, 12.0 GFLOPs\n"
     ]
    },
    {
     "name": "stderr",
     "output_type": "stream",
     "text": [
      "                 Class     Images  Instances      Box(P          R      mAP50  mAP50-95)     Mask(P          R      mAP50  mAP50-95): 100%|██████████| 2/2 [00:09<00:00,  4.90s/it]\n"
     ]
    },
    {
     "name": "stdout",
     "output_type": "stream",
     "text": [
      "                   all         54         59      0.978      0.915       0.92      0.822      0.978      0.915       0.92       0.75\n",
      "Speed: 0.8ms preprocess, 52.7ms inference, 0.0ms loss, 3.8ms postprocess per image\n",
      "Results saved to \u001b[1mruns\\segment\\train6\u001b[0m\n"
     ]
    },
    {
     "data": {
      "text/plain": [
       "ultralytics.utils.metrics.SegmentMetrics object with attributes:\n",
       "\n",
       "ap_class_index: array([0])\n",
       "box: ultralytics.utils.metrics.Metric object\n",
       "confusion_matrix: <ultralytics.utils.metrics.ConfusionMatrix object at 0x0000026148EBC100>\n",
       "curves: ['Precision-Recall(B)', 'F1-Confidence(B)', 'Precision-Confidence(B)', 'Recall-Confidence(B)', 'Precision-Recall(M)', 'F1-Confidence(M)', 'Precision-Confidence(M)', 'Recall-Confidence(M)']\n",
       "curves_results: [[array([          0,    0.001001,    0.002002,    0.003003,    0.004004,    0.005005,    0.006006,    0.007007,    0.008008,    0.009009,     0.01001,    0.011011,    0.012012,    0.013013,    0.014014,    0.015015,    0.016016,    0.017017,    0.018018,    0.019019,     0.02002,    0.021021,    0.022022,    0.023023,\n",
       "          0.024024,    0.025025,    0.026026,    0.027027,    0.028028,    0.029029,     0.03003,    0.031031,    0.032032,    0.033033,    0.034034,    0.035035,    0.036036,    0.037037,    0.038038,    0.039039,     0.04004,    0.041041,    0.042042,    0.043043,    0.044044,    0.045045,    0.046046,    0.047047,\n",
       "          0.048048,    0.049049,     0.05005,    0.051051,    0.052052,    0.053053,    0.054054,    0.055055,    0.056056,    0.057057,    0.058058,    0.059059,     0.06006,    0.061061,    0.062062,    0.063063,    0.064064,    0.065065,    0.066066,    0.067067,    0.068068,    0.069069,     0.07007,    0.071071,\n",
       "          0.072072,    0.073073,    0.074074,    0.075075,    0.076076,    0.077077,    0.078078,    0.079079,     0.08008,    0.081081,    0.082082,    0.083083,    0.084084,    0.085085,    0.086086,    0.087087,    0.088088,    0.089089,     0.09009,    0.091091,    0.092092,    0.093093,    0.094094,    0.095095,\n",
       "          0.096096,    0.097097,    0.098098,    0.099099,      0.1001,      0.1011,      0.1021,      0.1031,      0.1041,     0.10511,     0.10611,     0.10711,     0.10811,     0.10911,     0.11011,     0.11111,     0.11211,     0.11311,     0.11411,     0.11512,     0.11612,     0.11712,     0.11812,     0.11912,\n",
       "           0.12012,     0.12112,     0.12212,     0.12312,     0.12412,     0.12513,     0.12613,     0.12713,     0.12813,     0.12913,     0.13013,     0.13113,     0.13213,     0.13313,     0.13413,     0.13514,     0.13614,     0.13714,     0.13814,     0.13914,     0.14014,     0.14114,     0.14214,     0.14314,\n",
       "           0.14414,     0.14515,     0.14615,     0.14715,     0.14815,     0.14915,     0.15015,     0.15115,     0.15215,     0.15315,     0.15415,     0.15516,     0.15616,     0.15716,     0.15816,     0.15916,     0.16016,     0.16116,     0.16216,     0.16316,     0.16416,     0.16517,     0.16617,     0.16717,\n",
       "           0.16817,     0.16917,     0.17017,     0.17117,     0.17217,     0.17317,     0.17417,     0.17518,     0.17618,     0.17718,     0.17818,     0.17918,     0.18018,     0.18118,     0.18218,     0.18318,     0.18418,     0.18519,     0.18619,     0.18719,     0.18819,     0.18919,     0.19019,     0.19119,\n",
       "           0.19219,     0.19319,     0.19419,      0.1952,      0.1962,      0.1972,      0.1982,      0.1992,      0.2002,      0.2012,      0.2022,      0.2032,      0.2042,     0.20521,     0.20621,     0.20721,     0.20821,     0.20921,     0.21021,     0.21121,     0.21221,     0.21321,     0.21421,     0.21522,\n",
       "           0.21622,     0.21722,     0.21822,     0.21922,     0.22022,     0.22122,     0.22222,     0.22322,     0.22422,     0.22523,     0.22623,     0.22723,     0.22823,     0.22923,     0.23023,     0.23123,     0.23223,     0.23323,     0.23423,     0.23524,     0.23624,     0.23724,     0.23824,     0.23924,\n",
       "           0.24024,     0.24124,     0.24224,     0.24324,     0.24424,     0.24525,     0.24625,     0.24725,     0.24825,     0.24925,     0.25025,     0.25125,     0.25225,     0.25325,     0.25425,     0.25526,     0.25626,     0.25726,     0.25826,     0.25926,     0.26026,     0.26126,     0.26226,     0.26326,\n",
       "           0.26426,     0.26527,     0.26627,     0.26727,     0.26827,     0.26927,     0.27027,     0.27127,     0.27227,     0.27327,     0.27427,     0.27528,     0.27628,     0.27728,     0.27828,     0.27928,     0.28028,     0.28128,     0.28228,     0.28328,     0.28428,     0.28529,     0.28629,     0.28729,\n",
       "           0.28829,     0.28929,     0.29029,     0.29129,     0.29229,     0.29329,     0.29429,      0.2953,      0.2963,      0.2973,      0.2983,      0.2993,      0.3003,      0.3013,      0.3023,      0.3033,      0.3043,     0.30531,     0.30631,     0.30731,     0.30831,     0.30931,     0.31031,     0.31131,\n",
       "           0.31231,     0.31331,     0.31431,     0.31532,     0.31632,     0.31732,     0.31832,     0.31932,     0.32032,     0.32132,     0.32232,     0.32332,     0.32432,     0.32533,     0.32633,     0.32733,     0.32833,     0.32933,     0.33033,     0.33133,     0.33233,     0.33333,     0.33433,     0.33534,\n",
       "           0.33634,     0.33734,     0.33834,     0.33934,     0.34034,     0.34134,     0.34234,     0.34334,     0.34434,     0.34535,     0.34635,     0.34735,     0.34835,     0.34935,     0.35035,     0.35135,     0.35235,     0.35335,     0.35435,     0.35536,     0.35636,     0.35736,     0.35836,     0.35936,\n",
       "           0.36036,     0.36136,     0.36236,     0.36336,     0.36436,     0.36537,     0.36637,     0.36737,     0.36837,     0.36937,     0.37037,     0.37137,     0.37237,     0.37337,     0.37437,     0.37538,     0.37638,     0.37738,     0.37838,     0.37938,     0.38038,     0.38138,     0.38238,     0.38338,\n",
       "           0.38438,     0.38539,     0.38639,     0.38739,     0.38839,     0.38939,     0.39039,     0.39139,     0.39239,     0.39339,     0.39439,      0.3954,      0.3964,      0.3974,      0.3984,      0.3994,      0.4004,      0.4014,      0.4024,      0.4034,      0.4044,     0.40541,     0.40641,     0.40741,\n",
       "           0.40841,     0.40941,     0.41041,     0.41141,     0.41241,     0.41341,     0.41441,     0.41542,     0.41642,     0.41742,     0.41842,     0.41942,     0.42042,     0.42142,     0.42242,     0.42342,     0.42442,     0.42543,     0.42643,     0.42743,     0.42843,     0.42943,     0.43043,     0.43143,\n",
       "           0.43243,     0.43343,     0.43443,     0.43544,     0.43644,     0.43744,     0.43844,     0.43944,     0.44044,     0.44144,     0.44244,     0.44344,     0.44444,     0.44545,     0.44645,     0.44745,     0.44845,     0.44945,     0.45045,     0.45145,     0.45245,     0.45345,     0.45445,     0.45546,\n",
       "           0.45646,     0.45746,     0.45846,     0.45946,     0.46046,     0.46146,     0.46246,     0.46346,     0.46446,     0.46547,     0.46647,     0.46747,     0.46847,     0.46947,     0.47047,     0.47147,     0.47247,     0.47347,     0.47447,     0.47548,     0.47648,     0.47748,     0.47848,     0.47948,\n",
       "           0.48048,     0.48148,     0.48248,     0.48348,     0.48448,     0.48549,     0.48649,     0.48749,     0.48849,     0.48949,     0.49049,     0.49149,     0.49249,     0.49349,     0.49449,      0.4955,      0.4965,      0.4975,      0.4985,      0.4995,      0.5005,      0.5015,      0.5025,      0.5035,\n",
       "            0.5045,     0.50551,     0.50651,     0.50751,     0.50851,     0.50951,     0.51051,     0.51151,     0.51251,     0.51351,     0.51451,     0.51552,     0.51652,     0.51752,     0.51852,     0.51952,     0.52052,     0.52152,     0.52252,     0.52352,     0.52452,     0.52553,     0.52653,     0.52753,\n",
       "           0.52853,     0.52953,     0.53053,     0.53153,     0.53253,     0.53353,     0.53453,     0.53554,     0.53654,     0.53754,     0.53854,     0.53954,     0.54054,     0.54154,     0.54254,     0.54354,     0.54454,     0.54555,     0.54655,     0.54755,     0.54855,     0.54955,     0.55055,     0.55155,\n",
       "           0.55255,     0.55355,     0.55455,     0.55556,     0.55656,     0.55756,     0.55856,     0.55956,     0.56056,     0.56156,     0.56256,     0.56356,     0.56456,     0.56557,     0.56657,     0.56757,     0.56857,     0.56957,     0.57057,     0.57157,     0.57257,     0.57357,     0.57457,     0.57558,\n",
       "           0.57658,     0.57758,     0.57858,     0.57958,     0.58058,     0.58158,     0.58258,     0.58358,     0.58458,     0.58559,     0.58659,     0.58759,     0.58859,     0.58959,     0.59059,     0.59159,     0.59259,     0.59359,     0.59459,      0.5956,      0.5966,      0.5976,      0.5986,      0.5996,\n",
       "            0.6006,      0.6016,      0.6026,      0.6036,      0.6046,     0.60561,     0.60661,     0.60761,     0.60861,     0.60961,     0.61061,     0.61161,     0.61261,     0.61361,     0.61461,     0.61562,     0.61662,     0.61762,     0.61862,     0.61962,     0.62062,     0.62162,     0.62262,     0.62362,\n",
       "           0.62462,     0.62563,     0.62663,     0.62763,     0.62863,     0.62963,     0.63063,     0.63163,     0.63263,     0.63363,     0.63463,     0.63564,     0.63664,     0.63764,     0.63864,     0.63964,     0.64064,     0.64164,     0.64264,     0.64364,     0.64464,     0.64565,     0.64665,     0.64765,\n",
       "           0.64865,     0.64965,     0.65065,     0.65165,     0.65265,     0.65365,     0.65465,     0.65566,     0.65666,     0.65766,     0.65866,     0.65966,     0.66066,     0.66166,     0.66266,     0.66366,     0.66466,     0.66567,     0.66667,     0.66767,     0.66867,     0.66967,     0.67067,     0.67167,\n",
       "           0.67267,     0.67367,     0.67467,     0.67568,     0.67668,     0.67768,     0.67868,     0.67968,     0.68068,     0.68168,     0.68268,     0.68368,     0.68468,     0.68569,     0.68669,     0.68769,     0.68869,     0.68969,     0.69069,     0.69169,     0.69269,     0.69369,     0.69469,      0.6957,\n",
       "            0.6967,      0.6977,      0.6987,      0.6997,      0.7007,      0.7017,      0.7027,      0.7037,      0.7047,     0.70571,     0.70671,     0.70771,     0.70871,     0.70971,     0.71071,     0.71171,     0.71271,     0.71371,     0.71471,     0.71572,     0.71672,     0.71772,     0.71872,     0.71972,\n",
       "           0.72072,     0.72172,     0.72272,     0.72372,     0.72472,     0.72573,     0.72673,     0.72773,     0.72873,     0.72973,     0.73073,     0.73173,     0.73273,     0.73373,     0.73473,     0.73574,     0.73674,     0.73774,     0.73874,     0.73974,     0.74074,     0.74174,     0.74274,     0.74374,\n",
       "           0.74474,     0.74575,     0.74675,     0.74775,     0.74875,     0.74975,     0.75075,     0.75175,     0.75275,     0.75375,     0.75475,     0.75576,     0.75676,     0.75776,     0.75876,     0.75976,     0.76076,     0.76176,     0.76276,     0.76376,     0.76476,     0.76577,     0.76677,     0.76777,\n",
       "           0.76877,     0.76977,     0.77077,     0.77177,     0.77277,     0.77377,     0.77477,     0.77578,     0.77678,     0.77778,     0.77878,     0.77978,     0.78078,     0.78178,     0.78278,     0.78378,     0.78478,     0.78579,     0.78679,     0.78779,     0.78879,     0.78979,     0.79079,     0.79179,\n",
       "           0.79279,     0.79379,     0.79479,      0.7958,      0.7968,      0.7978,      0.7988,      0.7998,      0.8008,      0.8018,      0.8028,      0.8038,      0.8048,     0.80581,     0.80681,     0.80781,     0.80881,     0.80981,     0.81081,     0.81181,     0.81281,     0.81381,     0.81481,     0.81582,\n",
       "           0.81682,     0.81782,     0.81882,     0.81982,     0.82082,     0.82182,     0.82282,     0.82382,     0.82482,     0.82583,     0.82683,     0.82783,     0.82883,     0.82983,     0.83083,     0.83183,     0.83283,     0.83383,     0.83483,     0.83584,     0.83684,     0.83784,     0.83884,     0.83984,\n",
       "           0.84084,     0.84184,     0.84284,     0.84384,     0.84484,     0.84585,     0.84685,     0.84785,     0.84885,     0.84985,     0.85085,     0.85185,     0.85285,     0.85385,     0.85485,     0.85586,     0.85686,     0.85786,     0.85886,     0.85986,     0.86086,     0.86186,     0.86286,     0.86386,\n",
       "           0.86486,     0.86587,     0.86687,     0.86787,     0.86887,     0.86987,     0.87087,     0.87187,     0.87287,     0.87387,     0.87487,     0.87588,     0.87688,     0.87788,     0.87888,     0.87988,     0.88088,     0.88188,     0.88288,     0.88388,     0.88488,     0.88589,     0.88689,     0.88789,\n",
       "           0.88889,     0.88989,     0.89089,     0.89189,     0.89289,     0.89389,     0.89489,      0.8959,      0.8969,      0.8979,      0.8989,      0.8999,      0.9009,      0.9019,      0.9029,      0.9039,      0.9049,     0.90591,     0.90691,     0.90791,     0.90891,     0.90991,     0.91091,     0.91191,\n",
       "           0.91291,     0.91391,     0.91491,     0.91592,     0.91692,     0.91792,     0.91892,     0.91992,     0.92092,     0.92192,     0.92292,     0.92392,     0.92492,     0.92593,     0.92693,     0.92793,     0.92893,     0.92993,     0.93093,     0.93193,     0.93293,     0.93393,     0.93493,     0.93594,\n",
       "           0.93694,     0.93794,     0.93894,     0.93994,     0.94094,     0.94194,     0.94294,     0.94394,     0.94494,     0.94595,     0.94695,     0.94795,     0.94895,     0.94995,     0.95095,     0.95195,     0.95295,     0.95395,     0.95495,     0.95596,     0.95696,     0.95796,     0.95896,     0.95996,\n",
       "           0.96096,     0.96196,     0.96296,     0.96396,     0.96496,     0.96597,     0.96697,     0.96797,     0.96897,     0.96997,     0.97097,     0.97197,     0.97297,     0.97397,     0.97497,     0.97598,     0.97698,     0.97798,     0.97898,     0.97998,     0.98098,     0.98198,     0.98298,     0.98398,\n",
       "           0.98498,     0.98599,     0.98699,     0.98799,     0.98899,     0.98999,     0.99099,     0.99199,     0.99299,     0.99399,     0.99499,       0.996,       0.997,       0.998,       0.999,           1]), array([[          1,           1,           1,           1,           1,           1,           1,           1,           1,           1,           1,           1,           1,           1,           1,           1,           1,           1,           1,           1,           1,           1,           1,\n",
       "                  1,           1,           1,           1,           1,           1,           1,           1,           1,           1,           1,           1,           1,           1,           1,           1,           1,           1,           1,           1,           1,           1,           1,\n",
       "                  1,           1,           1,           1,           1,           1,           1,           1,           1,           1,           1,           1,           1,           1,           1,           1,           1,           1,           1,           1,           1,           1,           1,\n",
       "                  1,           1,           1,           1,           1,           1,           1,           1,           1,           1,           1,           1,           1,           1,           1,           1,           1,           1,           1,           1,           1,           1,           1,\n",
       "                  1,           1,           1,           1,           1,           1,           1,           1,           1,           1,           1,           1,           1,           1,           1,           1,           1,           1,           1,           1,           1,           1,           1,\n",
       "                  1,           1,           1,           1,           1,           1,           1,           1,           1,           1,           1,           1,           1,           1,           1,           1,           1,           1,           1,           1,           1,           1,           1,\n",
       "                  1,           1,           1,           1,           1,           1,           1,           1,           1,           1,           1,           1,           1,           1,           1,           1,           1,           1,           1,           1,           1,           1,           1,\n",
       "                  1,           1,           1,           1,           1,           1,           1,           1,           1,           1,           1,           1,           1,           1,           1,           1,           1,           1,           1,           1,           1,           1,           1,\n",
       "                  1,           1,           1,           1,           1,           1,           1,           1,           1,           1,           1,           1,           1,           1,           1,           1,           1,           1,           1,           1,           1,           1,           1,\n",
       "                  1,           1,           1,           1,           1,           1,           1,           1,           1,           1,           1,           1,           1,           1,           1,           1,           1,           1,           1,           1,           1,           1,           1,\n",
       "                  1,           1,           1,           1,           1,           1,           1,           1,           1,           1,           1,           1,           1,           1,           1,           1,           1,           1,           1,           1,           1,           1,           1,\n",
       "                  1,           1,           1,           1,           1,           1,           1,           1,           1,           1,           1,           1,           1,           1,           1,           1,           1,           1,           1,           1,           1,           1,           1,\n",
       "                  1,           1,           1,           1,           1,           1,           1,           1,           1,           1,           1,           1,           1,           1,           1,           1,           1,           1,           1,           1,           1,           1,           1,\n",
       "                  1,           1,           1,           1,           1,           1,           1,           1,           1,           1,           1,           1,           1,           1,           1,           1,           1,           1,           1,           1,           1,           1,           1,\n",
       "                  1,           1,           1,           1,           1,           1,           1,           1,           1,           1,           1,           1,           1,           1,           1,           1,           1,           1,           1,           1,           1,           1,           1,\n",
       "                  1,           1,           1,           1,           1,           1,           1,           1,           1,           1,           1,           1,           1,           1,           1,           1,           1,           1,           1,           1,           1,           1,           1,\n",
       "                  1,           1,           1,           1,           1,           1,           1,           1,           1,           1,           1,           1,           1,           1,           1,           1,           1,           1,           1,           1,           1,           1,           1,\n",
       "                  1,           1,           1,           1,           1,           1,           1,           1,           1,           1,           1,           1,           1,           1,           1,           1,           1,           1,           1,           1,           1,           1,           1,\n",
       "                  1,           1,           1,           1,           1,           1,           1,           1,           1,           1,           1,           1,           1,           1,           1,           1,           1,           1,           1,           1,           1,           1,           1,\n",
       "                  1,           1,           1,           1,           1,           1,           1,           1,           1,           1,           1,           1,           1,           1,           1,           1,           1,           1,           1,           1,           1,           1,           1,\n",
       "                  1,           1,           1,           1,           1,           1,           1,           1,           1,           1,           1,           1,           1,           1,           1,           1,           1,           1,           1,           1,           1,           1,           1,\n",
       "                  1,           1,           1,           1,           1,           1,           1,           1,           1,           1,           1,           1,           1,           1,           1,           1,           1,           1,           1,           1,           1,           1,           1,\n",
       "                  1,           1,           1,           1,           1,           1,           1,           1,           1,           1,           1,           1,           1,           1,           1,           1,           1,           1,           1,           1,           1,           1,           1,\n",
       "                  1,           1,           1,           1,           1,           1,           1,           1,           1,           1,           1,           1,           1,           1,           1,           1,           1,           1,           1,           1,           1,           1,           1,\n",
       "                  1,           1,           1,           1,           1,           1,           1,           1,           1,           1,           1,           1,           1,           1,           1,           1,           1,           1,           1,           1,           1,           1,           1,\n",
       "                  1,           1,           1,           1,           1,           1,           1,           1,           1,           1,           1,           1,           1,           1,           1,           1,           1,           1,           1,           1,           1,           1,           1,\n",
       "                  1,           1,           1,           1,           1,           1,           1,           1,           1,           1,           1,           1,           1,           1,           1,           1,           1,           1,           1,           1,           1,           1,           1,\n",
       "                  1,           1,           1,           1,           1,           1,           1,           1,           1,           1,           1,           1,           1,           1,           1,           1,           1,           1,           1,           1,           1,           1,           1,\n",
       "                  1,           1,           1,           1,           1,           1,           1,           1,           1,           1,           1,           1,           1,           1,           1,           1,           1,           1,           1,           1,           1,           1,           1,\n",
       "                  1,           1,           1,           1,           1,           1,           1,           1,           1,           1,           1,           1,           1,           1,           1,           1,           1,           1,           1,           1,           1,           1,           1,\n",
       "                  1,           1,           1,           1,           1,           1,           1,           1,           1,           1,           1,           1,           1,           1,           1,           1,           1,           1,           1,           1,           1,           1,           1,\n",
       "                  1,           1,           1,           1,           1,           1,           1,           1,           1,           1,           1,           1,           1,           1,           1,           1,           1,           1,           1,           1,           1,           1,           1,\n",
       "                  1,           1,           1,           1,           1,           1,           1,           1,           1,           1,           1,           1,           1,           1,           1,           1,           1,           1,           1,           1,           1,           1,           1,\n",
       "                  1,           1,           1,           1,           1,           1,           1,           1,           1,           1,           1,           1,           1,           1,           1,           1,           1,           1,           1,           1,           1,           1,           1,\n",
       "                  1,           1,           1,           1,           1,           1,           1,           1,           1,           1,           1,           1,           1,           1,           1,           1,           1,           1,           1,           1,           1,           1,           1,\n",
       "                  1,           1,           1,           1,           1,           1,           1,           1,           1,           1,           1,           1,           1,           1,           1,           1,           1,           1,           1,           1,           1,           1,           1,\n",
       "                  1,           1,           1,           1,           1,           1,           1,           1,           1,           1,           1,           1,           1,           1,           1,           1,           1,           1,           1,           1,           1,           1,           1,\n",
       "                  1,           1,           1,           1,           1,           1,           1,           1,           1,           1,           1,           1,           1,           1,           1,           1,           1,           1,           1,           1,           1,           1,           1,\n",
       "                  1,           1,           1,           1,           1,           1,           1,           1,           1,           1,           1,           1,           1,           1,           1,           1,           1,           1,           1,           1,           1,           1,           1,\n",
       "                  1,     0.98182,     0.98182,     0.98182,     0.98182,     0.98182,     0.98182,     0.98182,     0.98182,     0.98182,     0.98182,     0.98182,     0.98182,     0.98182,     0.98182,     0.98182,     0.98182,     0.98182,     0.15152,     0.15152,     0.15152,     0.15152,     0.15152,\n",
       "            0.15152,     0.15152,     0.15152,     0.15152,     0.15152,     0.15152,     0.15152,     0.15152,     0.15152,     0.15152,     0.15152,     0.15152,     0.10145,     0.10145,     0.10145,     0.10145,     0.10145,     0.10145,     0.10145,     0.10145,     0.10145,     0.10145,     0.10145,\n",
       "            0.10145,     0.10145,     0.10145,     0.10145,     0.10145,     0.10145,    0.059748,    0.059748,    0.059748,    0.059748,    0.059748,    0.059748,    0.059748,    0.059748,    0.059748,    0.059748,    0.059748,    0.059748,    0.059748,    0.059748,    0.059748,    0.059748,    0.059748,\n",
       "           0.023124,    0.022424,    0.021723,    0.021022,    0.020322,    0.019621,     0.01892,    0.018219,    0.017519,    0.016818,    0.016117,    0.015416,    0.014716,    0.014015,    0.013314,    0.012613,    0.011913,    0.011212,    0.010511,   0.0098104,   0.0091097,   0.0084089,   0.0077082,\n",
       "          0.0070074,   0.0063067,   0.0056059,   0.0049052,   0.0042045,   0.0035037,    0.002803,   0.0021022,   0.0014015,  0.00070074,           0]]), 'Recall', 'Precision'], [array([          0,    0.001001,    0.002002,    0.003003,    0.004004,    0.005005,    0.006006,    0.007007,    0.008008,    0.009009,     0.01001,    0.011011,    0.012012,    0.013013,    0.014014,    0.015015,    0.016016,    0.017017,    0.018018,    0.019019,     0.02002,    0.021021,    0.022022,    0.023023,\n",
       "          0.024024,    0.025025,    0.026026,    0.027027,    0.028028,    0.029029,     0.03003,    0.031031,    0.032032,    0.033033,    0.034034,    0.035035,    0.036036,    0.037037,    0.038038,    0.039039,     0.04004,    0.041041,    0.042042,    0.043043,    0.044044,    0.045045,    0.046046,    0.047047,\n",
       "          0.048048,    0.049049,     0.05005,    0.051051,    0.052052,    0.053053,    0.054054,    0.055055,    0.056056,    0.057057,    0.058058,    0.059059,     0.06006,    0.061061,    0.062062,    0.063063,    0.064064,    0.065065,    0.066066,    0.067067,    0.068068,    0.069069,     0.07007,    0.071071,\n",
       "          0.072072,    0.073073,    0.074074,    0.075075,    0.076076,    0.077077,    0.078078,    0.079079,     0.08008,    0.081081,    0.082082,    0.083083,    0.084084,    0.085085,    0.086086,    0.087087,    0.088088,    0.089089,     0.09009,    0.091091,    0.092092,    0.093093,    0.094094,    0.095095,\n",
       "          0.096096,    0.097097,    0.098098,    0.099099,      0.1001,      0.1011,      0.1021,      0.1031,      0.1041,     0.10511,     0.10611,     0.10711,     0.10811,     0.10911,     0.11011,     0.11111,     0.11211,     0.11311,     0.11411,     0.11512,     0.11612,     0.11712,     0.11812,     0.11912,\n",
       "           0.12012,     0.12112,     0.12212,     0.12312,     0.12412,     0.12513,     0.12613,     0.12713,     0.12813,     0.12913,     0.13013,     0.13113,     0.13213,     0.13313,     0.13413,     0.13514,     0.13614,     0.13714,     0.13814,     0.13914,     0.14014,     0.14114,     0.14214,     0.14314,\n",
       "           0.14414,     0.14515,     0.14615,     0.14715,     0.14815,     0.14915,     0.15015,     0.15115,     0.15215,     0.15315,     0.15415,     0.15516,     0.15616,     0.15716,     0.15816,     0.15916,     0.16016,     0.16116,     0.16216,     0.16316,     0.16416,     0.16517,     0.16617,     0.16717,\n",
       "           0.16817,     0.16917,     0.17017,     0.17117,     0.17217,     0.17317,     0.17417,     0.17518,     0.17618,     0.17718,     0.17818,     0.17918,     0.18018,     0.18118,     0.18218,     0.18318,     0.18418,     0.18519,     0.18619,     0.18719,     0.18819,     0.18919,     0.19019,     0.19119,\n",
       "           0.19219,     0.19319,     0.19419,      0.1952,      0.1962,      0.1972,      0.1982,      0.1992,      0.2002,      0.2012,      0.2022,      0.2032,      0.2042,     0.20521,     0.20621,     0.20721,     0.20821,     0.20921,     0.21021,     0.21121,     0.21221,     0.21321,     0.21421,     0.21522,\n",
       "           0.21622,     0.21722,     0.21822,     0.21922,     0.22022,     0.22122,     0.22222,     0.22322,     0.22422,     0.22523,     0.22623,     0.22723,     0.22823,     0.22923,     0.23023,     0.23123,     0.23223,     0.23323,     0.23423,     0.23524,     0.23624,     0.23724,     0.23824,     0.23924,\n",
       "           0.24024,     0.24124,     0.24224,     0.24324,     0.24424,     0.24525,     0.24625,     0.24725,     0.24825,     0.24925,     0.25025,     0.25125,     0.25225,     0.25325,     0.25425,     0.25526,     0.25626,     0.25726,     0.25826,     0.25926,     0.26026,     0.26126,     0.26226,     0.26326,\n",
       "           0.26426,     0.26527,     0.26627,     0.26727,     0.26827,     0.26927,     0.27027,     0.27127,     0.27227,     0.27327,     0.27427,     0.27528,     0.27628,     0.27728,     0.27828,     0.27928,     0.28028,     0.28128,     0.28228,     0.28328,     0.28428,     0.28529,     0.28629,     0.28729,\n",
       "           0.28829,     0.28929,     0.29029,     0.29129,     0.29229,     0.29329,     0.29429,      0.2953,      0.2963,      0.2973,      0.2983,      0.2993,      0.3003,      0.3013,      0.3023,      0.3033,      0.3043,     0.30531,     0.30631,     0.30731,     0.30831,     0.30931,     0.31031,     0.31131,\n",
       "           0.31231,     0.31331,     0.31431,     0.31532,     0.31632,     0.31732,     0.31832,     0.31932,     0.32032,     0.32132,     0.32232,     0.32332,     0.32432,     0.32533,     0.32633,     0.32733,     0.32833,     0.32933,     0.33033,     0.33133,     0.33233,     0.33333,     0.33433,     0.33534,\n",
       "           0.33634,     0.33734,     0.33834,     0.33934,     0.34034,     0.34134,     0.34234,     0.34334,     0.34434,     0.34535,     0.34635,     0.34735,     0.34835,     0.34935,     0.35035,     0.35135,     0.35235,     0.35335,     0.35435,     0.35536,     0.35636,     0.35736,     0.35836,     0.35936,\n",
       "           0.36036,     0.36136,     0.36236,     0.36336,     0.36436,     0.36537,     0.36637,     0.36737,     0.36837,     0.36937,     0.37037,     0.37137,     0.37237,     0.37337,     0.37437,     0.37538,     0.37638,     0.37738,     0.37838,     0.37938,     0.38038,     0.38138,     0.38238,     0.38338,\n",
       "           0.38438,     0.38539,     0.38639,     0.38739,     0.38839,     0.38939,     0.39039,     0.39139,     0.39239,     0.39339,     0.39439,      0.3954,      0.3964,      0.3974,      0.3984,      0.3994,      0.4004,      0.4014,      0.4024,      0.4034,      0.4044,     0.40541,     0.40641,     0.40741,\n",
       "           0.40841,     0.40941,     0.41041,     0.41141,     0.41241,     0.41341,     0.41441,     0.41542,     0.41642,     0.41742,     0.41842,     0.41942,     0.42042,     0.42142,     0.42242,     0.42342,     0.42442,     0.42543,     0.42643,     0.42743,     0.42843,     0.42943,     0.43043,     0.43143,\n",
       "           0.43243,     0.43343,     0.43443,     0.43544,     0.43644,     0.43744,     0.43844,     0.43944,     0.44044,     0.44144,     0.44244,     0.44344,     0.44444,     0.44545,     0.44645,     0.44745,     0.44845,     0.44945,     0.45045,     0.45145,     0.45245,     0.45345,     0.45445,     0.45546,\n",
       "           0.45646,     0.45746,     0.45846,     0.45946,     0.46046,     0.46146,     0.46246,     0.46346,     0.46446,     0.46547,     0.46647,     0.46747,     0.46847,     0.46947,     0.47047,     0.47147,     0.47247,     0.47347,     0.47447,     0.47548,     0.47648,     0.47748,     0.47848,     0.47948,\n",
       "           0.48048,     0.48148,     0.48248,     0.48348,     0.48448,     0.48549,     0.48649,     0.48749,     0.48849,     0.48949,     0.49049,     0.49149,     0.49249,     0.49349,     0.49449,      0.4955,      0.4965,      0.4975,      0.4985,      0.4995,      0.5005,      0.5015,      0.5025,      0.5035,\n",
       "            0.5045,     0.50551,     0.50651,     0.50751,     0.50851,     0.50951,     0.51051,     0.51151,     0.51251,     0.51351,     0.51451,     0.51552,     0.51652,     0.51752,     0.51852,     0.51952,     0.52052,     0.52152,     0.52252,     0.52352,     0.52452,     0.52553,     0.52653,     0.52753,\n",
       "           0.52853,     0.52953,     0.53053,     0.53153,     0.53253,     0.53353,     0.53453,     0.53554,     0.53654,     0.53754,     0.53854,     0.53954,     0.54054,     0.54154,     0.54254,     0.54354,     0.54454,     0.54555,     0.54655,     0.54755,     0.54855,     0.54955,     0.55055,     0.55155,\n",
       "           0.55255,     0.55355,     0.55455,     0.55556,     0.55656,     0.55756,     0.55856,     0.55956,     0.56056,     0.56156,     0.56256,     0.56356,     0.56456,     0.56557,     0.56657,     0.56757,     0.56857,     0.56957,     0.57057,     0.57157,     0.57257,     0.57357,     0.57457,     0.57558,\n",
       "           0.57658,     0.57758,     0.57858,     0.57958,     0.58058,     0.58158,     0.58258,     0.58358,     0.58458,     0.58559,     0.58659,     0.58759,     0.58859,     0.58959,     0.59059,     0.59159,     0.59259,     0.59359,     0.59459,      0.5956,      0.5966,      0.5976,      0.5986,      0.5996,\n",
       "            0.6006,      0.6016,      0.6026,      0.6036,      0.6046,     0.60561,     0.60661,     0.60761,     0.60861,     0.60961,     0.61061,     0.61161,     0.61261,     0.61361,     0.61461,     0.61562,     0.61662,     0.61762,     0.61862,     0.61962,     0.62062,     0.62162,     0.62262,     0.62362,\n",
       "           0.62462,     0.62563,     0.62663,     0.62763,     0.62863,     0.62963,     0.63063,     0.63163,     0.63263,     0.63363,     0.63463,     0.63564,     0.63664,     0.63764,     0.63864,     0.63964,     0.64064,     0.64164,     0.64264,     0.64364,     0.64464,     0.64565,     0.64665,     0.64765,\n",
       "           0.64865,     0.64965,     0.65065,     0.65165,     0.65265,     0.65365,     0.65465,     0.65566,     0.65666,     0.65766,     0.65866,     0.65966,     0.66066,     0.66166,     0.66266,     0.66366,     0.66466,     0.66567,     0.66667,     0.66767,     0.66867,     0.66967,     0.67067,     0.67167,\n",
       "           0.67267,     0.67367,     0.67467,     0.67568,     0.67668,     0.67768,     0.67868,     0.67968,     0.68068,     0.68168,     0.68268,     0.68368,     0.68468,     0.68569,     0.68669,     0.68769,     0.68869,     0.68969,     0.69069,     0.69169,     0.69269,     0.69369,     0.69469,      0.6957,\n",
       "            0.6967,      0.6977,      0.6987,      0.6997,      0.7007,      0.7017,      0.7027,      0.7037,      0.7047,     0.70571,     0.70671,     0.70771,     0.70871,     0.70971,     0.71071,     0.71171,     0.71271,     0.71371,     0.71471,     0.71572,     0.71672,     0.71772,     0.71872,     0.71972,\n",
       "           0.72072,     0.72172,     0.72272,     0.72372,     0.72472,     0.72573,     0.72673,     0.72773,     0.72873,     0.72973,     0.73073,     0.73173,     0.73273,     0.73373,     0.73473,     0.73574,     0.73674,     0.73774,     0.73874,     0.73974,     0.74074,     0.74174,     0.74274,     0.74374,\n",
       "           0.74474,     0.74575,     0.74675,     0.74775,     0.74875,     0.74975,     0.75075,     0.75175,     0.75275,     0.75375,     0.75475,     0.75576,     0.75676,     0.75776,     0.75876,     0.75976,     0.76076,     0.76176,     0.76276,     0.76376,     0.76476,     0.76577,     0.76677,     0.76777,\n",
       "           0.76877,     0.76977,     0.77077,     0.77177,     0.77277,     0.77377,     0.77477,     0.77578,     0.77678,     0.77778,     0.77878,     0.77978,     0.78078,     0.78178,     0.78278,     0.78378,     0.78478,     0.78579,     0.78679,     0.78779,     0.78879,     0.78979,     0.79079,     0.79179,\n",
       "           0.79279,     0.79379,     0.79479,      0.7958,      0.7968,      0.7978,      0.7988,      0.7998,      0.8008,      0.8018,      0.8028,      0.8038,      0.8048,     0.80581,     0.80681,     0.80781,     0.80881,     0.80981,     0.81081,     0.81181,     0.81281,     0.81381,     0.81481,     0.81582,\n",
       "           0.81682,     0.81782,     0.81882,     0.81982,     0.82082,     0.82182,     0.82282,     0.82382,     0.82482,     0.82583,     0.82683,     0.82783,     0.82883,     0.82983,     0.83083,     0.83183,     0.83283,     0.83383,     0.83483,     0.83584,     0.83684,     0.83784,     0.83884,     0.83984,\n",
       "           0.84084,     0.84184,     0.84284,     0.84384,     0.84484,     0.84585,     0.84685,     0.84785,     0.84885,     0.84985,     0.85085,     0.85185,     0.85285,     0.85385,     0.85485,     0.85586,     0.85686,     0.85786,     0.85886,     0.85986,     0.86086,     0.86186,     0.86286,     0.86386,\n",
       "           0.86486,     0.86587,     0.86687,     0.86787,     0.86887,     0.86987,     0.87087,     0.87187,     0.87287,     0.87387,     0.87487,     0.87588,     0.87688,     0.87788,     0.87888,     0.87988,     0.88088,     0.88188,     0.88288,     0.88388,     0.88488,     0.88589,     0.88689,     0.88789,\n",
       "           0.88889,     0.88989,     0.89089,     0.89189,     0.89289,     0.89389,     0.89489,      0.8959,      0.8969,      0.8979,      0.8989,      0.8999,      0.9009,      0.9019,      0.9029,      0.9039,      0.9049,     0.90591,     0.90691,     0.90791,     0.90891,     0.90991,     0.91091,     0.91191,\n",
       "           0.91291,     0.91391,     0.91491,     0.91592,     0.91692,     0.91792,     0.91892,     0.91992,     0.92092,     0.92192,     0.92292,     0.92392,     0.92492,     0.92593,     0.92693,     0.92793,     0.92893,     0.92993,     0.93093,     0.93193,     0.93293,     0.93393,     0.93493,     0.93594,\n",
       "           0.93694,     0.93794,     0.93894,     0.93994,     0.94094,     0.94194,     0.94294,     0.94394,     0.94494,     0.94595,     0.94695,     0.94795,     0.94895,     0.94995,     0.95095,     0.95195,     0.95295,     0.95395,     0.95495,     0.95596,     0.95696,     0.95796,     0.95896,     0.95996,\n",
       "           0.96096,     0.96196,     0.96296,     0.96396,     0.96496,     0.96597,     0.96697,     0.96797,     0.96897,     0.96997,     0.97097,     0.97197,     0.97297,     0.97397,     0.97497,     0.97598,     0.97698,     0.97798,     0.97898,     0.97998,     0.98098,     0.98198,     0.98298,     0.98398,\n",
       "           0.98498,     0.98599,     0.98699,     0.98799,     0.98899,     0.98999,     0.99099,     0.99199,     0.99299,     0.99399,     0.99499,       0.996,       0.997,       0.998,       0.999,           1]), array([[   0.046323,    0.046374,    0.093753,     0.13701,     0.17286,     0.19912,      0.2243,     0.25214,     0.27093,     0.29346,     0.32142,     0.33123,     0.35197,     0.37274,     0.39402,     0.40604,     0.42949,     0.45679,     0.47534,     0.49719,     0.50678,     0.51822,     0.52466,\n",
       "            0.53369,      0.5458,     0.55602,     0.56094,     0.57404,     0.57852,      0.5832,     0.58716,      0.5888,      0.5917,     0.60047,     0.60386,     0.61777,     0.62144,     0.62352,     0.63349,     0.64367,     0.64531,     0.64856,     0.65215,     0.65399,     0.65526,     0.65629,\n",
       "            0.65732,     0.65835,     0.65952,     0.66071,     0.66191,     0.66431,     0.66702,     0.66792,     0.66881,     0.66969,     0.67058,     0.67223,     0.67413,      0.6752,     0.67556,     0.67593,      0.6763,     0.67666,     0.67703,     0.67739,     0.67776,     0.67812,     0.67848,\n",
       "            0.67885,     0.67921,     0.68018,     0.68121,     0.68223,     0.68326,     0.68504,     0.68711,     0.68815,     0.68857,     0.68898,     0.68939,      0.6898,     0.69021,     0.69062,     0.69103,     0.69145,     0.69186,     0.69226,     0.69568,     0.70185,     0.70373,     0.70561,\n",
       "            0.71003,     0.71404,     0.71617,     0.71752,     0.71886,     0.72004,      0.7203,     0.72055,     0.72081,     0.72106,     0.72132,     0.72158,     0.72183,     0.72209,     0.72234,      0.7226,     0.72286,     0.72311,     0.72337,     0.72362,     0.72388,     0.72413,     0.72439,\n",
       "            0.72464,     0.72508,     0.72607,     0.72705,     0.72804,     0.72902,     0.73317,     0.73549,     0.73641,     0.73732,     0.73822,     0.73913,     0.74112,     0.74593,      0.7531,     0.75544,     0.75583,     0.75622,     0.75661,       0.757,     0.75739,     0.75778,     0.75817,\n",
       "            0.75856,     0.75895,     0.75934,     0.75973,     0.76012,      0.7605,     0.76121,     0.76198,     0.76275,     0.76351,     0.76427,     0.76504,      0.7658,     0.76748,     0.76941,     0.77132,     0.77229,      0.7732,      0.7741,     0.77501,     0.77591,     0.77682,     0.78369,\n",
       "            0.78512,     0.78654,     0.78796,     0.79083,     0.79415,     0.79632,     0.79848,     0.80288,     0.80611,     0.80631,     0.80651,     0.80671,     0.80691,     0.80711,     0.80731,     0.80751,     0.80771,     0.80791,     0.80811,     0.80831,     0.80851,     0.80871,     0.80891,\n",
       "            0.80911,     0.80931,     0.80951,     0.80971,     0.80991,     0.81011,     0.81031,     0.81051,     0.81071,     0.81091,     0.81111,     0.81131,      0.8115,      0.8117,      0.8119,     0.81231,     0.81309,     0.81387,     0.81465,     0.81543,     0.81621,     0.81698,     0.81776,\n",
       "            0.81978,     0.82327,     0.82476,     0.82526,     0.82576,     0.82626,     0.82675,     0.82725,     0.82775,     0.82824,     0.82874,     0.82923,     0.82973,     0.83022,     0.83072,     0.83246,     0.83435,     0.83624,      0.8403,     0.84449,     0.84609,      0.8477,     0.84929,\n",
       "            0.85102,     0.85307,      0.8551,     0.85713,     0.85928,     0.86143,     0.86357,     0.86451,     0.86514,     0.86578,     0.86641,     0.86704,     0.86768,     0.86831,     0.86894,     0.86957,     0.87019,     0.87082,      0.8717,     0.87264,     0.87358,     0.87452,     0.87546,\n",
       "             0.8764,     0.87733,     0.87981,     0.88547,     0.88626,     0.88705,     0.88784,     0.88863,     0.88942,     0.89021,     0.89099,     0.89178,     0.89256,     0.89271,     0.89286,     0.89301,     0.89316,     0.89331,     0.89346,     0.89361,     0.89376,     0.89391,     0.89406,\n",
       "            0.89421,     0.89436,     0.89451,     0.89466,     0.89481,     0.89496,     0.89511,     0.89526,     0.89541,     0.89556,     0.89571,     0.89586,     0.89601,     0.89616,     0.89631,     0.89646,     0.89661,     0.89676,      0.8969,     0.89705,      0.8972,     0.89735,      0.8975,\n",
       "            0.89765,      0.8978,     0.89795,      0.8981,     0.89824,     0.89839,     0.89854,     0.89869,     0.89884,     0.89899,     0.89913,     0.89928,     0.89943,     0.89958,     0.89973,     0.89988,     0.90041,     0.90294,     0.90545,     0.90765,     0.90819,     0.90873,     0.90927,\n",
       "             0.9098,     0.91034,     0.91088,     0.91141,     0.91195,     0.91249,     0.91302,     0.91355,     0.91409,     0.91462,     0.91515,     0.91538,     0.91554,     0.91569,     0.91585,       0.916,     0.91616,     0.91631,     0.91647,     0.91663,     0.91678,     0.91694,     0.91709,\n",
       "            0.91725,      0.9174,     0.91756,     0.91771,     0.91787,     0.91802,     0.91818,     0.91833,     0.91849,     0.91864,      0.9188,     0.91895,     0.91911,     0.91926,     0.91942,     0.91957,     0.91973,     0.91988,     0.92004,     0.92019,     0.92034,      0.9205,     0.92065,\n",
       "            0.92081,     0.92096,     0.92112,     0.92127,     0.92142,     0.92158,     0.92173,     0.92188,     0.92204,     0.92219,     0.92235,      0.9225,     0.92265,     0.92281,     0.92296,     0.92326,     0.92404,     0.92481,     0.92558,     0.92636,     0.92713,      0.9279,     0.92866,\n",
       "            0.92943,      0.9302,     0.93096,     0.93108,     0.93114,      0.9312,     0.93125,     0.93131,     0.93136,     0.93142,     0.93147,     0.93153,     0.93158,     0.93164,     0.93169,     0.93175,      0.9318,     0.93186,     0.93192,     0.93197,     0.93203,     0.93208,     0.93214,\n",
       "            0.93219,     0.93225,      0.9323,     0.93236,     0.93241,     0.93247,     0.93252,     0.93258,     0.93263,     0.93269,     0.93274,      0.9328,     0.93285,     0.93291,     0.93296,     0.93302,     0.93307,     0.93313,     0.93319,     0.93324,      0.9333,     0.93335,     0.93341,\n",
       "            0.93346,     0.93352,     0.93357,     0.93363,     0.93368,     0.93374,     0.93379,     0.93385,      0.9339,     0.93396,     0.93401,     0.93407,     0.93412,     0.93418,     0.93423,     0.93429,     0.93434,      0.9344,     0.93445,     0.93451,     0.93456,     0.93462,     0.93467,\n",
       "            0.93473,     0.93478,     0.93484,     0.93489,     0.93495,       0.935,     0.93506,     0.93511,     0.93517,     0.93522,     0.93528,     0.93533,     0.93539,     0.93544,      0.9355,     0.93555,     0.93561,     0.93566,     0.93572,     0.93577,     0.93582,     0.93588,     0.93593,\n",
       "            0.93599,     0.93604,      0.9361,     0.93615,     0.93621,     0.93626,     0.93632,     0.93637,     0.93643,     0.93648,     0.93654,     0.93659,     0.93665,      0.9367,     0.93676,     0.93681,     0.93687,     0.93692,     0.93697,     0.93703,     0.93708,     0.93714,     0.93719,\n",
       "            0.93725,      0.9373,     0.93736,     0.93741,     0.93747,     0.93752,     0.93758,     0.93763,     0.93769,     0.93774,     0.93779,     0.93785,      0.9379,     0.93796,     0.93801,     0.93807,     0.93812,     0.93818,     0.93823,     0.93829,     0.93834,     0.93839,     0.93845,\n",
       "             0.9385,     0.93856,     0.93861,     0.93867,     0.93872,     0.93878,     0.93883,     0.93888,     0.93894,     0.93899,     0.93905,      0.9391,     0.93915,     0.93919,     0.93923,     0.93927,     0.93931,     0.93935,     0.93939,     0.93943,     0.93947,      0.9395,     0.93954,\n",
       "            0.93958,     0.93962,     0.93966,      0.9397,     0.93974,     0.93978,     0.93982,     0.93986,      0.9399,     0.93994,     0.93998,     0.94002,     0.94006,      0.9401,     0.94014,     0.94018,     0.94021,     0.94025,     0.94029,     0.94033,     0.94037,     0.94041,     0.94045,\n",
       "            0.94049,     0.94053,     0.94057,     0.94061,     0.94065,     0.94069,     0.94073,     0.94077,     0.94081,     0.94084,     0.94088,     0.94092,     0.94096,       0.941,     0.94104,     0.94108,     0.94112,     0.94116,      0.9412,     0.94124,     0.94128,     0.94132,     0.94136,\n",
       "             0.9414,     0.94143,     0.94147,     0.94151,     0.94155,     0.94159,     0.94163,     0.94167,     0.94171,     0.94175,     0.94179,     0.94183,     0.94187,     0.94191,     0.94195,     0.94198,     0.94202,     0.94206,      0.9421,     0.94214,     0.94218,     0.94222,     0.94226,\n",
       "             0.9423,     0.94234,     0.94238,     0.94242,     0.94246,     0.94249,     0.94253,     0.94257,     0.94261,     0.94265,     0.94269,     0.94273,     0.94277,     0.94281,     0.94285,     0.94289,     0.94293,     0.94296,       0.943,     0.94304,     0.94308,     0.94312,     0.94316,\n",
       "             0.9432,     0.94324,     0.94328,     0.94332,     0.94336,      0.9434,     0.94343,     0.94347,     0.94351,     0.94355,     0.94359,     0.94363,     0.94367,     0.94371,     0.94375,     0.94379,     0.94383,     0.94386,      0.9439,     0.94394,     0.94398,     0.94402,     0.94406,\n",
       "             0.9441,     0.94414,     0.94418,     0.94422,     0.94426,     0.94429,     0.94433,     0.94437,     0.94441,     0.94445,     0.94449,     0.94453,     0.94457,     0.94461,     0.94465,     0.94468,     0.94472,     0.94476,      0.9448,     0.94484,     0.94488,     0.94492,     0.94496,\n",
       "              0.945,     0.94504,     0.94507,     0.94511,     0.94515,     0.94519,     0.94523,     0.94527,     0.94531,     0.94535,     0.94539,     0.94543,     0.94546,      0.9455,     0.94554,     0.94558,     0.94562,     0.94566,      0.9457,     0.94574,     0.94578,     0.94581,     0.94585,\n",
       "            0.94589,     0.94593,     0.94597,     0.94601,     0.94605,     0.94609,     0.94613,     0.94616,      0.9462,     0.94624,     0.94628,     0.94632,     0.94636,      0.9464,     0.94644,     0.94648,     0.94651,     0.94655,     0.94659,     0.94663,     0.94667,     0.94671,     0.94675,\n",
       "            0.94679,     0.94682,     0.94686,      0.9469,     0.94694,     0.94698,     0.94702,     0.94706,      0.9471,     0.94714,     0.94717,     0.94721,     0.94725,     0.94729,     0.94733,     0.94737,     0.94697,     0.94656,     0.94616,     0.94575,     0.94535,     0.94494,     0.94453,\n",
       "            0.94413,     0.94372,     0.94331,      0.9429,      0.9425,     0.94209,     0.94168,     0.94127,     0.94086,     0.94045,     0.94004,     0.93963,     0.93922,     0.93881,      0.9384,     0.93807,     0.93815,     0.93823,      0.9383,     0.93838,     0.93846,     0.93854,     0.93862,\n",
       "             0.9387,     0.93878,     0.93886,     0.93894,     0.93902,      0.9391,     0.93918,     0.93926,     0.93934,     0.93942,      0.9395,     0.93958,     0.93966,     0.93974,     0.93982,      0.9399,     0.93998,     0.94005,     0.94013,     0.94021,     0.94029,     0.94037,     0.94045,\n",
       "            0.94053,     0.94061,     0.94069,     0.94077,     0.94085,     0.94093,     0.94101,     0.94109,     0.94116,     0.94124,     0.94132,      0.9414,     0.94148,     0.94156,     0.94164,     0.94172,      0.9418,     0.94188,     0.94196,     0.94203,     0.94211,     0.94219,     0.94227,\n",
       "            0.94235,     0.94243,     0.94251,     0.94259,     0.94267,     0.94275,     0.94282,      0.9429,     0.94298,     0.94306,     0.94314,     0.94322,      0.9433,     0.94338,     0.94345,     0.94353,     0.94361,     0.94369,     0.94377,     0.94385,     0.94393,     0.94401,     0.94408,\n",
       "            0.94416,     0.94424,     0.94432,      0.9444,     0.94448,     0.94456,     0.94463,     0.94471,     0.94479,     0.94487,     0.94495,     0.94503,     0.94511,     0.94518,     0.94526,     0.94534,     0.94542,      0.9455,     0.94558,     0.94565,     0.94573,     0.94581,     0.94589,\n",
       "            0.94597,     0.94605,     0.94612,      0.9462,     0.94628,     0.94636,     0.94563,      0.9384,     0.93647,     0.93588,      0.9353,     0.93471,     0.93412,     0.93353,     0.93294,     0.93235,     0.93176,     0.93117,     0.93058,     0.92998,     0.92939,      0.9288,      0.9282,\n",
       "             0.9276,     0.92704,     0.92651,     0.92599,     0.92546,     0.92494,     0.92441,     0.92388,     0.92335,     0.92282,     0.92229,     0.92176,     0.92123,      0.9207,     0.92017,     0.91964,      0.9191,     0.91857,     0.91804,      0.9175,     0.91647,     0.91535,     0.91423,\n",
       "             0.9131,     0.91198,     0.91085,     0.90972,     0.90858,     0.90745,     0.90561,     0.90375,     0.90187,     0.89999,     0.89811,     0.89374,       0.887,     0.88498,      0.8831,     0.88121,     0.87932,     0.87742,     0.86354,     0.85396,     0.84911,     0.84422,     0.84079,\n",
       "            0.83776,     0.83471,     0.83152,     0.80736,     0.79782,     0.79121,     0.78529,     0.78128,     0.77809,     0.77489,     0.77167,     0.74866,     0.72976,     0.72376,      0.7177,     0.69307,     0.68059,     0.66637,     0.64733,     0.59257,     0.58373,     0.57377,     0.56211,\n",
       "            0.55684,     0.55224,     0.54761,     0.54237,      0.5267,       0.437,     0.41858,     0.40646,     0.35109,     0.32935,     0.30752,     0.29294,     0.18485,     0.16372,     0.11852,    0.084853,    0.064807,    0.057788,    0.050718,    0.043596,    0.036421,           0,           0,\n",
       "                  0,           0,           0,           0,           0,           0,           0,           0,           0,           0,           0]]), 'Confidence', 'F1'], [array([          0,    0.001001,    0.002002,    0.003003,    0.004004,    0.005005,    0.006006,    0.007007,    0.008008,    0.009009,     0.01001,    0.011011,    0.012012,    0.013013,    0.014014,    0.015015,    0.016016,    0.017017,    0.018018,    0.019019,     0.02002,    0.021021,    0.022022,    0.023023,\n",
       "          0.024024,    0.025025,    0.026026,    0.027027,    0.028028,    0.029029,     0.03003,    0.031031,    0.032032,    0.033033,    0.034034,    0.035035,    0.036036,    0.037037,    0.038038,    0.039039,     0.04004,    0.041041,    0.042042,    0.043043,    0.044044,    0.045045,    0.046046,    0.047047,\n",
       "          0.048048,    0.049049,     0.05005,    0.051051,    0.052052,    0.053053,    0.054054,    0.055055,    0.056056,    0.057057,    0.058058,    0.059059,     0.06006,    0.061061,    0.062062,    0.063063,    0.064064,    0.065065,    0.066066,    0.067067,    0.068068,    0.069069,     0.07007,    0.071071,\n",
       "          0.072072,    0.073073,    0.074074,    0.075075,    0.076076,    0.077077,    0.078078,    0.079079,     0.08008,    0.081081,    0.082082,    0.083083,    0.084084,    0.085085,    0.086086,    0.087087,    0.088088,    0.089089,     0.09009,    0.091091,    0.092092,    0.093093,    0.094094,    0.095095,\n",
       "          0.096096,    0.097097,    0.098098,    0.099099,      0.1001,      0.1011,      0.1021,      0.1031,      0.1041,     0.10511,     0.10611,     0.10711,     0.10811,     0.10911,     0.11011,     0.11111,     0.11211,     0.11311,     0.11411,     0.11512,     0.11612,     0.11712,     0.11812,     0.11912,\n",
       "           0.12012,     0.12112,     0.12212,     0.12312,     0.12412,     0.12513,     0.12613,     0.12713,     0.12813,     0.12913,     0.13013,     0.13113,     0.13213,     0.13313,     0.13413,     0.13514,     0.13614,     0.13714,     0.13814,     0.13914,     0.14014,     0.14114,     0.14214,     0.14314,\n",
       "           0.14414,     0.14515,     0.14615,     0.14715,     0.14815,     0.14915,     0.15015,     0.15115,     0.15215,     0.15315,     0.15415,     0.15516,     0.15616,     0.15716,     0.15816,     0.15916,     0.16016,     0.16116,     0.16216,     0.16316,     0.16416,     0.16517,     0.16617,     0.16717,\n",
       "           0.16817,     0.16917,     0.17017,     0.17117,     0.17217,     0.17317,     0.17417,     0.17518,     0.17618,     0.17718,     0.17818,     0.17918,     0.18018,     0.18118,     0.18218,     0.18318,     0.18418,     0.18519,     0.18619,     0.18719,     0.18819,     0.18919,     0.19019,     0.19119,\n",
       "           0.19219,     0.19319,     0.19419,      0.1952,      0.1962,      0.1972,      0.1982,      0.1992,      0.2002,      0.2012,      0.2022,      0.2032,      0.2042,     0.20521,     0.20621,     0.20721,     0.20821,     0.20921,     0.21021,     0.21121,     0.21221,     0.21321,     0.21421,     0.21522,\n",
       "           0.21622,     0.21722,     0.21822,     0.21922,     0.22022,     0.22122,     0.22222,     0.22322,     0.22422,     0.22523,     0.22623,     0.22723,     0.22823,     0.22923,     0.23023,     0.23123,     0.23223,     0.23323,     0.23423,     0.23524,     0.23624,     0.23724,     0.23824,     0.23924,\n",
       "           0.24024,     0.24124,     0.24224,     0.24324,     0.24424,     0.24525,     0.24625,     0.24725,     0.24825,     0.24925,     0.25025,     0.25125,     0.25225,     0.25325,     0.25425,     0.25526,     0.25626,     0.25726,     0.25826,     0.25926,     0.26026,     0.26126,     0.26226,     0.26326,\n",
       "           0.26426,     0.26527,     0.26627,     0.26727,     0.26827,     0.26927,     0.27027,     0.27127,     0.27227,     0.27327,     0.27427,     0.27528,     0.27628,     0.27728,     0.27828,     0.27928,     0.28028,     0.28128,     0.28228,     0.28328,     0.28428,     0.28529,     0.28629,     0.28729,\n",
       "           0.28829,     0.28929,     0.29029,     0.29129,     0.29229,     0.29329,     0.29429,      0.2953,      0.2963,      0.2973,      0.2983,      0.2993,      0.3003,      0.3013,      0.3023,      0.3033,      0.3043,     0.30531,     0.30631,     0.30731,     0.30831,     0.30931,     0.31031,     0.31131,\n",
       "           0.31231,     0.31331,     0.31431,     0.31532,     0.31632,     0.31732,     0.31832,     0.31932,     0.32032,     0.32132,     0.32232,     0.32332,     0.32432,     0.32533,     0.32633,     0.32733,     0.32833,     0.32933,     0.33033,     0.33133,     0.33233,     0.33333,     0.33433,     0.33534,\n",
       "           0.33634,     0.33734,     0.33834,     0.33934,     0.34034,     0.34134,     0.34234,     0.34334,     0.34434,     0.34535,     0.34635,     0.34735,     0.34835,     0.34935,     0.35035,     0.35135,     0.35235,     0.35335,     0.35435,     0.35536,     0.35636,     0.35736,     0.35836,     0.35936,\n",
       "           0.36036,     0.36136,     0.36236,     0.36336,     0.36436,     0.36537,     0.36637,     0.36737,     0.36837,     0.36937,     0.37037,     0.37137,     0.37237,     0.37337,     0.37437,     0.37538,     0.37638,     0.37738,     0.37838,     0.37938,     0.38038,     0.38138,     0.38238,     0.38338,\n",
       "           0.38438,     0.38539,     0.38639,     0.38739,     0.38839,     0.38939,     0.39039,     0.39139,     0.39239,     0.39339,     0.39439,      0.3954,      0.3964,      0.3974,      0.3984,      0.3994,      0.4004,      0.4014,      0.4024,      0.4034,      0.4044,     0.40541,     0.40641,     0.40741,\n",
       "           0.40841,     0.40941,     0.41041,     0.41141,     0.41241,     0.41341,     0.41441,     0.41542,     0.41642,     0.41742,     0.41842,     0.41942,     0.42042,     0.42142,     0.42242,     0.42342,     0.42442,     0.42543,     0.42643,     0.42743,     0.42843,     0.42943,     0.43043,     0.43143,\n",
       "           0.43243,     0.43343,     0.43443,     0.43544,     0.43644,     0.43744,     0.43844,     0.43944,     0.44044,     0.44144,     0.44244,     0.44344,     0.44444,     0.44545,     0.44645,     0.44745,     0.44845,     0.44945,     0.45045,     0.45145,     0.45245,     0.45345,     0.45445,     0.45546,\n",
       "           0.45646,     0.45746,     0.45846,     0.45946,     0.46046,     0.46146,     0.46246,     0.46346,     0.46446,     0.46547,     0.46647,     0.46747,     0.46847,     0.46947,     0.47047,     0.47147,     0.47247,     0.47347,     0.47447,     0.47548,     0.47648,     0.47748,     0.47848,     0.47948,\n",
       "           0.48048,     0.48148,     0.48248,     0.48348,     0.48448,     0.48549,     0.48649,     0.48749,     0.48849,     0.48949,     0.49049,     0.49149,     0.49249,     0.49349,     0.49449,      0.4955,      0.4965,      0.4975,      0.4985,      0.4995,      0.5005,      0.5015,      0.5025,      0.5035,\n",
       "            0.5045,     0.50551,     0.50651,     0.50751,     0.50851,     0.50951,     0.51051,     0.51151,     0.51251,     0.51351,     0.51451,     0.51552,     0.51652,     0.51752,     0.51852,     0.51952,     0.52052,     0.52152,     0.52252,     0.52352,     0.52452,     0.52553,     0.52653,     0.52753,\n",
       "           0.52853,     0.52953,     0.53053,     0.53153,     0.53253,     0.53353,     0.53453,     0.53554,     0.53654,     0.53754,     0.53854,     0.53954,     0.54054,     0.54154,     0.54254,     0.54354,     0.54454,     0.54555,     0.54655,     0.54755,     0.54855,     0.54955,     0.55055,     0.55155,\n",
       "           0.55255,     0.55355,     0.55455,     0.55556,     0.55656,     0.55756,     0.55856,     0.55956,     0.56056,     0.56156,     0.56256,     0.56356,     0.56456,     0.56557,     0.56657,     0.56757,     0.56857,     0.56957,     0.57057,     0.57157,     0.57257,     0.57357,     0.57457,     0.57558,\n",
       "           0.57658,     0.57758,     0.57858,     0.57958,     0.58058,     0.58158,     0.58258,     0.58358,     0.58458,     0.58559,     0.58659,     0.58759,     0.58859,     0.58959,     0.59059,     0.59159,     0.59259,     0.59359,     0.59459,      0.5956,      0.5966,      0.5976,      0.5986,      0.5996,\n",
       "            0.6006,      0.6016,      0.6026,      0.6036,      0.6046,     0.60561,     0.60661,     0.60761,     0.60861,     0.60961,     0.61061,     0.61161,     0.61261,     0.61361,     0.61461,     0.61562,     0.61662,     0.61762,     0.61862,     0.61962,     0.62062,     0.62162,     0.62262,     0.62362,\n",
       "           0.62462,     0.62563,     0.62663,     0.62763,     0.62863,     0.62963,     0.63063,     0.63163,     0.63263,     0.63363,     0.63463,     0.63564,     0.63664,     0.63764,     0.63864,     0.63964,     0.64064,     0.64164,     0.64264,     0.64364,     0.64464,     0.64565,     0.64665,     0.64765,\n",
       "           0.64865,     0.64965,     0.65065,     0.65165,     0.65265,     0.65365,     0.65465,     0.65566,     0.65666,     0.65766,     0.65866,     0.65966,     0.66066,     0.66166,     0.66266,     0.66366,     0.66466,     0.66567,     0.66667,     0.66767,     0.66867,     0.66967,     0.67067,     0.67167,\n",
       "           0.67267,     0.67367,     0.67467,     0.67568,     0.67668,     0.67768,     0.67868,     0.67968,     0.68068,     0.68168,     0.68268,     0.68368,     0.68468,     0.68569,     0.68669,     0.68769,     0.68869,     0.68969,     0.69069,     0.69169,     0.69269,     0.69369,     0.69469,      0.6957,\n",
       "            0.6967,      0.6977,      0.6987,      0.6997,      0.7007,      0.7017,      0.7027,      0.7037,      0.7047,     0.70571,     0.70671,     0.70771,     0.70871,     0.70971,     0.71071,     0.71171,     0.71271,     0.71371,     0.71471,     0.71572,     0.71672,     0.71772,     0.71872,     0.71972,\n",
       "           0.72072,     0.72172,     0.72272,     0.72372,     0.72472,     0.72573,     0.72673,     0.72773,     0.72873,     0.72973,     0.73073,     0.73173,     0.73273,     0.73373,     0.73473,     0.73574,     0.73674,     0.73774,     0.73874,     0.73974,     0.74074,     0.74174,     0.74274,     0.74374,\n",
       "           0.74474,     0.74575,     0.74675,     0.74775,     0.74875,     0.74975,     0.75075,     0.75175,     0.75275,     0.75375,     0.75475,     0.75576,     0.75676,     0.75776,     0.75876,     0.75976,     0.76076,     0.76176,     0.76276,     0.76376,     0.76476,     0.76577,     0.76677,     0.76777,\n",
       "           0.76877,     0.76977,     0.77077,     0.77177,     0.77277,     0.77377,     0.77477,     0.77578,     0.77678,     0.77778,     0.77878,     0.77978,     0.78078,     0.78178,     0.78278,     0.78378,     0.78478,     0.78579,     0.78679,     0.78779,     0.78879,     0.78979,     0.79079,     0.79179,\n",
       "           0.79279,     0.79379,     0.79479,      0.7958,      0.7968,      0.7978,      0.7988,      0.7998,      0.8008,      0.8018,      0.8028,      0.8038,      0.8048,     0.80581,     0.80681,     0.80781,     0.80881,     0.80981,     0.81081,     0.81181,     0.81281,     0.81381,     0.81481,     0.81582,\n",
       "           0.81682,     0.81782,     0.81882,     0.81982,     0.82082,     0.82182,     0.82282,     0.82382,     0.82482,     0.82583,     0.82683,     0.82783,     0.82883,     0.82983,     0.83083,     0.83183,     0.83283,     0.83383,     0.83483,     0.83584,     0.83684,     0.83784,     0.83884,     0.83984,\n",
       "           0.84084,     0.84184,     0.84284,     0.84384,     0.84484,     0.84585,     0.84685,     0.84785,     0.84885,     0.84985,     0.85085,     0.85185,     0.85285,     0.85385,     0.85485,     0.85586,     0.85686,     0.85786,     0.85886,     0.85986,     0.86086,     0.86186,     0.86286,     0.86386,\n",
       "           0.86486,     0.86587,     0.86687,     0.86787,     0.86887,     0.86987,     0.87087,     0.87187,     0.87287,     0.87387,     0.87487,     0.87588,     0.87688,     0.87788,     0.87888,     0.87988,     0.88088,     0.88188,     0.88288,     0.88388,     0.88488,     0.88589,     0.88689,     0.88789,\n",
       "           0.88889,     0.88989,     0.89089,     0.89189,     0.89289,     0.89389,     0.89489,      0.8959,      0.8969,      0.8979,      0.8989,      0.8999,      0.9009,      0.9019,      0.9029,      0.9039,      0.9049,     0.90591,     0.90691,     0.90791,     0.90891,     0.90991,     0.91091,     0.91191,\n",
       "           0.91291,     0.91391,     0.91491,     0.91592,     0.91692,     0.91792,     0.91892,     0.91992,     0.92092,     0.92192,     0.92292,     0.92392,     0.92492,     0.92593,     0.92693,     0.92793,     0.92893,     0.92993,     0.93093,     0.93193,     0.93293,     0.93393,     0.93493,     0.93594,\n",
       "           0.93694,     0.93794,     0.93894,     0.93994,     0.94094,     0.94194,     0.94294,     0.94394,     0.94494,     0.94595,     0.94695,     0.94795,     0.94895,     0.94995,     0.95095,     0.95195,     0.95295,     0.95395,     0.95495,     0.95596,     0.95696,     0.95796,     0.95896,     0.95996,\n",
       "           0.96096,     0.96196,     0.96296,     0.96396,     0.96496,     0.96597,     0.96697,     0.96797,     0.96897,     0.96997,     0.97097,     0.97197,     0.97297,     0.97397,     0.97497,     0.97598,     0.97698,     0.97798,     0.97898,     0.97998,     0.98098,     0.98198,     0.98298,     0.98398,\n",
       "           0.98498,     0.98599,     0.98699,     0.98799,     0.98899,     0.98999,     0.99099,     0.99199,     0.99299,     0.99399,     0.99499,       0.996,       0.997,       0.998,       0.999,           1]), array([[    0.02373,    0.023757,    0.049267,    0.073833,    0.095087,     0.11147,     0.12749,     0.14578,       0.159,     0.17474,     0.19494,     0.20221,     0.21788,     0.23402,     0.25105,     0.26089,     0.28058,     0.30434,     0.32104,     0.34129,      0.3504,     0.36143,     0.36773,\n",
       "            0.37666,     0.38884,      0.3993,     0.40439,     0.41815,     0.42292,     0.42794,     0.43222,       0.434,     0.43716,      0.4468,     0.45056,     0.46623,     0.47042,     0.47281,     0.48437,     0.49638,     0.49833,     0.50222,     0.50654,     0.50876,      0.5103,     0.51156,\n",
       "            0.51281,     0.51406,     0.51549,     0.51695,     0.51841,     0.52136,     0.52471,     0.52582,     0.52692,     0.52803,     0.52913,     0.53118,     0.53356,      0.5349,     0.53536,     0.53582,     0.53628,     0.53674,      0.5372,     0.53766,     0.53812,     0.53858,     0.53904,\n",
       "             0.5395,     0.53996,     0.54118,     0.54249,     0.54379,     0.54509,     0.54736,     0.55001,     0.55135,     0.55188,     0.55241,     0.55294,     0.55347,       0.554,     0.55453,     0.55506,     0.55559,     0.55612,     0.55665,     0.56108,     0.56915,     0.57163,     0.57411,\n",
       "            0.57999,     0.58535,     0.58822,     0.59004,     0.59186,     0.59346,     0.59381,     0.59416,     0.59451,     0.59485,      0.5952,     0.59555,      0.5959,     0.59625,      0.5966,     0.59695,      0.5973,     0.59765,     0.59799,     0.59834,     0.59869,     0.59904,     0.59939,\n",
       "            0.59974,     0.60034,     0.60169,     0.60305,     0.60441,     0.60576,     0.61151,     0.61475,     0.61603,      0.6173,     0.61858,     0.61985,     0.62265,     0.62948,     0.63976,     0.64314,     0.64371,     0.64428,     0.64484,     0.64541,     0.64598,     0.64655,     0.64711,\n",
       "            0.64768,     0.64825,     0.64881,     0.64938,     0.64995,     0.65052,     0.65155,     0.65268,      0.6538,     0.65493,     0.65605,     0.65718,      0.6583,      0.6608,     0.66365,     0.66651,     0.66795,     0.66931,     0.67067,     0.67203,     0.67339,     0.67475,      0.6852,\n",
       "            0.68738,     0.68957,     0.69176,     0.69618,     0.70135,     0.70474,     0.70814,     0.71509,     0.72022,     0.72054,     0.72086,     0.72118,      0.7215,     0.72182,     0.72214,     0.72246,     0.72279,     0.72311,     0.72343,     0.72375,     0.72407,     0.72439,     0.72471,\n",
       "            0.72503,     0.72535,     0.72567,     0.72599,     0.72632,     0.72664,     0.72696,     0.72728,      0.7276,     0.72792,     0.72824,     0.72856,     0.72888,      0.7292,     0.72952,     0.73018,     0.73145,     0.73271,     0.73398,     0.73524,     0.73651,     0.73777,     0.73904,\n",
       "            0.74234,     0.74808,     0.75055,     0.75138,      0.7522,     0.75303,     0.75386,     0.75469,     0.75551,     0.75634,     0.75717,     0.75799,     0.75882,     0.75965,     0.76047,     0.76341,     0.76659,     0.76978,     0.77669,     0.78388,     0.78665,     0.78942,      0.7922,\n",
       "            0.79522,     0.79879,     0.80237,     0.80594,     0.80976,     0.81358,      0.8174,     0.81909,     0.82023,     0.82137,     0.82252,     0.82366,      0.8248,     0.82594,     0.82708,     0.82822,     0.82936,     0.83051,     0.83209,     0.83382,     0.83554,     0.83726,     0.83898,\n",
       "            0.84071,     0.84243,     0.84701,     0.85756,     0.85905,     0.86054,     0.86202,     0.86351,       0.865,     0.86649,     0.86798,     0.86947,     0.87096,     0.87125,     0.87154,     0.87183,     0.87211,      0.8724,     0.87269,     0.87297,     0.87326,     0.87355,     0.87383,\n",
       "            0.87412,     0.87441,     0.87469,     0.87498,     0.87526,     0.87555,     0.87584,     0.87612,     0.87641,      0.8767,     0.87698,     0.87727,     0.87756,     0.87784,     0.87813,     0.87842,      0.8787,     0.87899,     0.87928,     0.87956,     0.87985,     0.88014,     0.88042,\n",
       "            0.88071,     0.88099,     0.88128,     0.88157,     0.88185,     0.88214,     0.88243,     0.88271,       0.883,     0.88329,     0.88357,     0.88386,     0.88415,     0.88443,     0.88472,     0.88501,     0.88605,     0.89095,     0.89586,     0.90016,     0.90123,     0.90229,     0.90335,\n",
       "            0.90442,     0.90548,     0.90654,     0.90761,     0.90867,     0.90973,      0.9108,     0.91186,     0.91292,     0.91398,     0.91505,     0.91551,     0.91582,     0.91613,     0.91644,     0.91675,     0.91707,     0.91738,     0.91769,       0.918,     0.91831,     0.91863,     0.91894,\n",
       "            0.91925,     0.91956,     0.91987,     0.92019,      0.9205,     0.92081,     0.92112,     0.92143,     0.92175,     0.92206,     0.92237,     0.92268,     0.92299,     0.92331,     0.92362,     0.92393,     0.92424,     0.92456,     0.92487,     0.92518,     0.92549,      0.9258,     0.92612,\n",
       "            0.92643,     0.92674,     0.92705,     0.92736,     0.92768,     0.92799,      0.9283,     0.92861,     0.92892,     0.92924,     0.92955,     0.92986,     0.93017,     0.93048,      0.9308,     0.93141,     0.93299,     0.93457,     0.93615,     0.93773,     0.93931,     0.94089,     0.94247,\n",
       "            0.94406,     0.94564,     0.94722,     0.94747,     0.94759,      0.9477,     0.94782,     0.94793,     0.94805,     0.94816,     0.94828,     0.94839,     0.94851,     0.94862,     0.94873,     0.94885,     0.94896,     0.94908,     0.94919,     0.94931,     0.94942,     0.94954,     0.94965,\n",
       "            0.94977,     0.94988,        0.95,     0.95011,     0.95023,     0.95034,     0.95046,     0.95057,     0.95069,      0.9508,     0.95091,     0.95103,     0.95114,     0.95126,     0.95137,     0.95149,      0.9516,     0.95172,     0.95183,     0.95195,     0.95206,     0.95218,     0.95229,\n",
       "            0.95241,     0.95252,     0.95264,     0.95275,     0.95287,     0.95298,      0.9531,     0.95321,     0.95332,     0.95344,     0.95355,     0.95367,     0.95378,      0.9539,     0.95401,     0.95413,     0.95424,     0.95436,     0.95447,     0.95459,      0.9547,     0.95482,     0.95493,\n",
       "            0.95505,     0.95516,     0.95528,     0.95539,     0.95551,     0.95562,     0.95573,     0.95585,     0.95596,     0.95608,     0.95619,     0.95631,     0.95642,     0.95654,     0.95665,     0.95677,     0.95688,       0.957,     0.95711,     0.95723,     0.95734,     0.95746,     0.95757,\n",
       "            0.95769,      0.9578,     0.95792,     0.95803,     0.95814,     0.95826,     0.95837,     0.95849,      0.9586,     0.95872,     0.95883,     0.95895,     0.95906,     0.95918,     0.95929,     0.95941,     0.95952,     0.95964,     0.95975,     0.95987,     0.95998,      0.9601,     0.96021,\n",
       "            0.96032,     0.96044,     0.96055,     0.96067,     0.96078,      0.9609,     0.96101,     0.96113,     0.96124,     0.96136,     0.96147,     0.96159,      0.9617,     0.96182,     0.96193,     0.96205,     0.96216,     0.96228,     0.96239,     0.96251,     0.96262,     0.96273,     0.96285,\n",
       "            0.96296,     0.96308,     0.96319,     0.96331,     0.96342,     0.96354,     0.96365,     0.96377,     0.96388,       0.964,     0.96411,     0.96423,     0.96433,     0.96441,     0.96449,     0.96458,     0.96466,     0.96474,     0.96483,     0.96491,     0.96499,     0.96508,     0.96516,\n",
       "            0.96524,     0.96533,     0.96541,     0.96549,     0.96558,     0.96566,     0.96574,     0.96583,     0.96591,     0.96599,     0.96608,     0.96616,     0.96624,     0.96633,     0.96641,     0.96649,     0.96658,     0.96666,     0.96674,     0.96682,     0.96691,     0.96699,     0.96707,\n",
       "            0.96716,     0.96724,     0.96732,     0.96741,     0.96749,     0.96757,     0.96766,     0.96774,     0.96782,     0.96791,     0.96799,     0.96807,     0.96816,     0.96824,     0.96832,     0.96841,     0.96849,     0.96857,     0.96866,     0.96874,     0.96882,     0.96891,     0.96899,\n",
       "            0.96907,     0.96916,     0.96924,     0.96932,     0.96941,     0.96949,     0.96957,     0.96966,     0.96974,     0.96982,     0.96991,     0.96999,     0.97007,     0.97016,     0.97024,     0.97032,     0.97041,     0.97049,     0.97057,     0.97066,     0.97074,     0.97082,     0.97091,\n",
       "            0.97099,     0.97107,     0.97116,     0.97124,     0.97132,     0.97141,     0.97149,     0.97157,     0.97166,     0.97174,     0.97182,     0.97191,     0.97199,     0.97207,     0.97216,     0.97224,     0.97232,     0.97241,     0.97249,     0.97257,     0.97266,     0.97274,     0.97282,\n",
       "            0.97291,     0.97299,     0.97307,     0.97316,     0.97324,     0.97332,      0.9734,     0.97349,     0.97357,     0.97365,     0.97374,     0.97382,      0.9739,     0.97399,     0.97407,     0.97415,     0.97424,     0.97432,      0.9744,     0.97449,     0.97457,     0.97465,     0.97474,\n",
       "            0.97482,      0.9749,     0.97499,     0.97507,     0.97515,     0.97524,     0.97532,      0.9754,     0.97549,     0.97557,     0.97565,     0.97574,     0.97582,      0.9759,     0.97599,     0.97607,     0.97615,     0.97624,     0.97632,      0.9764,     0.97649,     0.97657,     0.97665,\n",
       "            0.97674,     0.97682,      0.9769,     0.97699,     0.97707,     0.97715,     0.97724,     0.97732,      0.9774,     0.97749,     0.97757,     0.97765,     0.97774,     0.97782,      0.9779,     0.97799,     0.97807,     0.97815,     0.97824,     0.97832,      0.9784,     0.97849,     0.97857,\n",
       "            0.97865,     0.97874,     0.97882,      0.9789,     0.97899,     0.97907,     0.97915,     0.97924,     0.97932,      0.9794,     0.97949,     0.97957,     0.97965,     0.97974,     0.97982,      0.9799,     0.97999,     0.98007,     0.98015,     0.98023,     0.98032,      0.9804,     0.98048,\n",
       "            0.98057,     0.98065,     0.98073,     0.98082,      0.9809,     0.98098,     0.98107,     0.98115,     0.98123,     0.98132,      0.9814,     0.98148,     0.98157,     0.98165,     0.98173,     0.98182,      0.9818,     0.98179,     0.98177,     0.98176,     0.98174,     0.98173,     0.98172,\n",
       "             0.9817,     0.98169,     0.98167,     0.98166,     0.98164,     0.98163,     0.98161,      0.9816,     0.98158,     0.98157,     0.98155,     0.98154,     0.98152,     0.98151,     0.98149,     0.98151,     0.98168,     0.98186,     0.98203,     0.98221,     0.98238,     0.98256,     0.98273,\n",
       "            0.98291,     0.98308,     0.98326,     0.98343,      0.9836,     0.98378,     0.98395,     0.98413,      0.9843,     0.98448,     0.98465,     0.98483,       0.985,     0.98518,     0.98535,     0.98553,      0.9857,     0.98587,     0.98605,     0.98622,      0.9864,     0.98657,     0.98675,\n",
       "            0.98692,      0.9871,     0.98727,     0.98745,     0.98762,      0.9878,     0.98797,     0.98814,     0.98832,     0.98849,     0.98867,     0.98884,     0.98902,     0.98919,     0.98937,     0.98954,     0.98972,     0.98989,     0.99007,     0.99024,     0.99041,     0.99059,     0.99076,\n",
       "            0.99094,     0.99111,     0.99129,     0.99146,     0.99164,     0.99181,     0.99199,     0.99216,     0.99234,     0.99251,     0.99269,     0.99286,     0.99303,     0.99321,     0.99338,     0.99356,     0.99373,     0.99391,     0.99408,     0.99426,     0.99443,     0.99461,     0.99478,\n",
       "            0.99496,     0.99513,      0.9953,     0.99548,     0.99565,     0.99583,       0.996,     0.99618,     0.99635,     0.99653,      0.9967,     0.99688,     0.99705,     0.99723,      0.9974,     0.99757,     0.99775,     0.99792,      0.9981,     0.99827,     0.99845,     0.99862,      0.9988,\n",
       "            0.99897,     0.99915,     0.99932,      0.9995,     0.99967,     0.99984,           1,           1,           1,           1,           1,           1,           1,           1,           1,           1,           1,           1,           1,           1,           1,           1,           1,\n",
       "                  1,           1,           1,           1,           1,           1,           1,           1,           1,           1,           1,           1,           1,           1,           1,           1,           1,           1,           1,           1,           1,           1,           1,\n",
       "                  1,           1,           1,           1,           1,           1,           1,           1,           1,           1,           1,           1,           1,           1,           1,           1,           1,           1,           1,           1,           1,           1,           1,\n",
       "                  1,           1,           1,           1,           1,           1,           1,           1,           1,           1,           1,           1,           1,           1,           1,           1,           1,           1,           1,           1,           1,           1,           1,\n",
       "                  1,           1,           1,           1,           1,           1,           1,           1,           1,           1,           1,           1,           1,           1,           1,           1,           1,           1,           1,           1,           1,           1,           1,\n",
       "                  1,           1,           1,           1,           1,           1,           1,           1,           1,           1,           1]]), 'Confidence', 'Precision'], [array([          0,    0.001001,    0.002002,    0.003003,    0.004004,    0.005005,    0.006006,    0.007007,    0.008008,    0.009009,     0.01001,    0.011011,    0.012012,    0.013013,    0.014014,    0.015015,    0.016016,    0.017017,    0.018018,    0.019019,     0.02002,    0.021021,    0.022022,    0.023023,\n",
       "          0.024024,    0.025025,    0.026026,    0.027027,    0.028028,    0.029029,     0.03003,    0.031031,    0.032032,    0.033033,    0.034034,    0.035035,    0.036036,    0.037037,    0.038038,    0.039039,     0.04004,    0.041041,    0.042042,    0.043043,    0.044044,    0.045045,    0.046046,    0.047047,\n",
       "          0.048048,    0.049049,     0.05005,    0.051051,    0.052052,    0.053053,    0.054054,    0.055055,    0.056056,    0.057057,    0.058058,    0.059059,     0.06006,    0.061061,    0.062062,    0.063063,    0.064064,    0.065065,    0.066066,    0.067067,    0.068068,    0.069069,     0.07007,    0.071071,\n",
       "          0.072072,    0.073073,    0.074074,    0.075075,    0.076076,    0.077077,    0.078078,    0.079079,     0.08008,    0.081081,    0.082082,    0.083083,    0.084084,    0.085085,    0.086086,    0.087087,    0.088088,    0.089089,     0.09009,    0.091091,    0.092092,    0.093093,    0.094094,    0.095095,\n",
       "          0.096096,    0.097097,    0.098098,    0.099099,      0.1001,      0.1011,      0.1021,      0.1031,      0.1041,     0.10511,     0.10611,     0.10711,     0.10811,     0.10911,     0.11011,     0.11111,     0.11211,     0.11311,     0.11411,     0.11512,     0.11612,     0.11712,     0.11812,     0.11912,\n",
       "           0.12012,     0.12112,     0.12212,     0.12312,     0.12412,     0.12513,     0.12613,     0.12713,     0.12813,     0.12913,     0.13013,     0.13113,     0.13213,     0.13313,     0.13413,     0.13514,     0.13614,     0.13714,     0.13814,     0.13914,     0.14014,     0.14114,     0.14214,     0.14314,\n",
       "           0.14414,     0.14515,     0.14615,     0.14715,     0.14815,     0.14915,     0.15015,     0.15115,     0.15215,     0.15315,     0.15415,     0.15516,     0.15616,     0.15716,     0.15816,     0.15916,     0.16016,     0.16116,     0.16216,     0.16316,     0.16416,     0.16517,     0.16617,     0.16717,\n",
       "           0.16817,     0.16917,     0.17017,     0.17117,     0.17217,     0.17317,     0.17417,     0.17518,     0.17618,     0.17718,     0.17818,     0.17918,     0.18018,     0.18118,     0.18218,     0.18318,     0.18418,     0.18519,     0.18619,     0.18719,     0.18819,     0.18919,     0.19019,     0.19119,\n",
       "           0.19219,     0.19319,     0.19419,      0.1952,      0.1962,      0.1972,      0.1982,      0.1992,      0.2002,      0.2012,      0.2022,      0.2032,      0.2042,     0.20521,     0.20621,     0.20721,     0.20821,     0.20921,     0.21021,     0.21121,     0.21221,     0.21321,     0.21421,     0.21522,\n",
       "           0.21622,     0.21722,     0.21822,     0.21922,     0.22022,     0.22122,     0.22222,     0.22322,     0.22422,     0.22523,     0.22623,     0.22723,     0.22823,     0.22923,     0.23023,     0.23123,     0.23223,     0.23323,     0.23423,     0.23524,     0.23624,     0.23724,     0.23824,     0.23924,\n",
       "           0.24024,     0.24124,     0.24224,     0.24324,     0.24424,     0.24525,     0.24625,     0.24725,     0.24825,     0.24925,     0.25025,     0.25125,     0.25225,     0.25325,     0.25425,     0.25526,     0.25626,     0.25726,     0.25826,     0.25926,     0.26026,     0.26126,     0.26226,     0.26326,\n",
       "           0.26426,     0.26527,     0.26627,     0.26727,     0.26827,     0.26927,     0.27027,     0.27127,     0.27227,     0.27327,     0.27427,     0.27528,     0.27628,     0.27728,     0.27828,     0.27928,     0.28028,     0.28128,     0.28228,     0.28328,     0.28428,     0.28529,     0.28629,     0.28729,\n",
       "           0.28829,     0.28929,     0.29029,     0.29129,     0.29229,     0.29329,     0.29429,      0.2953,      0.2963,      0.2973,      0.2983,      0.2993,      0.3003,      0.3013,      0.3023,      0.3033,      0.3043,     0.30531,     0.30631,     0.30731,     0.30831,     0.30931,     0.31031,     0.31131,\n",
       "           0.31231,     0.31331,     0.31431,     0.31532,     0.31632,     0.31732,     0.31832,     0.31932,     0.32032,     0.32132,     0.32232,     0.32332,     0.32432,     0.32533,     0.32633,     0.32733,     0.32833,     0.32933,     0.33033,     0.33133,     0.33233,     0.33333,     0.33433,     0.33534,\n",
       "           0.33634,     0.33734,     0.33834,     0.33934,     0.34034,     0.34134,     0.34234,     0.34334,     0.34434,     0.34535,     0.34635,     0.34735,     0.34835,     0.34935,     0.35035,     0.35135,     0.35235,     0.35335,     0.35435,     0.35536,     0.35636,     0.35736,     0.35836,     0.35936,\n",
       "           0.36036,     0.36136,     0.36236,     0.36336,     0.36436,     0.36537,     0.36637,     0.36737,     0.36837,     0.36937,     0.37037,     0.37137,     0.37237,     0.37337,     0.37437,     0.37538,     0.37638,     0.37738,     0.37838,     0.37938,     0.38038,     0.38138,     0.38238,     0.38338,\n",
       "           0.38438,     0.38539,     0.38639,     0.38739,     0.38839,     0.38939,     0.39039,     0.39139,     0.39239,     0.39339,     0.39439,      0.3954,      0.3964,      0.3974,      0.3984,      0.3994,      0.4004,      0.4014,      0.4024,      0.4034,      0.4044,     0.40541,     0.40641,     0.40741,\n",
       "           0.40841,     0.40941,     0.41041,     0.41141,     0.41241,     0.41341,     0.41441,     0.41542,     0.41642,     0.41742,     0.41842,     0.41942,     0.42042,     0.42142,     0.42242,     0.42342,     0.42442,     0.42543,     0.42643,     0.42743,     0.42843,     0.42943,     0.43043,     0.43143,\n",
       "           0.43243,     0.43343,     0.43443,     0.43544,     0.43644,     0.43744,     0.43844,     0.43944,     0.44044,     0.44144,     0.44244,     0.44344,     0.44444,     0.44545,     0.44645,     0.44745,     0.44845,     0.44945,     0.45045,     0.45145,     0.45245,     0.45345,     0.45445,     0.45546,\n",
       "           0.45646,     0.45746,     0.45846,     0.45946,     0.46046,     0.46146,     0.46246,     0.46346,     0.46446,     0.46547,     0.46647,     0.46747,     0.46847,     0.46947,     0.47047,     0.47147,     0.47247,     0.47347,     0.47447,     0.47548,     0.47648,     0.47748,     0.47848,     0.47948,\n",
       "           0.48048,     0.48148,     0.48248,     0.48348,     0.48448,     0.48549,     0.48649,     0.48749,     0.48849,     0.48949,     0.49049,     0.49149,     0.49249,     0.49349,     0.49449,      0.4955,      0.4965,      0.4975,      0.4985,      0.4995,      0.5005,      0.5015,      0.5025,      0.5035,\n",
       "            0.5045,     0.50551,     0.50651,     0.50751,     0.50851,     0.50951,     0.51051,     0.51151,     0.51251,     0.51351,     0.51451,     0.51552,     0.51652,     0.51752,     0.51852,     0.51952,     0.52052,     0.52152,     0.52252,     0.52352,     0.52452,     0.52553,     0.52653,     0.52753,\n",
       "           0.52853,     0.52953,     0.53053,     0.53153,     0.53253,     0.53353,     0.53453,     0.53554,     0.53654,     0.53754,     0.53854,     0.53954,     0.54054,     0.54154,     0.54254,     0.54354,     0.54454,     0.54555,     0.54655,     0.54755,     0.54855,     0.54955,     0.55055,     0.55155,\n",
       "           0.55255,     0.55355,     0.55455,     0.55556,     0.55656,     0.55756,     0.55856,     0.55956,     0.56056,     0.56156,     0.56256,     0.56356,     0.56456,     0.56557,     0.56657,     0.56757,     0.56857,     0.56957,     0.57057,     0.57157,     0.57257,     0.57357,     0.57457,     0.57558,\n",
       "           0.57658,     0.57758,     0.57858,     0.57958,     0.58058,     0.58158,     0.58258,     0.58358,     0.58458,     0.58559,     0.58659,     0.58759,     0.58859,     0.58959,     0.59059,     0.59159,     0.59259,     0.59359,     0.59459,      0.5956,      0.5966,      0.5976,      0.5986,      0.5996,\n",
       "            0.6006,      0.6016,      0.6026,      0.6036,      0.6046,     0.60561,     0.60661,     0.60761,     0.60861,     0.60961,     0.61061,     0.61161,     0.61261,     0.61361,     0.61461,     0.61562,     0.61662,     0.61762,     0.61862,     0.61962,     0.62062,     0.62162,     0.62262,     0.62362,\n",
       "           0.62462,     0.62563,     0.62663,     0.62763,     0.62863,     0.62963,     0.63063,     0.63163,     0.63263,     0.63363,     0.63463,     0.63564,     0.63664,     0.63764,     0.63864,     0.63964,     0.64064,     0.64164,     0.64264,     0.64364,     0.64464,     0.64565,     0.64665,     0.64765,\n",
       "           0.64865,     0.64965,     0.65065,     0.65165,     0.65265,     0.65365,     0.65465,     0.65566,     0.65666,     0.65766,     0.65866,     0.65966,     0.66066,     0.66166,     0.66266,     0.66366,     0.66466,     0.66567,     0.66667,     0.66767,     0.66867,     0.66967,     0.67067,     0.67167,\n",
       "           0.67267,     0.67367,     0.67467,     0.67568,     0.67668,     0.67768,     0.67868,     0.67968,     0.68068,     0.68168,     0.68268,     0.68368,     0.68468,     0.68569,     0.68669,     0.68769,     0.68869,     0.68969,     0.69069,     0.69169,     0.69269,     0.69369,     0.69469,      0.6957,\n",
       "            0.6967,      0.6977,      0.6987,      0.6997,      0.7007,      0.7017,      0.7027,      0.7037,      0.7047,     0.70571,     0.70671,     0.70771,     0.70871,     0.70971,     0.71071,     0.71171,     0.71271,     0.71371,     0.71471,     0.71572,     0.71672,     0.71772,     0.71872,     0.71972,\n",
       "           0.72072,     0.72172,     0.72272,     0.72372,     0.72472,     0.72573,     0.72673,     0.72773,     0.72873,     0.72973,     0.73073,     0.73173,     0.73273,     0.73373,     0.73473,     0.73574,     0.73674,     0.73774,     0.73874,     0.73974,     0.74074,     0.74174,     0.74274,     0.74374,\n",
       "           0.74474,     0.74575,     0.74675,     0.74775,     0.74875,     0.74975,     0.75075,     0.75175,     0.75275,     0.75375,     0.75475,     0.75576,     0.75676,     0.75776,     0.75876,     0.75976,     0.76076,     0.76176,     0.76276,     0.76376,     0.76476,     0.76577,     0.76677,     0.76777,\n",
       "           0.76877,     0.76977,     0.77077,     0.77177,     0.77277,     0.77377,     0.77477,     0.77578,     0.77678,     0.77778,     0.77878,     0.77978,     0.78078,     0.78178,     0.78278,     0.78378,     0.78478,     0.78579,     0.78679,     0.78779,     0.78879,     0.78979,     0.79079,     0.79179,\n",
       "           0.79279,     0.79379,     0.79479,      0.7958,      0.7968,      0.7978,      0.7988,      0.7998,      0.8008,      0.8018,      0.8028,      0.8038,      0.8048,     0.80581,     0.80681,     0.80781,     0.80881,     0.80981,     0.81081,     0.81181,     0.81281,     0.81381,     0.81481,     0.81582,\n",
       "           0.81682,     0.81782,     0.81882,     0.81982,     0.82082,     0.82182,     0.82282,     0.82382,     0.82482,     0.82583,     0.82683,     0.82783,     0.82883,     0.82983,     0.83083,     0.83183,     0.83283,     0.83383,     0.83483,     0.83584,     0.83684,     0.83784,     0.83884,     0.83984,\n",
       "           0.84084,     0.84184,     0.84284,     0.84384,     0.84484,     0.84585,     0.84685,     0.84785,     0.84885,     0.84985,     0.85085,     0.85185,     0.85285,     0.85385,     0.85485,     0.85586,     0.85686,     0.85786,     0.85886,     0.85986,     0.86086,     0.86186,     0.86286,     0.86386,\n",
       "           0.86486,     0.86587,     0.86687,     0.86787,     0.86887,     0.86987,     0.87087,     0.87187,     0.87287,     0.87387,     0.87487,     0.87588,     0.87688,     0.87788,     0.87888,     0.87988,     0.88088,     0.88188,     0.88288,     0.88388,     0.88488,     0.88589,     0.88689,     0.88789,\n",
       "           0.88889,     0.88989,     0.89089,     0.89189,     0.89289,     0.89389,     0.89489,      0.8959,      0.8969,      0.8979,      0.8989,      0.8999,      0.9009,      0.9019,      0.9029,      0.9039,      0.9049,     0.90591,     0.90691,     0.90791,     0.90891,     0.90991,     0.91091,     0.91191,\n",
       "           0.91291,     0.91391,     0.91491,     0.91592,     0.91692,     0.91792,     0.91892,     0.91992,     0.92092,     0.92192,     0.92292,     0.92392,     0.92492,     0.92593,     0.92693,     0.92793,     0.92893,     0.92993,     0.93093,     0.93193,     0.93293,     0.93393,     0.93493,     0.93594,\n",
       "           0.93694,     0.93794,     0.93894,     0.93994,     0.94094,     0.94194,     0.94294,     0.94394,     0.94494,     0.94595,     0.94695,     0.94795,     0.94895,     0.94995,     0.95095,     0.95195,     0.95295,     0.95395,     0.95495,     0.95596,     0.95696,     0.95796,     0.95896,     0.95996,\n",
       "           0.96096,     0.96196,     0.96296,     0.96396,     0.96496,     0.96597,     0.96697,     0.96797,     0.96897,     0.96997,     0.97097,     0.97197,     0.97297,     0.97397,     0.97497,     0.97598,     0.97698,     0.97798,     0.97898,     0.97998,     0.98098,     0.98198,     0.98298,     0.98398,\n",
       "           0.98498,     0.98599,     0.98699,     0.98799,     0.98899,     0.98999,     0.99099,     0.99199,     0.99299,     0.99399,     0.99499,       0.996,       0.997,       0.998,       0.999,           1]), array([[     0.9661,      0.9661,      0.9661,     0.94915,     0.94915,      0.9322,      0.9322,      0.9322,     0.91525,     0.91525,     0.91525,     0.91525,     0.91525,     0.91525,     0.91525,     0.91525,     0.91525,     0.91525,     0.91525,     0.91525,     0.91525,     0.91525,     0.91525,\n",
       "            0.91525,     0.91525,     0.91525,     0.91525,     0.91525,     0.91525,     0.91525,     0.91525,     0.91525,     0.91525,     0.91525,     0.91525,     0.91525,     0.91525,     0.91525,     0.91525,     0.91525,     0.91525,     0.91525,     0.91525,     0.91525,     0.91525,     0.91525,\n",
       "            0.91525,     0.91525,     0.91525,     0.91525,     0.91525,     0.91525,     0.91525,     0.91525,     0.91525,     0.91525,     0.91525,     0.91525,     0.91525,     0.91525,     0.91525,     0.91525,     0.91525,     0.91525,     0.91525,     0.91525,     0.91525,     0.91525,     0.91525,\n",
       "            0.91525,     0.91525,     0.91525,     0.91525,     0.91525,     0.91525,     0.91525,     0.91525,     0.91525,     0.91525,     0.91525,     0.91525,     0.91525,     0.91525,     0.91525,     0.91525,     0.91525,     0.91525,     0.91525,     0.91525,     0.91525,     0.91525,     0.91525,\n",
       "            0.91525,     0.91525,     0.91525,     0.91525,     0.91525,     0.91525,     0.91525,     0.91525,     0.91525,     0.91525,     0.91525,     0.91525,     0.91525,     0.91525,     0.91525,     0.91525,     0.91525,     0.91525,     0.91525,     0.91525,     0.91525,     0.91525,     0.91525,\n",
       "            0.91525,     0.91525,     0.91525,     0.91525,     0.91525,     0.91525,     0.91525,     0.91525,     0.91525,     0.91525,     0.91525,     0.91525,     0.91525,     0.91525,     0.91525,     0.91525,     0.91525,     0.91525,     0.91525,     0.91525,     0.91525,     0.91525,     0.91525,\n",
       "            0.91525,     0.91525,     0.91525,     0.91525,     0.91525,     0.91525,     0.91525,     0.91525,     0.91525,     0.91525,     0.91525,     0.91525,     0.91525,     0.91525,     0.91525,     0.91525,     0.91525,     0.91525,     0.91525,     0.91525,     0.91525,     0.91525,     0.91525,\n",
       "            0.91525,     0.91525,     0.91525,     0.91525,     0.91525,     0.91525,     0.91525,     0.91525,     0.91525,     0.91525,     0.91525,     0.91525,     0.91525,     0.91525,     0.91525,     0.91525,     0.91525,     0.91525,     0.91525,     0.91525,     0.91525,     0.91525,     0.91525,\n",
       "            0.91525,     0.91525,     0.91525,     0.91525,     0.91525,     0.91525,     0.91525,     0.91525,     0.91525,     0.91525,     0.91525,     0.91525,     0.91525,     0.91525,     0.91525,     0.91525,     0.91525,     0.91525,     0.91525,     0.91525,     0.91525,     0.91525,     0.91525,\n",
       "            0.91525,     0.91525,     0.91525,     0.91525,     0.91525,     0.91525,     0.91525,     0.91525,     0.91525,     0.91525,     0.91525,     0.91525,     0.91525,     0.91525,     0.91525,     0.91525,     0.91525,     0.91525,     0.91525,     0.91525,     0.91525,     0.91525,     0.91525,\n",
       "            0.91525,     0.91525,     0.91525,     0.91525,     0.91525,     0.91525,     0.91525,     0.91525,     0.91525,     0.91525,     0.91525,     0.91525,     0.91525,     0.91525,     0.91525,     0.91525,     0.91525,     0.91525,     0.91525,     0.91525,     0.91525,     0.91525,     0.91525,\n",
       "            0.91525,     0.91525,     0.91525,     0.91525,     0.91525,     0.91525,     0.91525,     0.91525,     0.91525,     0.91525,     0.91525,     0.91525,     0.91525,     0.91525,     0.91525,     0.91525,     0.91525,     0.91525,     0.91525,     0.91525,     0.91525,     0.91525,     0.91525,\n",
       "            0.91525,     0.91525,     0.91525,     0.91525,     0.91525,     0.91525,     0.91525,     0.91525,     0.91525,     0.91525,     0.91525,     0.91525,     0.91525,     0.91525,     0.91525,     0.91525,     0.91525,     0.91525,     0.91525,     0.91525,     0.91525,     0.91525,     0.91525,\n",
       "            0.91525,     0.91525,     0.91525,     0.91525,     0.91525,     0.91525,     0.91525,     0.91525,     0.91525,     0.91525,     0.91525,     0.91525,     0.91525,     0.91525,     0.91525,     0.91525,     0.91525,     0.91525,     0.91525,     0.91525,     0.91525,     0.91525,     0.91525,\n",
       "            0.91525,     0.91525,     0.91525,     0.91525,     0.91525,     0.91525,     0.91525,     0.91525,     0.91525,     0.91525,     0.91525,     0.91525,     0.91525,     0.91525,     0.91525,     0.91525,     0.91525,     0.91525,     0.91525,     0.91525,     0.91525,     0.91525,     0.91525,\n",
       "            0.91525,     0.91525,     0.91525,     0.91525,     0.91525,     0.91525,     0.91525,     0.91525,     0.91525,     0.91525,     0.91525,     0.91525,     0.91525,     0.91525,     0.91525,     0.91525,     0.91525,     0.91525,     0.91525,     0.91525,     0.91525,     0.91525,     0.91525,\n",
       "            0.91525,     0.91525,     0.91525,     0.91525,     0.91525,     0.91525,     0.91525,     0.91525,     0.91525,     0.91525,     0.91525,     0.91525,     0.91525,     0.91525,     0.91525,     0.91525,     0.91525,     0.91525,     0.91525,     0.91525,     0.91525,     0.91525,     0.91525,\n",
       "            0.91525,     0.91525,     0.91525,     0.91525,     0.91525,     0.91525,     0.91525,     0.91525,     0.91525,     0.91525,     0.91525,     0.91525,     0.91525,     0.91525,     0.91525,     0.91525,     0.91525,     0.91525,     0.91525,     0.91525,     0.91525,     0.91525,     0.91525,\n",
       "            0.91525,     0.91525,     0.91525,     0.91525,     0.91525,     0.91525,     0.91525,     0.91525,     0.91525,     0.91525,     0.91525,     0.91525,     0.91525,     0.91525,     0.91525,     0.91525,     0.91525,     0.91525,     0.91525,     0.91525,     0.91525,     0.91525,     0.91525,\n",
       "            0.91525,     0.91525,     0.91525,     0.91525,     0.91525,     0.91525,     0.91525,     0.91525,     0.91525,     0.91525,     0.91525,     0.91525,     0.91525,     0.91525,     0.91525,     0.91525,     0.91525,     0.91525,     0.91525,     0.91525,     0.91525,     0.91525,     0.91525,\n",
       "            0.91525,     0.91525,     0.91525,     0.91525,     0.91525,     0.91525,     0.91525,     0.91525,     0.91525,     0.91525,     0.91525,     0.91525,     0.91525,     0.91525,     0.91525,     0.91525,     0.91525,     0.91525,     0.91525,     0.91525,     0.91525,     0.91525,     0.91525,\n",
       "            0.91525,     0.91525,     0.91525,     0.91525,     0.91525,     0.91525,     0.91525,     0.91525,     0.91525,     0.91525,     0.91525,     0.91525,     0.91525,     0.91525,     0.91525,     0.91525,     0.91525,     0.91525,     0.91525,     0.91525,     0.91525,     0.91525,     0.91525,\n",
       "            0.91525,     0.91525,     0.91525,     0.91525,     0.91525,     0.91525,     0.91525,     0.91525,     0.91525,     0.91525,     0.91525,     0.91525,     0.91525,     0.91525,     0.91525,     0.91525,     0.91525,     0.91525,     0.91525,     0.91525,     0.91525,     0.91525,     0.91525,\n",
       "            0.91525,     0.91525,     0.91525,     0.91525,     0.91525,     0.91525,     0.91525,     0.91525,     0.91525,     0.91525,     0.91525,     0.91525,     0.91525,     0.91525,     0.91525,     0.91525,     0.91525,     0.91525,     0.91525,     0.91525,     0.91525,     0.91525,     0.91525,\n",
       "            0.91525,     0.91525,     0.91525,     0.91525,     0.91525,     0.91525,     0.91525,     0.91525,     0.91525,     0.91525,     0.91525,     0.91525,     0.91525,     0.91525,     0.91525,     0.91525,     0.91525,     0.91525,     0.91525,     0.91525,     0.91525,     0.91525,     0.91525,\n",
       "            0.91525,     0.91525,     0.91525,     0.91525,     0.91525,     0.91525,     0.91525,     0.91525,     0.91525,     0.91525,     0.91525,     0.91525,     0.91525,     0.91525,     0.91525,     0.91525,     0.91525,     0.91525,     0.91525,     0.91525,     0.91525,     0.91525,     0.91525,\n",
       "            0.91525,     0.91525,     0.91525,     0.91525,     0.91525,     0.91525,     0.91525,     0.91525,     0.91525,     0.91525,     0.91525,     0.91525,     0.91525,     0.91525,     0.91525,     0.91525,     0.91525,     0.91525,     0.91525,     0.91525,     0.91525,     0.91525,     0.91525,\n",
       "            0.91525,     0.91525,     0.91525,     0.91525,     0.91525,     0.91525,     0.91525,     0.91525,     0.91525,     0.91525,     0.91525,     0.91525,     0.91525,     0.91525,     0.91525,     0.91525,     0.91525,     0.91525,     0.91525,     0.91525,     0.91525,     0.91525,     0.91525,\n",
       "            0.91525,     0.91525,     0.91525,     0.91525,     0.91525,     0.91525,     0.91525,     0.91525,     0.91525,     0.91525,     0.91525,     0.91525,     0.91525,     0.91525,     0.91525,     0.91525,     0.91525,     0.91525,     0.91525,     0.91525,     0.91525,     0.91525,     0.91525,\n",
       "            0.91525,     0.91525,     0.91525,     0.91525,     0.91525,     0.91525,     0.91525,     0.91525,     0.91525,     0.91525,     0.91525,     0.91525,     0.91525,     0.91525,     0.91525,     0.91525,     0.91525,     0.91525,     0.91525,     0.91525,     0.91525,     0.91525,     0.91525,\n",
       "            0.91525,     0.91525,     0.91525,     0.91525,     0.91525,     0.91525,     0.91525,     0.91525,     0.91525,     0.91525,     0.91525,     0.91525,     0.91525,     0.91525,     0.91525,     0.91525,     0.91525,     0.91525,     0.91525,     0.91525,     0.91525,     0.91525,     0.91525,\n",
       "            0.91525,     0.91525,     0.91525,     0.91525,     0.91525,     0.91525,     0.91525,     0.91525,     0.91525,     0.91525,     0.91525,     0.91525,     0.91525,     0.91525,     0.91525,     0.91525,     0.91525,     0.91525,     0.91525,     0.91525,     0.91525,     0.91525,     0.91525,\n",
       "            0.91525,     0.91525,     0.91525,     0.91525,     0.91525,     0.91525,     0.91525,     0.91525,     0.91525,     0.91525,     0.91525,     0.91525,     0.91525,     0.91525,     0.91525,     0.91525,     0.91452,     0.91378,     0.91303,     0.91229,     0.91155,     0.91081,     0.91006,\n",
       "            0.90932,     0.90858,     0.90784,      0.9071,     0.90635,     0.90561,     0.90487,     0.90413,     0.90338,     0.90264,      0.9019,     0.90116,     0.90041,     0.89967,     0.89893,     0.89831,     0.89831,     0.89831,     0.89831,     0.89831,     0.89831,     0.89831,     0.89831,\n",
       "            0.89831,     0.89831,     0.89831,     0.89831,     0.89831,     0.89831,     0.89831,     0.89831,     0.89831,     0.89831,     0.89831,     0.89831,     0.89831,     0.89831,     0.89831,     0.89831,     0.89831,     0.89831,     0.89831,     0.89831,     0.89831,     0.89831,     0.89831,\n",
       "            0.89831,     0.89831,     0.89831,     0.89831,     0.89831,     0.89831,     0.89831,     0.89831,     0.89831,     0.89831,     0.89831,     0.89831,     0.89831,     0.89831,     0.89831,     0.89831,     0.89831,     0.89831,     0.89831,     0.89831,     0.89831,     0.89831,     0.89831,\n",
       "            0.89831,     0.89831,     0.89831,     0.89831,     0.89831,     0.89831,     0.89831,     0.89831,     0.89831,     0.89831,     0.89831,     0.89831,     0.89831,     0.89831,     0.89831,     0.89831,     0.89831,     0.89831,     0.89831,     0.89831,     0.89831,     0.89831,     0.89831,\n",
       "            0.89831,     0.89831,     0.89831,     0.89831,     0.89831,     0.89831,     0.89831,     0.89831,     0.89831,     0.89831,     0.89831,     0.89831,     0.89831,     0.89831,     0.89831,     0.89831,     0.89831,     0.89831,     0.89831,     0.89831,     0.89831,     0.89831,     0.89831,\n",
       "            0.89831,     0.89831,     0.89831,     0.89831,     0.89831,     0.89831,     0.89687,     0.88395,     0.88053,     0.87949,     0.87845,     0.87742,     0.87638,     0.87535,     0.87431,     0.87327,     0.87224,      0.8712,     0.87017,     0.86913,     0.86809,     0.86706,     0.86602,\n",
       "            0.86498,       0.864,     0.86309,     0.86218,     0.86127,     0.86035,     0.85944,     0.85853,     0.85762,      0.8567,     0.85579,     0.85488,     0.85397,     0.85306,     0.85214,     0.85123,     0.85032,     0.84941,     0.84849,     0.84758,     0.84581,     0.84391,       0.842,\n",
       "             0.8401,     0.83819,     0.83629,     0.83439,     0.83248,     0.83058,     0.82751,      0.8244,     0.82128,     0.81817,     0.81506,     0.80789,     0.79695,     0.79369,     0.79067,     0.78765,     0.78463,     0.78161,     0.75986,     0.74514,     0.73779,     0.73044,     0.72531,\n",
       "            0.72081,     0.71632,     0.71163,     0.67695,     0.66364,     0.65454,     0.64648,     0.64107,     0.63679,      0.6325,     0.62822,     0.59829,     0.57451,     0.56711,      0.5597,      0.5303,     0.51583,     0.49967,     0.47855,     0.42103,     0.41216,      0.4023,     0.39092,\n",
       "            0.38585,     0.38145,     0.37705,     0.37209,     0.35749,     0.27959,     0.26469,     0.25507,     0.21292,     0.19714,      0.1817,     0.17161,     0.10184,    0.089156,    0.062991,    0.044306,    0.033489,    0.029754,    0.026019,    0.022284,    0.018549,           0,           0,\n",
       "                  0,           0,           0,           0,           0,           0,           0,           0,           0,           0,           0]]), 'Confidence', 'Recall'], [array([          0,    0.001001,    0.002002,    0.003003,    0.004004,    0.005005,    0.006006,    0.007007,    0.008008,    0.009009,     0.01001,    0.011011,    0.012012,    0.013013,    0.014014,    0.015015,    0.016016,    0.017017,    0.018018,    0.019019,     0.02002,    0.021021,    0.022022,    0.023023,\n",
       "          0.024024,    0.025025,    0.026026,    0.027027,    0.028028,    0.029029,     0.03003,    0.031031,    0.032032,    0.033033,    0.034034,    0.035035,    0.036036,    0.037037,    0.038038,    0.039039,     0.04004,    0.041041,    0.042042,    0.043043,    0.044044,    0.045045,    0.046046,    0.047047,\n",
       "          0.048048,    0.049049,     0.05005,    0.051051,    0.052052,    0.053053,    0.054054,    0.055055,    0.056056,    0.057057,    0.058058,    0.059059,     0.06006,    0.061061,    0.062062,    0.063063,    0.064064,    0.065065,    0.066066,    0.067067,    0.068068,    0.069069,     0.07007,    0.071071,\n",
       "          0.072072,    0.073073,    0.074074,    0.075075,    0.076076,    0.077077,    0.078078,    0.079079,     0.08008,    0.081081,    0.082082,    0.083083,    0.084084,    0.085085,    0.086086,    0.087087,    0.088088,    0.089089,     0.09009,    0.091091,    0.092092,    0.093093,    0.094094,    0.095095,\n",
       "          0.096096,    0.097097,    0.098098,    0.099099,      0.1001,      0.1011,      0.1021,      0.1031,      0.1041,     0.10511,     0.10611,     0.10711,     0.10811,     0.10911,     0.11011,     0.11111,     0.11211,     0.11311,     0.11411,     0.11512,     0.11612,     0.11712,     0.11812,     0.11912,\n",
       "           0.12012,     0.12112,     0.12212,     0.12312,     0.12412,     0.12513,     0.12613,     0.12713,     0.12813,     0.12913,     0.13013,     0.13113,     0.13213,     0.13313,     0.13413,     0.13514,     0.13614,     0.13714,     0.13814,     0.13914,     0.14014,     0.14114,     0.14214,     0.14314,\n",
       "           0.14414,     0.14515,     0.14615,     0.14715,     0.14815,     0.14915,     0.15015,     0.15115,     0.15215,     0.15315,     0.15415,     0.15516,     0.15616,     0.15716,     0.15816,     0.15916,     0.16016,     0.16116,     0.16216,     0.16316,     0.16416,     0.16517,     0.16617,     0.16717,\n",
       "           0.16817,     0.16917,     0.17017,     0.17117,     0.17217,     0.17317,     0.17417,     0.17518,     0.17618,     0.17718,     0.17818,     0.17918,     0.18018,     0.18118,     0.18218,     0.18318,     0.18418,     0.18519,     0.18619,     0.18719,     0.18819,     0.18919,     0.19019,     0.19119,\n",
       "           0.19219,     0.19319,     0.19419,      0.1952,      0.1962,      0.1972,      0.1982,      0.1992,      0.2002,      0.2012,      0.2022,      0.2032,      0.2042,     0.20521,     0.20621,     0.20721,     0.20821,     0.20921,     0.21021,     0.21121,     0.21221,     0.21321,     0.21421,     0.21522,\n",
       "           0.21622,     0.21722,     0.21822,     0.21922,     0.22022,     0.22122,     0.22222,     0.22322,     0.22422,     0.22523,     0.22623,     0.22723,     0.22823,     0.22923,     0.23023,     0.23123,     0.23223,     0.23323,     0.23423,     0.23524,     0.23624,     0.23724,     0.23824,     0.23924,\n",
       "           0.24024,     0.24124,     0.24224,     0.24324,     0.24424,     0.24525,     0.24625,     0.24725,     0.24825,     0.24925,     0.25025,     0.25125,     0.25225,     0.25325,     0.25425,     0.25526,     0.25626,     0.25726,     0.25826,     0.25926,     0.26026,     0.26126,     0.26226,     0.26326,\n",
       "           0.26426,     0.26527,     0.26627,     0.26727,     0.26827,     0.26927,     0.27027,     0.27127,     0.27227,     0.27327,     0.27427,     0.27528,     0.27628,     0.27728,     0.27828,     0.27928,     0.28028,     0.28128,     0.28228,     0.28328,     0.28428,     0.28529,     0.28629,     0.28729,\n",
       "           0.28829,     0.28929,     0.29029,     0.29129,     0.29229,     0.29329,     0.29429,      0.2953,      0.2963,      0.2973,      0.2983,      0.2993,      0.3003,      0.3013,      0.3023,      0.3033,      0.3043,     0.30531,     0.30631,     0.30731,     0.30831,     0.30931,     0.31031,     0.31131,\n",
       "           0.31231,     0.31331,     0.31431,     0.31532,     0.31632,     0.31732,     0.31832,     0.31932,     0.32032,     0.32132,     0.32232,     0.32332,     0.32432,     0.32533,     0.32633,     0.32733,     0.32833,     0.32933,     0.33033,     0.33133,     0.33233,     0.33333,     0.33433,     0.33534,\n",
       "           0.33634,     0.33734,     0.33834,     0.33934,     0.34034,     0.34134,     0.34234,     0.34334,     0.34434,     0.34535,     0.34635,     0.34735,     0.34835,     0.34935,     0.35035,     0.35135,     0.35235,     0.35335,     0.35435,     0.35536,     0.35636,     0.35736,     0.35836,     0.35936,\n",
       "           0.36036,     0.36136,     0.36236,     0.36336,     0.36436,     0.36537,     0.36637,     0.36737,     0.36837,     0.36937,     0.37037,     0.37137,     0.37237,     0.37337,     0.37437,     0.37538,     0.37638,     0.37738,     0.37838,     0.37938,     0.38038,     0.38138,     0.38238,     0.38338,\n",
       "           0.38438,     0.38539,     0.38639,     0.38739,     0.38839,     0.38939,     0.39039,     0.39139,     0.39239,     0.39339,     0.39439,      0.3954,      0.3964,      0.3974,      0.3984,      0.3994,      0.4004,      0.4014,      0.4024,      0.4034,      0.4044,     0.40541,     0.40641,     0.40741,\n",
       "           0.40841,     0.40941,     0.41041,     0.41141,     0.41241,     0.41341,     0.41441,     0.41542,     0.41642,     0.41742,     0.41842,     0.41942,     0.42042,     0.42142,     0.42242,     0.42342,     0.42442,     0.42543,     0.42643,     0.42743,     0.42843,     0.42943,     0.43043,     0.43143,\n",
       "           0.43243,     0.43343,     0.43443,     0.43544,     0.43644,     0.43744,     0.43844,     0.43944,     0.44044,     0.44144,     0.44244,     0.44344,     0.44444,     0.44545,     0.44645,     0.44745,     0.44845,     0.44945,     0.45045,     0.45145,     0.45245,     0.45345,     0.45445,     0.45546,\n",
       "           0.45646,     0.45746,     0.45846,     0.45946,     0.46046,     0.46146,     0.46246,     0.46346,     0.46446,     0.46547,     0.46647,     0.46747,     0.46847,     0.46947,     0.47047,     0.47147,     0.47247,     0.47347,     0.47447,     0.47548,     0.47648,     0.47748,     0.47848,     0.47948,\n",
       "           0.48048,     0.48148,     0.48248,     0.48348,     0.48448,     0.48549,     0.48649,     0.48749,     0.48849,     0.48949,     0.49049,     0.49149,     0.49249,     0.49349,     0.49449,      0.4955,      0.4965,      0.4975,      0.4985,      0.4995,      0.5005,      0.5015,      0.5025,      0.5035,\n",
       "            0.5045,     0.50551,     0.50651,     0.50751,     0.50851,     0.50951,     0.51051,     0.51151,     0.51251,     0.51351,     0.51451,     0.51552,     0.51652,     0.51752,     0.51852,     0.51952,     0.52052,     0.52152,     0.52252,     0.52352,     0.52452,     0.52553,     0.52653,     0.52753,\n",
       "           0.52853,     0.52953,     0.53053,     0.53153,     0.53253,     0.53353,     0.53453,     0.53554,     0.53654,     0.53754,     0.53854,     0.53954,     0.54054,     0.54154,     0.54254,     0.54354,     0.54454,     0.54555,     0.54655,     0.54755,     0.54855,     0.54955,     0.55055,     0.55155,\n",
       "           0.55255,     0.55355,     0.55455,     0.55556,     0.55656,     0.55756,     0.55856,     0.55956,     0.56056,     0.56156,     0.56256,     0.56356,     0.56456,     0.56557,     0.56657,     0.56757,     0.56857,     0.56957,     0.57057,     0.57157,     0.57257,     0.57357,     0.57457,     0.57558,\n",
       "           0.57658,     0.57758,     0.57858,     0.57958,     0.58058,     0.58158,     0.58258,     0.58358,     0.58458,     0.58559,     0.58659,     0.58759,     0.58859,     0.58959,     0.59059,     0.59159,     0.59259,     0.59359,     0.59459,      0.5956,      0.5966,      0.5976,      0.5986,      0.5996,\n",
       "            0.6006,      0.6016,      0.6026,      0.6036,      0.6046,     0.60561,     0.60661,     0.60761,     0.60861,     0.60961,     0.61061,     0.61161,     0.61261,     0.61361,     0.61461,     0.61562,     0.61662,     0.61762,     0.61862,     0.61962,     0.62062,     0.62162,     0.62262,     0.62362,\n",
       "           0.62462,     0.62563,     0.62663,     0.62763,     0.62863,     0.62963,     0.63063,     0.63163,     0.63263,     0.63363,     0.63463,     0.63564,     0.63664,     0.63764,     0.63864,     0.63964,     0.64064,     0.64164,     0.64264,     0.64364,     0.64464,     0.64565,     0.64665,     0.64765,\n",
       "           0.64865,     0.64965,     0.65065,     0.65165,     0.65265,     0.65365,     0.65465,     0.65566,     0.65666,     0.65766,     0.65866,     0.65966,     0.66066,     0.66166,     0.66266,     0.66366,     0.66466,     0.66567,     0.66667,     0.66767,     0.66867,     0.66967,     0.67067,     0.67167,\n",
       "           0.67267,     0.67367,     0.67467,     0.67568,     0.67668,     0.67768,     0.67868,     0.67968,     0.68068,     0.68168,     0.68268,     0.68368,     0.68468,     0.68569,     0.68669,     0.68769,     0.68869,     0.68969,     0.69069,     0.69169,     0.69269,     0.69369,     0.69469,      0.6957,\n",
       "            0.6967,      0.6977,      0.6987,      0.6997,      0.7007,      0.7017,      0.7027,      0.7037,      0.7047,     0.70571,     0.70671,     0.70771,     0.70871,     0.70971,     0.71071,     0.71171,     0.71271,     0.71371,     0.71471,     0.71572,     0.71672,     0.71772,     0.71872,     0.71972,\n",
       "           0.72072,     0.72172,     0.72272,     0.72372,     0.72472,     0.72573,     0.72673,     0.72773,     0.72873,     0.72973,     0.73073,     0.73173,     0.73273,     0.73373,     0.73473,     0.73574,     0.73674,     0.73774,     0.73874,     0.73974,     0.74074,     0.74174,     0.74274,     0.74374,\n",
       "           0.74474,     0.74575,     0.74675,     0.74775,     0.74875,     0.74975,     0.75075,     0.75175,     0.75275,     0.75375,     0.75475,     0.75576,     0.75676,     0.75776,     0.75876,     0.75976,     0.76076,     0.76176,     0.76276,     0.76376,     0.76476,     0.76577,     0.76677,     0.76777,\n",
       "           0.76877,     0.76977,     0.77077,     0.77177,     0.77277,     0.77377,     0.77477,     0.77578,     0.77678,     0.77778,     0.77878,     0.77978,     0.78078,     0.78178,     0.78278,     0.78378,     0.78478,     0.78579,     0.78679,     0.78779,     0.78879,     0.78979,     0.79079,     0.79179,\n",
       "           0.79279,     0.79379,     0.79479,      0.7958,      0.7968,      0.7978,      0.7988,      0.7998,      0.8008,      0.8018,      0.8028,      0.8038,      0.8048,     0.80581,     0.80681,     0.80781,     0.80881,     0.80981,     0.81081,     0.81181,     0.81281,     0.81381,     0.81481,     0.81582,\n",
       "           0.81682,     0.81782,     0.81882,     0.81982,     0.82082,     0.82182,     0.82282,     0.82382,     0.82482,     0.82583,     0.82683,     0.82783,     0.82883,     0.82983,     0.83083,     0.83183,     0.83283,     0.83383,     0.83483,     0.83584,     0.83684,     0.83784,     0.83884,     0.83984,\n",
       "           0.84084,     0.84184,     0.84284,     0.84384,     0.84484,     0.84585,     0.84685,     0.84785,     0.84885,     0.84985,     0.85085,     0.85185,     0.85285,     0.85385,     0.85485,     0.85586,     0.85686,     0.85786,     0.85886,     0.85986,     0.86086,     0.86186,     0.86286,     0.86386,\n",
       "           0.86486,     0.86587,     0.86687,     0.86787,     0.86887,     0.86987,     0.87087,     0.87187,     0.87287,     0.87387,     0.87487,     0.87588,     0.87688,     0.87788,     0.87888,     0.87988,     0.88088,     0.88188,     0.88288,     0.88388,     0.88488,     0.88589,     0.88689,     0.88789,\n",
       "           0.88889,     0.88989,     0.89089,     0.89189,     0.89289,     0.89389,     0.89489,      0.8959,      0.8969,      0.8979,      0.8989,      0.8999,      0.9009,      0.9019,      0.9029,      0.9039,      0.9049,     0.90591,     0.90691,     0.90791,     0.90891,     0.90991,     0.91091,     0.91191,\n",
       "           0.91291,     0.91391,     0.91491,     0.91592,     0.91692,     0.91792,     0.91892,     0.91992,     0.92092,     0.92192,     0.92292,     0.92392,     0.92492,     0.92593,     0.92693,     0.92793,     0.92893,     0.92993,     0.93093,     0.93193,     0.93293,     0.93393,     0.93493,     0.93594,\n",
       "           0.93694,     0.93794,     0.93894,     0.93994,     0.94094,     0.94194,     0.94294,     0.94394,     0.94494,     0.94595,     0.94695,     0.94795,     0.94895,     0.94995,     0.95095,     0.95195,     0.95295,     0.95395,     0.95495,     0.95596,     0.95696,     0.95796,     0.95896,     0.95996,\n",
       "           0.96096,     0.96196,     0.96296,     0.96396,     0.96496,     0.96597,     0.96697,     0.96797,     0.96897,     0.96997,     0.97097,     0.97197,     0.97297,     0.97397,     0.97497,     0.97598,     0.97698,     0.97798,     0.97898,     0.97998,     0.98098,     0.98198,     0.98298,     0.98398,\n",
       "           0.98498,     0.98599,     0.98699,     0.98799,     0.98899,     0.98999,     0.99099,     0.99199,     0.99299,     0.99399,     0.99499,       0.996,       0.997,       0.998,       0.999,           1]), array([[          1,           1,           1,           1,           1,           1,           1,           1,           1,           1,           1,           1,           1,           1,           1,           1,           1,           1,           1,           1,           1,           1,           1,\n",
       "                  1,           1,           1,           1,           1,           1,           1,           1,           1,           1,           1,           1,           1,           1,           1,           1,           1,           1,           1,           1,           1,           1,           1,\n",
       "                  1,           1,           1,           1,           1,           1,           1,           1,           1,           1,           1,           1,           1,           1,           1,           1,           1,           1,           1,           1,           1,           1,           1,\n",
       "                  1,           1,           1,           1,           1,           1,           1,           1,           1,           1,           1,           1,           1,           1,           1,           1,           1,           1,           1,           1,           1,           1,           1,\n",
       "                  1,           1,           1,           1,           1,           1,           1,           1,           1,           1,           1,           1,           1,           1,           1,           1,           1,           1,           1,           1,           1,           1,           1,\n",
       "                  1,           1,           1,           1,           1,           1,           1,           1,           1,           1,           1,           1,           1,           1,           1,           1,           1,           1,           1,           1,           1,           1,           1,\n",
       "                  1,           1,           1,           1,           1,           1,           1,           1,           1,           1,           1,           1,           1,           1,           1,           1,           1,           1,           1,           1,           1,           1,           1,\n",
       "                  1,           1,           1,           1,           1,           1,           1,           1,           1,           1,           1,           1,           1,           1,           1,           1,           1,           1,           1,           1,           1,           1,           1,\n",
       "                  1,           1,           1,           1,           1,           1,           1,           1,           1,           1,           1,           1,           1,           1,           1,           1,           1,           1,           1,           1,           1,           1,           1,\n",
       "                  1,           1,           1,           1,           1,           1,           1,           1,           1,           1,           1,           1,           1,           1,           1,           1,           1,           1,           1,           1,           1,           1,           1,\n",
       "                  1,           1,           1,           1,           1,           1,           1,           1,           1,           1,           1,           1,           1,           1,           1,           1,           1,           1,           1,           1,           1,           1,           1,\n",
       "                  1,           1,           1,           1,           1,           1,           1,           1,           1,           1,           1,           1,           1,           1,           1,           1,           1,           1,           1,           1,           1,           1,           1,\n",
       "                  1,           1,           1,           1,           1,           1,           1,           1,           1,           1,           1,           1,           1,           1,           1,           1,           1,           1,           1,           1,           1,           1,           1,\n",
       "                  1,           1,           1,           1,           1,           1,           1,           1,           1,           1,           1,           1,           1,           1,           1,           1,           1,           1,           1,           1,           1,           1,           1,\n",
       "                  1,           1,           1,           1,           1,           1,           1,           1,           1,           1,           1,           1,           1,           1,           1,           1,           1,           1,           1,           1,           1,           1,           1,\n",
       "                  1,           1,           1,           1,           1,           1,           1,           1,           1,           1,           1,           1,           1,           1,           1,           1,           1,           1,           1,           1,           1,           1,           1,\n",
       "                  1,           1,           1,           1,           1,           1,           1,           1,           1,           1,           1,           1,           1,           1,           1,           1,           1,           1,           1,           1,           1,           1,           1,\n",
       "                  1,           1,           1,           1,           1,           1,           1,           1,           1,           1,           1,           1,           1,           1,           1,           1,           1,           1,           1,           1,           1,           1,           1,\n",
       "                  1,           1,           1,           1,           1,           1,           1,           1,           1,           1,           1,           1,           1,           1,           1,           1,           1,           1,           1,           1,           1,           1,           1,\n",
       "                  1,           1,           1,           1,           1,           1,           1,           1,           1,           1,           1,           1,           1,           1,           1,           1,           1,           1,           1,           1,           1,           1,           1,\n",
       "                  1,           1,           1,           1,           1,           1,           1,           1,           1,           1,           1,           1,           1,           1,           1,           1,           1,           1,           1,           1,           1,           1,           1,\n",
       "                  1,           1,           1,           1,           1,           1,           1,           1,           1,           1,           1,           1,           1,           1,           1,           1,           1,           1,           1,           1,           1,           1,           1,\n",
       "                  1,           1,           1,           1,           1,           1,           1,           1,           1,           1,           1,           1,           1,           1,           1,           1,           1,           1,           1,           1,           1,           1,           1,\n",
       "                  1,           1,           1,           1,           1,           1,           1,           1,           1,           1,           1,           1,           1,           1,           1,           1,           1,           1,           1,           1,           1,           1,           1,\n",
       "                  1,           1,           1,           1,           1,           1,           1,           1,           1,           1,           1,           1,           1,           1,           1,           1,           1,           1,           1,           1,           1,           1,           1,\n",
       "                  1,           1,           1,           1,           1,           1,           1,           1,           1,           1,           1,           1,           1,           1,           1,           1,           1,           1,           1,           1,           1,           1,           1,\n",
       "                  1,           1,           1,           1,           1,           1,           1,           1,           1,           1,           1,           1,           1,           1,           1,           1,           1,           1,           1,           1,           1,           1,           1,\n",
       "                  1,           1,           1,           1,           1,           1,           1,           1,           1,           1,           1,           1,           1,           1,           1,           1,           1,           1,           1,           1,           1,           1,           1,\n",
       "                  1,           1,           1,           1,           1,           1,           1,           1,           1,           1,           1,           1,           1,           1,           1,           1,           1,           1,           1,           1,           1,           1,           1,\n",
       "                  1,           1,           1,           1,           1,           1,           1,           1,           1,           1,           1,           1,           1,           1,           1,           1,           1,           1,           1,           1,           1,           1,           1,\n",
       "                  1,           1,           1,           1,           1,           1,           1,           1,           1,           1,           1,           1,           1,           1,           1,           1,           1,           1,           1,           1,           1,           1,           1,\n",
       "                  1,           1,           1,           1,           1,           1,           1,           1,           1,           1,           1,           1,           1,           1,           1,           1,           1,           1,           1,           1,           1,           1,           1,\n",
       "                  1,           1,           1,           1,           1,           1,           1,           1,           1,           1,           1,           1,           1,           1,           1,           1,           1,           1,           1,           1,           1,           1,           1,\n",
       "                  1,           1,           1,           1,           1,           1,           1,           1,           1,           1,           1,           1,           1,           1,           1,           1,           1,           1,           1,           1,           1,           1,           1,\n",
       "                  1,           1,           1,           1,           1,           1,           1,           1,           1,           1,           1,           1,           1,           1,           1,           1,           1,           1,           1,           1,           1,           1,           1,\n",
       "                  1,           1,           1,           1,           1,           1,           1,           1,           1,           1,           1,           1,           1,           1,           1,           1,           1,           1,           1,           1,           1,           1,           1,\n",
       "                  1,           1,           1,           1,           1,           1,           1,           1,           1,           1,           1,           1,           1,           1,           1,           1,           1,           1,           1,           1,           1,           1,           1,\n",
       "                  1,           1,           1,           1,           1,           1,           1,           1,           1,           1,           1,           1,           1,           1,           1,           1,           1,           1,           1,           1,           1,           1,           1,\n",
       "                  1,           1,           1,           1,           1,           1,           1,           1,           1,           1,           1,           1,           1,           1,           1,           1,           1,           1,           1,           1,           1,           1,           1,\n",
       "                  1,     0.98182,     0.98182,     0.98182,     0.98182,     0.98182,     0.98182,     0.98182,     0.98182,     0.98182,     0.98182,     0.98182,     0.98182,     0.98182,     0.98182,     0.98182,     0.98182,     0.98182,     0.15152,     0.15152,     0.15152,     0.15152,     0.15152,\n",
       "            0.15152,     0.15152,     0.15152,     0.15152,     0.15152,     0.15152,     0.15152,     0.15152,     0.15152,     0.15152,     0.15152,     0.15152,     0.10145,     0.10145,     0.10145,     0.10145,     0.10145,     0.10145,     0.10145,     0.10145,     0.10145,     0.10145,     0.10145,\n",
       "            0.10145,     0.10145,     0.10145,     0.10145,     0.10145,     0.10145,    0.059748,    0.059748,    0.059748,    0.059748,    0.059748,    0.059748,    0.059748,    0.059748,    0.059748,    0.059748,    0.059748,    0.059748,    0.059748,    0.059748,    0.059748,    0.059748,    0.059748,\n",
       "           0.023124,    0.022424,    0.021723,    0.021022,    0.020322,    0.019621,     0.01892,    0.018219,    0.017519,    0.016818,    0.016117,    0.015416,    0.014716,    0.014015,    0.013314,    0.012613,    0.011913,    0.011212,    0.010511,   0.0098104,   0.0091097,   0.0084089,   0.0077082,\n",
       "          0.0070074,   0.0063067,   0.0056059,   0.0049052,   0.0042045,   0.0035037,    0.002803,   0.0021022,   0.0014015,  0.00070074,           0]]), 'Recall', 'Precision'], [array([          0,    0.001001,    0.002002,    0.003003,    0.004004,    0.005005,    0.006006,    0.007007,    0.008008,    0.009009,     0.01001,    0.011011,    0.012012,    0.013013,    0.014014,    0.015015,    0.016016,    0.017017,    0.018018,    0.019019,     0.02002,    0.021021,    0.022022,    0.023023,\n",
       "          0.024024,    0.025025,    0.026026,    0.027027,    0.028028,    0.029029,     0.03003,    0.031031,    0.032032,    0.033033,    0.034034,    0.035035,    0.036036,    0.037037,    0.038038,    0.039039,     0.04004,    0.041041,    0.042042,    0.043043,    0.044044,    0.045045,    0.046046,    0.047047,\n",
       "          0.048048,    0.049049,     0.05005,    0.051051,    0.052052,    0.053053,    0.054054,    0.055055,    0.056056,    0.057057,    0.058058,    0.059059,     0.06006,    0.061061,    0.062062,    0.063063,    0.064064,    0.065065,    0.066066,    0.067067,    0.068068,    0.069069,     0.07007,    0.071071,\n",
       "          0.072072,    0.073073,    0.074074,    0.075075,    0.076076,    0.077077,    0.078078,    0.079079,     0.08008,    0.081081,    0.082082,    0.083083,    0.084084,    0.085085,    0.086086,    0.087087,    0.088088,    0.089089,     0.09009,    0.091091,    0.092092,    0.093093,    0.094094,    0.095095,\n",
       "          0.096096,    0.097097,    0.098098,    0.099099,      0.1001,      0.1011,      0.1021,      0.1031,      0.1041,     0.10511,     0.10611,     0.10711,     0.10811,     0.10911,     0.11011,     0.11111,     0.11211,     0.11311,     0.11411,     0.11512,     0.11612,     0.11712,     0.11812,     0.11912,\n",
       "           0.12012,     0.12112,     0.12212,     0.12312,     0.12412,     0.12513,     0.12613,     0.12713,     0.12813,     0.12913,     0.13013,     0.13113,     0.13213,     0.13313,     0.13413,     0.13514,     0.13614,     0.13714,     0.13814,     0.13914,     0.14014,     0.14114,     0.14214,     0.14314,\n",
       "           0.14414,     0.14515,     0.14615,     0.14715,     0.14815,     0.14915,     0.15015,     0.15115,     0.15215,     0.15315,     0.15415,     0.15516,     0.15616,     0.15716,     0.15816,     0.15916,     0.16016,     0.16116,     0.16216,     0.16316,     0.16416,     0.16517,     0.16617,     0.16717,\n",
       "           0.16817,     0.16917,     0.17017,     0.17117,     0.17217,     0.17317,     0.17417,     0.17518,     0.17618,     0.17718,     0.17818,     0.17918,     0.18018,     0.18118,     0.18218,     0.18318,     0.18418,     0.18519,     0.18619,     0.18719,     0.18819,     0.18919,     0.19019,     0.19119,\n",
       "           0.19219,     0.19319,     0.19419,      0.1952,      0.1962,      0.1972,      0.1982,      0.1992,      0.2002,      0.2012,      0.2022,      0.2032,      0.2042,     0.20521,     0.20621,     0.20721,     0.20821,     0.20921,     0.21021,     0.21121,     0.21221,     0.21321,     0.21421,     0.21522,\n",
       "           0.21622,     0.21722,     0.21822,     0.21922,     0.22022,     0.22122,     0.22222,     0.22322,     0.22422,     0.22523,     0.22623,     0.22723,     0.22823,     0.22923,     0.23023,     0.23123,     0.23223,     0.23323,     0.23423,     0.23524,     0.23624,     0.23724,     0.23824,     0.23924,\n",
       "           0.24024,     0.24124,     0.24224,     0.24324,     0.24424,     0.24525,     0.24625,     0.24725,     0.24825,     0.24925,     0.25025,     0.25125,     0.25225,     0.25325,     0.25425,     0.25526,     0.25626,     0.25726,     0.25826,     0.25926,     0.26026,     0.26126,     0.26226,     0.26326,\n",
       "           0.26426,     0.26527,     0.26627,     0.26727,     0.26827,     0.26927,     0.27027,     0.27127,     0.27227,     0.27327,     0.27427,     0.27528,     0.27628,     0.27728,     0.27828,     0.27928,     0.28028,     0.28128,     0.28228,     0.28328,     0.28428,     0.28529,     0.28629,     0.28729,\n",
       "           0.28829,     0.28929,     0.29029,     0.29129,     0.29229,     0.29329,     0.29429,      0.2953,      0.2963,      0.2973,      0.2983,      0.2993,      0.3003,      0.3013,      0.3023,      0.3033,      0.3043,     0.30531,     0.30631,     0.30731,     0.30831,     0.30931,     0.31031,     0.31131,\n",
       "           0.31231,     0.31331,     0.31431,     0.31532,     0.31632,     0.31732,     0.31832,     0.31932,     0.32032,     0.32132,     0.32232,     0.32332,     0.32432,     0.32533,     0.32633,     0.32733,     0.32833,     0.32933,     0.33033,     0.33133,     0.33233,     0.33333,     0.33433,     0.33534,\n",
       "           0.33634,     0.33734,     0.33834,     0.33934,     0.34034,     0.34134,     0.34234,     0.34334,     0.34434,     0.34535,     0.34635,     0.34735,     0.34835,     0.34935,     0.35035,     0.35135,     0.35235,     0.35335,     0.35435,     0.35536,     0.35636,     0.35736,     0.35836,     0.35936,\n",
       "           0.36036,     0.36136,     0.36236,     0.36336,     0.36436,     0.36537,     0.36637,     0.36737,     0.36837,     0.36937,     0.37037,     0.37137,     0.37237,     0.37337,     0.37437,     0.37538,     0.37638,     0.37738,     0.37838,     0.37938,     0.38038,     0.38138,     0.38238,     0.38338,\n",
       "           0.38438,     0.38539,     0.38639,     0.38739,     0.38839,     0.38939,     0.39039,     0.39139,     0.39239,     0.39339,     0.39439,      0.3954,      0.3964,      0.3974,      0.3984,      0.3994,      0.4004,      0.4014,      0.4024,      0.4034,      0.4044,     0.40541,     0.40641,     0.40741,\n",
       "           0.40841,     0.40941,     0.41041,     0.41141,     0.41241,     0.41341,     0.41441,     0.41542,     0.41642,     0.41742,     0.41842,     0.41942,     0.42042,     0.42142,     0.42242,     0.42342,     0.42442,     0.42543,     0.42643,     0.42743,     0.42843,     0.42943,     0.43043,     0.43143,\n",
       "           0.43243,     0.43343,     0.43443,     0.43544,     0.43644,     0.43744,     0.43844,     0.43944,     0.44044,     0.44144,     0.44244,     0.44344,     0.44444,     0.44545,     0.44645,     0.44745,     0.44845,     0.44945,     0.45045,     0.45145,     0.45245,     0.45345,     0.45445,     0.45546,\n",
       "           0.45646,     0.45746,     0.45846,     0.45946,     0.46046,     0.46146,     0.46246,     0.46346,     0.46446,     0.46547,     0.46647,     0.46747,     0.46847,     0.46947,     0.47047,     0.47147,     0.47247,     0.47347,     0.47447,     0.47548,     0.47648,     0.47748,     0.47848,     0.47948,\n",
       "           0.48048,     0.48148,     0.48248,     0.48348,     0.48448,     0.48549,     0.48649,     0.48749,     0.48849,     0.48949,     0.49049,     0.49149,     0.49249,     0.49349,     0.49449,      0.4955,      0.4965,      0.4975,      0.4985,      0.4995,      0.5005,      0.5015,      0.5025,      0.5035,\n",
       "            0.5045,     0.50551,     0.50651,     0.50751,     0.50851,     0.50951,     0.51051,     0.51151,     0.51251,     0.51351,     0.51451,     0.51552,     0.51652,     0.51752,     0.51852,     0.51952,     0.52052,     0.52152,     0.52252,     0.52352,     0.52452,     0.52553,     0.52653,     0.52753,\n",
       "           0.52853,     0.52953,     0.53053,     0.53153,     0.53253,     0.53353,     0.53453,     0.53554,     0.53654,     0.53754,     0.53854,     0.53954,     0.54054,     0.54154,     0.54254,     0.54354,     0.54454,     0.54555,     0.54655,     0.54755,     0.54855,     0.54955,     0.55055,     0.55155,\n",
       "           0.55255,     0.55355,     0.55455,     0.55556,     0.55656,     0.55756,     0.55856,     0.55956,     0.56056,     0.56156,     0.56256,     0.56356,     0.56456,     0.56557,     0.56657,     0.56757,     0.56857,     0.56957,     0.57057,     0.57157,     0.57257,     0.57357,     0.57457,     0.57558,\n",
       "           0.57658,     0.57758,     0.57858,     0.57958,     0.58058,     0.58158,     0.58258,     0.58358,     0.58458,     0.58559,     0.58659,     0.58759,     0.58859,     0.58959,     0.59059,     0.59159,     0.59259,     0.59359,     0.59459,      0.5956,      0.5966,      0.5976,      0.5986,      0.5996,\n",
       "            0.6006,      0.6016,      0.6026,      0.6036,      0.6046,     0.60561,     0.60661,     0.60761,     0.60861,     0.60961,     0.61061,     0.61161,     0.61261,     0.61361,     0.61461,     0.61562,     0.61662,     0.61762,     0.61862,     0.61962,     0.62062,     0.62162,     0.62262,     0.62362,\n",
       "           0.62462,     0.62563,     0.62663,     0.62763,     0.62863,     0.62963,     0.63063,     0.63163,     0.63263,     0.63363,     0.63463,     0.63564,     0.63664,     0.63764,     0.63864,     0.63964,     0.64064,     0.64164,     0.64264,     0.64364,     0.64464,     0.64565,     0.64665,     0.64765,\n",
       "           0.64865,     0.64965,     0.65065,     0.65165,     0.65265,     0.65365,     0.65465,     0.65566,     0.65666,     0.65766,     0.65866,     0.65966,     0.66066,     0.66166,     0.66266,     0.66366,     0.66466,     0.66567,     0.66667,     0.66767,     0.66867,     0.66967,     0.67067,     0.67167,\n",
       "           0.67267,     0.67367,     0.67467,     0.67568,     0.67668,     0.67768,     0.67868,     0.67968,     0.68068,     0.68168,     0.68268,     0.68368,     0.68468,     0.68569,     0.68669,     0.68769,     0.68869,     0.68969,     0.69069,     0.69169,     0.69269,     0.69369,     0.69469,      0.6957,\n",
       "            0.6967,      0.6977,      0.6987,      0.6997,      0.7007,      0.7017,      0.7027,      0.7037,      0.7047,     0.70571,     0.70671,     0.70771,     0.70871,     0.70971,     0.71071,     0.71171,     0.71271,     0.71371,     0.71471,     0.71572,     0.71672,     0.71772,     0.71872,     0.71972,\n",
       "           0.72072,     0.72172,     0.72272,     0.72372,     0.72472,     0.72573,     0.72673,     0.72773,     0.72873,     0.72973,     0.73073,     0.73173,     0.73273,     0.73373,     0.73473,     0.73574,     0.73674,     0.73774,     0.73874,     0.73974,     0.74074,     0.74174,     0.74274,     0.74374,\n",
       "           0.74474,     0.74575,     0.74675,     0.74775,     0.74875,     0.74975,     0.75075,     0.75175,     0.75275,     0.75375,     0.75475,     0.75576,     0.75676,     0.75776,     0.75876,     0.75976,     0.76076,     0.76176,     0.76276,     0.76376,     0.76476,     0.76577,     0.76677,     0.76777,\n",
       "           0.76877,     0.76977,     0.77077,     0.77177,     0.77277,     0.77377,     0.77477,     0.77578,     0.77678,     0.77778,     0.77878,     0.77978,     0.78078,     0.78178,     0.78278,     0.78378,     0.78478,     0.78579,     0.78679,     0.78779,     0.78879,     0.78979,     0.79079,     0.79179,\n",
       "           0.79279,     0.79379,     0.79479,      0.7958,      0.7968,      0.7978,      0.7988,      0.7998,      0.8008,      0.8018,      0.8028,      0.8038,      0.8048,     0.80581,     0.80681,     0.80781,     0.80881,     0.80981,     0.81081,     0.81181,     0.81281,     0.81381,     0.81481,     0.81582,\n",
       "           0.81682,     0.81782,     0.81882,     0.81982,     0.82082,     0.82182,     0.82282,     0.82382,     0.82482,     0.82583,     0.82683,     0.82783,     0.82883,     0.82983,     0.83083,     0.83183,     0.83283,     0.83383,     0.83483,     0.83584,     0.83684,     0.83784,     0.83884,     0.83984,\n",
       "           0.84084,     0.84184,     0.84284,     0.84384,     0.84484,     0.84585,     0.84685,     0.84785,     0.84885,     0.84985,     0.85085,     0.85185,     0.85285,     0.85385,     0.85485,     0.85586,     0.85686,     0.85786,     0.85886,     0.85986,     0.86086,     0.86186,     0.86286,     0.86386,\n",
       "           0.86486,     0.86587,     0.86687,     0.86787,     0.86887,     0.86987,     0.87087,     0.87187,     0.87287,     0.87387,     0.87487,     0.87588,     0.87688,     0.87788,     0.87888,     0.87988,     0.88088,     0.88188,     0.88288,     0.88388,     0.88488,     0.88589,     0.88689,     0.88789,\n",
       "           0.88889,     0.88989,     0.89089,     0.89189,     0.89289,     0.89389,     0.89489,      0.8959,      0.8969,      0.8979,      0.8989,      0.8999,      0.9009,      0.9019,      0.9029,      0.9039,      0.9049,     0.90591,     0.90691,     0.90791,     0.90891,     0.90991,     0.91091,     0.91191,\n",
       "           0.91291,     0.91391,     0.91491,     0.91592,     0.91692,     0.91792,     0.91892,     0.91992,     0.92092,     0.92192,     0.92292,     0.92392,     0.92492,     0.92593,     0.92693,     0.92793,     0.92893,     0.92993,     0.93093,     0.93193,     0.93293,     0.93393,     0.93493,     0.93594,\n",
       "           0.93694,     0.93794,     0.93894,     0.93994,     0.94094,     0.94194,     0.94294,     0.94394,     0.94494,     0.94595,     0.94695,     0.94795,     0.94895,     0.94995,     0.95095,     0.95195,     0.95295,     0.95395,     0.95495,     0.95596,     0.95696,     0.95796,     0.95896,     0.95996,\n",
       "           0.96096,     0.96196,     0.96296,     0.96396,     0.96496,     0.96597,     0.96697,     0.96797,     0.96897,     0.96997,     0.97097,     0.97197,     0.97297,     0.97397,     0.97497,     0.97598,     0.97698,     0.97798,     0.97898,     0.97998,     0.98098,     0.98198,     0.98298,     0.98398,\n",
       "           0.98498,     0.98599,     0.98699,     0.98799,     0.98899,     0.98999,     0.99099,     0.99199,     0.99299,     0.99399,     0.99499,       0.996,       0.997,       0.998,       0.999,           1]), array([[   0.046323,    0.046374,    0.093753,     0.13701,     0.17286,     0.19912,      0.2243,     0.25214,     0.27093,     0.29346,     0.32142,     0.33123,     0.35197,     0.37274,     0.39402,     0.40604,     0.42949,     0.45679,     0.47534,     0.49719,     0.50678,     0.51822,     0.52466,\n",
       "            0.53369,      0.5458,     0.55602,     0.56094,     0.57404,     0.57852,      0.5832,     0.58716,      0.5888,      0.5917,     0.60047,     0.60386,     0.61777,     0.62144,     0.62352,     0.63349,     0.64367,     0.64531,     0.64856,     0.65215,     0.65399,     0.65526,     0.65629,\n",
       "            0.65732,     0.65835,     0.65952,     0.66071,     0.66191,     0.66431,     0.66702,     0.66792,     0.66881,     0.66969,     0.67058,     0.67223,     0.67413,      0.6752,     0.67556,     0.67593,      0.6763,     0.67666,     0.67703,     0.67739,     0.67776,     0.67812,     0.67848,\n",
       "            0.67885,     0.67921,     0.68018,     0.68121,     0.68223,     0.68326,     0.68504,     0.68711,     0.68815,     0.68857,     0.68898,     0.68939,      0.6898,     0.69021,     0.69062,     0.69103,     0.69145,     0.69186,     0.69226,     0.69568,     0.70185,     0.70373,     0.70561,\n",
       "            0.71003,     0.71404,     0.71617,     0.71752,     0.71886,     0.72004,      0.7203,     0.72055,     0.72081,     0.72106,     0.72132,     0.72158,     0.72183,     0.72209,     0.72234,      0.7226,     0.72286,     0.72311,     0.72337,     0.72362,     0.72388,     0.72413,     0.72439,\n",
       "            0.72464,     0.72508,     0.72607,     0.72705,     0.72804,     0.72902,     0.73317,     0.73549,     0.73641,     0.73732,     0.73822,     0.73913,     0.74112,     0.74593,      0.7531,     0.75544,     0.75583,     0.75622,     0.75661,       0.757,     0.75739,     0.75778,     0.75817,\n",
       "            0.75856,     0.75895,     0.75934,     0.75973,     0.76012,      0.7605,     0.76121,     0.76198,     0.76275,     0.76351,     0.76427,     0.76504,      0.7658,     0.76748,     0.76941,     0.77132,     0.77229,      0.7732,      0.7741,     0.77501,     0.77591,     0.77682,     0.78369,\n",
       "            0.78512,     0.78654,     0.78796,     0.79083,     0.79415,     0.79632,     0.79848,     0.80288,     0.80611,     0.80631,     0.80651,     0.80671,     0.80691,     0.80711,     0.80731,     0.80751,     0.80771,     0.80791,     0.80811,     0.80831,     0.80851,     0.80871,     0.80891,\n",
       "            0.80911,     0.80931,     0.80951,     0.80971,     0.80991,     0.81011,     0.81031,     0.81051,     0.81071,     0.81091,     0.81111,     0.81131,      0.8115,      0.8117,      0.8119,     0.81231,     0.81309,     0.81387,     0.81465,     0.81543,     0.81621,     0.81698,     0.81776,\n",
       "            0.81978,     0.82327,     0.82476,     0.82526,     0.82576,     0.82626,     0.82675,     0.82725,     0.82775,     0.82824,     0.82874,     0.82923,     0.82973,     0.83022,     0.83072,     0.83246,     0.83435,     0.83624,      0.8403,     0.84449,     0.84609,      0.8477,     0.84929,\n",
       "            0.85102,     0.85307,      0.8551,     0.85713,     0.85928,     0.86143,     0.86357,     0.86451,     0.86514,     0.86578,     0.86641,     0.86704,     0.86768,     0.86831,     0.86894,     0.86957,     0.87019,     0.87082,      0.8717,     0.87264,     0.87358,     0.87452,     0.87546,\n",
       "             0.8764,     0.87733,     0.87981,     0.88547,     0.88626,     0.88705,     0.88784,     0.88863,     0.88942,     0.89021,     0.89099,     0.89178,     0.89256,     0.89271,     0.89286,     0.89301,     0.89316,     0.89331,     0.89346,     0.89361,     0.89376,     0.89391,     0.89406,\n",
       "            0.89421,     0.89436,     0.89451,     0.89466,     0.89481,     0.89496,     0.89511,     0.89526,     0.89541,     0.89556,     0.89571,     0.89586,     0.89601,     0.89616,     0.89631,     0.89646,     0.89661,     0.89676,      0.8969,     0.89705,      0.8972,     0.89735,      0.8975,\n",
       "            0.89765,      0.8978,     0.89795,      0.8981,     0.89824,     0.89839,     0.89854,     0.89869,     0.89884,     0.89899,     0.89913,     0.89928,     0.89943,     0.89958,     0.89973,     0.89988,     0.90041,     0.90294,     0.90545,     0.90765,     0.90819,     0.90873,     0.90927,\n",
       "             0.9098,     0.91034,     0.91088,     0.91141,     0.91195,     0.91249,     0.91302,     0.91355,     0.91409,     0.91462,     0.91515,     0.91538,     0.91554,     0.91569,     0.91585,       0.916,     0.91616,     0.91631,     0.91647,     0.91663,     0.91678,     0.91694,     0.91709,\n",
       "            0.91725,      0.9174,     0.91756,     0.91771,     0.91787,     0.91802,     0.91818,     0.91833,     0.91849,     0.91864,      0.9188,     0.91895,     0.91911,     0.91926,     0.91942,     0.91957,     0.91973,     0.91988,     0.92004,     0.92019,     0.92034,      0.9205,     0.92065,\n",
       "            0.92081,     0.92096,     0.92112,     0.92127,     0.92142,     0.92158,     0.92173,     0.92188,     0.92204,     0.92219,     0.92235,      0.9225,     0.92265,     0.92281,     0.92296,     0.92326,     0.92404,     0.92481,     0.92558,     0.92636,     0.92713,      0.9279,     0.92866,\n",
       "            0.92943,      0.9302,     0.93096,     0.93108,     0.93114,      0.9312,     0.93125,     0.93131,     0.93136,     0.93142,     0.93147,     0.93153,     0.93158,     0.93164,     0.93169,     0.93175,      0.9318,     0.93186,     0.93192,     0.93197,     0.93203,     0.93208,     0.93214,\n",
       "            0.93219,     0.93225,      0.9323,     0.93236,     0.93241,     0.93247,     0.93252,     0.93258,     0.93263,     0.93269,     0.93274,      0.9328,     0.93285,     0.93291,     0.93296,     0.93302,     0.93307,     0.93313,     0.93319,     0.93324,      0.9333,     0.93335,     0.93341,\n",
       "            0.93346,     0.93352,     0.93357,     0.93363,     0.93368,     0.93374,     0.93379,     0.93385,      0.9339,     0.93396,     0.93401,     0.93407,     0.93412,     0.93418,     0.93423,     0.93429,     0.93434,      0.9344,     0.93445,     0.93451,     0.93456,     0.93462,     0.93467,\n",
       "            0.93473,     0.93478,     0.93484,     0.93489,     0.93495,       0.935,     0.93506,     0.93511,     0.93517,     0.93522,     0.93528,     0.93533,     0.93539,     0.93544,      0.9355,     0.93555,     0.93561,     0.93566,     0.93572,     0.93577,     0.93582,     0.93588,     0.93593,\n",
       "            0.93599,     0.93604,      0.9361,     0.93615,     0.93621,     0.93626,     0.93632,     0.93637,     0.93643,     0.93648,     0.93654,     0.93659,     0.93665,      0.9367,     0.93676,     0.93681,     0.93687,     0.93692,     0.93697,     0.93703,     0.93708,     0.93714,     0.93719,\n",
       "            0.93725,      0.9373,     0.93736,     0.93741,     0.93747,     0.93752,     0.93758,     0.93763,     0.93769,     0.93774,     0.93779,     0.93785,      0.9379,     0.93796,     0.93801,     0.93807,     0.93812,     0.93818,     0.93823,     0.93829,     0.93834,     0.93839,     0.93845,\n",
       "             0.9385,     0.93856,     0.93861,     0.93867,     0.93872,     0.93878,     0.93883,     0.93888,     0.93894,     0.93899,     0.93905,      0.9391,     0.93915,     0.93919,     0.93923,     0.93927,     0.93931,     0.93935,     0.93939,     0.93943,     0.93947,      0.9395,     0.93954,\n",
       "            0.93958,     0.93962,     0.93966,      0.9397,     0.93974,     0.93978,     0.93982,     0.93986,      0.9399,     0.93994,     0.93998,     0.94002,     0.94006,      0.9401,     0.94014,     0.94018,     0.94021,     0.94025,     0.94029,     0.94033,     0.94037,     0.94041,     0.94045,\n",
       "            0.94049,     0.94053,     0.94057,     0.94061,     0.94065,     0.94069,     0.94073,     0.94077,     0.94081,     0.94084,     0.94088,     0.94092,     0.94096,       0.941,     0.94104,     0.94108,     0.94112,     0.94116,      0.9412,     0.94124,     0.94128,     0.94132,     0.94136,\n",
       "             0.9414,     0.94143,     0.94147,     0.94151,     0.94155,     0.94159,     0.94163,     0.94167,     0.94171,     0.94175,     0.94179,     0.94183,     0.94187,     0.94191,     0.94195,     0.94198,     0.94202,     0.94206,      0.9421,     0.94214,     0.94218,     0.94222,     0.94226,\n",
       "             0.9423,     0.94234,     0.94238,     0.94242,     0.94246,     0.94249,     0.94253,     0.94257,     0.94261,     0.94265,     0.94269,     0.94273,     0.94277,     0.94281,     0.94285,     0.94289,     0.94293,     0.94296,       0.943,     0.94304,     0.94308,     0.94312,     0.94316,\n",
       "             0.9432,     0.94324,     0.94328,     0.94332,     0.94336,      0.9434,     0.94343,     0.94347,     0.94351,     0.94355,     0.94359,     0.94363,     0.94367,     0.94371,     0.94375,     0.94379,     0.94383,     0.94386,      0.9439,     0.94394,     0.94398,     0.94402,     0.94406,\n",
       "             0.9441,     0.94414,     0.94418,     0.94422,     0.94426,     0.94429,     0.94433,     0.94437,     0.94441,     0.94445,     0.94449,     0.94453,     0.94457,     0.94461,     0.94465,     0.94468,     0.94472,     0.94476,      0.9448,     0.94484,     0.94488,     0.94492,     0.94496,\n",
       "              0.945,     0.94504,     0.94507,     0.94511,     0.94515,     0.94519,     0.94523,     0.94527,     0.94531,     0.94535,     0.94539,     0.94543,     0.94546,      0.9455,     0.94554,     0.94558,     0.94562,     0.94566,      0.9457,     0.94574,     0.94578,     0.94581,     0.94585,\n",
       "            0.94589,     0.94593,     0.94597,     0.94601,     0.94605,     0.94609,     0.94613,     0.94616,      0.9462,     0.94624,     0.94628,     0.94632,     0.94636,      0.9464,     0.94644,     0.94648,     0.94651,     0.94655,     0.94659,     0.94663,     0.94667,     0.94671,     0.94675,\n",
       "            0.94679,     0.94682,     0.94686,      0.9469,     0.94694,     0.94698,     0.94702,     0.94706,      0.9471,     0.94714,     0.94717,     0.94721,     0.94725,     0.94729,     0.94733,     0.94737,     0.94697,     0.94656,     0.94616,     0.94575,     0.94535,     0.94494,     0.94453,\n",
       "            0.94413,     0.94372,     0.94331,      0.9429,      0.9425,     0.94209,     0.94168,     0.94127,     0.94086,     0.94045,     0.94004,     0.93963,     0.93922,     0.93881,      0.9384,     0.93807,     0.93815,     0.93823,      0.9383,     0.93838,     0.93846,     0.93854,     0.93862,\n",
       "             0.9387,     0.93878,     0.93886,     0.93894,     0.93902,      0.9391,     0.93918,     0.93926,     0.93934,     0.93942,      0.9395,     0.93958,     0.93966,     0.93974,     0.93982,      0.9399,     0.93998,     0.94005,     0.94013,     0.94021,     0.94029,     0.94037,     0.94045,\n",
       "            0.94053,     0.94061,     0.94069,     0.94077,     0.94085,     0.94093,     0.94101,     0.94109,     0.94116,     0.94124,     0.94132,      0.9414,     0.94148,     0.94156,     0.94164,     0.94172,      0.9418,     0.94188,     0.94196,     0.94203,     0.94211,     0.94219,     0.94227,\n",
       "            0.94235,     0.94243,     0.94251,     0.94259,     0.94267,     0.94275,     0.94282,      0.9429,     0.94298,     0.94306,     0.94314,     0.94322,      0.9433,     0.94338,     0.94345,     0.94353,     0.94361,     0.94369,     0.94377,     0.94385,     0.94393,     0.94401,     0.94408,\n",
       "            0.94416,     0.94424,     0.94432,      0.9444,     0.94448,     0.94456,     0.94463,     0.94471,     0.94479,     0.94487,     0.94495,     0.94503,     0.94511,     0.94518,     0.94526,     0.94534,     0.94542,      0.9455,     0.94558,     0.94565,     0.94573,     0.94581,     0.94589,\n",
       "            0.94597,     0.94605,     0.94612,      0.9462,     0.94628,     0.94636,     0.94563,      0.9384,     0.93647,     0.93588,      0.9353,     0.93471,     0.93412,     0.93353,     0.93294,     0.93235,     0.93176,     0.93117,     0.93058,     0.92998,     0.92939,      0.9288,      0.9282,\n",
       "             0.9276,     0.92704,     0.92651,     0.92599,     0.92546,     0.92494,     0.92441,     0.92388,     0.92335,     0.92282,     0.92229,     0.92176,     0.92123,      0.9207,     0.92017,     0.91964,      0.9191,     0.91857,     0.91804,      0.9175,     0.91647,     0.91535,     0.91423,\n",
       "             0.9131,     0.91198,     0.91085,     0.90972,     0.90858,     0.90745,     0.90561,     0.90375,     0.90187,     0.89999,     0.89811,     0.89374,       0.887,     0.88498,      0.8831,     0.88121,     0.87932,     0.87742,     0.86354,     0.85396,     0.84911,     0.84422,     0.84079,\n",
       "            0.83776,     0.83471,     0.83152,     0.80736,     0.79782,     0.79121,     0.78529,     0.78128,     0.77809,     0.77489,     0.77167,     0.74866,     0.72976,     0.72376,      0.7177,     0.69307,     0.68059,     0.66637,     0.64733,     0.59257,     0.58373,     0.57377,     0.56211,\n",
       "            0.55684,     0.55224,     0.54761,     0.54237,      0.5267,       0.437,     0.41858,     0.40646,     0.35109,     0.32935,     0.30752,     0.29294,     0.18485,     0.16372,     0.11852,    0.084853,    0.064807,    0.057788,    0.050718,    0.043596,    0.036421,           0,           0,\n",
       "                  0,           0,           0,           0,           0,           0,           0,           0,           0,           0,           0]]), 'Confidence', 'F1'], [array([          0,    0.001001,    0.002002,    0.003003,    0.004004,    0.005005,    0.006006,    0.007007,    0.008008,    0.009009,     0.01001,    0.011011,    0.012012,    0.013013,    0.014014,    0.015015,    0.016016,    0.017017,    0.018018,    0.019019,     0.02002,    0.021021,    0.022022,    0.023023,\n",
       "          0.024024,    0.025025,    0.026026,    0.027027,    0.028028,    0.029029,     0.03003,    0.031031,    0.032032,    0.033033,    0.034034,    0.035035,    0.036036,    0.037037,    0.038038,    0.039039,     0.04004,    0.041041,    0.042042,    0.043043,    0.044044,    0.045045,    0.046046,    0.047047,\n",
       "          0.048048,    0.049049,     0.05005,    0.051051,    0.052052,    0.053053,    0.054054,    0.055055,    0.056056,    0.057057,    0.058058,    0.059059,     0.06006,    0.061061,    0.062062,    0.063063,    0.064064,    0.065065,    0.066066,    0.067067,    0.068068,    0.069069,     0.07007,    0.071071,\n",
       "          0.072072,    0.073073,    0.074074,    0.075075,    0.076076,    0.077077,    0.078078,    0.079079,     0.08008,    0.081081,    0.082082,    0.083083,    0.084084,    0.085085,    0.086086,    0.087087,    0.088088,    0.089089,     0.09009,    0.091091,    0.092092,    0.093093,    0.094094,    0.095095,\n",
       "          0.096096,    0.097097,    0.098098,    0.099099,      0.1001,      0.1011,      0.1021,      0.1031,      0.1041,     0.10511,     0.10611,     0.10711,     0.10811,     0.10911,     0.11011,     0.11111,     0.11211,     0.11311,     0.11411,     0.11512,     0.11612,     0.11712,     0.11812,     0.11912,\n",
       "           0.12012,     0.12112,     0.12212,     0.12312,     0.12412,     0.12513,     0.12613,     0.12713,     0.12813,     0.12913,     0.13013,     0.13113,     0.13213,     0.13313,     0.13413,     0.13514,     0.13614,     0.13714,     0.13814,     0.13914,     0.14014,     0.14114,     0.14214,     0.14314,\n",
       "           0.14414,     0.14515,     0.14615,     0.14715,     0.14815,     0.14915,     0.15015,     0.15115,     0.15215,     0.15315,     0.15415,     0.15516,     0.15616,     0.15716,     0.15816,     0.15916,     0.16016,     0.16116,     0.16216,     0.16316,     0.16416,     0.16517,     0.16617,     0.16717,\n",
       "           0.16817,     0.16917,     0.17017,     0.17117,     0.17217,     0.17317,     0.17417,     0.17518,     0.17618,     0.17718,     0.17818,     0.17918,     0.18018,     0.18118,     0.18218,     0.18318,     0.18418,     0.18519,     0.18619,     0.18719,     0.18819,     0.18919,     0.19019,     0.19119,\n",
       "           0.19219,     0.19319,     0.19419,      0.1952,      0.1962,      0.1972,      0.1982,      0.1992,      0.2002,      0.2012,      0.2022,      0.2032,      0.2042,     0.20521,     0.20621,     0.20721,     0.20821,     0.20921,     0.21021,     0.21121,     0.21221,     0.21321,     0.21421,     0.21522,\n",
       "           0.21622,     0.21722,     0.21822,     0.21922,     0.22022,     0.22122,     0.22222,     0.22322,     0.22422,     0.22523,     0.22623,     0.22723,     0.22823,     0.22923,     0.23023,     0.23123,     0.23223,     0.23323,     0.23423,     0.23524,     0.23624,     0.23724,     0.23824,     0.23924,\n",
       "           0.24024,     0.24124,     0.24224,     0.24324,     0.24424,     0.24525,     0.24625,     0.24725,     0.24825,     0.24925,     0.25025,     0.25125,     0.25225,     0.25325,     0.25425,     0.25526,     0.25626,     0.25726,     0.25826,     0.25926,     0.26026,     0.26126,     0.26226,     0.26326,\n",
       "           0.26426,     0.26527,     0.26627,     0.26727,     0.26827,     0.26927,     0.27027,     0.27127,     0.27227,     0.27327,     0.27427,     0.27528,     0.27628,     0.27728,     0.27828,     0.27928,     0.28028,     0.28128,     0.28228,     0.28328,     0.28428,     0.28529,     0.28629,     0.28729,\n",
       "           0.28829,     0.28929,     0.29029,     0.29129,     0.29229,     0.29329,     0.29429,      0.2953,      0.2963,      0.2973,      0.2983,      0.2993,      0.3003,      0.3013,      0.3023,      0.3033,      0.3043,     0.30531,     0.30631,     0.30731,     0.30831,     0.30931,     0.31031,     0.31131,\n",
       "           0.31231,     0.31331,     0.31431,     0.31532,     0.31632,     0.31732,     0.31832,     0.31932,     0.32032,     0.32132,     0.32232,     0.32332,     0.32432,     0.32533,     0.32633,     0.32733,     0.32833,     0.32933,     0.33033,     0.33133,     0.33233,     0.33333,     0.33433,     0.33534,\n",
       "           0.33634,     0.33734,     0.33834,     0.33934,     0.34034,     0.34134,     0.34234,     0.34334,     0.34434,     0.34535,     0.34635,     0.34735,     0.34835,     0.34935,     0.35035,     0.35135,     0.35235,     0.35335,     0.35435,     0.35536,     0.35636,     0.35736,     0.35836,     0.35936,\n",
       "           0.36036,     0.36136,     0.36236,     0.36336,     0.36436,     0.36537,     0.36637,     0.36737,     0.36837,     0.36937,     0.37037,     0.37137,     0.37237,     0.37337,     0.37437,     0.37538,     0.37638,     0.37738,     0.37838,     0.37938,     0.38038,     0.38138,     0.38238,     0.38338,\n",
       "           0.38438,     0.38539,     0.38639,     0.38739,     0.38839,     0.38939,     0.39039,     0.39139,     0.39239,     0.39339,     0.39439,      0.3954,      0.3964,      0.3974,      0.3984,      0.3994,      0.4004,      0.4014,      0.4024,      0.4034,      0.4044,     0.40541,     0.40641,     0.40741,\n",
       "           0.40841,     0.40941,     0.41041,     0.41141,     0.41241,     0.41341,     0.41441,     0.41542,     0.41642,     0.41742,     0.41842,     0.41942,     0.42042,     0.42142,     0.42242,     0.42342,     0.42442,     0.42543,     0.42643,     0.42743,     0.42843,     0.42943,     0.43043,     0.43143,\n",
       "           0.43243,     0.43343,     0.43443,     0.43544,     0.43644,     0.43744,     0.43844,     0.43944,     0.44044,     0.44144,     0.44244,     0.44344,     0.44444,     0.44545,     0.44645,     0.44745,     0.44845,     0.44945,     0.45045,     0.45145,     0.45245,     0.45345,     0.45445,     0.45546,\n",
       "           0.45646,     0.45746,     0.45846,     0.45946,     0.46046,     0.46146,     0.46246,     0.46346,     0.46446,     0.46547,     0.46647,     0.46747,     0.46847,     0.46947,     0.47047,     0.47147,     0.47247,     0.47347,     0.47447,     0.47548,     0.47648,     0.47748,     0.47848,     0.47948,\n",
       "           0.48048,     0.48148,     0.48248,     0.48348,     0.48448,     0.48549,     0.48649,     0.48749,     0.48849,     0.48949,     0.49049,     0.49149,     0.49249,     0.49349,     0.49449,      0.4955,      0.4965,      0.4975,      0.4985,      0.4995,      0.5005,      0.5015,      0.5025,      0.5035,\n",
       "            0.5045,     0.50551,     0.50651,     0.50751,     0.50851,     0.50951,     0.51051,     0.51151,     0.51251,     0.51351,     0.51451,     0.51552,     0.51652,     0.51752,     0.51852,     0.51952,     0.52052,     0.52152,     0.52252,     0.52352,     0.52452,     0.52553,     0.52653,     0.52753,\n",
       "           0.52853,     0.52953,     0.53053,     0.53153,     0.53253,     0.53353,     0.53453,     0.53554,     0.53654,     0.53754,     0.53854,     0.53954,     0.54054,     0.54154,     0.54254,     0.54354,     0.54454,     0.54555,     0.54655,     0.54755,     0.54855,     0.54955,     0.55055,     0.55155,\n",
       "           0.55255,     0.55355,     0.55455,     0.55556,     0.55656,     0.55756,     0.55856,     0.55956,     0.56056,     0.56156,     0.56256,     0.56356,     0.56456,     0.56557,     0.56657,     0.56757,     0.56857,     0.56957,     0.57057,     0.57157,     0.57257,     0.57357,     0.57457,     0.57558,\n",
       "           0.57658,     0.57758,     0.57858,     0.57958,     0.58058,     0.58158,     0.58258,     0.58358,     0.58458,     0.58559,     0.58659,     0.58759,     0.58859,     0.58959,     0.59059,     0.59159,     0.59259,     0.59359,     0.59459,      0.5956,      0.5966,      0.5976,      0.5986,      0.5996,\n",
       "            0.6006,      0.6016,      0.6026,      0.6036,      0.6046,     0.60561,     0.60661,     0.60761,     0.60861,     0.60961,     0.61061,     0.61161,     0.61261,     0.61361,     0.61461,     0.61562,     0.61662,     0.61762,     0.61862,     0.61962,     0.62062,     0.62162,     0.62262,     0.62362,\n",
       "           0.62462,     0.62563,     0.62663,     0.62763,     0.62863,     0.62963,     0.63063,     0.63163,     0.63263,     0.63363,     0.63463,     0.63564,     0.63664,     0.63764,     0.63864,     0.63964,     0.64064,     0.64164,     0.64264,     0.64364,     0.64464,     0.64565,     0.64665,     0.64765,\n",
       "           0.64865,     0.64965,     0.65065,     0.65165,     0.65265,     0.65365,     0.65465,     0.65566,     0.65666,     0.65766,     0.65866,     0.65966,     0.66066,     0.66166,     0.66266,     0.66366,     0.66466,     0.66567,     0.66667,     0.66767,     0.66867,     0.66967,     0.67067,     0.67167,\n",
       "           0.67267,     0.67367,     0.67467,     0.67568,     0.67668,     0.67768,     0.67868,     0.67968,     0.68068,     0.68168,     0.68268,     0.68368,     0.68468,     0.68569,     0.68669,     0.68769,     0.68869,     0.68969,     0.69069,     0.69169,     0.69269,     0.69369,     0.69469,      0.6957,\n",
       "            0.6967,      0.6977,      0.6987,      0.6997,      0.7007,      0.7017,      0.7027,      0.7037,      0.7047,     0.70571,     0.70671,     0.70771,     0.70871,     0.70971,     0.71071,     0.71171,     0.71271,     0.71371,     0.71471,     0.71572,     0.71672,     0.71772,     0.71872,     0.71972,\n",
       "           0.72072,     0.72172,     0.72272,     0.72372,     0.72472,     0.72573,     0.72673,     0.72773,     0.72873,     0.72973,     0.73073,     0.73173,     0.73273,     0.73373,     0.73473,     0.73574,     0.73674,     0.73774,     0.73874,     0.73974,     0.74074,     0.74174,     0.74274,     0.74374,\n",
       "           0.74474,     0.74575,     0.74675,     0.74775,     0.74875,     0.74975,     0.75075,     0.75175,     0.75275,     0.75375,     0.75475,     0.75576,     0.75676,     0.75776,     0.75876,     0.75976,     0.76076,     0.76176,     0.76276,     0.76376,     0.76476,     0.76577,     0.76677,     0.76777,\n",
       "           0.76877,     0.76977,     0.77077,     0.77177,     0.77277,     0.77377,     0.77477,     0.77578,     0.77678,     0.77778,     0.77878,     0.77978,     0.78078,     0.78178,     0.78278,     0.78378,     0.78478,     0.78579,     0.78679,     0.78779,     0.78879,     0.78979,     0.79079,     0.79179,\n",
       "           0.79279,     0.79379,     0.79479,      0.7958,      0.7968,      0.7978,      0.7988,      0.7998,      0.8008,      0.8018,      0.8028,      0.8038,      0.8048,     0.80581,     0.80681,     0.80781,     0.80881,     0.80981,     0.81081,     0.81181,     0.81281,     0.81381,     0.81481,     0.81582,\n",
       "           0.81682,     0.81782,     0.81882,     0.81982,     0.82082,     0.82182,     0.82282,     0.82382,     0.82482,     0.82583,     0.82683,     0.82783,     0.82883,     0.82983,     0.83083,     0.83183,     0.83283,     0.83383,     0.83483,     0.83584,     0.83684,     0.83784,     0.83884,     0.83984,\n",
       "           0.84084,     0.84184,     0.84284,     0.84384,     0.84484,     0.84585,     0.84685,     0.84785,     0.84885,     0.84985,     0.85085,     0.85185,     0.85285,     0.85385,     0.85485,     0.85586,     0.85686,     0.85786,     0.85886,     0.85986,     0.86086,     0.86186,     0.86286,     0.86386,\n",
       "           0.86486,     0.86587,     0.86687,     0.86787,     0.86887,     0.86987,     0.87087,     0.87187,     0.87287,     0.87387,     0.87487,     0.87588,     0.87688,     0.87788,     0.87888,     0.87988,     0.88088,     0.88188,     0.88288,     0.88388,     0.88488,     0.88589,     0.88689,     0.88789,\n",
       "           0.88889,     0.88989,     0.89089,     0.89189,     0.89289,     0.89389,     0.89489,      0.8959,      0.8969,      0.8979,      0.8989,      0.8999,      0.9009,      0.9019,      0.9029,      0.9039,      0.9049,     0.90591,     0.90691,     0.90791,     0.90891,     0.90991,     0.91091,     0.91191,\n",
       "           0.91291,     0.91391,     0.91491,     0.91592,     0.91692,     0.91792,     0.91892,     0.91992,     0.92092,     0.92192,     0.92292,     0.92392,     0.92492,     0.92593,     0.92693,     0.92793,     0.92893,     0.92993,     0.93093,     0.93193,     0.93293,     0.93393,     0.93493,     0.93594,\n",
       "           0.93694,     0.93794,     0.93894,     0.93994,     0.94094,     0.94194,     0.94294,     0.94394,     0.94494,     0.94595,     0.94695,     0.94795,     0.94895,     0.94995,     0.95095,     0.95195,     0.95295,     0.95395,     0.95495,     0.95596,     0.95696,     0.95796,     0.95896,     0.95996,\n",
       "           0.96096,     0.96196,     0.96296,     0.96396,     0.96496,     0.96597,     0.96697,     0.96797,     0.96897,     0.96997,     0.97097,     0.97197,     0.97297,     0.97397,     0.97497,     0.97598,     0.97698,     0.97798,     0.97898,     0.97998,     0.98098,     0.98198,     0.98298,     0.98398,\n",
       "           0.98498,     0.98599,     0.98699,     0.98799,     0.98899,     0.98999,     0.99099,     0.99199,     0.99299,     0.99399,     0.99499,       0.996,       0.997,       0.998,       0.999,           1]), array([[    0.02373,    0.023757,    0.049267,    0.073833,    0.095087,     0.11147,     0.12749,     0.14578,       0.159,     0.17474,     0.19494,     0.20221,     0.21788,     0.23402,     0.25105,     0.26089,     0.28058,     0.30434,     0.32104,     0.34129,      0.3504,     0.36143,     0.36773,\n",
       "            0.37666,     0.38884,      0.3993,     0.40439,     0.41815,     0.42292,     0.42794,     0.43222,       0.434,     0.43716,      0.4468,     0.45056,     0.46623,     0.47042,     0.47281,     0.48437,     0.49638,     0.49833,     0.50222,     0.50654,     0.50876,      0.5103,     0.51156,\n",
       "            0.51281,     0.51406,     0.51549,     0.51695,     0.51841,     0.52136,     0.52471,     0.52582,     0.52692,     0.52803,     0.52913,     0.53118,     0.53356,      0.5349,     0.53536,     0.53582,     0.53628,     0.53674,      0.5372,     0.53766,     0.53812,     0.53858,     0.53904,\n",
       "             0.5395,     0.53996,     0.54118,     0.54249,     0.54379,     0.54509,     0.54736,     0.55001,     0.55135,     0.55188,     0.55241,     0.55294,     0.55347,       0.554,     0.55453,     0.55506,     0.55559,     0.55612,     0.55665,     0.56108,     0.56915,     0.57163,     0.57411,\n",
       "            0.57999,     0.58535,     0.58822,     0.59004,     0.59186,     0.59346,     0.59381,     0.59416,     0.59451,     0.59485,      0.5952,     0.59555,      0.5959,     0.59625,      0.5966,     0.59695,      0.5973,     0.59765,     0.59799,     0.59834,     0.59869,     0.59904,     0.59939,\n",
       "            0.59974,     0.60034,     0.60169,     0.60305,     0.60441,     0.60576,     0.61151,     0.61475,     0.61603,      0.6173,     0.61858,     0.61985,     0.62265,     0.62948,     0.63976,     0.64314,     0.64371,     0.64428,     0.64484,     0.64541,     0.64598,     0.64655,     0.64711,\n",
       "            0.64768,     0.64825,     0.64881,     0.64938,     0.64995,     0.65052,     0.65155,     0.65268,      0.6538,     0.65493,     0.65605,     0.65718,      0.6583,      0.6608,     0.66365,     0.66651,     0.66795,     0.66931,     0.67067,     0.67203,     0.67339,     0.67475,      0.6852,\n",
       "            0.68738,     0.68957,     0.69176,     0.69618,     0.70135,     0.70474,     0.70814,     0.71509,     0.72022,     0.72054,     0.72086,     0.72118,      0.7215,     0.72182,     0.72214,     0.72246,     0.72279,     0.72311,     0.72343,     0.72375,     0.72407,     0.72439,     0.72471,\n",
       "            0.72503,     0.72535,     0.72567,     0.72599,     0.72632,     0.72664,     0.72696,     0.72728,      0.7276,     0.72792,     0.72824,     0.72856,     0.72888,      0.7292,     0.72952,     0.73018,     0.73145,     0.73271,     0.73398,     0.73524,     0.73651,     0.73777,     0.73904,\n",
       "            0.74234,     0.74808,     0.75055,     0.75138,      0.7522,     0.75303,     0.75386,     0.75469,     0.75551,     0.75634,     0.75717,     0.75799,     0.75882,     0.75965,     0.76047,     0.76341,     0.76659,     0.76978,     0.77669,     0.78388,     0.78665,     0.78942,      0.7922,\n",
       "            0.79522,     0.79879,     0.80237,     0.80594,     0.80976,     0.81358,      0.8174,     0.81909,     0.82023,     0.82137,     0.82252,     0.82366,      0.8248,     0.82594,     0.82708,     0.82822,     0.82936,     0.83051,     0.83209,     0.83382,     0.83554,     0.83726,     0.83898,\n",
       "            0.84071,     0.84243,     0.84701,     0.85756,     0.85905,     0.86054,     0.86202,     0.86351,       0.865,     0.86649,     0.86798,     0.86947,     0.87096,     0.87125,     0.87154,     0.87183,     0.87211,      0.8724,     0.87269,     0.87297,     0.87326,     0.87355,     0.87383,\n",
       "            0.87412,     0.87441,     0.87469,     0.87498,     0.87526,     0.87555,     0.87584,     0.87612,     0.87641,      0.8767,     0.87698,     0.87727,     0.87756,     0.87784,     0.87813,     0.87842,      0.8787,     0.87899,     0.87928,     0.87956,     0.87985,     0.88014,     0.88042,\n",
       "            0.88071,     0.88099,     0.88128,     0.88157,     0.88185,     0.88214,     0.88243,     0.88271,       0.883,     0.88329,     0.88357,     0.88386,     0.88415,     0.88443,     0.88472,     0.88501,     0.88605,     0.89095,     0.89586,     0.90016,     0.90123,     0.90229,     0.90335,\n",
       "            0.90442,     0.90548,     0.90654,     0.90761,     0.90867,     0.90973,      0.9108,     0.91186,     0.91292,     0.91398,     0.91505,     0.91551,     0.91582,     0.91613,     0.91644,     0.91675,     0.91707,     0.91738,     0.91769,       0.918,     0.91831,     0.91863,     0.91894,\n",
       "            0.91925,     0.91956,     0.91987,     0.92019,      0.9205,     0.92081,     0.92112,     0.92143,     0.92175,     0.92206,     0.92237,     0.92268,     0.92299,     0.92331,     0.92362,     0.92393,     0.92424,     0.92456,     0.92487,     0.92518,     0.92549,      0.9258,     0.92612,\n",
       "            0.92643,     0.92674,     0.92705,     0.92736,     0.92768,     0.92799,      0.9283,     0.92861,     0.92892,     0.92924,     0.92955,     0.92986,     0.93017,     0.93048,      0.9308,     0.93141,     0.93299,     0.93457,     0.93615,     0.93773,     0.93931,     0.94089,     0.94247,\n",
       "            0.94406,     0.94564,     0.94722,     0.94747,     0.94759,      0.9477,     0.94782,     0.94793,     0.94805,     0.94816,     0.94828,     0.94839,     0.94851,     0.94862,     0.94873,     0.94885,     0.94896,     0.94908,     0.94919,     0.94931,     0.94942,     0.94954,     0.94965,\n",
       "            0.94977,     0.94988,        0.95,     0.95011,     0.95023,     0.95034,     0.95046,     0.95057,     0.95069,      0.9508,     0.95091,     0.95103,     0.95114,     0.95126,     0.95137,     0.95149,      0.9516,     0.95172,     0.95183,     0.95195,     0.95206,     0.95218,     0.95229,\n",
       "            0.95241,     0.95252,     0.95264,     0.95275,     0.95287,     0.95298,      0.9531,     0.95321,     0.95332,     0.95344,     0.95355,     0.95367,     0.95378,      0.9539,     0.95401,     0.95413,     0.95424,     0.95436,     0.95447,     0.95459,      0.9547,     0.95482,     0.95493,\n",
       "            0.95505,     0.95516,     0.95528,     0.95539,     0.95551,     0.95562,     0.95573,     0.95585,     0.95596,     0.95608,     0.95619,     0.95631,     0.95642,     0.95654,     0.95665,     0.95677,     0.95688,       0.957,     0.95711,     0.95723,     0.95734,     0.95746,     0.95757,\n",
       "            0.95769,      0.9578,     0.95792,     0.95803,     0.95814,     0.95826,     0.95837,     0.95849,      0.9586,     0.95872,     0.95883,     0.95895,     0.95906,     0.95918,     0.95929,     0.95941,     0.95952,     0.95964,     0.95975,     0.95987,     0.95998,      0.9601,     0.96021,\n",
       "            0.96032,     0.96044,     0.96055,     0.96067,     0.96078,      0.9609,     0.96101,     0.96113,     0.96124,     0.96136,     0.96147,     0.96159,      0.9617,     0.96182,     0.96193,     0.96205,     0.96216,     0.96228,     0.96239,     0.96251,     0.96262,     0.96273,     0.96285,\n",
       "            0.96296,     0.96308,     0.96319,     0.96331,     0.96342,     0.96354,     0.96365,     0.96377,     0.96388,       0.964,     0.96411,     0.96423,     0.96433,     0.96441,     0.96449,     0.96458,     0.96466,     0.96474,     0.96483,     0.96491,     0.96499,     0.96508,     0.96516,\n",
       "            0.96524,     0.96533,     0.96541,     0.96549,     0.96558,     0.96566,     0.96574,     0.96583,     0.96591,     0.96599,     0.96608,     0.96616,     0.96624,     0.96633,     0.96641,     0.96649,     0.96658,     0.96666,     0.96674,     0.96682,     0.96691,     0.96699,     0.96707,\n",
       "            0.96716,     0.96724,     0.96732,     0.96741,     0.96749,     0.96757,     0.96766,     0.96774,     0.96782,     0.96791,     0.96799,     0.96807,     0.96816,     0.96824,     0.96832,     0.96841,     0.96849,     0.96857,     0.96866,     0.96874,     0.96882,     0.96891,     0.96899,\n",
       "            0.96907,     0.96916,     0.96924,     0.96932,     0.96941,     0.96949,     0.96957,     0.96966,     0.96974,     0.96982,     0.96991,     0.96999,     0.97007,     0.97016,     0.97024,     0.97032,     0.97041,     0.97049,     0.97057,     0.97066,     0.97074,     0.97082,     0.97091,\n",
       "            0.97099,     0.97107,     0.97116,     0.97124,     0.97132,     0.97141,     0.97149,     0.97157,     0.97166,     0.97174,     0.97182,     0.97191,     0.97199,     0.97207,     0.97216,     0.97224,     0.97232,     0.97241,     0.97249,     0.97257,     0.97266,     0.97274,     0.97282,\n",
       "            0.97291,     0.97299,     0.97307,     0.97316,     0.97324,     0.97332,      0.9734,     0.97349,     0.97357,     0.97365,     0.97374,     0.97382,      0.9739,     0.97399,     0.97407,     0.97415,     0.97424,     0.97432,      0.9744,     0.97449,     0.97457,     0.97465,     0.97474,\n",
       "            0.97482,      0.9749,     0.97499,     0.97507,     0.97515,     0.97524,     0.97532,      0.9754,     0.97549,     0.97557,     0.97565,     0.97574,     0.97582,      0.9759,     0.97599,     0.97607,     0.97615,     0.97624,     0.97632,      0.9764,     0.97649,     0.97657,     0.97665,\n",
       "            0.97674,     0.97682,      0.9769,     0.97699,     0.97707,     0.97715,     0.97724,     0.97732,      0.9774,     0.97749,     0.97757,     0.97765,     0.97774,     0.97782,      0.9779,     0.97799,     0.97807,     0.97815,     0.97824,     0.97832,      0.9784,     0.97849,     0.97857,\n",
       "            0.97865,     0.97874,     0.97882,      0.9789,     0.97899,     0.97907,     0.97915,     0.97924,     0.97932,      0.9794,     0.97949,     0.97957,     0.97965,     0.97974,     0.97982,      0.9799,     0.97999,     0.98007,     0.98015,     0.98023,     0.98032,      0.9804,     0.98048,\n",
       "            0.98057,     0.98065,     0.98073,     0.98082,      0.9809,     0.98098,     0.98107,     0.98115,     0.98123,     0.98132,      0.9814,     0.98148,     0.98157,     0.98165,     0.98173,     0.98182,      0.9818,     0.98179,     0.98177,     0.98176,     0.98174,     0.98173,     0.98172,\n",
       "             0.9817,     0.98169,     0.98167,     0.98166,     0.98164,     0.98163,     0.98161,      0.9816,     0.98158,     0.98157,     0.98155,     0.98154,     0.98152,     0.98151,     0.98149,     0.98151,     0.98168,     0.98186,     0.98203,     0.98221,     0.98238,     0.98256,     0.98273,\n",
       "            0.98291,     0.98308,     0.98326,     0.98343,      0.9836,     0.98378,     0.98395,     0.98413,      0.9843,     0.98448,     0.98465,     0.98483,       0.985,     0.98518,     0.98535,     0.98553,      0.9857,     0.98587,     0.98605,     0.98622,      0.9864,     0.98657,     0.98675,\n",
       "            0.98692,      0.9871,     0.98727,     0.98745,     0.98762,      0.9878,     0.98797,     0.98814,     0.98832,     0.98849,     0.98867,     0.98884,     0.98902,     0.98919,     0.98937,     0.98954,     0.98972,     0.98989,     0.99007,     0.99024,     0.99041,     0.99059,     0.99076,\n",
       "            0.99094,     0.99111,     0.99129,     0.99146,     0.99164,     0.99181,     0.99199,     0.99216,     0.99234,     0.99251,     0.99269,     0.99286,     0.99303,     0.99321,     0.99338,     0.99356,     0.99373,     0.99391,     0.99408,     0.99426,     0.99443,     0.99461,     0.99478,\n",
       "            0.99496,     0.99513,      0.9953,     0.99548,     0.99565,     0.99583,       0.996,     0.99618,     0.99635,     0.99653,      0.9967,     0.99688,     0.99705,     0.99723,      0.9974,     0.99757,     0.99775,     0.99792,      0.9981,     0.99827,     0.99845,     0.99862,      0.9988,\n",
       "            0.99897,     0.99915,     0.99932,      0.9995,     0.99967,     0.99984,           1,           1,           1,           1,           1,           1,           1,           1,           1,           1,           1,           1,           1,           1,           1,           1,           1,\n",
       "                  1,           1,           1,           1,           1,           1,           1,           1,           1,           1,           1,           1,           1,           1,           1,           1,           1,           1,           1,           1,           1,           1,           1,\n",
       "                  1,           1,           1,           1,           1,           1,           1,           1,           1,           1,           1,           1,           1,           1,           1,           1,           1,           1,           1,           1,           1,           1,           1,\n",
       "                  1,           1,           1,           1,           1,           1,           1,           1,           1,           1,           1,           1,           1,           1,           1,           1,           1,           1,           1,           1,           1,           1,           1,\n",
       "                  1,           1,           1,           1,           1,           1,           1,           1,           1,           1,           1,           1,           1,           1,           1,           1,           1,           1,           1,           1,           1,           1,           1,\n",
       "                  1,           1,           1,           1,           1,           1,           1,           1,           1,           1,           1]]), 'Confidence', 'Precision'], [array([          0,    0.001001,    0.002002,    0.003003,    0.004004,    0.005005,    0.006006,    0.007007,    0.008008,    0.009009,     0.01001,    0.011011,    0.012012,    0.013013,    0.014014,    0.015015,    0.016016,    0.017017,    0.018018,    0.019019,     0.02002,    0.021021,    0.022022,    0.023023,\n",
       "          0.024024,    0.025025,    0.026026,    0.027027,    0.028028,    0.029029,     0.03003,    0.031031,    0.032032,    0.033033,    0.034034,    0.035035,    0.036036,    0.037037,    0.038038,    0.039039,     0.04004,    0.041041,    0.042042,    0.043043,    0.044044,    0.045045,    0.046046,    0.047047,\n",
       "          0.048048,    0.049049,     0.05005,    0.051051,    0.052052,    0.053053,    0.054054,    0.055055,    0.056056,    0.057057,    0.058058,    0.059059,     0.06006,    0.061061,    0.062062,    0.063063,    0.064064,    0.065065,    0.066066,    0.067067,    0.068068,    0.069069,     0.07007,    0.071071,\n",
       "          0.072072,    0.073073,    0.074074,    0.075075,    0.076076,    0.077077,    0.078078,    0.079079,     0.08008,    0.081081,    0.082082,    0.083083,    0.084084,    0.085085,    0.086086,    0.087087,    0.088088,    0.089089,     0.09009,    0.091091,    0.092092,    0.093093,    0.094094,    0.095095,\n",
       "          0.096096,    0.097097,    0.098098,    0.099099,      0.1001,      0.1011,      0.1021,      0.1031,      0.1041,     0.10511,     0.10611,     0.10711,     0.10811,     0.10911,     0.11011,     0.11111,     0.11211,     0.11311,     0.11411,     0.11512,     0.11612,     0.11712,     0.11812,     0.11912,\n",
       "           0.12012,     0.12112,     0.12212,     0.12312,     0.12412,     0.12513,     0.12613,     0.12713,     0.12813,     0.12913,     0.13013,     0.13113,     0.13213,     0.13313,     0.13413,     0.13514,     0.13614,     0.13714,     0.13814,     0.13914,     0.14014,     0.14114,     0.14214,     0.14314,\n",
       "           0.14414,     0.14515,     0.14615,     0.14715,     0.14815,     0.14915,     0.15015,     0.15115,     0.15215,     0.15315,     0.15415,     0.15516,     0.15616,     0.15716,     0.15816,     0.15916,     0.16016,     0.16116,     0.16216,     0.16316,     0.16416,     0.16517,     0.16617,     0.16717,\n",
       "           0.16817,     0.16917,     0.17017,     0.17117,     0.17217,     0.17317,     0.17417,     0.17518,     0.17618,     0.17718,     0.17818,     0.17918,     0.18018,     0.18118,     0.18218,     0.18318,     0.18418,     0.18519,     0.18619,     0.18719,     0.18819,     0.18919,     0.19019,     0.19119,\n",
       "           0.19219,     0.19319,     0.19419,      0.1952,      0.1962,      0.1972,      0.1982,      0.1992,      0.2002,      0.2012,      0.2022,      0.2032,      0.2042,     0.20521,     0.20621,     0.20721,     0.20821,     0.20921,     0.21021,     0.21121,     0.21221,     0.21321,     0.21421,     0.21522,\n",
       "           0.21622,     0.21722,     0.21822,     0.21922,     0.22022,     0.22122,     0.22222,     0.22322,     0.22422,     0.22523,     0.22623,     0.22723,     0.22823,     0.22923,     0.23023,     0.23123,     0.23223,     0.23323,     0.23423,     0.23524,     0.23624,     0.23724,     0.23824,     0.23924,\n",
       "           0.24024,     0.24124,     0.24224,     0.24324,     0.24424,     0.24525,     0.24625,     0.24725,     0.24825,     0.24925,     0.25025,     0.25125,     0.25225,     0.25325,     0.25425,     0.25526,     0.25626,     0.25726,     0.25826,     0.25926,     0.26026,     0.26126,     0.26226,     0.26326,\n",
       "           0.26426,     0.26527,     0.26627,     0.26727,     0.26827,     0.26927,     0.27027,     0.27127,     0.27227,     0.27327,     0.27427,     0.27528,     0.27628,     0.27728,     0.27828,     0.27928,     0.28028,     0.28128,     0.28228,     0.28328,     0.28428,     0.28529,     0.28629,     0.28729,\n",
       "           0.28829,     0.28929,     0.29029,     0.29129,     0.29229,     0.29329,     0.29429,      0.2953,      0.2963,      0.2973,      0.2983,      0.2993,      0.3003,      0.3013,      0.3023,      0.3033,      0.3043,     0.30531,     0.30631,     0.30731,     0.30831,     0.30931,     0.31031,     0.31131,\n",
       "           0.31231,     0.31331,     0.31431,     0.31532,     0.31632,     0.31732,     0.31832,     0.31932,     0.32032,     0.32132,     0.32232,     0.32332,     0.32432,     0.32533,     0.32633,     0.32733,     0.32833,     0.32933,     0.33033,     0.33133,     0.33233,     0.33333,     0.33433,     0.33534,\n",
       "           0.33634,     0.33734,     0.33834,     0.33934,     0.34034,     0.34134,     0.34234,     0.34334,     0.34434,     0.34535,     0.34635,     0.34735,     0.34835,     0.34935,     0.35035,     0.35135,     0.35235,     0.35335,     0.35435,     0.35536,     0.35636,     0.35736,     0.35836,     0.35936,\n",
       "           0.36036,     0.36136,     0.36236,     0.36336,     0.36436,     0.36537,     0.36637,     0.36737,     0.36837,     0.36937,     0.37037,     0.37137,     0.37237,     0.37337,     0.37437,     0.37538,     0.37638,     0.37738,     0.37838,     0.37938,     0.38038,     0.38138,     0.38238,     0.38338,\n",
       "           0.38438,     0.38539,     0.38639,     0.38739,     0.38839,     0.38939,     0.39039,     0.39139,     0.39239,     0.39339,     0.39439,      0.3954,      0.3964,      0.3974,      0.3984,      0.3994,      0.4004,      0.4014,      0.4024,      0.4034,      0.4044,     0.40541,     0.40641,     0.40741,\n",
       "           0.40841,     0.40941,     0.41041,     0.41141,     0.41241,     0.41341,     0.41441,     0.41542,     0.41642,     0.41742,     0.41842,     0.41942,     0.42042,     0.42142,     0.42242,     0.42342,     0.42442,     0.42543,     0.42643,     0.42743,     0.42843,     0.42943,     0.43043,     0.43143,\n",
       "           0.43243,     0.43343,     0.43443,     0.43544,     0.43644,     0.43744,     0.43844,     0.43944,     0.44044,     0.44144,     0.44244,     0.44344,     0.44444,     0.44545,     0.44645,     0.44745,     0.44845,     0.44945,     0.45045,     0.45145,     0.45245,     0.45345,     0.45445,     0.45546,\n",
       "           0.45646,     0.45746,     0.45846,     0.45946,     0.46046,     0.46146,     0.46246,     0.46346,     0.46446,     0.46547,     0.46647,     0.46747,     0.46847,     0.46947,     0.47047,     0.47147,     0.47247,     0.47347,     0.47447,     0.47548,     0.47648,     0.47748,     0.47848,     0.47948,\n",
       "           0.48048,     0.48148,     0.48248,     0.48348,     0.48448,     0.48549,     0.48649,     0.48749,     0.48849,     0.48949,     0.49049,     0.49149,     0.49249,     0.49349,     0.49449,      0.4955,      0.4965,      0.4975,      0.4985,      0.4995,      0.5005,      0.5015,      0.5025,      0.5035,\n",
       "            0.5045,     0.50551,     0.50651,     0.50751,     0.50851,     0.50951,     0.51051,     0.51151,     0.51251,     0.51351,     0.51451,     0.51552,     0.51652,     0.51752,     0.51852,     0.51952,     0.52052,     0.52152,     0.52252,     0.52352,     0.52452,     0.52553,     0.52653,     0.52753,\n",
       "           0.52853,     0.52953,     0.53053,     0.53153,     0.53253,     0.53353,     0.53453,     0.53554,     0.53654,     0.53754,     0.53854,     0.53954,     0.54054,     0.54154,     0.54254,     0.54354,     0.54454,     0.54555,     0.54655,     0.54755,     0.54855,     0.54955,     0.55055,     0.55155,\n",
       "           0.55255,     0.55355,     0.55455,     0.55556,     0.55656,     0.55756,     0.55856,     0.55956,     0.56056,     0.56156,     0.56256,     0.56356,     0.56456,     0.56557,     0.56657,     0.56757,     0.56857,     0.56957,     0.57057,     0.57157,     0.57257,     0.57357,     0.57457,     0.57558,\n",
       "           0.57658,     0.57758,     0.57858,     0.57958,     0.58058,     0.58158,     0.58258,     0.58358,     0.58458,     0.58559,     0.58659,     0.58759,     0.58859,     0.58959,     0.59059,     0.59159,     0.59259,     0.59359,     0.59459,      0.5956,      0.5966,      0.5976,      0.5986,      0.5996,\n",
       "            0.6006,      0.6016,      0.6026,      0.6036,      0.6046,     0.60561,     0.60661,     0.60761,     0.60861,     0.60961,     0.61061,     0.61161,     0.61261,     0.61361,     0.61461,     0.61562,     0.61662,     0.61762,     0.61862,     0.61962,     0.62062,     0.62162,     0.62262,     0.62362,\n",
       "           0.62462,     0.62563,     0.62663,     0.62763,     0.62863,     0.62963,     0.63063,     0.63163,     0.63263,     0.63363,     0.63463,     0.63564,     0.63664,     0.63764,     0.63864,     0.63964,     0.64064,     0.64164,     0.64264,     0.64364,     0.64464,     0.64565,     0.64665,     0.64765,\n",
       "           0.64865,     0.64965,     0.65065,     0.65165,     0.65265,     0.65365,     0.65465,     0.65566,     0.65666,     0.65766,     0.65866,     0.65966,     0.66066,     0.66166,     0.66266,     0.66366,     0.66466,     0.66567,     0.66667,     0.66767,     0.66867,     0.66967,     0.67067,     0.67167,\n",
       "           0.67267,     0.67367,     0.67467,     0.67568,     0.67668,     0.67768,     0.67868,     0.67968,     0.68068,     0.68168,     0.68268,     0.68368,     0.68468,     0.68569,     0.68669,     0.68769,     0.68869,     0.68969,     0.69069,     0.69169,     0.69269,     0.69369,     0.69469,      0.6957,\n",
       "            0.6967,      0.6977,      0.6987,      0.6997,      0.7007,      0.7017,      0.7027,      0.7037,      0.7047,     0.70571,     0.70671,     0.70771,     0.70871,     0.70971,     0.71071,     0.71171,     0.71271,     0.71371,     0.71471,     0.71572,     0.71672,     0.71772,     0.71872,     0.71972,\n",
       "           0.72072,     0.72172,     0.72272,     0.72372,     0.72472,     0.72573,     0.72673,     0.72773,     0.72873,     0.72973,     0.73073,     0.73173,     0.73273,     0.73373,     0.73473,     0.73574,     0.73674,     0.73774,     0.73874,     0.73974,     0.74074,     0.74174,     0.74274,     0.74374,\n",
       "           0.74474,     0.74575,     0.74675,     0.74775,     0.74875,     0.74975,     0.75075,     0.75175,     0.75275,     0.75375,     0.75475,     0.75576,     0.75676,     0.75776,     0.75876,     0.75976,     0.76076,     0.76176,     0.76276,     0.76376,     0.76476,     0.76577,     0.76677,     0.76777,\n",
       "           0.76877,     0.76977,     0.77077,     0.77177,     0.77277,     0.77377,     0.77477,     0.77578,     0.77678,     0.77778,     0.77878,     0.77978,     0.78078,     0.78178,     0.78278,     0.78378,     0.78478,     0.78579,     0.78679,     0.78779,     0.78879,     0.78979,     0.79079,     0.79179,\n",
       "           0.79279,     0.79379,     0.79479,      0.7958,      0.7968,      0.7978,      0.7988,      0.7998,      0.8008,      0.8018,      0.8028,      0.8038,      0.8048,     0.80581,     0.80681,     0.80781,     0.80881,     0.80981,     0.81081,     0.81181,     0.81281,     0.81381,     0.81481,     0.81582,\n",
       "           0.81682,     0.81782,     0.81882,     0.81982,     0.82082,     0.82182,     0.82282,     0.82382,     0.82482,     0.82583,     0.82683,     0.82783,     0.82883,     0.82983,     0.83083,     0.83183,     0.83283,     0.83383,     0.83483,     0.83584,     0.83684,     0.83784,     0.83884,     0.83984,\n",
       "           0.84084,     0.84184,     0.84284,     0.84384,     0.84484,     0.84585,     0.84685,     0.84785,     0.84885,     0.84985,     0.85085,     0.85185,     0.85285,     0.85385,     0.85485,     0.85586,     0.85686,     0.85786,     0.85886,     0.85986,     0.86086,     0.86186,     0.86286,     0.86386,\n",
       "           0.86486,     0.86587,     0.86687,     0.86787,     0.86887,     0.86987,     0.87087,     0.87187,     0.87287,     0.87387,     0.87487,     0.87588,     0.87688,     0.87788,     0.87888,     0.87988,     0.88088,     0.88188,     0.88288,     0.88388,     0.88488,     0.88589,     0.88689,     0.88789,\n",
       "           0.88889,     0.88989,     0.89089,     0.89189,     0.89289,     0.89389,     0.89489,      0.8959,      0.8969,      0.8979,      0.8989,      0.8999,      0.9009,      0.9019,      0.9029,      0.9039,      0.9049,     0.90591,     0.90691,     0.90791,     0.90891,     0.90991,     0.91091,     0.91191,\n",
       "           0.91291,     0.91391,     0.91491,     0.91592,     0.91692,     0.91792,     0.91892,     0.91992,     0.92092,     0.92192,     0.92292,     0.92392,     0.92492,     0.92593,     0.92693,     0.92793,     0.92893,     0.92993,     0.93093,     0.93193,     0.93293,     0.93393,     0.93493,     0.93594,\n",
       "           0.93694,     0.93794,     0.93894,     0.93994,     0.94094,     0.94194,     0.94294,     0.94394,     0.94494,     0.94595,     0.94695,     0.94795,     0.94895,     0.94995,     0.95095,     0.95195,     0.95295,     0.95395,     0.95495,     0.95596,     0.95696,     0.95796,     0.95896,     0.95996,\n",
       "           0.96096,     0.96196,     0.96296,     0.96396,     0.96496,     0.96597,     0.96697,     0.96797,     0.96897,     0.96997,     0.97097,     0.97197,     0.97297,     0.97397,     0.97497,     0.97598,     0.97698,     0.97798,     0.97898,     0.97998,     0.98098,     0.98198,     0.98298,     0.98398,\n",
       "           0.98498,     0.98599,     0.98699,     0.98799,     0.98899,     0.98999,     0.99099,     0.99199,     0.99299,     0.99399,     0.99499,       0.996,       0.997,       0.998,       0.999,           1]), array([[     0.9661,      0.9661,      0.9661,     0.94915,     0.94915,      0.9322,      0.9322,      0.9322,     0.91525,     0.91525,     0.91525,     0.91525,     0.91525,     0.91525,     0.91525,     0.91525,     0.91525,     0.91525,     0.91525,     0.91525,     0.91525,     0.91525,     0.91525,\n",
       "            0.91525,     0.91525,     0.91525,     0.91525,     0.91525,     0.91525,     0.91525,     0.91525,     0.91525,     0.91525,     0.91525,     0.91525,     0.91525,     0.91525,     0.91525,     0.91525,     0.91525,     0.91525,     0.91525,     0.91525,     0.91525,     0.91525,     0.91525,\n",
       "            0.91525,     0.91525,     0.91525,     0.91525,     0.91525,     0.91525,     0.91525,     0.91525,     0.91525,     0.91525,     0.91525,     0.91525,     0.91525,     0.91525,     0.91525,     0.91525,     0.91525,     0.91525,     0.91525,     0.91525,     0.91525,     0.91525,     0.91525,\n",
       "            0.91525,     0.91525,     0.91525,     0.91525,     0.91525,     0.91525,     0.91525,     0.91525,     0.91525,     0.91525,     0.91525,     0.91525,     0.91525,     0.91525,     0.91525,     0.91525,     0.91525,     0.91525,     0.91525,     0.91525,     0.91525,     0.91525,     0.91525,\n",
       "            0.91525,     0.91525,     0.91525,     0.91525,     0.91525,     0.91525,     0.91525,     0.91525,     0.91525,     0.91525,     0.91525,     0.91525,     0.91525,     0.91525,     0.91525,     0.91525,     0.91525,     0.91525,     0.91525,     0.91525,     0.91525,     0.91525,     0.91525,\n",
       "            0.91525,     0.91525,     0.91525,     0.91525,     0.91525,     0.91525,     0.91525,     0.91525,     0.91525,     0.91525,     0.91525,     0.91525,     0.91525,     0.91525,     0.91525,     0.91525,     0.91525,     0.91525,     0.91525,     0.91525,     0.91525,     0.91525,     0.91525,\n",
       "            0.91525,     0.91525,     0.91525,     0.91525,     0.91525,     0.91525,     0.91525,     0.91525,     0.91525,     0.91525,     0.91525,     0.91525,     0.91525,     0.91525,     0.91525,     0.91525,     0.91525,     0.91525,     0.91525,     0.91525,     0.91525,     0.91525,     0.91525,\n",
       "            0.91525,     0.91525,     0.91525,     0.91525,     0.91525,     0.91525,     0.91525,     0.91525,     0.91525,     0.91525,     0.91525,     0.91525,     0.91525,     0.91525,     0.91525,     0.91525,     0.91525,     0.91525,     0.91525,     0.91525,     0.91525,     0.91525,     0.91525,\n",
       "            0.91525,     0.91525,     0.91525,     0.91525,     0.91525,     0.91525,     0.91525,     0.91525,     0.91525,     0.91525,     0.91525,     0.91525,     0.91525,     0.91525,     0.91525,     0.91525,     0.91525,     0.91525,     0.91525,     0.91525,     0.91525,     0.91525,     0.91525,\n",
       "            0.91525,     0.91525,     0.91525,     0.91525,     0.91525,     0.91525,     0.91525,     0.91525,     0.91525,     0.91525,     0.91525,     0.91525,     0.91525,     0.91525,     0.91525,     0.91525,     0.91525,     0.91525,     0.91525,     0.91525,     0.91525,     0.91525,     0.91525,\n",
       "            0.91525,     0.91525,     0.91525,     0.91525,     0.91525,     0.91525,     0.91525,     0.91525,     0.91525,     0.91525,     0.91525,     0.91525,     0.91525,     0.91525,     0.91525,     0.91525,     0.91525,     0.91525,     0.91525,     0.91525,     0.91525,     0.91525,     0.91525,\n",
       "            0.91525,     0.91525,     0.91525,     0.91525,     0.91525,     0.91525,     0.91525,     0.91525,     0.91525,     0.91525,     0.91525,     0.91525,     0.91525,     0.91525,     0.91525,     0.91525,     0.91525,     0.91525,     0.91525,     0.91525,     0.91525,     0.91525,     0.91525,\n",
       "            0.91525,     0.91525,     0.91525,     0.91525,     0.91525,     0.91525,     0.91525,     0.91525,     0.91525,     0.91525,     0.91525,     0.91525,     0.91525,     0.91525,     0.91525,     0.91525,     0.91525,     0.91525,     0.91525,     0.91525,     0.91525,     0.91525,     0.91525,\n",
       "            0.91525,     0.91525,     0.91525,     0.91525,     0.91525,     0.91525,     0.91525,     0.91525,     0.91525,     0.91525,     0.91525,     0.91525,     0.91525,     0.91525,     0.91525,     0.91525,     0.91525,     0.91525,     0.91525,     0.91525,     0.91525,     0.91525,     0.91525,\n",
       "            0.91525,     0.91525,     0.91525,     0.91525,     0.91525,     0.91525,     0.91525,     0.91525,     0.91525,     0.91525,     0.91525,     0.91525,     0.91525,     0.91525,     0.91525,     0.91525,     0.91525,     0.91525,     0.91525,     0.91525,     0.91525,     0.91525,     0.91525,\n",
       "            0.91525,     0.91525,     0.91525,     0.91525,     0.91525,     0.91525,     0.91525,     0.91525,     0.91525,     0.91525,     0.91525,     0.91525,     0.91525,     0.91525,     0.91525,     0.91525,     0.91525,     0.91525,     0.91525,     0.91525,     0.91525,     0.91525,     0.91525,\n",
       "            0.91525,     0.91525,     0.91525,     0.91525,     0.91525,     0.91525,     0.91525,     0.91525,     0.91525,     0.91525,     0.91525,     0.91525,     0.91525,     0.91525,     0.91525,     0.91525,     0.91525,     0.91525,     0.91525,     0.91525,     0.91525,     0.91525,     0.91525,\n",
       "            0.91525,     0.91525,     0.91525,     0.91525,     0.91525,     0.91525,     0.91525,     0.91525,     0.91525,     0.91525,     0.91525,     0.91525,     0.91525,     0.91525,     0.91525,     0.91525,     0.91525,     0.91525,     0.91525,     0.91525,     0.91525,     0.91525,     0.91525,\n",
       "            0.91525,     0.91525,     0.91525,     0.91525,     0.91525,     0.91525,     0.91525,     0.91525,     0.91525,     0.91525,     0.91525,     0.91525,     0.91525,     0.91525,     0.91525,     0.91525,     0.91525,     0.91525,     0.91525,     0.91525,     0.91525,     0.91525,     0.91525,\n",
       "            0.91525,     0.91525,     0.91525,     0.91525,     0.91525,     0.91525,     0.91525,     0.91525,     0.91525,     0.91525,     0.91525,     0.91525,     0.91525,     0.91525,     0.91525,     0.91525,     0.91525,     0.91525,     0.91525,     0.91525,     0.91525,     0.91525,     0.91525,\n",
       "            0.91525,     0.91525,     0.91525,     0.91525,     0.91525,     0.91525,     0.91525,     0.91525,     0.91525,     0.91525,     0.91525,     0.91525,     0.91525,     0.91525,     0.91525,     0.91525,     0.91525,     0.91525,     0.91525,     0.91525,     0.91525,     0.91525,     0.91525,\n",
       "            0.91525,     0.91525,     0.91525,     0.91525,     0.91525,     0.91525,     0.91525,     0.91525,     0.91525,     0.91525,     0.91525,     0.91525,     0.91525,     0.91525,     0.91525,     0.91525,     0.91525,     0.91525,     0.91525,     0.91525,     0.91525,     0.91525,     0.91525,\n",
       "            0.91525,     0.91525,     0.91525,     0.91525,     0.91525,     0.91525,     0.91525,     0.91525,     0.91525,     0.91525,     0.91525,     0.91525,     0.91525,     0.91525,     0.91525,     0.91525,     0.91525,     0.91525,     0.91525,     0.91525,     0.91525,     0.91525,     0.91525,\n",
       "            0.91525,     0.91525,     0.91525,     0.91525,     0.91525,     0.91525,     0.91525,     0.91525,     0.91525,     0.91525,     0.91525,     0.91525,     0.91525,     0.91525,     0.91525,     0.91525,     0.91525,     0.91525,     0.91525,     0.91525,     0.91525,     0.91525,     0.91525,\n",
       "            0.91525,     0.91525,     0.91525,     0.91525,     0.91525,     0.91525,     0.91525,     0.91525,     0.91525,     0.91525,     0.91525,     0.91525,     0.91525,     0.91525,     0.91525,     0.91525,     0.91525,     0.91525,     0.91525,     0.91525,     0.91525,     0.91525,     0.91525,\n",
       "            0.91525,     0.91525,     0.91525,     0.91525,     0.91525,     0.91525,     0.91525,     0.91525,     0.91525,     0.91525,     0.91525,     0.91525,     0.91525,     0.91525,     0.91525,     0.91525,     0.91525,     0.91525,     0.91525,     0.91525,     0.91525,     0.91525,     0.91525,\n",
       "            0.91525,     0.91525,     0.91525,     0.91525,     0.91525,     0.91525,     0.91525,     0.91525,     0.91525,     0.91525,     0.91525,     0.91525,     0.91525,     0.91525,     0.91525,     0.91525,     0.91525,     0.91525,     0.91525,     0.91525,     0.91525,     0.91525,     0.91525,\n",
       "            0.91525,     0.91525,     0.91525,     0.91525,     0.91525,     0.91525,     0.91525,     0.91525,     0.91525,     0.91525,     0.91525,     0.91525,     0.91525,     0.91525,     0.91525,     0.91525,     0.91525,     0.91525,     0.91525,     0.91525,     0.91525,     0.91525,     0.91525,\n",
       "            0.91525,     0.91525,     0.91525,     0.91525,     0.91525,     0.91525,     0.91525,     0.91525,     0.91525,     0.91525,     0.91525,     0.91525,     0.91525,     0.91525,     0.91525,     0.91525,     0.91525,     0.91525,     0.91525,     0.91525,     0.91525,     0.91525,     0.91525,\n",
       "            0.91525,     0.91525,     0.91525,     0.91525,     0.91525,     0.91525,     0.91525,     0.91525,     0.91525,     0.91525,     0.91525,     0.91525,     0.91525,     0.91525,     0.91525,     0.91525,     0.91525,     0.91525,     0.91525,     0.91525,     0.91525,     0.91525,     0.91525,\n",
       "            0.91525,     0.91525,     0.91525,     0.91525,     0.91525,     0.91525,     0.91525,     0.91525,     0.91525,     0.91525,     0.91525,     0.91525,     0.91525,     0.91525,     0.91525,     0.91525,     0.91525,     0.91525,     0.91525,     0.91525,     0.91525,     0.91525,     0.91525,\n",
       "            0.91525,     0.91525,     0.91525,     0.91525,     0.91525,     0.91525,     0.91525,     0.91525,     0.91525,     0.91525,     0.91525,     0.91525,     0.91525,     0.91525,     0.91525,     0.91525,     0.91525,     0.91525,     0.91525,     0.91525,     0.91525,     0.91525,     0.91525,\n",
       "            0.91525,     0.91525,     0.91525,     0.91525,     0.91525,     0.91525,     0.91525,     0.91525,     0.91525,     0.91525,     0.91525,     0.91525,     0.91525,     0.91525,     0.91525,     0.91525,     0.91452,     0.91378,     0.91303,     0.91229,     0.91155,     0.91081,     0.91006,\n",
       "            0.90932,     0.90858,     0.90784,      0.9071,     0.90635,     0.90561,     0.90487,     0.90413,     0.90338,     0.90264,      0.9019,     0.90116,     0.90041,     0.89967,     0.89893,     0.89831,     0.89831,     0.89831,     0.89831,     0.89831,     0.89831,     0.89831,     0.89831,\n",
       "            0.89831,     0.89831,     0.89831,     0.89831,     0.89831,     0.89831,     0.89831,     0.89831,     0.89831,     0.89831,     0.89831,     0.89831,     0.89831,     0.89831,     0.89831,     0.89831,     0.89831,     0.89831,     0.89831,     0.89831,     0.89831,     0.89831,     0.89831,\n",
       "            0.89831,     0.89831,     0.89831,     0.89831,     0.89831,     0.89831,     0.89831,     0.89831,     0.89831,     0.89831,     0.89831,     0.89831,     0.89831,     0.89831,     0.89831,     0.89831,     0.89831,     0.89831,     0.89831,     0.89831,     0.89831,     0.89831,     0.89831,\n",
       "            0.89831,     0.89831,     0.89831,     0.89831,     0.89831,     0.89831,     0.89831,     0.89831,     0.89831,     0.89831,     0.89831,     0.89831,     0.89831,     0.89831,     0.89831,     0.89831,     0.89831,     0.89831,     0.89831,     0.89831,     0.89831,     0.89831,     0.89831,\n",
       "            0.89831,     0.89831,     0.89831,     0.89831,     0.89831,     0.89831,     0.89831,     0.89831,     0.89831,     0.89831,     0.89831,     0.89831,     0.89831,     0.89831,     0.89831,     0.89831,     0.89831,     0.89831,     0.89831,     0.89831,     0.89831,     0.89831,     0.89831,\n",
       "            0.89831,     0.89831,     0.89831,     0.89831,     0.89831,     0.89831,     0.89687,     0.88395,     0.88053,     0.87949,     0.87845,     0.87742,     0.87638,     0.87535,     0.87431,     0.87327,     0.87224,      0.8712,     0.87017,     0.86913,     0.86809,     0.86706,     0.86602,\n",
       "            0.86498,       0.864,     0.86309,     0.86218,     0.86127,     0.86035,     0.85944,     0.85853,     0.85762,      0.8567,     0.85579,     0.85488,     0.85397,     0.85306,     0.85214,     0.85123,     0.85032,     0.84941,     0.84849,     0.84758,     0.84581,     0.84391,       0.842,\n",
       "             0.8401,     0.83819,     0.83629,     0.83439,     0.83248,     0.83058,     0.82751,      0.8244,     0.82128,     0.81817,     0.81506,     0.80789,     0.79695,     0.79369,     0.79067,     0.78765,     0.78463,     0.78161,     0.75986,     0.74514,     0.73779,     0.73044,     0.72531,\n",
       "            0.72081,     0.71632,     0.71163,     0.67695,     0.66364,     0.65454,     0.64648,     0.64107,     0.63679,      0.6325,     0.62822,     0.59829,     0.57451,     0.56711,      0.5597,      0.5303,     0.51583,     0.49967,     0.47855,     0.42103,     0.41216,      0.4023,     0.39092,\n",
       "            0.38585,     0.38145,     0.37705,     0.37209,     0.35749,     0.27959,     0.26469,     0.25507,     0.21292,     0.19714,      0.1817,     0.17161,     0.10184,    0.089156,    0.062991,    0.044306,    0.033489,    0.029754,    0.026019,    0.022284,    0.018549,           0,           0,\n",
       "                  0,           0,           0,           0,           0,           0,           0,           0,           0,           0,           0]]), 'Confidence', 'Recall']]\n",
       "fitness: 1.5985494911382951\n",
       "keys: ['metrics/precision(B)', 'metrics/recall(B)', 'metrics/mAP50(B)', 'metrics/mAP50-95(B)', 'metrics/precision(M)', 'metrics/recall(M)', 'metrics/mAP50(M)', 'metrics/mAP50-95(M)']\n",
       "maps: array([     1.5717])\n",
       "names: {0: '-2- Colposcopic Segmentation - v3 2024-12-11 4-21pm'}\n",
       "plot: True\n",
       "results_dict: {'metrics/precision(B)': 0.9783192234511753, 'metrics/recall(B)': 0.9152542372881356, 'metrics/mAP50(B)': 0.9202961529529331, 'metrics/mAP50-95(B)': 0.8218042933931106, 'metrics/precision(M)': 0.9783192234511753, 'metrics/recall(M)': 0.9152542372881356, 'metrics/mAP50(M)': 0.9202961529529331, 'metrics/mAP50-95(M)': 0.7498515516598987, 'fitness': 1.5985494911382951}\n",
       "save_dir: WindowsPath('runs/segment/train6')\n",
       "seg: ultralytics.utils.metrics.Metric object\n",
       "speed: {'preprocess': 0.8396440082126193, 'inference': 52.69689913149233, 'loss': 0.0, 'postprocess': 3.8003215083369506}\n",
       "task: 'segment'"
      ]
     },
     "execution_count": 8,
     "metadata": {},
     "output_type": "execute_result"
    }
   ],
   "source": [
    "model = YOLO(\"yolov8n-seg.pt\")\n",
    "model.train(\n",
    "    data = YAML_PATH,\n",
    "    epochs = 100,\n",
    "    imgsz=IMAGE_SIZE, batch = BATCH_SIZE, workers = 4\n",
    ")"
   ]
  },
  {
   "cell_type": "markdown",
   "metadata": {},
   "source": [
    "# Validate"
   ]
  },
  {
   "cell_type": "code",
   "execution_count": 9,
   "metadata": {},
   "outputs": [
    {
     "name": "stdout",
     "output_type": "stream",
     "text": [
      "Ultralytics YOLOv8.2.103  Python-3.10.0 torch-2.5.1+cpu CPU (Intel Core(TM) i5-8250U 1.60GHz)\n",
      "YOLOv8n-seg summary (fused): 195 layers, 3,258,259 parameters, 0 gradients, 12.0 GFLOPs\n"
     ]
    },
    {
     "name": "stderr",
     "output_type": "stream",
     "text": [
      "\u001b[34m\u001b[1mval: \u001b[0mScanning C:\\Users\\taral\\OneDrive\\Documents\\Major project\\Code\\Segmentation\\270_seg_yolov8\\valid\\labels.cache... 54 images, 0 backgrounds, 0 corrupt: 100%|██████████| 54/54 [00:00<?, ?it/s]\n",
      "                 Class     Images  Instances      Box(P          R      mAP50  mAP50-95)     Mask(P          R      mAP50  mAP50-95): 100%|██████████| 4/4 [00:12<00:00,  3.02s/it]\n"
     ]
    },
    {
     "name": "stdout",
     "output_type": "stream",
     "text": [
      "                   all         54         59      0.978      0.915       0.92      0.819      0.978      0.915       0.92      0.752\n",
      "Speed: 1.5ms preprocess, 100.8ms inference, 0.0ms loss, 2.1ms postprocess per image\n",
      "Results saved to \u001b[1mruns\\segment\\train62\u001b[0m\n",
      "ultralytics.utils.metrics.SegmentMetrics object with attributes:\n",
      "\n",
      "ap_class_index: array([0])\n",
      "box: ultralytics.utils.metrics.Metric object\n",
      "confusion_matrix: <ultralytics.utils.metrics.ConfusionMatrix object at 0x0000026148F69120>\n",
      "curves: ['Precision-Recall(B)', 'F1-Confidence(B)', 'Precision-Confidence(B)', 'Recall-Confidence(B)', 'Precision-Recall(M)', 'F1-Confidence(M)', 'Precision-Confidence(M)', 'Recall-Confidence(M)']\n",
      "curves_results: [[array([          0,    0.001001,    0.002002,    0.003003,    0.004004,    0.005005,    0.006006,    0.007007,    0.008008,    0.009009,     0.01001,    0.011011,    0.012012,    0.013013,    0.014014,    0.015015,    0.016016,    0.017017,    0.018018,    0.019019,     0.02002,    0.021021,    0.022022,    0.023023,\n",
      "          0.024024,    0.025025,    0.026026,    0.027027,    0.028028,    0.029029,     0.03003,    0.031031,    0.032032,    0.033033,    0.034034,    0.035035,    0.036036,    0.037037,    0.038038,    0.039039,     0.04004,    0.041041,    0.042042,    0.043043,    0.044044,    0.045045,    0.046046,    0.047047,\n",
      "          0.048048,    0.049049,     0.05005,    0.051051,    0.052052,    0.053053,    0.054054,    0.055055,    0.056056,    0.057057,    0.058058,    0.059059,     0.06006,    0.061061,    0.062062,    0.063063,    0.064064,    0.065065,    0.066066,    0.067067,    0.068068,    0.069069,     0.07007,    0.071071,\n",
      "          0.072072,    0.073073,    0.074074,    0.075075,    0.076076,    0.077077,    0.078078,    0.079079,     0.08008,    0.081081,    0.082082,    0.083083,    0.084084,    0.085085,    0.086086,    0.087087,    0.088088,    0.089089,     0.09009,    0.091091,    0.092092,    0.093093,    0.094094,    0.095095,\n",
      "          0.096096,    0.097097,    0.098098,    0.099099,      0.1001,      0.1011,      0.1021,      0.1031,      0.1041,     0.10511,     0.10611,     0.10711,     0.10811,     0.10911,     0.11011,     0.11111,     0.11211,     0.11311,     0.11411,     0.11512,     0.11612,     0.11712,     0.11812,     0.11912,\n",
      "           0.12012,     0.12112,     0.12212,     0.12312,     0.12412,     0.12513,     0.12613,     0.12713,     0.12813,     0.12913,     0.13013,     0.13113,     0.13213,     0.13313,     0.13413,     0.13514,     0.13614,     0.13714,     0.13814,     0.13914,     0.14014,     0.14114,     0.14214,     0.14314,\n",
      "           0.14414,     0.14515,     0.14615,     0.14715,     0.14815,     0.14915,     0.15015,     0.15115,     0.15215,     0.15315,     0.15415,     0.15516,     0.15616,     0.15716,     0.15816,     0.15916,     0.16016,     0.16116,     0.16216,     0.16316,     0.16416,     0.16517,     0.16617,     0.16717,\n",
      "           0.16817,     0.16917,     0.17017,     0.17117,     0.17217,     0.17317,     0.17417,     0.17518,     0.17618,     0.17718,     0.17818,     0.17918,     0.18018,     0.18118,     0.18218,     0.18318,     0.18418,     0.18519,     0.18619,     0.18719,     0.18819,     0.18919,     0.19019,     0.19119,\n",
      "           0.19219,     0.19319,     0.19419,      0.1952,      0.1962,      0.1972,      0.1982,      0.1992,      0.2002,      0.2012,      0.2022,      0.2032,      0.2042,     0.20521,     0.20621,     0.20721,     0.20821,     0.20921,     0.21021,     0.21121,     0.21221,     0.21321,     0.21421,     0.21522,\n",
      "           0.21622,     0.21722,     0.21822,     0.21922,     0.22022,     0.22122,     0.22222,     0.22322,     0.22422,     0.22523,     0.22623,     0.22723,     0.22823,     0.22923,     0.23023,     0.23123,     0.23223,     0.23323,     0.23423,     0.23524,     0.23624,     0.23724,     0.23824,     0.23924,\n",
      "           0.24024,     0.24124,     0.24224,     0.24324,     0.24424,     0.24525,     0.24625,     0.24725,     0.24825,     0.24925,     0.25025,     0.25125,     0.25225,     0.25325,     0.25425,     0.25526,     0.25626,     0.25726,     0.25826,     0.25926,     0.26026,     0.26126,     0.26226,     0.26326,\n",
      "           0.26426,     0.26527,     0.26627,     0.26727,     0.26827,     0.26927,     0.27027,     0.27127,     0.27227,     0.27327,     0.27427,     0.27528,     0.27628,     0.27728,     0.27828,     0.27928,     0.28028,     0.28128,     0.28228,     0.28328,     0.28428,     0.28529,     0.28629,     0.28729,\n",
      "           0.28829,     0.28929,     0.29029,     0.29129,     0.29229,     0.29329,     0.29429,      0.2953,      0.2963,      0.2973,      0.2983,      0.2993,      0.3003,      0.3013,      0.3023,      0.3033,      0.3043,     0.30531,     0.30631,     0.30731,     0.30831,     0.30931,     0.31031,     0.31131,\n",
      "           0.31231,     0.31331,     0.31431,     0.31532,     0.31632,     0.31732,     0.31832,     0.31932,     0.32032,     0.32132,     0.32232,     0.32332,     0.32432,     0.32533,     0.32633,     0.32733,     0.32833,     0.32933,     0.33033,     0.33133,     0.33233,     0.33333,     0.33433,     0.33534,\n",
      "           0.33634,     0.33734,     0.33834,     0.33934,     0.34034,     0.34134,     0.34234,     0.34334,     0.34434,     0.34535,     0.34635,     0.34735,     0.34835,     0.34935,     0.35035,     0.35135,     0.35235,     0.35335,     0.35435,     0.35536,     0.35636,     0.35736,     0.35836,     0.35936,\n",
      "           0.36036,     0.36136,     0.36236,     0.36336,     0.36436,     0.36537,     0.36637,     0.36737,     0.36837,     0.36937,     0.37037,     0.37137,     0.37237,     0.37337,     0.37437,     0.37538,     0.37638,     0.37738,     0.37838,     0.37938,     0.38038,     0.38138,     0.38238,     0.38338,\n",
      "           0.38438,     0.38539,     0.38639,     0.38739,     0.38839,     0.38939,     0.39039,     0.39139,     0.39239,     0.39339,     0.39439,      0.3954,      0.3964,      0.3974,      0.3984,      0.3994,      0.4004,      0.4014,      0.4024,      0.4034,      0.4044,     0.40541,     0.40641,     0.40741,\n",
      "           0.40841,     0.40941,     0.41041,     0.41141,     0.41241,     0.41341,     0.41441,     0.41542,     0.41642,     0.41742,     0.41842,     0.41942,     0.42042,     0.42142,     0.42242,     0.42342,     0.42442,     0.42543,     0.42643,     0.42743,     0.42843,     0.42943,     0.43043,     0.43143,\n",
      "           0.43243,     0.43343,     0.43443,     0.43544,     0.43644,     0.43744,     0.43844,     0.43944,     0.44044,     0.44144,     0.44244,     0.44344,     0.44444,     0.44545,     0.44645,     0.44745,     0.44845,     0.44945,     0.45045,     0.45145,     0.45245,     0.45345,     0.45445,     0.45546,\n",
      "           0.45646,     0.45746,     0.45846,     0.45946,     0.46046,     0.46146,     0.46246,     0.46346,     0.46446,     0.46547,     0.46647,     0.46747,     0.46847,     0.46947,     0.47047,     0.47147,     0.47247,     0.47347,     0.47447,     0.47548,     0.47648,     0.47748,     0.47848,     0.47948,\n",
      "           0.48048,     0.48148,     0.48248,     0.48348,     0.48448,     0.48549,     0.48649,     0.48749,     0.48849,     0.48949,     0.49049,     0.49149,     0.49249,     0.49349,     0.49449,      0.4955,      0.4965,      0.4975,      0.4985,      0.4995,      0.5005,      0.5015,      0.5025,      0.5035,\n",
      "            0.5045,     0.50551,     0.50651,     0.50751,     0.50851,     0.50951,     0.51051,     0.51151,     0.51251,     0.51351,     0.51451,     0.51552,     0.51652,     0.51752,     0.51852,     0.51952,     0.52052,     0.52152,     0.52252,     0.52352,     0.52452,     0.52553,     0.52653,     0.52753,\n",
      "           0.52853,     0.52953,     0.53053,     0.53153,     0.53253,     0.53353,     0.53453,     0.53554,     0.53654,     0.53754,     0.53854,     0.53954,     0.54054,     0.54154,     0.54254,     0.54354,     0.54454,     0.54555,     0.54655,     0.54755,     0.54855,     0.54955,     0.55055,     0.55155,\n",
      "           0.55255,     0.55355,     0.55455,     0.55556,     0.55656,     0.55756,     0.55856,     0.55956,     0.56056,     0.56156,     0.56256,     0.56356,     0.56456,     0.56557,     0.56657,     0.56757,     0.56857,     0.56957,     0.57057,     0.57157,     0.57257,     0.57357,     0.57457,     0.57558,\n",
      "           0.57658,     0.57758,     0.57858,     0.57958,     0.58058,     0.58158,     0.58258,     0.58358,     0.58458,     0.58559,     0.58659,     0.58759,     0.58859,     0.58959,     0.59059,     0.59159,     0.59259,     0.59359,     0.59459,      0.5956,      0.5966,      0.5976,      0.5986,      0.5996,\n",
      "            0.6006,      0.6016,      0.6026,      0.6036,      0.6046,     0.60561,     0.60661,     0.60761,     0.60861,     0.60961,     0.61061,     0.61161,     0.61261,     0.61361,     0.61461,     0.61562,     0.61662,     0.61762,     0.61862,     0.61962,     0.62062,     0.62162,     0.62262,     0.62362,\n",
      "           0.62462,     0.62563,     0.62663,     0.62763,     0.62863,     0.62963,     0.63063,     0.63163,     0.63263,     0.63363,     0.63463,     0.63564,     0.63664,     0.63764,     0.63864,     0.63964,     0.64064,     0.64164,     0.64264,     0.64364,     0.64464,     0.64565,     0.64665,     0.64765,\n",
      "           0.64865,     0.64965,     0.65065,     0.65165,     0.65265,     0.65365,     0.65465,     0.65566,     0.65666,     0.65766,     0.65866,     0.65966,     0.66066,     0.66166,     0.66266,     0.66366,     0.66466,     0.66567,     0.66667,     0.66767,     0.66867,     0.66967,     0.67067,     0.67167,\n",
      "           0.67267,     0.67367,     0.67467,     0.67568,     0.67668,     0.67768,     0.67868,     0.67968,     0.68068,     0.68168,     0.68268,     0.68368,     0.68468,     0.68569,     0.68669,     0.68769,     0.68869,     0.68969,     0.69069,     0.69169,     0.69269,     0.69369,     0.69469,      0.6957,\n",
      "            0.6967,      0.6977,      0.6987,      0.6997,      0.7007,      0.7017,      0.7027,      0.7037,      0.7047,     0.70571,     0.70671,     0.70771,     0.70871,     0.70971,     0.71071,     0.71171,     0.71271,     0.71371,     0.71471,     0.71572,     0.71672,     0.71772,     0.71872,     0.71972,\n",
      "           0.72072,     0.72172,     0.72272,     0.72372,     0.72472,     0.72573,     0.72673,     0.72773,     0.72873,     0.72973,     0.73073,     0.73173,     0.73273,     0.73373,     0.73473,     0.73574,     0.73674,     0.73774,     0.73874,     0.73974,     0.74074,     0.74174,     0.74274,     0.74374,\n",
      "           0.74474,     0.74575,     0.74675,     0.74775,     0.74875,     0.74975,     0.75075,     0.75175,     0.75275,     0.75375,     0.75475,     0.75576,     0.75676,     0.75776,     0.75876,     0.75976,     0.76076,     0.76176,     0.76276,     0.76376,     0.76476,     0.76577,     0.76677,     0.76777,\n",
      "           0.76877,     0.76977,     0.77077,     0.77177,     0.77277,     0.77377,     0.77477,     0.77578,     0.77678,     0.77778,     0.77878,     0.77978,     0.78078,     0.78178,     0.78278,     0.78378,     0.78478,     0.78579,     0.78679,     0.78779,     0.78879,     0.78979,     0.79079,     0.79179,\n",
      "           0.79279,     0.79379,     0.79479,      0.7958,      0.7968,      0.7978,      0.7988,      0.7998,      0.8008,      0.8018,      0.8028,      0.8038,      0.8048,     0.80581,     0.80681,     0.80781,     0.80881,     0.80981,     0.81081,     0.81181,     0.81281,     0.81381,     0.81481,     0.81582,\n",
      "           0.81682,     0.81782,     0.81882,     0.81982,     0.82082,     0.82182,     0.82282,     0.82382,     0.82482,     0.82583,     0.82683,     0.82783,     0.82883,     0.82983,     0.83083,     0.83183,     0.83283,     0.83383,     0.83483,     0.83584,     0.83684,     0.83784,     0.83884,     0.83984,\n",
      "           0.84084,     0.84184,     0.84284,     0.84384,     0.84484,     0.84585,     0.84685,     0.84785,     0.84885,     0.84985,     0.85085,     0.85185,     0.85285,     0.85385,     0.85485,     0.85586,     0.85686,     0.85786,     0.85886,     0.85986,     0.86086,     0.86186,     0.86286,     0.86386,\n",
      "           0.86486,     0.86587,     0.86687,     0.86787,     0.86887,     0.86987,     0.87087,     0.87187,     0.87287,     0.87387,     0.87487,     0.87588,     0.87688,     0.87788,     0.87888,     0.87988,     0.88088,     0.88188,     0.88288,     0.88388,     0.88488,     0.88589,     0.88689,     0.88789,\n",
      "           0.88889,     0.88989,     0.89089,     0.89189,     0.89289,     0.89389,     0.89489,      0.8959,      0.8969,      0.8979,      0.8989,      0.8999,      0.9009,      0.9019,      0.9029,      0.9039,      0.9049,     0.90591,     0.90691,     0.90791,     0.90891,     0.90991,     0.91091,     0.91191,\n",
      "           0.91291,     0.91391,     0.91491,     0.91592,     0.91692,     0.91792,     0.91892,     0.91992,     0.92092,     0.92192,     0.92292,     0.92392,     0.92492,     0.92593,     0.92693,     0.92793,     0.92893,     0.92993,     0.93093,     0.93193,     0.93293,     0.93393,     0.93493,     0.93594,\n",
      "           0.93694,     0.93794,     0.93894,     0.93994,     0.94094,     0.94194,     0.94294,     0.94394,     0.94494,     0.94595,     0.94695,     0.94795,     0.94895,     0.94995,     0.95095,     0.95195,     0.95295,     0.95395,     0.95495,     0.95596,     0.95696,     0.95796,     0.95896,     0.95996,\n",
      "           0.96096,     0.96196,     0.96296,     0.96396,     0.96496,     0.96597,     0.96697,     0.96797,     0.96897,     0.96997,     0.97097,     0.97197,     0.97297,     0.97397,     0.97497,     0.97598,     0.97698,     0.97798,     0.97898,     0.97998,     0.98098,     0.98198,     0.98298,     0.98398,\n",
      "           0.98498,     0.98599,     0.98699,     0.98799,     0.98899,     0.98999,     0.99099,     0.99199,     0.99299,     0.99399,     0.99499,       0.996,       0.997,       0.998,       0.999,           1]), array([[          1,           1,           1,           1,           1,           1,           1,           1,           1,           1,           1,           1,           1,           1,           1,           1,           1,           1,           1,           1,           1,           1,           1,\n",
      "                  1,           1,           1,           1,           1,           1,           1,           1,           1,           1,           1,           1,           1,           1,           1,           1,           1,           1,           1,           1,           1,           1,           1,\n",
      "                  1,           1,           1,           1,           1,           1,           1,           1,           1,           1,           1,           1,           1,           1,           1,           1,           1,           1,           1,           1,           1,           1,           1,\n",
      "                  1,           1,           1,           1,           1,           1,           1,           1,           1,           1,           1,           1,           1,           1,           1,           1,           1,           1,           1,           1,           1,           1,           1,\n",
      "                  1,           1,           1,           1,           1,           1,           1,           1,           1,           1,           1,           1,           1,           1,           1,           1,           1,           1,           1,           1,           1,           1,           1,\n",
      "                  1,           1,           1,           1,           1,           1,           1,           1,           1,           1,           1,           1,           1,           1,           1,           1,           1,           1,           1,           1,           1,           1,           1,\n",
      "                  1,           1,           1,           1,           1,           1,           1,           1,           1,           1,           1,           1,           1,           1,           1,           1,           1,           1,           1,           1,           1,           1,           1,\n",
      "                  1,           1,           1,           1,           1,           1,           1,           1,           1,           1,           1,           1,           1,           1,           1,           1,           1,           1,           1,           1,           1,           1,           1,\n",
      "                  1,           1,           1,           1,           1,           1,           1,           1,           1,           1,           1,           1,           1,           1,           1,           1,           1,           1,           1,           1,           1,           1,           1,\n",
      "                  1,           1,           1,           1,           1,           1,           1,           1,           1,           1,           1,           1,           1,           1,           1,           1,           1,           1,           1,           1,           1,           1,           1,\n",
      "                  1,           1,           1,           1,           1,           1,           1,           1,           1,           1,           1,           1,           1,           1,           1,           1,           1,           1,           1,           1,           1,           1,           1,\n",
      "                  1,           1,           1,           1,           1,           1,           1,           1,           1,           1,           1,           1,           1,           1,           1,           1,           1,           1,           1,           1,           1,           1,           1,\n",
      "                  1,           1,           1,           1,           1,           1,           1,           1,           1,           1,           1,           1,           1,           1,           1,           1,           1,           1,           1,           1,           1,           1,           1,\n",
      "                  1,           1,           1,           1,           1,           1,           1,           1,           1,           1,           1,           1,           1,           1,           1,           1,           1,           1,           1,           1,           1,           1,           1,\n",
      "                  1,           1,           1,           1,           1,           1,           1,           1,           1,           1,           1,           1,           1,           1,           1,           1,           1,           1,           1,           1,           1,           1,           1,\n",
      "                  1,           1,           1,           1,           1,           1,           1,           1,           1,           1,           1,           1,           1,           1,           1,           1,           1,           1,           1,           1,           1,           1,           1,\n",
      "                  1,           1,           1,           1,           1,           1,           1,           1,           1,           1,           1,           1,           1,           1,           1,           1,           1,           1,           1,           1,           1,           1,           1,\n",
      "                  1,           1,           1,           1,           1,           1,           1,           1,           1,           1,           1,           1,           1,           1,           1,           1,           1,           1,           1,           1,           1,           1,           1,\n",
      "                  1,           1,           1,           1,           1,           1,           1,           1,           1,           1,           1,           1,           1,           1,           1,           1,           1,           1,           1,           1,           1,           1,           1,\n",
      "                  1,           1,           1,           1,           1,           1,           1,           1,           1,           1,           1,           1,           1,           1,           1,           1,           1,           1,           1,           1,           1,           1,           1,\n",
      "                  1,           1,           1,           1,           1,           1,           1,           1,           1,           1,           1,           1,           1,           1,           1,           1,           1,           1,           1,           1,           1,           1,           1,\n",
      "                  1,           1,           1,           1,           1,           1,           1,           1,           1,           1,           1,           1,           1,           1,           1,           1,           1,           1,           1,           1,           1,           1,           1,\n",
      "                  1,           1,           1,           1,           1,           1,           1,           1,           1,           1,           1,           1,           1,           1,           1,           1,           1,           1,           1,           1,           1,           1,           1,\n",
      "                  1,           1,           1,           1,           1,           1,           1,           1,           1,           1,           1,           1,           1,           1,           1,           1,           1,           1,           1,           1,           1,           1,           1,\n",
      "                  1,           1,           1,           1,           1,           1,           1,           1,           1,           1,           1,           1,           1,           1,           1,           1,           1,           1,           1,           1,           1,           1,           1,\n",
      "                  1,           1,           1,           1,           1,           1,           1,           1,           1,           1,           1,           1,           1,           1,           1,           1,           1,           1,           1,           1,           1,           1,           1,\n",
      "                  1,           1,           1,           1,           1,           1,           1,           1,           1,           1,           1,           1,           1,           1,           1,           1,           1,           1,           1,           1,           1,           1,           1,\n",
      "                  1,           1,           1,           1,           1,           1,           1,           1,           1,           1,           1,           1,           1,           1,           1,           1,           1,           1,           1,           1,           1,           1,           1,\n",
      "                  1,           1,           1,           1,           1,           1,           1,           1,           1,           1,           1,           1,           1,           1,           1,           1,           1,           1,           1,           1,           1,           1,           1,\n",
      "                  1,           1,           1,           1,           1,           1,           1,           1,           1,           1,           1,           1,           1,           1,           1,           1,           1,           1,           1,           1,           1,           1,           1,\n",
      "                  1,           1,           1,           1,           1,           1,           1,           1,           1,           1,           1,           1,           1,           1,           1,           1,           1,           1,           1,           1,           1,           1,           1,\n",
      "                  1,           1,           1,           1,           1,           1,           1,           1,           1,           1,           1,           1,           1,           1,           1,           1,           1,           1,           1,           1,           1,           1,           1,\n",
      "                  1,           1,           1,           1,           1,           1,           1,           1,           1,           1,           1,           1,           1,           1,           1,           1,           1,           1,           1,           1,           1,           1,           1,\n",
      "                  1,           1,           1,           1,           1,           1,           1,           1,           1,           1,           1,           1,           1,           1,           1,           1,           1,           1,           1,           1,           1,           1,           1,\n",
      "                  1,           1,           1,           1,           1,           1,           1,           1,           1,           1,           1,           1,           1,           1,           1,           1,           1,           1,           1,           1,           1,           1,           1,\n",
      "                  1,           1,           1,           1,           1,           1,           1,           1,           1,           1,           1,           1,           1,           1,           1,           1,           1,           1,           1,           1,           1,           1,           1,\n",
      "                  1,           1,           1,           1,           1,           1,           1,           1,           1,           1,           1,           1,           1,           1,           1,           1,           1,           1,           1,           1,           1,           1,           1,\n",
      "                  1,           1,           1,           1,           1,           1,           1,           1,           1,           1,           1,           1,           1,           1,           1,           1,           1,           1,           1,           1,           1,           1,           1,\n",
      "                  1,           1,           1,           1,           1,           1,           1,           1,           1,           1,           1,           1,           1,           1,           1,           1,           1,           1,           1,           1,           1,           1,           1,\n",
      "                  1,     0.98182,     0.98182,     0.98182,     0.98182,     0.98182,     0.98182,     0.98182,     0.98182,     0.98182,     0.98182,     0.98182,     0.98182,     0.98182,     0.98182,     0.98182,     0.98182,     0.98182,     0.14323,     0.14323,     0.14323,     0.14323,     0.14323,\n",
      "            0.14323,     0.14323,     0.14323,     0.14323,     0.14323,     0.14323,     0.14323,     0.14323,     0.14323,     0.14323,     0.14323,     0.14323,    0.095238,    0.095238,    0.095238,    0.095238,    0.095238,    0.095238,    0.095238,    0.095238,    0.095238,    0.095238,    0.095238,\n",
      "           0.095238,    0.095238,    0.095238,    0.095238,    0.095238,    0.095238,    0.056158,    0.056158,    0.056158,    0.056158,    0.056158,    0.056158,    0.056158,    0.056158,    0.056158,    0.056158,    0.056158,    0.056158,    0.056158,    0.056158,    0.056158,    0.056158,    0.056158,\n",
      "           0.022561,    0.021877,    0.021194,     0.02051,    0.019826,    0.019143,    0.018459,    0.017775,    0.017092,    0.016408,    0.015724,    0.015041,    0.014357,    0.013673,     0.01299,    0.012306,    0.011622,    0.010939,    0.010255,   0.0095713,   0.0088876,    0.008204,   0.0075203,\n",
      "          0.0068366,    0.006153,   0.0054693,   0.0047857,    0.004102,   0.0034183,   0.0027347,    0.002051,   0.0013673,  0.00068366,           0]]), 'Recall', 'Precision'], [array([          0,    0.001001,    0.002002,    0.003003,    0.004004,    0.005005,    0.006006,    0.007007,    0.008008,    0.009009,     0.01001,    0.011011,    0.012012,    0.013013,    0.014014,    0.015015,    0.016016,    0.017017,    0.018018,    0.019019,     0.02002,    0.021021,    0.022022,    0.023023,\n",
      "          0.024024,    0.025025,    0.026026,    0.027027,    0.028028,    0.029029,     0.03003,    0.031031,    0.032032,    0.033033,    0.034034,    0.035035,    0.036036,    0.037037,    0.038038,    0.039039,     0.04004,    0.041041,    0.042042,    0.043043,    0.044044,    0.045045,    0.046046,    0.047047,\n",
      "          0.048048,    0.049049,     0.05005,    0.051051,    0.052052,    0.053053,    0.054054,    0.055055,    0.056056,    0.057057,    0.058058,    0.059059,     0.06006,    0.061061,    0.062062,    0.063063,    0.064064,    0.065065,    0.066066,    0.067067,    0.068068,    0.069069,     0.07007,    0.071071,\n",
      "          0.072072,    0.073073,    0.074074,    0.075075,    0.076076,    0.077077,    0.078078,    0.079079,     0.08008,    0.081081,    0.082082,    0.083083,    0.084084,    0.085085,    0.086086,    0.087087,    0.088088,    0.089089,     0.09009,    0.091091,    0.092092,    0.093093,    0.094094,    0.095095,\n",
      "          0.096096,    0.097097,    0.098098,    0.099099,      0.1001,      0.1011,      0.1021,      0.1031,      0.1041,     0.10511,     0.10611,     0.10711,     0.10811,     0.10911,     0.11011,     0.11111,     0.11211,     0.11311,     0.11411,     0.11512,     0.11612,     0.11712,     0.11812,     0.11912,\n",
      "           0.12012,     0.12112,     0.12212,     0.12312,     0.12412,     0.12513,     0.12613,     0.12713,     0.12813,     0.12913,     0.13013,     0.13113,     0.13213,     0.13313,     0.13413,     0.13514,     0.13614,     0.13714,     0.13814,     0.13914,     0.14014,     0.14114,     0.14214,     0.14314,\n",
      "           0.14414,     0.14515,     0.14615,     0.14715,     0.14815,     0.14915,     0.15015,     0.15115,     0.15215,     0.15315,     0.15415,     0.15516,     0.15616,     0.15716,     0.15816,     0.15916,     0.16016,     0.16116,     0.16216,     0.16316,     0.16416,     0.16517,     0.16617,     0.16717,\n",
      "           0.16817,     0.16917,     0.17017,     0.17117,     0.17217,     0.17317,     0.17417,     0.17518,     0.17618,     0.17718,     0.17818,     0.17918,     0.18018,     0.18118,     0.18218,     0.18318,     0.18418,     0.18519,     0.18619,     0.18719,     0.18819,     0.18919,     0.19019,     0.19119,\n",
      "           0.19219,     0.19319,     0.19419,      0.1952,      0.1962,      0.1972,      0.1982,      0.1992,      0.2002,      0.2012,      0.2022,      0.2032,      0.2042,     0.20521,     0.20621,     0.20721,     0.20821,     0.20921,     0.21021,     0.21121,     0.21221,     0.21321,     0.21421,     0.21522,\n",
      "           0.21622,     0.21722,     0.21822,     0.21922,     0.22022,     0.22122,     0.22222,     0.22322,     0.22422,     0.22523,     0.22623,     0.22723,     0.22823,     0.22923,     0.23023,     0.23123,     0.23223,     0.23323,     0.23423,     0.23524,     0.23624,     0.23724,     0.23824,     0.23924,\n",
      "           0.24024,     0.24124,     0.24224,     0.24324,     0.24424,     0.24525,     0.24625,     0.24725,     0.24825,     0.24925,     0.25025,     0.25125,     0.25225,     0.25325,     0.25425,     0.25526,     0.25626,     0.25726,     0.25826,     0.25926,     0.26026,     0.26126,     0.26226,     0.26326,\n",
      "           0.26426,     0.26527,     0.26627,     0.26727,     0.26827,     0.26927,     0.27027,     0.27127,     0.27227,     0.27327,     0.27427,     0.27528,     0.27628,     0.27728,     0.27828,     0.27928,     0.28028,     0.28128,     0.28228,     0.28328,     0.28428,     0.28529,     0.28629,     0.28729,\n",
      "           0.28829,     0.28929,     0.29029,     0.29129,     0.29229,     0.29329,     0.29429,      0.2953,      0.2963,      0.2973,      0.2983,      0.2993,      0.3003,      0.3013,      0.3023,      0.3033,      0.3043,     0.30531,     0.30631,     0.30731,     0.30831,     0.30931,     0.31031,     0.31131,\n",
      "           0.31231,     0.31331,     0.31431,     0.31532,     0.31632,     0.31732,     0.31832,     0.31932,     0.32032,     0.32132,     0.32232,     0.32332,     0.32432,     0.32533,     0.32633,     0.32733,     0.32833,     0.32933,     0.33033,     0.33133,     0.33233,     0.33333,     0.33433,     0.33534,\n",
      "           0.33634,     0.33734,     0.33834,     0.33934,     0.34034,     0.34134,     0.34234,     0.34334,     0.34434,     0.34535,     0.34635,     0.34735,     0.34835,     0.34935,     0.35035,     0.35135,     0.35235,     0.35335,     0.35435,     0.35536,     0.35636,     0.35736,     0.35836,     0.35936,\n",
      "           0.36036,     0.36136,     0.36236,     0.36336,     0.36436,     0.36537,     0.36637,     0.36737,     0.36837,     0.36937,     0.37037,     0.37137,     0.37237,     0.37337,     0.37437,     0.37538,     0.37638,     0.37738,     0.37838,     0.37938,     0.38038,     0.38138,     0.38238,     0.38338,\n",
      "           0.38438,     0.38539,     0.38639,     0.38739,     0.38839,     0.38939,     0.39039,     0.39139,     0.39239,     0.39339,     0.39439,      0.3954,      0.3964,      0.3974,      0.3984,      0.3994,      0.4004,      0.4014,      0.4024,      0.4034,      0.4044,     0.40541,     0.40641,     0.40741,\n",
      "           0.40841,     0.40941,     0.41041,     0.41141,     0.41241,     0.41341,     0.41441,     0.41542,     0.41642,     0.41742,     0.41842,     0.41942,     0.42042,     0.42142,     0.42242,     0.42342,     0.42442,     0.42543,     0.42643,     0.42743,     0.42843,     0.42943,     0.43043,     0.43143,\n",
      "           0.43243,     0.43343,     0.43443,     0.43544,     0.43644,     0.43744,     0.43844,     0.43944,     0.44044,     0.44144,     0.44244,     0.44344,     0.44444,     0.44545,     0.44645,     0.44745,     0.44845,     0.44945,     0.45045,     0.45145,     0.45245,     0.45345,     0.45445,     0.45546,\n",
      "           0.45646,     0.45746,     0.45846,     0.45946,     0.46046,     0.46146,     0.46246,     0.46346,     0.46446,     0.46547,     0.46647,     0.46747,     0.46847,     0.46947,     0.47047,     0.47147,     0.47247,     0.47347,     0.47447,     0.47548,     0.47648,     0.47748,     0.47848,     0.47948,\n",
      "           0.48048,     0.48148,     0.48248,     0.48348,     0.48448,     0.48549,     0.48649,     0.48749,     0.48849,     0.48949,     0.49049,     0.49149,     0.49249,     0.49349,     0.49449,      0.4955,      0.4965,      0.4975,      0.4985,      0.4995,      0.5005,      0.5015,      0.5025,      0.5035,\n",
      "            0.5045,     0.50551,     0.50651,     0.50751,     0.50851,     0.50951,     0.51051,     0.51151,     0.51251,     0.51351,     0.51451,     0.51552,     0.51652,     0.51752,     0.51852,     0.51952,     0.52052,     0.52152,     0.52252,     0.52352,     0.52452,     0.52553,     0.52653,     0.52753,\n",
      "           0.52853,     0.52953,     0.53053,     0.53153,     0.53253,     0.53353,     0.53453,     0.53554,     0.53654,     0.53754,     0.53854,     0.53954,     0.54054,     0.54154,     0.54254,     0.54354,     0.54454,     0.54555,     0.54655,     0.54755,     0.54855,     0.54955,     0.55055,     0.55155,\n",
      "           0.55255,     0.55355,     0.55455,     0.55556,     0.55656,     0.55756,     0.55856,     0.55956,     0.56056,     0.56156,     0.56256,     0.56356,     0.56456,     0.56557,     0.56657,     0.56757,     0.56857,     0.56957,     0.57057,     0.57157,     0.57257,     0.57357,     0.57457,     0.57558,\n",
      "           0.57658,     0.57758,     0.57858,     0.57958,     0.58058,     0.58158,     0.58258,     0.58358,     0.58458,     0.58559,     0.58659,     0.58759,     0.58859,     0.58959,     0.59059,     0.59159,     0.59259,     0.59359,     0.59459,      0.5956,      0.5966,      0.5976,      0.5986,      0.5996,\n",
      "            0.6006,      0.6016,      0.6026,      0.6036,      0.6046,     0.60561,     0.60661,     0.60761,     0.60861,     0.60961,     0.61061,     0.61161,     0.61261,     0.61361,     0.61461,     0.61562,     0.61662,     0.61762,     0.61862,     0.61962,     0.62062,     0.62162,     0.62262,     0.62362,\n",
      "           0.62462,     0.62563,     0.62663,     0.62763,     0.62863,     0.62963,     0.63063,     0.63163,     0.63263,     0.63363,     0.63463,     0.63564,     0.63664,     0.63764,     0.63864,     0.63964,     0.64064,     0.64164,     0.64264,     0.64364,     0.64464,     0.64565,     0.64665,     0.64765,\n",
      "           0.64865,     0.64965,     0.65065,     0.65165,     0.65265,     0.65365,     0.65465,     0.65566,     0.65666,     0.65766,     0.65866,     0.65966,     0.66066,     0.66166,     0.66266,     0.66366,     0.66466,     0.66567,     0.66667,     0.66767,     0.66867,     0.66967,     0.67067,     0.67167,\n",
      "           0.67267,     0.67367,     0.67467,     0.67568,     0.67668,     0.67768,     0.67868,     0.67968,     0.68068,     0.68168,     0.68268,     0.68368,     0.68468,     0.68569,     0.68669,     0.68769,     0.68869,     0.68969,     0.69069,     0.69169,     0.69269,     0.69369,     0.69469,      0.6957,\n",
      "            0.6967,      0.6977,      0.6987,      0.6997,      0.7007,      0.7017,      0.7027,      0.7037,      0.7047,     0.70571,     0.70671,     0.70771,     0.70871,     0.70971,     0.71071,     0.71171,     0.71271,     0.71371,     0.71471,     0.71572,     0.71672,     0.71772,     0.71872,     0.71972,\n",
      "           0.72072,     0.72172,     0.72272,     0.72372,     0.72472,     0.72573,     0.72673,     0.72773,     0.72873,     0.72973,     0.73073,     0.73173,     0.73273,     0.73373,     0.73473,     0.73574,     0.73674,     0.73774,     0.73874,     0.73974,     0.74074,     0.74174,     0.74274,     0.74374,\n",
      "           0.74474,     0.74575,     0.74675,     0.74775,     0.74875,     0.74975,     0.75075,     0.75175,     0.75275,     0.75375,     0.75475,     0.75576,     0.75676,     0.75776,     0.75876,     0.75976,     0.76076,     0.76176,     0.76276,     0.76376,     0.76476,     0.76577,     0.76677,     0.76777,\n",
      "           0.76877,     0.76977,     0.77077,     0.77177,     0.77277,     0.77377,     0.77477,     0.77578,     0.77678,     0.77778,     0.77878,     0.77978,     0.78078,     0.78178,     0.78278,     0.78378,     0.78478,     0.78579,     0.78679,     0.78779,     0.78879,     0.78979,     0.79079,     0.79179,\n",
      "           0.79279,     0.79379,     0.79479,      0.7958,      0.7968,      0.7978,      0.7988,      0.7998,      0.8008,      0.8018,      0.8028,      0.8038,      0.8048,     0.80581,     0.80681,     0.80781,     0.80881,     0.80981,     0.81081,     0.81181,     0.81281,     0.81381,     0.81481,     0.81582,\n",
      "           0.81682,     0.81782,     0.81882,     0.81982,     0.82082,     0.82182,     0.82282,     0.82382,     0.82482,     0.82583,     0.82683,     0.82783,     0.82883,     0.82983,     0.83083,     0.83183,     0.83283,     0.83383,     0.83483,     0.83584,     0.83684,     0.83784,     0.83884,     0.83984,\n",
      "           0.84084,     0.84184,     0.84284,     0.84384,     0.84484,     0.84585,     0.84685,     0.84785,     0.84885,     0.84985,     0.85085,     0.85185,     0.85285,     0.85385,     0.85485,     0.85586,     0.85686,     0.85786,     0.85886,     0.85986,     0.86086,     0.86186,     0.86286,     0.86386,\n",
      "           0.86486,     0.86587,     0.86687,     0.86787,     0.86887,     0.86987,     0.87087,     0.87187,     0.87287,     0.87387,     0.87487,     0.87588,     0.87688,     0.87788,     0.87888,     0.87988,     0.88088,     0.88188,     0.88288,     0.88388,     0.88488,     0.88589,     0.88689,     0.88789,\n",
      "           0.88889,     0.88989,     0.89089,     0.89189,     0.89289,     0.89389,     0.89489,      0.8959,      0.8969,      0.8979,      0.8989,      0.8999,      0.9009,      0.9019,      0.9029,      0.9039,      0.9049,     0.90591,     0.90691,     0.90791,     0.90891,     0.90991,     0.91091,     0.91191,\n",
      "           0.91291,     0.91391,     0.91491,     0.91592,     0.91692,     0.91792,     0.91892,     0.91992,     0.92092,     0.92192,     0.92292,     0.92392,     0.92492,     0.92593,     0.92693,     0.92793,     0.92893,     0.92993,     0.93093,     0.93193,     0.93293,     0.93393,     0.93493,     0.93594,\n",
      "           0.93694,     0.93794,     0.93894,     0.93994,     0.94094,     0.94194,     0.94294,     0.94394,     0.94494,     0.94595,     0.94695,     0.94795,     0.94895,     0.94995,     0.95095,     0.95195,     0.95295,     0.95395,     0.95495,     0.95596,     0.95696,     0.95796,     0.95896,     0.95996,\n",
      "           0.96096,     0.96196,     0.96296,     0.96396,     0.96496,     0.96597,     0.96697,     0.96797,     0.96897,     0.96997,     0.97097,     0.97197,     0.97297,     0.97397,     0.97497,     0.97598,     0.97698,     0.97798,     0.97898,     0.97998,     0.98098,     0.98198,     0.98298,     0.98398,\n",
      "           0.98498,     0.98599,     0.98699,     0.98799,     0.98899,     0.98999,     0.99099,     0.99199,     0.99299,     0.99399,     0.99499,       0.996,       0.997,       0.998,       0.999,           1]), array([[    0.04522,    0.045306,     0.08865,     0.12841,     0.16234,      0.1876,     0.21535,     0.24108,      0.2586,     0.28197,     0.30856,     0.31853,     0.33766,     0.36272,      0.3855,     0.39708,      0.4209,     0.44919,     0.46712,      0.4882,     0.49744,     0.50846,     0.51713,\n",
      "            0.52847,     0.54034,     0.55035,     0.55517,       0.568,     0.57239,     0.57697,     0.58084,     0.58245,     0.58529,     0.59387,     0.59718,     0.61425,     0.61788,     0.61994,      0.6298,     0.63986,     0.64147,     0.64469,     0.64824,     0.65005,     0.65131,     0.65233,\n",
      "            0.65335,     0.65436,     0.65576,     0.65725,     0.65928,     0.66431,     0.66702,     0.66792,     0.66881,     0.66969,     0.67058,     0.67223,     0.67413,      0.6752,     0.67556,     0.67593,      0.6763,     0.67666,     0.67703,     0.67739,     0.67776,     0.67812,     0.67848,\n",
      "            0.67885,     0.67921,     0.68018,     0.68121,     0.68223,     0.68326,     0.68504,     0.68711,     0.68815,     0.68857,     0.68898,     0.68939,      0.6898,     0.69021,     0.69062,     0.69103,     0.69145,     0.69186,     0.69226,     0.69568,     0.70185,     0.70373,     0.70561,\n",
      "            0.71003,     0.71404,     0.71617,     0.71752,     0.71886,     0.72004,      0.7203,     0.72055,     0.72081,     0.72106,     0.72132,     0.72158,     0.72183,     0.72209,     0.72234,      0.7226,     0.72286,     0.72311,     0.72337,     0.72362,     0.72388,     0.72413,     0.72439,\n",
      "            0.72464,     0.72508,     0.72607,     0.72705,     0.72804,     0.72902,     0.73317,     0.73549,     0.73641,     0.73732,     0.73822,     0.73913,     0.74112,     0.74593,      0.7531,     0.75544,     0.75583,     0.75622,     0.75661,       0.757,     0.75739,     0.75778,     0.75817,\n",
      "            0.75856,     0.75895,     0.75934,     0.75973,     0.76012,      0.7605,     0.76121,     0.76198,     0.76275,     0.76351,     0.76427,     0.76504,      0.7658,     0.76748,     0.76941,     0.77132,     0.77229,      0.7732,      0.7741,     0.77501,     0.77591,     0.77682,     0.78369,\n",
      "            0.78512,     0.78654,     0.78796,     0.79083,     0.79415,     0.79632,     0.79848,     0.80288,     0.80611,     0.80631,     0.80651,     0.80671,     0.80691,     0.80711,     0.80731,     0.80751,     0.80771,     0.80791,     0.80811,     0.80831,     0.80851,     0.80871,     0.80891,\n",
      "            0.80911,     0.80931,     0.80951,     0.80971,     0.80991,     0.81011,     0.81031,     0.81051,     0.81071,     0.81091,     0.81111,     0.81131,      0.8115,      0.8117,      0.8119,     0.81231,     0.81309,     0.81387,     0.81465,     0.81543,     0.81621,     0.81698,     0.81776,\n",
      "            0.81978,     0.82327,     0.82476,     0.82526,     0.82576,     0.82626,     0.82675,     0.82725,     0.82775,     0.82824,     0.82874,     0.82923,     0.82973,     0.83022,     0.83072,     0.83246,     0.83435,     0.83624,      0.8403,     0.84449,     0.84609,      0.8477,     0.84929,\n",
      "            0.85102,     0.85307,      0.8551,     0.85713,     0.85928,     0.86143,     0.86357,     0.86451,     0.86514,     0.86578,     0.86641,     0.86704,     0.86768,     0.86831,     0.86894,     0.86957,     0.87019,     0.87082,      0.8717,     0.87264,     0.87358,     0.87452,     0.87546,\n",
      "             0.8764,     0.87733,     0.87981,     0.88547,     0.88626,     0.88705,     0.88784,     0.88863,     0.88942,     0.89021,     0.89099,     0.89178,     0.89256,     0.89271,     0.89286,     0.89301,     0.89316,     0.89331,     0.89346,     0.89361,     0.89376,     0.89391,     0.89406,\n",
      "            0.89421,     0.89436,     0.89451,     0.89466,     0.89481,     0.89496,     0.89511,     0.89526,     0.89541,     0.89556,     0.89571,     0.89586,     0.89601,     0.89616,     0.89631,     0.89646,     0.89661,     0.89676,      0.8969,     0.89705,      0.8972,     0.89735,      0.8975,\n",
      "            0.89765,      0.8978,     0.89795,      0.8981,     0.89824,     0.89839,     0.89854,     0.89869,     0.89884,     0.89899,     0.89913,     0.89928,     0.89943,     0.89958,     0.89973,     0.89988,     0.90041,     0.90294,     0.90545,     0.90765,     0.90819,     0.90873,     0.90926,\n",
      "             0.9098,     0.91034,     0.91088,     0.91141,     0.91195,     0.91248,     0.91302,     0.91355,     0.91409,     0.91462,     0.91515,     0.91538,     0.91554,     0.91569,     0.91585,       0.916,     0.91616,     0.91631,     0.91647,     0.91663,     0.91678,     0.91694,     0.91709,\n",
      "            0.91725,      0.9174,     0.91756,     0.91771,     0.91787,     0.91802,     0.91818,     0.91833,     0.91849,     0.91864,      0.9188,     0.91895,     0.91911,     0.91926,     0.91942,     0.91957,     0.91973,     0.91988,     0.92004,     0.92019,     0.92034,      0.9205,     0.92065,\n",
      "            0.92081,     0.92096,     0.92112,     0.92127,     0.92142,     0.92158,     0.92173,     0.92188,     0.92204,     0.92219,     0.92235,      0.9225,     0.92265,     0.92281,     0.92296,     0.92326,     0.92404,     0.92481,     0.92558,     0.92636,     0.92713,      0.9279,     0.92866,\n",
      "            0.92943,      0.9302,     0.93096,     0.93108,     0.93114,      0.9312,     0.93125,     0.93131,     0.93136,     0.93142,     0.93147,     0.93153,     0.93158,     0.93164,     0.93169,     0.93175,      0.9318,     0.93186,     0.93192,     0.93197,     0.93203,     0.93208,     0.93214,\n",
      "            0.93219,     0.93225,      0.9323,     0.93236,     0.93241,     0.93247,     0.93252,     0.93258,     0.93263,     0.93269,     0.93274,      0.9328,     0.93285,     0.93291,     0.93296,     0.93302,     0.93307,     0.93313,     0.93319,     0.93324,      0.9333,     0.93335,     0.93341,\n",
      "            0.93346,     0.93352,     0.93357,     0.93363,     0.93368,     0.93374,     0.93379,     0.93385,      0.9339,     0.93396,     0.93401,     0.93407,     0.93412,     0.93418,     0.93423,     0.93429,     0.93434,      0.9344,     0.93445,     0.93451,     0.93456,     0.93462,     0.93467,\n",
      "            0.93473,     0.93478,     0.93484,     0.93489,     0.93495,       0.935,     0.93506,     0.93511,     0.93517,     0.93522,     0.93528,     0.93533,     0.93539,     0.93544,      0.9355,     0.93555,     0.93561,     0.93566,     0.93572,     0.93577,     0.93582,     0.93588,     0.93593,\n",
      "            0.93599,     0.93604,      0.9361,     0.93615,     0.93621,     0.93626,     0.93632,     0.93637,     0.93643,     0.93648,     0.93654,     0.93659,     0.93665,      0.9367,     0.93676,     0.93681,     0.93687,     0.93692,     0.93697,     0.93703,     0.93708,     0.93714,     0.93719,\n",
      "            0.93725,      0.9373,     0.93736,     0.93741,     0.93747,     0.93752,     0.93758,     0.93763,     0.93769,     0.93774,     0.93779,     0.93785,      0.9379,     0.93796,     0.93801,     0.93807,     0.93812,     0.93818,     0.93823,     0.93829,     0.93834,     0.93839,     0.93845,\n",
      "             0.9385,     0.93856,     0.93861,     0.93867,     0.93872,     0.93878,     0.93883,     0.93888,     0.93894,     0.93899,     0.93905,      0.9391,     0.93915,     0.93919,     0.93923,     0.93927,     0.93931,     0.93935,     0.93939,     0.93943,     0.93947,      0.9395,     0.93954,\n",
      "            0.93958,     0.93962,     0.93966,      0.9397,     0.93974,     0.93978,     0.93982,     0.93986,      0.9399,     0.93994,     0.93998,     0.94002,     0.94006,      0.9401,     0.94014,     0.94018,     0.94021,     0.94025,     0.94029,     0.94033,     0.94037,     0.94041,     0.94045,\n",
      "            0.94049,     0.94053,     0.94057,     0.94061,     0.94065,     0.94069,     0.94073,     0.94077,     0.94081,     0.94084,     0.94088,     0.94092,     0.94096,       0.941,     0.94104,     0.94108,     0.94112,     0.94116,      0.9412,     0.94124,     0.94128,     0.94132,     0.94136,\n",
      "             0.9414,     0.94143,     0.94147,     0.94151,     0.94155,     0.94159,     0.94163,     0.94167,     0.94171,     0.94175,     0.94179,     0.94183,     0.94187,     0.94191,     0.94195,     0.94198,     0.94202,     0.94206,      0.9421,     0.94214,     0.94218,     0.94222,     0.94226,\n",
      "             0.9423,     0.94234,     0.94238,     0.94242,     0.94246,     0.94249,     0.94253,     0.94257,     0.94261,     0.94265,     0.94269,     0.94273,     0.94277,     0.94281,     0.94285,     0.94289,     0.94293,     0.94296,       0.943,     0.94304,     0.94308,     0.94312,     0.94316,\n",
      "             0.9432,     0.94324,     0.94328,     0.94332,     0.94336,      0.9434,     0.94343,     0.94347,     0.94351,     0.94355,     0.94359,     0.94363,     0.94367,     0.94371,     0.94375,     0.94379,     0.94383,     0.94386,      0.9439,     0.94394,     0.94398,     0.94402,     0.94406,\n",
      "             0.9441,     0.94414,     0.94418,     0.94422,     0.94426,     0.94429,     0.94433,     0.94437,     0.94441,     0.94445,     0.94449,     0.94453,     0.94457,     0.94461,     0.94465,     0.94468,     0.94472,     0.94476,      0.9448,     0.94484,     0.94488,     0.94492,     0.94496,\n",
      "              0.945,     0.94504,     0.94507,     0.94511,     0.94515,     0.94519,     0.94523,     0.94527,     0.94531,     0.94535,     0.94539,     0.94543,     0.94546,      0.9455,     0.94554,     0.94558,     0.94562,     0.94566,      0.9457,     0.94574,     0.94578,     0.94581,     0.94585,\n",
      "            0.94589,     0.94593,     0.94597,     0.94601,     0.94605,     0.94609,     0.94613,     0.94616,      0.9462,     0.94624,     0.94628,     0.94632,     0.94636,      0.9464,     0.94644,     0.94648,     0.94651,     0.94655,     0.94659,     0.94663,     0.94667,     0.94671,     0.94675,\n",
      "            0.94679,     0.94682,     0.94686,      0.9469,     0.94694,     0.94698,     0.94702,     0.94706,      0.9471,     0.94714,     0.94717,     0.94721,     0.94725,     0.94729,     0.94733,     0.94737,     0.94697,     0.94656,     0.94616,     0.94575,     0.94535,     0.94494,     0.94453,\n",
      "            0.94413,     0.94372,     0.94331,      0.9429,      0.9425,     0.94209,     0.94168,     0.94127,     0.94086,     0.94045,     0.94004,     0.93963,     0.93922,     0.93881,      0.9384,     0.93807,     0.93815,     0.93823,      0.9383,     0.93838,     0.93846,     0.93854,     0.93862,\n",
      "             0.9387,     0.93878,     0.93886,     0.93894,     0.93902,      0.9391,     0.93918,     0.93926,     0.93934,     0.93942,      0.9395,     0.93958,     0.93966,     0.93974,     0.93982,      0.9399,     0.93998,     0.94005,     0.94013,     0.94021,     0.94029,     0.94037,     0.94045,\n",
      "            0.94053,     0.94061,     0.94069,     0.94077,     0.94085,     0.94093,     0.94101,     0.94109,     0.94116,     0.94124,     0.94132,      0.9414,     0.94148,     0.94156,     0.94164,     0.94172,      0.9418,     0.94188,     0.94196,     0.94203,     0.94211,     0.94219,     0.94227,\n",
      "            0.94235,     0.94243,     0.94251,     0.94259,     0.94267,     0.94275,     0.94282,      0.9429,     0.94298,     0.94306,     0.94314,     0.94322,      0.9433,     0.94338,     0.94345,     0.94353,     0.94361,     0.94369,     0.94377,     0.94385,     0.94393,     0.94401,     0.94408,\n",
      "            0.94416,     0.94424,     0.94432,      0.9444,     0.94448,     0.94456,     0.94463,     0.94471,     0.94479,     0.94487,     0.94495,     0.94503,     0.94511,     0.94518,     0.94526,     0.94534,     0.94542,      0.9455,     0.94558,     0.94565,     0.94573,     0.94581,     0.94589,\n",
      "            0.94597,     0.94605,     0.94612,      0.9462,     0.94628,     0.94636,     0.94563,      0.9384,     0.93647,     0.93588,      0.9353,     0.93471,     0.93412,     0.93353,     0.93294,     0.93235,     0.93176,     0.93117,     0.93058,     0.92998,     0.92939,      0.9288,      0.9282,\n",
      "             0.9276,     0.92683,     0.92583,     0.92483,     0.92382,     0.92282,     0.92181,      0.9208,     0.91979,     0.91878,     0.91776,     0.91674,     0.91571,     0.91468,     0.91365,     0.91262,     0.91158,     0.91055,     0.90951,     0.90847,     0.90742,     0.90529,     0.90313,\n",
      "            0.90097,     0.89879,     0.89636,     0.89322,     0.89007,     0.88691,     0.87554,     0.87329,     0.87103,     0.86876,     0.86648,     0.86172,     0.85459,     0.85245,     0.85046,     0.84846,     0.84645,     0.84444,     0.83105,     0.82764,     0.82421,     0.82077,     0.81756,\n",
      "             0.8144,     0.81124,     0.80791,     0.79336,     0.78514,      0.7787,     0.77265,     0.76856,     0.76531,     0.76204,     0.75875,     0.73525,     0.72747,     0.72258,     0.71765,     0.70008,     0.69547,     0.69083,     0.67764,     0.62537,     0.61693,     0.60743,     0.59631,\n",
      "            0.58517,     0.57544,     0.56804,     0.55856,     0.52757,       0.437,     0.41858,     0.40646,     0.35109,     0.32935,     0.30752,     0.29294,     0.18485,     0.16372,     0.11852,    0.084853,    0.064807,    0.057788,    0.050718,    0.043596,    0.036421,           0,           0,\n",
      "                  0,           0,           0,           0,           0,           0,           0,           0,           0,           0,           0]]), 'Confidence', 'F1'], [array([          0,    0.001001,    0.002002,    0.003003,    0.004004,    0.005005,    0.006006,    0.007007,    0.008008,    0.009009,     0.01001,    0.011011,    0.012012,    0.013013,    0.014014,    0.015015,    0.016016,    0.017017,    0.018018,    0.019019,     0.02002,    0.021021,    0.022022,    0.023023,\n",
      "          0.024024,    0.025025,    0.026026,    0.027027,    0.028028,    0.029029,     0.03003,    0.031031,    0.032032,    0.033033,    0.034034,    0.035035,    0.036036,    0.037037,    0.038038,    0.039039,     0.04004,    0.041041,    0.042042,    0.043043,    0.044044,    0.045045,    0.046046,    0.047047,\n",
      "          0.048048,    0.049049,     0.05005,    0.051051,    0.052052,    0.053053,    0.054054,    0.055055,    0.056056,    0.057057,    0.058058,    0.059059,     0.06006,    0.061061,    0.062062,    0.063063,    0.064064,    0.065065,    0.066066,    0.067067,    0.068068,    0.069069,     0.07007,    0.071071,\n",
      "          0.072072,    0.073073,    0.074074,    0.075075,    0.076076,    0.077077,    0.078078,    0.079079,     0.08008,    0.081081,    0.082082,    0.083083,    0.084084,    0.085085,    0.086086,    0.087087,    0.088088,    0.089089,     0.09009,    0.091091,    0.092092,    0.093093,    0.094094,    0.095095,\n",
      "          0.096096,    0.097097,    0.098098,    0.099099,      0.1001,      0.1011,      0.1021,      0.1031,      0.1041,     0.10511,     0.10611,     0.10711,     0.10811,     0.10911,     0.11011,     0.11111,     0.11211,     0.11311,     0.11411,     0.11512,     0.11612,     0.11712,     0.11812,     0.11912,\n",
      "           0.12012,     0.12112,     0.12212,     0.12312,     0.12412,     0.12513,     0.12613,     0.12713,     0.12813,     0.12913,     0.13013,     0.13113,     0.13213,     0.13313,     0.13413,     0.13514,     0.13614,     0.13714,     0.13814,     0.13914,     0.14014,     0.14114,     0.14214,     0.14314,\n",
      "           0.14414,     0.14515,     0.14615,     0.14715,     0.14815,     0.14915,     0.15015,     0.15115,     0.15215,     0.15315,     0.15415,     0.15516,     0.15616,     0.15716,     0.15816,     0.15916,     0.16016,     0.16116,     0.16216,     0.16316,     0.16416,     0.16517,     0.16617,     0.16717,\n",
      "           0.16817,     0.16917,     0.17017,     0.17117,     0.17217,     0.17317,     0.17417,     0.17518,     0.17618,     0.17718,     0.17818,     0.17918,     0.18018,     0.18118,     0.18218,     0.18318,     0.18418,     0.18519,     0.18619,     0.18719,     0.18819,     0.18919,     0.19019,     0.19119,\n",
      "           0.19219,     0.19319,     0.19419,      0.1952,      0.1962,      0.1972,      0.1982,      0.1992,      0.2002,      0.2012,      0.2022,      0.2032,      0.2042,     0.20521,     0.20621,     0.20721,     0.20821,     0.20921,     0.21021,     0.21121,     0.21221,     0.21321,     0.21421,     0.21522,\n",
      "           0.21622,     0.21722,     0.21822,     0.21922,     0.22022,     0.22122,     0.22222,     0.22322,     0.22422,     0.22523,     0.22623,     0.22723,     0.22823,     0.22923,     0.23023,     0.23123,     0.23223,     0.23323,     0.23423,     0.23524,     0.23624,     0.23724,     0.23824,     0.23924,\n",
      "           0.24024,     0.24124,     0.24224,     0.24324,     0.24424,     0.24525,     0.24625,     0.24725,     0.24825,     0.24925,     0.25025,     0.25125,     0.25225,     0.25325,     0.25425,     0.25526,     0.25626,     0.25726,     0.25826,     0.25926,     0.26026,     0.26126,     0.26226,     0.26326,\n",
      "           0.26426,     0.26527,     0.26627,     0.26727,     0.26827,     0.26927,     0.27027,     0.27127,     0.27227,     0.27327,     0.27427,     0.27528,     0.27628,     0.27728,     0.27828,     0.27928,     0.28028,     0.28128,     0.28228,     0.28328,     0.28428,     0.28529,     0.28629,     0.28729,\n",
      "           0.28829,     0.28929,     0.29029,     0.29129,     0.29229,     0.29329,     0.29429,      0.2953,      0.2963,      0.2973,      0.2983,      0.2993,      0.3003,      0.3013,      0.3023,      0.3033,      0.3043,     0.30531,     0.30631,     0.30731,     0.30831,     0.30931,     0.31031,     0.31131,\n",
      "           0.31231,     0.31331,     0.31431,     0.31532,     0.31632,     0.31732,     0.31832,     0.31932,     0.32032,     0.32132,     0.32232,     0.32332,     0.32432,     0.32533,     0.32633,     0.32733,     0.32833,     0.32933,     0.33033,     0.33133,     0.33233,     0.33333,     0.33433,     0.33534,\n",
      "           0.33634,     0.33734,     0.33834,     0.33934,     0.34034,     0.34134,     0.34234,     0.34334,     0.34434,     0.34535,     0.34635,     0.34735,     0.34835,     0.34935,     0.35035,     0.35135,     0.35235,     0.35335,     0.35435,     0.35536,     0.35636,     0.35736,     0.35836,     0.35936,\n",
      "           0.36036,     0.36136,     0.36236,     0.36336,     0.36436,     0.36537,     0.36637,     0.36737,     0.36837,     0.36937,     0.37037,     0.37137,     0.37237,     0.37337,     0.37437,     0.37538,     0.37638,     0.37738,     0.37838,     0.37938,     0.38038,     0.38138,     0.38238,     0.38338,\n",
      "           0.38438,     0.38539,     0.38639,     0.38739,     0.38839,     0.38939,     0.39039,     0.39139,     0.39239,     0.39339,     0.39439,      0.3954,      0.3964,      0.3974,      0.3984,      0.3994,      0.4004,      0.4014,      0.4024,      0.4034,      0.4044,     0.40541,     0.40641,     0.40741,\n",
      "           0.40841,     0.40941,     0.41041,     0.41141,     0.41241,     0.41341,     0.41441,     0.41542,     0.41642,     0.41742,     0.41842,     0.41942,     0.42042,     0.42142,     0.42242,     0.42342,     0.42442,     0.42543,     0.42643,     0.42743,     0.42843,     0.42943,     0.43043,     0.43143,\n",
      "           0.43243,     0.43343,     0.43443,     0.43544,     0.43644,     0.43744,     0.43844,     0.43944,     0.44044,     0.44144,     0.44244,     0.44344,     0.44444,     0.44545,     0.44645,     0.44745,     0.44845,     0.44945,     0.45045,     0.45145,     0.45245,     0.45345,     0.45445,     0.45546,\n",
      "           0.45646,     0.45746,     0.45846,     0.45946,     0.46046,     0.46146,     0.46246,     0.46346,     0.46446,     0.46547,     0.46647,     0.46747,     0.46847,     0.46947,     0.47047,     0.47147,     0.47247,     0.47347,     0.47447,     0.47548,     0.47648,     0.47748,     0.47848,     0.47948,\n",
      "           0.48048,     0.48148,     0.48248,     0.48348,     0.48448,     0.48549,     0.48649,     0.48749,     0.48849,     0.48949,     0.49049,     0.49149,     0.49249,     0.49349,     0.49449,      0.4955,      0.4965,      0.4975,      0.4985,      0.4995,      0.5005,      0.5015,      0.5025,      0.5035,\n",
      "            0.5045,     0.50551,     0.50651,     0.50751,     0.50851,     0.50951,     0.51051,     0.51151,     0.51251,     0.51351,     0.51451,     0.51552,     0.51652,     0.51752,     0.51852,     0.51952,     0.52052,     0.52152,     0.52252,     0.52352,     0.52452,     0.52553,     0.52653,     0.52753,\n",
      "           0.52853,     0.52953,     0.53053,     0.53153,     0.53253,     0.53353,     0.53453,     0.53554,     0.53654,     0.53754,     0.53854,     0.53954,     0.54054,     0.54154,     0.54254,     0.54354,     0.54454,     0.54555,     0.54655,     0.54755,     0.54855,     0.54955,     0.55055,     0.55155,\n",
      "           0.55255,     0.55355,     0.55455,     0.55556,     0.55656,     0.55756,     0.55856,     0.55956,     0.56056,     0.56156,     0.56256,     0.56356,     0.56456,     0.56557,     0.56657,     0.56757,     0.56857,     0.56957,     0.57057,     0.57157,     0.57257,     0.57357,     0.57457,     0.57558,\n",
      "           0.57658,     0.57758,     0.57858,     0.57958,     0.58058,     0.58158,     0.58258,     0.58358,     0.58458,     0.58559,     0.58659,     0.58759,     0.58859,     0.58959,     0.59059,     0.59159,     0.59259,     0.59359,     0.59459,      0.5956,      0.5966,      0.5976,      0.5986,      0.5996,\n",
      "            0.6006,      0.6016,      0.6026,      0.6036,      0.6046,     0.60561,     0.60661,     0.60761,     0.60861,     0.60961,     0.61061,     0.61161,     0.61261,     0.61361,     0.61461,     0.61562,     0.61662,     0.61762,     0.61862,     0.61962,     0.62062,     0.62162,     0.62262,     0.62362,\n",
      "           0.62462,     0.62563,     0.62663,     0.62763,     0.62863,     0.62963,     0.63063,     0.63163,     0.63263,     0.63363,     0.63463,     0.63564,     0.63664,     0.63764,     0.63864,     0.63964,     0.64064,     0.64164,     0.64264,     0.64364,     0.64464,     0.64565,     0.64665,     0.64765,\n",
      "           0.64865,     0.64965,     0.65065,     0.65165,     0.65265,     0.65365,     0.65465,     0.65566,     0.65666,     0.65766,     0.65866,     0.65966,     0.66066,     0.66166,     0.66266,     0.66366,     0.66466,     0.66567,     0.66667,     0.66767,     0.66867,     0.66967,     0.67067,     0.67167,\n",
      "           0.67267,     0.67367,     0.67467,     0.67568,     0.67668,     0.67768,     0.67868,     0.67968,     0.68068,     0.68168,     0.68268,     0.68368,     0.68468,     0.68569,     0.68669,     0.68769,     0.68869,     0.68969,     0.69069,     0.69169,     0.69269,     0.69369,     0.69469,      0.6957,\n",
      "            0.6967,      0.6977,      0.6987,      0.6997,      0.7007,      0.7017,      0.7027,      0.7037,      0.7047,     0.70571,     0.70671,     0.70771,     0.70871,     0.70971,     0.71071,     0.71171,     0.71271,     0.71371,     0.71471,     0.71572,     0.71672,     0.71772,     0.71872,     0.71972,\n",
      "           0.72072,     0.72172,     0.72272,     0.72372,     0.72472,     0.72573,     0.72673,     0.72773,     0.72873,     0.72973,     0.73073,     0.73173,     0.73273,     0.73373,     0.73473,     0.73574,     0.73674,     0.73774,     0.73874,     0.73974,     0.74074,     0.74174,     0.74274,     0.74374,\n",
      "           0.74474,     0.74575,     0.74675,     0.74775,     0.74875,     0.74975,     0.75075,     0.75175,     0.75275,     0.75375,     0.75475,     0.75576,     0.75676,     0.75776,     0.75876,     0.75976,     0.76076,     0.76176,     0.76276,     0.76376,     0.76476,     0.76577,     0.76677,     0.76777,\n",
      "           0.76877,     0.76977,     0.77077,     0.77177,     0.77277,     0.77377,     0.77477,     0.77578,     0.77678,     0.77778,     0.77878,     0.77978,     0.78078,     0.78178,     0.78278,     0.78378,     0.78478,     0.78579,     0.78679,     0.78779,     0.78879,     0.78979,     0.79079,     0.79179,\n",
      "           0.79279,     0.79379,     0.79479,      0.7958,      0.7968,      0.7978,      0.7988,      0.7998,      0.8008,      0.8018,      0.8028,      0.8038,      0.8048,     0.80581,     0.80681,     0.80781,     0.80881,     0.80981,     0.81081,     0.81181,     0.81281,     0.81381,     0.81481,     0.81582,\n",
      "           0.81682,     0.81782,     0.81882,     0.81982,     0.82082,     0.82182,     0.82282,     0.82382,     0.82482,     0.82583,     0.82683,     0.82783,     0.82883,     0.82983,     0.83083,     0.83183,     0.83283,     0.83383,     0.83483,     0.83584,     0.83684,     0.83784,     0.83884,     0.83984,\n",
      "           0.84084,     0.84184,     0.84284,     0.84384,     0.84484,     0.84585,     0.84685,     0.84785,     0.84885,     0.84985,     0.85085,     0.85185,     0.85285,     0.85385,     0.85485,     0.85586,     0.85686,     0.85786,     0.85886,     0.85986,     0.86086,     0.86186,     0.86286,     0.86386,\n",
      "           0.86486,     0.86587,     0.86687,     0.86787,     0.86887,     0.86987,     0.87087,     0.87187,     0.87287,     0.87387,     0.87487,     0.87588,     0.87688,     0.87788,     0.87888,     0.87988,     0.88088,     0.88188,     0.88288,     0.88388,     0.88488,     0.88589,     0.88689,     0.88789,\n",
      "           0.88889,     0.88989,     0.89089,     0.89189,     0.89289,     0.89389,     0.89489,      0.8959,      0.8969,      0.8979,      0.8989,      0.8999,      0.9009,      0.9019,      0.9029,      0.9039,      0.9049,     0.90591,     0.90691,     0.90791,     0.90891,     0.90991,     0.91091,     0.91191,\n",
      "           0.91291,     0.91391,     0.91491,     0.91592,     0.91692,     0.91792,     0.91892,     0.91992,     0.92092,     0.92192,     0.92292,     0.92392,     0.92492,     0.92593,     0.92693,     0.92793,     0.92893,     0.92993,     0.93093,     0.93193,     0.93293,     0.93393,     0.93493,     0.93594,\n",
      "           0.93694,     0.93794,     0.93894,     0.93994,     0.94094,     0.94194,     0.94294,     0.94394,     0.94494,     0.94595,     0.94695,     0.94795,     0.94895,     0.94995,     0.95095,     0.95195,     0.95295,     0.95395,     0.95495,     0.95596,     0.95696,     0.95796,     0.95896,     0.95996,\n",
      "           0.96096,     0.96196,     0.96296,     0.96396,     0.96496,     0.96597,     0.96697,     0.96797,     0.96897,     0.96997,     0.97097,     0.97197,     0.97297,     0.97397,     0.97497,     0.97598,     0.97698,     0.97798,     0.97898,     0.97998,     0.98098,     0.98198,     0.98298,     0.98398,\n",
      "           0.98498,     0.98599,     0.98699,     0.98799,     0.98899,     0.98999,     0.99099,     0.99199,     0.99299,     0.99399,     0.99499,       0.996,       0.997,       0.998,       0.999,           1]), array([[   0.023152,    0.023197,    0.046456,    0.068861,    0.088759,     0.10429,     0.12174,     0.13844,     0.15057,     0.16665,     0.18556,     0.19282,     0.20702,     0.22618,     0.24417,     0.25354,     0.27329,     0.29763,     0.31358,     0.33288,     0.34153,     0.35201,     0.36037,\n",
      "            0.37148,     0.38332,     0.39348,     0.39842,     0.41177,      0.4164,     0.42127,     0.42541,     0.42713,      0.4302,     0.43953,     0.44317,     0.46224,     0.46636,     0.46871,     0.48007,     0.49186,     0.49377,     0.49759,     0.50183,     0.50401,     0.50553,     0.50676,\n",
      "            0.50798,     0.50921,     0.51091,     0.51271,      0.5152,     0.52136,     0.52471,     0.52582,     0.52692,     0.52803,     0.52913,     0.53118,     0.53356,      0.5349,     0.53536,     0.53582,     0.53628,     0.53674,      0.5372,     0.53766,     0.53812,     0.53858,     0.53904,\n",
      "             0.5395,     0.53996,     0.54118,     0.54249,     0.54379,     0.54509,     0.54736,     0.55001,     0.55135,     0.55188,     0.55241,     0.55294,     0.55347,       0.554,     0.55453,     0.55506,     0.55559,     0.55612,     0.55665,     0.56108,     0.56915,     0.57163,     0.57411,\n",
      "            0.57999,     0.58535,     0.58822,     0.59004,     0.59186,     0.59346,     0.59381,     0.59416,     0.59451,     0.59485,      0.5952,     0.59555,      0.5959,     0.59625,      0.5966,     0.59695,      0.5973,     0.59765,     0.59799,     0.59834,     0.59869,     0.59904,     0.59939,\n",
      "            0.59974,     0.60034,     0.60169,     0.60305,     0.60441,     0.60576,     0.61151,     0.61475,     0.61603,      0.6173,     0.61858,     0.61985,     0.62265,     0.62948,     0.63976,     0.64314,     0.64371,     0.64428,     0.64484,     0.64541,     0.64598,     0.64655,     0.64711,\n",
      "            0.64768,     0.64825,     0.64881,     0.64938,     0.64995,     0.65052,     0.65155,     0.65268,      0.6538,     0.65493,     0.65605,     0.65718,      0.6583,      0.6608,     0.66365,     0.66651,     0.66795,     0.66931,     0.67067,     0.67203,     0.67339,     0.67475,      0.6852,\n",
      "            0.68738,     0.68957,     0.69176,     0.69618,     0.70135,     0.70474,     0.70814,     0.71509,     0.72022,     0.72054,     0.72086,     0.72118,      0.7215,     0.72182,     0.72214,     0.72246,     0.72279,     0.72311,     0.72343,     0.72375,     0.72407,     0.72439,     0.72471,\n",
      "            0.72503,     0.72535,     0.72567,     0.72599,     0.72632,     0.72664,     0.72696,     0.72728,      0.7276,     0.72792,     0.72824,     0.72856,     0.72888,      0.7292,     0.72952,     0.73018,     0.73145,     0.73271,     0.73398,     0.73524,     0.73651,     0.73777,     0.73904,\n",
      "            0.74234,     0.74808,     0.75055,     0.75138,      0.7522,     0.75303,     0.75386,     0.75469,     0.75551,     0.75634,     0.75717,     0.75799,     0.75882,     0.75965,     0.76047,     0.76341,     0.76659,     0.76978,     0.77669,     0.78388,     0.78665,     0.78942,      0.7922,\n",
      "            0.79522,     0.79879,     0.80237,     0.80594,     0.80976,     0.81358,      0.8174,     0.81909,     0.82023,     0.82137,     0.82252,     0.82366,      0.8248,     0.82594,     0.82708,     0.82822,     0.82936,     0.83051,     0.83209,     0.83382,     0.83554,     0.83726,     0.83898,\n",
      "            0.84071,     0.84243,     0.84701,     0.85756,     0.85905,     0.86054,     0.86203,     0.86351,       0.865,     0.86649,     0.86798,     0.86947,     0.87096,     0.87125,     0.87154,     0.87183,     0.87211,      0.8724,     0.87269,     0.87297,     0.87326,     0.87355,     0.87383,\n",
      "            0.87412,     0.87441,     0.87469,     0.87498,     0.87526,     0.87555,     0.87584,     0.87612,     0.87641,      0.8767,     0.87698,     0.87727,     0.87756,     0.87784,     0.87813,     0.87842,      0.8787,     0.87899,     0.87928,     0.87956,     0.87985,     0.88014,     0.88042,\n",
      "            0.88071,     0.88099,     0.88128,     0.88157,     0.88185,     0.88214,     0.88243,     0.88271,       0.883,     0.88329,     0.88357,     0.88386,     0.88415,     0.88443,     0.88472,     0.88501,     0.88605,     0.89095,     0.89586,     0.90016,     0.90123,     0.90229,     0.90335,\n",
      "            0.90442,     0.90548,     0.90654,     0.90761,     0.90867,     0.90973,      0.9108,     0.91186,     0.91292,     0.91398,     0.91505,     0.91551,     0.91582,     0.91613,     0.91644,     0.91675,     0.91707,     0.91738,     0.91769,       0.918,     0.91831,     0.91863,     0.91894,\n",
      "            0.91925,     0.91956,     0.91987,     0.92019,      0.9205,     0.92081,     0.92112,     0.92143,     0.92175,     0.92206,     0.92237,     0.92268,     0.92299,     0.92331,     0.92362,     0.92393,     0.92424,     0.92455,     0.92487,     0.92518,     0.92549,      0.9258,     0.92612,\n",
      "            0.92643,     0.92674,     0.92705,     0.92736,     0.92768,     0.92799,      0.9283,     0.92861,     0.92892,     0.92924,     0.92955,     0.92986,     0.93017,     0.93048,      0.9308,     0.93141,     0.93299,     0.93457,     0.93615,     0.93773,     0.93931,     0.94089,     0.94247,\n",
      "            0.94406,     0.94564,     0.94722,     0.94747,     0.94759,      0.9477,     0.94782,     0.94793,     0.94805,     0.94816,     0.94828,     0.94839,     0.94851,     0.94862,     0.94873,     0.94885,     0.94896,     0.94908,     0.94919,     0.94931,     0.94942,     0.94954,     0.94965,\n",
      "            0.94977,     0.94988,        0.95,     0.95011,     0.95023,     0.95034,     0.95046,     0.95057,     0.95069,      0.9508,     0.95091,     0.95103,     0.95114,     0.95126,     0.95137,     0.95149,      0.9516,     0.95172,     0.95183,     0.95195,     0.95206,     0.95218,     0.95229,\n",
      "            0.95241,     0.95252,     0.95264,     0.95275,     0.95287,     0.95298,      0.9531,     0.95321,     0.95332,     0.95344,     0.95355,     0.95367,     0.95378,      0.9539,     0.95401,     0.95413,     0.95424,     0.95436,     0.95447,     0.95459,      0.9547,     0.95482,     0.95493,\n",
      "            0.95505,     0.95516,     0.95528,     0.95539,     0.95551,     0.95562,     0.95573,     0.95585,     0.95596,     0.95608,     0.95619,     0.95631,     0.95642,     0.95654,     0.95665,     0.95677,     0.95688,       0.957,     0.95711,     0.95723,     0.95734,     0.95746,     0.95757,\n",
      "            0.95769,      0.9578,     0.95792,     0.95803,     0.95814,     0.95826,     0.95837,     0.95849,      0.9586,     0.95872,     0.95883,     0.95895,     0.95906,     0.95918,     0.95929,     0.95941,     0.95952,     0.95964,     0.95975,     0.95987,     0.95998,      0.9601,     0.96021,\n",
      "            0.96032,     0.96044,     0.96055,     0.96067,     0.96078,      0.9609,     0.96101,     0.96113,     0.96124,     0.96136,     0.96147,     0.96159,      0.9617,     0.96182,     0.96193,     0.96205,     0.96216,     0.96228,     0.96239,     0.96251,     0.96262,     0.96273,     0.96285,\n",
      "            0.96296,     0.96308,     0.96319,     0.96331,     0.96342,     0.96354,     0.96365,     0.96377,     0.96388,       0.964,     0.96411,     0.96423,     0.96433,     0.96441,     0.96449,     0.96458,     0.96466,     0.96474,     0.96483,     0.96491,     0.96499,     0.96508,     0.96516,\n",
      "            0.96524,     0.96533,     0.96541,     0.96549,     0.96558,     0.96566,     0.96574,     0.96583,     0.96591,     0.96599,     0.96608,     0.96616,     0.96624,     0.96633,     0.96641,     0.96649,     0.96658,     0.96666,     0.96674,     0.96682,     0.96691,     0.96699,     0.96707,\n",
      "            0.96716,     0.96724,     0.96732,     0.96741,     0.96749,     0.96757,     0.96766,     0.96774,     0.96782,     0.96791,     0.96799,     0.96807,     0.96816,     0.96824,     0.96832,     0.96841,     0.96849,     0.96857,     0.96866,     0.96874,     0.96882,     0.96891,     0.96899,\n",
      "            0.96907,     0.96916,     0.96924,     0.96932,     0.96941,     0.96949,     0.96957,     0.96966,     0.96974,     0.96982,     0.96991,     0.96999,     0.97007,     0.97016,     0.97024,     0.97032,     0.97041,     0.97049,     0.97057,     0.97066,     0.97074,     0.97082,     0.97091,\n",
      "            0.97099,     0.97107,     0.97116,     0.97124,     0.97132,     0.97141,     0.97149,     0.97157,     0.97166,     0.97174,     0.97182,     0.97191,     0.97199,     0.97207,     0.97216,     0.97224,     0.97232,     0.97241,     0.97249,     0.97257,     0.97266,     0.97274,     0.97282,\n",
      "            0.97291,     0.97299,     0.97307,     0.97316,     0.97324,     0.97332,      0.9734,     0.97349,     0.97357,     0.97365,     0.97374,     0.97382,      0.9739,     0.97399,     0.97407,     0.97415,     0.97424,     0.97432,      0.9744,     0.97449,     0.97457,     0.97465,     0.97474,\n",
      "            0.97482,      0.9749,     0.97499,     0.97507,     0.97515,     0.97524,     0.97532,      0.9754,     0.97549,     0.97557,     0.97565,     0.97574,     0.97582,      0.9759,     0.97599,     0.97607,     0.97615,     0.97624,     0.97632,      0.9764,     0.97649,     0.97657,     0.97665,\n",
      "            0.97674,     0.97682,      0.9769,     0.97699,     0.97707,     0.97715,     0.97724,     0.97732,      0.9774,     0.97749,     0.97757,     0.97765,     0.97774,     0.97782,      0.9779,     0.97799,     0.97807,     0.97815,     0.97824,     0.97832,      0.9784,     0.97849,     0.97857,\n",
      "            0.97865,     0.97874,     0.97882,      0.9789,     0.97899,     0.97907,     0.97915,     0.97924,     0.97932,      0.9794,     0.97949,     0.97957,     0.97965,     0.97974,     0.97982,      0.9799,     0.97999,     0.98007,     0.98015,     0.98023,     0.98032,      0.9804,     0.98048,\n",
      "            0.98057,     0.98065,     0.98073,     0.98082,      0.9809,     0.98098,     0.98107,     0.98115,     0.98123,     0.98132,      0.9814,     0.98148,     0.98157,     0.98165,     0.98173,     0.98182,      0.9818,     0.98179,     0.98177,     0.98176,     0.98174,     0.98173,     0.98172,\n",
      "             0.9817,     0.98169,     0.98167,     0.98166,     0.98164,     0.98163,     0.98161,      0.9816,     0.98158,     0.98157,     0.98155,     0.98154,     0.98152,     0.98151,     0.98149,     0.98151,     0.98168,     0.98186,     0.98203,     0.98221,     0.98238,     0.98256,     0.98273,\n",
      "            0.98291,     0.98308,     0.98326,     0.98343,      0.9836,     0.98378,     0.98395,     0.98413,      0.9843,     0.98448,     0.98465,     0.98483,       0.985,     0.98518,     0.98535,     0.98553,      0.9857,     0.98587,     0.98605,     0.98622,      0.9864,     0.98657,     0.98675,\n",
      "            0.98692,      0.9871,     0.98727,     0.98745,     0.98762,      0.9878,     0.98797,     0.98814,     0.98832,     0.98849,     0.98867,     0.98884,     0.98902,     0.98919,     0.98937,     0.98954,     0.98972,     0.98989,     0.99007,     0.99024,     0.99041,     0.99059,     0.99076,\n",
      "            0.99094,     0.99111,     0.99129,     0.99146,     0.99164,     0.99181,     0.99199,     0.99216,     0.99234,     0.99251,     0.99269,     0.99286,     0.99303,     0.99321,     0.99338,     0.99356,     0.99373,     0.99391,     0.99408,     0.99426,     0.99443,     0.99461,     0.99478,\n",
      "            0.99496,     0.99513,      0.9953,     0.99548,     0.99565,     0.99583,       0.996,     0.99618,     0.99635,     0.99653,      0.9967,     0.99688,     0.99705,     0.99723,      0.9974,     0.99757,     0.99775,     0.99792,      0.9981,     0.99827,     0.99845,     0.99862,      0.9988,\n",
      "            0.99897,     0.99915,     0.99932,      0.9995,     0.99967,     0.99984,           1,           1,           1,           1,           1,           1,           1,           1,           1,           1,           1,           1,           1,           1,           1,           1,           1,\n",
      "                  1,           1,           1,           1,           1,           1,           1,           1,           1,           1,           1,           1,           1,           1,           1,           1,           1,           1,           1,           1,           1,           1,           1,\n",
      "                  1,           1,           1,           1,           1,           1,           1,           1,           1,           1,           1,           1,           1,           1,           1,           1,           1,           1,           1,           1,           1,           1,           1,\n",
      "                  1,           1,           1,           1,           1,           1,           1,           1,           1,           1,           1,           1,           1,           1,           1,           1,           1,           1,           1,           1,           1,           1,           1,\n",
      "                  1,           1,           1,           1,           1,           1,           1,           1,           1,           1,           1,           1,           1,           1,           1,           1,           1,           1,           1,           1,           1,           1,           1,\n",
      "                  1,           1,           1,           1,           1,           1,           1,           1,           1,           1,           1]]), 'Confidence', 'Precision'], [array([          0,    0.001001,    0.002002,    0.003003,    0.004004,    0.005005,    0.006006,    0.007007,    0.008008,    0.009009,     0.01001,    0.011011,    0.012012,    0.013013,    0.014014,    0.015015,    0.016016,    0.017017,    0.018018,    0.019019,     0.02002,    0.021021,    0.022022,    0.023023,\n",
      "          0.024024,    0.025025,    0.026026,    0.027027,    0.028028,    0.029029,     0.03003,    0.031031,    0.032032,    0.033033,    0.034034,    0.035035,    0.036036,    0.037037,    0.038038,    0.039039,     0.04004,    0.041041,    0.042042,    0.043043,    0.044044,    0.045045,    0.046046,    0.047047,\n",
      "          0.048048,    0.049049,     0.05005,    0.051051,    0.052052,    0.053053,    0.054054,    0.055055,    0.056056,    0.057057,    0.058058,    0.059059,     0.06006,    0.061061,    0.062062,    0.063063,    0.064064,    0.065065,    0.066066,    0.067067,    0.068068,    0.069069,     0.07007,    0.071071,\n",
      "          0.072072,    0.073073,    0.074074,    0.075075,    0.076076,    0.077077,    0.078078,    0.079079,     0.08008,    0.081081,    0.082082,    0.083083,    0.084084,    0.085085,    0.086086,    0.087087,    0.088088,    0.089089,     0.09009,    0.091091,    0.092092,    0.093093,    0.094094,    0.095095,\n",
      "          0.096096,    0.097097,    0.098098,    0.099099,      0.1001,      0.1011,      0.1021,      0.1031,      0.1041,     0.10511,     0.10611,     0.10711,     0.10811,     0.10911,     0.11011,     0.11111,     0.11211,     0.11311,     0.11411,     0.11512,     0.11612,     0.11712,     0.11812,     0.11912,\n",
      "           0.12012,     0.12112,     0.12212,     0.12312,     0.12412,     0.12513,     0.12613,     0.12713,     0.12813,     0.12913,     0.13013,     0.13113,     0.13213,     0.13313,     0.13413,     0.13514,     0.13614,     0.13714,     0.13814,     0.13914,     0.14014,     0.14114,     0.14214,     0.14314,\n",
      "           0.14414,     0.14515,     0.14615,     0.14715,     0.14815,     0.14915,     0.15015,     0.15115,     0.15215,     0.15315,     0.15415,     0.15516,     0.15616,     0.15716,     0.15816,     0.15916,     0.16016,     0.16116,     0.16216,     0.16316,     0.16416,     0.16517,     0.16617,     0.16717,\n",
      "           0.16817,     0.16917,     0.17017,     0.17117,     0.17217,     0.17317,     0.17417,     0.17518,     0.17618,     0.17718,     0.17818,     0.17918,     0.18018,     0.18118,     0.18218,     0.18318,     0.18418,     0.18519,     0.18619,     0.18719,     0.18819,     0.18919,     0.19019,     0.19119,\n",
      "           0.19219,     0.19319,     0.19419,      0.1952,      0.1962,      0.1972,      0.1982,      0.1992,      0.2002,      0.2012,      0.2022,      0.2032,      0.2042,     0.20521,     0.20621,     0.20721,     0.20821,     0.20921,     0.21021,     0.21121,     0.21221,     0.21321,     0.21421,     0.21522,\n",
      "           0.21622,     0.21722,     0.21822,     0.21922,     0.22022,     0.22122,     0.22222,     0.22322,     0.22422,     0.22523,     0.22623,     0.22723,     0.22823,     0.22923,     0.23023,     0.23123,     0.23223,     0.23323,     0.23423,     0.23524,     0.23624,     0.23724,     0.23824,     0.23924,\n",
      "           0.24024,     0.24124,     0.24224,     0.24324,     0.24424,     0.24525,     0.24625,     0.24725,     0.24825,     0.24925,     0.25025,     0.25125,     0.25225,     0.25325,     0.25425,     0.25526,     0.25626,     0.25726,     0.25826,     0.25926,     0.26026,     0.26126,     0.26226,     0.26326,\n",
      "           0.26426,     0.26527,     0.26627,     0.26727,     0.26827,     0.26927,     0.27027,     0.27127,     0.27227,     0.27327,     0.27427,     0.27528,     0.27628,     0.27728,     0.27828,     0.27928,     0.28028,     0.28128,     0.28228,     0.28328,     0.28428,     0.28529,     0.28629,     0.28729,\n",
      "           0.28829,     0.28929,     0.29029,     0.29129,     0.29229,     0.29329,     0.29429,      0.2953,      0.2963,      0.2973,      0.2983,      0.2993,      0.3003,      0.3013,      0.3023,      0.3033,      0.3043,     0.30531,     0.30631,     0.30731,     0.30831,     0.30931,     0.31031,     0.31131,\n",
      "           0.31231,     0.31331,     0.31431,     0.31532,     0.31632,     0.31732,     0.31832,     0.31932,     0.32032,     0.32132,     0.32232,     0.32332,     0.32432,     0.32533,     0.32633,     0.32733,     0.32833,     0.32933,     0.33033,     0.33133,     0.33233,     0.33333,     0.33433,     0.33534,\n",
      "           0.33634,     0.33734,     0.33834,     0.33934,     0.34034,     0.34134,     0.34234,     0.34334,     0.34434,     0.34535,     0.34635,     0.34735,     0.34835,     0.34935,     0.35035,     0.35135,     0.35235,     0.35335,     0.35435,     0.35536,     0.35636,     0.35736,     0.35836,     0.35936,\n",
      "           0.36036,     0.36136,     0.36236,     0.36336,     0.36436,     0.36537,     0.36637,     0.36737,     0.36837,     0.36937,     0.37037,     0.37137,     0.37237,     0.37337,     0.37437,     0.37538,     0.37638,     0.37738,     0.37838,     0.37938,     0.38038,     0.38138,     0.38238,     0.38338,\n",
      "           0.38438,     0.38539,     0.38639,     0.38739,     0.38839,     0.38939,     0.39039,     0.39139,     0.39239,     0.39339,     0.39439,      0.3954,      0.3964,      0.3974,      0.3984,      0.3994,      0.4004,      0.4014,      0.4024,      0.4034,      0.4044,     0.40541,     0.40641,     0.40741,\n",
      "           0.40841,     0.40941,     0.41041,     0.41141,     0.41241,     0.41341,     0.41441,     0.41542,     0.41642,     0.41742,     0.41842,     0.41942,     0.42042,     0.42142,     0.42242,     0.42342,     0.42442,     0.42543,     0.42643,     0.42743,     0.42843,     0.42943,     0.43043,     0.43143,\n",
      "           0.43243,     0.43343,     0.43443,     0.43544,     0.43644,     0.43744,     0.43844,     0.43944,     0.44044,     0.44144,     0.44244,     0.44344,     0.44444,     0.44545,     0.44645,     0.44745,     0.44845,     0.44945,     0.45045,     0.45145,     0.45245,     0.45345,     0.45445,     0.45546,\n",
      "           0.45646,     0.45746,     0.45846,     0.45946,     0.46046,     0.46146,     0.46246,     0.46346,     0.46446,     0.46547,     0.46647,     0.46747,     0.46847,     0.46947,     0.47047,     0.47147,     0.47247,     0.47347,     0.47447,     0.47548,     0.47648,     0.47748,     0.47848,     0.47948,\n",
      "           0.48048,     0.48148,     0.48248,     0.48348,     0.48448,     0.48549,     0.48649,     0.48749,     0.48849,     0.48949,     0.49049,     0.49149,     0.49249,     0.49349,     0.49449,      0.4955,      0.4965,      0.4975,      0.4985,      0.4995,      0.5005,      0.5015,      0.5025,      0.5035,\n",
      "            0.5045,     0.50551,     0.50651,     0.50751,     0.50851,     0.50951,     0.51051,     0.51151,     0.51251,     0.51351,     0.51451,     0.51552,     0.51652,     0.51752,     0.51852,     0.51952,     0.52052,     0.52152,     0.52252,     0.52352,     0.52452,     0.52553,     0.52653,     0.52753,\n",
      "           0.52853,     0.52953,     0.53053,     0.53153,     0.53253,     0.53353,     0.53453,     0.53554,     0.53654,     0.53754,     0.53854,     0.53954,     0.54054,     0.54154,     0.54254,     0.54354,     0.54454,     0.54555,     0.54655,     0.54755,     0.54855,     0.54955,     0.55055,     0.55155,\n",
      "           0.55255,     0.55355,     0.55455,     0.55556,     0.55656,     0.55756,     0.55856,     0.55956,     0.56056,     0.56156,     0.56256,     0.56356,     0.56456,     0.56557,     0.56657,     0.56757,     0.56857,     0.56957,     0.57057,     0.57157,     0.57257,     0.57357,     0.57457,     0.57558,\n",
      "           0.57658,     0.57758,     0.57858,     0.57958,     0.58058,     0.58158,     0.58258,     0.58358,     0.58458,     0.58559,     0.58659,     0.58759,     0.58859,     0.58959,     0.59059,     0.59159,     0.59259,     0.59359,     0.59459,      0.5956,      0.5966,      0.5976,      0.5986,      0.5996,\n",
      "            0.6006,      0.6016,      0.6026,      0.6036,      0.6046,     0.60561,     0.60661,     0.60761,     0.60861,     0.60961,     0.61061,     0.61161,     0.61261,     0.61361,     0.61461,     0.61562,     0.61662,     0.61762,     0.61862,     0.61962,     0.62062,     0.62162,     0.62262,     0.62362,\n",
      "           0.62462,     0.62563,     0.62663,     0.62763,     0.62863,     0.62963,     0.63063,     0.63163,     0.63263,     0.63363,     0.63463,     0.63564,     0.63664,     0.63764,     0.63864,     0.63964,     0.64064,     0.64164,     0.64264,     0.64364,     0.64464,     0.64565,     0.64665,     0.64765,\n",
      "           0.64865,     0.64965,     0.65065,     0.65165,     0.65265,     0.65365,     0.65465,     0.65566,     0.65666,     0.65766,     0.65866,     0.65966,     0.66066,     0.66166,     0.66266,     0.66366,     0.66466,     0.66567,     0.66667,     0.66767,     0.66867,     0.66967,     0.67067,     0.67167,\n",
      "           0.67267,     0.67367,     0.67467,     0.67568,     0.67668,     0.67768,     0.67868,     0.67968,     0.68068,     0.68168,     0.68268,     0.68368,     0.68468,     0.68569,     0.68669,     0.68769,     0.68869,     0.68969,     0.69069,     0.69169,     0.69269,     0.69369,     0.69469,      0.6957,\n",
      "            0.6967,      0.6977,      0.6987,      0.6997,      0.7007,      0.7017,      0.7027,      0.7037,      0.7047,     0.70571,     0.70671,     0.70771,     0.70871,     0.70971,     0.71071,     0.71171,     0.71271,     0.71371,     0.71471,     0.71572,     0.71672,     0.71772,     0.71872,     0.71972,\n",
      "           0.72072,     0.72172,     0.72272,     0.72372,     0.72472,     0.72573,     0.72673,     0.72773,     0.72873,     0.72973,     0.73073,     0.73173,     0.73273,     0.73373,     0.73473,     0.73574,     0.73674,     0.73774,     0.73874,     0.73974,     0.74074,     0.74174,     0.74274,     0.74374,\n",
      "           0.74474,     0.74575,     0.74675,     0.74775,     0.74875,     0.74975,     0.75075,     0.75175,     0.75275,     0.75375,     0.75475,     0.75576,     0.75676,     0.75776,     0.75876,     0.75976,     0.76076,     0.76176,     0.76276,     0.76376,     0.76476,     0.76577,     0.76677,     0.76777,\n",
      "           0.76877,     0.76977,     0.77077,     0.77177,     0.77277,     0.77377,     0.77477,     0.77578,     0.77678,     0.77778,     0.77878,     0.77978,     0.78078,     0.78178,     0.78278,     0.78378,     0.78478,     0.78579,     0.78679,     0.78779,     0.78879,     0.78979,     0.79079,     0.79179,\n",
      "           0.79279,     0.79379,     0.79479,      0.7958,      0.7968,      0.7978,      0.7988,      0.7998,      0.8008,      0.8018,      0.8028,      0.8038,      0.8048,     0.80581,     0.80681,     0.80781,     0.80881,     0.80981,     0.81081,     0.81181,     0.81281,     0.81381,     0.81481,     0.81582,\n",
      "           0.81682,     0.81782,     0.81882,     0.81982,     0.82082,     0.82182,     0.82282,     0.82382,     0.82482,     0.82583,     0.82683,     0.82783,     0.82883,     0.82983,     0.83083,     0.83183,     0.83283,     0.83383,     0.83483,     0.83584,     0.83684,     0.83784,     0.83884,     0.83984,\n",
      "           0.84084,     0.84184,     0.84284,     0.84384,     0.84484,     0.84585,     0.84685,     0.84785,     0.84885,     0.84985,     0.85085,     0.85185,     0.85285,     0.85385,     0.85485,     0.85586,     0.85686,     0.85786,     0.85886,     0.85986,     0.86086,     0.86186,     0.86286,     0.86386,\n",
      "           0.86486,     0.86587,     0.86687,     0.86787,     0.86887,     0.86987,     0.87087,     0.87187,     0.87287,     0.87387,     0.87487,     0.87588,     0.87688,     0.87788,     0.87888,     0.87988,     0.88088,     0.88188,     0.88288,     0.88388,     0.88488,     0.88589,     0.88689,     0.88789,\n",
      "           0.88889,     0.88989,     0.89089,     0.89189,     0.89289,     0.89389,     0.89489,      0.8959,      0.8969,      0.8979,      0.8989,      0.8999,      0.9009,      0.9019,      0.9029,      0.9039,      0.9049,     0.90591,     0.90691,     0.90791,     0.90891,     0.90991,     0.91091,     0.91191,\n",
      "           0.91291,     0.91391,     0.91491,     0.91592,     0.91692,     0.91792,     0.91892,     0.91992,     0.92092,     0.92192,     0.92292,     0.92392,     0.92492,     0.92593,     0.92693,     0.92793,     0.92893,     0.92993,     0.93093,     0.93193,     0.93293,     0.93393,     0.93493,     0.93594,\n",
      "           0.93694,     0.93794,     0.93894,     0.93994,     0.94094,     0.94194,     0.94294,     0.94394,     0.94494,     0.94595,     0.94695,     0.94795,     0.94895,     0.94995,     0.95095,     0.95195,     0.95295,     0.95395,     0.95495,     0.95596,     0.95696,     0.95796,     0.95896,     0.95996,\n",
      "           0.96096,     0.96196,     0.96296,     0.96396,     0.96496,     0.96597,     0.96697,     0.96797,     0.96897,     0.96997,     0.97097,     0.97197,     0.97297,     0.97397,     0.97497,     0.97598,     0.97698,     0.97798,     0.97898,     0.97998,     0.98098,     0.98198,     0.98298,     0.98398,\n",
      "           0.98498,     0.98599,     0.98699,     0.98799,     0.98899,     0.98999,     0.99099,     0.99199,     0.99299,     0.99399,     0.99499,       0.996,       0.997,       0.998,       0.999,           1]), array([[     0.9661,      0.9661,      0.9661,     0.94915,     0.94915,      0.9322,      0.9322,      0.9322,     0.91525,     0.91525,     0.91525,     0.91525,     0.91525,     0.91525,     0.91525,     0.91525,     0.91525,     0.91525,     0.91525,     0.91525,     0.91525,     0.91525,     0.91525,\n",
      "            0.91525,     0.91525,     0.91525,     0.91525,     0.91525,     0.91525,     0.91525,     0.91525,     0.91525,     0.91525,     0.91525,     0.91525,     0.91525,     0.91525,     0.91525,     0.91525,     0.91525,     0.91525,     0.91525,     0.91525,     0.91525,     0.91525,     0.91525,\n",
      "            0.91525,     0.91525,     0.91525,     0.91525,     0.91525,     0.91525,     0.91525,     0.91525,     0.91525,     0.91525,     0.91525,     0.91525,     0.91525,     0.91525,     0.91525,     0.91525,     0.91525,     0.91525,     0.91525,     0.91525,     0.91525,     0.91525,     0.91525,\n",
      "            0.91525,     0.91525,     0.91525,     0.91525,     0.91525,     0.91525,     0.91525,     0.91525,     0.91525,     0.91525,     0.91525,     0.91525,     0.91525,     0.91525,     0.91525,     0.91525,     0.91525,     0.91525,     0.91525,     0.91525,     0.91525,     0.91525,     0.91525,\n",
      "            0.91525,     0.91525,     0.91525,     0.91525,     0.91525,     0.91525,     0.91525,     0.91525,     0.91525,     0.91525,     0.91525,     0.91525,     0.91525,     0.91525,     0.91525,     0.91525,     0.91525,     0.91525,     0.91525,     0.91525,     0.91525,     0.91525,     0.91525,\n",
      "            0.91525,     0.91525,     0.91525,     0.91525,     0.91525,     0.91525,     0.91525,     0.91525,     0.91525,     0.91525,     0.91525,     0.91525,     0.91525,     0.91525,     0.91525,     0.91525,     0.91525,     0.91525,     0.91525,     0.91525,     0.91525,     0.91525,     0.91525,\n",
      "            0.91525,     0.91525,     0.91525,     0.91525,     0.91525,     0.91525,     0.91525,     0.91525,     0.91525,     0.91525,     0.91525,     0.91525,     0.91525,     0.91525,     0.91525,     0.91525,     0.91525,     0.91525,     0.91525,     0.91525,     0.91525,     0.91525,     0.91525,\n",
      "            0.91525,     0.91525,     0.91525,     0.91525,     0.91525,     0.91525,     0.91525,     0.91525,     0.91525,     0.91525,     0.91525,     0.91525,     0.91525,     0.91525,     0.91525,     0.91525,     0.91525,     0.91525,     0.91525,     0.91525,     0.91525,     0.91525,     0.91525,\n",
      "            0.91525,     0.91525,     0.91525,     0.91525,     0.91525,     0.91525,     0.91525,     0.91525,     0.91525,     0.91525,     0.91525,     0.91525,     0.91525,     0.91525,     0.91525,     0.91525,     0.91525,     0.91525,     0.91525,     0.91525,     0.91525,     0.91525,     0.91525,\n",
      "            0.91525,     0.91525,     0.91525,     0.91525,     0.91525,     0.91525,     0.91525,     0.91525,     0.91525,     0.91525,     0.91525,     0.91525,     0.91525,     0.91525,     0.91525,     0.91525,     0.91525,     0.91525,     0.91525,     0.91525,     0.91525,     0.91525,     0.91525,\n",
      "            0.91525,     0.91525,     0.91525,     0.91525,     0.91525,     0.91525,     0.91525,     0.91525,     0.91525,     0.91525,     0.91525,     0.91525,     0.91525,     0.91525,     0.91525,     0.91525,     0.91525,     0.91525,     0.91525,     0.91525,     0.91525,     0.91525,     0.91525,\n",
      "            0.91525,     0.91525,     0.91525,     0.91525,     0.91525,     0.91525,     0.91525,     0.91525,     0.91525,     0.91525,     0.91525,     0.91525,     0.91525,     0.91525,     0.91525,     0.91525,     0.91525,     0.91525,     0.91525,     0.91525,     0.91525,     0.91525,     0.91525,\n",
      "            0.91525,     0.91525,     0.91525,     0.91525,     0.91525,     0.91525,     0.91525,     0.91525,     0.91525,     0.91525,     0.91525,     0.91525,     0.91525,     0.91525,     0.91525,     0.91525,     0.91525,     0.91525,     0.91525,     0.91525,     0.91525,     0.91525,     0.91525,\n",
      "            0.91525,     0.91525,     0.91525,     0.91525,     0.91525,     0.91525,     0.91525,     0.91525,     0.91525,     0.91525,     0.91525,     0.91525,     0.91525,     0.91525,     0.91525,     0.91525,     0.91525,     0.91525,     0.91525,     0.91525,     0.91525,     0.91525,     0.91525,\n",
      "            0.91525,     0.91525,     0.91525,     0.91525,     0.91525,     0.91525,     0.91525,     0.91525,     0.91525,     0.91525,     0.91525,     0.91525,     0.91525,     0.91525,     0.91525,     0.91525,     0.91525,     0.91525,     0.91525,     0.91525,     0.91525,     0.91525,     0.91525,\n",
      "            0.91525,     0.91525,     0.91525,     0.91525,     0.91525,     0.91525,     0.91525,     0.91525,     0.91525,     0.91525,     0.91525,     0.91525,     0.91525,     0.91525,     0.91525,     0.91525,     0.91525,     0.91525,     0.91525,     0.91525,     0.91525,     0.91525,     0.91525,\n",
      "            0.91525,     0.91525,     0.91525,     0.91525,     0.91525,     0.91525,     0.91525,     0.91525,     0.91525,     0.91525,     0.91525,     0.91525,     0.91525,     0.91525,     0.91525,     0.91525,     0.91525,     0.91525,     0.91525,     0.91525,     0.91525,     0.91525,     0.91525,\n",
      "            0.91525,     0.91525,     0.91525,     0.91525,     0.91525,     0.91525,     0.91525,     0.91525,     0.91525,     0.91525,     0.91525,     0.91525,     0.91525,     0.91525,     0.91525,     0.91525,     0.91525,     0.91525,     0.91525,     0.91525,     0.91525,     0.91525,     0.91525,\n",
      "            0.91525,     0.91525,     0.91525,     0.91525,     0.91525,     0.91525,     0.91525,     0.91525,     0.91525,     0.91525,     0.91525,     0.91525,     0.91525,     0.91525,     0.91525,     0.91525,     0.91525,     0.91525,     0.91525,     0.91525,     0.91525,     0.91525,     0.91525,\n",
      "            0.91525,     0.91525,     0.91525,     0.91525,     0.91525,     0.91525,     0.91525,     0.91525,     0.91525,     0.91525,     0.91525,     0.91525,     0.91525,     0.91525,     0.91525,     0.91525,     0.91525,     0.91525,     0.91525,     0.91525,     0.91525,     0.91525,     0.91525,\n",
      "            0.91525,     0.91525,     0.91525,     0.91525,     0.91525,     0.91525,     0.91525,     0.91525,     0.91525,     0.91525,     0.91525,     0.91525,     0.91525,     0.91525,     0.91525,     0.91525,     0.91525,     0.91525,     0.91525,     0.91525,     0.91525,     0.91525,     0.91525,\n",
      "            0.91525,     0.91525,     0.91525,     0.91525,     0.91525,     0.91525,     0.91525,     0.91525,     0.91525,     0.91525,     0.91525,     0.91525,     0.91525,     0.91525,     0.91525,     0.91525,     0.91525,     0.91525,     0.91525,     0.91525,     0.91525,     0.91525,     0.91525,\n",
      "            0.91525,     0.91525,     0.91525,     0.91525,     0.91525,     0.91525,     0.91525,     0.91525,     0.91525,     0.91525,     0.91525,     0.91525,     0.91525,     0.91525,     0.91525,     0.91525,     0.91525,     0.91525,     0.91525,     0.91525,     0.91525,     0.91525,     0.91525,\n",
      "            0.91525,     0.91525,     0.91525,     0.91525,     0.91525,     0.91525,     0.91525,     0.91525,     0.91525,     0.91525,     0.91525,     0.91525,     0.91525,     0.91525,     0.91525,     0.91525,     0.91525,     0.91525,     0.91525,     0.91525,     0.91525,     0.91525,     0.91525,\n",
      "            0.91525,     0.91525,     0.91525,     0.91525,     0.91525,     0.91525,     0.91525,     0.91525,     0.91525,     0.91525,     0.91525,     0.91525,     0.91525,     0.91525,     0.91525,     0.91525,     0.91525,     0.91525,     0.91525,     0.91525,     0.91525,     0.91525,     0.91525,\n",
      "            0.91525,     0.91525,     0.91525,     0.91525,     0.91525,     0.91525,     0.91525,     0.91525,     0.91525,     0.91525,     0.91525,     0.91525,     0.91525,     0.91525,     0.91525,     0.91525,     0.91525,     0.91525,     0.91525,     0.91525,     0.91525,     0.91525,     0.91525,\n",
      "            0.91525,     0.91525,     0.91525,     0.91525,     0.91525,     0.91525,     0.91525,     0.91525,     0.91525,     0.91525,     0.91525,     0.91525,     0.91525,     0.91525,     0.91525,     0.91525,     0.91525,     0.91525,     0.91525,     0.91525,     0.91525,     0.91525,     0.91525,\n",
      "            0.91525,     0.91525,     0.91525,     0.91525,     0.91525,     0.91525,     0.91525,     0.91525,     0.91525,     0.91525,     0.91525,     0.91525,     0.91525,     0.91525,     0.91525,     0.91525,     0.91525,     0.91525,     0.91525,     0.91525,     0.91525,     0.91525,     0.91525,\n",
      "            0.91525,     0.91525,     0.91525,     0.91525,     0.91525,     0.91525,     0.91525,     0.91525,     0.91525,     0.91525,     0.91525,     0.91525,     0.91525,     0.91525,     0.91525,     0.91525,     0.91525,     0.91525,     0.91525,     0.91525,     0.91525,     0.91525,     0.91525,\n",
      "            0.91525,     0.91525,     0.91525,     0.91525,     0.91525,     0.91525,     0.91525,     0.91525,     0.91525,     0.91525,     0.91525,     0.91525,     0.91525,     0.91525,     0.91525,     0.91525,     0.91525,     0.91525,     0.91525,     0.91525,     0.91525,     0.91525,     0.91525,\n",
      "            0.91525,     0.91525,     0.91525,     0.91525,     0.91525,     0.91525,     0.91525,     0.91525,     0.91525,     0.91525,     0.91525,     0.91525,     0.91525,     0.91525,     0.91525,     0.91525,     0.91525,     0.91525,     0.91525,     0.91525,     0.91525,     0.91525,     0.91525,\n",
      "            0.91525,     0.91525,     0.91525,     0.91525,     0.91525,     0.91525,     0.91525,     0.91525,     0.91525,     0.91525,     0.91525,     0.91525,     0.91525,     0.91525,     0.91525,     0.91525,     0.91525,     0.91525,     0.91525,     0.91525,     0.91525,     0.91525,     0.91525,\n",
      "            0.91525,     0.91525,     0.91525,     0.91525,     0.91525,     0.91525,     0.91525,     0.91525,     0.91525,     0.91525,     0.91525,     0.91525,     0.91525,     0.91525,     0.91525,     0.91525,     0.91452,     0.91378,     0.91303,     0.91229,     0.91155,     0.91081,     0.91006,\n",
      "            0.90932,     0.90858,     0.90784,      0.9071,     0.90635,     0.90561,     0.90487,     0.90413,     0.90338,     0.90264,      0.9019,     0.90116,     0.90041,     0.89967,     0.89893,     0.89831,     0.89831,     0.89831,     0.89831,     0.89831,     0.89831,     0.89831,     0.89831,\n",
      "            0.89831,     0.89831,     0.89831,     0.89831,     0.89831,     0.89831,     0.89831,     0.89831,     0.89831,     0.89831,     0.89831,     0.89831,     0.89831,     0.89831,     0.89831,     0.89831,     0.89831,     0.89831,     0.89831,     0.89831,     0.89831,     0.89831,     0.89831,\n",
      "            0.89831,     0.89831,     0.89831,     0.89831,     0.89831,     0.89831,     0.89831,     0.89831,     0.89831,     0.89831,     0.89831,     0.89831,     0.89831,     0.89831,     0.89831,     0.89831,     0.89831,     0.89831,     0.89831,     0.89831,     0.89831,     0.89831,     0.89831,\n",
      "            0.89831,     0.89831,     0.89831,     0.89831,     0.89831,     0.89831,     0.89831,     0.89831,     0.89831,     0.89831,     0.89831,     0.89831,     0.89831,     0.89831,     0.89831,     0.89831,     0.89831,     0.89831,     0.89831,     0.89831,     0.89831,     0.89831,     0.89831,\n",
      "            0.89831,     0.89831,     0.89831,     0.89831,     0.89831,     0.89831,     0.89831,     0.89831,     0.89831,     0.89831,     0.89831,     0.89831,     0.89831,     0.89831,     0.89831,     0.89831,     0.89831,     0.89831,     0.89831,     0.89831,     0.89831,     0.89831,     0.89831,\n",
      "            0.89831,     0.89831,     0.89831,     0.89831,     0.89831,     0.89831,     0.89687,     0.88395,     0.88053,     0.87949,     0.87845,     0.87742,     0.87638,     0.87535,     0.87431,     0.87327,     0.87224,      0.8712,     0.87017,     0.86913,     0.86809,     0.86706,     0.86602,\n",
      "            0.86498,     0.86364,      0.8619,     0.86017,     0.85843,      0.8567,     0.85496,     0.85323,     0.85149,     0.84976,     0.84802,     0.84628,     0.84453,     0.84278,     0.84103,     0.83928,     0.83753,     0.83578,     0.83403,     0.83228,     0.83054,     0.82697,     0.82338,\n",
      "            0.81978,     0.81619,     0.81218,     0.80705,     0.80192,      0.7968,     0.77863,     0.77508,     0.77153,     0.76797,     0.76442,     0.75704,     0.74611,     0.74284,     0.73982,      0.7368,     0.73378,     0.73076,     0.71094,     0.70597,     0.70099,     0.69602,     0.69141,\n",
      "            0.68692,     0.68242,     0.67773,     0.65749,     0.64628,      0.6376,     0.62953,     0.62412,     0.61984,     0.61556,     0.61127,     0.58134,     0.57168,     0.56565,     0.55963,     0.53855,     0.53312,     0.52769,     0.51245,     0.45493,     0.44605,     0.43619,     0.42482,\n",
      "             0.4136,     0.40394,     0.39669,      0.3875,      0.3583,     0.27959,     0.26469,     0.25507,     0.21292,     0.19714,      0.1817,     0.17161,     0.10184,    0.089156,    0.062991,    0.044306,    0.033489,    0.029754,    0.026019,    0.022284,    0.018549,           0,           0,\n",
      "                  0,           0,           0,           0,           0,           0,           0,           0,           0,           0,           0]]), 'Confidence', 'Recall'], [array([          0,    0.001001,    0.002002,    0.003003,    0.004004,    0.005005,    0.006006,    0.007007,    0.008008,    0.009009,     0.01001,    0.011011,    0.012012,    0.013013,    0.014014,    0.015015,    0.016016,    0.017017,    0.018018,    0.019019,     0.02002,    0.021021,    0.022022,    0.023023,\n",
      "          0.024024,    0.025025,    0.026026,    0.027027,    0.028028,    0.029029,     0.03003,    0.031031,    0.032032,    0.033033,    0.034034,    0.035035,    0.036036,    0.037037,    0.038038,    0.039039,     0.04004,    0.041041,    0.042042,    0.043043,    0.044044,    0.045045,    0.046046,    0.047047,\n",
      "          0.048048,    0.049049,     0.05005,    0.051051,    0.052052,    0.053053,    0.054054,    0.055055,    0.056056,    0.057057,    0.058058,    0.059059,     0.06006,    0.061061,    0.062062,    0.063063,    0.064064,    0.065065,    0.066066,    0.067067,    0.068068,    0.069069,     0.07007,    0.071071,\n",
      "          0.072072,    0.073073,    0.074074,    0.075075,    0.076076,    0.077077,    0.078078,    0.079079,     0.08008,    0.081081,    0.082082,    0.083083,    0.084084,    0.085085,    0.086086,    0.087087,    0.088088,    0.089089,     0.09009,    0.091091,    0.092092,    0.093093,    0.094094,    0.095095,\n",
      "          0.096096,    0.097097,    0.098098,    0.099099,      0.1001,      0.1011,      0.1021,      0.1031,      0.1041,     0.10511,     0.10611,     0.10711,     0.10811,     0.10911,     0.11011,     0.11111,     0.11211,     0.11311,     0.11411,     0.11512,     0.11612,     0.11712,     0.11812,     0.11912,\n",
      "           0.12012,     0.12112,     0.12212,     0.12312,     0.12412,     0.12513,     0.12613,     0.12713,     0.12813,     0.12913,     0.13013,     0.13113,     0.13213,     0.13313,     0.13413,     0.13514,     0.13614,     0.13714,     0.13814,     0.13914,     0.14014,     0.14114,     0.14214,     0.14314,\n",
      "           0.14414,     0.14515,     0.14615,     0.14715,     0.14815,     0.14915,     0.15015,     0.15115,     0.15215,     0.15315,     0.15415,     0.15516,     0.15616,     0.15716,     0.15816,     0.15916,     0.16016,     0.16116,     0.16216,     0.16316,     0.16416,     0.16517,     0.16617,     0.16717,\n",
      "           0.16817,     0.16917,     0.17017,     0.17117,     0.17217,     0.17317,     0.17417,     0.17518,     0.17618,     0.17718,     0.17818,     0.17918,     0.18018,     0.18118,     0.18218,     0.18318,     0.18418,     0.18519,     0.18619,     0.18719,     0.18819,     0.18919,     0.19019,     0.19119,\n",
      "           0.19219,     0.19319,     0.19419,      0.1952,      0.1962,      0.1972,      0.1982,      0.1992,      0.2002,      0.2012,      0.2022,      0.2032,      0.2042,     0.20521,     0.20621,     0.20721,     0.20821,     0.20921,     0.21021,     0.21121,     0.21221,     0.21321,     0.21421,     0.21522,\n",
      "           0.21622,     0.21722,     0.21822,     0.21922,     0.22022,     0.22122,     0.22222,     0.22322,     0.22422,     0.22523,     0.22623,     0.22723,     0.22823,     0.22923,     0.23023,     0.23123,     0.23223,     0.23323,     0.23423,     0.23524,     0.23624,     0.23724,     0.23824,     0.23924,\n",
      "           0.24024,     0.24124,     0.24224,     0.24324,     0.24424,     0.24525,     0.24625,     0.24725,     0.24825,     0.24925,     0.25025,     0.25125,     0.25225,     0.25325,     0.25425,     0.25526,     0.25626,     0.25726,     0.25826,     0.25926,     0.26026,     0.26126,     0.26226,     0.26326,\n",
      "           0.26426,     0.26527,     0.26627,     0.26727,     0.26827,     0.26927,     0.27027,     0.27127,     0.27227,     0.27327,     0.27427,     0.27528,     0.27628,     0.27728,     0.27828,     0.27928,     0.28028,     0.28128,     0.28228,     0.28328,     0.28428,     0.28529,     0.28629,     0.28729,\n",
      "           0.28829,     0.28929,     0.29029,     0.29129,     0.29229,     0.29329,     0.29429,      0.2953,      0.2963,      0.2973,      0.2983,      0.2993,      0.3003,      0.3013,      0.3023,      0.3033,      0.3043,     0.30531,     0.30631,     0.30731,     0.30831,     0.30931,     0.31031,     0.31131,\n",
      "           0.31231,     0.31331,     0.31431,     0.31532,     0.31632,     0.31732,     0.31832,     0.31932,     0.32032,     0.32132,     0.32232,     0.32332,     0.32432,     0.32533,     0.32633,     0.32733,     0.32833,     0.32933,     0.33033,     0.33133,     0.33233,     0.33333,     0.33433,     0.33534,\n",
      "           0.33634,     0.33734,     0.33834,     0.33934,     0.34034,     0.34134,     0.34234,     0.34334,     0.34434,     0.34535,     0.34635,     0.34735,     0.34835,     0.34935,     0.35035,     0.35135,     0.35235,     0.35335,     0.35435,     0.35536,     0.35636,     0.35736,     0.35836,     0.35936,\n",
      "           0.36036,     0.36136,     0.36236,     0.36336,     0.36436,     0.36537,     0.36637,     0.36737,     0.36837,     0.36937,     0.37037,     0.37137,     0.37237,     0.37337,     0.37437,     0.37538,     0.37638,     0.37738,     0.37838,     0.37938,     0.38038,     0.38138,     0.38238,     0.38338,\n",
      "           0.38438,     0.38539,     0.38639,     0.38739,     0.38839,     0.38939,     0.39039,     0.39139,     0.39239,     0.39339,     0.39439,      0.3954,      0.3964,      0.3974,      0.3984,      0.3994,      0.4004,      0.4014,      0.4024,      0.4034,      0.4044,     0.40541,     0.40641,     0.40741,\n",
      "           0.40841,     0.40941,     0.41041,     0.41141,     0.41241,     0.41341,     0.41441,     0.41542,     0.41642,     0.41742,     0.41842,     0.41942,     0.42042,     0.42142,     0.42242,     0.42342,     0.42442,     0.42543,     0.42643,     0.42743,     0.42843,     0.42943,     0.43043,     0.43143,\n",
      "           0.43243,     0.43343,     0.43443,     0.43544,     0.43644,     0.43744,     0.43844,     0.43944,     0.44044,     0.44144,     0.44244,     0.44344,     0.44444,     0.44545,     0.44645,     0.44745,     0.44845,     0.44945,     0.45045,     0.45145,     0.45245,     0.45345,     0.45445,     0.45546,\n",
      "           0.45646,     0.45746,     0.45846,     0.45946,     0.46046,     0.46146,     0.46246,     0.46346,     0.46446,     0.46547,     0.46647,     0.46747,     0.46847,     0.46947,     0.47047,     0.47147,     0.47247,     0.47347,     0.47447,     0.47548,     0.47648,     0.47748,     0.47848,     0.47948,\n",
      "           0.48048,     0.48148,     0.48248,     0.48348,     0.48448,     0.48549,     0.48649,     0.48749,     0.48849,     0.48949,     0.49049,     0.49149,     0.49249,     0.49349,     0.49449,      0.4955,      0.4965,      0.4975,      0.4985,      0.4995,      0.5005,      0.5015,      0.5025,      0.5035,\n",
      "            0.5045,     0.50551,     0.50651,     0.50751,     0.50851,     0.50951,     0.51051,     0.51151,     0.51251,     0.51351,     0.51451,     0.51552,     0.51652,     0.51752,     0.51852,     0.51952,     0.52052,     0.52152,     0.52252,     0.52352,     0.52452,     0.52553,     0.52653,     0.52753,\n",
      "           0.52853,     0.52953,     0.53053,     0.53153,     0.53253,     0.53353,     0.53453,     0.53554,     0.53654,     0.53754,     0.53854,     0.53954,     0.54054,     0.54154,     0.54254,     0.54354,     0.54454,     0.54555,     0.54655,     0.54755,     0.54855,     0.54955,     0.55055,     0.55155,\n",
      "           0.55255,     0.55355,     0.55455,     0.55556,     0.55656,     0.55756,     0.55856,     0.55956,     0.56056,     0.56156,     0.56256,     0.56356,     0.56456,     0.56557,     0.56657,     0.56757,     0.56857,     0.56957,     0.57057,     0.57157,     0.57257,     0.57357,     0.57457,     0.57558,\n",
      "           0.57658,     0.57758,     0.57858,     0.57958,     0.58058,     0.58158,     0.58258,     0.58358,     0.58458,     0.58559,     0.58659,     0.58759,     0.58859,     0.58959,     0.59059,     0.59159,     0.59259,     0.59359,     0.59459,      0.5956,      0.5966,      0.5976,      0.5986,      0.5996,\n",
      "            0.6006,      0.6016,      0.6026,      0.6036,      0.6046,     0.60561,     0.60661,     0.60761,     0.60861,     0.60961,     0.61061,     0.61161,     0.61261,     0.61361,     0.61461,     0.61562,     0.61662,     0.61762,     0.61862,     0.61962,     0.62062,     0.62162,     0.62262,     0.62362,\n",
      "           0.62462,     0.62563,     0.62663,     0.62763,     0.62863,     0.62963,     0.63063,     0.63163,     0.63263,     0.63363,     0.63463,     0.63564,     0.63664,     0.63764,     0.63864,     0.63964,     0.64064,     0.64164,     0.64264,     0.64364,     0.64464,     0.64565,     0.64665,     0.64765,\n",
      "           0.64865,     0.64965,     0.65065,     0.65165,     0.65265,     0.65365,     0.65465,     0.65566,     0.65666,     0.65766,     0.65866,     0.65966,     0.66066,     0.66166,     0.66266,     0.66366,     0.66466,     0.66567,     0.66667,     0.66767,     0.66867,     0.66967,     0.67067,     0.67167,\n",
      "           0.67267,     0.67367,     0.67467,     0.67568,     0.67668,     0.67768,     0.67868,     0.67968,     0.68068,     0.68168,     0.68268,     0.68368,     0.68468,     0.68569,     0.68669,     0.68769,     0.68869,     0.68969,     0.69069,     0.69169,     0.69269,     0.69369,     0.69469,      0.6957,\n",
      "            0.6967,      0.6977,      0.6987,      0.6997,      0.7007,      0.7017,      0.7027,      0.7037,      0.7047,     0.70571,     0.70671,     0.70771,     0.70871,     0.70971,     0.71071,     0.71171,     0.71271,     0.71371,     0.71471,     0.71572,     0.71672,     0.71772,     0.71872,     0.71972,\n",
      "           0.72072,     0.72172,     0.72272,     0.72372,     0.72472,     0.72573,     0.72673,     0.72773,     0.72873,     0.72973,     0.73073,     0.73173,     0.73273,     0.73373,     0.73473,     0.73574,     0.73674,     0.73774,     0.73874,     0.73974,     0.74074,     0.74174,     0.74274,     0.74374,\n",
      "           0.74474,     0.74575,     0.74675,     0.74775,     0.74875,     0.74975,     0.75075,     0.75175,     0.75275,     0.75375,     0.75475,     0.75576,     0.75676,     0.75776,     0.75876,     0.75976,     0.76076,     0.76176,     0.76276,     0.76376,     0.76476,     0.76577,     0.76677,     0.76777,\n",
      "           0.76877,     0.76977,     0.77077,     0.77177,     0.77277,     0.77377,     0.77477,     0.77578,     0.77678,     0.77778,     0.77878,     0.77978,     0.78078,     0.78178,     0.78278,     0.78378,     0.78478,     0.78579,     0.78679,     0.78779,     0.78879,     0.78979,     0.79079,     0.79179,\n",
      "           0.79279,     0.79379,     0.79479,      0.7958,      0.7968,      0.7978,      0.7988,      0.7998,      0.8008,      0.8018,      0.8028,      0.8038,      0.8048,     0.80581,     0.80681,     0.80781,     0.80881,     0.80981,     0.81081,     0.81181,     0.81281,     0.81381,     0.81481,     0.81582,\n",
      "           0.81682,     0.81782,     0.81882,     0.81982,     0.82082,     0.82182,     0.82282,     0.82382,     0.82482,     0.82583,     0.82683,     0.82783,     0.82883,     0.82983,     0.83083,     0.83183,     0.83283,     0.83383,     0.83483,     0.83584,     0.83684,     0.83784,     0.83884,     0.83984,\n",
      "           0.84084,     0.84184,     0.84284,     0.84384,     0.84484,     0.84585,     0.84685,     0.84785,     0.84885,     0.84985,     0.85085,     0.85185,     0.85285,     0.85385,     0.85485,     0.85586,     0.85686,     0.85786,     0.85886,     0.85986,     0.86086,     0.86186,     0.86286,     0.86386,\n",
      "           0.86486,     0.86587,     0.86687,     0.86787,     0.86887,     0.86987,     0.87087,     0.87187,     0.87287,     0.87387,     0.87487,     0.87588,     0.87688,     0.87788,     0.87888,     0.87988,     0.88088,     0.88188,     0.88288,     0.88388,     0.88488,     0.88589,     0.88689,     0.88789,\n",
      "           0.88889,     0.88989,     0.89089,     0.89189,     0.89289,     0.89389,     0.89489,      0.8959,      0.8969,      0.8979,      0.8989,      0.8999,      0.9009,      0.9019,      0.9029,      0.9039,      0.9049,     0.90591,     0.90691,     0.90791,     0.90891,     0.90991,     0.91091,     0.91191,\n",
      "           0.91291,     0.91391,     0.91491,     0.91592,     0.91692,     0.91792,     0.91892,     0.91992,     0.92092,     0.92192,     0.92292,     0.92392,     0.92492,     0.92593,     0.92693,     0.92793,     0.92893,     0.92993,     0.93093,     0.93193,     0.93293,     0.93393,     0.93493,     0.93594,\n",
      "           0.93694,     0.93794,     0.93894,     0.93994,     0.94094,     0.94194,     0.94294,     0.94394,     0.94494,     0.94595,     0.94695,     0.94795,     0.94895,     0.94995,     0.95095,     0.95195,     0.95295,     0.95395,     0.95495,     0.95596,     0.95696,     0.95796,     0.95896,     0.95996,\n",
      "           0.96096,     0.96196,     0.96296,     0.96396,     0.96496,     0.96597,     0.96697,     0.96797,     0.96897,     0.96997,     0.97097,     0.97197,     0.97297,     0.97397,     0.97497,     0.97598,     0.97698,     0.97798,     0.97898,     0.97998,     0.98098,     0.98198,     0.98298,     0.98398,\n",
      "           0.98498,     0.98599,     0.98699,     0.98799,     0.98899,     0.98999,     0.99099,     0.99199,     0.99299,     0.99399,     0.99499,       0.996,       0.997,       0.998,       0.999,           1]), array([[          1,           1,           1,           1,           1,           1,           1,           1,           1,           1,           1,           1,           1,           1,           1,           1,           1,           1,           1,           1,           1,           1,           1,\n",
      "                  1,           1,           1,           1,           1,           1,           1,           1,           1,           1,           1,           1,           1,           1,           1,           1,           1,           1,           1,           1,           1,           1,           1,\n",
      "                  1,           1,           1,           1,           1,           1,           1,           1,           1,           1,           1,           1,           1,           1,           1,           1,           1,           1,           1,           1,           1,           1,           1,\n",
      "                  1,           1,           1,           1,           1,           1,           1,           1,           1,           1,           1,           1,           1,           1,           1,           1,           1,           1,           1,           1,           1,           1,           1,\n",
      "                  1,           1,           1,           1,           1,           1,           1,           1,           1,           1,           1,           1,           1,           1,           1,           1,           1,           1,           1,           1,           1,           1,           1,\n",
      "                  1,           1,           1,           1,           1,           1,           1,           1,           1,           1,           1,           1,           1,           1,           1,           1,           1,           1,           1,           1,           1,           1,           1,\n",
      "                  1,           1,           1,           1,           1,           1,           1,           1,           1,           1,           1,           1,           1,           1,           1,           1,           1,           1,           1,           1,           1,           1,           1,\n",
      "                  1,           1,           1,           1,           1,           1,           1,           1,           1,           1,           1,           1,           1,           1,           1,           1,           1,           1,           1,           1,           1,           1,           1,\n",
      "                  1,           1,           1,           1,           1,           1,           1,           1,           1,           1,           1,           1,           1,           1,           1,           1,           1,           1,           1,           1,           1,           1,           1,\n",
      "                  1,           1,           1,           1,           1,           1,           1,           1,           1,           1,           1,           1,           1,           1,           1,           1,           1,           1,           1,           1,           1,           1,           1,\n",
      "                  1,           1,           1,           1,           1,           1,           1,           1,           1,           1,           1,           1,           1,           1,           1,           1,           1,           1,           1,           1,           1,           1,           1,\n",
      "                  1,           1,           1,           1,           1,           1,           1,           1,           1,           1,           1,           1,           1,           1,           1,           1,           1,           1,           1,           1,           1,           1,           1,\n",
      "                  1,           1,           1,           1,           1,           1,           1,           1,           1,           1,           1,           1,           1,           1,           1,           1,           1,           1,           1,           1,           1,           1,           1,\n",
      "                  1,           1,           1,           1,           1,           1,           1,           1,           1,           1,           1,           1,           1,           1,           1,           1,           1,           1,           1,           1,           1,           1,           1,\n",
      "                  1,           1,           1,           1,           1,           1,           1,           1,           1,           1,           1,           1,           1,           1,           1,           1,           1,           1,           1,           1,           1,           1,           1,\n",
      "                  1,           1,           1,           1,           1,           1,           1,           1,           1,           1,           1,           1,           1,           1,           1,           1,           1,           1,           1,           1,           1,           1,           1,\n",
      "                  1,           1,           1,           1,           1,           1,           1,           1,           1,           1,           1,           1,           1,           1,           1,           1,           1,           1,           1,           1,           1,           1,           1,\n",
      "                  1,           1,           1,           1,           1,           1,           1,           1,           1,           1,           1,           1,           1,           1,           1,           1,           1,           1,           1,           1,           1,           1,           1,\n",
      "                  1,           1,           1,           1,           1,           1,           1,           1,           1,           1,           1,           1,           1,           1,           1,           1,           1,           1,           1,           1,           1,           1,           1,\n",
      "                  1,           1,           1,           1,           1,           1,           1,           1,           1,           1,           1,           1,           1,           1,           1,           1,           1,           1,           1,           1,           1,           1,           1,\n",
      "                  1,           1,           1,           1,           1,           1,           1,           1,           1,           1,           1,           1,           1,           1,           1,           1,           1,           1,           1,           1,           1,           1,           1,\n",
      "                  1,           1,           1,           1,           1,           1,           1,           1,           1,           1,           1,           1,           1,           1,           1,           1,           1,           1,           1,           1,           1,           1,           1,\n",
      "                  1,           1,           1,           1,           1,           1,           1,           1,           1,           1,           1,           1,           1,           1,           1,           1,           1,           1,           1,           1,           1,           1,           1,\n",
      "                  1,           1,           1,           1,           1,           1,           1,           1,           1,           1,           1,           1,           1,           1,           1,           1,           1,           1,           1,           1,           1,           1,           1,\n",
      "                  1,           1,           1,           1,           1,           1,           1,           1,           1,           1,           1,           1,           1,           1,           1,           1,           1,           1,           1,           1,           1,           1,           1,\n",
      "                  1,           1,           1,           1,           1,           1,           1,           1,           1,           1,           1,           1,           1,           1,           1,           1,           1,           1,           1,           1,           1,           1,           1,\n",
      "                  1,           1,           1,           1,           1,           1,           1,           1,           1,           1,           1,           1,           1,           1,           1,           1,           1,           1,           1,           1,           1,           1,           1,\n",
      "                  1,           1,           1,           1,           1,           1,           1,           1,           1,           1,           1,           1,           1,           1,           1,           1,           1,           1,           1,           1,           1,           1,           1,\n",
      "                  1,           1,           1,           1,           1,           1,           1,           1,           1,           1,           1,           1,           1,           1,           1,           1,           1,           1,           1,           1,           1,           1,           1,\n",
      "                  1,           1,           1,           1,           1,           1,           1,           1,           1,           1,           1,           1,           1,           1,           1,           1,           1,           1,           1,           1,           1,           1,           1,\n",
      "                  1,           1,           1,           1,           1,           1,           1,           1,           1,           1,           1,           1,           1,           1,           1,           1,           1,           1,           1,           1,           1,           1,           1,\n",
      "                  1,           1,           1,           1,           1,           1,           1,           1,           1,           1,           1,           1,           1,           1,           1,           1,           1,           1,           1,           1,           1,           1,           1,\n",
      "                  1,           1,           1,           1,           1,           1,           1,           1,           1,           1,           1,           1,           1,           1,           1,           1,           1,           1,           1,           1,           1,           1,           1,\n",
      "                  1,           1,           1,           1,           1,           1,           1,           1,           1,           1,           1,           1,           1,           1,           1,           1,           1,           1,           1,           1,           1,           1,           1,\n",
      "                  1,           1,           1,           1,           1,           1,           1,           1,           1,           1,           1,           1,           1,           1,           1,           1,           1,           1,           1,           1,           1,           1,           1,\n",
      "                  1,           1,           1,           1,           1,           1,           1,           1,           1,           1,           1,           1,           1,           1,           1,           1,           1,           1,           1,           1,           1,           1,           1,\n",
      "                  1,           1,           1,           1,           1,           1,           1,           1,           1,           1,           1,           1,           1,           1,           1,           1,           1,           1,           1,           1,           1,           1,           1,\n",
      "                  1,           1,           1,           1,           1,           1,           1,           1,           1,           1,           1,           1,           1,           1,           1,           1,           1,           1,           1,           1,           1,           1,           1,\n",
      "                  1,           1,           1,           1,           1,           1,           1,           1,           1,           1,           1,           1,           1,           1,           1,           1,           1,           1,           1,           1,           1,           1,           1,\n",
      "                  1,     0.98182,     0.98182,     0.98182,     0.98182,     0.98182,     0.98182,     0.98182,     0.98182,     0.98182,     0.98182,     0.98182,     0.98182,     0.98182,     0.98182,     0.98182,     0.98182,     0.98182,     0.14323,     0.14323,     0.14323,     0.14323,     0.14323,\n",
      "            0.14323,     0.14323,     0.14323,     0.14323,     0.14323,     0.14323,     0.14323,     0.14323,     0.14323,     0.14323,     0.14323,     0.14323,    0.095238,    0.095238,    0.095238,    0.095238,    0.095238,    0.095238,    0.095238,    0.095238,    0.095238,    0.095238,    0.095238,\n",
      "           0.095238,    0.095238,    0.095238,    0.095238,    0.095238,    0.095238,    0.056158,    0.056158,    0.056158,    0.056158,    0.056158,    0.056158,    0.056158,    0.056158,    0.056158,    0.056158,    0.056158,    0.056158,    0.056158,    0.056158,    0.056158,    0.056158,    0.056158,\n",
      "           0.022561,    0.021877,    0.021194,     0.02051,    0.019826,    0.019143,    0.018459,    0.017775,    0.017092,    0.016408,    0.015724,    0.015041,    0.014357,    0.013673,     0.01299,    0.012306,    0.011622,    0.010939,    0.010255,   0.0095713,   0.0088876,    0.008204,   0.0075203,\n",
      "          0.0068366,    0.006153,   0.0054693,   0.0047857,    0.004102,   0.0034183,   0.0027347,    0.002051,   0.0013673,  0.00068366,           0]]), 'Recall', 'Precision'], [array([          0,    0.001001,    0.002002,    0.003003,    0.004004,    0.005005,    0.006006,    0.007007,    0.008008,    0.009009,     0.01001,    0.011011,    0.012012,    0.013013,    0.014014,    0.015015,    0.016016,    0.017017,    0.018018,    0.019019,     0.02002,    0.021021,    0.022022,    0.023023,\n",
      "          0.024024,    0.025025,    0.026026,    0.027027,    0.028028,    0.029029,     0.03003,    0.031031,    0.032032,    0.033033,    0.034034,    0.035035,    0.036036,    0.037037,    0.038038,    0.039039,     0.04004,    0.041041,    0.042042,    0.043043,    0.044044,    0.045045,    0.046046,    0.047047,\n",
      "          0.048048,    0.049049,     0.05005,    0.051051,    0.052052,    0.053053,    0.054054,    0.055055,    0.056056,    0.057057,    0.058058,    0.059059,     0.06006,    0.061061,    0.062062,    0.063063,    0.064064,    0.065065,    0.066066,    0.067067,    0.068068,    0.069069,     0.07007,    0.071071,\n",
      "          0.072072,    0.073073,    0.074074,    0.075075,    0.076076,    0.077077,    0.078078,    0.079079,     0.08008,    0.081081,    0.082082,    0.083083,    0.084084,    0.085085,    0.086086,    0.087087,    0.088088,    0.089089,     0.09009,    0.091091,    0.092092,    0.093093,    0.094094,    0.095095,\n",
      "          0.096096,    0.097097,    0.098098,    0.099099,      0.1001,      0.1011,      0.1021,      0.1031,      0.1041,     0.10511,     0.10611,     0.10711,     0.10811,     0.10911,     0.11011,     0.11111,     0.11211,     0.11311,     0.11411,     0.11512,     0.11612,     0.11712,     0.11812,     0.11912,\n",
      "           0.12012,     0.12112,     0.12212,     0.12312,     0.12412,     0.12513,     0.12613,     0.12713,     0.12813,     0.12913,     0.13013,     0.13113,     0.13213,     0.13313,     0.13413,     0.13514,     0.13614,     0.13714,     0.13814,     0.13914,     0.14014,     0.14114,     0.14214,     0.14314,\n",
      "           0.14414,     0.14515,     0.14615,     0.14715,     0.14815,     0.14915,     0.15015,     0.15115,     0.15215,     0.15315,     0.15415,     0.15516,     0.15616,     0.15716,     0.15816,     0.15916,     0.16016,     0.16116,     0.16216,     0.16316,     0.16416,     0.16517,     0.16617,     0.16717,\n",
      "           0.16817,     0.16917,     0.17017,     0.17117,     0.17217,     0.17317,     0.17417,     0.17518,     0.17618,     0.17718,     0.17818,     0.17918,     0.18018,     0.18118,     0.18218,     0.18318,     0.18418,     0.18519,     0.18619,     0.18719,     0.18819,     0.18919,     0.19019,     0.19119,\n",
      "           0.19219,     0.19319,     0.19419,      0.1952,      0.1962,      0.1972,      0.1982,      0.1992,      0.2002,      0.2012,      0.2022,      0.2032,      0.2042,     0.20521,     0.20621,     0.20721,     0.20821,     0.20921,     0.21021,     0.21121,     0.21221,     0.21321,     0.21421,     0.21522,\n",
      "           0.21622,     0.21722,     0.21822,     0.21922,     0.22022,     0.22122,     0.22222,     0.22322,     0.22422,     0.22523,     0.22623,     0.22723,     0.22823,     0.22923,     0.23023,     0.23123,     0.23223,     0.23323,     0.23423,     0.23524,     0.23624,     0.23724,     0.23824,     0.23924,\n",
      "           0.24024,     0.24124,     0.24224,     0.24324,     0.24424,     0.24525,     0.24625,     0.24725,     0.24825,     0.24925,     0.25025,     0.25125,     0.25225,     0.25325,     0.25425,     0.25526,     0.25626,     0.25726,     0.25826,     0.25926,     0.26026,     0.26126,     0.26226,     0.26326,\n",
      "           0.26426,     0.26527,     0.26627,     0.26727,     0.26827,     0.26927,     0.27027,     0.27127,     0.27227,     0.27327,     0.27427,     0.27528,     0.27628,     0.27728,     0.27828,     0.27928,     0.28028,     0.28128,     0.28228,     0.28328,     0.28428,     0.28529,     0.28629,     0.28729,\n",
      "           0.28829,     0.28929,     0.29029,     0.29129,     0.29229,     0.29329,     0.29429,      0.2953,      0.2963,      0.2973,      0.2983,      0.2993,      0.3003,      0.3013,      0.3023,      0.3033,      0.3043,     0.30531,     0.30631,     0.30731,     0.30831,     0.30931,     0.31031,     0.31131,\n",
      "           0.31231,     0.31331,     0.31431,     0.31532,     0.31632,     0.31732,     0.31832,     0.31932,     0.32032,     0.32132,     0.32232,     0.32332,     0.32432,     0.32533,     0.32633,     0.32733,     0.32833,     0.32933,     0.33033,     0.33133,     0.33233,     0.33333,     0.33433,     0.33534,\n",
      "           0.33634,     0.33734,     0.33834,     0.33934,     0.34034,     0.34134,     0.34234,     0.34334,     0.34434,     0.34535,     0.34635,     0.34735,     0.34835,     0.34935,     0.35035,     0.35135,     0.35235,     0.35335,     0.35435,     0.35536,     0.35636,     0.35736,     0.35836,     0.35936,\n",
      "           0.36036,     0.36136,     0.36236,     0.36336,     0.36436,     0.36537,     0.36637,     0.36737,     0.36837,     0.36937,     0.37037,     0.37137,     0.37237,     0.37337,     0.37437,     0.37538,     0.37638,     0.37738,     0.37838,     0.37938,     0.38038,     0.38138,     0.38238,     0.38338,\n",
      "           0.38438,     0.38539,     0.38639,     0.38739,     0.38839,     0.38939,     0.39039,     0.39139,     0.39239,     0.39339,     0.39439,      0.3954,      0.3964,      0.3974,      0.3984,      0.3994,      0.4004,      0.4014,      0.4024,      0.4034,      0.4044,     0.40541,     0.40641,     0.40741,\n",
      "           0.40841,     0.40941,     0.41041,     0.41141,     0.41241,     0.41341,     0.41441,     0.41542,     0.41642,     0.41742,     0.41842,     0.41942,     0.42042,     0.42142,     0.42242,     0.42342,     0.42442,     0.42543,     0.42643,     0.42743,     0.42843,     0.42943,     0.43043,     0.43143,\n",
      "           0.43243,     0.43343,     0.43443,     0.43544,     0.43644,     0.43744,     0.43844,     0.43944,     0.44044,     0.44144,     0.44244,     0.44344,     0.44444,     0.44545,     0.44645,     0.44745,     0.44845,     0.44945,     0.45045,     0.45145,     0.45245,     0.45345,     0.45445,     0.45546,\n",
      "           0.45646,     0.45746,     0.45846,     0.45946,     0.46046,     0.46146,     0.46246,     0.46346,     0.46446,     0.46547,     0.46647,     0.46747,     0.46847,     0.46947,     0.47047,     0.47147,     0.47247,     0.47347,     0.47447,     0.47548,     0.47648,     0.47748,     0.47848,     0.47948,\n",
      "           0.48048,     0.48148,     0.48248,     0.48348,     0.48448,     0.48549,     0.48649,     0.48749,     0.48849,     0.48949,     0.49049,     0.49149,     0.49249,     0.49349,     0.49449,      0.4955,      0.4965,      0.4975,      0.4985,      0.4995,      0.5005,      0.5015,      0.5025,      0.5035,\n",
      "            0.5045,     0.50551,     0.50651,     0.50751,     0.50851,     0.50951,     0.51051,     0.51151,     0.51251,     0.51351,     0.51451,     0.51552,     0.51652,     0.51752,     0.51852,     0.51952,     0.52052,     0.52152,     0.52252,     0.52352,     0.52452,     0.52553,     0.52653,     0.52753,\n",
      "           0.52853,     0.52953,     0.53053,     0.53153,     0.53253,     0.53353,     0.53453,     0.53554,     0.53654,     0.53754,     0.53854,     0.53954,     0.54054,     0.54154,     0.54254,     0.54354,     0.54454,     0.54555,     0.54655,     0.54755,     0.54855,     0.54955,     0.55055,     0.55155,\n",
      "           0.55255,     0.55355,     0.55455,     0.55556,     0.55656,     0.55756,     0.55856,     0.55956,     0.56056,     0.56156,     0.56256,     0.56356,     0.56456,     0.56557,     0.56657,     0.56757,     0.56857,     0.56957,     0.57057,     0.57157,     0.57257,     0.57357,     0.57457,     0.57558,\n",
      "           0.57658,     0.57758,     0.57858,     0.57958,     0.58058,     0.58158,     0.58258,     0.58358,     0.58458,     0.58559,     0.58659,     0.58759,     0.58859,     0.58959,     0.59059,     0.59159,     0.59259,     0.59359,     0.59459,      0.5956,      0.5966,      0.5976,      0.5986,      0.5996,\n",
      "            0.6006,      0.6016,      0.6026,      0.6036,      0.6046,     0.60561,     0.60661,     0.60761,     0.60861,     0.60961,     0.61061,     0.61161,     0.61261,     0.61361,     0.61461,     0.61562,     0.61662,     0.61762,     0.61862,     0.61962,     0.62062,     0.62162,     0.62262,     0.62362,\n",
      "           0.62462,     0.62563,     0.62663,     0.62763,     0.62863,     0.62963,     0.63063,     0.63163,     0.63263,     0.63363,     0.63463,     0.63564,     0.63664,     0.63764,     0.63864,     0.63964,     0.64064,     0.64164,     0.64264,     0.64364,     0.64464,     0.64565,     0.64665,     0.64765,\n",
      "           0.64865,     0.64965,     0.65065,     0.65165,     0.65265,     0.65365,     0.65465,     0.65566,     0.65666,     0.65766,     0.65866,     0.65966,     0.66066,     0.66166,     0.66266,     0.66366,     0.66466,     0.66567,     0.66667,     0.66767,     0.66867,     0.66967,     0.67067,     0.67167,\n",
      "           0.67267,     0.67367,     0.67467,     0.67568,     0.67668,     0.67768,     0.67868,     0.67968,     0.68068,     0.68168,     0.68268,     0.68368,     0.68468,     0.68569,     0.68669,     0.68769,     0.68869,     0.68969,     0.69069,     0.69169,     0.69269,     0.69369,     0.69469,      0.6957,\n",
      "            0.6967,      0.6977,      0.6987,      0.6997,      0.7007,      0.7017,      0.7027,      0.7037,      0.7047,     0.70571,     0.70671,     0.70771,     0.70871,     0.70971,     0.71071,     0.71171,     0.71271,     0.71371,     0.71471,     0.71572,     0.71672,     0.71772,     0.71872,     0.71972,\n",
      "           0.72072,     0.72172,     0.72272,     0.72372,     0.72472,     0.72573,     0.72673,     0.72773,     0.72873,     0.72973,     0.73073,     0.73173,     0.73273,     0.73373,     0.73473,     0.73574,     0.73674,     0.73774,     0.73874,     0.73974,     0.74074,     0.74174,     0.74274,     0.74374,\n",
      "           0.74474,     0.74575,     0.74675,     0.74775,     0.74875,     0.74975,     0.75075,     0.75175,     0.75275,     0.75375,     0.75475,     0.75576,     0.75676,     0.75776,     0.75876,     0.75976,     0.76076,     0.76176,     0.76276,     0.76376,     0.76476,     0.76577,     0.76677,     0.76777,\n",
      "           0.76877,     0.76977,     0.77077,     0.77177,     0.77277,     0.77377,     0.77477,     0.77578,     0.77678,     0.77778,     0.77878,     0.77978,     0.78078,     0.78178,     0.78278,     0.78378,     0.78478,     0.78579,     0.78679,     0.78779,     0.78879,     0.78979,     0.79079,     0.79179,\n",
      "           0.79279,     0.79379,     0.79479,      0.7958,      0.7968,      0.7978,      0.7988,      0.7998,      0.8008,      0.8018,      0.8028,      0.8038,      0.8048,     0.80581,     0.80681,     0.80781,     0.80881,     0.80981,     0.81081,     0.81181,     0.81281,     0.81381,     0.81481,     0.81582,\n",
      "           0.81682,     0.81782,     0.81882,     0.81982,     0.82082,     0.82182,     0.82282,     0.82382,     0.82482,     0.82583,     0.82683,     0.82783,     0.82883,     0.82983,     0.83083,     0.83183,     0.83283,     0.83383,     0.83483,     0.83584,     0.83684,     0.83784,     0.83884,     0.83984,\n",
      "           0.84084,     0.84184,     0.84284,     0.84384,     0.84484,     0.84585,     0.84685,     0.84785,     0.84885,     0.84985,     0.85085,     0.85185,     0.85285,     0.85385,     0.85485,     0.85586,     0.85686,     0.85786,     0.85886,     0.85986,     0.86086,     0.86186,     0.86286,     0.86386,\n",
      "           0.86486,     0.86587,     0.86687,     0.86787,     0.86887,     0.86987,     0.87087,     0.87187,     0.87287,     0.87387,     0.87487,     0.87588,     0.87688,     0.87788,     0.87888,     0.87988,     0.88088,     0.88188,     0.88288,     0.88388,     0.88488,     0.88589,     0.88689,     0.88789,\n",
      "           0.88889,     0.88989,     0.89089,     0.89189,     0.89289,     0.89389,     0.89489,      0.8959,      0.8969,      0.8979,      0.8989,      0.8999,      0.9009,      0.9019,      0.9029,      0.9039,      0.9049,     0.90591,     0.90691,     0.90791,     0.90891,     0.90991,     0.91091,     0.91191,\n",
      "           0.91291,     0.91391,     0.91491,     0.91592,     0.91692,     0.91792,     0.91892,     0.91992,     0.92092,     0.92192,     0.92292,     0.92392,     0.92492,     0.92593,     0.92693,     0.92793,     0.92893,     0.92993,     0.93093,     0.93193,     0.93293,     0.93393,     0.93493,     0.93594,\n",
      "           0.93694,     0.93794,     0.93894,     0.93994,     0.94094,     0.94194,     0.94294,     0.94394,     0.94494,     0.94595,     0.94695,     0.94795,     0.94895,     0.94995,     0.95095,     0.95195,     0.95295,     0.95395,     0.95495,     0.95596,     0.95696,     0.95796,     0.95896,     0.95996,\n",
      "           0.96096,     0.96196,     0.96296,     0.96396,     0.96496,     0.96597,     0.96697,     0.96797,     0.96897,     0.96997,     0.97097,     0.97197,     0.97297,     0.97397,     0.97497,     0.97598,     0.97698,     0.97798,     0.97898,     0.97998,     0.98098,     0.98198,     0.98298,     0.98398,\n",
      "           0.98498,     0.98599,     0.98699,     0.98799,     0.98899,     0.98999,     0.99099,     0.99199,     0.99299,     0.99399,     0.99499,       0.996,       0.997,       0.998,       0.999,           1]), array([[    0.04522,    0.045306,     0.08865,     0.12841,     0.16234,      0.1876,     0.21535,     0.24108,      0.2586,     0.28197,     0.30856,     0.31853,     0.33766,     0.36272,      0.3855,     0.39708,      0.4209,     0.44919,     0.46712,      0.4882,     0.49744,     0.50846,     0.51713,\n",
      "            0.52847,     0.54034,     0.55035,     0.55517,       0.568,     0.57239,     0.57697,     0.58084,     0.58245,     0.58529,     0.59387,     0.59718,     0.61425,     0.61788,     0.61994,      0.6298,     0.63986,     0.64147,     0.64469,     0.64824,     0.65005,     0.65131,     0.65233,\n",
      "            0.65335,     0.65436,     0.65576,     0.65725,     0.65928,     0.66431,     0.66702,     0.66792,     0.66881,     0.66969,     0.67058,     0.67223,     0.67413,      0.6752,     0.67556,     0.67593,      0.6763,     0.67666,     0.67703,     0.67739,     0.67776,     0.67812,     0.67848,\n",
      "            0.67885,     0.67921,     0.68018,     0.68121,     0.68223,     0.68326,     0.68504,     0.68711,     0.68815,     0.68857,     0.68898,     0.68939,      0.6898,     0.69021,     0.69062,     0.69103,     0.69145,     0.69186,     0.69226,     0.69568,     0.70185,     0.70373,     0.70561,\n",
      "            0.71003,     0.71404,     0.71617,     0.71752,     0.71886,     0.72004,      0.7203,     0.72055,     0.72081,     0.72106,     0.72132,     0.72158,     0.72183,     0.72209,     0.72234,      0.7226,     0.72286,     0.72311,     0.72337,     0.72362,     0.72388,     0.72413,     0.72439,\n",
      "            0.72464,     0.72508,     0.72607,     0.72705,     0.72804,     0.72902,     0.73317,     0.73549,     0.73641,     0.73732,     0.73822,     0.73913,     0.74112,     0.74593,      0.7531,     0.75544,     0.75583,     0.75622,     0.75661,       0.757,     0.75739,     0.75778,     0.75817,\n",
      "            0.75856,     0.75895,     0.75934,     0.75973,     0.76012,      0.7605,     0.76121,     0.76198,     0.76275,     0.76351,     0.76427,     0.76504,      0.7658,     0.76748,     0.76941,     0.77132,     0.77229,      0.7732,      0.7741,     0.77501,     0.77591,     0.77682,     0.78369,\n",
      "            0.78512,     0.78654,     0.78796,     0.79083,     0.79415,     0.79632,     0.79848,     0.80288,     0.80611,     0.80631,     0.80651,     0.80671,     0.80691,     0.80711,     0.80731,     0.80751,     0.80771,     0.80791,     0.80811,     0.80831,     0.80851,     0.80871,     0.80891,\n",
      "            0.80911,     0.80931,     0.80951,     0.80971,     0.80991,     0.81011,     0.81031,     0.81051,     0.81071,     0.81091,     0.81111,     0.81131,      0.8115,      0.8117,      0.8119,     0.81231,     0.81309,     0.81387,     0.81465,     0.81543,     0.81621,     0.81698,     0.81776,\n",
      "            0.81978,     0.82327,     0.82476,     0.82526,     0.82576,     0.82626,     0.82675,     0.82725,     0.82775,     0.82824,     0.82874,     0.82923,     0.82973,     0.83022,     0.83072,     0.83246,     0.83435,     0.83624,      0.8403,     0.84449,     0.84609,      0.8477,     0.84929,\n",
      "            0.85102,     0.85307,      0.8551,     0.85713,     0.85928,     0.86143,     0.86357,     0.86451,     0.86514,     0.86578,     0.86641,     0.86704,     0.86768,     0.86831,     0.86894,     0.86957,     0.87019,     0.87082,      0.8717,     0.87264,     0.87358,     0.87452,     0.87546,\n",
      "             0.8764,     0.87733,     0.87981,     0.88547,     0.88626,     0.88705,     0.88784,     0.88863,     0.88942,     0.89021,     0.89099,     0.89178,     0.89256,     0.89271,     0.89286,     0.89301,     0.89316,     0.89331,     0.89346,     0.89361,     0.89376,     0.89391,     0.89406,\n",
      "            0.89421,     0.89436,     0.89451,     0.89466,     0.89481,     0.89496,     0.89511,     0.89526,     0.89541,     0.89556,     0.89571,     0.89586,     0.89601,     0.89616,     0.89631,     0.89646,     0.89661,     0.89676,      0.8969,     0.89705,      0.8972,     0.89735,      0.8975,\n",
      "            0.89765,      0.8978,     0.89795,      0.8981,     0.89824,     0.89839,     0.89854,     0.89869,     0.89884,     0.89899,     0.89913,     0.89928,     0.89943,     0.89958,     0.89973,     0.89988,     0.90041,     0.90294,     0.90545,     0.90765,     0.90819,     0.90873,     0.90926,\n",
      "             0.9098,     0.91034,     0.91088,     0.91141,     0.91195,     0.91248,     0.91302,     0.91355,     0.91409,     0.91462,     0.91515,     0.91538,     0.91554,     0.91569,     0.91585,       0.916,     0.91616,     0.91631,     0.91647,     0.91663,     0.91678,     0.91694,     0.91709,\n",
      "            0.91725,      0.9174,     0.91756,     0.91771,     0.91787,     0.91802,     0.91818,     0.91833,     0.91849,     0.91864,      0.9188,     0.91895,     0.91911,     0.91926,     0.91942,     0.91957,     0.91973,     0.91988,     0.92004,     0.92019,     0.92034,      0.9205,     0.92065,\n",
      "            0.92081,     0.92096,     0.92112,     0.92127,     0.92142,     0.92158,     0.92173,     0.92188,     0.92204,     0.92219,     0.92235,      0.9225,     0.92265,     0.92281,     0.92296,     0.92326,     0.92404,     0.92481,     0.92558,     0.92636,     0.92713,      0.9279,     0.92866,\n",
      "            0.92943,      0.9302,     0.93096,     0.93108,     0.93114,      0.9312,     0.93125,     0.93131,     0.93136,     0.93142,     0.93147,     0.93153,     0.93158,     0.93164,     0.93169,     0.93175,      0.9318,     0.93186,     0.93192,     0.93197,     0.93203,     0.93208,     0.93214,\n",
      "            0.93219,     0.93225,      0.9323,     0.93236,     0.93241,     0.93247,     0.93252,     0.93258,     0.93263,     0.93269,     0.93274,      0.9328,     0.93285,     0.93291,     0.93296,     0.93302,     0.93307,     0.93313,     0.93319,     0.93324,      0.9333,     0.93335,     0.93341,\n",
      "            0.93346,     0.93352,     0.93357,     0.93363,     0.93368,     0.93374,     0.93379,     0.93385,      0.9339,     0.93396,     0.93401,     0.93407,     0.93412,     0.93418,     0.93423,     0.93429,     0.93434,      0.9344,     0.93445,     0.93451,     0.93456,     0.93462,     0.93467,\n",
      "            0.93473,     0.93478,     0.93484,     0.93489,     0.93495,       0.935,     0.93506,     0.93511,     0.93517,     0.93522,     0.93528,     0.93533,     0.93539,     0.93544,      0.9355,     0.93555,     0.93561,     0.93566,     0.93572,     0.93577,     0.93582,     0.93588,     0.93593,\n",
      "            0.93599,     0.93604,      0.9361,     0.93615,     0.93621,     0.93626,     0.93632,     0.93637,     0.93643,     0.93648,     0.93654,     0.93659,     0.93665,      0.9367,     0.93676,     0.93681,     0.93687,     0.93692,     0.93697,     0.93703,     0.93708,     0.93714,     0.93719,\n",
      "            0.93725,      0.9373,     0.93736,     0.93741,     0.93747,     0.93752,     0.93758,     0.93763,     0.93769,     0.93774,     0.93779,     0.93785,      0.9379,     0.93796,     0.93801,     0.93807,     0.93812,     0.93818,     0.93823,     0.93829,     0.93834,     0.93839,     0.93845,\n",
      "             0.9385,     0.93856,     0.93861,     0.93867,     0.93872,     0.93878,     0.93883,     0.93888,     0.93894,     0.93899,     0.93905,      0.9391,     0.93915,     0.93919,     0.93923,     0.93927,     0.93931,     0.93935,     0.93939,     0.93943,     0.93947,      0.9395,     0.93954,\n",
      "            0.93958,     0.93962,     0.93966,      0.9397,     0.93974,     0.93978,     0.93982,     0.93986,      0.9399,     0.93994,     0.93998,     0.94002,     0.94006,      0.9401,     0.94014,     0.94018,     0.94021,     0.94025,     0.94029,     0.94033,     0.94037,     0.94041,     0.94045,\n",
      "            0.94049,     0.94053,     0.94057,     0.94061,     0.94065,     0.94069,     0.94073,     0.94077,     0.94081,     0.94084,     0.94088,     0.94092,     0.94096,       0.941,     0.94104,     0.94108,     0.94112,     0.94116,      0.9412,     0.94124,     0.94128,     0.94132,     0.94136,\n",
      "             0.9414,     0.94143,     0.94147,     0.94151,     0.94155,     0.94159,     0.94163,     0.94167,     0.94171,     0.94175,     0.94179,     0.94183,     0.94187,     0.94191,     0.94195,     0.94198,     0.94202,     0.94206,      0.9421,     0.94214,     0.94218,     0.94222,     0.94226,\n",
      "             0.9423,     0.94234,     0.94238,     0.94242,     0.94246,     0.94249,     0.94253,     0.94257,     0.94261,     0.94265,     0.94269,     0.94273,     0.94277,     0.94281,     0.94285,     0.94289,     0.94293,     0.94296,       0.943,     0.94304,     0.94308,     0.94312,     0.94316,\n",
      "             0.9432,     0.94324,     0.94328,     0.94332,     0.94336,      0.9434,     0.94343,     0.94347,     0.94351,     0.94355,     0.94359,     0.94363,     0.94367,     0.94371,     0.94375,     0.94379,     0.94383,     0.94386,      0.9439,     0.94394,     0.94398,     0.94402,     0.94406,\n",
      "             0.9441,     0.94414,     0.94418,     0.94422,     0.94426,     0.94429,     0.94433,     0.94437,     0.94441,     0.94445,     0.94449,     0.94453,     0.94457,     0.94461,     0.94465,     0.94468,     0.94472,     0.94476,      0.9448,     0.94484,     0.94488,     0.94492,     0.94496,\n",
      "              0.945,     0.94504,     0.94507,     0.94511,     0.94515,     0.94519,     0.94523,     0.94527,     0.94531,     0.94535,     0.94539,     0.94543,     0.94546,      0.9455,     0.94554,     0.94558,     0.94562,     0.94566,      0.9457,     0.94574,     0.94578,     0.94581,     0.94585,\n",
      "            0.94589,     0.94593,     0.94597,     0.94601,     0.94605,     0.94609,     0.94613,     0.94616,      0.9462,     0.94624,     0.94628,     0.94632,     0.94636,      0.9464,     0.94644,     0.94648,     0.94651,     0.94655,     0.94659,     0.94663,     0.94667,     0.94671,     0.94675,\n",
      "            0.94679,     0.94682,     0.94686,      0.9469,     0.94694,     0.94698,     0.94702,     0.94706,      0.9471,     0.94714,     0.94717,     0.94721,     0.94725,     0.94729,     0.94733,     0.94737,     0.94697,     0.94656,     0.94616,     0.94575,     0.94535,     0.94494,     0.94453,\n",
      "            0.94413,     0.94372,     0.94331,      0.9429,      0.9425,     0.94209,     0.94168,     0.94127,     0.94086,     0.94045,     0.94004,     0.93963,     0.93922,     0.93881,      0.9384,     0.93807,     0.93815,     0.93823,      0.9383,     0.93838,     0.93846,     0.93854,     0.93862,\n",
      "             0.9387,     0.93878,     0.93886,     0.93894,     0.93902,      0.9391,     0.93918,     0.93926,     0.93934,     0.93942,      0.9395,     0.93958,     0.93966,     0.93974,     0.93982,      0.9399,     0.93998,     0.94005,     0.94013,     0.94021,     0.94029,     0.94037,     0.94045,\n",
      "            0.94053,     0.94061,     0.94069,     0.94077,     0.94085,     0.94093,     0.94101,     0.94109,     0.94116,     0.94124,     0.94132,      0.9414,     0.94148,     0.94156,     0.94164,     0.94172,      0.9418,     0.94188,     0.94196,     0.94203,     0.94211,     0.94219,     0.94227,\n",
      "            0.94235,     0.94243,     0.94251,     0.94259,     0.94267,     0.94275,     0.94282,      0.9429,     0.94298,     0.94306,     0.94314,     0.94322,      0.9433,     0.94338,     0.94345,     0.94353,     0.94361,     0.94369,     0.94377,     0.94385,     0.94393,     0.94401,     0.94408,\n",
      "            0.94416,     0.94424,     0.94432,      0.9444,     0.94448,     0.94456,     0.94463,     0.94471,     0.94479,     0.94487,     0.94495,     0.94503,     0.94511,     0.94518,     0.94526,     0.94534,     0.94542,      0.9455,     0.94558,     0.94565,     0.94573,     0.94581,     0.94589,\n",
      "            0.94597,     0.94605,     0.94612,      0.9462,     0.94628,     0.94636,     0.94563,      0.9384,     0.93647,     0.93588,      0.9353,     0.93471,     0.93412,     0.93353,     0.93294,     0.93235,     0.93176,     0.93117,     0.93058,     0.92998,     0.92939,      0.9288,      0.9282,\n",
      "             0.9276,     0.92683,     0.92583,     0.92483,     0.92382,     0.92282,     0.92181,      0.9208,     0.91979,     0.91878,     0.91776,     0.91674,     0.91571,     0.91468,     0.91365,     0.91262,     0.91158,     0.91055,     0.90951,     0.90847,     0.90742,     0.90529,     0.90313,\n",
      "            0.90097,     0.89879,     0.89636,     0.89322,     0.89007,     0.88691,     0.87554,     0.87329,     0.87103,     0.86876,     0.86648,     0.86172,     0.85459,     0.85245,     0.85046,     0.84846,     0.84645,     0.84444,     0.83105,     0.82764,     0.82421,     0.82077,     0.81756,\n",
      "             0.8144,     0.81124,     0.80791,     0.79336,     0.78514,      0.7787,     0.77265,     0.76856,     0.76531,     0.76204,     0.75875,     0.73525,     0.72747,     0.72258,     0.71765,     0.70008,     0.69547,     0.69083,     0.67764,     0.62537,     0.61693,     0.60743,     0.59631,\n",
      "            0.58517,     0.57544,     0.56804,     0.55856,     0.52757,       0.437,     0.41858,     0.40646,     0.35109,     0.32935,     0.30752,     0.29294,     0.18485,     0.16372,     0.11852,    0.084853,    0.064807,    0.057788,    0.050718,    0.043596,    0.036421,           0,           0,\n",
      "                  0,           0,           0,           0,           0,           0,           0,           0,           0,           0,           0]]), 'Confidence', 'F1'], [array([          0,    0.001001,    0.002002,    0.003003,    0.004004,    0.005005,    0.006006,    0.007007,    0.008008,    0.009009,     0.01001,    0.011011,    0.012012,    0.013013,    0.014014,    0.015015,    0.016016,    0.017017,    0.018018,    0.019019,     0.02002,    0.021021,    0.022022,    0.023023,\n",
      "          0.024024,    0.025025,    0.026026,    0.027027,    0.028028,    0.029029,     0.03003,    0.031031,    0.032032,    0.033033,    0.034034,    0.035035,    0.036036,    0.037037,    0.038038,    0.039039,     0.04004,    0.041041,    0.042042,    0.043043,    0.044044,    0.045045,    0.046046,    0.047047,\n",
      "          0.048048,    0.049049,     0.05005,    0.051051,    0.052052,    0.053053,    0.054054,    0.055055,    0.056056,    0.057057,    0.058058,    0.059059,     0.06006,    0.061061,    0.062062,    0.063063,    0.064064,    0.065065,    0.066066,    0.067067,    0.068068,    0.069069,     0.07007,    0.071071,\n",
      "          0.072072,    0.073073,    0.074074,    0.075075,    0.076076,    0.077077,    0.078078,    0.079079,     0.08008,    0.081081,    0.082082,    0.083083,    0.084084,    0.085085,    0.086086,    0.087087,    0.088088,    0.089089,     0.09009,    0.091091,    0.092092,    0.093093,    0.094094,    0.095095,\n",
      "          0.096096,    0.097097,    0.098098,    0.099099,      0.1001,      0.1011,      0.1021,      0.1031,      0.1041,     0.10511,     0.10611,     0.10711,     0.10811,     0.10911,     0.11011,     0.11111,     0.11211,     0.11311,     0.11411,     0.11512,     0.11612,     0.11712,     0.11812,     0.11912,\n",
      "           0.12012,     0.12112,     0.12212,     0.12312,     0.12412,     0.12513,     0.12613,     0.12713,     0.12813,     0.12913,     0.13013,     0.13113,     0.13213,     0.13313,     0.13413,     0.13514,     0.13614,     0.13714,     0.13814,     0.13914,     0.14014,     0.14114,     0.14214,     0.14314,\n",
      "           0.14414,     0.14515,     0.14615,     0.14715,     0.14815,     0.14915,     0.15015,     0.15115,     0.15215,     0.15315,     0.15415,     0.15516,     0.15616,     0.15716,     0.15816,     0.15916,     0.16016,     0.16116,     0.16216,     0.16316,     0.16416,     0.16517,     0.16617,     0.16717,\n",
      "           0.16817,     0.16917,     0.17017,     0.17117,     0.17217,     0.17317,     0.17417,     0.17518,     0.17618,     0.17718,     0.17818,     0.17918,     0.18018,     0.18118,     0.18218,     0.18318,     0.18418,     0.18519,     0.18619,     0.18719,     0.18819,     0.18919,     0.19019,     0.19119,\n",
      "           0.19219,     0.19319,     0.19419,      0.1952,      0.1962,      0.1972,      0.1982,      0.1992,      0.2002,      0.2012,      0.2022,      0.2032,      0.2042,     0.20521,     0.20621,     0.20721,     0.20821,     0.20921,     0.21021,     0.21121,     0.21221,     0.21321,     0.21421,     0.21522,\n",
      "           0.21622,     0.21722,     0.21822,     0.21922,     0.22022,     0.22122,     0.22222,     0.22322,     0.22422,     0.22523,     0.22623,     0.22723,     0.22823,     0.22923,     0.23023,     0.23123,     0.23223,     0.23323,     0.23423,     0.23524,     0.23624,     0.23724,     0.23824,     0.23924,\n",
      "           0.24024,     0.24124,     0.24224,     0.24324,     0.24424,     0.24525,     0.24625,     0.24725,     0.24825,     0.24925,     0.25025,     0.25125,     0.25225,     0.25325,     0.25425,     0.25526,     0.25626,     0.25726,     0.25826,     0.25926,     0.26026,     0.26126,     0.26226,     0.26326,\n",
      "           0.26426,     0.26527,     0.26627,     0.26727,     0.26827,     0.26927,     0.27027,     0.27127,     0.27227,     0.27327,     0.27427,     0.27528,     0.27628,     0.27728,     0.27828,     0.27928,     0.28028,     0.28128,     0.28228,     0.28328,     0.28428,     0.28529,     0.28629,     0.28729,\n",
      "           0.28829,     0.28929,     0.29029,     0.29129,     0.29229,     0.29329,     0.29429,      0.2953,      0.2963,      0.2973,      0.2983,      0.2993,      0.3003,      0.3013,      0.3023,      0.3033,      0.3043,     0.30531,     0.30631,     0.30731,     0.30831,     0.30931,     0.31031,     0.31131,\n",
      "           0.31231,     0.31331,     0.31431,     0.31532,     0.31632,     0.31732,     0.31832,     0.31932,     0.32032,     0.32132,     0.32232,     0.32332,     0.32432,     0.32533,     0.32633,     0.32733,     0.32833,     0.32933,     0.33033,     0.33133,     0.33233,     0.33333,     0.33433,     0.33534,\n",
      "           0.33634,     0.33734,     0.33834,     0.33934,     0.34034,     0.34134,     0.34234,     0.34334,     0.34434,     0.34535,     0.34635,     0.34735,     0.34835,     0.34935,     0.35035,     0.35135,     0.35235,     0.35335,     0.35435,     0.35536,     0.35636,     0.35736,     0.35836,     0.35936,\n",
      "           0.36036,     0.36136,     0.36236,     0.36336,     0.36436,     0.36537,     0.36637,     0.36737,     0.36837,     0.36937,     0.37037,     0.37137,     0.37237,     0.37337,     0.37437,     0.37538,     0.37638,     0.37738,     0.37838,     0.37938,     0.38038,     0.38138,     0.38238,     0.38338,\n",
      "           0.38438,     0.38539,     0.38639,     0.38739,     0.38839,     0.38939,     0.39039,     0.39139,     0.39239,     0.39339,     0.39439,      0.3954,      0.3964,      0.3974,      0.3984,      0.3994,      0.4004,      0.4014,      0.4024,      0.4034,      0.4044,     0.40541,     0.40641,     0.40741,\n",
      "           0.40841,     0.40941,     0.41041,     0.41141,     0.41241,     0.41341,     0.41441,     0.41542,     0.41642,     0.41742,     0.41842,     0.41942,     0.42042,     0.42142,     0.42242,     0.42342,     0.42442,     0.42543,     0.42643,     0.42743,     0.42843,     0.42943,     0.43043,     0.43143,\n",
      "           0.43243,     0.43343,     0.43443,     0.43544,     0.43644,     0.43744,     0.43844,     0.43944,     0.44044,     0.44144,     0.44244,     0.44344,     0.44444,     0.44545,     0.44645,     0.44745,     0.44845,     0.44945,     0.45045,     0.45145,     0.45245,     0.45345,     0.45445,     0.45546,\n",
      "           0.45646,     0.45746,     0.45846,     0.45946,     0.46046,     0.46146,     0.46246,     0.46346,     0.46446,     0.46547,     0.46647,     0.46747,     0.46847,     0.46947,     0.47047,     0.47147,     0.47247,     0.47347,     0.47447,     0.47548,     0.47648,     0.47748,     0.47848,     0.47948,\n",
      "           0.48048,     0.48148,     0.48248,     0.48348,     0.48448,     0.48549,     0.48649,     0.48749,     0.48849,     0.48949,     0.49049,     0.49149,     0.49249,     0.49349,     0.49449,      0.4955,      0.4965,      0.4975,      0.4985,      0.4995,      0.5005,      0.5015,      0.5025,      0.5035,\n",
      "            0.5045,     0.50551,     0.50651,     0.50751,     0.50851,     0.50951,     0.51051,     0.51151,     0.51251,     0.51351,     0.51451,     0.51552,     0.51652,     0.51752,     0.51852,     0.51952,     0.52052,     0.52152,     0.52252,     0.52352,     0.52452,     0.52553,     0.52653,     0.52753,\n",
      "           0.52853,     0.52953,     0.53053,     0.53153,     0.53253,     0.53353,     0.53453,     0.53554,     0.53654,     0.53754,     0.53854,     0.53954,     0.54054,     0.54154,     0.54254,     0.54354,     0.54454,     0.54555,     0.54655,     0.54755,     0.54855,     0.54955,     0.55055,     0.55155,\n",
      "           0.55255,     0.55355,     0.55455,     0.55556,     0.55656,     0.55756,     0.55856,     0.55956,     0.56056,     0.56156,     0.56256,     0.56356,     0.56456,     0.56557,     0.56657,     0.56757,     0.56857,     0.56957,     0.57057,     0.57157,     0.57257,     0.57357,     0.57457,     0.57558,\n",
      "           0.57658,     0.57758,     0.57858,     0.57958,     0.58058,     0.58158,     0.58258,     0.58358,     0.58458,     0.58559,     0.58659,     0.58759,     0.58859,     0.58959,     0.59059,     0.59159,     0.59259,     0.59359,     0.59459,      0.5956,      0.5966,      0.5976,      0.5986,      0.5996,\n",
      "            0.6006,      0.6016,      0.6026,      0.6036,      0.6046,     0.60561,     0.60661,     0.60761,     0.60861,     0.60961,     0.61061,     0.61161,     0.61261,     0.61361,     0.61461,     0.61562,     0.61662,     0.61762,     0.61862,     0.61962,     0.62062,     0.62162,     0.62262,     0.62362,\n",
      "           0.62462,     0.62563,     0.62663,     0.62763,     0.62863,     0.62963,     0.63063,     0.63163,     0.63263,     0.63363,     0.63463,     0.63564,     0.63664,     0.63764,     0.63864,     0.63964,     0.64064,     0.64164,     0.64264,     0.64364,     0.64464,     0.64565,     0.64665,     0.64765,\n",
      "           0.64865,     0.64965,     0.65065,     0.65165,     0.65265,     0.65365,     0.65465,     0.65566,     0.65666,     0.65766,     0.65866,     0.65966,     0.66066,     0.66166,     0.66266,     0.66366,     0.66466,     0.66567,     0.66667,     0.66767,     0.66867,     0.66967,     0.67067,     0.67167,\n",
      "           0.67267,     0.67367,     0.67467,     0.67568,     0.67668,     0.67768,     0.67868,     0.67968,     0.68068,     0.68168,     0.68268,     0.68368,     0.68468,     0.68569,     0.68669,     0.68769,     0.68869,     0.68969,     0.69069,     0.69169,     0.69269,     0.69369,     0.69469,      0.6957,\n",
      "            0.6967,      0.6977,      0.6987,      0.6997,      0.7007,      0.7017,      0.7027,      0.7037,      0.7047,     0.70571,     0.70671,     0.70771,     0.70871,     0.70971,     0.71071,     0.71171,     0.71271,     0.71371,     0.71471,     0.71572,     0.71672,     0.71772,     0.71872,     0.71972,\n",
      "           0.72072,     0.72172,     0.72272,     0.72372,     0.72472,     0.72573,     0.72673,     0.72773,     0.72873,     0.72973,     0.73073,     0.73173,     0.73273,     0.73373,     0.73473,     0.73574,     0.73674,     0.73774,     0.73874,     0.73974,     0.74074,     0.74174,     0.74274,     0.74374,\n",
      "           0.74474,     0.74575,     0.74675,     0.74775,     0.74875,     0.74975,     0.75075,     0.75175,     0.75275,     0.75375,     0.75475,     0.75576,     0.75676,     0.75776,     0.75876,     0.75976,     0.76076,     0.76176,     0.76276,     0.76376,     0.76476,     0.76577,     0.76677,     0.76777,\n",
      "           0.76877,     0.76977,     0.77077,     0.77177,     0.77277,     0.77377,     0.77477,     0.77578,     0.77678,     0.77778,     0.77878,     0.77978,     0.78078,     0.78178,     0.78278,     0.78378,     0.78478,     0.78579,     0.78679,     0.78779,     0.78879,     0.78979,     0.79079,     0.79179,\n",
      "           0.79279,     0.79379,     0.79479,      0.7958,      0.7968,      0.7978,      0.7988,      0.7998,      0.8008,      0.8018,      0.8028,      0.8038,      0.8048,     0.80581,     0.80681,     0.80781,     0.80881,     0.80981,     0.81081,     0.81181,     0.81281,     0.81381,     0.81481,     0.81582,\n",
      "           0.81682,     0.81782,     0.81882,     0.81982,     0.82082,     0.82182,     0.82282,     0.82382,     0.82482,     0.82583,     0.82683,     0.82783,     0.82883,     0.82983,     0.83083,     0.83183,     0.83283,     0.83383,     0.83483,     0.83584,     0.83684,     0.83784,     0.83884,     0.83984,\n",
      "           0.84084,     0.84184,     0.84284,     0.84384,     0.84484,     0.84585,     0.84685,     0.84785,     0.84885,     0.84985,     0.85085,     0.85185,     0.85285,     0.85385,     0.85485,     0.85586,     0.85686,     0.85786,     0.85886,     0.85986,     0.86086,     0.86186,     0.86286,     0.86386,\n",
      "           0.86486,     0.86587,     0.86687,     0.86787,     0.86887,     0.86987,     0.87087,     0.87187,     0.87287,     0.87387,     0.87487,     0.87588,     0.87688,     0.87788,     0.87888,     0.87988,     0.88088,     0.88188,     0.88288,     0.88388,     0.88488,     0.88589,     0.88689,     0.88789,\n",
      "           0.88889,     0.88989,     0.89089,     0.89189,     0.89289,     0.89389,     0.89489,      0.8959,      0.8969,      0.8979,      0.8989,      0.8999,      0.9009,      0.9019,      0.9029,      0.9039,      0.9049,     0.90591,     0.90691,     0.90791,     0.90891,     0.90991,     0.91091,     0.91191,\n",
      "           0.91291,     0.91391,     0.91491,     0.91592,     0.91692,     0.91792,     0.91892,     0.91992,     0.92092,     0.92192,     0.92292,     0.92392,     0.92492,     0.92593,     0.92693,     0.92793,     0.92893,     0.92993,     0.93093,     0.93193,     0.93293,     0.93393,     0.93493,     0.93594,\n",
      "           0.93694,     0.93794,     0.93894,     0.93994,     0.94094,     0.94194,     0.94294,     0.94394,     0.94494,     0.94595,     0.94695,     0.94795,     0.94895,     0.94995,     0.95095,     0.95195,     0.95295,     0.95395,     0.95495,     0.95596,     0.95696,     0.95796,     0.95896,     0.95996,\n",
      "           0.96096,     0.96196,     0.96296,     0.96396,     0.96496,     0.96597,     0.96697,     0.96797,     0.96897,     0.96997,     0.97097,     0.97197,     0.97297,     0.97397,     0.97497,     0.97598,     0.97698,     0.97798,     0.97898,     0.97998,     0.98098,     0.98198,     0.98298,     0.98398,\n",
      "           0.98498,     0.98599,     0.98699,     0.98799,     0.98899,     0.98999,     0.99099,     0.99199,     0.99299,     0.99399,     0.99499,       0.996,       0.997,       0.998,       0.999,           1]), array([[   0.023152,    0.023197,    0.046456,    0.068861,    0.088759,     0.10429,     0.12174,     0.13844,     0.15057,     0.16665,     0.18556,     0.19282,     0.20702,     0.22618,     0.24417,     0.25354,     0.27329,     0.29763,     0.31358,     0.33288,     0.34153,     0.35201,     0.36037,\n",
      "            0.37148,     0.38332,     0.39348,     0.39842,     0.41177,      0.4164,     0.42127,     0.42541,     0.42713,      0.4302,     0.43953,     0.44317,     0.46224,     0.46636,     0.46871,     0.48007,     0.49186,     0.49377,     0.49759,     0.50183,     0.50401,     0.50553,     0.50676,\n",
      "            0.50798,     0.50921,     0.51091,     0.51271,      0.5152,     0.52136,     0.52471,     0.52582,     0.52692,     0.52803,     0.52913,     0.53118,     0.53356,      0.5349,     0.53536,     0.53582,     0.53628,     0.53674,      0.5372,     0.53766,     0.53812,     0.53858,     0.53904,\n",
      "             0.5395,     0.53996,     0.54118,     0.54249,     0.54379,     0.54509,     0.54736,     0.55001,     0.55135,     0.55188,     0.55241,     0.55294,     0.55347,       0.554,     0.55453,     0.55506,     0.55559,     0.55612,     0.55665,     0.56108,     0.56915,     0.57163,     0.57411,\n",
      "            0.57999,     0.58535,     0.58822,     0.59004,     0.59186,     0.59346,     0.59381,     0.59416,     0.59451,     0.59485,      0.5952,     0.59555,      0.5959,     0.59625,      0.5966,     0.59695,      0.5973,     0.59765,     0.59799,     0.59834,     0.59869,     0.59904,     0.59939,\n",
      "            0.59974,     0.60034,     0.60169,     0.60305,     0.60441,     0.60576,     0.61151,     0.61475,     0.61603,      0.6173,     0.61858,     0.61985,     0.62265,     0.62948,     0.63976,     0.64314,     0.64371,     0.64428,     0.64484,     0.64541,     0.64598,     0.64655,     0.64711,\n",
      "            0.64768,     0.64825,     0.64881,     0.64938,     0.64995,     0.65052,     0.65155,     0.65268,      0.6538,     0.65493,     0.65605,     0.65718,      0.6583,      0.6608,     0.66365,     0.66651,     0.66795,     0.66931,     0.67067,     0.67203,     0.67339,     0.67475,      0.6852,\n",
      "            0.68738,     0.68957,     0.69176,     0.69618,     0.70135,     0.70474,     0.70814,     0.71509,     0.72022,     0.72054,     0.72086,     0.72118,      0.7215,     0.72182,     0.72214,     0.72246,     0.72279,     0.72311,     0.72343,     0.72375,     0.72407,     0.72439,     0.72471,\n",
      "            0.72503,     0.72535,     0.72567,     0.72599,     0.72632,     0.72664,     0.72696,     0.72728,      0.7276,     0.72792,     0.72824,     0.72856,     0.72888,      0.7292,     0.72952,     0.73018,     0.73145,     0.73271,     0.73398,     0.73524,     0.73651,     0.73777,     0.73904,\n",
      "            0.74234,     0.74808,     0.75055,     0.75138,      0.7522,     0.75303,     0.75386,     0.75469,     0.75551,     0.75634,     0.75717,     0.75799,     0.75882,     0.75965,     0.76047,     0.76341,     0.76659,     0.76978,     0.77669,     0.78388,     0.78665,     0.78942,      0.7922,\n",
      "            0.79522,     0.79879,     0.80237,     0.80594,     0.80976,     0.81358,      0.8174,     0.81909,     0.82023,     0.82137,     0.82252,     0.82366,      0.8248,     0.82594,     0.82708,     0.82822,     0.82936,     0.83051,     0.83209,     0.83382,     0.83554,     0.83726,     0.83898,\n",
      "            0.84071,     0.84243,     0.84701,     0.85756,     0.85905,     0.86054,     0.86203,     0.86351,       0.865,     0.86649,     0.86798,     0.86947,     0.87096,     0.87125,     0.87154,     0.87183,     0.87211,      0.8724,     0.87269,     0.87297,     0.87326,     0.87355,     0.87383,\n",
      "            0.87412,     0.87441,     0.87469,     0.87498,     0.87526,     0.87555,     0.87584,     0.87612,     0.87641,      0.8767,     0.87698,     0.87727,     0.87756,     0.87784,     0.87813,     0.87842,      0.8787,     0.87899,     0.87928,     0.87956,     0.87985,     0.88014,     0.88042,\n",
      "            0.88071,     0.88099,     0.88128,     0.88157,     0.88185,     0.88214,     0.88243,     0.88271,       0.883,     0.88329,     0.88357,     0.88386,     0.88415,     0.88443,     0.88472,     0.88501,     0.88605,     0.89095,     0.89586,     0.90016,     0.90123,     0.90229,     0.90335,\n",
      "            0.90442,     0.90548,     0.90654,     0.90761,     0.90867,     0.90973,      0.9108,     0.91186,     0.91292,     0.91398,     0.91505,     0.91551,     0.91582,     0.91613,     0.91644,     0.91675,     0.91707,     0.91738,     0.91769,       0.918,     0.91831,     0.91863,     0.91894,\n",
      "            0.91925,     0.91956,     0.91987,     0.92019,      0.9205,     0.92081,     0.92112,     0.92143,     0.92175,     0.92206,     0.92237,     0.92268,     0.92299,     0.92331,     0.92362,     0.92393,     0.92424,     0.92455,     0.92487,     0.92518,     0.92549,      0.9258,     0.92612,\n",
      "            0.92643,     0.92674,     0.92705,     0.92736,     0.92768,     0.92799,      0.9283,     0.92861,     0.92892,     0.92924,     0.92955,     0.92986,     0.93017,     0.93048,      0.9308,     0.93141,     0.93299,     0.93457,     0.93615,     0.93773,     0.93931,     0.94089,     0.94247,\n",
      "            0.94406,     0.94564,     0.94722,     0.94747,     0.94759,      0.9477,     0.94782,     0.94793,     0.94805,     0.94816,     0.94828,     0.94839,     0.94851,     0.94862,     0.94873,     0.94885,     0.94896,     0.94908,     0.94919,     0.94931,     0.94942,     0.94954,     0.94965,\n",
      "            0.94977,     0.94988,        0.95,     0.95011,     0.95023,     0.95034,     0.95046,     0.95057,     0.95069,      0.9508,     0.95091,     0.95103,     0.95114,     0.95126,     0.95137,     0.95149,      0.9516,     0.95172,     0.95183,     0.95195,     0.95206,     0.95218,     0.95229,\n",
      "            0.95241,     0.95252,     0.95264,     0.95275,     0.95287,     0.95298,      0.9531,     0.95321,     0.95332,     0.95344,     0.95355,     0.95367,     0.95378,      0.9539,     0.95401,     0.95413,     0.95424,     0.95436,     0.95447,     0.95459,      0.9547,     0.95482,     0.95493,\n",
      "            0.95505,     0.95516,     0.95528,     0.95539,     0.95551,     0.95562,     0.95573,     0.95585,     0.95596,     0.95608,     0.95619,     0.95631,     0.95642,     0.95654,     0.95665,     0.95677,     0.95688,       0.957,     0.95711,     0.95723,     0.95734,     0.95746,     0.95757,\n",
      "            0.95769,      0.9578,     0.95792,     0.95803,     0.95814,     0.95826,     0.95837,     0.95849,      0.9586,     0.95872,     0.95883,     0.95895,     0.95906,     0.95918,     0.95929,     0.95941,     0.95952,     0.95964,     0.95975,     0.95987,     0.95998,      0.9601,     0.96021,\n",
      "            0.96032,     0.96044,     0.96055,     0.96067,     0.96078,      0.9609,     0.96101,     0.96113,     0.96124,     0.96136,     0.96147,     0.96159,      0.9617,     0.96182,     0.96193,     0.96205,     0.96216,     0.96228,     0.96239,     0.96251,     0.96262,     0.96273,     0.96285,\n",
      "            0.96296,     0.96308,     0.96319,     0.96331,     0.96342,     0.96354,     0.96365,     0.96377,     0.96388,       0.964,     0.96411,     0.96423,     0.96433,     0.96441,     0.96449,     0.96458,     0.96466,     0.96474,     0.96483,     0.96491,     0.96499,     0.96508,     0.96516,\n",
      "            0.96524,     0.96533,     0.96541,     0.96549,     0.96558,     0.96566,     0.96574,     0.96583,     0.96591,     0.96599,     0.96608,     0.96616,     0.96624,     0.96633,     0.96641,     0.96649,     0.96658,     0.96666,     0.96674,     0.96682,     0.96691,     0.96699,     0.96707,\n",
      "            0.96716,     0.96724,     0.96732,     0.96741,     0.96749,     0.96757,     0.96766,     0.96774,     0.96782,     0.96791,     0.96799,     0.96807,     0.96816,     0.96824,     0.96832,     0.96841,     0.96849,     0.96857,     0.96866,     0.96874,     0.96882,     0.96891,     0.96899,\n",
      "            0.96907,     0.96916,     0.96924,     0.96932,     0.96941,     0.96949,     0.96957,     0.96966,     0.96974,     0.96982,     0.96991,     0.96999,     0.97007,     0.97016,     0.97024,     0.97032,     0.97041,     0.97049,     0.97057,     0.97066,     0.97074,     0.97082,     0.97091,\n",
      "            0.97099,     0.97107,     0.97116,     0.97124,     0.97132,     0.97141,     0.97149,     0.97157,     0.97166,     0.97174,     0.97182,     0.97191,     0.97199,     0.97207,     0.97216,     0.97224,     0.97232,     0.97241,     0.97249,     0.97257,     0.97266,     0.97274,     0.97282,\n",
      "            0.97291,     0.97299,     0.97307,     0.97316,     0.97324,     0.97332,      0.9734,     0.97349,     0.97357,     0.97365,     0.97374,     0.97382,      0.9739,     0.97399,     0.97407,     0.97415,     0.97424,     0.97432,      0.9744,     0.97449,     0.97457,     0.97465,     0.97474,\n",
      "            0.97482,      0.9749,     0.97499,     0.97507,     0.97515,     0.97524,     0.97532,      0.9754,     0.97549,     0.97557,     0.97565,     0.97574,     0.97582,      0.9759,     0.97599,     0.97607,     0.97615,     0.97624,     0.97632,      0.9764,     0.97649,     0.97657,     0.97665,\n",
      "            0.97674,     0.97682,      0.9769,     0.97699,     0.97707,     0.97715,     0.97724,     0.97732,      0.9774,     0.97749,     0.97757,     0.97765,     0.97774,     0.97782,      0.9779,     0.97799,     0.97807,     0.97815,     0.97824,     0.97832,      0.9784,     0.97849,     0.97857,\n",
      "            0.97865,     0.97874,     0.97882,      0.9789,     0.97899,     0.97907,     0.97915,     0.97924,     0.97932,      0.9794,     0.97949,     0.97957,     0.97965,     0.97974,     0.97982,      0.9799,     0.97999,     0.98007,     0.98015,     0.98023,     0.98032,      0.9804,     0.98048,\n",
      "            0.98057,     0.98065,     0.98073,     0.98082,      0.9809,     0.98098,     0.98107,     0.98115,     0.98123,     0.98132,      0.9814,     0.98148,     0.98157,     0.98165,     0.98173,     0.98182,      0.9818,     0.98179,     0.98177,     0.98176,     0.98174,     0.98173,     0.98172,\n",
      "             0.9817,     0.98169,     0.98167,     0.98166,     0.98164,     0.98163,     0.98161,      0.9816,     0.98158,     0.98157,     0.98155,     0.98154,     0.98152,     0.98151,     0.98149,     0.98151,     0.98168,     0.98186,     0.98203,     0.98221,     0.98238,     0.98256,     0.98273,\n",
      "            0.98291,     0.98308,     0.98326,     0.98343,      0.9836,     0.98378,     0.98395,     0.98413,      0.9843,     0.98448,     0.98465,     0.98483,       0.985,     0.98518,     0.98535,     0.98553,      0.9857,     0.98587,     0.98605,     0.98622,      0.9864,     0.98657,     0.98675,\n",
      "            0.98692,      0.9871,     0.98727,     0.98745,     0.98762,      0.9878,     0.98797,     0.98814,     0.98832,     0.98849,     0.98867,     0.98884,     0.98902,     0.98919,     0.98937,     0.98954,     0.98972,     0.98989,     0.99007,     0.99024,     0.99041,     0.99059,     0.99076,\n",
      "            0.99094,     0.99111,     0.99129,     0.99146,     0.99164,     0.99181,     0.99199,     0.99216,     0.99234,     0.99251,     0.99269,     0.99286,     0.99303,     0.99321,     0.99338,     0.99356,     0.99373,     0.99391,     0.99408,     0.99426,     0.99443,     0.99461,     0.99478,\n",
      "            0.99496,     0.99513,      0.9953,     0.99548,     0.99565,     0.99583,       0.996,     0.99618,     0.99635,     0.99653,      0.9967,     0.99688,     0.99705,     0.99723,      0.9974,     0.99757,     0.99775,     0.99792,      0.9981,     0.99827,     0.99845,     0.99862,      0.9988,\n",
      "            0.99897,     0.99915,     0.99932,      0.9995,     0.99967,     0.99984,           1,           1,           1,           1,           1,           1,           1,           1,           1,           1,           1,           1,           1,           1,           1,           1,           1,\n",
      "                  1,           1,           1,           1,           1,           1,           1,           1,           1,           1,           1,           1,           1,           1,           1,           1,           1,           1,           1,           1,           1,           1,           1,\n",
      "                  1,           1,           1,           1,           1,           1,           1,           1,           1,           1,           1,           1,           1,           1,           1,           1,           1,           1,           1,           1,           1,           1,           1,\n",
      "                  1,           1,           1,           1,           1,           1,           1,           1,           1,           1,           1,           1,           1,           1,           1,           1,           1,           1,           1,           1,           1,           1,           1,\n",
      "                  1,           1,           1,           1,           1,           1,           1,           1,           1,           1,           1,           1,           1,           1,           1,           1,           1,           1,           1,           1,           1,           1,           1,\n",
      "                  1,           1,           1,           1,           1,           1,           1,           1,           1,           1,           1]]), 'Confidence', 'Precision'], [array([          0,    0.001001,    0.002002,    0.003003,    0.004004,    0.005005,    0.006006,    0.007007,    0.008008,    0.009009,     0.01001,    0.011011,    0.012012,    0.013013,    0.014014,    0.015015,    0.016016,    0.017017,    0.018018,    0.019019,     0.02002,    0.021021,    0.022022,    0.023023,\n",
      "          0.024024,    0.025025,    0.026026,    0.027027,    0.028028,    0.029029,     0.03003,    0.031031,    0.032032,    0.033033,    0.034034,    0.035035,    0.036036,    0.037037,    0.038038,    0.039039,     0.04004,    0.041041,    0.042042,    0.043043,    0.044044,    0.045045,    0.046046,    0.047047,\n",
      "          0.048048,    0.049049,     0.05005,    0.051051,    0.052052,    0.053053,    0.054054,    0.055055,    0.056056,    0.057057,    0.058058,    0.059059,     0.06006,    0.061061,    0.062062,    0.063063,    0.064064,    0.065065,    0.066066,    0.067067,    0.068068,    0.069069,     0.07007,    0.071071,\n",
      "          0.072072,    0.073073,    0.074074,    0.075075,    0.076076,    0.077077,    0.078078,    0.079079,     0.08008,    0.081081,    0.082082,    0.083083,    0.084084,    0.085085,    0.086086,    0.087087,    0.088088,    0.089089,     0.09009,    0.091091,    0.092092,    0.093093,    0.094094,    0.095095,\n",
      "          0.096096,    0.097097,    0.098098,    0.099099,      0.1001,      0.1011,      0.1021,      0.1031,      0.1041,     0.10511,     0.10611,     0.10711,     0.10811,     0.10911,     0.11011,     0.11111,     0.11211,     0.11311,     0.11411,     0.11512,     0.11612,     0.11712,     0.11812,     0.11912,\n",
      "           0.12012,     0.12112,     0.12212,     0.12312,     0.12412,     0.12513,     0.12613,     0.12713,     0.12813,     0.12913,     0.13013,     0.13113,     0.13213,     0.13313,     0.13413,     0.13514,     0.13614,     0.13714,     0.13814,     0.13914,     0.14014,     0.14114,     0.14214,     0.14314,\n",
      "           0.14414,     0.14515,     0.14615,     0.14715,     0.14815,     0.14915,     0.15015,     0.15115,     0.15215,     0.15315,     0.15415,     0.15516,     0.15616,     0.15716,     0.15816,     0.15916,     0.16016,     0.16116,     0.16216,     0.16316,     0.16416,     0.16517,     0.16617,     0.16717,\n",
      "           0.16817,     0.16917,     0.17017,     0.17117,     0.17217,     0.17317,     0.17417,     0.17518,     0.17618,     0.17718,     0.17818,     0.17918,     0.18018,     0.18118,     0.18218,     0.18318,     0.18418,     0.18519,     0.18619,     0.18719,     0.18819,     0.18919,     0.19019,     0.19119,\n",
      "           0.19219,     0.19319,     0.19419,      0.1952,      0.1962,      0.1972,      0.1982,      0.1992,      0.2002,      0.2012,      0.2022,      0.2032,      0.2042,     0.20521,     0.20621,     0.20721,     0.20821,     0.20921,     0.21021,     0.21121,     0.21221,     0.21321,     0.21421,     0.21522,\n",
      "           0.21622,     0.21722,     0.21822,     0.21922,     0.22022,     0.22122,     0.22222,     0.22322,     0.22422,     0.22523,     0.22623,     0.22723,     0.22823,     0.22923,     0.23023,     0.23123,     0.23223,     0.23323,     0.23423,     0.23524,     0.23624,     0.23724,     0.23824,     0.23924,\n",
      "           0.24024,     0.24124,     0.24224,     0.24324,     0.24424,     0.24525,     0.24625,     0.24725,     0.24825,     0.24925,     0.25025,     0.25125,     0.25225,     0.25325,     0.25425,     0.25526,     0.25626,     0.25726,     0.25826,     0.25926,     0.26026,     0.26126,     0.26226,     0.26326,\n",
      "           0.26426,     0.26527,     0.26627,     0.26727,     0.26827,     0.26927,     0.27027,     0.27127,     0.27227,     0.27327,     0.27427,     0.27528,     0.27628,     0.27728,     0.27828,     0.27928,     0.28028,     0.28128,     0.28228,     0.28328,     0.28428,     0.28529,     0.28629,     0.28729,\n",
      "           0.28829,     0.28929,     0.29029,     0.29129,     0.29229,     0.29329,     0.29429,      0.2953,      0.2963,      0.2973,      0.2983,      0.2993,      0.3003,      0.3013,      0.3023,      0.3033,      0.3043,     0.30531,     0.30631,     0.30731,     0.30831,     0.30931,     0.31031,     0.31131,\n",
      "           0.31231,     0.31331,     0.31431,     0.31532,     0.31632,     0.31732,     0.31832,     0.31932,     0.32032,     0.32132,     0.32232,     0.32332,     0.32432,     0.32533,     0.32633,     0.32733,     0.32833,     0.32933,     0.33033,     0.33133,     0.33233,     0.33333,     0.33433,     0.33534,\n",
      "           0.33634,     0.33734,     0.33834,     0.33934,     0.34034,     0.34134,     0.34234,     0.34334,     0.34434,     0.34535,     0.34635,     0.34735,     0.34835,     0.34935,     0.35035,     0.35135,     0.35235,     0.35335,     0.35435,     0.35536,     0.35636,     0.35736,     0.35836,     0.35936,\n",
      "           0.36036,     0.36136,     0.36236,     0.36336,     0.36436,     0.36537,     0.36637,     0.36737,     0.36837,     0.36937,     0.37037,     0.37137,     0.37237,     0.37337,     0.37437,     0.37538,     0.37638,     0.37738,     0.37838,     0.37938,     0.38038,     0.38138,     0.38238,     0.38338,\n",
      "           0.38438,     0.38539,     0.38639,     0.38739,     0.38839,     0.38939,     0.39039,     0.39139,     0.39239,     0.39339,     0.39439,      0.3954,      0.3964,      0.3974,      0.3984,      0.3994,      0.4004,      0.4014,      0.4024,      0.4034,      0.4044,     0.40541,     0.40641,     0.40741,\n",
      "           0.40841,     0.40941,     0.41041,     0.41141,     0.41241,     0.41341,     0.41441,     0.41542,     0.41642,     0.41742,     0.41842,     0.41942,     0.42042,     0.42142,     0.42242,     0.42342,     0.42442,     0.42543,     0.42643,     0.42743,     0.42843,     0.42943,     0.43043,     0.43143,\n",
      "           0.43243,     0.43343,     0.43443,     0.43544,     0.43644,     0.43744,     0.43844,     0.43944,     0.44044,     0.44144,     0.44244,     0.44344,     0.44444,     0.44545,     0.44645,     0.44745,     0.44845,     0.44945,     0.45045,     0.45145,     0.45245,     0.45345,     0.45445,     0.45546,\n",
      "           0.45646,     0.45746,     0.45846,     0.45946,     0.46046,     0.46146,     0.46246,     0.46346,     0.46446,     0.46547,     0.46647,     0.46747,     0.46847,     0.46947,     0.47047,     0.47147,     0.47247,     0.47347,     0.47447,     0.47548,     0.47648,     0.47748,     0.47848,     0.47948,\n",
      "           0.48048,     0.48148,     0.48248,     0.48348,     0.48448,     0.48549,     0.48649,     0.48749,     0.48849,     0.48949,     0.49049,     0.49149,     0.49249,     0.49349,     0.49449,      0.4955,      0.4965,      0.4975,      0.4985,      0.4995,      0.5005,      0.5015,      0.5025,      0.5035,\n",
      "            0.5045,     0.50551,     0.50651,     0.50751,     0.50851,     0.50951,     0.51051,     0.51151,     0.51251,     0.51351,     0.51451,     0.51552,     0.51652,     0.51752,     0.51852,     0.51952,     0.52052,     0.52152,     0.52252,     0.52352,     0.52452,     0.52553,     0.52653,     0.52753,\n",
      "           0.52853,     0.52953,     0.53053,     0.53153,     0.53253,     0.53353,     0.53453,     0.53554,     0.53654,     0.53754,     0.53854,     0.53954,     0.54054,     0.54154,     0.54254,     0.54354,     0.54454,     0.54555,     0.54655,     0.54755,     0.54855,     0.54955,     0.55055,     0.55155,\n",
      "           0.55255,     0.55355,     0.55455,     0.55556,     0.55656,     0.55756,     0.55856,     0.55956,     0.56056,     0.56156,     0.56256,     0.56356,     0.56456,     0.56557,     0.56657,     0.56757,     0.56857,     0.56957,     0.57057,     0.57157,     0.57257,     0.57357,     0.57457,     0.57558,\n",
      "           0.57658,     0.57758,     0.57858,     0.57958,     0.58058,     0.58158,     0.58258,     0.58358,     0.58458,     0.58559,     0.58659,     0.58759,     0.58859,     0.58959,     0.59059,     0.59159,     0.59259,     0.59359,     0.59459,      0.5956,      0.5966,      0.5976,      0.5986,      0.5996,\n",
      "            0.6006,      0.6016,      0.6026,      0.6036,      0.6046,     0.60561,     0.60661,     0.60761,     0.60861,     0.60961,     0.61061,     0.61161,     0.61261,     0.61361,     0.61461,     0.61562,     0.61662,     0.61762,     0.61862,     0.61962,     0.62062,     0.62162,     0.62262,     0.62362,\n",
      "           0.62462,     0.62563,     0.62663,     0.62763,     0.62863,     0.62963,     0.63063,     0.63163,     0.63263,     0.63363,     0.63463,     0.63564,     0.63664,     0.63764,     0.63864,     0.63964,     0.64064,     0.64164,     0.64264,     0.64364,     0.64464,     0.64565,     0.64665,     0.64765,\n",
      "           0.64865,     0.64965,     0.65065,     0.65165,     0.65265,     0.65365,     0.65465,     0.65566,     0.65666,     0.65766,     0.65866,     0.65966,     0.66066,     0.66166,     0.66266,     0.66366,     0.66466,     0.66567,     0.66667,     0.66767,     0.66867,     0.66967,     0.67067,     0.67167,\n",
      "           0.67267,     0.67367,     0.67467,     0.67568,     0.67668,     0.67768,     0.67868,     0.67968,     0.68068,     0.68168,     0.68268,     0.68368,     0.68468,     0.68569,     0.68669,     0.68769,     0.68869,     0.68969,     0.69069,     0.69169,     0.69269,     0.69369,     0.69469,      0.6957,\n",
      "            0.6967,      0.6977,      0.6987,      0.6997,      0.7007,      0.7017,      0.7027,      0.7037,      0.7047,     0.70571,     0.70671,     0.70771,     0.70871,     0.70971,     0.71071,     0.71171,     0.71271,     0.71371,     0.71471,     0.71572,     0.71672,     0.71772,     0.71872,     0.71972,\n",
      "           0.72072,     0.72172,     0.72272,     0.72372,     0.72472,     0.72573,     0.72673,     0.72773,     0.72873,     0.72973,     0.73073,     0.73173,     0.73273,     0.73373,     0.73473,     0.73574,     0.73674,     0.73774,     0.73874,     0.73974,     0.74074,     0.74174,     0.74274,     0.74374,\n",
      "           0.74474,     0.74575,     0.74675,     0.74775,     0.74875,     0.74975,     0.75075,     0.75175,     0.75275,     0.75375,     0.75475,     0.75576,     0.75676,     0.75776,     0.75876,     0.75976,     0.76076,     0.76176,     0.76276,     0.76376,     0.76476,     0.76577,     0.76677,     0.76777,\n",
      "           0.76877,     0.76977,     0.77077,     0.77177,     0.77277,     0.77377,     0.77477,     0.77578,     0.77678,     0.77778,     0.77878,     0.77978,     0.78078,     0.78178,     0.78278,     0.78378,     0.78478,     0.78579,     0.78679,     0.78779,     0.78879,     0.78979,     0.79079,     0.79179,\n",
      "           0.79279,     0.79379,     0.79479,      0.7958,      0.7968,      0.7978,      0.7988,      0.7998,      0.8008,      0.8018,      0.8028,      0.8038,      0.8048,     0.80581,     0.80681,     0.80781,     0.80881,     0.80981,     0.81081,     0.81181,     0.81281,     0.81381,     0.81481,     0.81582,\n",
      "           0.81682,     0.81782,     0.81882,     0.81982,     0.82082,     0.82182,     0.82282,     0.82382,     0.82482,     0.82583,     0.82683,     0.82783,     0.82883,     0.82983,     0.83083,     0.83183,     0.83283,     0.83383,     0.83483,     0.83584,     0.83684,     0.83784,     0.83884,     0.83984,\n",
      "           0.84084,     0.84184,     0.84284,     0.84384,     0.84484,     0.84585,     0.84685,     0.84785,     0.84885,     0.84985,     0.85085,     0.85185,     0.85285,     0.85385,     0.85485,     0.85586,     0.85686,     0.85786,     0.85886,     0.85986,     0.86086,     0.86186,     0.86286,     0.86386,\n",
      "           0.86486,     0.86587,     0.86687,     0.86787,     0.86887,     0.86987,     0.87087,     0.87187,     0.87287,     0.87387,     0.87487,     0.87588,     0.87688,     0.87788,     0.87888,     0.87988,     0.88088,     0.88188,     0.88288,     0.88388,     0.88488,     0.88589,     0.88689,     0.88789,\n",
      "           0.88889,     0.88989,     0.89089,     0.89189,     0.89289,     0.89389,     0.89489,      0.8959,      0.8969,      0.8979,      0.8989,      0.8999,      0.9009,      0.9019,      0.9029,      0.9039,      0.9049,     0.90591,     0.90691,     0.90791,     0.90891,     0.90991,     0.91091,     0.91191,\n",
      "           0.91291,     0.91391,     0.91491,     0.91592,     0.91692,     0.91792,     0.91892,     0.91992,     0.92092,     0.92192,     0.92292,     0.92392,     0.92492,     0.92593,     0.92693,     0.92793,     0.92893,     0.92993,     0.93093,     0.93193,     0.93293,     0.93393,     0.93493,     0.93594,\n",
      "           0.93694,     0.93794,     0.93894,     0.93994,     0.94094,     0.94194,     0.94294,     0.94394,     0.94494,     0.94595,     0.94695,     0.94795,     0.94895,     0.94995,     0.95095,     0.95195,     0.95295,     0.95395,     0.95495,     0.95596,     0.95696,     0.95796,     0.95896,     0.95996,\n",
      "           0.96096,     0.96196,     0.96296,     0.96396,     0.96496,     0.96597,     0.96697,     0.96797,     0.96897,     0.96997,     0.97097,     0.97197,     0.97297,     0.97397,     0.97497,     0.97598,     0.97698,     0.97798,     0.97898,     0.97998,     0.98098,     0.98198,     0.98298,     0.98398,\n",
      "           0.98498,     0.98599,     0.98699,     0.98799,     0.98899,     0.98999,     0.99099,     0.99199,     0.99299,     0.99399,     0.99499,       0.996,       0.997,       0.998,       0.999,           1]), array([[     0.9661,      0.9661,      0.9661,     0.94915,     0.94915,      0.9322,      0.9322,      0.9322,     0.91525,     0.91525,     0.91525,     0.91525,     0.91525,     0.91525,     0.91525,     0.91525,     0.91525,     0.91525,     0.91525,     0.91525,     0.91525,     0.91525,     0.91525,\n",
      "            0.91525,     0.91525,     0.91525,     0.91525,     0.91525,     0.91525,     0.91525,     0.91525,     0.91525,     0.91525,     0.91525,     0.91525,     0.91525,     0.91525,     0.91525,     0.91525,     0.91525,     0.91525,     0.91525,     0.91525,     0.91525,     0.91525,     0.91525,\n",
      "            0.91525,     0.91525,     0.91525,     0.91525,     0.91525,     0.91525,     0.91525,     0.91525,     0.91525,     0.91525,     0.91525,     0.91525,     0.91525,     0.91525,     0.91525,     0.91525,     0.91525,     0.91525,     0.91525,     0.91525,     0.91525,     0.91525,     0.91525,\n",
      "            0.91525,     0.91525,     0.91525,     0.91525,     0.91525,     0.91525,     0.91525,     0.91525,     0.91525,     0.91525,     0.91525,     0.91525,     0.91525,     0.91525,     0.91525,     0.91525,     0.91525,     0.91525,     0.91525,     0.91525,     0.91525,     0.91525,     0.91525,\n",
      "            0.91525,     0.91525,     0.91525,     0.91525,     0.91525,     0.91525,     0.91525,     0.91525,     0.91525,     0.91525,     0.91525,     0.91525,     0.91525,     0.91525,     0.91525,     0.91525,     0.91525,     0.91525,     0.91525,     0.91525,     0.91525,     0.91525,     0.91525,\n",
      "            0.91525,     0.91525,     0.91525,     0.91525,     0.91525,     0.91525,     0.91525,     0.91525,     0.91525,     0.91525,     0.91525,     0.91525,     0.91525,     0.91525,     0.91525,     0.91525,     0.91525,     0.91525,     0.91525,     0.91525,     0.91525,     0.91525,     0.91525,\n",
      "            0.91525,     0.91525,     0.91525,     0.91525,     0.91525,     0.91525,     0.91525,     0.91525,     0.91525,     0.91525,     0.91525,     0.91525,     0.91525,     0.91525,     0.91525,     0.91525,     0.91525,     0.91525,     0.91525,     0.91525,     0.91525,     0.91525,     0.91525,\n",
      "            0.91525,     0.91525,     0.91525,     0.91525,     0.91525,     0.91525,     0.91525,     0.91525,     0.91525,     0.91525,     0.91525,     0.91525,     0.91525,     0.91525,     0.91525,     0.91525,     0.91525,     0.91525,     0.91525,     0.91525,     0.91525,     0.91525,     0.91525,\n",
      "            0.91525,     0.91525,     0.91525,     0.91525,     0.91525,     0.91525,     0.91525,     0.91525,     0.91525,     0.91525,     0.91525,     0.91525,     0.91525,     0.91525,     0.91525,     0.91525,     0.91525,     0.91525,     0.91525,     0.91525,     0.91525,     0.91525,     0.91525,\n",
      "            0.91525,     0.91525,     0.91525,     0.91525,     0.91525,     0.91525,     0.91525,     0.91525,     0.91525,     0.91525,     0.91525,     0.91525,     0.91525,     0.91525,     0.91525,     0.91525,     0.91525,     0.91525,     0.91525,     0.91525,     0.91525,     0.91525,     0.91525,\n",
      "            0.91525,     0.91525,     0.91525,     0.91525,     0.91525,     0.91525,     0.91525,     0.91525,     0.91525,     0.91525,     0.91525,     0.91525,     0.91525,     0.91525,     0.91525,     0.91525,     0.91525,     0.91525,     0.91525,     0.91525,     0.91525,     0.91525,     0.91525,\n",
      "            0.91525,     0.91525,     0.91525,     0.91525,     0.91525,     0.91525,     0.91525,     0.91525,     0.91525,     0.91525,     0.91525,     0.91525,     0.91525,     0.91525,     0.91525,     0.91525,     0.91525,     0.91525,     0.91525,     0.91525,     0.91525,     0.91525,     0.91525,\n",
      "            0.91525,     0.91525,     0.91525,     0.91525,     0.91525,     0.91525,     0.91525,     0.91525,     0.91525,     0.91525,     0.91525,     0.91525,     0.91525,     0.91525,     0.91525,     0.91525,     0.91525,     0.91525,     0.91525,     0.91525,     0.91525,     0.91525,     0.91525,\n",
      "            0.91525,     0.91525,     0.91525,     0.91525,     0.91525,     0.91525,     0.91525,     0.91525,     0.91525,     0.91525,     0.91525,     0.91525,     0.91525,     0.91525,     0.91525,     0.91525,     0.91525,     0.91525,     0.91525,     0.91525,     0.91525,     0.91525,     0.91525,\n",
      "            0.91525,     0.91525,     0.91525,     0.91525,     0.91525,     0.91525,     0.91525,     0.91525,     0.91525,     0.91525,     0.91525,     0.91525,     0.91525,     0.91525,     0.91525,     0.91525,     0.91525,     0.91525,     0.91525,     0.91525,     0.91525,     0.91525,     0.91525,\n",
      "            0.91525,     0.91525,     0.91525,     0.91525,     0.91525,     0.91525,     0.91525,     0.91525,     0.91525,     0.91525,     0.91525,     0.91525,     0.91525,     0.91525,     0.91525,     0.91525,     0.91525,     0.91525,     0.91525,     0.91525,     0.91525,     0.91525,     0.91525,\n",
      "            0.91525,     0.91525,     0.91525,     0.91525,     0.91525,     0.91525,     0.91525,     0.91525,     0.91525,     0.91525,     0.91525,     0.91525,     0.91525,     0.91525,     0.91525,     0.91525,     0.91525,     0.91525,     0.91525,     0.91525,     0.91525,     0.91525,     0.91525,\n",
      "            0.91525,     0.91525,     0.91525,     0.91525,     0.91525,     0.91525,     0.91525,     0.91525,     0.91525,     0.91525,     0.91525,     0.91525,     0.91525,     0.91525,     0.91525,     0.91525,     0.91525,     0.91525,     0.91525,     0.91525,     0.91525,     0.91525,     0.91525,\n",
      "            0.91525,     0.91525,     0.91525,     0.91525,     0.91525,     0.91525,     0.91525,     0.91525,     0.91525,     0.91525,     0.91525,     0.91525,     0.91525,     0.91525,     0.91525,     0.91525,     0.91525,     0.91525,     0.91525,     0.91525,     0.91525,     0.91525,     0.91525,\n",
      "            0.91525,     0.91525,     0.91525,     0.91525,     0.91525,     0.91525,     0.91525,     0.91525,     0.91525,     0.91525,     0.91525,     0.91525,     0.91525,     0.91525,     0.91525,     0.91525,     0.91525,     0.91525,     0.91525,     0.91525,     0.91525,     0.91525,     0.91525,\n",
      "            0.91525,     0.91525,     0.91525,     0.91525,     0.91525,     0.91525,     0.91525,     0.91525,     0.91525,     0.91525,     0.91525,     0.91525,     0.91525,     0.91525,     0.91525,     0.91525,     0.91525,     0.91525,     0.91525,     0.91525,     0.91525,     0.91525,     0.91525,\n",
      "            0.91525,     0.91525,     0.91525,     0.91525,     0.91525,     0.91525,     0.91525,     0.91525,     0.91525,     0.91525,     0.91525,     0.91525,     0.91525,     0.91525,     0.91525,     0.91525,     0.91525,     0.91525,     0.91525,     0.91525,     0.91525,     0.91525,     0.91525,\n",
      "            0.91525,     0.91525,     0.91525,     0.91525,     0.91525,     0.91525,     0.91525,     0.91525,     0.91525,     0.91525,     0.91525,     0.91525,     0.91525,     0.91525,     0.91525,     0.91525,     0.91525,     0.91525,     0.91525,     0.91525,     0.91525,     0.91525,     0.91525,\n",
      "            0.91525,     0.91525,     0.91525,     0.91525,     0.91525,     0.91525,     0.91525,     0.91525,     0.91525,     0.91525,     0.91525,     0.91525,     0.91525,     0.91525,     0.91525,     0.91525,     0.91525,     0.91525,     0.91525,     0.91525,     0.91525,     0.91525,     0.91525,\n",
      "            0.91525,     0.91525,     0.91525,     0.91525,     0.91525,     0.91525,     0.91525,     0.91525,     0.91525,     0.91525,     0.91525,     0.91525,     0.91525,     0.91525,     0.91525,     0.91525,     0.91525,     0.91525,     0.91525,     0.91525,     0.91525,     0.91525,     0.91525,\n",
      "            0.91525,     0.91525,     0.91525,     0.91525,     0.91525,     0.91525,     0.91525,     0.91525,     0.91525,     0.91525,     0.91525,     0.91525,     0.91525,     0.91525,     0.91525,     0.91525,     0.91525,     0.91525,     0.91525,     0.91525,     0.91525,     0.91525,     0.91525,\n",
      "            0.91525,     0.91525,     0.91525,     0.91525,     0.91525,     0.91525,     0.91525,     0.91525,     0.91525,     0.91525,     0.91525,     0.91525,     0.91525,     0.91525,     0.91525,     0.91525,     0.91525,     0.91525,     0.91525,     0.91525,     0.91525,     0.91525,     0.91525,\n",
      "            0.91525,     0.91525,     0.91525,     0.91525,     0.91525,     0.91525,     0.91525,     0.91525,     0.91525,     0.91525,     0.91525,     0.91525,     0.91525,     0.91525,     0.91525,     0.91525,     0.91525,     0.91525,     0.91525,     0.91525,     0.91525,     0.91525,     0.91525,\n",
      "            0.91525,     0.91525,     0.91525,     0.91525,     0.91525,     0.91525,     0.91525,     0.91525,     0.91525,     0.91525,     0.91525,     0.91525,     0.91525,     0.91525,     0.91525,     0.91525,     0.91525,     0.91525,     0.91525,     0.91525,     0.91525,     0.91525,     0.91525,\n",
      "            0.91525,     0.91525,     0.91525,     0.91525,     0.91525,     0.91525,     0.91525,     0.91525,     0.91525,     0.91525,     0.91525,     0.91525,     0.91525,     0.91525,     0.91525,     0.91525,     0.91525,     0.91525,     0.91525,     0.91525,     0.91525,     0.91525,     0.91525,\n",
      "            0.91525,     0.91525,     0.91525,     0.91525,     0.91525,     0.91525,     0.91525,     0.91525,     0.91525,     0.91525,     0.91525,     0.91525,     0.91525,     0.91525,     0.91525,     0.91525,     0.91525,     0.91525,     0.91525,     0.91525,     0.91525,     0.91525,     0.91525,\n",
      "            0.91525,     0.91525,     0.91525,     0.91525,     0.91525,     0.91525,     0.91525,     0.91525,     0.91525,     0.91525,     0.91525,     0.91525,     0.91525,     0.91525,     0.91525,     0.91525,     0.91525,     0.91525,     0.91525,     0.91525,     0.91525,     0.91525,     0.91525,\n",
      "            0.91525,     0.91525,     0.91525,     0.91525,     0.91525,     0.91525,     0.91525,     0.91525,     0.91525,     0.91525,     0.91525,     0.91525,     0.91525,     0.91525,     0.91525,     0.91525,     0.91452,     0.91378,     0.91303,     0.91229,     0.91155,     0.91081,     0.91006,\n",
      "            0.90932,     0.90858,     0.90784,      0.9071,     0.90635,     0.90561,     0.90487,     0.90413,     0.90338,     0.90264,      0.9019,     0.90116,     0.90041,     0.89967,     0.89893,     0.89831,     0.89831,     0.89831,     0.89831,     0.89831,     0.89831,     0.89831,     0.89831,\n",
      "            0.89831,     0.89831,     0.89831,     0.89831,     0.89831,     0.89831,     0.89831,     0.89831,     0.89831,     0.89831,     0.89831,     0.89831,     0.89831,     0.89831,     0.89831,     0.89831,     0.89831,     0.89831,     0.89831,     0.89831,     0.89831,     0.89831,     0.89831,\n",
      "            0.89831,     0.89831,     0.89831,     0.89831,     0.89831,     0.89831,     0.89831,     0.89831,     0.89831,     0.89831,     0.89831,     0.89831,     0.89831,     0.89831,     0.89831,     0.89831,     0.89831,     0.89831,     0.89831,     0.89831,     0.89831,     0.89831,     0.89831,\n",
      "            0.89831,     0.89831,     0.89831,     0.89831,     0.89831,     0.89831,     0.89831,     0.89831,     0.89831,     0.89831,     0.89831,     0.89831,     0.89831,     0.89831,     0.89831,     0.89831,     0.89831,     0.89831,     0.89831,     0.89831,     0.89831,     0.89831,     0.89831,\n",
      "            0.89831,     0.89831,     0.89831,     0.89831,     0.89831,     0.89831,     0.89831,     0.89831,     0.89831,     0.89831,     0.89831,     0.89831,     0.89831,     0.89831,     0.89831,     0.89831,     0.89831,     0.89831,     0.89831,     0.89831,     0.89831,     0.89831,     0.89831,\n",
      "            0.89831,     0.89831,     0.89831,     0.89831,     0.89831,     0.89831,     0.89687,     0.88395,     0.88053,     0.87949,     0.87845,     0.87742,     0.87638,     0.87535,     0.87431,     0.87327,     0.87224,      0.8712,     0.87017,     0.86913,     0.86809,     0.86706,     0.86602,\n",
      "            0.86498,     0.86364,      0.8619,     0.86017,     0.85843,      0.8567,     0.85496,     0.85323,     0.85149,     0.84976,     0.84802,     0.84628,     0.84453,     0.84278,     0.84103,     0.83928,     0.83753,     0.83578,     0.83403,     0.83228,     0.83054,     0.82697,     0.82338,\n",
      "            0.81978,     0.81619,     0.81218,     0.80705,     0.80192,      0.7968,     0.77863,     0.77508,     0.77153,     0.76797,     0.76442,     0.75704,     0.74611,     0.74284,     0.73982,      0.7368,     0.73378,     0.73076,     0.71094,     0.70597,     0.70099,     0.69602,     0.69141,\n",
      "            0.68692,     0.68242,     0.67773,     0.65749,     0.64628,      0.6376,     0.62953,     0.62412,     0.61984,     0.61556,     0.61127,     0.58134,     0.57168,     0.56565,     0.55963,     0.53855,     0.53312,     0.52769,     0.51245,     0.45493,     0.44605,     0.43619,     0.42482,\n",
      "             0.4136,     0.40394,     0.39669,      0.3875,      0.3583,     0.27959,     0.26469,     0.25507,     0.21292,     0.19714,      0.1817,     0.17161,     0.10184,    0.089156,    0.062991,    0.044306,    0.033489,    0.029754,    0.026019,    0.022284,    0.018549,           0,           0,\n",
      "                  0,           0,           0,           0,           0,           0,           0,           0,           0,           0,           0]]), 'Confidence', 'Recall']]\n",
      "fitness: 1.5978786271068253\n",
      "keys: ['metrics/precision(B)', 'metrics/recall(B)', 'metrics/mAP50(B)', 'metrics/mAP50-95(B)', 'metrics/precision(M)', 'metrics/recall(M)', 'metrics/mAP50(M)', 'metrics/mAP50-95(M)']\n",
      "maps: array([      1.571])\n",
      "names: {0: '-2- Colposcopic Segmentation - v3 2024-12-11 4-21pm'}\n",
      "plot: True\n",
      "results_dict: {'metrics/precision(B)': 0.9783192185022039, 'metrics/recall(B)': 0.9152542372881356, 'metrics/mAP50(B)': 0.9199862694210396, 'metrics/mAP50-95(B)': 0.8194725011827236, 'metrics/precision(M)': 0.9783192185022039, 'metrics/recall(M)': 0.9152542372881356, 'metrics/mAP50(M)': 0.9199862694210396, 'metrics/mAP50-95(M)': 0.7515068023979622, 'fitness': 1.5978786271068253}\n",
      "save_dir: WindowsPath('runs/segment/train62')\n",
      "seg: ultralytics.utils.metrics.Metric object\n",
      "speed: {'preprocess': 1.5356099164044414, 'inference': 100.791127593429, 'loss': 0.0, 'postprocess': 2.1321111255221896}\n",
      "task: 'segment'\n"
     ]
    }
   ],
   "source": [
    "validation_results = model.val(\n",
    "    data=YAML_PATH, imgsz=IMAGE_SIZE, batch=BATCH_SIZE)\n",
    "print(validation_results)"
   ]
  },
  {
   "cell_type": "markdown",
   "metadata": {},
   "source": [
    "# Test"
   ]
  },
  {
   "cell_type": "code",
   "execution_count": 10,
   "metadata": {},
   "outputs": [
    {
     "name": "stdout",
     "output_type": "stream",
     "text": [
      "Ultralytics YOLOv8.2.103  Python-3.10.0 torch-2.5.1+cpu CPU (Intel Core(TM) i5-8250U 1.60GHz)\n"
     ]
    },
    {
     "name": "stderr",
     "output_type": "stream",
     "text": [
      "\u001b[34m\u001b[1mval: \u001b[0mScanning C:\\Users\\taral\\OneDrive\\Documents\\Major project\\Code\\Segmentation\\270_seg_yolov8\\test\\labels.cache... 26 images, 0 backgrounds, 0 corrupt: 100%|██████████| 26/26 [00:00<?, ?it/s]\n",
      "                 Class     Images  Instances      Box(P          R      mAP50  mAP50-95)     Mask(P          R      mAP50  mAP50-95): 100%|██████████| 2/2 [00:04<00:00,  2.28s/it]\n"
     ]
    },
    {
     "name": "stdout",
     "output_type": "stream",
     "text": [
      "                   all         26         26      0.925          1      0.993      0.835      0.925          1      0.993      0.835\n",
      "Speed: 1.1ms preprocess, 71.8ms inference, 0.0ms loss, 2.9ms postprocess per image\n",
      "Results saved to \u001b[1mruns\\segment\\train63\u001b[0m\n",
      "ultralytics.utils.metrics.SegmentMetrics object with attributes:\n",
      "\n",
      "ap_class_index: array([0])\n",
      "box: ultralytics.utils.metrics.Metric object\n",
      "confusion_matrix: <ultralytics.utils.metrics.ConfusionMatrix object at 0x0000026148F6B4F0>\n",
      "curves: ['Precision-Recall(B)', 'F1-Confidence(B)', 'Precision-Confidence(B)', 'Recall-Confidence(B)', 'Precision-Recall(M)', 'F1-Confidence(M)', 'Precision-Confidence(M)', 'Recall-Confidence(M)']\n",
      "curves_results: [[array([          0,    0.001001,    0.002002,    0.003003,    0.004004,    0.005005,    0.006006,    0.007007,    0.008008,    0.009009,     0.01001,    0.011011,    0.012012,    0.013013,    0.014014,    0.015015,    0.016016,    0.017017,    0.018018,    0.019019,     0.02002,    0.021021,    0.022022,    0.023023,\n",
      "          0.024024,    0.025025,    0.026026,    0.027027,    0.028028,    0.029029,     0.03003,    0.031031,    0.032032,    0.033033,    0.034034,    0.035035,    0.036036,    0.037037,    0.038038,    0.039039,     0.04004,    0.041041,    0.042042,    0.043043,    0.044044,    0.045045,    0.046046,    0.047047,\n",
      "          0.048048,    0.049049,     0.05005,    0.051051,    0.052052,    0.053053,    0.054054,    0.055055,    0.056056,    0.057057,    0.058058,    0.059059,     0.06006,    0.061061,    0.062062,    0.063063,    0.064064,    0.065065,    0.066066,    0.067067,    0.068068,    0.069069,     0.07007,    0.071071,\n",
      "          0.072072,    0.073073,    0.074074,    0.075075,    0.076076,    0.077077,    0.078078,    0.079079,     0.08008,    0.081081,    0.082082,    0.083083,    0.084084,    0.085085,    0.086086,    0.087087,    0.088088,    0.089089,     0.09009,    0.091091,    0.092092,    0.093093,    0.094094,    0.095095,\n",
      "          0.096096,    0.097097,    0.098098,    0.099099,      0.1001,      0.1011,      0.1021,      0.1031,      0.1041,     0.10511,     0.10611,     0.10711,     0.10811,     0.10911,     0.11011,     0.11111,     0.11211,     0.11311,     0.11411,     0.11512,     0.11612,     0.11712,     0.11812,     0.11912,\n",
      "           0.12012,     0.12112,     0.12212,     0.12312,     0.12412,     0.12513,     0.12613,     0.12713,     0.12813,     0.12913,     0.13013,     0.13113,     0.13213,     0.13313,     0.13413,     0.13514,     0.13614,     0.13714,     0.13814,     0.13914,     0.14014,     0.14114,     0.14214,     0.14314,\n",
      "           0.14414,     0.14515,     0.14615,     0.14715,     0.14815,     0.14915,     0.15015,     0.15115,     0.15215,     0.15315,     0.15415,     0.15516,     0.15616,     0.15716,     0.15816,     0.15916,     0.16016,     0.16116,     0.16216,     0.16316,     0.16416,     0.16517,     0.16617,     0.16717,\n",
      "           0.16817,     0.16917,     0.17017,     0.17117,     0.17217,     0.17317,     0.17417,     0.17518,     0.17618,     0.17718,     0.17818,     0.17918,     0.18018,     0.18118,     0.18218,     0.18318,     0.18418,     0.18519,     0.18619,     0.18719,     0.18819,     0.18919,     0.19019,     0.19119,\n",
      "           0.19219,     0.19319,     0.19419,      0.1952,      0.1962,      0.1972,      0.1982,      0.1992,      0.2002,      0.2012,      0.2022,      0.2032,      0.2042,     0.20521,     0.20621,     0.20721,     0.20821,     0.20921,     0.21021,     0.21121,     0.21221,     0.21321,     0.21421,     0.21522,\n",
      "           0.21622,     0.21722,     0.21822,     0.21922,     0.22022,     0.22122,     0.22222,     0.22322,     0.22422,     0.22523,     0.22623,     0.22723,     0.22823,     0.22923,     0.23023,     0.23123,     0.23223,     0.23323,     0.23423,     0.23524,     0.23624,     0.23724,     0.23824,     0.23924,\n",
      "           0.24024,     0.24124,     0.24224,     0.24324,     0.24424,     0.24525,     0.24625,     0.24725,     0.24825,     0.24925,     0.25025,     0.25125,     0.25225,     0.25325,     0.25425,     0.25526,     0.25626,     0.25726,     0.25826,     0.25926,     0.26026,     0.26126,     0.26226,     0.26326,\n",
      "           0.26426,     0.26527,     0.26627,     0.26727,     0.26827,     0.26927,     0.27027,     0.27127,     0.27227,     0.27327,     0.27427,     0.27528,     0.27628,     0.27728,     0.27828,     0.27928,     0.28028,     0.28128,     0.28228,     0.28328,     0.28428,     0.28529,     0.28629,     0.28729,\n",
      "           0.28829,     0.28929,     0.29029,     0.29129,     0.29229,     0.29329,     0.29429,      0.2953,      0.2963,      0.2973,      0.2983,      0.2993,      0.3003,      0.3013,      0.3023,      0.3033,      0.3043,     0.30531,     0.30631,     0.30731,     0.30831,     0.30931,     0.31031,     0.31131,\n",
      "           0.31231,     0.31331,     0.31431,     0.31532,     0.31632,     0.31732,     0.31832,     0.31932,     0.32032,     0.32132,     0.32232,     0.32332,     0.32432,     0.32533,     0.32633,     0.32733,     0.32833,     0.32933,     0.33033,     0.33133,     0.33233,     0.33333,     0.33433,     0.33534,\n",
      "           0.33634,     0.33734,     0.33834,     0.33934,     0.34034,     0.34134,     0.34234,     0.34334,     0.34434,     0.34535,     0.34635,     0.34735,     0.34835,     0.34935,     0.35035,     0.35135,     0.35235,     0.35335,     0.35435,     0.35536,     0.35636,     0.35736,     0.35836,     0.35936,\n",
      "           0.36036,     0.36136,     0.36236,     0.36336,     0.36436,     0.36537,     0.36637,     0.36737,     0.36837,     0.36937,     0.37037,     0.37137,     0.37237,     0.37337,     0.37437,     0.37538,     0.37638,     0.37738,     0.37838,     0.37938,     0.38038,     0.38138,     0.38238,     0.38338,\n",
      "           0.38438,     0.38539,     0.38639,     0.38739,     0.38839,     0.38939,     0.39039,     0.39139,     0.39239,     0.39339,     0.39439,      0.3954,      0.3964,      0.3974,      0.3984,      0.3994,      0.4004,      0.4014,      0.4024,      0.4034,      0.4044,     0.40541,     0.40641,     0.40741,\n",
      "           0.40841,     0.40941,     0.41041,     0.41141,     0.41241,     0.41341,     0.41441,     0.41542,     0.41642,     0.41742,     0.41842,     0.41942,     0.42042,     0.42142,     0.42242,     0.42342,     0.42442,     0.42543,     0.42643,     0.42743,     0.42843,     0.42943,     0.43043,     0.43143,\n",
      "           0.43243,     0.43343,     0.43443,     0.43544,     0.43644,     0.43744,     0.43844,     0.43944,     0.44044,     0.44144,     0.44244,     0.44344,     0.44444,     0.44545,     0.44645,     0.44745,     0.44845,     0.44945,     0.45045,     0.45145,     0.45245,     0.45345,     0.45445,     0.45546,\n",
      "           0.45646,     0.45746,     0.45846,     0.45946,     0.46046,     0.46146,     0.46246,     0.46346,     0.46446,     0.46547,     0.46647,     0.46747,     0.46847,     0.46947,     0.47047,     0.47147,     0.47247,     0.47347,     0.47447,     0.47548,     0.47648,     0.47748,     0.47848,     0.47948,\n",
      "           0.48048,     0.48148,     0.48248,     0.48348,     0.48448,     0.48549,     0.48649,     0.48749,     0.48849,     0.48949,     0.49049,     0.49149,     0.49249,     0.49349,     0.49449,      0.4955,      0.4965,      0.4975,      0.4985,      0.4995,      0.5005,      0.5015,      0.5025,      0.5035,\n",
      "            0.5045,     0.50551,     0.50651,     0.50751,     0.50851,     0.50951,     0.51051,     0.51151,     0.51251,     0.51351,     0.51451,     0.51552,     0.51652,     0.51752,     0.51852,     0.51952,     0.52052,     0.52152,     0.52252,     0.52352,     0.52452,     0.52553,     0.52653,     0.52753,\n",
      "           0.52853,     0.52953,     0.53053,     0.53153,     0.53253,     0.53353,     0.53453,     0.53554,     0.53654,     0.53754,     0.53854,     0.53954,     0.54054,     0.54154,     0.54254,     0.54354,     0.54454,     0.54555,     0.54655,     0.54755,     0.54855,     0.54955,     0.55055,     0.55155,\n",
      "           0.55255,     0.55355,     0.55455,     0.55556,     0.55656,     0.55756,     0.55856,     0.55956,     0.56056,     0.56156,     0.56256,     0.56356,     0.56456,     0.56557,     0.56657,     0.56757,     0.56857,     0.56957,     0.57057,     0.57157,     0.57257,     0.57357,     0.57457,     0.57558,\n",
      "           0.57658,     0.57758,     0.57858,     0.57958,     0.58058,     0.58158,     0.58258,     0.58358,     0.58458,     0.58559,     0.58659,     0.58759,     0.58859,     0.58959,     0.59059,     0.59159,     0.59259,     0.59359,     0.59459,      0.5956,      0.5966,      0.5976,      0.5986,      0.5996,\n",
      "            0.6006,      0.6016,      0.6026,      0.6036,      0.6046,     0.60561,     0.60661,     0.60761,     0.60861,     0.60961,     0.61061,     0.61161,     0.61261,     0.61361,     0.61461,     0.61562,     0.61662,     0.61762,     0.61862,     0.61962,     0.62062,     0.62162,     0.62262,     0.62362,\n",
      "           0.62462,     0.62563,     0.62663,     0.62763,     0.62863,     0.62963,     0.63063,     0.63163,     0.63263,     0.63363,     0.63463,     0.63564,     0.63664,     0.63764,     0.63864,     0.63964,     0.64064,     0.64164,     0.64264,     0.64364,     0.64464,     0.64565,     0.64665,     0.64765,\n",
      "           0.64865,     0.64965,     0.65065,     0.65165,     0.65265,     0.65365,     0.65465,     0.65566,     0.65666,     0.65766,     0.65866,     0.65966,     0.66066,     0.66166,     0.66266,     0.66366,     0.66466,     0.66567,     0.66667,     0.66767,     0.66867,     0.66967,     0.67067,     0.67167,\n",
      "           0.67267,     0.67367,     0.67467,     0.67568,     0.67668,     0.67768,     0.67868,     0.67968,     0.68068,     0.68168,     0.68268,     0.68368,     0.68468,     0.68569,     0.68669,     0.68769,     0.68869,     0.68969,     0.69069,     0.69169,     0.69269,     0.69369,     0.69469,      0.6957,\n",
      "            0.6967,      0.6977,      0.6987,      0.6997,      0.7007,      0.7017,      0.7027,      0.7037,      0.7047,     0.70571,     0.70671,     0.70771,     0.70871,     0.70971,     0.71071,     0.71171,     0.71271,     0.71371,     0.71471,     0.71572,     0.71672,     0.71772,     0.71872,     0.71972,\n",
      "           0.72072,     0.72172,     0.72272,     0.72372,     0.72472,     0.72573,     0.72673,     0.72773,     0.72873,     0.72973,     0.73073,     0.73173,     0.73273,     0.73373,     0.73473,     0.73574,     0.73674,     0.73774,     0.73874,     0.73974,     0.74074,     0.74174,     0.74274,     0.74374,\n",
      "           0.74474,     0.74575,     0.74675,     0.74775,     0.74875,     0.74975,     0.75075,     0.75175,     0.75275,     0.75375,     0.75475,     0.75576,     0.75676,     0.75776,     0.75876,     0.75976,     0.76076,     0.76176,     0.76276,     0.76376,     0.76476,     0.76577,     0.76677,     0.76777,\n",
      "           0.76877,     0.76977,     0.77077,     0.77177,     0.77277,     0.77377,     0.77477,     0.77578,     0.77678,     0.77778,     0.77878,     0.77978,     0.78078,     0.78178,     0.78278,     0.78378,     0.78478,     0.78579,     0.78679,     0.78779,     0.78879,     0.78979,     0.79079,     0.79179,\n",
      "           0.79279,     0.79379,     0.79479,      0.7958,      0.7968,      0.7978,      0.7988,      0.7998,      0.8008,      0.8018,      0.8028,      0.8038,      0.8048,     0.80581,     0.80681,     0.80781,     0.80881,     0.80981,     0.81081,     0.81181,     0.81281,     0.81381,     0.81481,     0.81582,\n",
      "           0.81682,     0.81782,     0.81882,     0.81982,     0.82082,     0.82182,     0.82282,     0.82382,     0.82482,     0.82583,     0.82683,     0.82783,     0.82883,     0.82983,     0.83083,     0.83183,     0.83283,     0.83383,     0.83483,     0.83584,     0.83684,     0.83784,     0.83884,     0.83984,\n",
      "           0.84084,     0.84184,     0.84284,     0.84384,     0.84484,     0.84585,     0.84685,     0.84785,     0.84885,     0.84985,     0.85085,     0.85185,     0.85285,     0.85385,     0.85485,     0.85586,     0.85686,     0.85786,     0.85886,     0.85986,     0.86086,     0.86186,     0.86286,     0.86386,\n",
      "           0.86486,     0.86587,     0.86687,     0.86787,     0.86887,     0.86987,     0.87087,     0.87187,     0.87287,     0.87387,     0.87487,     0.87588,     0.87688,     0.87788,     0.87888,     0.87988,     0.88088,     0.88188,     0.88288,     0.88388,     0.88488,     0.88589,     0.88689,     0.88789,\n",
      "           0.88889,     0.88989,     0.89089,     0.89189,     0.89289,     0.89389,     0.89489,      0.8959,      0.8969,      0.8979,      0.8989,      0.8999,      0.9009,      0.9019,      0.9029,      0.9039,      0.9049,     0.90591,     0.90691,     0.90791,     0.90891,     0.90991,     0.91091,     0.91191,\n",
      "           0.91291,     0.91391,     0.91491,     0.91592,     0.91692,     0.91792,     0.91892,     0.91992,     0.92092,     0.92192,     0.92292,     0.92392,     0.92492,     0.92593,     0.92693,     0.92793,     0.92893,     0.92993,     0.93093,     0.93193,     0.93293,     0.93393,     0.93493,     0.93594,\n",
      "           0.93694,     0.93794,     0.93894,     0.93994,     0.94094,     0.94194,     0.94294,     0.94394,     0.94494,     0.94595,     0.94695,     0.94795,     0.94895,     0.94995,     0.95095,     0.95195,     0.95295,     0.95395,     0.95495,     0.95596,     0.95696,     0.95796,     0.95896,     0.95996,\n",
      "           0.96096,     0.96196,     0.96296,     0.96396,     0.96496,     0.96597,     0.96697,     0.96797,     0.96897,     0.96997,     0.97097,     0.97197,     0.97297,     0.97397,     0.97497,     0.97598,     0.97698,     0.97798,     0.97898,     0.97998,     0.98098,     0.98198,     0.98298,     0.98398,\n",
      "           0.98498,     0.98599,     0.98699,     0.98799,     0.98899,     0.98999,     0.99099,     0.99199,     0.99299,     0.99399,     0.99499,       0.996,       0.997,       0.998,       0.999,           1]), array([[          1,           1,           1,           1,           1,           1,           1,           1,           1,           1,           1,           1,           1,           1,           1,           1,           1,           1,           1,           1,           1,           1,           1,\n",
      "                  1,           1,           1,           1,           1,           1,           1,           1,           1,           1,           1,           1,           1,           1,           1,           1,           1,           1,           1,           1,           1,           1,           1,\n",
      "                  1,           1,           1,           1,           1,           1,           1,           1,           1,           1,           1,           1,           1,           1,           1,           1,           1,           1,           1,           1,           1,           1,           1,\n",
      "                  1,           1,           1,           1,           1,           1,           1,           1,           1,           1,           1,           1,           1,           1,           1,           1,           1,           1,           1,           1,           1,           1,           1,\n",
      "                  1,           1,           1,           1,           1,           1,           1,           1,           1,           1,           1,           1,           1,           1,           1,           1,           1,           1,           1,           1,           1,           1,           1,\n",
      "                  1,           1,           1,           1,           1,           1,           1,           1,           1,           1,           1,           1,           1,           1,           1,           1,           1,           1,           1,           1,           1,           1,           1,\n",
      "                  1,           1,           1,           1,           1,           1,           1,           1,           1,           1,           1,           1,           1,           1,           1,           1,           1,           1,           1,           1,           1,           1,           1,\n",
      "                  1,           1,           1,           1,           1,           1,           1,           1,           1,           1,           1,           1,           1,           1,           1,           1,           1,           1,           1,           1,           1,           1,           1,\n",
      "                  1,           1,           1,           1,           1,           1,           1,           1,           1,           1,           1,           1,           1,           1,           1,           1,           1,           1,           1,           1,           1,           1,           1,\n",
      "                  1,           1,           1,           1,           1,           1,           1,           1,           1,           1,           1,           1,           1,           1,           1,           1,           1,           1,           1,           1,           1,           1,           1,\n",
      "                  1,           1,           1,           1,           1,           1,           1,           1,           1,           1,           1,           1,           1,           1,           1,           1,           1,           1,           1,           1,           1,           1,           1,\n",
      "                  1,           1,           1,           1,           1,           1,           1,           1,           1,           1,           1,           1,           1,           1,           1,           1,           1,           1,           1,           1,           1,           1,           1,\n",
      "                  1,           1,           1,           1,           1,           1,           1,           1,           1,           1,           1,           1,           1,           1,           1,           1,           1,           1,           1,           1,           1,           1,           1,\n",
      "                  1,           1,           1,           1,           1,           1,           1,           1,           1,           1,           1,           1,           1,           1,           1,           1,           1,           1,           1,           1,           1,           1,           1,\n",
      "                  1,           1,           1,           1,           1,           1,           1,           1,           1,           1,           1,           1,           1,           1,           1,           1,           1,           1,           1,           1,           1,           1,           1,\n",
      "                  1,           1,           1,           1,           1,           1,           1,           1,           1,           1,           1,           1,           1,           1,           1,           1,           1,           1,           1,           1,           1,           1,           1,\n",
      "                  1,           1,           1,           1,           1,           1,           1,           1,           1,           1,           1,           1,           1,           1,           1,           1,           1,           1,           1,           1,           1,           1,           1,\n",
      "                  1,           1,           1,           1,           1,           1,           1,           1,           1,           1,           1,           1,           1,           1,           1,           1,           1,           1,           1,           1,           1,           1,           1,\n",
      "                  1,           1,           1,           1,           1,           1,           1,           1,           1,           1,           1,           1,           1,           1,           1,           1,           1,           1,           1,           1,           1,           1,           1,\n",
      "                  1,           1,           1,           1,           1,           1,           1,           1,           1,           1,           1,           1,           1,           1,           1,           1,           1,           1,           1,           1,           1,           1,           1,\n",
      "                  1,           1,           1,           1,           1,           1,           1,           1,           1,           1,           1,           1,           1,           1,           1,           1,           1,           1,           1,           1,           1,           1,           1,\n",
      "                  1,           1,           1,           1,           1,           1,           1,           1,           1,           1,           1,           1,           1,           1,           1,           1,           1,           1,           1,           1,           1,           1,           1,\n",
      "                  1,           1,           1,           1,           1,           1,           1,           1,           1,           1,           1,           1,           1,           1,           1,           1,           1,           1,           1,           1,           1,           1,           1,\n",
      "                  1,           1,           1,           1,           1,           1,           1,           1,           1,           1,           1,           1,           1,           1,           1,           1,           1,           1,           1,           1,           1,           1,           1,\n",
      "                  1,           1,           1,           1,           1,           1,           1,           1,           1,           1,           1,           1,           1,           1,           1,           1,           1,           1,           1,           1,           1,           1,           1,\n",
      "                  1,           1,           1,           1,           1,           1,           1,           1,           1,           1,           1,           1,           1,           1,           1,           1,           1,           1,           1,           1,           1,           1,           1,\n",
      "                  1,           1,           1,           1,           1,           1,           1,           1,           1,           1,           1,           1,           1,           1,           1,           1,           1,           1,           1,           1,           1,           1,           1,\n",
      "                  1,           1,           1,           1,           1,           1,           1,           1,           1,           1,           1,           1,           1,           1,           1,           1,           1,           1,           1,           1,           1,           1,           1,\n",
      "                  1,           1,           1,           1,           1,           1,           1,           1,           1,           1,           1,           1,           1,           1,           1,           1,           1,           1,           1,           1,           1,           1,           1,\n",
      "                  1,           1,           1,           1,           1,           1,           1,           1,           1,           1,           1,           1,           1,           1,           1,           1,           1,           1,           1,           1,           1,           1,           1,\n",
      "                  1,           1,           1,           1,           1,           1,           1,           1,           1,           1,           1,           1,           1,           1,           1,           1,           1,           1,           1,           1,           1,           1,           1,\n",
      "                  1,           1,           1,           1,           1,           1,           1,           1,           1,           1,           1,           1,           1,           1,           1,           1,           1,           1,           1,           1,           1,           1,           1,\n",
      "                  1,           1,           1,           1,           1,           1,           1,           1,           1,           1,           1,           1,           1,           1,           1,           1,           1,           1,           1,           1,           1,           1,           1,\n",
      "                  1,           1,           1,           1,           1,           1,           1,           1,           1,           1,           1,           1,           1,           1,           1,           1,           1,           1,           1,           1,           1,           1,           1,\n",
      "                  1,           1,           1,           1,           1,           1,           1,           1,           1,           1,           1,           1,           1,           1,           1,           1,           1,           1,           1,           1,           1,           1,           1,\n",
      "                  1,           1,           1,           1,           1,           1,           1,           1,           1,           1,           1,           1,           1,           1,           1,           1,           1,           1,           1,           1,           1,           1,           1,\n",
      "                  1,           1,           1,           1,           1,           1,           1,           1,           1,           1,           1,           1,           1,           1,           1,           1,           1,           1,           1,           1,           1,           1,           1,\n",
      "                  1,           1,           1,           1,           1,           1,           1,           1,           1,           1,           1,           1,           1,           1,           1,           1,           1,           1,           1,           1,           1,           1,           1,\n",
      "                  1,           1,           1,           1,           1,           1,           1,           1,           1,           1,           1,           1,           1,           1,           1,           1,           1,           1,           1,           1,           1,           1,           1,\n",
      "                  1,           1,           1,           1,           1,           1,           1,           1,           1,           1,           1,           1,           1,           1,           1,           1,           1,           1,           1,           1,           1,           1,           1,\n",
      "                  1,           1,           1,           1,           1,           1,           1,           1,           1,           1,           1,           1,           1,           1,           1,           1,           1,           1,           1,           1,           1,           1,           1,\n",
      "                  1,           1,           1,           1,           1,           1,           1,           1,           1,           1,           1,           1,           1,           1,           1,           1,           1,           1,     0.92857,     0.92857,     0.92857,     0.92857,     0.92857,\n",
      "            0.92857,     0.92857,     0.92857,     0.92857,     0.92857,     0.92857,     0.92857,     0.92857,     0.92857,     0.92857,     0.92857,     0.92857,     0.92857,     0.92857,     0.92857,     0.92857,     0.92857,     0.92857,     0.92857,     0.92857,     0.92857,     0.92857,     0.92857,\n",
      "            0.92857,     0.92857,     0.92857,     0.92857,     0.92857,     0.92857,     0.92857,     0.92857,     0.92857,     0.92857,           0]]), 'Recall', 'Precision'], [array([          0,    0.001001,    0.002002,    0.003003,    0.004004,    0.005005,    0.006006,    0.007007,    0.008008,    0.009009,     0.01001,    0.011011,    0.012012,    0.013013,    0.014014,    0.015015,    0.016016,    0.017017,    0.018018,    0.019019,     0.02002,    0.021021,    0.022022,    0.023023,\n",
      "          0.024024,    0.025025,    0.026026,    0.027027,    0.028028,    0.029029,     0.03003,    0.031031,    0.032032,    0.033033,    0.034034,    0.035035,    0.036036,    0.037037,    0.038038,    0.039039,     0.04004,    0.041041,    0.042042,    0.043043,    0.044044,    0.045045,    0.046046,    0.047047,\n",
      "          0.048048,    0.049049,     0.05005,    0.051051,    0.052052,    0.053053,    0.054054,    0.055055,    0.056056,    0.057057,    0.058058,    0.059059,     0.06006,    0.061061,    0.062062,    0.063063,    0.064064,    0.065065,    0.066066,    0.067067,    0.068068,    0.069069,     0.07007,    0.071071,\n",
      "          0.072072,    0.073073,    0.074074,    0.075075,    0.076076,    0.077077,    0.078078,    0.079079,     0.08008,    0.081081,    0.082082,    0.083083,    0.084084,    0.085085,    0.086086,    0.087087,    0.088088,    0.089089,     0.09009,    0.091091,    0.092092,    0.093093,    0.094094,    0.095095,\n",
      "          0.096096,    0.097097,    0.098098,    0.099099,      0.1001,      0.1011,      0.1021,      0.1031,      0.1041,     0.10511,     0.10611,     0.10711,     0.10811,     0.10911,     0.11011,     0.11111,     0.11211,     0.11311,     0.11411,     0.11512,     0.11612,     0.11712,     0.11812,     0.11912,\n",
      "           0.12012,     0.12112,     0.12212,     0.12312,     0.12412,     0.12513,     0.12613,     0.12713,     0.12813,     0.12913,     0.13013,     0.13113,     0.13213,     0.13313,     0.13413,     0.13514,     0.13614,     0.13714,     0.13814,     0.13914,     0.14014,     0.14114,     0.14214,     0.14314,\n",
      "           0.14414,     0.14515,     0.14615,     0.14715,     0.14815,     0.14915,     0.15015,     0.15115,     0.15215,     0.15315,     0.15415,     0.15516,     0.15616,     0.15716,     0.15816,     0.15916,     0.16016,     0.16116,     0.16216,     0.16316,     0.16416,     0.16517,     0.16617,     0.16717,\n",
      "           0.16817,     0.16917,     0.17017,     0.17117,     0.17217,     0.17317,     0.17417,     0.17518,     0.17618,     0.17718,     0.17818,     0.17918,     0.18018,     0.18118,     0.18218,     0.18318,     0.18418,     0.18519,     0.18619,     0.18719,     0.18819,     0.18919,     0.19019,     0.19119,\n",
      "           0.19219,     0.19319,     0.19419,      0.1952,      0.1962,      0.1972,      0.1982,      0.1992,      0.2002,      0.2012,      0.2022,      0.2032,      0.2042,     0.20521,     0.20621,     0.20721,     0.20821,     0.20921,     0.21021,     0.21121,     0.21221,     0.21321,     0.21421,     0.21522,\n",
      "           0.21622,     0.21722,     0.21822,     0.21922,     0.22022,     0.22122,     0.22222,     0.22322,     0.22422,     0.22523,     0.22623,     0.22723,     0.22823,     0.22923,     0.23023,     0.23123,     0.23223,     0.23323,     0.23423,     0.23524,     0.23624,     0.23724,     0.23824,     0.23924,\n",
      "           0.24024,     0.24124,     0.24224,     0.24324,     0.24424,     0.24525,     0.24625,     0.24725,     0.24825,     0.24925,     0.25025,     0.25125,     0.25225,     0.25325,     0.25425,     0.25526,     0.25626,     0.25726,     0.25826,     0.25926,     0.26026,     0.26126,     0.26226,     0.26326,\n",
      "           0.26426,     0.26527,     0.26627,     0.26727,     0.26827,     0.26927,     0.27027,     0.27127,     0.27227,     0.27327,     0.27427,     0.27528,     0.27628,     0.27728,     0.27828,     0.27928,     0.28028,     0.28128,     0.28228,     0.28328,     0.28428,     0.28529,     0.28629,     0.28729,\n",
      "           0.28829,     0.28929,     0.29029,     0.29129,     0.29229,     0.29329,     0.29429,      0.2953,      0.2963,      0.2973,      0.2983,      0.2993,      0.3003,      0.3013,      0.3023,      0.3033,      0.3043,     0.30531,     0.30631,     0.30731,     0.30831,     0.30931,     0.31031,     0.31131,\n",
      "           0.31231,     0.31331,     0.31431,     0.31532,     0.31632,     0.31732,     0.31832,     0.31932,     0.32032,     0.32132,     0.32232,     0.32332,     0.32432,     0.32533,     0.32633,     0.32733,     0.32833,     0.32933,     0.33033,     0.33133,     0.33233,     0.33333,     0.33433,     0.33534,\n",
      "           0.33634,     0.33734,     0.33834,     0.33934,     0.34034,     0.34134,     0.34234,     0.34334,     0.34434,     0.34535,     0.34635,     0.34735,     0.34835,     0.34935,     0.35035,     0.35135,     0.35235,     0.35335,     0.35435,     0.35536,     0.35636,     0.35736,     0.35836,     0.35936,\n",
      "           0.36036,     0.36136,     0.36236,     0.36336,     0.36436,     0.36537,     0.36637,     0.36737,     0.36837,     0.36937,     0.37037,     0.37137,     0.37237,     0.37337,     0.37437,     0.37538,     0.37638,     0.37738,     0.37838,     0.37938,     0.38038,     0.38138,     0.38238,     0.38338,\n",
      "           0.38438,     0.38539,     0.38639,     0.38739,     0.38839,     0.38939,     0.39039,     0.39139,     0.39239,     0.39339,     0.39439,      0.3954,      0.3964,      0.3974,      0.3984,      0.3994,      0.4004,      0.4014,      0.4024,      0.4034,      0.4044,     0.40541,     0.40641,     0.40741,\n",
      "           0.40841,     0.40941,     0.41041,     0.41141,     0.41241,     0.41341,     0.41441,     0.41542,     0.41642,     0.41742,     0.41842,     0.41942,     0.42042,     0.42142,     0.42242,     0.42342,     0.42442,     0.42543,     0.42643,     0.42743,     0.42843,     0.42943,     0.43043,     0.43143,\n",
      "           0.43243,     0.43343,     0.43443,     0.43544,     0.43644,     0.43744,     0.43844,     0.43944,     0.44044,     0.44144,     0.44244,     0.44344,     0.44444,     0.44545,     0.44645,     0.44745,     0.44845,     0.44945,     0.45045,     0.45145,     0.45245,     0.45345,     0.45445,     0.45546,\n",
      "           0.45646,     0.45746,     0.45846,     0.45946,     0.46046,     0.46146,     0.46246,     0.46346,     0.46446,     0.46547,     0.46647,     0.46747,     0.46847,     0.46947,     0.47047,     0.47147,     0.47247,     0.47347,     0.47447,     0.47548,     0.47648,     0.47748,     0.47848,     0.47948,\n",
      "           0.48048,     0.48148,     0.48248,     0.48348,     0.48448,     0.48549,     0.48649,     0.48749,     0.48849,     0.48949,     0.49049,     0.49149,     0.49249,     0.49349,     0.49449,      0.4955,      0.4965,      0.4975,      0.4985,      0.4995,      0.5005,      0.5015,      0.5025,      0.5035,\n",
      "            0.5045,     0.50551,     0.50651,     0.50751,     0.50851,     0.50951,     0.51051,     0.51151,     0.51251,     0.51351,     0.51451,     0.51552,     0.51652,     0.51752,     0.51852,     0.51952,     0.52052,     0.52152,     0.52252,     0.52352,     0.52452,     0.52553,     0.52653,     0.52753,\n",
      "           0.52853,     0.52953,     0.53053,     0.53153,     0.53253,     0.53353,     0.53453,     0.53554,     0.53654,     0.53754,     0.53854,     0.53954,     0.54054,     0.54154,     0.54254,     0.54354,     0.54454,     0.54555,     0.54655,     0.54755,     0.54855,     0.54955,     0.55055,     0.55155,\n",
      "           0.55255,     0.55355,     0.55455,     0.55556,     0.55656,     0.55756,     0.55856,     0.55956,     0.56056,     0.56156,     0.56256,     0.56356,     0.56456,     0.56557,     0.56657,     0.56757,     0.56857,     0.56957,     0.57057,     0.57157,     0.57257,     0.57357,     0.57457,     0.57558,\n",
      "           0.57658,     0.57758,     0.57858,     0.57958,     0.58058,     0.58158,     0.58258,     0.58358,     0.58458,     0.58559,     0.58659,     0.58759,     0.58859,     0.58959,     0.59059,     0.59159,     0.59259,     0.59359,     0.59459,      0.5956,      0.5966,      0.5976,      0.5986,      0.5996,\n",
      "            0.6006,      0.6016,      0.6026,      0.6036,      0.6046,     0.60561,     0.60661,     0.60761,     0.60861,     0.60961,     0.61061,     0.61161,     0.61261,     0.61361,     0.61461,     0.61562,     0.61662,     0.61762,     0.61862,     0.61962,     0.62062,     0.62162,     0.62262,     0.62362,\n",
      "           0.62462,     0.62563,     0.62663,     0.62763,     0.62863,     0.62963,     0.63063,     0.63163,     0.63263,     0.63363,     0.63463,     0.63564,     0.63664,     0.63764,     0.63864,     0.63964,     0.64064,     0.64164,     0.64264,     0.64364,     0.64464,     0.64565,     0.64665,     0.64765,\n",
      "           0.64865,     0.64965,     0.65065,     0.65165,     0.65265,     0.65365,     0.65465,     0.65566,     0.65666,     0.65766,     0.65866,     0.65966,     0.66066,     0.66166,     0.66266,     0.66366,     0.66466,     0.66567,     0.66667,     0.66767,     0.66867,     0.66967,     0.67067,     0.67167,\n",
      "           0.67267,     0.67367,     0.67467,     0.67568,     0.67668,     0.67768,     0.67868,     0.67968,     0.68068,     0.68168,     0.68268,     0.68368,     0.68468,     0.68569,     0.68669,     0.68769,     0.68869,     0.68969,     0.69069,     0.69169,     0.69269,     0.69369,     0.69469,      0.6957,\n",
      "            0.6967,      0.6977,      0.6987,      0.6997,      0.7007,      0.7017,      0.7027,      0.7037,      0.7047,     0.70571,     0.70671,     0.70771,     0.70871,     0.70971,     0.71071,     0.71171,     0.71271,     0.71371,     0.71471,     0.71572,     0.71672,     0.71772,     0.71872,     0.71972,\n",
      "           0.72072,     0.72172,     0.72272,     0.72372,     0.72472,     0.72573,     0.72673,     0.72773,     0.72873,     0.72973,     0.73073,     0.73173,     0.73273,     0.73373,     0.73473,     0.73574,     0.73674,     0.73774,     0.73874,     0.73974,     0.74074,     0.74174,     0.74274,     0.74374,\n",
      "           0.74474,     0.74575,     0.74675,     0.74775,     0.74875,     0.74975,     0.75075,     0.75175,     0.75275,     0.75375,     0.75475,     0.75576,     0.75676,     0.75776,     0.75876,     0.75976,     0.76076,     0.76176,     0.76276,     0.76376,     0.76476,     0.76577,     0.76677,     0.76777,\n",
      "           0.76877,     0.76977,     0.77077,     0.77177,     0.77277,     0.77377,     0.77477,     0.77578,     0.77678,     0.77778,     0.77878,     0.77978,     0.78078,     0.78178,     0.78278,     0.78378,     0.78478,     0.78579,     0.78679,     0.78779,     0.78879,     0.78979,     0.79079,     0.79179,\n",
      "           0.79279,     0.79379,     0.79479,      0.7958,      0.7968,      0.7978,      0.7988,      0.7998,      0.8008,      0.8018,      0.8028,      0.8038,      0.8048,     0.80581,     0.80681,     0.80781,     0.80881,     0.80981,     0.81081,     0.81181,     0.81281,     0.81381,     0.81481,     0.81582,\n",
      "           0.81682,     0.81782,     0.81882,     0.81982,     0.82082,     0.82182,     0.82282,     0.82382,     0.82482,     0.82583,     0.82683,     0.82783,     0.82883,     0.82983,     0.83083,     0.83183,     0.83283,     0.83383,     0.83483,     0.83584,     0.83684,     0.83784,     0.83884,     0.83984,\n",
      "           0.84084,     0.84184,     0.84284,     0.84384,     0.84484,     0.84585,     0.84685,     0.84785,     0.84885,     0.84985,     0.85085,     0.85185,     0.85285,     0.85385,     0.85485,     0.85586,     0.85686,     0.85786,     0.85886,     0.85986,     0.86086,     0.86186,     0.86286,     0.86386,\n",
      "           0.86486,     0.86587,     0.86687,     0.86787,     0.86887,     0.86987,     0.87087,     0.87187,     0.87287,     0.87387,     0.87487,     0.87588,     0.87688,     0.87788,     0.87888,     0.87988,     0.88088,     0.88188,     0.88288,     0.88388,     0.88488,     0.88589,     0.88689,     0.88789,\n",
      "           0.88889,     0.88989,     0.89089,     0.89189,     0.89289,     0.89389,     0.89489,      0.8959,      0.8969,      0.8979,      0.8989,      0.8999,      0.9009,      0.9019,      0.9029,      0.9039,      0.9049,     0.90591,     0.90691,     0.90791,     0.90891,     0.90991,     0.91091,     0.91191,\n",
      "           0.91291,     0.91391,     0.91491,     0.91592,     0.91692,     0.91792,     0.91892,     0.91992,     0.92092,     0.92192,     0.92292,     0.92392,     0.92492,     0.92593,     0.92693,     0.92793,     0.92893,     0.92993,     0.93093,     0.93193,     0.93293,     0.93393,     0.93493,     0.93594,\n",
      "           0.93694,     0.93794,     0.93894,     0.93994,     0.94094,     0.94194,     0.94294,     0.94394,     0.94494,     0.94595,     0.94695,     0.94795,     0.94895,     0.94995,     0.95095,     0.95195,     0.95295,     0.95395,     0.95495,     0.95596,     0.95696,     0.95796,     0.95896,     0.95996,\n",
      "           0.96096,     0.96196,     0.96296,     0.96396,     0.96496,     0.96597,     0.96697,     0.96797,     0.96897,     0.96997,     0.97097,     0.97197,     0.97297,     0.97397,     0.97497,     0.97598,     0.97698,     0.97798,     0.97898,     0.97998,     0.98098,     0.98198,     0.98298,     0.98398,\n",
      "           0.98498,     0.98599,     0.98699,     0.98799,     0.98899,     0.98999,     0.99099,     0.99199,     0.99299,     0.99399,     0.99499,       0.996,       0.997,       0.998,       0.999,           1]), array([[       0.04,        0.04,    0.076392,     0.11367,     0.14185,     0.16556,     0.18857,     0.21019,     0.23246,     0.24283,     0.25295,     0.26829,     0.28232,     0.29553,     0.31108,     0.33849,     0.35065,     0.37625,     0.39366,     0.40782,     0.41434,     0.41833,     0.42853,\n",
      "            0.44952,     0.46165,     0.48213,     0.48896,     0.49395,     0.50458,     0.51367,     0.51666,     0.51884,     0.52156,     0.52492,     0.53065,     0.53542,     0.54006,     0.55364,     0.57157,      0.5783,     0.58043,     0.58255,     0.58542,     0.59284,      0.6101,     0.62698,\n",
      "            0.62775,     0.62851,     0.62927,     0.63004,      0.6308,     0.63156,     0.63231,     0.63307,     0.63383,     0.63544,     0.63765,     0.63986,      0.6421,     0.64543,     0.64873,     0.65135,     0.65354,     0.65571,     0.65789,     0.65959,     0.66119,      0.6628,      0.6644,\n",
      "              0.666,     0.67535,     0.67686,     0.67838,     0.67989,      0.6814,      0.6829,     0.68451,     0.68688,     0.68924,      0.6916,     0.69397,     0.69641,     0.69885,     0.70127,     0.70299,     0.70369,     0.70439,     0.70509,     0.70579,     0.70649,     0.70719,     0.70789,\n",
      "            0.70858,     0.70928,     0.70997,     0.71067,     0.71136,     0.71205,      0.7126,     0.71304,     0.71349,     0.71393,     0.71438,     0.71482,     0.71527,     0.71571,     0.71615,      0.7166,     0.71704,     0.71748,     0.71792,     0.71836,     0.71881,     0.71925,     0.71969,\n",
      "            0.72013,     0.72057,     0.72101,     0.72145,     0.72189,     0.73253,     0.73333,     0.73413,     0.73493,     0.73573,     0.73653,     0.73732,     0.73812,     0.73891,     0.73971,      0.7405,     0.74129,     0.74208,     0.74292,     0.74608,     0.74921,     0.75234,     0.75383,\n",
      "            0.75417,     0.75452,     0.75487,     0.75521,     0.75556,     0.75591,     0.75625,      0.7566,     0.75694,     0.75729,     0.75763,     0.75798,     0.75832,     0.75867,     0.75901,     0.75936,      0.7597,     0.76004,     0.76039,     0.76073,     0.76107,     0.76142,     0.76176,\n",
      "             0.7621,     0.76244,     0.76279,     0.76313,     0.76347,     0.76381,     0.76415,     0.76449,     0.76868,     0.77657,     0.77818,     0.77978,     0.78138,     0.78298,     0.78457,     0.78616,     0.78774,     0.80009,     0.80224,     0.80438,     0.80651,     0.80864,     0.81076,\n",
      "            0.81317,       0.817,      0.8208,     0.82458,     0.82623,      0.8273,     0.82836,     0.82942,     0.83049,     0.83154,      0.8326,     0.83366,     0.83471,     0.83576,     0.83681,     0.83785,     0.83894,     0.84023,     0.84151,     0.84279,     0.84406,     0.84533,      0.8466,\n",
      "            0.84787,     0.84914,      0.8504,     0.85166,      0.8529,     0.85412,     0.85534,     0.85656,     0.85777,     0.85898,     0.86019,     0.86139,      0.8626,      0.8638,     0.86499,     0.86619,     0.88152,     0.88229,     0.88306,     0.88384,     0.88461,     0.88538,     0.88615,\n",
      "            0.88692,     0.88769,     0.88845,     0.88922,     0.88998,     0.89075,     0.89151,     0.89227,     0.89303,     0.89379,     0.89455,     0.89531,     0.89606,     0.89781,     0.90135,     0.90487,     0.90837,     0.91185,     0.91273,     0.91325,     0.91377,     0.91429,      0.9148,\n",
      "            0.91532,     0.91584,     0.91635,     0.91686,     0.91738,     0.91789,     0.91841,     0.91892,     0.91943,     0.91994,     0.92045,     0.92096,     0.92147,     0.92198,     0.92249,       0.923,     0.92351,     0.92402,     0.92453,     0.92503,     0.92554,     0.92605,     0.92655,\n",
      "            0.92706,     0.92756,     0.92806,     0.92857,     0.92875,     0.92892,      0.9291,     0.92928,     0.92945,     0.92963,      0.9298,     0.92998,     0.93016,     0.93033,     0.93051,     0.93068,     0.93086,     0.93104,     0.93121,     0.93139,     0.93156,     0.93174,     0.93191,\n",
      "            0.93209,     0.93226,     0.93244,     0.93261,     0.93279,     0.93296,     0.93314,     0.93331,     0.93349,     0.93366,     0.93384,     0.93401,     0.93419,     0.93436,     0.93454,     0.93471,     0.93489,     0.93506,     0.93524,     0.93541,     0.93558,     0.93576,     0.93593,\n",
      "            0.93611,     0.93628,     0.93645,     0.93663,      0.9368,     0.93698,     0.93715,     0.93732,      0.9375,     0.93767,     0.93784,     0.93802,     0.93819,     0.93836,     0.93854,     0.93871,     0.93888,     0.93906,     0.93923,      0.9394,     0.93958,     0.93975,     0.93992,\n",
      "            0.94009,     0.94027,     0.94044,     0.94061,     0.94078,     0.94096,     0.94113,      0.9413,     0.94147,     0.94165,     0.94182,     0.94199,     0.94216,     0.94233,     0.94251,     0.94268,     0.94285,     0.94302,     0.94319,     0.94337,     0.94354,     0.94371,     0.94388,\n",
      "            0.94405,     0.94422,     0.94439,     0.94457,     0.94474,     0.94491,     0.94508,     0.94525,     0.94542,     0.94549,     0.94553,     0.94557,     0.94562,     0.94566,      0.9457,     0.94575,     0.94579,     0.94583,     0.94587,     0.94592,     0.94596,       0.946,     0.94604,\n",
      "            0.94609,     0.94613,     0.94617,     0.94621,     0.94626,      0.9463,     0.94634,     0.94638,     0.94643,     0.94647,     0.94651,     0.94656,      0.9466,     0.94664,     0.94668,     0.94673,     0.94677,     0.94681,     0.94685,      0.9469,     0.94694,     0.94698,     0.94702,\n",
      "            0.94707,     0.94711,     0.94715,     0.94719,     0.94724,     0.94728,     0.94732,     0.94736,     0.94741,     0.94745,     0.94749,     0.94753,     0.94758,     0.94762,     0.94766,      0.9477,     0.94775,     0.94779,     0.94783,     0.94787,     0.94792,     0.94796,       0.948,\n",
      "            0.94804,     0.94809,     0.94813,     0.94817,     0.94821,     0.94826,      0.9483,     0.94834,     0.94838,     0.94843,     0.94847,     0.94851,     0.94855,      0.9486,     0.94864,     0.94868,     0.94872,     0.94877,     0.94881,     0.94885,     0.94889,     0.94894,     0.94898,\n",
      "            0.94902,     0.94906,     0.94911,     0.94915,     0.94919,     0.94923,     0.94927,     0.94932,     0.94936,      0.9494,     0.94944,     0.94949,     0.94953,     0.94957,     0.94961,     0.94966,      0.9497,     0.94974,     0.94978,     0.94983,     0.94987,     0.94991,     0.94995,\n",
      "            0.94999,     0.95004,     0.95008,     0.95012,     0.95016,     0.95021,     0.95025,     0.95029,     0.95033,     0.95038,     0.95042,     0.95046,      0.9505,     0.95054,     0.95059,     0.95063,     0.95067,     0.95071,     0.95076,      0.9508,     0.95084,     0.95088,     0.95093,\n",
      "            0.95097,     0.95101,     0.95105,     0.95109,     0.95114,     0.95118,     0.95122,     0.95126,     0.95131,     0.95135,     0.95139,     0.95143,     0.95147,     0.95152,     0.95156,      0.9516,     0.95164,     0.95169,     0.95173,     0.95177,     0.95181,     0.95185,      0.9519,\n",
      "            0.95194,     0.95198,     0.95202,     0.95206,     0.95211,     0.95215,     0.95219,     0.95223,     0.95228,     0.95232,     0.95236,      0.9524,     0.95244,     0.95249,     0.95253,     0.95257,     0.95261,     0.95265,      0.9527,     0.95274,     0.95278,     0.95282,     0.95286,\n",
      "            0.95291,     0.95295,     0.95299,     0.95303,     0.95308,     0.95312,     0.95316,      0.9532,     0.95324,     0.95329,     0.95333,     0.95337,     0.95341,     0.95345,      0.9535,     0.95354,     0.95358,     0.95362,     0.95366,     0.95371,     0.95375,     0.95379,     0.95383,\n",
      "            0.95387,     0.95392,     0.95396,       0.954,     0.95404,     0.95408,     0.95413,     0.95417,     0.95421,     0.95425,     0.95429,     0.95434,     0.95438,     0.95442,     0.95446,      0.9545,     0.95455,     0.95459,     0.95463,     0.95467,     0.95471,     0.95476,      0.9548,\n",
      "            0.95484,     0.95488,     0.95492,     0.95497,     0.95501,     0.95505,     0.95509,     0.95513,     0.95518,     0.95522,     0.95526,      0.9553,     0.95534,     0.95538,     0.95543,     0.95547,     0.95551,     0.95555,     0.95559,     0.95564,     0.95568,     0.95572,     0.95576,\n",
      "             0.9558,     0.95585,     0.95589,     0.95593,     0.95597,     0.95601,     0.95605,      0.9561,     0.95614,     0.95618,     0.95622,     0.95626,     0.95631,     0.95635,     0.95639,     0.95643,     0.95647,     0.95651,     0.95656,      0.9566,     0.95664,     0.95668,     0.95672,\n",
      "            0.95677,     0.95681,     0.95685,     0.95689,     0.95693,     0.95697,     0.95702,     0.95706,      0.9571,     0.95714,     0.95718,     0.95722,     0.95727,     0.95731,     0.95735,     0.95739,     0.95743,     0.95747,     0.95752,     0.95756,      0.9576,     0.95764,     0.95768,\n",
      "            0.95773,     0.95777,     0.95781,     0.95785,     0.95789,     0.95793,     0.95798,     0.95802,     0.95806,      0.9581,     0.95814,     0.95818,     0.95823,     0.95827,     0.95831,     0.95835,     0.95839,     0.95843,     0.95848,     0.95852,     0.95856,      0.9586,     0.95864,\n",
      "            0.95868,     0.95873,     0.95877,     0.95881,     0.95885,     0.95889,     0.95893,     0.95897,     0.95902,     0.95906,      0.9591,     0.95914,     0.95918,     0.95922,     0.95927,     0.95931,     0.95935,     0.95939,     0.95943,     0.95947,     0.95952,     0.95956,      0.9596,\n",
      "            0.95964,     0.95968,     0.95972,     0.95976,     0.95981,     0.95985,     0.95989,     0.95993,     0.95997,     0.96001,     0.96006,      0.9601,     0.96014,     0.96018,     0.96022,     0.96026,      0.9603,     0.96035,     0.96039,     0.96043,     0.96047,     0.96051,     0.96055,\n",
      "            0.96059,     0.96064,     0.96068,     0.96072,     0.96076,      0.9608,     0.96084,     0.96089,     0.96093,     0.96097,     0.96101,     0.96105,     0.96109,     0.96113,     0.96118,     0.96122,     0.96126,      0.9613,     0.96134,     0.96138,     0.96142,     0.96147,     0.96151,\n",
      "            0.96155,     0.96159,     0.96163,     0.96167,     0.96171,     0.96175,      0.9618,     0.96184,     0.96188,     0.96192,     0.96196,       0.962,     0.96204,     0.96209,     0.96213,     0.96217,     0.96221,     0.96225,     0.96229,     0.96233,     0.96238,     0.96242,     0.96246,\n",
      "             0.9625,     0.96254,     0.96258,     0.96262,     0.96266,     0.96271,     0.96275,     0.96279,     0.96283,     0.96287,     0.96291,     0.96295,     0.96187,     0.96046,     0.95904,     0.95761,     0.95619,     0.95476,     0.95333,     0.95189,     0.95045,     0.94901,     0.94756,\n",
      "            0.94611,     0.94466,     0.94345,     0.94381,     0.94417,     0.94453,      0.9449,     0.94526,     0.94562,     0.94598,     0.94634,     0.94671,     0.94707,     0.94743,     0.94779,     0.94815,     0.94851,     0.94887,     0.94923,     0.94959,     0.94994,      0.9503,     0.95066,\n",
      "            0.95102,     0.95138,     0.95174,     0.95209,     0.95245,     0.95281,     0.95316,     0.95352,     0.95387,     0.95423,     0.95459,     0.95494,      0.9553,     0.95565,       0.956,     0.95636,     0.95671,     0.95707,     0.95742,     0.95777,     0.95813,     0.95848,     0.95883,\n",
      "            0.95918,     0.95953,     0.95989,     0.96024,     0.96059,     0.96094,     0.96129,     0.96199,     0.96357,     0.96513,     0.96669,     0.96825,      0.9698,     0.97135,     0.97289,     0.97443,     0.97596,     0.97749,     0.97901,     0.98015,     0.97741,     0.97465,     0.97187,\n",
      "            0.96908,     0.96628,     0.96346,     0.96062,     0.95963,     0.95917,      0.9587,     0.95823,     0.95776,     0.95729,     0.95682,     0.95635,     0.95588,     0.95541,     0.95494,     0.95446,     0.95399,     0.95352,     0.95304,     0.95257,      0.9521,     0.95162,     0.95115,\n",
      "            0.95067,     0.95019,     0.94972,     0.94924,     0.94876,     0.94829,     0.94781,     0.94733,     0.94685,     0.94637,     0.94589,     0.94541,     0.94493,     0.94445,     0.94397,     0.94348,       0.943,     0.94252,     0.94204,     0.94155,     0.94107,     0.94058,      0.9401,\n",
      "            0.93961,     0.93913,     0.93414,     0.91726,     0.91554,     0.91437,     0.91319,     0.91202,     0.91084,     0.90965,     0.90847,     0.90728,     0.90609,      0.9049,     0.90371,     0.90251,     0.90131,     0.90011,      0.8989,     0.89769,     0.89648,     0.89527,     0.89405,\n",
      "            0.88329,     0.86921,     0.86703,     0.86485,     0.86266,     0.86046,     0.85825,     0.85603,      0.8538,     0.85157,     0.84932,     0.84707,     0.84481,     0.83659,     0.82709,     0.81586,     0.78537,     0.74926,     0.71669,     0.66894,     0.63591,     0.61947,     0.60519,\n",
      "             0.5794,      0.5417,     0.51744,     0.46088,     0.42405,     0.41158,     0.39891,     0.38604,     0.35877,       0.315,     0.30346,     0.29176,      0.2799,     0.26788,     0.14855,     0.12105,    0.096921,           0,           0,           0,           0,           0,           0,\n",
      "                  0,           0,           0,           0,           0,           0,           0,           0,           0,           0,           0]]), 'Confidence', 'F1'], [array([          0,    0.001001,    0.002002,    0.003003,    0.004004,    0.005005,    0.006006,    0.007007,    0.008008,    0.009009,     0.01001,    0.011011,    0.012012,    0.013013,    0.014014,    0.015015,    0.016016,    0.017017,    0.018018,    0.019019,     0.02002,    0.021021,    0.022022,    0.023023,\n",
      "          0.024024,    0.025025,    0.026026,    0.027027,    0.028028,    0.029029,     0.03003,    0.031031,    0.032032,    0.033033,    0.034034,    0.035035,    0.036036,    0.037037,    0.038038,    0.039039,     0.04004,    0.041041,    0.042042,    0.043043,    0.044044,    0.045045,    0.046046,    0.047047,\n",
      "          0.048048,    0.049049,     0.05005,    0.051051,    0.052052,    0.053053,    0.054054,    0.055055,    0.056056,    0.057057,    0.058058,    0.059059,     0.06006,    0.061061,    0.062062,    0.063063,    0.064064,    0.065065,    0.066066,    0.067067,    0.068068,    0.069069,     0.07007,    0.071071,\n",
      "          0.072072,    0.073073,    0.074074,    0.075075,    0.076076,    0.077077,    0.078078,    0.079079,     0.08008,    0.081081,    0.082082,    0.083083,    0.084084,    0.085085,    0.086086,    0.087087,    0.088088,    0.089089,     0.09009,    0.091091,    0.092092,    0.093093,    0.094094,    0.095095,\n",
      "          0.096096,    0.097097,    0.098098,    0.099099,      0.1001,      0.1011,      0.1021,      0.1031,      0.1041,     0.10511,     0.10611,     0.10711,     0.10811,     0.10911,     0.11011,     0.11111,     0.11211,     0.11311,     0.11411,     0.11512,     0.11612,     0.11712,     0.11812,     0.11912,\n",
      "           0.12012,     0.12112,     0.12212,     0.12312,     0.12412,     0.12513,     0.12613,     0.12713,     0.12813,     0.12913,     0.13013,     0.13113,     0.13213,     0.13313,     0.13413,     0.13514,     0.13614,     0.13714,     0.13814,     0.13914,     0.14014,     0.14114,     0.14214,     0.14314,\n",
      "           0.14414,     0.14515,     0.14615,     0.14715,     0.14815,     0.14915,     0.15015,     0.15115,     0.15215,     0.15315,     0.15415,     0.15516,     0.15616,     0.15716,     0.15816,     0.15916,     0.16016,     0.16116,     0.16216,     0.16316,     0.16416,     0.16517,     0.16617,     0.16717,\n",
      "           0.16817,     0.16917,     0.17017,     0.17117,     0.17217,     0.17317,     0.17417,     0.17518,     0.17618,     0.17718,     0.17818,     0.17918,     0.18018,     0.18118,     0.18218,     0.18318,     0.18418,     0.18519,     0.18619,     0.18719,     0.18819,     0.18919,     0.19019,     0.19119,\n",
      "           0.19219,     0.19319,     0.19419,      0.1952,      0.1962,      0.1972,      0.1982,      0.1992,      0.2002,      0.2012,      0.2022,      0.2032,      0.2042,     0.20521,     0.20621,     0.20721,     0.20821,     0.20921,     0.21021,     0.21121,     0.21221,     0.21321,     0.21421,     0.21522,\n",
      "           0.21622,     0.21722,     0.21822,     0.21922,     0.22022,     0.22122,     0.22222,     0.22322,     0.22422,     0.22523,     0.22623,     0.22723,     0.22823,     0.22923,     0.23023,     0.23123,     0.23223,     0.23323,     0.23423,     0.23524,     0.23624,     0.23724,     0.23824,     0.23924,\n",
      "           0.24024,     0.24124,     0.24224,     0.24324,     0.24424,     0.24525,     0.24625,     0.24725,     0.24825,     0.24925,     0.25025,     0.25125,     0.25225,     0.25325,     0.25425,     0.25526,     0.25626,     0.25726,     0.25826,     0.25926,     0.26026,     0.26126,     0.26226,     0.26326,\n",
      "           0.26426,     0.26527,     0.26627,     0.26727,     0.26827,     0.26927,     0.27027,     0.27127,     0.27227,     0.27327,     0.27427,     0.27528,     0.27628,     0.27728,     0.27828,     0.27928,     0.28028,     0.28128,     0.28228,     0.28328,     0.28428,     0.28529,     0.28629,     0.28729,\n",
      "           0.28829,     0.28929,     0.29029,     0.29129,     0.29229,     0.29329,     0.29429,      0.2953,      0.2963,      0.2973,      0.2983,      0.2993,      0.3003,      0.3013,      0.3023,      0.3033,      0.3043,     0.30531,     0.30631,     0.30731,     0.30831,     0.30931,     0.31031,     0.31131,\n",
      "           0.31231,     0.31331,     0.31431,     0.31532,     0.31632,     0.31732,     0.31832,     0.31932,     0.32032,     0.32132,     0.32232,     0.32332,     0.32432,     0.32533,     0.32633,     0.32733,     0.32833,     0.32933,     0.33033,     0.33133,     0.33233,     0.33333,     0.33433,     0.33534,\n",
      "           0.33634,     0.33734,     0.33834,     0.33934,     0.34034,     0.34134,     0.34234,     0.34334,     0.34434,     0.34535,     0.34635,     0.34735,     0.34835,     0.34935,     0.35035,     0.35135,     0.35235,     0.35335,     0.35435,     0.35536,     0.35636,     0.35736,     0.35836,     0.35936,\n",
      "           0.36036,     0.36136,     0.36236,     0.36336,     0.36436,     0.36537,     0.36637,     0.36737,     0.36837,     0.36937,     0.37037,     0.37137,     0.37237,     0.37337,     0.37437,     0.37538,     0.37638,     0.37738,     0.37838,     0.37938,     0.38038,     0.38138,     0.38238,     0.38338,\n",
      "           0.38438,     0.38539,     0.38639,     0.38739,     0.38839,     0.38939,     0.39039,     0.39139,     0.39239,     0.39339,     0.39439,      0.3954,      0.3964,      0.3974,      0.3984,      0.3994,      0.4004,      0.4014,      0.4024,      0.4034,      0.4044,     0.40541,     0.40641,     0.40741,\n",
      "           0.40841,     0.40941,     0.41041,     0.41141,     0.41241,     0.41341,     0.41441,     0.41542,     0.41642,     0.41742,     0.41842,     0.41942,     0.42042,     0.42142,     0.42242,     0.42342,     0.42442,     0.42543,     0.42643,     0.42743,     0.42843,     0.42943,     0.43043,     0.43143,\n",
      "           0.43243,     0.43343,     0.43443,     0.43544,     0.43644,     0.43744,     0.43844,     0.43944,     0.44044,     0.44144,     0.44244,     0.44344,     0.44444,     0.44545,     0.44645,     0.44745,     0.44845,     0.44945,     0.45045,     0.45145,     0.45245,     0.45345,     0.45445,     0.45546,\n",
      "           0.45646,     0.45746,     0.45846,     0.45946,     0.46046,     0.46146,     0.46246,     0.46346,     0.46446,     0.46547,     0.46647,     0.46747,     0.46847,     0.46947,     0.47047,     0.47147,     0.47247,     0.47347,     0.47447,     0.47548,     0.47648,     0.47748,     0.47848,     0.47948,\n",
      "           0.48048,     0.48148,     0.48248,     0.48348,     0.48448,     0.48549,     0.48649,     0.48749,     0.48849,     0.48949,     0.49049,     0.49149,     0.49249,     0.49349,     0.49449,      0.4955,      0.4965,      0.4975,      0.4985,      0.4995,      0.5005,      0.5015,      0.5025,      0.5035,\n",
      "            0.5045,     0.50551,     0.50651,     0.50751,     0.50851,     0.50951,     0.51051,     0.51151,     0.51251,     0.51351,     0.51451,     0.51552,     0.51652,     0.51752,     0.51852,     0.51952,     0.52052,     0.52152,     0.52252,     0.52352,     0.52452,     0.52553,     0.52653,     0.52753,\n",
      "           0.52853,     0.52953,     0.53053,     0.53153,     0.53253,     0.53353,     0.53453,     0.53554,     0.53654,     0.53754,     0.53854,     0.53954,     0.54054,     0.54154,     0.54254,     0.54354,     0.54454,     0.54555,     0.54655,     0.54755,     0.54855,     0.54955,     0.55055,     0.55155,\n",
      "           0.55255,     0.55355,     0.55455,     0.55556,     0.55656,     0.55756,     0.55856,     0.55956,     0.56056,     0.56156,     0.56256,     0.56356,     0.56456,     0.56557,     0.56657,     0.56757,     0.56857,     0.56957,     0.57057,     0.57157,     0.57257,     0.57357,     0.57457,     0.57558,\n",
      "           0.57658,     0.57758,     0.57858,     0.57958,     0.58058,     0.58158,     0.58258,     0.58358,     0.58458,     0.58559,     0.58659,     0.58759,     0.58859,     0.58959,     0.59059,     0.59159,     0.59259,     0.59359,     0.59459,      0.5956,      0.5966,      0.5976,      0.5986,      0.5996,\n",
      "            0.6006,      0.6016,      0.6026,      0.6036,      0.6046,     0.60561,     0.60661,     0.60761,     0.60861,     0.60961,     0.61061,     0.61161,     0.61261,     0.61361,     0.61461,     0.61562,     0.61662,     0.61762,     0.61862,     0.61962,     0.62062,     0.62162,     0.62262,     0.62362,\n",
      "           0.62462,     0.62563,     0.62663,     0.62763,     0.62863,     0.62963,     0.63063,     0.63163,     0.63263,     0.63363,     0.63463,     0.63564,     0.63664,     0.63764,     0.63864,     0.63964,     0.64064,     0.64164,     0.64264,     0.64364,     0.64464,     0.64565,     0.64665,     0.64765,\n",
      "           0.64865,     0.64965,     0.65065,     0.65165,     0.65265,     0.65365,     0.65465,     0.65566,     0.65666,     0.65766,     0.65866,     0.65966,     0.66066,     0.66166,     0.66266,     0.66366,     0.66466,     0.66567,     0.66667,     0.66767,     0.66867,     0.66967,     0.67067,     0.67167,\n",
      "           0.67267,     0.67367,     0.67467,     0.67568,     0.67668,     0.67768,     0.67868,     0.67968,     0.68068,     0.68168,     0.68268,     0.68368,     0.68468,     0.68569,     0.68669,     0.68769,     0.68869,     0.68969,     0.69069,     0.69169,     0.69269,     0.69369,     0.69469,      0.6957,\n",
      "            0.6967,      0.6977,      0.6987,      0.6997,      0.7007,      0.7017,      0.7027,      0.7037,      0.7047,     0.70571,     0.70671,     0.70771,     0.70871,     0.70971,     0.71071,     0.71171,     0.71271,     0.71371,     0.71471,     0.71572,     0.71672,     0.71772,     0.71872,     0.71972,\n",
      "           0.72072,     0.72172,     0.72272,     0.72372,     0.72472,     0.72573,     0.72673,     0.72773,     0.72873,     0.72973,     0.73073,     0.73173,     0.73273,     0.73373,     0.73473,     0.73574,     0.73674,     0.73774,     0.73874,     0.73974,     0.74074,     0.74174,     0.74274,     0.74374,\n",
      "           0.74474,     0.74575,     0.74675,     0.74775,     0.74875,     0.74975,     0.75075,     0.75175,     0.75275,     0.75375,     0.75475,     0.75576,     0.75676,     0.75776,     0.75876,     0.75976,     0.76076,     0.76176,     0.76276,     0.76376,     0.76476,     0.76577,     0.76677,     0.76777,\n",
      "           0.76877,     0.76977,     0.77077,     0.77177,     0.77277,     0.77377,     0.77477,     0.77578,     0.77678,     0.77778,     0.77878,     0.77978,     0.78078,     0.78178,     0.78278,     0.78378,     0.78478,     0.78579,     0.78679,     0.78779,     0.78879,     0.78979,     0.79079,     0.79179,\n",
      "           0.79279,     0.79379,     0.79479,      0.7958,      0.7968,      0.7978,      0.7988,      0.7998,      0.8008,      0.8018,      0.8028,      0.8038,      0.8048,     0.80581,     0.80681,     0.80781,     0.80881,     0.80981,     0.81081,     0.81181,     0.81281,     0.81381,     0.81481,     0.81582,\n",
      "           0.81682,     0.81782,     0.81882,     0.81982,     0.82082,     0.82182,     0.82282,     0.82382,     0.82482,     0.82583,     0.82683,     0.82783,     0.82883,     0.82983,     0.83083,     0.83183,     0.83283,     0.83383,     0.83483,     0.83584,     0.83684,     0.83784,     0.83884,     0.83984,\n",
      "           0.84084,     0.84184,     0.84284,     0.84384,     0.84484,     0.84585,     0.84685,     0.84785,     0.84885,     0.84985,     0.85085,     0.85185,     0.85285,     0.85385,     0.85485,     0.85586,     0.85686,     0.85786,     0.85886,     0.85986,     0.86086,     0.86186,     0.86286,     0.86386,\n",
      "           0.86486,     0.86587,     0.86687,     0.86787,     0.86887,     0.86987,     0.87087,     0.87187,     0.87287,     0.87387,     0.87487,     0.87588,     0.87688,     0.87788,     0.87888,     0.87988,     0.88088,     0.88188,     0.88288,     0.88388,     0.88488,     0.88589,     0.88689,     0.88789,\n",
      "           0.88889,     0.88989,     0.89089,     0.89189,     0.89289,     0.89389,     0.89489,      0.8959,      0.8969,      0.8979,      0.8989,      0.8999,      0.9009,      0.9019,      0.9029,      0.9039,      0.9049,     0.90591,     0.90691,     0.90791,     0.90891,     0.90991,     0.91091,     0.91191,\n",
      "           0.91291,     0.91391,     0.91491,     0.91592,     0.91692,     0.91792,     0.91892,     0.91992,     0.92092,     0.92192,     0.92292,     0.92392,     0.92492,     0.92593,     0.92693,     0.92793,     0.92893,     0.92993,     0.93093,     0.93193,     0.93293,     0.93393,     0.93493,     0.93594,\n",
      "           0.93694,     0.93794,     0.93894,     0.93994,     0.94094,     0.94194,     0.94294,     0.94394,     0.94494,     0.94595,     0.94695,     0.94795,     0.94895,     0.94995,     0.95095,     0.95195,     0.95295,     0.95395,     0.95495,     0.95596,     0.95696,     0.95796,     0.95896,     0.95996,\n",
      "           0.96096,     0.96196,     0.96296,     0.96396,     0.96496,     0.96597,     0.96697,     0.96797,     0.96897,     0.96997,     0.97097,     0.97197,     0.97297,     0.97397,     0.97497,     0.97598,     0.97698,     0.97798,     0.97898,     0.97998,     0.98098,     0.98198,     0.98298,     0.98398,\n",
      "           0.98498,     0.98599,     0.98699,     0.98799,     0.98899,     0.98999,     0.99099,     0.99199,     0.99299,     0.99399,     0.99499,       0.996,       0.997,       0.998,       0.999,           1]), array([[   0.020408,    0.020408,    0.039713,    0.060262,    0.076338,    0.090248,      0.1041,     0.11744,     0.13152,     0.13819,     0.14479,     0.15493,     0.16436,     0.17338,     0.18419,     0.20373,      0.2126,     0.23171,     0.24506,     0.25614,     0.26131,     0.26449,     0.27269,\n",
      "            0.28992,     0.30009,     0.31763,     0.32359,     0.32798,     0.33741,      0.3456,     0.34831,     0.35029,     0.35278,     0.35586,     0.36114,     0.36558,     0.36991,     0.38278,     0.40014,     0.40677,     0.40888,     0.41098,     0.41385,      0.4213,     0.43896,     0.45665,\n",
      "            0.45746,     0.45827,     0.45908,     0.45989,      0.4607,     0.46151,     0.46232,     0.46314,     0.46395,     0.46567,     0.46806,     0.47044,     0.47287,     0.47648,     0.48009,     0.48296,     0.48537,     0.48778,     0.49019,     0.49208,     0.49387,     0.49566,     0.49745,\n",
      "            0.49925,     0.50983,     0.51156,     0.51329,     0.51502,     0.51675,     0.51849,     0.52035,     0.52309,     0.52584,     0.52858,     0.53136,     0.53423,      0.5371,     0.53997,     0.54201,     0.54284,     0.54368,     0.54451,     0.54535,     0.54618,     0.54702,     0.54785,\n",
      "            0.54869,     0.54952,     0.55036,     0.55119,     0.55202,     0.55286,     0.55352,     0.55405,     0.55459,     0.55513,     0.55567,      0.5562,     0.55674,     0.55728,     0.55782,     0.55835,     0.55889,     0.55943,     0.55997,     0.56051,     0.56104,     0.56158,     0.56212,\n",
      "            0.56266,     0.56319,     0.56373,     0.56427,     0.56481,     0.57794,     0.57894,     0.57994,     0.58094,     0.58194,     0.58294,     0.58394,     0.58494,     0.58593,     0.58693,     0.58793,     0.58893,     0.58993,     0.59099,     0.59499,     0.59899,       0.603,     0.60491,\n",
      "            0.60536,     0.60581,     0.60625,      0.6067,     0.60715,      0.6076,     0.60804,     0.60849,     0.60894,     0.60938,     0.60983,     0.61028,     0.61072,     0.61117,     0.61162,     0.61207,     0.61251,     0.61296,     0.61341,     0.61385,      0.6143,     0.61475,     0.61519,\n",
      "            0.61564,     0.61609,     0.61654,     0.61698,     0.61743,     0.61788,     0.61832,     0.61877,     0.62428,     0.63475,      0.6369,     0.63905,      0.6412,     0.64335,     0.64551,     0.64766,     0.64981,     0.66679,     0.66978,     0.67277,     0.67576,     0.67875,     0.68174,\n",
      "            0.68516,     0.69061,     0.69606,     0.70152,     0.70391,     0.70546,     0.70701,     0.70856,     0.71011,     0.71166,     0.71321,     0.71476,     0.71631,     0.71786,     0.71941,     0.72096,     0.72257,     0.72448,     0.72638,     0.72829,      0.7302,      0.7321,     0.73401,\n",
      "            0.73592,     0.73782,     0.73973,     0.74164,     0.74353,     0.74538,     0.74724,      0.7491,     0.75096,     0.75282,     0.75467,     0.75653,     0.75839,     0.76025,     0.76211,     0.76396,     0.78813,     0.78937,     0.79061,     0.79185,     0.79309,     0.79434,     0.79558,\n",
      "            0.79682,     0.79806,      0.7993,     0.80054,     0.80178,     0.80302,     0.80426,      0.8055,     0.80674,     0.80798,     0.80922,     0.81046,      0.8117,     0.81457,     0.82042,     0.82627,     0.83212,     0.83797,     0.83948,     0.84035,     0.84123,     0.84211,     0.84298,\n",
      "            0.84386,     0.84474,     0.84561,     0.84649,     0.84737,     0.84825,     0.84912,        0.85,     0.85088,     0.85175,     0.85263,     0.85351,     0.85438,     0.85526,     0.85614,     0.85701,     0.85789,     0.85877,     0.85964,     0.86052,      0.8614,     0.86228,     0.86315,\n",
      "            0.86403,     0.86491,     0.86578,     0.86666,     0.86697,     0.86728,     0.86759,     0.86789,      0.8682,     0.86851,     0.86882,     0.86912,     0.86943,     0.86974,     0.87005,     0.87035,     0.87066,     0.87097,     0.87128,     0.87158,     0.87189,      0.8722,     0.87251,\n",
      "            0.87281,     0.87312,     0.87343,     0.87374,     0.87404,     0.87435,     0.87466,     0.87497,     0.87527,     0.87558,     0.87589,      0.8762,      0.8765,     0.87681,     0.87712,     0.87743,     0.87773,     0.87804,     0.87835,     0.87866,     0.87896,     0.87927,     0.87958,\n",
      "            0.87989,     0.88019,      0.8805,     0.88081,     0.88112,     0.88142,     0.88173,     0.88204,     0.88235,     0.88265,     0.88296,     0.88327,     0.88358,     0.88388,     0.88419,      0.8845,     0.88481,     0.88511,     0.88542,     0.88573,     0.88604,     0.88634,     0.88665,\n",
      "            0.88696,     0.88727,     0.88757,     0.88788,     0.88819,      0.8885,     0.88881,     0.88911,     0.88942,     0.88973,     0.89004,     0.89034,     0.89065,     0.89096,     0.89127,     0.89157,     0.89188,     0.89219,      0.8925,      0.8928,     0.89311,     0.89342,     0.89373,\n",
      "            0.89403,     0.89434,     0.89465,     0.89496,     0.89526,     0.89557,     0.89588,     0.89619,     0.89649,     0.89661,     0.89669,     0.89677,     0.89684,     0.89692,       0.897,     0.89707,     0.89715,     0.89723,      0.8973,     0.89738,     0.89746,     0.89754,     0.89761,\n",
      "            0.89769,     0.89777,     0.89784,     0.89792,       0.898,     0.89807,     0.89815,     0.89823,      0.8983,     0.89838,     0.89846,     0.89853,     0.89861,     0.89869,     0.89876,     0.89884,     0.89892,     0.89899,     0.89907,     0.89915,     0.89922,      0.8993,     0.89938,\n",
      "            0.89945,     0.89953,     0.89961,     0.89968,     0.89976,     0.89984,     0.89992,     0.89999,     0.90007,     0.90015,     0.90022,      0.9003,     0.90038,     0.90045,     0.90053,     0.90061,     0.90068,     0.90076,     0.90084,     0.90091,     0.90099,     0.90107,     0.90114,\n",
      "            0.90122,      0.9013,     0.90137,     0.90145,     0.90153,      0.9016,     0.90168,     0.90176,     0.90183,     0.90191,     0.90199,     0.90207,     0.90214,     0.90222,      0.9023,     0.90237,     0.90245,     0.90253,      0.9026,     0.90268,     0.90276,     0.90283,     0.90291,\n",
      "            0.90299,     0.90306,     0.90314,     0.90322,     0.90329,     0.90337,     0.90345,     0.90352,      0.9036,     0.90368,     0.90375,     0.90383,     0.90391,     0.90398,     0.90406,     0.90414,     0.90421,     0.90429,     0.90437,     0.90445,     0.90452,      0.9046,     0.90468,\n",
      "            0.90475,     0.90483,     0.90491,     0.90498,     0.90506,     0.90514,     0.90521,     0.90529,     0.90537,     0.90544,     0.90552,      0.9056,     0.90567,     0.90575,     0.90583,      0.9059,     0.90598,     0.90606,     0.90613,     0.90621,     0.90629,     0.90636,     0.90644,\n",
      "            0.90652,      0.9066,     0.90667,     0.90675,     0.90683,      0.9069,     0.90698,     0.90706,     0.90713,     0.90721,     0.90729,     0.90736,     0.90744,     0.90752,     0.90759,     0.90767,     0.90775,     0.90782,      0.9079,     0.90798,     0.90805,     0.90813,     0.90821,\n",
      "            0.90828,     0.90836,     0.90844,     0.90851,     0.90859,     0.90867,     0.90874,     0.90882,      0.9089,     0.90898,     0.90905,     0.90913,     0.90921,     0.90928,     0.90936,     0.90944,     0.90951,     0.90959,     0.90967,     0.90974,     0.90982,      0.9099,     0.90997,\n",
      "            0.91005,     0.91013,      0.9102,     0.91028,     0.91036,     0.91043,     0.91051,     0.91059,     0.91066,     0.91074,     0.91082,     0.91089,     0.91097,     0.91105,     0.91113,      0.9112,     0.91128,     0.91136,     0.91143,     0.91151,     0.91159,     0.91166,     0.91174,\n",
      "            0.91182,     0.91189,     0.91197,     0.91205,     0.91212,      0.9122,     0.91228,     0.91235,     0.91243,     0.91251,     0.91258,     0.91266,     0.91274,     0.91281,     0.91289,     0.91297,     0.91304,     0.91312,      0.9132,     0.91327,     0.91335,     0.91343,     0.91351,\n",
      "            0.91358,     0.91366,     0.91374,     0.91381,     0.91389,     0.91397,     0.91404,     0.91412,      0.9142,     0.91427,     0.91435,     0.91443,      0.9145,     0.91458,     0.91466,     0.91473,     0.91481,     0.91489,     0.91496,     0.91504,     0.91512,     0.91519,     0.91527,\n",
      "            0.91535,     0.91542,      0.9155,     0.91558,     0.91566,     0.91573,     0.91581,     0.91589,     0.91596,     0.91604,     0.91612,     0.91619,     0.91627,     0.91635,     0.91642,      0.9165,     0.91658,     0.91665,     0.91673,     0.91681,     0.91688,     0.91696,     0.91704,\n",
      "            0.91711,     0.91719,     0.91727,     0.91734,     0.91742,      0.9175,     0.91757,     0.91765,     0.91773,      0.9178,     0.91788,     0.91796,     0.91804,     0.91811,     0.91819,     0.91827,     0.91834,     0.91842,      0.9185,     0.91857,     0.91865,     0.91873,      0.9188,\n",
      "            0.91888,     0.91896,     0.91903,     0.91911,     0.91919,     0.91926,     0.91934,     0.91942,     0.91949,     0.91957,     0.91965,     0.91972,      0.9198,     0.91988,     0.91995,     0.92003,     0.92011,     0.92019,     0.92026,     0.92034,     0.92042,     0.92049,     0.92057,\n",
      "            0.92065,     0.92072,      0.9208,     0.92088,     0.92095,     0.92103,     0.92111,     0.92118,     0.92126,     0.92134,     0.92141,     0.92149,     0.92157,     0.92164,     0.92172,      0.9218,     0.92187,     0.92195,     0.92203,      0.9221,     0.92218,     0.92226,     0.92233,\n",
      "            0.92241,     0.92249,     0.92257,     0.92264,     0.92272,      0.9228,     0.92287,     0.92295,     0.92303,      0.9231,     0.92318,     0.92326,     0.92333,     0.92341,     0.92349,     0.92356,     0.92364,     0.92372,     0.92379,     0.92387,     0.92395,     0.92402,      0.9241,\n",
      "            0.92418,     0.92425,     0.92433,     0.92441,     0.92448,     0.92456,     0.92464,     0.92471,     0.92479,     0.92487,     0.92495,     0.92502,      0.9251,     0.92518,     0.92525,     0.92533,     0.92541,     0.92548,     0.92556,     0.92564,     0.92571,     0.92579,     0.92587,\n",
      "            0.92594,     0.92602,      0.9261,     0.92617,     0.92625,     0.92633,      0.9264,     0.92648,     0.92656,     0.92663,     0.92671,     0.92679,     0.92686,     0.92694,     0.92702,      0.9271,     0.92717,     0.92725,     0.92733,      0.9274,     0.92748,     0.92756,     0.92763,\n",
      "            0.92771,     0.92779,     0.92786,     0.92794,     0.92802,     0.92809,     0.92817,     0.92825,     0.92832,      0.9284,     0.92848,     0.92855,     0.92842,     0.92823,     0.92803,     0.92784,     0.92765,     0.92745,     0.92726,     0.92706,     0.92687,     0.92668,     0.92648,\n",
      "            0.92629,     0.92609,     0.92602,     0.92672,     0.92742,     0.92812,     0.92882,     0.92952,     0.93022,     0.93092,     0.93162,     0.93232,     0.93302,     0.93372,     0.93443,     0.93513,     0.93583,     0.93653,     0.93723,     0.93793,     0.93863,     0.93933,     0.94003,\n",
      "            0.94073,     0.94143,     0.94213,     0.94283,     0.94353,     0.94423,     0.94493,     0.94563,     0.94633,     0.94703,     0.94773,     0.94843,     0.94913,     0.94983,     0.95053,     0.95123,     0.95194,     0.95264,     0.95334,     0.95404,     0.95474,     0.95544,     0.95614,\n",
      "            0.95684,     0.95754,     0.95824,     0.95894,     0.95964,     0.96034,     0.96104,     0.96245,      0.9656,     0.96875,     0.97191,     0.97506,     0.97821,     0.98136,     0.98452,     0.98767,     0.99082,     0.99397,     0.99712,           1,           1,           1,           1,\n",
      "                  1,           1,           1,           1,           1,           1,           1,           1,           1,           1,           1,           1,           1,           1,           1,           1,           1,           1,           1,           1,           1,           1,           1,\n",
      "                  1,           1,           1,           1,           1,           1,           1,           1,           1,           1,           1,           1,           1,           1,           1,           1,           1,           1,           1,           1,           1,           1,           1,\n",
      "                  1,           1,           1,           1,           1,           1,           1,           1,           1,           1,           1,           1,           1,           1,           1,           1,           1,           1,           1,           1,           1,           1,           1,\n",
      "                  1,           1,           1,           1,           1,           1,           1,           1,           1,           1,           1,           1,           1,           1,           1,           1,           1,           1,           1,           1,           1,           1,           1,\n",
      "                  1,           1,           1,           1,           1,           1,           1,           1,           1,           1,           1,           1,           1,           1,           1,           1,           1,           1,           1,           1,           1,           1,           1,\n",
      "                  1,           1,           1,           1,           1,           1,           1,           1,           1,           1,           1]]), 'Confidence', 'Precision'], [array([          0,    0.001001,    0.002002,    0.003003,    0.004004,    0.005005,    0.006006,    0.007007,    0.008008,    0.009009,     0.01001,    0.011011,    0.012012,    0.013013,    0.014014,    0.015015,    0.016016,    0.017017,    0.018018,    0.019019,     0.02002,    0.021021,    0.022022,    0.023023,\n",
      "          0.024024,    0.025025,    0.026026,    0.027027,    0.028028,    0.029029,     0.03003,    0.031031,    0.032032,    0.033033,    0.034034,    0.035035,    0.036036,    0.037037,    0.038038,    0.039039,     0.04004,    0.041041,    0.042042,    0.043043,    0.044044,    0.045045,    0.046046,    0.047047,\n",
      "          0.048048,    0.049049,     0.05005,    0.051051,    0.052052,    0.053053,    0.054054,    0.055055,    0.056056,    0.057057,    0.058058,    0.059059,     0.06006,    0.061061,    0.062062,    0.063063,    0.064064,    0.065065,    0.066066,    0.067067,    0.068068,    0.069069,     0.07007,    0.071071,\n",
      "          0.072072,    0.073073,    0.074074,    0.075075,    0.076076,    0.077077,    0.078078,    0.079079,     0.08008,    0.081081,    0.082082,    0.083083,    0.084084,    0.085085,    0.086086,    0.087087,    0.088088,    0.089089,     0.09009,    0.091091,    0.092092,    0.093093,    0.094094,    0.095095,\n",
      "          0.096096,    0.097097,    0.098098,    0.099099,      0.1001,      0.1011,      0.1021,      0.1031,      0.1041,     0.10511,     0.10611,     0.10711,     0.10811,     0.10911,     0.11011,     0.11111,     0.11211,     0.11311,     0.11411,     0.11512,     0.11612,     0.11712,     0.11812,     0.11912,\n",
      "           0.12012,     0.12112,     0.12212,     0.12312,     0.12412,     0.12513,     0.12613,     0.12713,     0.12813,     0.12913,     0.13013,     0.13113,     0.13213,     0.13313,     0.13413,     0.13514,     0.13614,     0.13714,     0.13814,     0.13914,     0.14014,     0.14114,     0.14214,     0.14314,\n",
      "           0.14414,     0.14515,     0.14615,     0.14715,     0.14815,     0.14915,     0.15015,     0.15115,     0.15215,     0.15315,     0.15415,     0.15516,     0.15616,     0.15716,     0.15816,     0.15916,     0.16016,     0.16116,     0.16216,     0.16316,     0.16416,     0.16517,     0.16617,     0.16717,\n",
      "           0.16817,     0.16917,     0.17017,     0.17117,     0.17217,     0.17317,     0.17417,     0.17518,     0.17618,     0.17718,     0.17818,     0.17918,     0.18018,     0.18118,     0.18218,     0.18318,     0.18418,     0.18519,     0.18619,     0.18719,     0.18819,     0.18919,     0.19019,     0.19119,\n",
      "           0.19219,     0.19319,     0.19419,      0.1952,      0.1962,      0.1972,      0.1982,      0.1992,      0.2002,      0.2012,      0.2022,      0.2032,      0.2042,     0.20521,     0.20621,     0.20721,     0.20821,     0.20921,     0.21021,     0.21121,     0.21221,     0.21321,     0.21421,     0.21522,\n",
      "           0.21622,     0.21722,     0.21822,     0.21922,     0.22022,     0.22122,     0.22222,     0.22322,     0.22422,     0.22523,     0.22623,     0.22723,     0.22823,     0.22923,     0.23023,     0.23123,     0.23223,     0.23323,     0.23423,     0.23524,     0.23624,     0.23724,     0.23824,     0.23924,\n",
      "           0.24024,     0.24124,     0.24224,     0.24324,     0.24424,     0.24525,     0.24625,     0.24725,     0.24825,     0.24925,     0.25025,     0.25125,     0.25225,     0.25325,     0.25425,     0.25526,     0.25626,     0.25726,     0.25826,     0.25926,     0.26026,     0.26126,     0.26226,     0.26326,\n",
      "           0.26426,     0.26527,     0.26627,     0.26727,     0.26827,     0.26927,     0.27027,     0.27127,     0.27227,     0.27327,     0.27427,     0.27528,     0.27628,     0.27728,     0.27828,     0.27928,     0.28028,     0.28128,     0.28228,     0.28328,     0.28428,     0.28529,     0.28629,     0.28729,\n",
      "           0.28829,     0.28929,     0.29029,     0.29129,     0.29229,     0.29329,     0.29429,      0.2953,      0.2963,      0.2973,      0.2983,      0.2993,      0.3003,      0.3013,      0.3023,      0.3033,      0.3043,     0.30531,     0.30631,     0.30731,     0.30831,     0.30931,     0.31031,     0.31131,\n",
      "           0.31231,     0.31331,     0.31431,     0.31532,     0.31632,     0.31732,     0.31832,     0.31932,     0.32032,     0.32132,     0.32232,     0.32332,     0.32432,     0.32533,     0.32633,     0.32733,     0.32833,     0.32933,     0.33033,     0.33133,     0.33233,     0.33333,     0.33433,     0.33534,\n",
      "           0.33634,     0.33734,     0.33834,     0.33934,     0.34034,     0.34134,     0.34234,     0.34334,     0.34434,     0.34535,     0.34635,     0.34735,     0.34835,     0.34935,     0.35035,     0.35135,     0.35235,     0.35335,     0.35435,     0.35536,     0.35636,     0.35736,     0.35836,     0.35936,\n",
      "           0.36036,     0.36136,     0.36236,     0.36336,     0.36436,     0.36537,     0.36637,     0.36737,     0.36837,     0.36937,     0.37037,     0.37137,     0.37237,     0.37337,     0.37437,     0.37538,     0.37638,     0.37738,     0.37838,     0.37938,     0.38038,     0.38138,     0.38238,     0.38338,\n",
      "           0.38438,     0.38539,     0.38639,     0.38739,     0.38839,     0.38939,     0.39039,     0.39139,     0.39239,     0.39339,     0.39439,      0.3954,      0.3964,      0.3974,      0.3984,      0.3994,      0.4004,      0.4014,      0.4024,      0.4034,      0.4044,     0.40541,     0.40641,     0.40741,\n",
      "           0.40841,     0.40941,     0.41041,     0.41141,     0.41241,     0.41341,     0.41441,     0.41542,     0.41642,     0.41742,     0.41842,     0.41942,     0.42042,     0.42142,     0.42242,     0.42342,     0.42442,     0.42543,     0.42643,     0.42743,     0.42843,     0.42943,     0.43043,     0.43143,\n",
      "           0.43243,     0.43343,     0.43443,     0.43544,     0.43644,     0.43744,     0.43844,     0.43944,     0.44044,     0.44144,     0.44244,     0.44344,     0.44444,     0.44545,     0.44645,     0.44745,     0.44845,     0.44945,     0.45045,     0.45145,     0.45245,     0.45345,     0.45445,     0.45546,\n",
      "           0.45646,     0.45746,     0.45846,     0.45946,     0.46046,     0.46146,     0.46246,     0.46346,     0.46446,     0.46547,     0.46647,     0.46747,     0.46847,     0.46947,     0.47047,     0.47147,     0.47247,     0.47347,     0.47447,     0.47548,     0.47648,     0.47748,     0.47848,     0.47948,\n",
      "           0.48048,     0.48148,     0.48248,     0.48348,     0.48448,     0.48549,     0.48649,     0.48749,     0.48849,     0.48949,     0.49049,     0.49149,     0.49249,     0.49349,     0.49449,      0.4955,      0.4965,      0.4975,      0.4985,      0.4995,      0.5005,      0.5015,      0.5025,      0.5035,\n",
      "            0.5045,     0.50551,     0.50651,     0.50751,     0.50851,     0.50951,     0.51051,     0.51151,     0.51251,     0.51351,     0.51451,     0.51552,     0.51652,     0.51752,     0.51852,     0.51952,     0.52052,     0.52152,     0.52252,     0.52352,     0.52452,     0.52553,     0.52653,     0.52753,\n",
      "           0.52853,     0.52953,     0.53053,     0.53153,     0.53253,     0.53353,     0.53453,     0.53554,     0.53654,     0.53754,     0.53854,     0.53954,     0.54054,     0.54154,     0.54254,     0.54354,     0.54454,     0.54555,     0.54655,     0.54755,     0.54855,     0.54955,     0.55055,     0.55155,\n",
      "           0.55255,     0.55355,     0.55455,     0.55556,     0.55656,     0.55756,     0.55856,     0.55956,     0.56056,     0.56156,     0.56256,     0.56356,     0.56456,     0.56557,     0.56657,     0.56757,     0.56857,     0.56957,     0.57057,     0.57157,     0.57257,     0.57357,     0.57457,     0.57558,\n",
      "           0.57658,     0.57758,     0.57858,     0.57958,     0.58058,     0.58158,     0.58258,     0.58358,     0.58458,     0.58559,     0.58659,     0.58759,     0.58859,     0.58959,     0.59059,     0.59159,     0.59259,     0.59359,     0.59459,      0.5956,      0.5966,      0.5976,      0.5986,      0.5996,\n",
      "            0.6006,      0.6016,      0.6026,      0.6036,      0.6046,     0.60561,     0.60661,     0.60761,     0.60861,     0.60961,     0.61061,     0.61161,     0.61261,     0.61361,     0.61461,     0.61562,     0.61662,     0.61762,     0.61862,     0.61962,     0.62062,     0.62162,     0.62262,     0.62362,\n",
      "           0.62462,     0.62563,     0.62663,     0.62763,     0.62863,     0.62963,     0.63063,     0.63163,     0.63263,     0.63363,     0.63463,     0.63564,     0.63664,     0.63764,     0.63864,     0.63964,     0.64064,     0.64164,     0.64264,     0.64364,     0.64464,     0.64565,     0.64665,     0.64765,\n",
      "           0.64865,     0.64965,     0.65065,     0.65165,     0.65265,     0.65365,     0.65465,     0.65566,     0.65666,     0.65766,     0.65866,     0.65966,     0.66066,     0.66166,     0.66266,     0.66366,     0.66466,     0.66567,     0.66667,     0.66767,     0.66867,     0.66967,     0.67067,     0.67167,\n",
      "           0.67267,     0.67367,     0.67467,     0.67568,     0.67668,     0.67768,     0.67868,     0.67968,     0.68068,     0.68168,     0.68268,     0.68368,     0.68468,     0.68569,     0.68669,     0.68769,     0.68869,     0.68969,     0.69069,     0.69169,     0.69269,     0.69369,     0.69469,      0.6957,\n",
      "            0.6967,      0.6977,      0.6987,      0.6997,      0.7007,      0.7017,      0.7027,      0.7037,      0.7047,     0.70571,     0.70671,     0.70771,     0.70871,     0.70971,     0.71071,     0.71171,     0.71271,     0.71371,     0.71471,     0.71572,     0.71672,     0.71772,     0.71872,     0.71972,\n",
      "           0.72072,     0.72172,     0.72272,     0.72372,     0.72472,     0.72573,     0.72673,     0.72773,     0.72873,     0.72973,     0.73073,     0.73173,     0.73273,     0.73373,     0.73473,     0.73574,     0.73674,     0.73774,     0.73874,     0.73974,     0.74074,     0.74174,     0.74274,     0.74374,\n",
      "           0.74474,     0.74575,     0.74675,     0.74775,     0.74875,     0.74975,     0.75075,     0.75175,     0.75275,     0.75375,     0.75475,     0.75576,     0.75676,     0.75776,     0.75876,     0.75976,     0.76076,     0.76176,     0.76276,     0.76376,     0.76476,     0.76577,     0.76677,     0.76777,\n",
      "           0.76877,     0.76977,     0.77077,     0.77177,     0.77277,     0.77377,     0.77477,     0.77578,     0.77678,     0.77778,     0.77878,     0.77978,     0.78078,     0.78178,     0.78278,     0.78378,     0.78478,     0.78579,     0.78679,     0.78779,     0.78879,     0.78979,     0.79079,     0.79179,\n",
      "           0.79279,     0.79379,     0.79479,      0.7958,      0.7968,      0.7978,      0.7988,      0.7998,      0.8008,      0.8018,      0.8028,      0.8038,      0.8048,     0.80581,     0.80681,     0.80781,     0.80881,     0.80981,     0.81081,     0.81181,     0.81281,     0.81381,     0.81481,     0.81582,\n",
      "           0.81682,     0.81782,     0.81882,     0.81982,     0.82082,     0.82182,     0.82282,     0.82382,     0.82482,     0.82583,     0.82683,     0.82783,     0.82883,     0.82983,     0.83083,     0.83183,     0.83283,     0.83383,     0.83483,     0.83584,     0.83684,     0.83784,     0.83884,     0.83984,\n",
      "           0.84084,     0.84184,     0.84284,     0.84384,     0.84484,     0.84585,     0.84685,     0.84785,     0.84885,     0.84985,     0.85085,     0.85185,     0.85285,     0.85385,     0.85485,     0.85586,     0.85686,     0.85786,     0.85886,     0.85986,     0.86086,     0.86186,     0.86286,     0.86386,\n",
      "           0.86486,     0.86587,     0.86687,     0.86787,     0.86887,     0.86987,     0.87087,     0.87187,     0.87287,     0.87387,     0.87487,     0.87588,     0.87688,     0.87788,     0.87888,     0.87988,     0.88088,     0.88188,     0.88288,     0.88388,     0.88488,     0.88589,     0.88689,     0.88789,\n",
      "           0.88889,     0.88989,     0.89089,     0.89189,     0.89289,     0.89389,     0.89489,      0.8959,      0.8969,      0.8979,      0.8989,      0.8999,      0.9009,      0.9019,      0.9029,      0.9039,      0.9049,     0.90591,     0.90691,     0.90791,     0.90891,     0.90991,     0.91091,     0.91191,\n",
      "           0.91291,     0.91391,     0.91491,     0.91592,     0.91692,     0.91792,     0.91892,     0.91992,     0.92092,     0.92192,     0.92292,     0.92392,     0.92492,     0.92593,     0.92693,     0.92793,     0.92893,     0.92993,     0.93093,     0.93193,     0.93293,     0.93393,     0.93493,     0.93594,\n",
      "           0.93694,     0.93794,     0.93894,     0.93994,     0.94094,     0.94194,     0.94294,     0.94394,     0.94494,     0.94595,     0.94695,     0.94795,     0.94895,     0.94995,     0.95095,     0.95195,     0.95295,     0.95395,     0.95495,     0.95596,     0.95696,     0.95796,     0.95896,     0.95996,\n",
      "           0.96096,     0.96196,     0.96296,     0.96396,     0.96496,     0.96597,     0.96697,     0.96797,     0.96897,     0.96997,     0.97097,     0.97197,     0.97297,     0.97397,     0.97497,     0.97598,     0.97698,     0.97798,     0.97898,     0.97998,     0.98098,     0.98198,     0.98298,     0.98398,\n",
      "           0.98498,     0.98599,     0.98699,     0.98799,     0.98899,     0.98999,     0.99099,     0.99199,     0.99299,     0.99399,     0.99499,       0.996,       0.997,       0.998,       0.999,           1]), array([[          1,           1,           1,           1,           1,           1,           1,           1,           1,           1,           1,           1,           1,           1,           1,           1,           1,           1,           1,           1,           1,           1,           1,\n",
      "                  1,           1,           1,           1,           1,           1,           1,           1,           1,           1,           1,           1,           1,           1,           1,           1,           1,           1,           1,           1,           1,           1,           1,\n",
      "                  1,           1,           1,           1,           1,           1,           1,           1,           1,           1,           1,           1,           1,           1,           1,           1,           1,           1,           1,           1,           1,           1,           1,\n",
      "                  1,           1,           1,           1,           1,           1,           1,           1,           1,           1,           1,           1,           1,           1,           1,           1,           1,           1,           1,           1,           1,           1,           1,\n",
      "                  1,           1,           1,           1,           1,           1,           1,           1,           1,           1,           1,           1,           1,           1,           1,           1,           1,           1,           1,           1,           1,           1,           1,\n",
      "                  1,           1,           1,           1,           1,           1,           1,           1,           1,           1,           1,           1,           1,           1,           1,           1,           1,           1,           1,           1,           1,           1,           1,\n",
      "                  1,           1,           1,           1,           1,           1,           1,           1,           1,           1,           1,           1,           1,           1,           1,           1,           1,           1,           1,           1,           1,           1,           1,\n",
      "                  1,           1,           1,           1,           1,           1,           1,           1,           1,           1,           1,           1,           1,           1,           1,           1,           1,           1,           1,           1,           1,           1,           1,\n",
      "                  1,           1,           1,           1,           1,           1,           1,           1,           1,           1,           1,           1,           1,           1,           1,           1,           1,           1,           1,           1,           1,           1,           1,\n",
      "                  1,           1,           1,           1,           1,           1,           1,           1,           1,           1,           1,           1,           1,           1,           1,           1,           1,           1,           1,           1,           1,           1,           1,\n",
      "                  1,           1,           1,           1,           1,           1,           1,           1,           1,           1,           1,           1,           1,           1,           1,           1,           1,           1,           1,           1,           1,           1,           1,\n",
      "                  1,           1,           1,           1,           1,           1,           1,           1,           1,           1,           1,           1,           1,           1,           1,           1,           1,           1,           1,           1,           1,           1,           1,\n",
      "                  1,           1,           1,           1,           1,           1,           1,           1,           1,           1,           1,           1,           1,           1,           1,           1,           1,           1,           1,           1,           1,           1,           1,\n",
      "                  1,           1,           1,           1,           1,           1,           1,           1,           1,           1,           1,           1,           1,           1,           1,           1,           1,           1,           1,           1,           1,           1,           1,\n",
      "                  1,           1,           1,           1,           1,           1,           1,           1,           1,           1,           1,           1,           1,           1,           1,           1,           1,           1,           1,           1,           1,           1,           1,\n",
      "                  1,           1,           1,           1,           1,           1,           1,           1,           1,           1,           1,           1,           1,           1,           1,           1,           1,           1,           1,           1,           1,           1,           1,\n",
      "                  1,           1,           1,           1,           1,           1,           1,           1,           1,           1,           1,           1,           1,           1,           1,           1,           1,           1,           1,           1,           1,           1,           1,\n",
      "                  1,           1,           1,           1,           1,           1,           1,           1,           1,           1,           1,           1,           1,           1,           1,           1,           1,           1,           1,           1,           1,           1,           1,\n",
      "                  1,           1,           1,           1,           1,           1,           1,           1,           1,           1,           1,           1,           1,           1,           1,           1,           1,           1,           1,           1,           1,           1,           1,\n",
      "                  1,           1,           1,           1,           1,           1,           1,           1,           1,           1,           1,           1,           1,           1,           1,           1,           1,           1,           1,           1,           1,           1,           1,\n",
      "                  1,           1,           1,           1,           1,           1,           1,           1,           1,           1,           1,           1,           1,           1,           1,           1,           1,           1,           1,           1,           1,           1,           1,\n",
      "                  1,           1,           1,           1,           1,           1,           1,           1,           1,           1,           1,           1,           1,           1,           1,           1,           1,           1,           1,           1,           1,           1,           1,\n",
      "                  1,           1,           1,           1,           1,           1,           1,           1,           1,           1,           1,           1,           1,           1,           1,           1,           1,           1,           1,           1,           1,           1,           1,\n",
      "                  1,           1,           1,           1,           1,           1,           1,           1,           1,           1,           1,           1,           1,           1,           1,           1,           1,           1,           1,           1,           1,           1,           1,\n",
      "                  1,           1,           1,           1,           1,           1,           1,           1,           1,           1,           1,           1,           1,           1,           1,           1,           1,           1,           1,           1,           1,           1,           1,\n",
      "                  1,           1,           1,           1,           1,           1,           1,           1,           1,           1,           1,           1,           1,           1,           1,           1,           1,           1,           1,           1,           1,           1,           1,\n",
      "                  1,           1,           1,           1,           1,           1,           1,           1,           1,           1,           1,           1,           1,           1,           1,           1,           1,           1,           1,           1,           1,           1,           1,\n",
      "                  1,           1,           1,           1,           1,           1,           1,           1,           1,           1,           1,           1,           1,           1,           1,           1,           1,           1,           1,           1,           1,           1,           1,\n",
      "                  1,           1,           1,           1,           1,           1,           1,           1,           1,           1,           1,           1,           1,           1,           1,           1,           1,           1,           1,           1,           1,           1,           1,\n",
      "                  1,           1,           1,           1,           1,           1,           1,           1,           1,           1,           1,           1,           1,           1,           1,           1,           1,           1,           1,           1,           1,           1,           1,\n",
      "                  1,           1,           1,           1,           1,           1,           1,           1,           1,           1,           1,           1,           1,           1,           1,           1,           1,           1,           1,           1,           1,           1,           1,\n",
      "                  1,           1,           1,           1,           1,           1,           1,           1,           1,           1,           1,           1,           1,           1,           1,           1,           1,           1,           1,           1,           1,           1,           1,\n",
      "                  1,           1,           1,           1,           1,           1,           1,           1,           1,           1,           1,           1,           1,           1,           1,           1,           1,           1,           1,           1,           1,           1,           1,\n",
      "                  1,           1,           1,           1,           1,           1,           1,           1,           1,           1,           1,           1,           1,           1,           1,           1,           1,           1,           1,           1,           1,           1,           1,\n",
      "                  1,           1,           1,           1,           1,           1,           1,           1,           1,           1,           1,           1,     0.99782,       0.995,     0.99218,     0.98936,     0.98654,     0.98372,      0.9809,     0.97808,     0.97526,     0.97244,     0.96962,\n",
      "             0.9668,     0.96398,     0.96154,     0.96154,     0.96154,     0.96154,     0.96154,     0.96154,     0.96154,     0.96154,     0.96154,     0.96154,     0.96154,     0.96154,     0.96154,     0.96154,     0.96154,     0.96154,     0.96154,     0.96154,     0.96154,     0.96154,     0.96154,\n",
      "            0.96154,     0.96154,     0.96154,     0.96154,     0.96154,     0.96154,     0.96154,     0.96154,     0.96154,     0.96154,     0.96154,     0.96154,     0.96154,     0.96154,     0.96154,     0.96154,     0.96154,     0.96154,     0.96154,     0.96154,     0.96154,     0.96154,     0.96154,\n",
      "            0.96154,     0.96154,     0.96154,     0.96154,     0.96154,     0.96154,     0.96154,     0.96154,     0.96154,     0.96154,     0.96154,     0.96154,     0.96154,     0.96154,     0.96154,     0.96154,     0.96154,     0.96154,     0.96154,     0.96108,     0.95581,     0.95055,     0.94528,\n",
      "            0.94002,     0.93475,     0.92949,     0.92423,      0.9224,     0.92154,     0.92067,     0.91981,     0.91894,     0.91808,     0.91722,     0.91635,     0.91549,     0.91462,     0.91376,     0.91289,     0.91203,     0.91117,      0.9103,     0.90944,     0.90857,     0.90771,     0.90684,\n",
      "            0.90598,     0.90512,     0.90425,     0.90339,     0.90252,     0.90166,     0.90079,     0.89993,     0.89907,      0.8982,     0.89734,     0.89647,     0.89561,     0.89474,     0.89388,     0.89302,     0.89215,     0.89129,     0.89042,     0.88956,     0.88869,     0.88783,     0.88697,\n",
      "             0.8861,     0.88524,     0.87641,     0.84717,     0.84423,     0.84224,     0.84025,     0.83826,     0.83627,     0.83428,     0.83229,      0.8303,     0.82831,     0.82632,     0.82433,     0.82234,     0.82035,     0.81836,     0.81637,     0.81438,     0.81238,     0.81039,      0.8084,\n",
      "            0.79098,     0.76868,     0.76528,     0.76188,     0.75849,     0.75509,     0.75169,      0.7483,      0.7449,      0.7415,     0.73811,     0.73471,     0.73131,     0.71908,     0.70516,     0.68899,     0.64659,     0.59905,     0.55847,     0.50256,     0.46618,     0.44871,     0.43389,\n",
      "            0.40785,     0.37146,     0.34902,     0.29944,     0.26907,     0.25911,     0.24915,     0.23919,      0.2186,     0.18694,     0.17887,      0.1708,     0.16273,     0.15465,    0.080236,    0.064424,    0.050929,           0,           0,           0,           0,           0,           0,\n",
      "                  0,           0,           0,           0,           0,           0,           0,           0,           0,           0,           0]]), 'Confidence', 'Recall'], [array([          0,    0.001001,    0.002002,    0.003003,    0.004004,    0.005005,    0.006006,    0.007007,    0.008008,    0.009009,     0.01001,    0.011011,    0.012012,    0.013013,    0.014014,    0.015015,    0.016016,    0.017017,    0.018018,    0.019019,     0.02002,    0.021021,    0.022022,    0.023023,\n",
      "          0.024024,    0.025025,    0.026026,    0.027027,    0.028028,    0.029029,     0.03003,    0.031031,    0.032032,    0.033033,    0.034034,    0.035035,    0.036036,    0.037037,    0.038038,    0.039039,     0.04004,    0.041041,    0.042042,    0.043043,    0.044044,    0.045045,    0.046046,    0.047047,\n",
      "          0.048048,    0.049049,     0.05005,    0.051051,    0.052052,    0.053053,    0.054054,    0.055055,    0.056056,    0.057057,    0.058058,    0.059059,     0.06006,    0.061061,    0.062062,    0.063063,    0.064064,    0.065065,    0.066066,    0.067067,    0.068068,    0.069069,     0.07007,    0.071071,\n",
      "          0.072072,    0.073073,    0.074074,    0.075075,    0.076076,    0.077077,    0.078078,    0.079079,     0.08008,    0.081081,    0.082082,    0.083083,    0.084084,    0.085085,    0.086086,    0.087087,    0.088088,    0.089089,     0.09009,    0.091091,    0.092092,    0.093093,    0.094094,    0.095095,\n",
      "          0.096096,    0.097097,    0.098098,    0.099099,      0.1001,      0.1011,      0.1021,      0.1031,      0.1041,     0.10511,     0.10611,     0.10711,     0.10811,     0.10911,     0.11011,     0.11111,     0.11211,     0.11311,     0.11411,     0.11512,     0.11612,     0.11712,     0.11812,     0.11912,\n",
      "           0.12012,     0.12112,     0.12212,     0.12312,     0.12412,     0.12513,     0.12613,     0.12713,     0.12813,     0.12913,     0.13013,     0.13113,     0.13213,     0.13313,     0.13413,     0.13514,     0.13614,     0.13714,     0.13814,     0.13914,     0.14014,     0.14114,     0.14214,     0.14314,\n",
      "           0.14414,     0.14515,     0.14615,     0.14715,     0.14815,     0.14915,     0.15015,     0.15115,     0.15215,     0.15315,     0.15415,     0.15516,     0.15616,     0.15716,     0.15816,     0.15916,     0.16016,     0.16116,     0.16216,     0.16316,     0.16416,     0.16517,     0.16617,     0.16717,\n",
      "           0.16817,     0.16917,     0.17017,     0.17117,     0.17217,     0.17317,     0.17417,     0.17518,     0.17618,     0.17718,     0.17818,     0.17918,     0.18018,     0.18118,     0.18218,     0.18318,     0.18418,     0.18519,     0.18619,     0.18719,     0.18819,     0.18919,     0.19019,     0.19119,\n",
      "           0.19219,     0.19319,     0.19419,      0.1952,      0.1962,      0.1972,      0.1982,      0.1992,      0.2002,      0.2012,      0.2022,      0.2032,      0.2042,     0.20521,     0.20621,     0.20721,     0.20821,     0.20921,     0.21021,     0.21121,     0.21221,     0.21321,     0.21421,     0.21522,\n",
      "           0.21622,     0.21722,     0.21822,     0.21922,     0.22022,     0.22122,     0.22222,     0.22322,     0.22422,     0.22523,     0.22623,     0.22723,     0.22823,     0.22923,     0.23023,     0.23123,     0.23223,     0.23323,     0.23423,     0.23524,     0.23624,     0.23724,     0.23824,     0.23924,\n",
      "           0.24024,     0.24124,     0.24224,     0.24324,     0.24424,     0.24525,     0.24625,     0.24725,     0.24825,     0.24925,     0.25025,     0.25125,     0.25225,     0.25325,     0.25425,     0.25526,     0.25626,     0.25726,     0.25826,     0.25926,     0.26026,     0.26126,     0.26226,     0.26326,\n",
      "           0.26426,     0.26527,     0.26627,     0.26727,     0.26827,     0.26927,     0.27027,     0.27127,     0.27227,     0.27327,     0.27427,     0.27528,     0.27628,     0.27728,     0.27828,     0.27928,     0.28028,     0.28128,     0.28228,     0.28328,     0.28428,     0.28529,     0.28629,     0.28729,\n",
      "           0.28829,     0.28929,     0.29029,     0.29129,     0.29229,     0.29329,     0.29429,      0.2953,      0.2963,      0.2973,      0.2983,      0.2993,      0.3003,      0.3013,      0.3023,      0.3033,      0.3043,     0.30531,     0.30631,     0.30731,     0.30831,     0.30931,     0.31031,     0.31131,\n",
      "           0.31231,     0.31331,     0.31431,     0.31532,     0.31632,     0.31732,     0.31832,     0.31932,     0.32032,     0.32132,     0.32232,     0.32332,     0.32432,     0.32533,     0.32633,     0.32733,     0.32833,     0.32933,     0.33033,     0.33133,     0.33233,     0.33333,     0.33433,     0.33534,\n",
      "           0.33634,     0.33734,     0.33834,     0.33934,     0.34034,     0.34134,     0.34234,     0.34334,     0.34434,     0.34535,     0.34635,     0.34735,     0.34835,     0.34935,     0.35035,     0.35135,     0.35235,     0.35335,     0.35435,     0.35536,     0.35636,     0.35736,     0.35836,     0.35936,\n",
      "           0.36036,     0.36136,     0.36236,     0.36336,     0.36436,     0.36537,     0.36637,     0.36737,     0.36837,     0.36937,     0.37037,     0.37137,     0.37237,     0.37337,     0.37437,     0.37538,     0.37638,     0.37738,     0.37838,     0.37938,     0.38038,     0.38138,     0.38238,     0.38338,\n",
      "           0.38438,     0.38539,     0.38639,     0.38739,     0.38839,     0.38939,     0.39039,     0.39139,     0.39239,     0.39339,     0.39439,      0.3954,      0.3964,      0.3974,      0.3984,      0.3994,      0.4004,      0.4014,      0.4024,      0.4034,      0.4044,     0.40541,     0.40641,     0.40741,\n",
      "           0.40841,     0.40941,     0.41041,     0.41141,     0.41241,     0.41341,     0.41441,     0.41542,     0.41642,     0.41742,     0.41842,     0.41942,     0.42042,     0.42142,     0.42242,     0.42342,     0.42442,     0.42543,     0.42643,     0.42743,     0.42843,     0.42943,     0.43043,     0.43143,\n",
      "           0.43243,     0.43343,     0.43443,     0.43544,     0.43644,     0.43744,     0.43844,     0.43944,     0.44044,     0.44144,     0.44244,     0.44344,     0.44444,     0.44545,     0.44645,     0.44745,     0.44845,     0.44945,     0.45045,     0.45145,     0.45245,     0.45345,     0.45445,     0.45546,\n",
      "           0.45646,     0.45746,     0.45846,     0.45946,     0.46046,     0.46146,     0.46246,     0.46346,     0.46446,     0.46547,     0.46647,     0.46747,     0.46847,     0.46947,     0.47047,     0.47147,     0.47247,     0.47347,     0.47447,     0.47548,     0.47648,     0.47748,     0.47848,     0.47948,\n",
      "           0.48048,     0.48148,     0.48248,     0.48348,     0.48448,     0.48549,     0.48649,     0.48749,     0.48849,     0.48949,     0.49049,     0.49149,     0.49249,     0.49349,     0.49449,      0.4955,      0.4965,      0.4975,      0.4985,      0.4995,      0.5005,      0.5015,      0.5025,      0.5035,\n",
      "            0.5045,     0.50551,     0.50651,     0.50751,     0.50851,     0.50951,     0.51051,     0.51151,     0.51251,     0.51351,     0.51451,     0.51552,     0.51652,     0.51752,     0.51852,     0.51952,     0.52052,     0.52152,     0.52252,     0.52352,     0.52452,     0.52553,     0.52653,     0.52753,\n",
      "           0.52853,     0.52953,     0.53053,     0.53153,     0.53253,     0.53353,     0.53453,     0.53554,     0.53654,     0.53754,     0.53854,     0.53954,     0.54054,     0.54154,     0.54254,     0.54354,     0.54454,     0.54555,     0.54655,     0.54755,     0.54855,     0.54955,     0.55055,     0.55155,\n",
      "           0.55255,     0.55355,     0.55455,     0.55556,     0.55656,     0.55756,     0.55856,     0.55956,     0.56056,     0.56156,     0.56256,     0.56356,     0.56456,     0.56557,     0.56657,     0.56757,     0.56857,     0.56957,     0.57057,     0.57157,     0.57257,     0.57357,     0.57457,     0.57558,\n",
      "           0.57658,     0.57758,     0.57858,     0.57958,     0.58058,     0.58158,     0.58258,     0.58358,     0.58458,     0.58559,     0.58659,     0.58759,     0.58859,     0.58959,     0.59059,     0.59159,     0.59259,     0.59359,     0.59459,      0.5956,      0.5966,      0.5976,      0.5986,      0.5996,\n",
      "            0.6006,      0.6016,      0.6026,      0.6036,      0.6046,     0.60561,     0.60661,     0.60761,     0.60861,     0.60961,     0.61061,     0.61161,     0.61261,     0.61361,     0.61461,     0.61562,     0.61662,     0.61762,     0.61862,     0.61962,     0.62062,     0.62162,     0.62262,     0.62362,\n",
      "           0.62462,     0.62563,     0.62663,     0.62763,     0.62863,     0.62963,     0.63063,     0.63163,     0.63263,     0.63363,     0.63463,     0.63564,     0.63664,     0.63764,     0.63864,     0.63964,     0.64064,     0.64164,     0.64264,     0.64364,     0.64464,     0.64565,     0.64665,     0.64765,\n",
      "           0.64865,     0.64965,     0.65065,     0.65165,     0.65265,     0.65365,     0.65465,     0.65566,     0.65666,     0.65766,     0.65866,     0.65966,     0.66066,     0.66166,     0.66266,     0.66366,     0.66466,     0.66567,     0.66667,     0.66767,     0.66867,     0.66967,     0.67067,     0.67167,\n",
      "           0.67267,     0.67367,     0.67467,     0.67568,     0.67668,     0.67768,     0.67868,     0.67968,     0.68068,     0.68168,     0.68268,     0.68368,     0.68468,     0.68569,     0.68669,     0.68769,     0.68869,     0.68969,     0.69069,     0.69169,     0.69269,     0.69369,     0.69469,      0.6957,\n",
      "            0.6967,      0.6977,      0.6987,      0.6997,      0.7007,      0.7017,      0.7027,      0.7037,      0.7047,     0.70571,     0.70671,     0.70771,     0.70871,     0.70971,     0.71071,     0.71171,     0.71271,     0.71371,     0.71471,     0.71572,     0.71672,     0.71772,     0.71872,     0.71972,\n",
      "           0.72072,     0.72172,     0.72272,     0.72372,     0.72472,     0.72573,     0.72673,     0.72773,     0.72873,     0.72973,     0.73073,     0.73173,     0.73273,     0.73373,     0.73473,     0.73574,     0.73674,     0.73774,     0.73874,     0.73974,     0.74074,     0.74174,     0.74274,     0.74374,\n",
      "           0.74474,     0.74575,     0.74675,     0.74775,     0.74875,     0.74975,     0.75075,     0.75175,     0.75275,     0.75375,     0.75475,     0.75576,     0.75676,     0.75776,     0.75876,     0.75976,     0.76076,     0.76176,     0.76276,     0.76376,     0.76476,     0.76577,     0.76677,     0.76777,\n",
      "           0.76877,     0.76977,     0.77077,     0.77177,     0.77277,     0.77377,     0.77477,     0.77578,     0.77678,     0.77778,     0.77878,     0.77978,     0.78078,     0.78178,     0.78278,     0.78378,     0.78478,     0.78579,     0.78679,     0.78779,     0.78879,     0.78979,     0.79079,     0.79179,\n",
      "           0.79279,     0.79379,     0.79479,      0.7958,      0.7968,      0.7978,      0.7988,      0.7998,      0.8008,      0.8018,      0.8028,      0.8038,      0.8048,     0.80581,     0.80681,     0.80781,     0.80881,     0.80981,     0.81081,     0.81181,     0.81281,     0.81381,     0.81481,     0.81582,\n",
      "           0.81682,     0.81782,     0.81882,     0.81982,     0.82082,     0.82182,     0.82282,     0.82382,     0.82482,     0.82583,     0.82683,     0.82783,     0.82883,     0.82983,     0.83083,     0.83183,     0.83283,     0.83383,     0.83483,     0.83584,     0.83684,     0.83784,     0.83884,     0.83984,\n",
      "           0.84084,     0.84184,     0.84284,     0.84384,     0.84484,     0.84585,     0.84685,     0.84785,     0.84885,     0.84985,     0.85085,     0.85185,     0.85285,     0.85385,     0.85485,     0.85586,     0.85686,     0.85786,     0.85886,     0.85986,     0.86086,     0.86186,     0.86286,     0.86386,\n",
      "           0.86486,     0.86587,     0.86687,     0.86787,     0.86887,     0.86987,     0.87087,     0.87187,     0.87287,     0.87387,     0.87487,     0.87588,     0.87688,     0.87788,     0.87888,     0.87988,     0.88088,     0.88188,     0.88288,     0.88388,     0.88488,     0.88589,     0.88689,     0.88789,\n",
      "           0.88889,     0.88989,     0.89089,     0.89189,     0.89289,     0.89389,     0.89489,      0.8959,      0.8969,      0.8979,      0.8989,      0.8999,      0.9009,      0.9019,      0.9029,      0.9039,      0.9049,     0.90591,     0.90691,     0.90791,     0.90891,     0.90991,     0.91091,     0.91191,\n",
      "           0.91291,     0.91391,     0.91491,     0.91592,     0.91692,     0.91792,     0.91892,     0.91992,     0.92092,     0.92192,     0.92292,     0.92392,     0.92492,     0.92593,     0.92693,     0.92793,     0.92893,     0.92993,     0.93093,     0.93193,     0.93293,     0.93393,     0.93493,     0.93594,\n",
      "           0.93694,     0.93794,     0.93894,     0.93994,     0.94094,     0.94194,     0.94294,     0.94394,     0.94494,     0.94595,     0.94695,     0.94795,     0.94895,     0.94995,     0.95095,     0.95195,     0.95295,     0.95395,     0.95495,     0.95596,     0.95696,     0.95796,     0.95896,     0.95996,\n",
      "           0.96096,     0.96196,     0.96296,     0.96396,     0.96496,     0.96597,     0.96697,     0.96797,     0.96897,     0.96997,     0.97097,     0.97197,     0.97297,     0.97397,     0.97497,     0.97598,     0.97698,     0.97798,     0.97898,     0.97998,     0.98098,     0.98198,     0.98298,     0.98398,\n",
      "           0.98498,     0.98599,     0.98699,     0.98799,     0.98899,     0.98999,     0.99099,     0.99199,     0.99299,     0.99399,     0.99499,       0.996,       0.997,       0.998,       0.999,           1]), array([[          1,           1,           1,           1,           1,           1,           1,           1,           1,           1,           1,           1,           1,           1,           1,           1,           1,           1,           1,           1,           1,           1,           1,\n",
      "                  1,           1,           1,           1,           1,           1,           1,           1,           1,           1,           1,           1,           1,           1,           1,           1,           1,           1,           1,           1,           1,           1,           1,\n",
      "                  1,           1,           1,           1,           1,           1,           1,           1,           1,           1,           1,           1,           1,           1,           1,           1,           1,           1,           1,           1,           1,           1,           1,\n",
      "                  1,           1,           1,           1,           1,           1,           1,           1,           1,           1,           1,           1,           1,           1,           1,           1,           1,           1,           1,           1,           1,           1,           1,\n",
      "                  1,           1,           1,           1,           1,           1,           1,           1,           1,           1,           1,           1,           1,           1,           1,           1,           1,           1,           1,           1,           1,           1,           1,\n",
      "                  1,           1,           1,           1,           1,           1,           1,           1,           1,           1,           1,           1,           1,           1,           1,           1,           1,           1,           1,           1,           1,           1,           1,\n",
      "                  1,           1,           1,           1,           1,           1,           1,           1,           1,           1,           1,           1,           1,           1,           1,           1,           1,           1,           1,           1,           1,           1,           1,\n",
      "                  1,           1,           1,           1,           1,           1,           1,           1,           1,           1,           1,           1,           1,           1,           1,           1,           1,           1,           1,           1,           1,           1,           1,\n",
      "                  1,           1,           1,           1,           1,           1,           1,           1,           1,           1,           1,           1,           1,           1,           1,           1,           1,           1,           1,           1,           1,           1,           1,\n",
      "                  1,           1,           1,           1,           1,           1,           1,           1,           1,           1,           1,           1,           1,           1,           1,           1,           1,           1,           1,           1,           1,           1,           1,\n",
      "                  1,           1,           1,           1,           1,           1,           1,           1,           1,           1,           1,           1,           1,           1,           1,           1,           1,           1,           1,           1,           1,           1,           1,\n",
      "                  1,           1,           1,           1,           1,           1,           1,           1,           1,           1,           1,           1,           1,           1,           1,           1,           1,           1,           1,           1,           1,           1,           1,\n",
      "                  1,           1,           1,           1,           1,           1,           1,           1,           1,           1,           1,           1,           1,           1,           1,           1,           1,           1,           1,           1,           1,           1,           1,\n",
      "                  1,           1,           1,           1,           1,           1,           1,           1,           1,           1,           1,           1,           1,           1,           1,           1,           1,           1,           1,           1,           1,           1,           1,\n",
      "                  1,           1,           1,           1,           1,           1,           1,           1,           1,           1,           1,           1,           1,           1,           1,           1,           1,           1,           1,           1,           1,           1,           1,\n",
      "                  1,           1,           1,           1,           1,           1,           1,           1,           1,           1,           1,           1,           1,           1,           1,           1,           1,           1,           1,           1,           1,           1,           1,\n",
      "                  1,           1,           1,           1,           1,           1,           1,           1,           1,           1,           1,           1,           1,           1,           1,           1,           1,           1,           1,           1,           1,           1,           1,\n",
      "                  1,           1,           1,           1,           1,           1,           1,           1,           1,           1,           1,           1,           1,           1,           1,           1,           1,           1,           1,           1,           1,           1,           1,\n",
      "                  1,           1,           1,           1,           1,           1,           1,           1,           1,           1,           1,           1,           1,           1,           1,           1,           1,           1,           1,           1,           1,           1,           1,\n",
      "                  1,           1,           1,           1,           1,           1,           1,           1,           1,           1,           1,           1,           1,           1,           1,           1,           1,           1,           1,           1,           1,           1,           1,\n",
      "                  1,           1,           1,           1,           1,           1,           1,           1,           1,           1,           1,           1,           1,           1,           1,           1,           1,           1,           1,           1,           1,           1,           1,\n",
      "                  1,           1,           1,           1,           1,           1,           1,           1,           1,           1,           1,           1,           1,           1,           1,           1,           1,           1,           1,           1,           1,           1,           1,\n",
      "                  1,           1,           1,           1,           1,           1,           1,           1,           1,           1,           1,           1,           1,           1,           1,           1,           1,           1,           1,           1,           1,           1,           1,\n",
      "                  1,           1,           1,           1,           1,           1,           1,           1,           1,           1,           1,           1,           1,           1,           1,           1,           1,           1,           1,           1,           1,           1,           1,\n",
      "                  1,           1,           1,           1,           1,           1,           1,           1,           1,           1,           1,           1,           1,           1,           1,           1,           1,           1,           1,           1,           1,           1,           1,\n",
      "                  1,           1,           1,           1,           1,           1,           1,           1,           1,           1,           1,           1,           1,           1,           1,           1,           1,           1,           1,           1,           1,           1,           1,\n",
      "                  1,           1,           1,           1,           1,           1,           1,           1,           1,           1,           1,           1,           1,           1,           1,           1,           1,           1,           1,           1,           1,           1,           1,\n",
      "                  1,           1,           1,           1,           1,           1,           1,           1,           1,           1,           1,           1,           1,           1,           1,           1,           1,           1,           1,           1,           1,           1,           1,\n",
      "                  1,           1,           1,           1,           1,           1,           1,           1,           1,           1,           1,           1,           1,           1,           1,           1,           1,           1,           1,           1,           1,           1,           1,\n",
      "                  1,           1,           1,           1,           1,           1,           1,           1,           1,           1,           1,           1,           1,           1,           1,           1,           1,           1,           1,           1,           1,           1,           1,\n",
      "                  1,           1,           1,           1,           1,           1,           1,           1,           1,           1,           1,           1,           1,           1,           1,           1,           1,           1,           1,           1,           1,           1,           1,\n",
      "                  1,           1,           1,           1,           1,           1,           1,           1,           1,           1,           1,           1,           1,           1,           1,           1,           1,           1,           1,           1,           1,           1,           1,\n",
      "                  1,           1,           1,           1,           1,           1,           1,           1,           1,           1,           1,           1,           1,           1,           1,           1,           1,           1,           1,           1,           1,           1,           1,\n",
      "                  1,           1,           1,           1,           1,           1,           1,           1,           1,           1,           1,           1,           1,           1,           1,           1,           1,           1,           1,           1,           1,           1,           1,\n",
      "                  1,           1,           1,           1,           1,           1,           1,           1,           1,           1,           1,           1,           1,           1,           1,           1,           1,           1,           1,           1,           1,           1,           1,\n",
      "                  1,           1,           1,           1,           1,           1,           1,           1,           1,           1,           1,           1,           1,           1,           1,           1,           1,           1,           1,           1,           1,           1,           1,\n",
      "                  1,           1,           1,           1,           1,           1,           1,           1,           1,           1,           1,           1,           1,           1,           1,           1,           1,           1,           1,           1,           1,           1,           1,\n",
      "                  1,           1,           1,           1,           1,           1,           1,           1,           1,           1,           1,           1,           1,           1,           1,           1,           1,           1,           1,           1,           1,           1,           1,\n",
      "                  1,           1,           1,           1,           1,           1,           1,           1,           1,           1,           1,           1,           1,           1,           1,           1,           1,           1,           1,           1,           1,           1,           1,\n",
      "                  1,           1,           1,           1,           1,           1,           1,           1,           1,           1,           1,           1,           1,           1,           1,           1,           1,           1,           1,           1,           1,           1,           1,\n",
      "                  1,           1,           1,           1,           1,           1,           1,           1,           1,           1,           1,           1,           1,           1,           1,           1,           1,           1,           1,           1,           1,           1,           1,\n",
      "                  1,           1,           1,           1,           1,           1,           1,           1,           1,           1,           1,           1,           1,           1,           1,           1,           1,           1,     0.92857,     0.92857,     0.92857,     0.92857,     0.92857,\n",
      "            0.92857,     0.92857,     0.92857,     0.92857,     0.92857,     0.92857,     0.92857,     0.92857,     0.92857,     0.92857,     0.92857,     0.92857,     0.92857,     0.92857,     0.92857,     0.92857,     0.92857,     0.92857,     0.92857,     0.92857,     0.92857,     0.92857,     0.92857,\n",
      "            0.92857,     0.92857,     0.92857,     0.92857,     0.92857,     0.92857,     0.92857,     0.92857,     0.92857,     0.92857,           0]]), 'Recall', 'Precision'], [array([          0,    0.001001,    0.002002,    0.003003,    0.004004,    0.005005,    0.006006,    0.007007,    0.008008,    0.009009,     0.01001,    0.011011,    0.012012,    0.013013,    0.014014,    0.015015,    0.016016,    0.017017,    0.018018,    0.019019,     0.02002,    0.021021,    0.022022,    0.023023,\n",
      "          0.024024,    0.025025,    0.026026,    0.027027,    0.028028,    0.029029,     0.03003,    0.031031,    0.032032,    0.033033,    0.034034,    0.035035,    0.036036,    0.037037,    0.038038,    0.039039,     0.04004,    0.041041,    0.042042,    0.043043,    0.044044,    0.045045,    0.046046,    0.047047,\n",
      "          0.048048,    0.049049,     0.05005,    0.051051,    0.052052,    0.053053,    0.054054,    0.055055,    0.056056,    0.057057,    0.058058,    0.059059,     0.06006,    0.061061,    0.062062,    0.063063,    0.064064,    0.065065,    0.066066,    0.067067,    0.068068,    0.069069,     0.07007,    0.071071,\n",
      "          0.072072,    0.073073,    0.074074,    0.075075,    0.076076,    0.077077,    0.078078,    0.079079,     0.08008,    0.081081,    0.082082,    0.083083,    0.084084,    0.085085,    0.086086,    0.087087,    0.088088,    0.089089,     0.09009,    0.091091,    0.092092,    0.093093,    0.094094,    0.095095,\n",
      "          0.096096,    0.097097,    0.098098,    0.099099,      0.1001,      0.1011,      0.1021,      0.1031,      0.1041,     0.10511,     0.10611,     0.10711,     0.10811,     0.10911,     0.11011,     0.11111,     0.11211,     0.11311,     0.11411,     0.11512,     0.11612,     0.11712,     0.11812,     0.11912,\n",
      "           0.12012,     0.12112,     0.12212,     0.12312,     0.12412,     0.12513,     0.12613,     0.12713,     0.12813,     0.12913,     0.13013,     0.13113,     0.13213,     0.13313,     0.13413,     0.13514,     0.13614,     0.13714,     0.13814,     0.13914,     0.14014,     0.14114,     0.14214,     0.14314,\n",
      "           0.14414,     0.14515,     0.14615,     0.14715,     0.14815,     0.14915,     0.15015,     0.15115,     0.15215,     0.15315,     0.15415,     0.15516,     0.15616,     0.15716,     0.15816,     0.15916,     0.16016,     0.16116,     0.16216,     0.16316,     0.16416,     0.16517,     0.16617,     0.16717,\n",
      "           0.16817,     0.16917,     0.17017,     0.17117,     0.17217,     0.17317,     0.17417,     0.17518,     0.17618,     0.17718,     0.17818,     0.17918,     0.18018,     0.18118,     0.18218,     0.18318,     0.18418,     0.18519,     0.18619,     0.18719,     0.18819,     0.18919,     0.19019,     0.19119,\n",
      "           0.19219,     0.19319,     0.19419,      0.1952,      0.1962,      0.1972,      0.1982,      0.1992,      0.2002,      0.2012,      0.2022,      0.2032,      0.2042,     0.20521,     0.20621,     0.20721,     0.20821,     0.20921,     0.21021,     0.21121,     0.21221,     0.21321,     0.21421,     0.21522,\n",
      "           0.21622,     0.21722,     0.21822,     0.21922,     0.22022,     0.22122,     0.22222,     0.22322,     0.22422,     0.22523,     0.22623,     0.22723,     0.22823,     0.22923,     0.23023,     0.23123,     0.23223,     0.23323,     0.23423,     0.23524,     0.23624,     0.23724,     0.23824,     0.23924,\n",
      "           0.24024,     0.24124,     0.24224,     0.24324,     0.24424,     0.24525,     0.24625,     0.24725,     0.24825,     0.24925,     0.25025,     0.25125,     0.25225,     0.25325,     0.25425,     0.25526,     0.25626,     0.25726,     0.25826,     0.25926,     0.26026,     0.26126,     0.26226,     0.26326,\n",
      "           0.26426,     0.26527,     0.26627,     0.26727,     0.26827,     0.26927,     0.27027,     0.27127,     0.27227,     0.27327,     0.27427,     0.27528,     0.27628,     0.27728,     0.27828,     0.27928,     0.28028,     0.28128,     0.28228,     0.28328,     0.28428,     0.28529,     0.28629,     0.28729,\n",
      "           0.28829,     0.28929,     0.29029,     0.29129,     0.29229,     0.29329,     0.29429,      0.2953,      0.2963,      0.2973,      0.2983,      0.2993,      0.3003,      0.3013,      0.3023,      0.3033,      0.3043,     0.30531,     0.30631,     0.30731,     0.30831,     0.30931,     0.31031,     0.31131,\n",
      "           0.31231,     0.31331,     0.31431,     0.31532,     0.31632,     0.31732,     0.31832,     0.31932,     0.32032,     0.32132,     0.32232,     0.32332,     0.32432,     0.32533,     0.32633,     0.32733,     0.32833,     0.32933,     0.33033,     0.33133,     0.33233,     0.33333,     0.33433,     0.33534,\n",
      "           0.33634,     0.33734,     0.33834,     0.33934,     0.34034,     0.34134,     0.34234,     0.34334,     0.34434,     0.34535,     0.34635,     0.34735,     0.34835,     0.34935,     0.35035,     0.35135,     0.35235,     0.35335,     0.35435,     0.35536,     0.35636,     0.35736,     0.35836,     0.35936,\n",
      "           0.36036,     0.36136,     0.36236,     0.36336,     0.36436,     0.36537,     0.36637,     0.36737,     0.36837,     0.36937,     0.37037,     0.37137,     0.37237,     0.37337,     0.37437,     0.37538,     0.37638,     0.37738,     0.37838,     0.37938,     0.38038,     0.38138,     0.38238,     0.38338,\n",
      "           0.38438,     0.38539,     0.38639,     0.38739,     0.38839,     0.38939,     0.39039,     0.39139,     0.39239,     0.39339,     0.39439,      0.3954,      0.3964,      0.3974,      0.3984,      0.3994,      0.4004,      0.4014,      0.4024,      0.4034,      0.4044,     0.40541,     0.40641,     0.40741,\n",
      "           0.40841,     0.40941,     0.41041,     0.41141,     0.41241,     0.41341,     0.41441,     0.41542,     0.41642,     0.41742,     0.41842,     0.41942,     0.42042,     0.42142,     0.42242,     0.42342,     0.42442,     0.42543,     0.42643,     0.42743,     0.42843,     0.42943,     0.43043,     0.43143,\n",
      "           0.43243,     0.43343,     0.43443,     0.43544,     0.43644,     0.43744,     0.43844,     0.43944,     0.44044,     0.44144,     0.44244,     0.44344,     0.44444,     0.44545,     0.44645,     0.44745,     0.44845,     0.44945,     0.45045,     0.45145,     0.45245,     0.45345,     0.45445,     0.45546,\n",
      "           0.45646,     0.45746,     0.45846,     0.45946,     0.46046,     0.46146,     0.46246,     0.46346,     0.46446,     0.46547,     0.46647,     0.46747,     0.46847,     0.46947,     0.47047,     0.47147,     0.47247,     0.47347,     0.47447,     0.47548,     0.47648,     0.47748,     0.47848,     0.47948,\n",
      "           0.48048,     0.48148,     0.48248,     0.48348,     0.48448,     0.48549,     0.48649,     0.48749,     0.48849,     0.48949,     0.49049,     0.49149,     0.49249,     0.49349,     0.49449,      0.4955,      0.4965,      0.4975,      0.4985,      0.4995,      0.5005,      0.5015,      0.5025,      0.5035,\n",
      "            0.5045,     0.50551,     0.50651,     0.50751,     0.50851,     0.50951,     0.51051,     0.51151,     0.51251,     0.51351,     0.51451,     0.51552,     0.51652,     0.51752,     0.51852,     0.51952,     0.52052,     0.52152,     0.52252,     0.52352,     0.52452,     0.52553,     0.52653,     0.52753,\n",
      "           0.52853,     0.52953,     0.53053,     0.53153,     0.53253,     0.53353,     0.53453,     0.53554,     0.53654,     0.53754,     0.53854,     0.53954,     0.54054,     0.54154,     0.54254,     0.54354,     0.54454,     0.54555,     0.54655,     0.54755,     0.54855,     0.54955,     0.55055,     0.55155,\n",
      "           0.55255,     0.55355,     0.55455,     0.55556,     0.55656,     0.55756,     0.55856,     0.55956,     0.56056,     0.56156,     0.56256,     0.56356,     0.56456,     0.56557,     0.56657,     0.56757,     0.56857,     0.56957,     0.57057,     0.57157,     0.57257,     0.57357,     0.57457,     0.57558,\n",
      "           0.57658,     0.57758,     0.57858,     0.57958,     0.58058,     0.58158,     0.58258,     0.58358,     0.58458,     0.58559,     0.58659,     0.58759,     0.58859,     0.58959,     0.59059,     0.59159,     0.59259,     0.59359,     0.59459,      0.5956,      0.5966,      0.5976,      0.5986,      0.5996,\n",
      "            0.6006,      0.6016,      0.6026,      0.6036,      0.6046,     0.60561,     0.60661,     0.60761,     0.60861,     0.60961,     0.61061,     0.61161,     0.61261,     0.61361,     0.61461,     0.61562,     0.61662,     0.61762,     0.61862,     0.61962,     0.62062,     0.62162,     0.62262,     0.62362,\n",
      "           0.62462,     0.62563,     0.62663,     0.62763,     0.62863,     0.62963,     0.63063,     0.63163,     0.63263,     0.63363,     0.63463,     0.63564,     0.63664,     0.63764,     0.63864,     0.63964,     0.64064,     0.64164,     0.64264,     0.64364,     0.64464,     0.64565,     0.64665,     0.64765,\n",
      "           0.64865,     0.64965,     0.65065,     0.65165,     0.65265,     0.65365,     0.65465,     0.65566,     0.65666,     0.65766,     0.65866,     0.65966,     0.66066,     0.66166,     0.66266,     0.66366,     0.66466,     0.66567,     0.66667,     0.66767,     0.66867,     0.66967,     0.67067,     0.67167,\n",
      "           0.67267,     0.67367,     0.67467,     0.67568,     0.67668,     0.67768,     0.67868,     0.67968,     0.68068,     0.68168,     0.68268,     0.68368,     0.68468,     0.68569,     0.68669,     0.68769,     0.68869,     0.68969,     0.69069,     0.69169,     0.69269,     0.69369,     0.69469,      0.6957,\n",
      "            0.6967,      0.6977,      0.6987,      0.6997,      0.7007,      0.7017,      0.7027,      0.7037,      0.7047,     0.70571,     0.70671,     0.70771,     0.70871,     0.70971,     0.71071,     0.71171,     0.71271,     0.71371,     0.71471,     0.71572,     0.71672,     0.71772,     0.71872,     0.71972,\n",
      "           0.72072,     0.72172,     0.72272,     0.72372,     0.72472,     0.72573,     0.72673,     0.72773,     0.72873,     0.72973,     0.73073,     0.73173,     0.73273,     0.73373,     0.73473,     0.73574,     0.73674,     0.73774,     0.73874,     0.73974,     0.74074,     0.74174,     0.74274,     0.74374,\n",
      "           0.74474,     0.74575,     0.74675,     0.74775,     0.74875,     0.74975,     0.75075,     0.75175,     0.75275,     0.75375,     0.75475,     0.75576,     0.75676,     0.75776,     0.75876,     0.75976,     0.76076,     0.76176,     0.76276,     0.76376,     0.76476,     0.76577,     0.76677,     0.76777,\n",
      "           0.76877,     0.76977,     0.77077,     0.77177,     0.77277,     0.77377,     0.77477,     0.77578,     0.77678,     0.77778,     0.77878,     0.77978,     0.78078,     0.78178,     0.78278,     0.78378,     0.78478,     0.78579,     0.78679,     0.78779,     0.78879,     0.78979,     0.79079,     0.79179,\n",
      "           0.79279,     0.79379,     0.79479,      0.7958,      0.7968,      0.7978,      0.7988,      0.7998,      0.8008,      0.8018,      0.8028,      0.8038,      0.8048,     0.80581,     0.80681,     0.80781,     0.80881,     0.80981,     0.81081,     0.81181,     0.81281,     0.81381,     0.81481,     0.81582,\n",
      "           0.81682,     0.81782,     0.81882,     0.81982,     0.82082,     0.82182,     0.82282,     0.82382,     0.82482,     0.82583,     0.82683,     0.82783,     0.82883,     0.82983,     0.83083,     0.83183,     0.83283,     0.83383,     0.83483,     0.83584,     0.83684,     0.83784,     0.83884,     0.83984,\n",
      "           0.84084,     0.84184,     0.84284,     0.84384,     0.84484,     0.84585,     0.84685,     0.84785,     0.84885,     0.84985,     0.85085,     0.85185,     0.85285,     0.85385,     0.85485,     0.85586,     0.85686,     0.85786,     0.85886,     0.85986,     0.86086,     0.86186,     0.86286,     0.86386,\n",
      "           0.86486,     0.86587,     0.86687,     0.86787,     0.86887,     0.86987,     0.87087,     0.87187,     0.87287,     0.87387,     0.87487,     0.87588,     0.87688,     0.87788,     0.87888,     0.87988,     0.88088,     0.88188,     0.88288,     0.88388,     0.88488,     0.88589,     0.88689,     0.88789,\n",
      "           0.88889,     0.88989,     0.89089,     0.89189,     0.89289,     0.89389,     0.89489,      0.8959,      0.8969,      0.8979,      0.8989,      0.8999,      0.9009,      0.9019,      0.9029,      0.9039,      0.9049,     0.90591,     0.90691,     0.90791,     0.90891,     0.90991,     0.91091,     0.91191,\n",
      "           0.91291,     0.91391,     0.91491,     0.91592,     0.91692,     0.91792,     0.91892,     0.91992,     0.92092,     0.92192,     0.92292,     0.92392,     0.92492,     0.92593,     0.92693,     0.92793,     0.92893,     0.92993,     0.93093,     0.93193,     0.93293,     0.93393,     0.93493,     0.93594,\n",
      "           0.93694,     0.93794,     0.93894,     0.93994,     0.94094,     0.94194,     0.94294,     0.94394,     0.94494,     0.94595,     0.94695,     0.94795,     0.94895,     0.94995,     0.95095,     0.95195,     0.95295,     0.95395,     0.95495,     0.95596,     0.95696,     0.95796,     0.95896,     0.95996,\n",
      "           0.96096,     0.96196,     0.96296,     0.96396,     0.96496,     0.96597,     0.96697,     0.96797,     0.96897,     0.96997,     0.97097,     0.97197,     0.97297,     0.97397,     0.97497,     0.97598,     0.97698,     0.97798,     0.97898,     0.97998,     0.98098,     0.98198,     0.98298,     0.98398,\n",
      "           0.98498,     0.98599,     0.98699,     0.98799,     0.98899,     0.98999,     0.99099,     0.99199,     0.99299,     0.99399,     0.99499,       0.996,       0.997,       0.998,       0.999,           1]), array([[       0.04,        0.04,    0.076392,     0.11367,     0.14185,     0.16556,     0.18857,     0.21019,     0.23246,     0.24283,     0.25295,     0.26829,     0.28232,     0.29553,     0.31108,     0.33849,     0.35065,     0.37625,     0.39366,     0.40782,     0.41434,     0.41833,     0.42853,\n",
      "            0.44952,     0.46165,     0.48213,     0.48896,     0.49395,     0.50458,     0.51367,     0.51666,     0.51884,     0.52156,     0.52492,     0.53065,     0.53542,     0.54006,     0.55364,     0.57157,      0.5783,     0.58043,     0.58255,     0.58542,     0.59284,      0.6101,     0.62698,\n",
      "            0.62775,     0.62851,     0.62927,     0.63004,      0.6308,     0.63156,     0.63231,     0.63307,     0.63383,     0.63544,     0.63765,     0.63986,      0.6421,     0.64543,     0.64873,     0.65135,     0.65354,     0.65571,     0.65789,     0.65959,     0.66119,      0.6628,      0.6644,\n",
      "              0.666,     0.67535,     0.67686,     0.67838,     0.67989,      0.6814,      0.6829,     0.68451,     0.68688,     0.68924,      0.6916,     0.69397,     0.69641,     0.69885,     0.70127,     0.70299,     0.70369,     0.70439,     0.70509,     0.70579,     0.70649,     0.70719,     0.70789,\n",
      "            0.70858,     0.70928,     0.70997,     0.71067,     0.71136,     0.71205,      0.7126,     0.71304,     0.71349,     0.71393,     0.71438,     0.71482,     0.71527,     0.71571,     0.71615,      0.7166,     0.71704,     0.71748,     0.71792,     0.71836,     0.71881,     0.71925,     0.71969,\n",
      "            0.72013,     0.72057,     0.72101,     0.72145,     0.72189,     0.73253,     0.73333,     0.73413,     0.73493,     0.73573,     0.73653,     0.73732,     0.73812,     0.73891,     0.73971,      0.7405,     0.74129,     0.74208,     0.74292,     0.74608,     0.74921,     0.75234,     0.75383,\n",
      "            0.75417,     0.75452,     0.75487,     0.75521,     0.75556,     0.75591,     0.75625,      0.7566,     0.75694,     0.75729,     0.75763,     0.75798,     0.75832,     0.75867,     0.75901,     0.75936,      0.7597,     0.76004,     0.76039,     0.76073,     0.76107,     0.76142,     0.76176,\n",
      "             0.7621,     0.76244,     0.76279,     0.76313,     0.76347,     0.76381,     0.76415,     0.76449,     0.76868,     0.77657,     0.77818,     0.77978,     0.78138,     0.78298,     0.78457,     0.78616,     0.78774,     0.80009,     0.80224,     0.80438,     0.80651,     0.80864,     0.81076,\n",
      "            0.81317,       0.817,      0.8208,     0.82458,     0.82623,      0.8273,     0.82836,     0.82942,     0.83049,     0.83154,      0.8326,     0.83366,     0.83471,     0.83576,     0.83681,     0.83785,     0.83894,     0.84023,     0.84151,     0.84279,     0.84406,     0.84533,      0.8466,\n",
      "            0.84787,     0.84914,      0.8504,     0.85166,      0.8529,     0.85412,     0.85534,     0.85656,     0.85777,     0.85898,     0.86019,     0.86139,      0.8626,      0.8638,     0.86499,     0.86619,     0.88152,     0.88229,     0.88306,     0.88384,     0.88461,     0.88538,     0.88615,\n",
      "            0.88692,     0.88769,     0.88845,     0.88922,     0.88998,     0.89075,     0.89151,     0.89227,     0.89303,     0.89379,     0.89455,     0.89531,     0.89606,     0.89781,     0.90135,     0.90487,     0.90837,     0.91185,     0.91273,     0.91325,     0.91377,     0.91429,      0.9148,\n",
      "            0.91532,     0.91584,     0.91635,     0.91686,     0.91738,     0.91789,     0.91841,     0.91892,     0.91943,     0.91994,     0.92045,     0.92096,     0.92147,     0.92198,     0.92249,       0.923,     0.92351,     0.92402,     0.92453,     0.92503,     0.92554,     0.92605,     0.92655,\n",
      "            0.92706,     0.92756,     0.92806,     0.92857,     0.92875,     0.92892,      0.9291,     0.92928,     0.92945,     0.92963,      0.9298,     0.92998,     0.93016,     0.93033,     0.93051,     0.93068,     0.93086,     0.93104,     0.93121,     0.93139,     0.93156,     0.93174,     0.93191,\n",
      "            0.93209,     0.93226,     0.93244,     0.93261,     0.93279,     0.93296,     0.93314,     0.93331,     0.93349,     0.93366,     0.93384,     0.93401,     0.93419,     0.93436,     0.93454,     0.93471,     0.93489,     0.93506,     0.93524,     0.93541,     0.93558,     0.93576,     0.93593,\n",
      "            0.93611,     0.93628,     0.93645,     0.93663,      0.9368,     0.93698,     0.93715,     0.93732,      0.9375,     0.93767,     0.93784,     0.93802,     0.93819,     0.93836,     0.93854,     0.93871,     0.93888,     0.93906,     0.93923,      0.9394,     0.93958,     0.93975,     0.93992,\n",
      "            0.94009,     0.94027,     0.94044,     0.94061,     0.94078,     0.94096,     0.94113,      0.9413,     0.94147,     0.94165,     0.94182,     0.94199,     0.94216,     0.94233,     0.94251,     0.94268,     0.94285,     0.94302,     0.94319,     0.94337,     0.94354,     0.94371,     0.94388,\n",
      "            0.94405,     0.94422,     0.94439,     0.94457,     0.94474,     0.94491,     0.94508,     0.94525,     0.94542,     0.94549,     0.94553,     0.94557,     0.94562,     0.94566,      0.9457,     0.94575,     0.94579,     0.94583,     0.94587,     0.94592,     0.94596,       0.946,     0.94604,\n",
      "            0.94609,     0.94613,     0.94617,     0.94621,     0.94626,      0.9463,     0.94634,     0.94638,     0.94643,     0.94647,     0.94651,     0.94656,      0.9466,     0.94664,     0.94668,     0.94673,     0.94677,     0.94681,     0.94685,      0.9469,     0.94694,     0.94698,     0.94702,\n",
      "            0.94707,     0.94711,     0.94715,     0.94719,     0.94724,     0.94728,     0.94732,     0.94736,     0.94741,     0.94745,     0.94749,     0.94753,     0.94758,     0.94762,     0.94766,      0.9477,     0.94775,     0.94779,     0.94783,     0.94787,     0.94792,     0.94796,       0.948,\n",
      "            0.94804,     0.94809,     0.94813,     0.94817,     0.94821,     0.94826,      0.9483,     0.94834,     0.94838,     0.94843,     0.94847,     0.94851,     0.94855,      0.9486,     0.94864,     0.94868,     0.94872,     0.94877,     0.94881,     0.94885,     0.94889,     0.94894,     0.94898,\n",
      "            0.94902,     0.94906,     0.94911,     0.94915,     0.94919,     0.94923,     0.94927,     0.94932,     0.94936,      0.9494,     0.94944,     0.94949,     0.94953,     0.94957,     0.94961,     0.94966,      0.9497,     0.94974,     0.94978,     0.94983,     0.94987,     0.94991,     0.94995,\n",
      "            0.94999,     0.95004,     0.95008,     0.95012,     0.95016,     0.95021,     0.95025,     0.95029,     0.95033,     0.95038,     0.95042,     0.95046,      0.9505,     0.95054,     0.95059,     0.95063,     0.95067,     0.95071,     0.95076,      0.9508,     0.95084,     0.95088,     0.95093,\n",
      "            0.95097,     0.95101,     0.95105,     0.95109,     0.95114,     0.95118,     0.95122,     0.95126,     0.95131,     0.95135,     0.95139,     0.95143,     0.95147,     0.95152,     0.95156,      0.9516,     0.95164,     0.95169,     0.95173,     0.95177,     0.95181,     0.95185,      0.9519,\n",
      "            0.95194,     0.95198,     0.95202,     0.95206,     0.95211,     0.95215,     0.95219,     0.95223,     0.95228,     0.95232,     0.95236,      0.9524,     0.95244,     0.95249,     0.95253,     0.95257,     0.95261,     0.95265,      0.9527,     0.95274,     0.95278,     0.95282,     0.95286,\n",
      "            0.95291,     0.95295,     0.95299,     0.95303,     0.95308,     0.95312,     0.95316,      0.9532,     0.95324,     0.95329,     0.95333,     0.95337,     0.95341,     0.95345,      0.9535,     0.95354,     0.95358,     0.95362,     0.95366,     0.95371,     0.95375,     0.95379,     0.95383,\n",
      "            0.95387,     0.95392,     0.95396,       0.954,     0.95404,     0.95408,     0.95413,     0.95417,     0.95421,     0.95425,     0.95429,     0.95434,     0.95438,     0.95442,     0.95446,      0.9545,     0.95455,     0.95459,     0.95463,     0.95467,     0.95471,     0.95476,      0.9548,\n",
      "            0.95484,     0.95488,     0.95492,     0.95497,     0.95501,     0.95505,     0.95509,     0.95513,     0.95518,     0.95522,     0.95526,      0.9553,     0.95534,     0.95538,     0.95543,     0.95547,     0.95551,     0.95555,     0.95559,     0.95564,     0.95568,     0.95572,     0.95576,\n",
      "             0.9558,     0.95585,     0.95589,     0.95593,     0.95597,     0.95601,     0.95605,      0.9561,     0.95614,     0.95618,     0.95622,     0.95626,     0.95631,     0.95635,     0.95639,     0.95643,     0.95647,     0.95651,     0.95656,      0.9566,     0.95664,     0.95668,     0.95672,\n",
      "            0.95677,     0.95681,     0.95685,     0.95689,     0.95693,     0.95697,     0.95702,     0.95706,      0.9571,     0.95714,     0.95718,     0.95722,     0.95727,     0.95731,     0.95735,     0.95739,     0.95743,     0.95747,     0.95752,     0.95756,      0.9576,     0.95764,     0.95768,\n",
      "            0.95773,     0.95777,     0.95781,     0.95785,     0.95789,     0.95793,     0.95798,     0.95802,     0.95806,      0.9581,     0.95814,     0.95818,     0.95823,     0.95827,     0.95831,     0.95835,     0.95839,     0.95843,     0.95848,     0.95852,     0.95856,      0.9586,     0.95864,\n",
      "            0.95868,     0.95873,     0.95877,     0.95881,     0.95885,     0.95889,     0.95893,     0.95897,     0.95902,     0.95906,      0.9591,     0.95914,     0.95918,     0.95922,     0.95927,     0.95931,     0.95935,     0.95939,     0.95943,     0.95947,     0.95952,     0.95956,      0.9596,\n",
      "            0.95964,     0.95968,     0.95972,     0.95976,     0.95981,     0.95985,     0.95989,     0.95993,     0.95997,     0.96001,     0.96006,      0.9601,     0.96014,     0.96018,     0.96022,     0.96026,      0.9603,     0.96035,     0.96039,     0.96043,     0.96047,     0.96051,     0.96055,\n",
      "            0.96059,     0.96064,     0.96068,     0.96072,     0.96076,      0.9608,     0.96084,     0.96089,     0.96093,     0.96097,     0.96101,     0.96105,     0.96109,     0.96113,     0.96118,     0.96122,     0.96126,      0.9613,     0.96134,     0.96138,     0.96142,     0.96147,     0.96151,\n",
      "            0.96155,     0.96159,     0.96163,     0.96167,     0.96171,     0.96175,      0.9618,     0.96184,     0.96188,     0.96192,     0.96196,       0.962,     0.96204,     0.96209,     0.96213,     0.96217,     0.96221,     0.96225,     0.96229,     0.96233,     0.96238,     0.96242,     0.96246,\n",
      "             0.9625,     0.96254,     0.96258,     0.96262,     0.96266,     0.96271,     0.96275,     0.96279,     0.96283,     0.96287,     0.96291,     0.96295,     0.96187,     0.96046,     0.95904,     0.95761,     0.95619,     0.95476,     0.95333,     0.95189,     0.95045,     0.94901,     0.94756,\n",
      "            0.94611,     0.94466,     0.94345,     0.94381,     0.94417,     0.94453,      0.9449,     0.94526,     0.94562,     0.94598,     0.94634,     0.94671,     0.94707,     0.94743,     0.94779,     0.94815,     0.94851,     0.94887,     0.94923,     0.94959,     0.94994,      0.9503,     0.95066,\n",
      "            0.95102,     0.95138,     0.95174,     0.95209,     0.95245,     0.95281,     0.95316,     0.95352,     0.95387,     0.95423,     0.95459,     0.95494,      0.9553,     0.95565,       0.956,     0.95636,     0.95671,     0.95707,     0.95742,     0.95777,     0.95813,     0.95848,     0.95883,\n",
      "            0.95918,     0.95953,     0.95989,     0.96024,     0.96059,     0.96094,     0.96129,     0.96199,     0.96357,     0.96513,     0.96669,     0.96825,      0.9698,     0.97135,     0.97289,     0.97443,     0.97596,     0.97749,     0.97901,     0.98015,     0.97741,     0.97465,     0.97187,\n",
      "            0.96908,     0.96628,     0.96346,     0.96062,     0.95963,     0.95917,      0.9587,     0.95823,     0.95776,     0.95729,     0.95682,     0.95635,     0.95588,     0.95541,     0.95494,     0.95446,     0.95399,     0.95352,     0.95304,     0.95257,      0.9521,     0.95162,     0.95115,\n",
      "            0.95067,     0.95019,     0.94972,     0.94924,     0.94876,     0.94829,     0.94781,     0.94733,     0.94685,     0.94637,     0.94589,     0.94541,     0.94493,     0.94445,     0.94397,     0.94348,       0.943,     0.94252,     0.94204,     0.94155,     0.94107,     0.94058,      0.9401,\n",
      "            0.93961,     0.93913,     0.93414,     0.91726,     0.91554,     0.91437,     0.91319,     0.91202,     0.91084,     0.90965,     0.90847,     0.90728,     0.90609,      0.9049,     0.90371,     0.90251,     0.90131,     0.90011,      0.8989,     0.89769,     0.89648,     0.89527,     0.89405,\n",
      "            0.88329,     0.86921,     0.86703,     0.86485,     0.86266,     0.86046,     0.85825,     0.85603,      0.8538,     0.85157,     0.84932,     0.84707,     0.84481,     0.83659,     0.82709,     0.81586,     0.78537,     0.74926,     0.71669,     0.66894,     0.63591,     0.61947,     0.60519,\n",
      "             0.5794,      0.5417,     0.51744,     0.46088,     0.42405,     0.41158,     0.39891,     0.38604,     0.35877,       0.315,     0.30346,     0.29176,      0.2799,     0.26788,     0.14855,     0.12105,    0.096921,           0,           0,           0,           0,           0,           0,\n",
      "                  0,           0,           0,           0,           0,           0,           0,           0,           0,           0,           0]]), 'Confidence', 'F1'], [array([          0,    0.001001,    0.002002,    0.003003,    0.004004,    0.005005,    0.006006,    0.007007,    0.008008,    0.009009,     0.01001,    0.011011,    0.012012,    0.013013,    0.014014,    0.015015,    0.016016,    0.017017,    0.018018,    0.019019,     0.02002,    0.021021,    0.022022,    0.023023,\n",
      "          0.024024,    0.025025,    0.026026,    0.027027,    0.028028,    0.029029,     0.03003,    0.031031,    0.032032,    0.033033,    0.034034,    0.035035,    0.036036,    0.037037,    0.038038,    0.039039,     0.04004,    0.041041,    0.042042,    0.043043,    0.044044,    0.045045,    0.046046,    0.047047,\n",
      "          0.048048,    0.049049,     0.05005,    0.051051,    0.052052,    0.053053,    0.054054,    0.055055,    0.056056,    0.057057,    0.058058,    0.059059,     0.06006,    0.061061,    0.062062,    0.063063,    0.064064,    0.065065,    0.066066,    0.067067,    0.068068,    0.069069,     0.07007,    0.071071,\n",
      "          0.072072,    0.073073,    0.074074,    0.075075,    0.076076,    0.077077,    0.078078,    0.079079,     0.08008,    0.081081,    0.082082,    0.083083,    0.084084,    0.085085,    0.086086,    0.087087,    0.088088,    0.089089,     0.09009,    0.091091,    0.092092,    0.093093,    0.094094,    0.095095,\n",
      "          0.096096,    0.097097,    0.098098,    0.099099,      0.1001,      0.1011,      0.1021,      0.1031,      0.1041,     0.10511,     0.10611,     0.10711,     0.10811,     0.10911,     0.11011,     0.11111,     0.11211,     0.11311,     0.11411,     0.11512,     0.11612,     0.11712,     0.11812,     0.11912,\n",
      "           0.12012,     0.12112,     0.12212,     0.12312,     0.12412,     0.12513,     0.12613,     0.12713,     0.12813,     0.12913,     0.13013,     0.13113,     0.13213,     0.13313,     0.13413,     0.13514,     0.13614,     0.13714,     0.13814,     0.13914,     0.14014,     0.14114,     0.14214,     0.14314,\n",
      "           0.14414,     0.14515,     0.14615,     0.14715,     0.14815,     0.14915,     0.15015,     0.15115,     0.15215,     0.15315,     0.15415,     0.15516,     0.15616,     0.15716,     0.15816,     0.15916,     0.16016,     0.16116,     0.16216,     0.16316,     0.16416,     0.16517,     0.16617,     0.16717,\n",
      "           0.16817,     0.16917,     0.17017,     0.17117,     0.17217,     0.17317,     0.17417,     0.17518,     0.17618,     0.17718,     0.17818,     0.17918,     0.18018,     0.18118,     0.18218,     0.18318,     0.18418,     0.18519,     0.18619,     0.18719,     0.18819,     0.18919,     0.19019,     0.19119,\n",
      "           0.19219,     0.19319,     0.19419,      0.1952,      0.1962,      0.1972,      0.1982,      0.1992,      0.2002,      0.2012,      0.2022,      0.2032,      0.2042,     0.20521,     0.20621,     0.20721,     0.20821,     0.20921,     0.21021,     0.21121,     0.21221,     0.21321,     0.21421,     0.21522,\n",
      "           0.21622,     0.21722,     0.21822,     0.21922,     0.22022,     0.22122,     0.22222,     0.22322,     0.22422,     0.22523,     0.22623,     0.22723,     0.22823,     0.22923,     0.23023,     0.23123,     0.23223,     0.23323,     0.23423,     0.23524,     0.23624,     0.23724,     0.23824,     0.23924,\n",
      "           0.24024,     0.24124,     0.24224,     0.24324,     0.24424,     0.24525,     0.24625,     0.24725,     0.24825,     0.24925,     0.25025,     0.25125,     0.25225,     0.25325,     0.25425,     0.25526,     0.25626,     0.25726,     0.25826,     0.25926,     0.26026,     0.26126,     0.26226,     0.26326,\n",
      "           0.26426,     0.26527,     0.26627,     0.26727,     0.26827,     0.26927,     0.27027,     0.27127,     0.27227,     0.27327,     0.27427,     0.27528,     0.27628,     0.27728,     0.27828,     0.27928,     0.28028,     0.28128,     0.28228,     0.28328,     0.28428,     0.28529,     0.28629,     0.28729,\n",
      "           0.28829,     0.28929,     0.29029,     0.29129,     0.29229,     0.29329,     0.29429,      0.2953,      0.2963,      0.2973,      0.2983,      0.2993,      0.3003,      0.3013,      0.3023,      0.3033,      0.3043,     0.30531,     0.30631,     0.30731,     0.30831,     0.30931,     0.31031,     0.31131,\n",
      "           0.31231,     0.31331,     0.31431,     0.31532,     0.31632,     0.31732,     0.31832,     0.31932,     0.32032,     0.32132,     0.32232,     0.32332,     0.32432,     0.32533,     0.32633,     0.32733,     0.32833,     0.32933,     0.33033,     0.33133,     0.33233,     0.33333,     0.33433,     0.33534,\n",
      "           0.33634,     0.33734,     0.33834,     0.33934,     0.34034,     0.34134,     0.34234,     0.34334,     0.34434,     0.34535,     0.34635,     0.34735,     0.34835,     0.34935,     0.35035,     0.35135,     0.35235,     0.35335,     0.35435,     0.35536,     0.35636,     0.35736,     0.35836,     0.35936,\n",
      "           0.36036,     0.36136,     0.36236,     0.36336,     0.36436,     0.36537,     0.36637,     0.36737,     0.36837,     0.36937,     0.37037,     0.37137,     0.37237,     0.37337,     0.37437,     0.37538,     0.37638,     0.37738,     0.37838,     0.37938,     0.38038,     0.38138,     0.38238,     0.38338,\n",
      "           0.38438,     0.38539,     0.38639,     0.38739,     0.38839,     0.38939,     0.39039,     0.39139,     0.39239,     0.39339,     0.39439,      0.3954,      0.3964,      0.3974,      0.3984,      0.3994,      0.4004,      0.4014,      0.4024,      0.4034,      0.4044,     0.40541,     0.40641,     0.40741,\n",
      "           0.40841,     0.40941,     0.41041,     0.41141,     0.41241,     0.41341,     0.41441,     0.41542,     0.41642,     0.41742,     0.41842,     0.41942,     0.42042,     0.42142,     0.42242,     0.42342,     0.42442,     0.42543,     0.42643,     0.42743,     0.42843,     0.42943,     0.43043,     0.43143,\n",
      "           0.43243,     0.43343,     0.43443,     0.43544,     0.43644,     0.43744,     0.43844,     0.43944,     0.44044,     0.44144,     0.44244,     0.44344,     0.44444,     0.44545,     0.44645,     0.44745,     0.44845,     0.44945,     0.45045,     0.45145,     0.45245,     0.45345,     0.45445,     0.45546,\n",
      "           0.45646,     0.45746,     0.45846,     0.45946,     0.46046,     0.46146,     0.46246,     0.46346,     0.46446,     0.46547,     0.46647,     0.46747,     0.46847,     0.46947,     0.47047,     0.47147,     0.47247,     0.47347,     0.47447,     0.47548,     0.47648,     0.47748,     0.47848,     0.47948,\n",
      "           0.48048,     0.48148,     0.48248,     0.48348,     0.48448,     0.48549,     0.48649,     0.48749,     0.48849,     0.48949,     0.49049,     0.49149,     0.49249,     0.49349,     0.49449,      0.4955,      0.4965,      0.4975,      0.4985,      0.4995,      0.5005,      0.5015,      0.5025,      0.5035,\n",
      "            0.5045,     0.50551,     0.50651,     0.50751,     0.50851,     0.50951,     0.51051,     0.51151,     0.51251,     0.51351,     0.51451,     0.51552,     0.51652,     0.51752,     0.51852,     0.51952,     0.52052,     0.52152,     0.52252,     0.52352,     0.52452,     0.52553,     0.52653,     0.52753,\n",
      "           0.52853,     0.52953,     0.53053,     0.53153,     0.53253,     0.53353,     0.53453,     0.53554,     0.53654,     0.53754,     0.53854,     0.53954,     0.54054,     0.54154,     0.54254,     0.54354,     0.54454,     0.54555,     0.54655,     0.54755,     0.54855,     0.54955,     0.55055,     0.55155,\n",
      "           0.55255,     0.55355,     0.55455,     0.55556,     0.55656,     0.55756,     0.55856,     0.55956,     0.56056,     0.56156,     0.56256,     0.56356,     0.56456,     0.56557,     0.56657,     0.56757,     0.56857,     0.56957,     0.57057,     0.57157,     0.57257,     0.57357,     0.57457,     0.57558,\n",
      "           0.57658,     0.57758,     0.57858,     0.57958,     0.58058,     0.58158,     0.58258,     0.58358,     0.58458,     0.58559,     0.58659,     0.58759,     0.58859,     0.58959,     0.59059,     0.59159,     0.59259,     0.59359,     0.59459,      0.5956,      0.5966,      0.5976,      0.5986,      0.5996,\n",
      "            0.6006,      0.6016,      0.6026,      0.6036,      0.6046,     0.60561,     0.60661,     0.60761,     0.60861,     0.60961,     0.61061,     0.61161,     0.61261,     0.61361,     0.61461,     0.61562,     0.61662,     0.61762,     0.61862,     0.61962,     0.62062,     0.62162,     0.62262,     0.62362,\n",
      "           0.62462,     0.62563,     0.62663,     0.62763,     0.62863,     0.62963,     0.63063,     0.63163,     0.63263,     0.63363,     0.63463,     0.63564,     0.63664,     0.63764,     0.63864,     0.63964,     0.64064,     0.64164,     0.64264,     0.64364,     0.64464,     0.64565,     0.64665,     0.64765,\n",
      "           0.64865,     0.64965,     0.65065,     0.65165,     0.65265,     0.65365,     0.65465,     0.65566,     0.65666,     0.65766,     0.65866,     0.65966,     0.66066,     0.66166,     0.66266,     0.66366,     0.66466,     0.66567,     0.66667,     0.66767,     0.66867,     0.66967,     0.67067,     0.67167,\n",
      "           0.67267,     0.67367,     0.67467,     0.67568,     0.67668,     0.67768,     0.67868,     0.67968,     0.68068,     0.68168,     0.68268,     0.68368,     0.68468,     0.68569,     0.68669,     0.68769,     0.68869,     0.68969,     0.69069,     0.69169,     0.69269,     0.69369,     0.69469,      0.6957,\n",
      "            0.6967,      0.6977,      0.6987,      0.6997,      0.7007,      0.7017,      0.7027,      0.7037,      0.7047,     0.70571,     0.70671,     0.70771,     0.70871,     0.70971,     0.71071,     0.71171,     0.71271,     0.71371,     0.71471,     0.71572,     0.71672,     0.71772,     0.71872,     0.71972,\n",
      "           0.72072,     0.72172,     0.72272,     0.72372,     0.72472,     0.72573,     0.72673,     0.72773,     0.72873,     0.72973,     0.73073,     0.73173,     0.73273,     0.73373,     0.73473,     0.73574,     0.73674,     0.73774,     0.73874,     0.73974,     0.74074,     0.74174,     0.74274,     0.74374,\n",
      "           0.74474,     0.74575,     0.74675,     0.74775,     0.74875,     0.74975,     0.75075,     0.75175,     0.75275,     0.75375,     0.75475,     0.75576,     0.75676,     0.75776,     0.75876,     0.75976,     0.76076,     0.76176,     0.76276,     0.76376,     0.76476,     0.76577,     0.76677,     0.76777,\n",
      "           0.76877,     0.76977,     0.77077,     0.77177,     0.77277,     0.77377,     0.77477,     0.77578,     0.77678,     0.77778,     0.77878,     0.77978,     0.78078,     0.78178,     0.78278,     0.78378,     0.78478,     0.78579,     0.78679,     0.78779,     0.78879,     0.78979,     0.79079,     0.79179,\n",
      "           0.79279,     0.79379,     0.79479,      0.7958,      0.7968,      0.7978,      0.7988,      0.7998,      0.8008,      0.8018,      0.8028,      0.8038,      0.8048,     0.80581,     0.80681,     0.80781,     0.80881,     0.80981,     0.81081,     0.81181,     0.81281,     0.81381,     0.81481,     0.81582,\n",
      "           0.81682,     0.81782,     0.81882,     0.81982,     0.82082,     0.82182,     0.82282,     0.82382,     0.82482,     0.82583,     0.82683,     0.82783,     0.82883,     0.82983,     0.83083,     0.83183,     0.83283,     0.83383,     0.83483,     0.83584,     0.83684,     0.83784,     0.83884,     0.83984,\n",
      "           0.84084,     0.84184,     0.84284,     0.84384,     0.84484,     0.84585,     0.84685,     0.84785,     0.84885,     0.84985,     0.85085,     0.85185,     0.85285,     0.85385,     0.85485,     0.85586,     0.85686,     0.85786,     0.85886,     0.85986,     0.86086,     0.86186,     0.86286,     0.86386,\n",
      "           0.86486,     0.86587,     0.86687,     0.86787,     0.86887,     0.86987,     0.87087,     0.87187,     0.87287,     0.87387,     0.87487,     0.87588,     0.87688,     0.87788,     0.87888,     0.87988,     0.88088,     0.88188,     0.88288,     0.88388,     0.88488,     0.88589,     0.88689,     0.88789,\n",
      "           0.88889,     0.88989,     0.89089,     0.89189,     0.89289,     0.89389,     0.89489,      0.8959,      0.8969,      0.8979,      0.8989,      0.8999,      0.9009,      0.9019,      0.9029,      0.9039,      0.9049,     0.90591,     0.90691,     0.90791,     0.90891,     0.90991,     0.91091,     0.91191,\n",
      "           0.91291,     0.91391,     0.91491,     0.91592,     0.91692,     0.91792,     0.91892,     0.91992,     0.92092,     0.92192,     0.92292,     0.92392,     0.92492,     0.92593,     0.92693,     0.92793,     0.92893,     0.92993,     0.93093,     0.93193,     0.93293,     0.93393,     0.93493,     0.93594,\n",
      "           0.93694,     0.93794,     0.93894,     0.93994,     0.94094,     0.94194,     0.94294,     0.94394,     0.94494,     0.94595,     0.94695,     0.94795,     0.94895,     0.94995,     0.95095,     0.95195,     0.95295,     0.95395,     0.95495,     0.95596,     0.95696,     0.95796,     0.95896,     0.95996,\n",
      "           0.96096,     0.96196,     0.96296,     0.96396,     0.96496,     0.96597,     0.96697,     0.96797,     0.96897,     0.96997,     0.97097,     0.97197,     0.97297,     0.97397,     0.97497,     0.97598,     0.97698,     0.97798,     0.97898,     0.97998,     0.98098,     0.98198,     0.98298,     0.98398,\n",
      "           0.98498,     0.98599,     0.98699,     0.98799,     0.98899,     0.98999,     0.99099,     0.99199,     0.99299,     0.99399,     0.99499,       0.996,       0.997,       0.998,       0.999,           1]), array([[   0.020408,    0.020408,    0.039713,    0.060262,    0.076338,    0.090248,      0.1041,     0.11744,     0.13152,     0.13819,     0.14479,     0.15493,     0.16436,     0.17338,     0.18419,     0.20373,      0.2126,     0.23171,     0.24506,     0.25614,     0.26131,     0.26449,     0.27269,\n",
      "            0.28992,     0.30009,     0.31763,     0.32359,     0.32798,     0.33741,      0.3456,     0.34831,     0.35029,     0.35278,     0.35586,     0.36114,     0.36558,     0.36991,     0.38278,     0.40014,     0.40677,     0.40888,     0.41098,     0.41385,      0.4213,     0.43896,     0.45665,\n",
      "            0.45746,     0.45827,     0.45908,     0.45989,      0.4607,     0.46151,     0.46232,     0.46314,     0.46395,     0.46567,     0.46806,     0.47044,     0.47287,     0.47648,     0.48009,     0.48296,     0.48537,     0.48778,     0.49019,     0.49208,     0.49387,     0.49566,     0.49745,\n",
      "            0.49925,     0.50983,     0.51156,     0.51329,     0.51502,     0.51675,     0.51849,     0.52035,     0.52309,     0.52584,     0.52858,     0.53136,     0.53423,      0.5371,     0.53997,     0.54201,     0.54284,     0.54368,     0.54451,     0.54535,     0.54618,     0.54702,     0.54785,\n",
      "            0.54869,     0.54952,     0.55036,     0.55119,     0.55202,     0.55286,     0.55352,     0.55405,     0.55459,     0.55513,     0.55567,      0.5562,     0.55674,     0.55728,     0.55782,     0.55835,     0.55889,     0.55943,     0.55997,     0.56051,     0.56104,     0.56158,     0.56212,\n",
      "            0.56266,     0.56319,     0.56373,     0.56427,     0.56481,     0.57794,     0.57894,     0.57994,     0.58094,     0.58194,     0.58294,     0.58394,     0.58494,     0.58593,     0.58693,     0.58793,     0.58893,     0.58993,     0.59099,     0.59499,     0.59899,       0.603,     0.60491,\n",
      "            0.60536,     0.60581,     0.60625,      0.6067,     0.60715,      0.6076,     0.60804,     0.60849,     0.60894,     0.60938,     0.60983,     0.61028,     0.61072,     0.61117,     0.61162,     0.61207,     0.61251,     0.61296,     0.61341,     0.61385,      0.6143,     0.61475,     0.61519,\n",
      "            0.61564,     0.61609,     0.61654,     0.61698,     0.61743,     0.61788,     0.61832,     0.61877,     0.62428,     0.63475,      0.6369,     0.63905,      0.6412,     0.64335,     0.64551,     0.64766,     0.64981,     0.66679,     0.66978,     0.67277,     0.67576,     0.67875,     0.68174,\n",
      "            0.68516,     0.69061,     0.69606,     0.70152,     0.70391,     0.70546,     0.70701,     0.70856,     0.71011,     0.71166,     0.71321,     0.71476,     0.71631,     0.71786,     0.71941,     0.72096,     0.72257,     0.72448,     0.72638,     0.72829,      0.7302,      0.7321,     0.73401,\n",
      "            0.73592,     0.73782,     0.73973,     0.74164,     0.74353,     0.74538,     0.74724,      0.7491,     0.75096,     0.75282,     0.75467,     0.75653,     0.75839,     0.76025,     0.76211,     0.76396,     0.78813,     0.78937,     0.79061,     0.79185,     0.79309,     0.79434,     0.79558,\n",
      "            0.79682,     0.79806,      0.7993,     0.80054,     0.80178,     0.80302,     0.80426,      0.8055,     0.80674,     0.80798,     0.80922,     0.81046,      0.8117,     0.81457,     0.82042,     0.82627,     0.83212,     0.83797,     0.83948,     0.84035,     0.84123,     0.84211,     0.84298,\n",
      "            0.84386,     0.84474,     0.84561,     0.84649,     0.84737,     0.84825,     0.84912,        0.85,     0.85088,     0.85175,     0.85263,     0.85351,     0.85438,     0.85526,     0.85614,     0.85701,     0.85789,     0.85877,     0.85964,     0.86052,      0.8614,     0.86228,     0.86315,\n",
      "            0.86403,     0.86491,     0.86578,     0.86666,     0.86697,     0.86728,     0.86759,     0.86789,      0.8682,     0.86851,     0.86882,     0.86912,     0.86943,     0.86974,     0.87005,     0.87035,     0.87066,     0.87097,     0.87128,     0.87158,     0.87189,      0.8722,     0.87251,\n",
      "            0.87281,     0.87312,     0.87343,     0.87374,     0.87404,     0.87435,     0.87466,     0.87497,     0.87527,     0.87558,     0.87589,      0.8762,      0.8765,     0.87681,     0.87712,     0.87743,     0.87773,     0.87804,     0.87835,     0.87866,     0.87896,     0.87927,     0.87958,\n",
      "            0.87989,     0.88019,      0.8805,     0.88081,     0.88112,     0.88142,     0.88173,     0.88204,     0.88235,     0.88265,     0.88296,     0.88327,     0.88358,     0.88388,     0.88419,      0.8845,     0.88481,     0.88511,     0.88542,     0.88573,     0.88604,     0.88634,     0.88665,\n",
      "            0.88696,     0.88727,     0.88757,     0.88788,     0.88819,      0.8885,     0.88881,     0.88911,     0.88942,     0.88973,     0.89004,     0.89034,     0.89065,     0.89096,     0.89127,     0.89157,     0.89188,     0.89219,      0.8925,      0.8928,     0.89311,     0.89342,     0.89373,\n",
      "            0.89403,     0.89434,     0.89465,     0.89496,     0.89526,     0.89557,     0.89588,     0.89619,     0.89649,     0.89661,     0.89669,     0.89677,     0.89684,     0.89692,       0.897,     0.89707,     0.89715,     0.89723,      0.8973,     0.89738,     0.89746,     0.89754,     0.89761,\n",
      "            0.89769,     0.89777,     0.89784,     0.89792,       0.898,     0.89807,     0.89815,     0.89823,      0.8983,     0.89838,     0.89846,     0.89853,     0.89861,     0.89869,     0.89876,     0.89884,     0.89892,     0.89899,     0.89907,     0.89915,     0.89922,      0.8993,     0.89938,\n",
      "            0.89945,     0.89953,     0.89961,     0.89968,     0.89976,     0.89984,     0.89992,     0.89999,     0.90007,     0.90015,     0.90022,      0.9003,     0.90038,     0.90045,     0.90053,     0.90061,     0.90068,     0.90076,     0.90084,     0.90091,     0.90099,     0.90107,     0.90114,\n",
      "            0.90122,      0.9013,     0.90137,     0.90145,     0.90153,      0.9016,     0.90168,     0.90176,     0.90183,     0.90191,     0.90199,     0.90207,     0.90214,     0.90222,      0.9023,     0.90237,     0.90245,     0.90253,      0.9026,     0.90268,     0.90276,     0.90283,     0.90291,\n",
      "            0.90299,     0.90306,     0.90314,     0.90322,     0.90329,     0.90337,     0.90345,     0.90352,      0.9036,     0.90368,     0.90375,     0.90383,     0.90391,     0.90398,     0.90406,     0.90414,     0.90421,     0.90429,     0.90437,     0.90445,     0.90452,      0.9046,     0.90468,\n",
      "            0.90475,     0.90483,     0.90491,     0.90498,     0.90506,     0.90514,     0.90521,     0.90529,     0.90537,     0.90544,     0.90552,      0.9056,     0.90567,     0.90575,     0.90583,      0.9059,     0.90598,     0.90606,     0.90613,     0.90621,     0.90629,     0.90636,     0.90644,\n",
      "            0.90652,      0.9066,     0.90667,     0.90675,     0.90683,      0.9069,     0.90698,     0.90706,     0.90713,     0.90721,     0.90729,     0.90736,     0.90744,     0.90752,     0.90759,     0.90767,     0.90775,     0.90782,      0.9079,     0.90798,     0.90805,     0.90813,     0.90821,\n",
      "            0.90828,     0.90836,     0.90844,     0.90851,     0.90859,     0.90867,     0.90874,     0.90882,      0.9089,     0.90898,     0.90905,     0.90913,     0.90921,     0.90928,     0.90936,     0.90944,     0.90951,     0.90959,     0.90967,     0.90974,     0.90982,      0.9099,     0.90997,\n",
      "            0.91005,     0.91013,      0.9102,     0.91028,     0.91036,     0.91043,     0.91051,     0.91059,     0.91066,     0.91074,     0.91082,     0.91089,     0.91097,     0.91105,     0.91113,      0.9112,     0.91128,     0.91136,     0.91143,     0.91151,     0.91159,     0.91166,     0.91174,\n",
      "            0.91182,     0.91189,     0.91197,     0.91205,     0.91212,      0.9122,     0.91228,     0.91235,     0.91243,     0.91251,     0.91258,     0.91266,     0.91274,     0.91281,     0.91289,     0.91297,     0.91304,     0.91312,      0.9132,     0.91327,     0.91335,     0.91343,     0.91351,\n",
      "            0.91358,     0.91366,     0.91374,     0.91381,     0.91389,     0.91397,     0.91404,     0.91412,      0.9142,     0.91427,     0.91435,     0.91443,      0.9145,     0.91458,     0.91466,     0.91473,     0.91481,     0.91489,     0.91496,     0.91504,     0.91512,     0.91519,     0.91527,\n",
      "            0.91535,     0.91542,      0.9155,     0.91558,     0.91566,     0.91573,     0.91581,     0.91589,     0.91596,     0.91604,     0.91612,     0.91619,     0.91627,     0.91635,     0.91642,      0.9165,     0.91658,     0.91665,     0.91673,     0.91681,     0.91688,     0.91696,     0.91704,\n",
      "            0.91711,     0.91719,     0.91727,     0.91734,     0.91742,      0.9175,     0.91757,     0.91765,     0.91773,      0.9178,     0.91788,     0.91796,     0.91804,     0.91811,     0.91819,     0.91827,     0.91834,     0.91842,      0.9185,     0.91857,     0.91865,     0.91873,      0.9188,\n",
      "            0.91888,     0.91896,     0.91903,     0.91911,     0.91919,     0.91926,     0.91934,     0.91942,     0.91949,     0.91957,     0.91965,     0.91972,      0.9198,     0.91988,     0.91995,     0.92003,     0.92011,     0.92019,     0.92026,     0.92034,     0.92042,     0.92049,     0.92057,\n",
      "            0.92065,     0.92072,      0.9208,     0.92088,     0.92095,     0.92103,     0.92111,     0.92118,     0.92126,     0.92134,     0.92141,     0.92149,     0.92157,     0.92164,     0.92172,      0.9218,     0.92187,     0.92195,     0.92203,      0.9221,     0.92218,     0.92226,     0.92233,\n",
      "            0.92241,     0.92249,     0.92257,     0.92264,     0.92272,      0.9228,     0.92287,     0.92295,     0.92303,      0.9231,     0.92318,     0.92326,     0.92333,     0.92341,     0.92349,     0.92356,     0.92364,     0.92372,     0.92379,     0.92387,     0.92395,     0.92402,      0.9241,\n",
      "            0.92418,     0.92425,     0.92433,     0.92441,     0.92448,     0.92456,     0.92464,     0.92471,     0.92479,     0.92487,     0.92495,     0.92502,      0.9251,     0.92518,     0.92525,     0.92533,     0.92541,     0.92548,     0.92556,     0.92564,     0.92571,     0.92579,     0.92587,\n",
      "            0.92594,     0.92602,      0.9261,     0.92617,     0.92625,     0.92633,      0.9264,     0.92648,     0.92656,     0.92663,     0.92671,     0.92679,     0.92686,     0.92694,     0.92702,      0.9271,     0.92717,     0.92725,     0.92733,      0.9274,     0.92748,     0.92756,     0.92763,\n",
      "            0.92771,     0.92779,     0.92786,     0.92794,     0.92802,     0.92809,     0.92817,     0.92825,     0.92832,      0.9284,     0.92848,     0.92855,     0.92842,     0.92823,     0.92803,     0.92784,     0.92765,     0.92745,     0.92726,     0.92706,     0.92687,     0.92668,     0.92648,\n",
      "            0.92629,     0.92609,     0.92602,     0.92672,     0.92742,     0.92812,     0.92882,     0.92952,     0.93022,     0.93092,     0.93162,     0.93232,     0.93302,     0.93372,     0.93443,     0.93513,     0.93583,     0.93653,     0.93723,     0.93793,     0.93863,     0.93933,     0.94003,\n",
      "            0.94073,     0.94143,     0.94213,     0.94283,     0.94353,     0.94423,     0.94493,     0.94563,     0.94633,     0.94703,     0.94773,     0.94843,     0.94913,     0.94983,     0.95053,     0.95123,     0.95194,     0.95264,     0.95334,     0.95404,     0.95474,     0.95544,     0.95614,\n",
      "            0.95684,     0.95754,     0.95824,     0.95894,     0.95964,     0.96034,     0.96104,     0.96245,      0.9656,     0.96875,     0.97191,     0.97506,     0.97821,     0.98136,     0.98452,     0.98767,     0.99082,     0.99397,     0.99712,           1,           1,           1,           1,\n",
      "                  1,           1,           1,           1,           1,           1,           1,           1,           1,           1,           1,           1,           1,           1,           1,           1,           1,           1,           1,           1,           1,           1,           1,\n",
      "                  1,           1,           1,           1,           1,           1,           1,           1,           1,           1,           1,           1,           1,           1,           1,           1,           1,           1,           1,           1,           1,           1,           1,\n",
      "                  1,           1,           1,           1,           1,           1,           1,           1,           1,           1,           1,           1,           1,           1,           1,           1,           1,           1,           1,           1,           1,           1,           1,\n",
      "                  1,           1,           1,           1,           1,           1,           1,           1,           1,           1,           1,           1,           1,           1,           1,           1,           1,           1,           1,           1,           1,           1,           1,\n",
      "                  1,           1,           1,           1,           1,           1,           1,           1,           1,           1,           1,           1,           1,           1,           1,           1,           1,           1,           1,           1,           1,           1,           1,\n",
      "                  1,           1,           1,           1,           1,           1,           1,           1,           1,           1,           1]]), 'Confidence', 'Precision'], [array([          0,    0.001001,    0.002002,    0.003003,    0.004004,    0.005005,    0.006006,    0.007007,    0.008008,    0.009009,     0.01001,    0.011011,    0.012012,    0.013013,    0.014014,    0.015015,    0.016016,    0.017017,    0.018018,    0.019019,     0.02002,    0.021021,    0.022022,    0.023023,\n",
      "          0.024024,    0.025025,    0.026026,    0.027027,    0.028028,    0.029029,     0.03003,    0.031031,    0.032032,    0.033033,    0.034034,    0.035035,    0.036036,    0.037037,    0.038038,    0.039039,     0.04004,    0.041041,    0.042042,    0.043043,    0.044044,    0.045045,    0.046046,    0.047047,\n",
      "          0.048048,    0.049049,     0.05005,    0.051051,    0.052052,    0.053053,    0.054054,    0.055055,    0.056056,    0.057057,    0.058058,    0.059059,     0.06006,    0.061061,    0.062062,    0.063063,    0.064064,    0.065065,    0.066066,    0.067067,    0.068068,    0.069069,     0.07007,    0.071071,\n",
      "          0.072072,    0.073073,    0.074074,    0.075075,    0.076076,    0.077077,    0.078078,    0.079079,     0.08008,    0.081081,    0.082082,    0.083083,    0.084084,    0.085085,    0.086086,    0.087087,    0.088088,    0.089089,     0.09009,    0.091091,    0.092092,    0.093093,    0.094094,    0.095095,\n",
      "          0.096096,    0.097097,    0.098098,    0.099099,      0.1001,      0.1011,      0.1021,      0.1031,      0.1041,     0.10511,     0.10611,     0.10711,     0.10811,     0.10911,     0.11011,     0.11111,     0.11211,     0.11311,     0.11411,     0.11512,     0.11612,     0.11712,     0.11812,     0.11912,\n",
      "           0.12012,     0.12112,     0.12212,     0.12312,     0.12412,     0.12513,     0.12613,     0.12713,     0.12813,     0.12913,     0.13013,     0.13113,     0.13213,     0.13313,     0.13413,     0.13514,     0.13614,     0.13714,     0.13814,     0.13914,     0.14014,     0.14114,     0.14214,     0.14314,\n",
      "           0.14414,     0.14515,     0.14615,     0.14715,     0.14815,     0.14915,     0.15015,     0.15115,     0.15215,     0.15315,     0.15415,     0.15516,     0.15616,     0.15716,     0.15816,     0.15916,     0.16016,     0.16116,     0.16216,     0.16316,     0.16416,     0.16517,     0.16617,     0.16717,\n",
      "           0.16817,     0.16917,     0.17017,     0.17117,     0.17217,     0.17317,     0.17417,     0.17518,     0.17618,     0.17718,     0.17818,     0.17918,     0.18018,     0.18118,     0.18218,     0.18318,     0.18418,     0.18519,     0.18619,     0.18719,     0.18819,     0.18919,     0.19019,     0.19119,\n",
      "           0.19219,     0.19319,     0.19419,      0.1952,      0.1962,      0.1972,      0.1982,      0.1992,      0.2002,      0.2012,      0.2022,      0.2032,      0.2042,     0.20521,     0.20621,     0.20721,     0.20821,     0.20921,     0.21021,     0.21121,     0.21221,     0.21321,     0.21421,     0.21522,\n",
      "           0.21622,     0.21722,     0.21822,     0.21922,     0.22022,     0.22122,     0.22222,     0.22322,     0.22422,     0.22523,     0.22623,     0.22723,     0.22823,     0.22923,     0.23023,     0.23123,     0.23223,     0.23323,     0.23423,     0.23524,     0.23624,     0.23724,     0.23824,     0.23924,\n",
      "           0.24024,     0.24124,     0.24224,     0.24324,     0.24424,     0.24525,     0.24625,     0.24725,     0.24825,     0.24925,     0.25025,     0.25125,     0.25225,     0.25325,     0.25425,     0.25526,     0.25626,     0.25726,     0.25826,     0.25926,     0.26026,     0.26126,     0.26226,     0.26326,\n",
      "           0.26426,     0.26527,     0.26627,     0.26727,     0.26827,     0.26927,     0.27027,     0.27127,     0.27227,     0.27327,     0.27427,     0.27528,     0.27628,     0.27728,     0.27828,     0.27928,     0.28028,     0.28128,     0.28228,     0.28328,     0.28428,     0.28529,     0.28629,     0.28729,\n",
      "           0.28829,     0.28929,     0.29029,     0.29129,     0.29229,     0.29329,     0.29429,      0.2953,      0.2963,      0.2973,      0.2983,      0.2993,      0.3003,      0.3013,      0.3023,      0.3033,      0.3043,     0.30531,     0.30631,     0.30731,     0.30831,     0.30931,     0.31031,     0.31131,\n",
      "           0.31231,     0.31331,     0.31431,     0.31532,     0.31632,     0.31732,     0.31832,     0.31932,     0.32032,     0.32132,     0.32232,     0.32332,     0.32432,     0.32533,     0.32633,     0.32733,     0.32833,     0.32933,     0.33033,     0.33133,     0.33233,     0.33333,     0.33433,     0.33534,\n",
      "           0.33634,     0.33734,     0.33834,     0.33934,     0.34034,     0.34134,     0.34234,     0.34334,     0.34434,     0.34535,     0.34635,     0.34735,     0.34835,     0.34935,     0.35035,     0.35135,     0.35235,     0.35335,     0.35435,     0.35536,     0.35636,     0.35736,     0.35836,     0.35936,\n",
      "           0.36036,     0.36136,     0.36236,     0.36336,     0.36436,     0.36537,     0.36637,     0.36737,     0.36837,     0.36937,     0.37037,     0.37137,     0.37237,     0.37337,     0.37437,     0.37538,     0.37638,     0.37738,     0.37838,     0.37938,     0.38038,     0.38138,     0.38238,     0.38338,\n",
      "           0.38438,     0.38539,     0.38639,     0.38739,     0.38839,     0.38939,     0.39039,     0.39139,     0.39239,     0.39339,     0.39439,      0.3954,      0.3964,      0.3974,      0.3984,      0.3994,      0.4004,      0.4014,      0.4024,      0.4034,      0.4044,     0.40541,     0.40641,     0.40741,\n",
      "           0.40841,     0.40941,     0.41041,     0.41141,     0.41241,     0.41341,     0.41441,     0.41542,     0.41642,     0.41742,     0.41842,     0.41942,     0.42042,     0.42142,     0.42242,     0.42342,     0.42442,     0.42543,     0.42643,     0.42743,     0.42843,     0.42943,     0.43043,     0.43143,\n",
      "           0.43243,     0.43343,     0.43443,     0.43544,     0.43644,     0.43744,     0.43844,     0.43944,     0.44044,     0.44144,     0.44244,     0.44344,     0.44444,     0.44545,     0.44645,     0.44745,     0.44845,     0.44945,     0.45045,     0.45145,     0.45245,     0.45345,     0.45445,     0.45546,\n",
      "           0.45646,     0.45746,     0.45846,     0.45946,     0.46046,     0.46146,     0.46246,     0.46346,     0.46446,     0.46547,     0.46647,     0.46747,     0.46847,     0.46947,     0.47047,     0.47147,     0.47247,     0.47347,     0.47447,     0.47548,     0.47648,     0.47748,     0.47848,     0.47948,\n",
      "           0.48048,     0.48148,     0.48248,     0.48348,     0.48448,     0.48549,     0.48649,     0.48749,     0.48849,     0.48949,     0.49049,     0.49149,     0.49249,     0.49349,     0.49449,      0.4955,      0.4965,      0.4975,      0.4985,      0.4995,      0.5005,      0.5015,      0.5025,      0.5035,\n",
      "            0.5045,     0.50551,     0.50651,     0.50751,     0.50851,     0.50951,     0.51051,     0.51151,     0.51251,     0.51351,     0.51451,     0.51552,     0.51652,     0.51752,     0.51852,     0.51952,     0.52052,     0.52152,     0.52252,     0.52352,     0.52452,     0.52553,     0.52653,     0.52753,\n",
      "           0.52853,     0.52953,     0.53053,     0.53153,     0.53253,     0.53353,     0.53453,     0.53554,     0.53654,     0.53754,     0.53854,     0.53954,     0.54054,     0.54154,     0.54254,     0.54354,     0.54454,     0.54555,     0.54655,     0.54755,     0.54855,     0.54955,     0.55055,     0.55155,\n",
      "           0.55255,     0.55355,     0.55455,     0.55556,     0.55656,     0.55756,     0.55856,     0.55956,     0.56056,     0.56156,     0.56256,     0.56356,     0.56456,     0.56557,     0.56657,     0.56757,     0.56857,     0.56957,     0.57057,     0.57157,     0.57257,     0.57357,     0.57457,     0.57558,\n",
      "           0.57658,     0.57758,     0.57858,     0.57958,     0.58058,     0.58158,     0.58258,     0.58358,     0.58458,     0.58559,     0.58659,     0.58759,     0.58859,     0.58959,     0.59059,     0.59159,     0.59259,     0.59359,     0.59459,      0.5956,      0.5966,      0.5976,      0.5986,      0.5996,\n",
      "            0.6006,      0.6016,      0.6026,      0.6036,      0.6046,     0.60561,     0.60661,     0.60761,     0.60861,     0.60961,     0.61061,     0.61161,     0.61261,     0.61361,     0.61461,     0.61562,     0.61662,     0.61762,     0.61862,     0.61962,     0.62062,     0.62162,     0.62262,     0.62362,\n",
      "           0.62462,     0.62563,     0.62663,     0.62763,     0.62863,     0.62963,     0.63063,     0.63163,     0.63263,     0.63363,     0.63463,     0.63564,     0.63664,     0.63764,     0.63864,     0.63964,     0.64064,     0.64164,     0.64264,     0.64364,     0.64464,     0.64565,     0.64665,     0.64765,\n",
      "           0.64865,     0.64965,     0.65065,     0.65165,     0.65265,     0.65365,     0.65465,     0.65566,     0.65666,     0.65766,     0.65866,     0.65966,     0.66066,     0.66166,     0.66266,     0.66366,     0.66466,     0.66567,     0.66667,     0.66767,     0.66867,     0.66967,     0.67067,     0.67167,\n",
      "           0.67267,     0.67367,     0.67467,     0.67568,     0.67668,     0.67768,     0.67868,     0.67968,     0.68068,     0.68168,     0.68268,     0.68368,     0.68468,     0.68569,     0.68669,     0.68769,     0.68869,     0.68969,     0.69069,     0.69169,     0.69269,     0.69369,     0.69469,      0.6957,\n",
      "            0.6967,      0.6977,      0.6987,      0.6997,      0.7007,      0.7017,      0.7027,      0.7037,      0.7047,     0.70571,     0.70671,     0.70771,     0.70871,     0.70971,     0.71071,     0.71171,     0.71271,     0.71371,     0.71471,     0.71572,     0.71672,     0.71772,     0.71872,     0.71972,\n",
      "           0.72072,     0.72172,     0.72272,     0.72372,     0.72472,     0.72573,     0.72673,     0.72773,     0.72873,     0.72973,     0.73073,     0.73173,     0.73273,     0.73373,     0.73473,     0.73574,     0.73674,     0.73774,     0.73874,     0.73974,     0.74074,     0.74174,     0.74274,     0.74374,\n",
      "           0.74474,     0.74575,     0.74675,     0.74775,     0.74875,     0.74975,     0.75075,     0.75175,     0.75275,     0.75375,     0.75475,     0.75576,     0.75676,     0.75776,     0.75876,     0.75976,     0.76076,     0.76176,     0.76276,     0.76376,     0.76476,     0.76577,     0.76677,     0.76777,\n",
      "           0.76877,     0.76977,     0.77077,     0.77177,     0.77277,     0.77377,     0.77477,     0.77578,     0.77678,     0.77778,     0.77878,     0.77978,     0.78078,     0.78178,     0.78278,     0.78378,     0.78478,     0.78579,     0.78679,     0.78779,     0.78879,     0.78979,     0.79079,     0.79179,\n",
      "           0.79279,     0.79379,     0.79479,      0.7958,      0.7968,      0.7978,      0.7988,      0.7998,      0.8008,      0.8018,      0.8028,      0.8038,      0.8048,     0.80581,     0.80681,     0.80781,     0.80881,     0.80981,     0.81081,     0.81181,     0.81281,     0.81381,     0.81481,     0.81582,\n",
      "           0.81682,     0.81782,     0.81882,     0.81982,     0.82082,     0.82182,     0.82282,     0.82382,     0.82482,     0.82583,     0.82683,     0.82783,     0.82883,     0.82983,     0.83083,     0.83183,     0.83283,     0.83383,     0.83483,     0.83584,     0.83684,     0.83784,     0.83884,     0.83984,\n",
      "           0.84084,     0.84184,     0.84284,     0.84384,     0.84484,     0.84585,     0.84685,     0.84785,     0.84885,     0.84985,     0.85085,     0.85185,     0.85285,     0.85385,     0.85485,     0.85586,     0.85686,     0.85786,     0.85886,     0.85986,     0.86086,     0.86186,     0.86286,     0.86386,\n",
      "           0.86486,     0.86587,     0.86687,     0.86787,     0.86887,     0.86987,     0.87087,     0.87187,     0.87287,     0.87387,     0.87487,     0.87588,     0.87688,     0.87788,     0.87888,     0.87988,     0.88088,     0.88188,     0.88288,     0.88388,     0.88488,     0.88589,     0.88689,     0.88789,\n",
      "           0.88889,     0.88989,     0.89089,     0.89189,     0.89289,     0.89389,     0.89489,      0.8959,      0.8969,      0.8979,      0.8989,      0.8999,      0.9009,      0.9019,      0.9029,      0.9039,      0.9049,     0.90591,     0.90691,     0.90791,     0.90891,     0.90991,     0.91091,     0.91191,\n",
      "           0.91291,     0.91391,     0.91491,     0.91592,     0.91692,     0.91792,     0.91892,     0.91992,     0.92092,     0.92192,     0.92292,     0.92392,     0.92492,     0.92593,     0.92693,     0.92793,     0.92893,     0.92993,     0.93093,     0.93193,     0.93293,     0.93393,     0.93493,     0.93594,\n",
      "           0.93694,     0.93794,     0.93894,     0.93994,     0.94094,     0.94194,     0.94294,     0.94394,     0.94494,     0.94595,     0.94695,     0.94795,     0.94895,     0.94995,     0.95095,     0.95195,     0.95295,     0.95395,     0.95495,     0.95596,     0.95696,     0.95796,     0.95896,     0.95996,\n",
      "           0.96096,     0.96196,     0.96296,     0.96396,     0.96496,     0.96597,     0.96697,     0.96797,     0.96897,     0.96997,     0.97097,     0.97197,     0.97297,     0.97397,     0.97497,     0.97598,     0.97698,     0.97798,     0.97898,     0.97998,     0.98098,     0.98198,     0.98298,     0.98398,\n",
      "           0.98498,     0.98599,     0.98699,     0.98799,     0.98899,     0.98999,     0.99099,     0.99199,     0.99299,     0.99399,     0.99499,       0.996,       0.997,       0.998,       0.999,           1]), array([[          1,           1,           1,           1,           1,           1,           1,           1,           1,           1,           1,           1,           1,           1,           1,           1,           1,           1,           1,           1,           1,           1,           1,\n",
      "                  1,           1,           1,           1,           1,           1,           1,           1,           1,           1,           1,           1,           1,           1,           1,           1,           1,           1,           1,           1,           1,           1,           1,\n",
      "                  1,           1,           1,           1,           1,           1,           1,           1,           1,           1,           1,           1,           1,           1,           1,           1,           1,           1,           1,           1,           1,           1,           1,\n",
      "                  1,           1,           1,           1,           1,           1,           1,           1,           1,           1,           1,           1,           1,           1,           1,           1,           1,           1,           1,           1,           1,           1,           1,\n",
      "                  1,           1,           1,           1,           1,           1,           1,           1,           1,           1,           1,           1,           1,           1,           1,           1,           1,           1,           1,           1,           1,           1,           1,\n",
      "                  1,           1,           1,           1,           1,           1,           1,           1,           1,           1,           1,           1,           1,           1,           1,           1,           1,           1,           1,           1,           1,           1,           1,\n",
      "                  1,           1,           1,           1,           1,           1,           1,           1,           1,           1,           1,           1,           1,           1,           1,           1,           1,           1,           1,           1,           1,           1,           1,\n",
      "                  1,           1,           1,           1,           1,           1,           1,           1,           1,           1,           1,           1,           1,           1,           1,           1,           1,           1,           1,           1,           1,           1,           1,\n",
      "                  1,           1,           1,           1,           1,           1,           1,           1,           1,           1,           1,           1,           1,           1,           1,           1,           1,           1,           1,           1,           1,           1,           1,\n",
      "                  1,           1,           1,           1,           1,           1,           1,           1,           1,           1,           1,           1,           1,           1,           1,           1,           1,           1,           1,           1,           1,           1,           1,\n",
      "                  1,           1,           1,           1,           1,           1,           1,           1,           1,           1,           1,           1,           1,           1,           1,           1,           1,           1,           1,           1,           1,           1,           1,\n",
      "                  1,           1,           1,           1,           1,           1,           1,           1,           1,           1,           1,           1,           1,           1,           1,           1,           1,           1,           1,           1,           1,           1,           1,\n",
      "                  1,           1,           1,           1,           1,           1,           1,           1,           1,           1,           1,           1,           1,           1,           1,           1,           1,           1,           1,           1,           1,           1,           1,\n",
      "                  1,           1,           1,           1,           1,           1,           1,           1,           1,           1,           1,           1,           1,           1,           1,           1,           1,           1,           1,           1,           1,           1,           1,\n",
      "                  1,           1,           1,           1,           1,           1,           1,           1,           1,           1,           1,           1,           1,           1,           1,           1,           1,           1,           1,           1,           1,           1,           1,\n",
      "                  1,           1,           1,           1,           1,           1,           1,           1,           1,           1,           1,           1,           1,           1,           1,           1,           1,           1,           1,           1,           1,           1,           1,\n",
      "                  1,           1,           1,           1,           1,           1,           1,           1,           1,           1,           1,           1,           1,           1,           1,           1,           1,           1,           1,           1,           1,           1,           1,\n",
      "                  1,           1,           1,           1,           1,           1,           1,           1,           1,           1,           1,           1,           1,           1,           1,           1,           1,           1,           1,           1,           1,           1,           1,\n",
      "                  1,           1,           1,           1,           1,           1,           1,           1,           1,           1,           1,           1,           1,           1,           1,           1,           1,           1,           1,           1,           1,           1,           1,\n",
      "                  1,           1,           1,           1,           1,           1,           1,           1,           1,           1,           1,           1,           1,           1,           1,           1,           1,           1,           1,           1,           1,           1,           1,\n",
      "                  1,           1,           1,           1,           1,           1,           1,           1,           1,           1,           1,           1,           1,           1,           1,           1,           1,           1,           1,           1,           1,           1,           1,\n",
      "                  1,           1,           1,           1,           1,           1,           1,           1,           1,           1,           1,           1,           1,           1,           1,           1,           1,           1,           1,           1,           1,           1,           1,\n",
      "                  1,           1,           1,           1,           1,           1,           1,           1,           1,           1,           1,           1,           1,           1,           1,           1,           1,           1,           1,           1,           1,           1,           1,\n",
      "                  1,           1,           1,           1,           1,           1,           1,           1,           1,           1,           1,           1,           1,           1,           1,           1,           1,           1,           1,           1,           1,           1,           1,\n",
      "                  1,           1,           1,           1,           1,           1,           1,           1,           1,           1,           1,           1,           1,           1,           1,           1,           1,           1,           1,           1,           1,           1,           1,\n",
      "                  1,           1,           1,           1,           1,           1,           1,           1,           1,           1,           1,           1,           1,           1,           1,           1,           1,           1,           1,           1,           1,           1,           1,\n",
      "                  1,           1,           1,           1,           1,           1,           1,           1,           1,           1,           1,           1,           1,           1,           1,           1,           1,           1,           1,           1,           1,           1,           1,\n",
      "                  1,           1,           1,           1,           1,           1,           1,           1,           1,           1,           1,           1,           1,           1,           1,           1,           1,           1,           1,           1,           1,           1,           1,\n",
      "                  1,           1,           1,           1,           1,           1,           1,           1,           1,           1,           1,           1,           1,           1,           1,           1,           1,           1,           1,           1,           1,           1,           1,\n",
      "                  1,           1,           1,           1,           1,           1,           1,           1,           1,           1,           1,           1,           1,           1,           1,           1,           1,           1,           1,           1,           1,           1,           1,\n",
      "                  1,           1,           1,           1,           1,           1,           1,           1,           1,           1,           1,           1,           1,           1,           1,           1,           1,           1,           1,           1,           1,           1,           1,\n",
      "                  1,           1,           1,           1,           1,           1,           1,           1,           1,           1,           1,           1,           1,           1,           1,           1,           1,           1,           1,           1,           1,           1,           1,\n",
      "                  1,           1,           1,           1,           1,           1,           1,           1,           1,           1,           1,           1,           1,           1,           1,           1,           1,           1,           1,           1,           1,           1,           1,\n",
      "                  1,           1,           1,           1,           1,           1,           1,           1,           1,           1,           1,           1,           1,           1,           1,           1,           1,           1,           1,           1,           1,           1,           1,\n",
      "                  1,           1,           1,           1,           1,           1,           1,           1,           1,           1,           1,           1,     0.99782,       0.995,     0.99218,     0.98936,     0.98654,     0.98372,      0.9809,     0.97808,     0.97526,     0.97244,     0.96962,\n",
      "             0.9668,     0.96398,     0.96154,     0.96154,     0.96154,     0.96154,     0.96154,     0.96154,     0.96154,     0.96154,     0.96154,     0.96154,     0.96154,     0.96154,     0.96154,     0.96154,     0.96154,     0.96154,     0.96154,     0.96154,     0.96154,     0.96154,     0.96154,\n",
      "            0.96154,     0.96154,     0.96154,     0.96154,     0.96154,     0.96154,     0.96154,     0.96154,     0.96154,     0.96154,     0.96154,     0.96154,     0.96154,     0.96154,     0.96154,     0.96154,     0.96154,     0.96154,     0.96154,     0.96154,     0.96154,     0.96154,     0.96154,\n",
      "            0.96154,     0.96154,     0.96154,     0.96154,     0.96154,     0.96154,     0.96154,     0.96154,     0.96154,     0.96154,     0.96154,     0.96154,     0.96154,     0.96154,     0.96154,     0.96154,     0.96154,     0.96154,     0.96154,     0.96108,     0.95581,     0.95055,     0.94528,\n",
      "            0.94002,     0.93475,     0.92949,     0.92423,      0.9224,     0.92154,     0.92067,     0.91981,     0.91894,     0.91808,     0.91722,     0.91635,     0.91549,     0.91462,     0.91376,     0.91289,     0.91203,     0.91117,      0.9103,     0.90944,     0.90857,     0.90771,     0.90684,\n",
      "            0.90598,     0.90512,     0.90425,     0.90339,     0.90252,     0.90166,     0.90079,     0.89993,     0.89907,      0.8982,     0.89734,     0.89647,     0.89561,     0.89474,     0.89388,     0.89302,     0.89215,     0.89129,     0.89042,     0.88956,     0.88869,     0.88783,     0.88697,\n",
      "             0.8861,     0.88524,     0.87641,     0.84717,     0.84423,     0.84224,     0.84025,     0.83826,     0.83627,     0.83428,     0.83229,      0.8303,     0.82831,     0.82632,     0.82433,     0.82234,     0.82035,     0.81836,     0.81637,     0.81438,     0.81238,     0.81039,      0.8084,\n",
      "            0.79098,     0.76868,     0.76528,     0.76188,     0.75849,     0.75509,     0.75169,      0.7483,      0.7449,      0.7415,     0.73811,     0.73471,     0.73131,     0.71908,     0.70516,     0.68899,     0.64659,     0.59905,     0.55847,     0.50256,     0.46618,     0.44871,     0.43389,\n",
      "            0.40785,     0.37146,     0.34902,     0.29944,     0.26907,     0.25911,     0.24915,     0.23919,      0.2186,     0.18694,     0.17887,      0.1708,     0.16273,     0.15465,    0.080236,    0.064424,    0.050929,           0,           0,           0,           0,           0,           0,\n",
      "                  0,           0,           0,           0,           0,           0,           0,           0,           0,           0,           0]]), 'Confidence', 'Recall']]\n",
      "fitness: 1.7014720703582076\n",
      "keys: ['metrics/precision(B)', 'metrics/recall(B)', 'metrics/mAP50(B)', 'metrics/mAP50-95(B)', 'metrics/precision(M)', 'metrics/recall(M)', 'metrics/mAP50(M)', 'metrics/mAP50-95(M)']\n",
      "maps: array([     1.6699])\n",
      "names: {0: '-2- Colposcopic Segmentation - v3 2024-12-11 4-21pm'}\n",
      "plot: True\n",
      "results_dict: {'metrics/precision(B)': 0.9249453344674916, 'metrics/recall(B)': 1.0, 'metrics/mAP50(B)': 0.992857142857143, 'metrics/mAP50-95(B)': 0.8351020085280488, 'metrics/precision(M)': 0.9249453344674916, 'metrics/recall(M)': 1.0, 'metrics/mAP50(M)': 0.992857142857143, 'metrics/mAP50-95(M)': 0.8347875934572612, 'fitness': 1.7014720703582076}\n",
      "save_dir: WindowsPath('runs/segment/train63')\n",
      "seg: ultralytics.utils.metrics.Metric object\n",
      "speed: {'preprocess': 1.1249964053814228, 'inference': 71.75165873307449, 'loss': 0.0, 'postprocess': 2.8566030355600214}\n",
      "task: 'segment'\n"
     ]
    }
   ],
   "source": [
    "results = model.val(data=YAML_PATH, imgsz=IMAGE_SIZE, batch=BATCH_SIZE, split=\"test\")\n",
    "print(results)"
   ]
  },
  {
   "cell_type": "markdown",
   "metadata": {},
   "source": [
    "# Sample"
   ]
  },
  {
   "cell_type": "code",
   "execution_count": 11,
   "metadata": {},
   "outputs": [],
   "source": [
    "import cv2\n",
    "import numpy as np"
   ]
  },
  {
   "cell_type": "code",
   "execution_count": 12,
   "metadata": {},
   "outputs": [
    {
     "name": "stdout",
     "output_type": "stream",
     "text": [
      "\n",
      "image 1/1 C:\\Users\\taral\\OneDrive\\Documents\\Major project\\Code\\Segmentation\\sr_remove_dataset_seg\\valid\\images\\AAEJ2_jpg.rf.d939c600bd13fd63f8c46446b06bd6ec.jpg: 256x320 2 -2- Colposcopic Segmentation - v3 2024-12-11 4-21pms, 190.2ms\n",
      "Speed: 12.8ms preprocess, 190.2ms inference, 13.3ms postprocess per image at shape (1, 3, 256, 320)\n"
     ]
    }
   ],
   "source": [
    "image_path = r\"C:\\Users\\taral\\OneDrive\\Documents\\Major project\\Code\\Segmentation\\sr_remove_dataset_seg\\valid\\images\\AAEJ2_jpg.rf.d939c600bd13fd63f8c46446b06bd6ec.jpg\"\n",
    "results = model.predict(image_path)\n",
    "results[0].show()"
   ]
  },
  {
   "cell_type": "code",
   "execution_count": 13,
   "metadata": {},
   "outputs": [
    {
     "name": "stdout",
     "output_type": "stream",
     "text": [
      "\n",
      "image 1/1 C:\\Users\\taral\\OneDrive\\Documents\\Major project\\Code\\Segmentation\\sr_remove_dataset_seg\\valid\\images\\AEH2_jpg.rf.430092829256e2bbcced9ecae425f910.jpg: 256x320 1 -2- Colposcopic Segmentation - v3 2024-12-11 4-21pm, 647.5ms\n",
      "Speed: 5.4ms preprocess, 647.5ms inference, 15.9ms postprocess per image at shape (1, 3, 256, 320)\n"
     ]
    }
   ],
   "source": [
    "image_path = r\"C:\\Users\\taral\\OneDrive\\Documents\\Major project\\Code\\Segmentation\\sr_remove_dataset_seg\\valid\\images\\AEH2_jpg.rf.430092829256e2bbcced9ecae425f910.jpg\"\n",
    "results = model.predict(image_path)\n",
    "results[0].show()"
   ]
  },
  {
   "cell_type": "code",
   "execution_count": 14,
   "metadata": {},
   "outputs": [
    {
     "name": "stdout",
     "output_type": "stream",
     "text": [
      "\n",
      "image 1/1 C:\\Users\\taral\\OneDrive\\Documents\\Major project\\Code\\Segmentation\\sr_remove_dataset_seg\\train\\images\\AAEZ3_jpg.rf.9dfc542773856e31f0169c047a1704d9.jpg: 256x320 1 -2- Colposcopic Segmentation - v3 2024-12-11 4-21pm, 165.2ms\n",
      "Speed: 27.7ms preprocess, 165.2ms inference, 5.8ms postprocess per image at shape (1, 3, 256, 320)\n"
     ]
    }
   ],
   "source": [
    "image_path = r\"C:\\Users\\taral\\OneDrive\\Documents\\Major project\\Code\\Segmentation\\sr_remove_dataset_seg\\train\\images\\AAEZ3_jpg.rf.9dfc542773856e31f0169c047a1704d9.jpg\"\n",
    "results = model.predict(image_path)\n",
    "results[0].show()"
   ]
  },
  {
   "cell_type": "code",
   "execution_count": 1,
   "metadata": {},
   "outputs": [
    {
     "ename": "NameError",
     "evalue": "name 'model' is not defined",
     "output_type": "error",
     "traceback": [
      "\u001b[1;31m---------------------------------------------------------------------------\u001b[0m",
      "\u001b[1;31mNameError\u001b[0m                                 Traceback (most recent call last)",
      "Cell \u001b[1;32mIn[1], line 2\u001b[0m\n\u001b[0;32m      1\u001b[0m image_path \u001b[38;5;241m=\u001b[39m \u001b[38;5;124mr\u001b[39m\u001b[38;5;124m\"\u001b[39m\u001b[38;5;124mC:\u001b[39m\u001b[38;5;124m\\\u001b[39m\u001b[38;5;124mUsers\u001b[39m\u001b[38;5;124m\\\u001b[39m\u001b[38;5;124mtaral\u001b[39m\u001b[38;5;124m\\\u001b[39m\u001b[38;5;124mOneDrive\u001b[39m\u001b[38;5;124m\\\u001b[39m\u001b[38;5;124mDocuments\u001b[39m\u001b[38;5;124m\\\u001b[39m\u001b[38;5;124mMajor project\u001b[39m\u001b[38;5;124m\\\u001b[39m\u001b[38;5;124mData\u001b[39m\u001b[38;5;124m\\\u001b[39m\u001b[38;5;124mOld\u001b[39m\u001b[38;5;124m\\\u001b[39m\u001b[38;5;124mMalhari\u001b[39m\u001b[38;5;124m\\\u001b[39m\u001b[38;5;124mcolposcopic\u001b[39m\u001b[38;5;124m\\\u001b[39m\u001b[38;5;124mCIN2\u001b[39m\u001b[38;5;124m\\\u001b[39m\u001b[38;5;124mP (15)\u001b[39m\u001b[38;5;124m\\\u001b[39m\u001b[38;5;124m4.jpg\u001b[39m\u001b[38;5;124m\"\u001b[39m\n\u001b[1;32m----> 2\u001b[0m results \u001b[38;5;241m=\u001b[39m \u001b[43mmodel\u001b[49m\u001b[38;5;241m.\u001b[39mpredict(image_path)\n\u001b[0;32m      3\u001b[0m results[\u001b[38;5;241m0\u001b[39m]\u001b[38;5;241m.\u001b[39mshow()\n",
      "\u001b[1;31mNameError\u001b[0m: name 'model' is not defined"
     ]
    }
   ],
   "source": [
    "image_path = r\"C:\\Users\\taral\\OneDrive\\Documents\\Major project\\Data\\Old\\Malhari\\colposcopic\\CIN2\\P (15)\\4.jpg\"\n",
    "results = model.predict(image_path)\n",
    "results[0].show()"
   ]
  },
  {
   "cell_type": "code",
   "execution_count": null,
   "metadata": {},
   "outputs": [],
   "source": [
    "image_path = r\"C:\\Users\\taral\\OneDrive\\Documents\\Major project\\Data\\IARC\\VIA\\Case 183\\AEY1.jpg\"\n",
    "results = model.predict(image_path)\n",
    "results[0].show()"
   ]
  },
  {
   "cell_type": "code",
   "execution_count": null,
   "metadata": {},
   "outputs": [],
   "source": [
    "image_path = r\"C:\\Users\\taral\\OneDrive\\Documents\\Major project\\Data\\IARC\\VIA\\Case 183\\AEY0.jpg\"\n",
    "results = model.predict(image_path)\n",
    "results[0].show()"
   ]
  },
  {
   "cell_type": "code",
   "execution_count": null,
   "metadata": {},
   "outputs": [],
   "source": []
  }
 ],
 "metadata": {
  "kernelspec": {
   "display_name": "Python 3",
   "language": "python",
   "name": "python3"
  },
  "language_info": {
   "codemirror_mode": {
    "name": "ipython",
    "version": 3
   },
   "file_extension": ".py",
   "mimetype": "text/x-python",
   "name": "python",
   "nbconvert_exporter": "python",
   "pygments_lexer": "ipython3",
   "version": "3.10.0"
  }
 },
 "nbformat": 4,
 "nbformat_minor": 2
}
