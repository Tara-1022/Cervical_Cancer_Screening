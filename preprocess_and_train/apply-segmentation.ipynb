{
 "cells": [
  {
   "cell_type": "code",
   "execution_count": null,
   "metadata": {},
   "outputs": [],
   "source": [
    "import cv2\n",
    "import numpy as np\n",
    "import ultralytics\n",
    "ultralytics.checks()\n",
    "from ultralytics import YOLO\n",
    "import os"
   ]
  },
  {
   "cell_type": "code",
   "execution_count": 2,
   "metadata": {},
   "outputs": [],
   "source": [
    "BEST_MODEL_PATH = r\"path_to\\weights\\best.pt\""
   ]
  },
  {
   "cell_type": "code",
   "execution_count": 3,
   "metadata": {},
   "outputs": [],
   "source": [
    "model = YOLO(BEST_MODEL_PATH)"
   ]
  },
  {
   "cell_type": "code",
   "execution_count": 4,
   "metadata": {},
   "outputs": [],
   "source": [
    "def apply_segment(image_path, to_path):\n",
    "    results = model.predict(image_path)\n",
    "    # results[0].show()\n",
    "    try:\n",
    "        for result in results:\n",
    "            # Get the height and width of the original image\n",
    "            height, width = result.orig_img.shape[:2]\n",
    "\n",
    "            # Create the background\n",
    "            background = np.ones((height, width, 3), dtype=np.uint8) * 255\n",
    "\n",
    "            # Get all predicted masks\n",
    "            masks = result.masks.xy\n",
    "\n",
    "            # Get the original image\n",
    "            orig_img = result.orig_img\n",
    "\n",
    "            for mask in masks:\n",
    "                    mask = mask.astype(int)\n",
    "\n",
    "                    # Create a mask image\n",
    "                    mask_img = np.zeros_like(orig_img)\n",
    "\n",
    "                    # Fill the contour of the mask image in white\n",
    "                    cv2.fillPoly(mask_img, [mask], (255, 255, 255))\n",
    "\n",
    "                    # Extract the object from the original image using the mask\n",
    "                    masked_object = cv2.bitwise_and(orig_img, mask_img)\n",
    "\n",
    "                    # Copy the masked object to the background image\n",
    "                    background[mask_img == 255] = masked_object[mask_img == 255]\n",
    "    except:\n",
    "        print(\"ERROR:\", image_path)\n",
    "        return\n",
    "    cv2.imwrite(to_path, background)"
   ]
  },
  {
   "cell_type": "markdown",
   "metadata": {},
   "source": [
    "## Apply to all"
   ]
  },
  {
   "cell_type": "code",
   "execution_count": null,
   "metadata": {},
   "outputs": [],
   "source": [
    "path = r\"path_to_data\"\n",
    "# ALL_PATHS = [path + \"\\\\val\\\\\" +  folder for folder in list(os.walk(path + \"\\\\val\"))[0][1]] +  [path + \"\\\\train\\\\\" +  folder for folder in list(os.walk(path + \"\\\\val\"))[0][1]]\n",
    "ALL_PATHS = [path + \"\\\\\" +  folder for folder in list(os.walk(path))[0][1]]\n",
    "ALL_PATHS"
   ]
  },
  {
   "cell_type": "code",
   "execution_count": null,
   "metadata": {},
   "outputs": [],
   "source": [
    "for path in ALL_PATHS:\n",
    "    i = 0\n",
    "    filenames = [i for i in os.listdir(path) if i.endswith(('.png', '.jpg', '.jpeg'))]\n",
    "    for image in filenames:\n",
    "        image_path = os.path.join(path, image)\n",
    "        print(image_path)\n",
    "        apply_segment(\n",
    "            image_path, image_path)\n",
    "        i += 1\n",
    "    print(i, \" done in \", path)"
   ]
  },
  {
   "cell_type": "code",
   "execution_count": null,
   "metadata": {},
   "outputs": [],
   "source": []
  }
 ],
 "metadata": {
  "kernelspec": {
   "display_name": "Python 3",
   "language": "python",
   "name": "python3"
  },
  "language_info": {
   "codemirror_mode": {
    "name": "ipython",
    "version": 3
   },
   "file_extension": ".py",
   "mimetype": "text/x-python",
   "name": "python",
   "nbconvert_exporter": "python",
   "pygments_lexer": "ipython3",
   "version": "3.10.0"
  }
 },
 "nbformat": 4,
 "nbformat_minor": 2
}
