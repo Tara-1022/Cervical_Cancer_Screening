{
 "cells": [
  {
   "cell_type": "code",
   "execution_count": 1,
   "metadata": {},
   "outputs": [],
   "source": [
    "path = r\"path_to_data\"\n",
    "train_augment_to = some_number\n",
    "val_augment_to = some_number"
   ]
  },
  {
   "cell_type": "markdown",
   "metadata": {},
   "source": [
    "## functions"
   ]
  },
  {
   "cell_type": "code",
   "execution_count": 1,
   "metadata": {},
   "outputs": [],
   "source": [
    "import os\n",
    "from PIL import Image, ImageEnhance\n",
    "import random"
   ]
  },
  {
   "cell_type": "code",
   "execution_count": 14,
   "metadata": {},
   "outputs": [],
   "source": [
    "def show_all(image):\n",
    "    trans = image.transpose(Image.FLIP_LEFT_RIGHT)\n",
    "    trans.save(\"leftright.jpg\")\n",
    "    up = image.transpose(Image.FLIP_TOP_BOTTOM)\n",
    "    up.save(\"topdown.jpg\")\n",
    "    enhancer = ImageEnhance.Brightness(image)\n",
    "    bright = enhancer.enhance(1.5)\n",
    "    bright.save(\"randombright.jpg\")\n",
    "    enhancer = ImageEnhance.Contrast(image)\n",
    "    con = enhancer.enhance(0.5)\n",
    "    con.save(\"randomcontrast.jpg\")"
   ]
  },
  {
   "cell_type": "code",
   "execution_count": 12,
   "metadata": {},
   "outputs": [],
   "source": [
    "def augment_image(image):\n",
    "    if random.random() > 0.5:\n",
    "        image = image.transpose(Image.FLIP_LEFT_RIGHT)\n",
    "    if random.random() > 0.5:\n",
    "        image = image.transpose(Image.FLIP_TOP_BOTTOM)\n",
    "    if random.random() > 0.5:\n",
    "        enhancer = ImageEnhance.Brightness(image)\n",
    "        image = enhancer.enhance(random.uniform(0.5, 1.5))\n",
    "    if random.random() > 0.5:\n",
    "        enhancer = ImageEnhance.Contrast(image)\n",
    "        image = enhancer.enhance(random.uniform(0.5, 1.5))\n",
    "    return image"
   ]
  },
  {
   "cell_type": "code",
   "execution_count": 15,
   "metadata": {},
   "outputs": [],
   "source": [
    "path = r\"path_to\\image.jpg\"\n",
    "Image.open(path).show()\n",
    "show_all(Image.open(path))\n",
    "augment_image(Image.open(path)).show()"
   ]
  },
  {
   "cell_type": "code",
   "execution_count": 5,
   "metadata": {},
   "outputs": [],
   "source": [
    "def augment_images_in_folder(input_folder, to):\n",
    "    filenames = [i for i in os.listdir(input_folder) if i.endswith(('.png', '.jpg', '.jpeg'))]\n",
    "    all_names = set(filenames)\n",
    "    n = len(filenames)\n",
    "    print(\"Found\", n, \"images\")\n",
    "    i = 0\n",
    "    for _ in range(to - n):\n",
    "        file = random.choice(filenames)\n",
    "        img_path = os.path.join(input_folder, file)\n",
    "        image = Image.open(img_path)\n",
    "        augmented_image = augment_image(image)\n",
    "        new_name = f'aug_{file}'\n",
    "        while new_name in all_names:\n",
    "            new_name = \"a\" + new_name\n",
    "        augmented_image.save(os.path.join(input_folder, new_name))\n",
    "        all_names.add(new_name)\n",
    "        filenames.remove(file)\n",
    "        if len(filenames) == 0:\n",
    "            filenames = [i for i in os.listdir(input_folder) if i.endswith(('.png', '.jpg', '.jpeg'))]\n",
    "            print(\"Cycle after\", i+1, \"images, found\", len(filenames), \"images\")\n",
    "        i += 1\n",
    "    print(\"augmented\", i, \"images in\", input_folder)"
   ]
  },
  {
   "cell_type": "markdown",
   "metadata": {},
   "source": [
    "## do it for each folder in path"
   ]
  },
  {
   "cell_type": "code",
   "execution_count": null,
   "metadata": {},
   "outputs": [],
   "source": [
    "for folder in list(os.walk(path + \"\\\\val\"))[0][1]:\n",
    "    augment_images_in_folder(os.path.join(path + \"\\\\val\", folder), val_augment_to)"
   ]
  },
  {
   "cell_type": "code",
   "execution_count": null,
   "metadata": {},
   "outputs": [],
   "source": [
    "for folder in list(os.walk(path + \"\\\\train\"))[0][1]:\n",
    "    augment_images_in_folder(os.path.join(path + \"\\\\train\", folder), train_augment_to)"
   ]
  }
 ],
 "metadata": {
  "kernelspec": {
   "display_name": "Python 3",
   "language": "python",
   "name": "python3"
  },
  "language_info": {
   "codemirror_mode": {
    "name": "ipython",
    "version": 3
   },
   "file_extension": ".py",
   "mimetype": "text/x-python",
   "name": "python",
   "nbconvert_exporter": "python",
   "pygments_lexer": "ipython3",
   "version": "3.10.0"
  }
 },
 "nbformat": 4,
 "nbformat_minor": 2
}
