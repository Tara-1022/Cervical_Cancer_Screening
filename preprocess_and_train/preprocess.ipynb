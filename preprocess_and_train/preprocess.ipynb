{
 "cells": [
  {
   "cell_type": "code",
   "execution_count": 1,
   "metadata": {},
   "outputs": [],
   "source": [
    "import cv2\n",
    "import numpy as np\n",
    "import os"
   ]
  },
  {
   "cell_type": "code",
   "execution_count": 2,
   "metadata": {},
   "outputs": [],
   "source": [
    "def SR_remove(image):\n",
    "    orig = image\n",
    "    image = cv2.cvtColor(image, cv2.COLOR_BGR2GRAY)\n",
    "    _, image = cv2.threshold(image, 235, 255, cv2.THRESH_BINARY)\n",
    "    mask = image\n",
    "    srs = cv2.bitwise_and(orig, orig, mask=mask)\n",
    "    sub = orig - srs\n",
    "    lower_val = np.array([0,0,0])\n",
    "    upper_val = np.array([50,50,50])\n",
    "    hsv = cv2.cvtColor(sub, cv2.COLOR_BGR2HSV)\n",
    "    black_mask = cv2.inRange(hsv, lower_val, upper_val)\n",
    "    kernel = np.ones((9,9), np.uint8)\n",
    "    dilated = cv2.dilate(black_mask, kernel, iterations = 1)\n",
    "    return cv2.inpaint(orig, dilated, inpaintRadius=30, flags=cv2.INPAINT_TELEA)"
   ]
  },
  {
   "cell_type": "code",
   "execution_count": 3,
   "metadata": {},
   "outputs": [],
   "source": [
    "cv2.imshow( \"original\",\n",
    "        cv2.imread(\n",
    "        r\"path_to\\image.jpg\"\n",
    ")\n",
    ")\n",
    "cv2.imshow( \"sr remove\",\n",
    "    SR_remove(\n",
    "        cv2.imread(\n",
    "        r\"path_to\\image.jpg\"\n",
    "    )\n",
    ")\n",
    ")\n",
    "cv2.waitKey(0)\n",
    "cv2.destroyAllWindows()"
   ]
  },
  {
   "cell_type": "markdown",
   "metadata": {},
   "source": [
    "## Apply to all"
   ]
  },
  {
   "cell_type": "code",
   "execution_count": null,
   "metadata": {},
   "outputs": [],
   "source": [
    "path = r\"path_to_data\"\n",
    "# ALL_PATHS = [path + \"\\\\val\\\\\" +  folder for folder in list(os.walk(path + \"\\\\val\"))[0][1]] +  [path + \"\\\\train\\\\\" +  folder for folder in list(os.walk(path + \"\\\\val\"))[0][1]]\n",
    "ALL_PATHS = [path + \"\\\\\" +  folder for folder in list(os.walk(path))[0][1]]\n",
    "ALL_PATHS"
   ]
  },
  {
   "cell_type": "code",
   "execution_count": 6,
   "metadata": {},
   "outputs": [],
   "source": [
    "import os"
   ]
  },
  {
   "cell_type": "code",
   "execution_count": null,
   "metadata": {},
   "outputs": [],
   "source": [
    "for path in ALL_PATHS:\n",
    "    i = 0\n",
    "    filenames = [i for i in os.listdir(path) if i.endswith(('.png', '.jpg', '.jpeg'))]\n",
    "    for image in filenames:\n",
    "        image_path = os.path.join(path, image)\n",
    "        print(image_path)\n",
    "        sr_removed = SR_remove(\n",
    "            cv2.imread(image_path)\n",
    "            )\n",
    "        cv2.imwrite(image_path, sr_removed)\n",
    "        i += 1\n",
    "    print(i, \" done in \", path)"
   ]
  }
 ],
 "metadata": {
  "kernelspec": {
   "display_name": "Python 3",
   "language": "python",
   "name": "python3"
  },
  "language_info": {
   "codemirror_mode": {
    "name": "ipython",
    "version": 3
   },
   "file_extension": ".py",
   "mimetype": "text/x-python",
   "name": "python",
   "nbconvert_exporter": "python",
   "pygments_lexer": "ipython3",
   "version": "3.10.0"
  }
 },
 "nbformat": 4,
 "nbformat_minor": 2
}
